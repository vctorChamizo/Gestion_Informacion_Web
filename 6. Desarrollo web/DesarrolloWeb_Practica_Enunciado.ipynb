{
 "cells": [
  {
   "cell_type": "markdown",
   "metadata": {},
   "source": [
    "### Práctica sobre Desarrollo de aplicaciones web con Bottle"
   ]
  },
  {
   "cell_type": "markdown",
   "metadata": {},
   "source": [
    "Se desea ampliar la práctica 3 sobre los servicios web de la EMT creando una aplicación web que actúe a modo de capa de presentación. Para ello se va a utilizar Bottle.\n",
    "\n",
    "Se pide crear una aplicación web que tenga una página principal que mostrará un conjunto enlaces que representan los servicios que ofrece la aplicación[1 punto]:\n",
    "\n",
    "   * __Servicio 1__: Mostrar información sobre un museo. Cuando el usuario pulsa sobre el servicio 1 se le mostrará un formulario en el que dispondrá de un desplegable donde podrá seleccionar un museo. Cuando pulse sobre un botón de tipo \"Enviar\", se le mostrará una nueva página que mostrará la descripción del museo. En la página del formulario como en la del resultado habrá un enlace para volver a la página inicial[3 puntos]\n",
    "   \n",
    "   \n",
    "   * __Servicio 2__:Servicio que obtiene el itinerario óptimo para llegar desde una calle especificada mediante el nombre de la calle y su número hasta un museo seleccionado previamente usando los servicios de la EMT.Cuando el usuario pulsa sobre el servicio 2 se le mostrará un formulario en el que dispondrá de un desplegable donde podrá seleccionar un museo. Así mismo podrá introducir el nombre de una calle y un número, de manera que cuando pulse sobre un botón de \"Enviar\", se le mostrará una nueva página que mostrará la ruta en autobuses para llegar desde la calle indicada hasta el museo que ha seleccionado.En la página del formulario como en la del resultado habrá un enlace para volver a la página inicial[3 puntos]\n",
    "   \n",
    "   \n",
    "   * __Servicio 3__:Servicio de muestra los museos más cercanos a una calle especificada mediante el nombre de la calle y su número. Cuando el usuario pulsa sobre el servicio 3 se le mostrará un formulario donde podrá introducir el nombre de una calle y un número,y una distancia en km. Cuando pulse sobre un botón de \"Enviar\", se le mostrará una nueva página que mostrará la lista de los museos que se encuentran en un radio igual o menor a la distancia introducida con respecto a la calle especificada como entrada.En la página del formulario como en la del resultado habrá un enlace para volver a la página inicial[3 puntos]"
   ]
  },
  {
   "cell_type": "markdown",
   "metadata": {},
   "source": [
    "## Normas de entrega\n",
    "\n",
    "* Fecha tope de entrega: 01/11/2018\n",
    "* La entrega se realizará subiendo al campus virtual un notebook de Jupyter con la solución. El archivo tendrá como nombre DesarrolloWeb_GrupoX donde X será el número de grupo correspondiente."
   ]
  }
 ],
 "metadata": {
  "kernelspec": {
   "display_name": "Python 3",
   "language": "python",
   "name": "python3"
  },
  "language_info": {
   "codemirror_mode": {
    "name": "ipython",
    "version": 3
   },
   "file_extension": ".py",
   "mimetype": "text/x-python",
   "name": "python",
   "nbconvert_exporter": "python",
   "pygments_lexer": "ipython3",
   "version": "3.6.5"
  }
 },
 "nbformat": 4,
 "nbformat_minor": 2
}
