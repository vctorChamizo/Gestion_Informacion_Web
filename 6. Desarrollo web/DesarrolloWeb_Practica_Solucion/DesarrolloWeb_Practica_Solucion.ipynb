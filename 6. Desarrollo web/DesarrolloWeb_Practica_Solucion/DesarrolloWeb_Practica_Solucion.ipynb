{
 "cells": [
  {
   "cell_type": "code",
   "execution_count": 23,
   "metadata": {},
   "outputs": [],
   "source": [
    "import urllib.request # Para leer xml de los monumentos y edificios\n",
    "import requests\n",
    "import xml.sax\n",
    "import re\n",
    "import math\n",
    "from bottle import route, run, request, template"
   ]
  },
  {
   "cell_type": "markdown",
   "metadata": {},
   "source": [
    "### Creación de clases necesarias"
   ]
  },
  {
   "cell_type": "code",
   "execution_count": 2,
   "metadata": {},
   "outputs": [],
   "source": [
    "class Edificio:\n",
    "    def __init__(self):\n",
    "        self.idEntidad = \"\"\n",
    "        self.nombre = \"\"\n",
    "        self.descripcion = \"\"\n",
    "        self.horario = \"\"\n",
    "        self.equipamiento = \"\"\n",
    "        self.transporte = \"\"\n",
    "        self.accesibilidad = \"\"\n",
    "        self.url = \"\"\n",
    "        \n",
    "        #Campos localizacion\n",
    "        self.nombreVia = \"\"\n",
    "        self.claseVia = \"\"\n",
    "        self.numero = \"\"\n",
    "        self.localidad = \"\"\n",
    "        self.provincia = \"\"\n",
    "        self.codigoPostal = \"\"\n",
    "        self.barrio = \"\"\n",
    "        self.distrito = \"\"\n",
    "        self.coordenadaY = \"\"\n",
    "        self.coordenadaX = \"\"\n",
    "        \n",
    "        # Datos de contacto\n",
    "        self.telefono = \"\"\n",
    "        self.email = \"\"\n",
    "        \n",
    "        self.tipo = \"\"\n",
    "        \n",
    "    def __str__(self):\n",
    "        cadena = \"\"\n",
    "        cadena += \"Id de la entidad: \" + self.idEntidad + \"\\n\"\n",
    "        cadena += \"Nombre: \" + self.nombre + \"\\n\"\n",
    "        cadena += \"Descripcion: \" + self.descripcion + \"\\n\"\n",
    "        cadena += \"Horario: \" + self.horario + \"\\n\"\n",
    "        cadena += \"Equipamiento: \" + self.equipamiento + \"\\n\"\n",
    "        cadena += \"Transporte: \" + self.transporte + \"\\n\"\n",
    "        cadena += \"Accesibilidad: \" + self.accesibilidad + \"\\n\"\n",
    "        cadena += \"URL: \" + self.url + \"\\n\"\n",
    "        cadena += \"Direccion: \" + str(self.claseVia) + \" \" + str(self.nombreVia) + \"\\n\"\n",
    "        cadena += \"Numero: \" + self.numero + \"\\n\"\n",
    "        cadena += \"Localidad: \" + self.localidad + \"\\n\"\n",
    "        cadena += \"Provincia: \" + self.provincia + \"\\n\"\n",
    "        cadena += \"Codigo postal: \" + self.codigoPostal + \"\\n\"\n",
    "        cadena += \"Barrio: \" + self.barrio + \"\\n\"\n",
    "        cadena += \"Distrito: \" + self.distrito + \"\\n\"\n",
    "        cadena += \"Latitud: \" + self.coordenadaY + \"\\n\"\n",
    "        cadena += \"Longitud: \" + self.coordenadaX + \"\\n\"\n",
    "        cadena += \"Telefono: \" + self.telefono + \"\\n\"\n",
    "        \n",
    "        if self.email != \"\":\n",
    "            cadena += \"Email: \" + self.email + \"\\n\"\n",
    "            \n",
    "        return cadena"
   ]
  },
  {
   "cell_type": "code",
   "execution_count": 3,
   "metadata": {},
   "outputs": [],
   "source": [
    "class ManejadorCatalogo (xml.sax.ContentHandler):\n",
    "    \n",
    "    def __init__(self):\n",
    "        self.Datos = \"\"\n",
    "        self.edificios = []\n",
    "        self.edificio = Edificio()\n",
    "\n",
    "    def startElement(self, etiqueta, atributos):\n",
    "        if etiqueta == \"atributo\":\n",
    "            self.Datos = atributos[\"nombre\"]\n",
    "            \n",
    "    def endElement(self, etiqueta):\n",
    "        if etiqueta == \"contenido\":\n",
    "            self.edificios.append(self.edificio)\n",
    "            self.edificio = Edificio()\n",
    "        self.Datos = \"\"\n",
    "            \n",
    "    def characters(self, contenido):\n",
    "        if self.Datos == \"NOMBRE\":\n",
    "            self.edificio.nombre = contenido\n",
    "        elif self.Datos == \"ID-ENTIDAD\":\n",
    "            self.edificio.idEntidad = contenido\n",
    "        elif self.Datos == \"DESCRIPCION-ENTIDAD\":\n",
    "            self.edificio.descripcion = contenido\n",
    "        elif self.Datos == \"HORARIO\":\n",
    "            self.edificio.horario = contenido\n",
    "        elif self.Datos == \"EQUIPAMIENTO\":\n",
    "            self.edificio.equipamiento = contenido\n",
    "        elif self.Datos == \"TRANSPORTE\":\n",
    "            self.edificio.transporte = contenido\n",
    "        elif self.Datos == \"ACCESIBILIDAD\":\n",
    "            self.edificio.accesiblidad = contenido\n",
    "        elif self.Datos == \"CONTENT-URL\":\n",
    "            self.edificio.url = contenido\n",
    "        elif self.Datos == \"NOMBRE-VIA\":\n",
    "            self.edificio.nombreVia = contenido\n",
    "        elif self.Datos == \"CLASE-VIAL\":\n",
    "            self.edificio.claseVia = contenido\n",
    "        elif self.Datos == \"NUM\":\n",
    "            self.edificio.numero = contenido\n",
    "        elif self.Datos == \"LOCALIDAD\":\n",
    "            self.edificio.localidad = contenido\n",
    "        elif self.Datos == \"PROVINCIA\":\n",
    "            self.edificio.provincia = contenido\n",
    "        elif self.Datos == \"CODIGO-POSTAL\":\n",
    "            self.edificio.codigoPostal = contenido\n",
    "        elif self.Datos == \"BARRIO\":\n",
    "            self.edificio.barrio = contenido\n",
    "        elif self.Datos == \"DISTRITO\":\n",
    "            self.edificio.distrito = contenido\n",
    "        elif self.Datos == \"COORDENADA-X\":\n",
    "            self.edificio.coordenadaX = contenido\n",
    "        elif self.Datos == \"COORDENADA-Y\":\n",
    "            self.edificio.coordenadaY = contenido\n",
    "        elif self.Datos == \"LATITUD\":\n",
    "            self.edificio.coordenadaY = contenido\n",
    "        elif self.Datos == \"LONGITUD\":\n",
    "            self.edificio.coordenadaX = contenido\n",
    "        elif self.Datos == \"TELEFONO\":\n",
    "            self.edificio.telefono = contenido\n",
    "        elif self.Datos == \"EMAIL\":\n",
    "            self.edificio.email = contenido\n",
    "        elif self.Datos == \"TIPO\":\n",
    "            self.edificio.tipo = contenido"
   ]
  },
  {
   "cell_type": "code",
   "execution_count": 4,
   "metadata": {},
   "outputs": [],
   "source": [
    "class ManejadorCoordenadas (xml.sax.ContentHandler):\n",
    "    \n",
    "    def __init__(self):\n",
    "        self.Datos = \"\"\n",
    "        self.coordenadaX = \"\"\n",
    "        self.coordenadaY = \"\"\n",
    "        self.primerasCoordenadasEncontradas = True\n",
    "\n",
    "    def startElement(self, etiqueta, atributos):\n",
    "        if etiqueta == \"CoordinateX\":\n",
    "            self.Datos = \"CoordinateX\"\n",
    "        elif etiqueta == \"CoordinateY\":\n",
    "            self.Datos = \"CoordinateY\"\n",
    "            \n",
    "    def endElement(self, etiqueta):\n",
    "        if self.primerasCoordenadasEncontradas and self.coordenadaX != \"\" and self.coordenadaY != \"\":\n",
    "            self.primerasCoordenadasEncontradas = False\n",
    "            \n",
    "        self.Datos = \"\"\n",
    "            \n",
    "    def characters(self, contenido):\n",
    "        if self.primerasCoordenadasEncontradas:\n",
    "            if self.Datos == \"CoordinateX\":\n",
    "                self.coordenadaX = contenido\n",
    "            elif self.Datos == \"CoordinateY\":\n",
    "                self.coordenadaY = contenido"
   ]
  },
  {
   "cell_type": "code",
   "execution_count": 5,
   "metadata": {},
   "outputs": [],
   "source": [
    "class ManejadorRuta (xml.sax.ContentHandler):\n",
    "    \n",
    "    def __init__(self):\n",
    "        self.Datos = \"\"\n",
    "        self.fecha = \"\"\n",
    "        self.horaInicio = \"\"\n",
    "        self.horaEstimadaLlegada = \"\"\n",
    "        self.numeroDeTrasbordos = \"\"\n",
    "        self.duracion = \"\"\n",
    "        self.descripcionTextual = []\n",
    "\n",
    "    def startElement(self, etiqueta, atributos):\n",
    "        if etiqueta == \"DescriptionDate\":\n",
    "            self.Datos = \"fecha\"\n",
    "        elif etiqueta == \"DescriptionInitTime\":\n",
    "            self.Datos = \"horaInicio\"\n",
    "        elif etiqueta == \"DescriptionEstimateTimeArrival\":\n",
    "            self.Datos = \"horaEstimadaLlegada\"\n",
    "        elif etiqueta == \"Transfers\":\n",
    "            self.Datos = \"numeroDeTrasbordos\"\n",
    "        elif etiqueta == \"LongJourney\":\n",
    "            self.Datos = \"duracion\"\n",
    "        elif etiqueta == \"RouteDescription\":\n",
    "            self.Datos = \"descripcionDeLaRuta\"\n",
    "            \n",
    "    def endElement(self, etiqueta):\n",
    "        self.Datos = \"\"\n",
    "            \n",
    "    def characters(self, contenido):\n",
    "        if self.Datos == \"fecha\":\n",
    "            self.fecha = contenido\n",
    "        elif self.Datos == \"horaInicio\":\n",
    "            self.horaInicio = contenido\n",
    "        elif self.Datos == \"horaEstimadaLlegada\":\n",
    "            self.horaEstimadaLlegada = contenido\n",
    "        elif self.Datos == \"numeroDeTrasbordos\":\n",
    "            self.numeroDeTrasbordos = contenido\n",
    "        elif self.Datos == \"duracion\":\n",
    "            self.duracion = contenido\n",
    "        elif self.Datos == \"descripcionDeLaRuta\":\n",
    "            self.descripcionTextual.append(contenido)"
   ]
  },
  {
   "cell_type": "markdown",
   "metadata": {},
   "source": [
    "### Descarga y parseo del XML que contiene edificios y monumentos"
   ]
  },
  {
   "cell_type": "code",
   "execution_count": 9,
   "metadata": {},
   "outputs": [],
   "source": [
    "def descargarCatalogo():\n",
    "    x = urllib.request.urlopen('https://datos.madrid.es/egob/catalogo/208844-0-monumentos-edificios.xml')\n",
    "    a = x.read()\n",
    "    a = a.decode(\"utf-8\")\n",
    "    prueba = open(\"catalogo.xml\",\"w\")\n",
    "    prueba.write(str(a))\n",
    "    prueba.close()"
   ]
  },
  {
   "cell_type": "code",
   "execution_count": 10,
   "metadata": {
    "scrolled": true
   },
   "outputs": [],
   "source": [
    "def parsearCatalogo():\n",
    "    parser = xml.sax.make_parser()\n",
    "    parser.setFeature(xml.sax.handler.feature_namespaces,0)\n",
    "    manejadorCatalogo = ManejadorCatalogo()\n",
    "    parser.setContentHandler(manejadorCatalogo)\n",
    "    parser.parse(\"catalogo.xml\")\n",
    "    return manejadorCatalogo.edificios"
   ]
  },
  {
   "cell_type": "code",
   "execution_count": 13,
   "metadata": {},
   "outputs": [],
   "source": [
    "descargarCatalogo()"
   ]
  },
  {
   "cell_type": "code",
   "execution_count": 14,
   "metadata": {},
   "outputs": [
    {
     "ename": "SAXParseException",
     "evalue": "catalogo.xml:15:32: not well-formed (invalid token)",
     "output_type": "error",
     "traceback": [
      "\u001b[1;31m---------------------------------------------------------------------------\u001b[0m",
      "\u001b[1;31mExpatError\u001b[0m                                Traceback (most recent call last)",
      "\u001b[1;32mC:\\Program Files (x86)\\Anaconda\\lib\\xml\\sax\\expatreader.py\u001b[0m in \u001b[0;36mfeed\u001b[1;34m(self, data, isFinal)\u001b[0m\n\u001b[0;32m    216\u001b[0m             \u001b[1;31m# except when invoked from close.\u001b[0m\u001b[1;33m\u001b[0m\u001b[1;33m\u001b[0m\u001b[0m\n\u001b[1;32m--> 217\u001b[1;33m             \u001b[0mself\u001b[0m\u001b[1;33m.\u001b[0m\u001b[0m_parser\u001b[0m\u001b[1;33m.\u001b[0m\u001b[0mParse\u001b[0m\u001b[1;33m(\u001b[0m\u001b[0mdata\u001b[0m\u001b[1;33m,\u001b[0m \u001b[0misFinal\u001b[0m\u001b[1;33m)\u001b[0m\u001b[1;33m\u001b[0m\u001b[0m\n\u001b[0m\u001b[0;32m    218\u001b[0m         \u001b[1;32mexcept\u001b[0m \u001b[0mexpat\u001b[0m\u001b[1;33m.\u001b[0m\u001b[0merror\u001b[0m \u001b[1;32mas\u001b[0m \u001b[0me\u001b[0m\u001b[1;33m:\u001b[0m\u001b[1;33m\u001b[0m\u001b[0m\n",
      "\u001b[1;31mExpatError\u001b[0m: not well-formed (invalid token): line 15, column 32",
      "\nDuring handling of the above exception, another exception occurred:\n",
      "\u001b[1;31mSAXParseException\u001b[0m                         Traceback (most recent call last)",
      "\u001b[1;32m<ipython-input-14-a39d377a3008>\u001b[0m in \u001b[0;36m<module>\u001b[1;34m()\u001b[0m\n\u001b[1;32m----> 1\u001b[1;33m \u001b[0medificios\u001b[0m \u001b[1;33m=\u001b[0m \u001b[0mparsearCatalogo\u001b[0m\u001b[1;33m(\u001b[0m\u001b[1;33m)\u001b[0m\u001b[1;33m\u001b[0m\u001b[0m\n\u001b[0m",
      "\u001b[1;32m<ipython-input-10-3ebdfb02cd72>\u001b[0m in \u001b[0;36mparsearCatalogo\u001b[1;34m()\u001b[0m\n\u001b[0;32m      4\u001b[0m     \u001b[0mmanejadorCatalogo\u001b[0m \u001b[1;33m=\u001b[0m \u001b[0mManejadorCatalogo\u001b[0m\u001b[1;33m(\u001b[0m\u001b[1;33m)\u001b[0m\u001b[1;33m\u001b[0m\u001b[0m\n\u001b[0;32m      5\u001b[0m     \u001b[0mparser\u001b[0m\u001b[1;33m.\u001b[0m\u001b[0msetContentHandler\u001b[0m\u001b[1;33m(\u001b[0m\u001b[0mmanejadorCatalogo\u001b[0m\u001b[1;33m)\u001b[0m\u001b[1;33m\u001b[0m\u001b[0m\n\u001b[1;32m----> 6\u001b[1;33m     \u001b[0mparser\u001b[0m\u001b[1;33m.\u001b[0m\u001b[0mparse\u001b[0m\u001b[1;33m(\u001b[0m\u001b[1;34m\"catalogo.xml\"\u001b[0m\u001b[1;33m)\u001b[0m\u001b[1;33m\u001b[0m\u001b[0m\n\u001b[0m\u001b[0;32m      7\u001b[0m     \u001b[1;32mreturn\u001b[0m \u001b[0mmanejadorCatalogo\u001b[0m\u001b[1;33m.\u001b[0m\u001b[0medificios\u001b[0m\u001b[1;33m\u001b[0m\u001b[0m\n",
      "\u001b[1;32mC:\\Program Files (x86)\\Anaconda\\lib\\xml\\sax\\expatreader.py\u001b[0m in \u001b[0;36mparse\u001b[1;34m(self, source)\u001b[0m\n\u001b[0;32m    109\u001b[0m             \u001b[0mself\u001b[0m\u001b[1;33m.\u001b[0m\u001b[0mreset\u001b[0m\u001b[1;33m(\u001b[0m\u001b[1;33m)\u001b[0m\u001b[1;33m\u001b[0m\u001b[0m\n\u001b[0;32m    110\u001b[0m             \u001b[0mself\u001b[0m\u001b[1;33m.\u001b[0m\u001b[0m_cont_handler\u001b[0m\u001b[1;33m.\u001b[0m\u001b[0msetDocumentLocator\u001b[0m\u001b[1;33m(\u001b[0m\u001b[0mExpatLocator\u001b[0m\u001b[1;33m(\u001b[0m\u001b[0mself\u001b[0m\u001b[1;33m)\u001b[0m\u001b[1;33m)\u001b[0m\u001b[1;33m\u001b[0m\u001b[0m\n\u001b[1;32m--> 111\u001b[1;33m             \u001b[0mxmlreader\u001b[0m\u001b[1;33m.\u001b[0m\u001b[0mIncrementalParser\u001b[0m\u001b[1;33m.\u001b[0m\u001b[0mparse\u001b[0m\u001b[1;33m(\u001b[0m\u001b[0mself\u001b[0m\u001b[1;33m,\u001b[0m \u001b[0msource\u001b[0m\u001b[1;33m)\u001b[0m\u001b[1;33m\u001b[0m\u001b[0m\n\u001b[0m\u001b[0;32m    112\u001b[0m         \u001b[1;32mexcept\u001b[0m\u001b[1;33m:\u001b[0m\u001b[1;33m\u001b[0m\u001b[0m\n\u001b[0;32m    113\u001b[0m             \u001b[1;31m# bpo-30264: Close the source on error to not leak resources:\u001b[0m\u001b[1;33m\u001b[0m\u001b[1;33m\u001b[0m\u001b[0m\n",
      "\u001b[1;32mC:\\Program Files (x86)\\Anaconda\\lib\\xml\\sax\\xmlreader.py\u001b[0m in \u001b[0;36mparse\u001b[1;34m(self, source)\u001b[0m\n\u001b[0;32m    123\u001b[0m         \u001b[0mbuffer\u001b[0m \u001b[1;33m=\u001b[0m \u001b[0mfile\u001b[0m\u001b[1;33m.\u001b[0m\u001b[0mread\u001b[0m\u001b[1;33m(\u001b[0m\u001b[0mself\u001b[0m\u001b[1;33m.\u001b[0m\u001b[0m_bufsize\u001b[0m\u001b[1;33m)\u001b[0m\u001b[1;33m\u001b[0m\u001b[0m\n\u001b[0;32m    124\u001b[0m         \u001b[1;32mwhile\u001b[0m \u001b[0mbuffer\u001b[0m\u001b[1;33m:\u001b[0m\u001b[1;33m\u001b[0m\u001b[0m\n\u001b[1;32m--> 125\u001b[1;33m             \u001b[0mself\u001b[0m\u001b[1;33m.\u001b[0m\u001b[0mfeed\u001b[0m\u001b[1;33m(\u001b[0m\u001b[0mbuffer\u001b[0m\u001b[1;33m)\u001b[0m\u001b[1;33m\u001b[0m\u001b[0m\n\u001b[0m\u001b[0;32m    126\u001b[0m             \u001b[0mbuffer\u001b[0m \u001b[1;33m=\u001b[0m \u001b[0mfile\u001b[0m\u001b[1;33m.\u001b[0m\u001b[0mread\u001b[0m\u001b[1;33m(\u001b[0m\u001b[0mself\u001b[0m\u001b[1;33m.\u001b[0m\u001b[0m_bufsize\u001b[0m\u001b[1;33m)\u001b[0m\u001b[1;33m\u001b[0m\u001b[0m\n\u001b[0;32m    127\u001b[0m         \u001b[0mself\u001b[0m\u001b[1;33m.\u001b[0m\u001b[0mclose\u001b[0m\u001b[1;33m(\u001b[0m\u001b[1;33m)\u001b[0m\u001b[1;33m\u001b[0m\u001b[0m\n",
      "\u001b[1;32mC:\\Program Files (x86)\\Anaconda\\lib\\xml\\sax\\expatreader.py\u001b[0m in \u001b[0;36mfeed\u001b[1;34m(self, data, isFinal)\u001b[0m\n\u001b[0;32m    219\u001b[0m             \u001b[0mexc\u001b[0m \u001b[1;33m=\u001b[0m \u001b[0mSAXParseException\u001b[0m\u001b[1;33m(\u001b[0m\u001b[0mexpat\u001b[0m\u001b[1;33m.\u001b[0m\u001b[0mErrorString\u001b[0m\u001b[1;33m(\u001b[0m\u001b[0me\u001b[0m\u001b[1;33m.\u001b[0m\u001b[0mcode\u001b[0m\u001b[1;33m)\u001b[0m\u001b[1;33m,\u001b[0m \u001b[0me\u001b[0m\u001b[1;33m,\u001b[0m \u001b[0mself\u001b[0m\u001b[1;33m)\u001b[0m\u001b[1;33m\u001b[0m\u001b[0m\n\u001b[0;32m    220\u001b[0m             \u001b[1;31m# FIXME: when to invoke error()?\u001b[0m\u001b[1;33m\u001b[0m\u001b[1;33m\u001b[0m\u001b[0m\n\u001b[1;32m--> 221\u001b[1;33m             \u001b[0mself\u001b[0m\u001b[1;33m.\u001b[0m\u001b[0m_err_handler\u001b[0m\u001b[1;33m.\u001b[0m\u001b[0mfatalError\u001b[0m\u001b[1;33m(\u001b[0m\u001b[0mexc\u001b[0m\u001b[1;33m)\u001b[0m\u001b[1;33m\u001b[0m\u001b[0m\n\u001b[0m\u001b[0;32m    222\u001b[0m \u001b[1;33m\u001b[0m\u001b[0m\n\u001b[0;32m    223\u001b[0m     \u001b[1;32mdef\u001b[0m \u001b[0m_close_source\u001b[0m\u001b[1;33m(\u001b[0m\u001b[0mself\u001b[0m\u001b[1;33m)\u001b[0m\u001b[1;33m:\u001b[0m\u001b[1;33m\u001b[0m\u001b[0m\n",
      "\u001b[1;32mC:\\Program Files (x86)\\Anaconda\\lib\\xml\\sax\\handler.py\u001b[0m in \u001b[0;36mfatalError\u001b[1;34m(self, exception)\u001b[0m\n\u001b[0;32m     36\u001b[0m     \u001b[1;32mdef\u001b[0m \u001b[0mfatalError\u001b[0m\u001b[1;33m(\u001b[0m\u001b[0mself\u001b[0m\u001b[1;33m,\u001b[0m \u001b[0mexception\u001b[0m\u001b[1;33m)\u001b[0m\u001b[1;33m:\u001b[0m\u001b[1;33m\u001b[0m\u001b[0m\n\u001b[0;32m     37\u001b[0m         \u001b[1;34m\"Handle a non-recoverable error.\"\u001b[0m\u001b[1;33m\u001b[0m\u001b[0m\n\u001b[1;32m---> 38\u001b[1;33m         \u001b[1;32mraise\u001b[0m \u001b[0mexception\u001b[0m\u001b[1;33m\u001b[0m\u001b[0m\n\u001b[0m\u001b[0;32m     39\u001b[0m \u001b[1;33m\u001b[0m\u001b[0m\n\u001b[0;32m     40\u001b[0m     \u001b[1;32mdef\u001b[0m \u001b[0mwarning\u001b[0m\u001b[1;33m(\u001b[0m\u001b[0mself\u001b[0m\u001b[1;33m,\u001b[0m \u001b[0mexception\u001b[0m\u001b[1;33m)\u001b[0m\u001b[1;33m:\u001b[0m\u001b[1;33m\u001b[0m\u001b[0m\n",
      "\u001b[1;31mSAXParseException\u001b[0m: catalogo.xml:15:32: not well-formed (invalid token)"
     ]
    }
   ],
   "source": [
    "edificios = parsearCatalogo()"
   ]
  },
  {
   "cell_type": "markdown",
   "metadata": {},
   "source": [
    "### Acceso a los servicios EMT"
   ]
  },
  {
   "cell_type": "code",
   "execution_count": 15,
   "metadata": {},
   "outputs": [],
   "source": [
    "idCliente = 'WEB.SERV.semart12@ucm.es'\n",
    "passKey = '1CF11EBE-019D-4BDB-80AF-D9814F4B1E85' "
   ]
  },
  {
   "cell_type": "code",
   "execution_count": 16,
   "metadata": {},
   "outputs": [],
   "source": [
    "def obtenerCoordenadasDe(calle, numero):\n",
    "    datos = {\n",
    "        'idClient': idCliente,\n",
    "        'PassKey': passKey,\n",
    "        'description': calle,\n",
    "        'streetNumber': str(numero),\n",
    "        'Radius':'',\n",
    "        'Stops':'',\n",
    "        'statistics':'',\n",
    "        'cultureInfo':''\n",
    "    }\n",
    " \n",
    "    url = 'https://servicios.emtmadrid.es:8443/geo/servicegeo.asmx/GetStreet'\n",
    "    response = requests.post(url, data=datos)\n",
    "    handler = ManejadorCoordenadas()\n",
    "    xml.sax.parseString(response.text, handler)\n",
    "    \n",
    "    return handler.coordenadaX, handler.coordenadaY"
   ]
  },
  {
   "cell_type": "code",
   "execution_count": 17,
   "metadata": {},
   "outputs": [],
   "source": [
    "def calcularRuta(coordenadaXOrigen, coordenadaYOrigen, coordenadaXDestino, coordenadaYDestino):\n",
    "    datos = {\n",
    "        'idClient': idCliente,\n",
    "        'PassKey': passKey,\n",
    "        'statistics':'',\n",
    "        'cultureInfo':'',\n",
    "        'coordinateXFrom': coordenadaXOrigen,\n",
    "        'coordinateYFrom': coordenadaYOrigen,\n",
    "        'originName':'',\n",
    "        'coordinateXTo': coordenadaXDestino,\n",
    "        'coordinateYTo': coordenadaYDestino,\n",
    "        'destinationName':'',\n",
    "        'criteriaSelection':'11',\n",
    "        'day':'',\n",
    "        'month':'',\n",
    "        'year':'',\n",
    "        'hour':'',\n",
    "        'minute':'',\n",
    "        'GenerarAudio':''\n",
    "    }\n",
    " \n",
    "    url = 'https://servicios.emtmadrid.es:8443/servicemedia/servicemedia.asmx/GetStreetRoute'\n",
    "    response = requests.post(url, data=datos)\n",
    "    handler = ManejadorRuta()\n",
    "    xml.sax.parseString(response.text, handler)\n",
    "    return handler"
   ]
  },
  {
   "cell_type": "markdown",
   "metadata": {},
   "source": [
    "### Funciones auxiliares"
   ]
  },
  {
   "cell_type": "code",
   "execution_count": 18,
   "metadata": {},
   "outputs": [],
   "source": [
    "def applyRegex(cadena):\n",
    "    # Para que la fecha y la hora de inicio del itinerario se muestren bien\n",
    "    m = re.search('\\w+:(\\d.+$)', cadena)\n",
    "    return m.group(1)"
   ]
  },
  {
   "cell_type": "code",
   "execution_count": 19,
   "metadata": {},
   "outputs": [],
   "source": [
    "# Latitud = coordenada Y \n",
    "# Longitud = coordenada X\n",
    "def calculoDistanciaHaversine(lat1, lon1, lat2, lon2):\n",
    "    rad = math.pi / 180\n",
    "    dlat = lat2 - lat1\n",
    "    dlon = lon2 - lon1\n",
    "    R = 6372.795477598\n",
    "    a = (math.sin(rad*dlat/2))**2 + math.cos(rad*lat1)*math.cos(rad*lat2)*(math.sin(rad*dlon/2))**2\n",
    "    distancia = 2 * R * math.asin(math.sqrt(a))\n",
    "    return distancia"
   ]
  },
  {
   "cell_type": "code",
   "execution_count": 20,
   "metadata": {},
   "outputs": [],
   "source": [
    "def obtenerEdificiosCercanos(coordenadaXOrigen, coordenadaYOrigen, distanciaMaxima):\n",
    "    edificiosCercanos = []\n",
    "    \n",
    "    for edificio in edificios:    \n",
    "        if float(distanciaMaxima) >= calculoDistanciaHaversine(float(coordenadaYOrigen), float(coordenadaXOrigen), float(edificio.coordenadaY), float(edificio.coordenadaX)):\n",
    "            edificiosCercanos.append(edificio)\n",
    "    \n",
    "    return edificiosCercanos"
   ]
  },
  {
   "cell_type": "markdown",
   "metadata": {},
   "source": [
    "### Mostrar al usuario los 3 servicios"
   ]
  },
  {
   "cell_type": "code",
   "execution_count": 21,
   "metadata": {},
   "outputs": [],
   "source": [
    "@route ('/')\n",
    "def index():\n",
    "    return template(\"index\")"
   ]
  },
  {
   "cell_type": "markdown",
   "metadata": {},
   "source": [
    "### Rutas del servicio 1"
   ]
  },
  {
   "cell_type": "code",
   "execution_count": 22,
   "metadata": {},
   "outputs": [],
   "source": [
    "@route ('/mostrar_museos')\n",
    "def mostrarMuseos():\n",
    "    return template(\"museos\", edificios=edificios)"
   ]
  },
  {
   "cell_type": "code",
   "execution_count": null,
   "metadata": {},
   "outputs": [],
   "source": [
    "@route ('/mostrar_museo_seleccionado', method='POST')\n",
    "def mostrarMuseoSeleccionado():\n",
    "    indiceDelMuseo = request.forms.get('museo')\n",
    "    return template(\"mostrar_museo\", museo=edificios[int(indiceDelMuseo) - 1])"
   ]
  },
  {
   "cell_type": "markdown",
   "metadata": {},
   "source": [
    "### Rutas del servicio 2"
   ]
  },
  {
   "cell_type": "code",
   "execution_count": null,
   "metadata": {},
   "outputs": [],
   "source": [
    "@route ('/obtener_datos_calculo_itinerario')\n",
    "def obtencionDeDatosParaElCalculoDelItinerarioOptimo():\n",
    "    return template(\"obtener_datos_calculo_itinerario\", edificios=edificios)"
   ]
  },
  {
   "cell_type": "code",
   "execution_count": null,
   "metadata": {},
   "outputs": [],
   "source": [
    "@route ('/mostrar_itinerario', method='POST')\n",
    "def mostrarItinerarioOptimo():\n",
    "    calle = request.forms.get('calle')\n",
    "    numero = request.forms.get('numero')\n",
    "    indiceDelEdificio = request.forms.get('edificio')\n",
    "    \n",
    "    coordenadaXOrigen, coordenadaYOrigen = obtenerCoordenadasDe(calle, numero)\n",
    "    edificio = edificios[int(indiceDelEdificio) - 1]\n",
    "    ruta = calcularRuta(coordenadaXOrigen, coordenadaYOrigen, edificio.coordenadaX, edificio.coordenadaY)\n",
    "    ruta.fecha = applyRegex(ruta.fecha)\n",
    "    ruta.horaInicio = applyRegex(ruta.horaInicio)\n",
    "        \n",
    "    return template(\"mostrar_itinerario_optimo\", ruta=ruta)"
   ]
  },
  {
   "cell_type": "markdown",
   "metadata": {},
   "source": [
    "### Rutas del servicio 3"
   ]
  },
  {
   "cell_type": "code",
   "execution_count": null,
   "metadata": {},
   "outputs": [],
   "source": [
    "@route ('/obtener_datos_museos_cercanos')\n",
    "def obtenerDatosDeMuseosCercanos():\n",
    "    return template(\"obtener_datos_museos_cercanos\")"
   ]
  },
  {
   "cell_type": "code",
   "execution_count": null,
   "metadata": {},
   "outputs": [],
   "source": [
    "@route ('/mostrar_edificios_cercanos', method='POST')\n",
    "def mostrarMuseosCercanos():\n",
    "    calle = request.forms.get('calle')\n",
    "    numero = request.forms.get('numero')\n",
    "    distanciaMaxima = request.forms.get('distancia')\n",
    "    \n",
    "    coordenadaXOrigen, coordenadaYOrigen = obtenerCoordenadasDe(calle, numero)\n",
    "    edificiosCercanos = obtenerEdificiosCercanos(coordenadaXOrigen, coordenadaYOrigen, distanciaMaxima)\n",
    "    return template(\"mostrar_edificios_cercanos\", edificios=edificiosCercanos)"
   ]
  },
  {
   "cell_type": "code",
   "execution_count": null,
   "metadata": {
    "scrolled": true
   },
   "outputs": [
    {
     "name": "stderr",
     "output_type": "stream",
     "text": [
      "Bottle v0.12.13 server starting up (using WSGIRefServer())...\n",
      "Listening on http://0.0.0.0:8080/\n",
      "Hit Ctrl-C to quit.\n",
      "\n",
      "127.0.0.1 - - [01/Nov/2018 19:04:55] \"GET / HTTP/1.1\" 200 1592\n",
      "127.0.0.1 - - [01/Nov/2018 19:04:55] \"GET /static/style/style.css HTTP/1.1\" 404 762\n",
      "127.0.0.1 - - [01/Nov/2018 19:04:56] \"GET /static/style/style.css HTTP/1.1\" 404 762\n",
      "127.0.0.1 - - [01/Nov/2018 19:04:56] \"GET /mostrar_museos HTTP/1.1\" 200 9421\n",
      "127.0.0.1 - - [01/Nov/2018 19:04:57] \"GET /static/style/style.css HTTP/1.1\" 404 762\n",
      "127.0.0.1 - - [01/Nov/2018 19:04:57] \"GET / HTTP/1.1\" 200 1592\n",
      "127.0.0.1 - - [01/Nov/2018 19:04:57] \"GET /obtener_datos_calculo_itinerario HTTP/1.1\" 200 10046\n",
      "127.0.0.1 - - [01/Nov/2018 19:04:57] \"GET /static/style/style.css HTTP/1.1\" 404 762\n",
      "127.0.0.1 - - [01/Nov/2018 19:04:57] \"GET /favicon.ico HTTP/1.1\" 404 740\n",
      "127.0.0.1 - - [01/Nov/2018 19:04:58] \"GET / HTTP/1.1\" 200 1592\n",
      "127.0.0.1 - - [01/Nov/2018 19:04:58] \"GET /static/style/style.css HTTP/1.1\" 404 762\n",
      "127.0.0.1 - - [01/Nov/2018 19:04:58] \"GET /obtener_datos_museos_cercanos HTTP/1.1\" 200 2520\n",
      "127.0.0.1 - - [01/Nov/2018 19:04:58] \"GET /static/style/style.css HTTP/1.1\" 404 762\n",
      "127.0.0.1 - - [01/Nov/2018 19:04:59] \"GET / HTTP/1.1\" 200 1592\n",
      "127.0.0.1 - - [01/Nov/2018 19:04:59] \"GET /static/style/style.css HTTP/1.1\" 404 762\n",
      "127.0.0.1 - - [01/Nov/2018 19:05:00] \"GET /static/style/style.css HTTP/1.1\" 404 762\n",
      "127.0.0.1 - - [01/Nov/2018 19:05:00] \"GET /mostrar_museos HTTP/1.1\" 200 9421\n",
      "127.0.0.1 - - [01/Nov/2018 19:05:00] \"POST /mostrar_museo_seleccionado HTTP/1.1\" 200 1587\n",
      "127.0.0.1 - - [01/Nov/2018 19:05:00] \"GET /static/style.css HTTP/1.1\" 404 750\n",
      "127.0.0.1 - - [01/Nov/2018 19:05:01] \"GET /static/style/style.css HTTP/1.1\" 404 762\n",
      "127.0.0.1 - - [01/Nov/2018 19:05:01] \"GET / HTTP/1.1\" 200 1592\n",
      "127.0.0.1 - - [01/Nov/2018 19:05:02] \"GET /static/style/style.css HTTP/1.1\" 404 762\n",
      "127.0.0.1 - - [01/Nov/2018 19:05:02] \"GET /mostrar_museos HTTP/1.1\" 200 9421\n",
      "127.0.0.1 - - [01/Nov/2018 19:05:03] \"POST /mostrar_museo_seleccionado HTTP/1.1\" 200 1652\n",
      "127.0.0.1 - - [01/Nov/2018 19:05:03] \"GET /static/style.css HTTP/1.1\" 404 750\n",
      "127.0.0.1 - - [01/Nov/2018 19:05:04] \"GET / HTTP/1.1\" 200 1592\n",
      "127.0.0.1 - - [01/Nov/2018 19:05:04] \"GET /static/style/style.css HTTP/1.1\" 404 762\n",
      "127.0.0.1 - - [01/Nov/2018 19:05:05] \"GET /obtener_datos_calculo_itinerario HTTP/1.1\" 200 10046\n",
      "127.0.0.1 - - [01/Nov/2018 19:05:05] \"GET /static/style/style.css HTTP/1.1\" 404 762\n",
      "127.0.0.1 - - [01/Nov/2018 19:05:25] \"POST /mostrar_itinerario HTTP/1.1\" 200 1899\n",
      "127.0.0.1 - - [01/Nov/2018 19:05:25] \"GET /static/style/style.css HTTP/1.1\" 404 762\n",
      "127.0.0.1 - - [01/Nov/2018 19:05:25] \"GET /favicon.ico HTTP/1.1\" 404 740\n",
      "127.0.0.1 - - [01/Nov/2018 19:06:30] \"GET /static/style/style.css HTTP/1.1\" 404 762\n",
      "127.0.0.1 - - [01/Nov/2018 19:06:30] \"GET / HTTP/1.1\" 200 1592\n",
      "127.0.0.1 - - [01/Nov/2018 19:06:32] \"GET /obtener_datos_museos_cercanos HTTP/1.1\" 200 2520\n",
      "127.0.0.1 - - [01/Nov/2018 19:06:32] \"GET /static/style/style.css HTTP/1.1\" 404 762\n"
     ]
    }
   ],
   "source": [
    "run(host='0.0.0.0', port=8080)"
   ]
  }
 ],
 "metadata": {
  "kernelspec": {
   "display_name": "Python 3",
   "language": "python",
   "name": "python3"
  },
  "language_info": {
   "codemirror_mode": {
    "name": "ipython",
    "version": 3
   },
   "file_extension": ".py",
   "mimetype": "text/x-python",
   "name": "python",
   "nbconvert_exporter": "python",
   "pygments_lexer": "ipython3",
   "version": "3.6.5"
  }
 },
 "nbformat": 4,
 "nbformat_minor": 2
}
