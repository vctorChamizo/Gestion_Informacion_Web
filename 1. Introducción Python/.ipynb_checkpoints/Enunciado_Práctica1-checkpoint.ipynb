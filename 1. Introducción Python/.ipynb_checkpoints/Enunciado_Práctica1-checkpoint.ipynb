{
 "cells": [
  {
   "cell_type": "markdown",
   "metadata": {},
   "source": [
    "### Práctica de Introducción al lenguaje Python"
   ]
  },
  {
   "cell_type": "markdown",
   "metadata": {},
   "source": [
    "#### Ejercicio 1[3 puntos]\n",
    "Considerar el problema de la subcadena común maxima de dos cadenas. Se pide crear un programa en Python que dadasdos cadenas como entrada devuelva la subcadena común a ambas que sea lo más grande posible. Por ejemplo entre \"análisis de algoritmos\" y \"algo\", la subcadena común sería \"algo\".\n",
    "Podéis consultar la siguiente página donde existe documentación sobre los algoritmos aplicables:\n",
    "\n",
    "https://users.dcc.uchile.cl/~bebustos/apuntes/cc3001/BusqTexto/"
   ]
  },
  {
   "cell_type": "markdown",
   "metadata": {},
   "source": [
    "#### Ejercicio 2[3,5 puntos]\n",
    "Considera el problema de la integración numérica de una función entre dos puntos a y b. La integración se puede calcular como el sumatorio del área de un conjunto de rectangulos. Si n es el número de rectángulos que se usan para realizar la aproximación, entonces la integral de una función f entre los puntos a y b se puede aproximar por la fórmula:\n",
    "\n",
    "$$     \n",
    "\\sum_{i=0}^{n-1}(\\frac{b-a}{n})* f(a+ i* (\\frac{b-a}{n}))\n",
    "$$\n",
    "\n",
    "Se pide:\n",
    "* Crear una función genérica que tome como entrada una función, el número de rectangulos n, y los puntos a y b, y devuelva como el resultado la integral numérica de la función entre los puntos a y b. \n",
    "\n",
    "* Crear una función que realice el cálculo de la función $$f(x)=1+x+x^{2}+x^{3}+x^{4}$$\n",
    "\n",
    "* Calcular usando las funciones anteriores, la integral de la función anterior entre los puntos 2 y 7 usando 5 rectángulos.\n",
    "\n",
    "$$ \\int_{2}^{7} 1+x+x^{2}+x^{3}+x^{4} dx $$"
   ]
  },
  {
   "cell_type": "markdown",
   "metadata": {},
   "source": [
    "#### Ejercicio 3[3,5 puntos]\n",
    "Implementar un programa en Python tal que tomando como entrada el nombre de un archivo de texto, realice un análisis del contenido del mismo y almacene el resultado en otro archivo de salida. El informe debe indicar:\n",
    "* Número de palabras de cada longitud que hay en el texto.\n",
    "* Número de líneas que hay en el archivo y longitud de cada línea de texto.\n",
    "* Número de palabras que hay en el archivo. Observar que hay que eliminar los separadores que aparecen en el texto.\n",
    "* Número de caracteres que hay en el archivo.Observar que hay que eliminar los separadores que aparecen en el texto.\n",
    "* Número de vocales que hay en el texto."
   ]
  },
  {
   "cell_type": "markdown",
   "metadata": {},
   "source": [
    "#### Normas de entrega\n",
    "\n",
    "* Fecha tope de entrega: 04/10/2017\n",
    "* La entrega se realizará subiendo al campus virtual un notebook de Jupyter con la solución. El archivo tendrá como nombre IntroPython_GrupoX donde X será el número de grupo correspondiente."
   ]
  },
  {
   "cell_type": "code",
   "execution_count": null,
   "metadata": {},
   "outputs": [],
   "source": [
    "# Problema 1:"
   ]
  },
  {
   "cell_type": "code",
   "execution_count": null,
   "metadata": {},
   "outputs": [],
   "source": [
    "def encontrarSubcadena(texto, patron):\n",
    "    \n",
    "    encontrado = False\n",
    "    i = 0\n",
    "    \n",
    "    while encontrado == False and i < len(texto):\n",
    "        \n",
    "        coincide = True\n",
    "        j = 0\n",
    "        \n",
    "        while coincide and j < len(patron):\n",
    "            \n",
    "            if texto[i] == patron[j]:\n",
    "                i = i + 1\n",
    "                j = j + 1\n",
    "            else:\n",
    "                coincide = False\n",
    "                j = 0\n",
    "                i = i + 1\n",
    "                \n",
    "        if coincide:\n",
    "            encontrado = True\n",
    "            \n",
    "        i = i + 1\n",
    "            \n",
    "    if encontrado:\n",
    "        print(\"Subcadena '\" + patron + \"' encontrada\")\n",
    "    else:\n",
    "        print (\"No se han encontrado subcadenas coincidentes\")  \n",
    "            \n",
    "            \n",
    "cadena1 = input(\"Introduce el texto: \")\n",
    "cadena2 = input(\"Introduce el patrón: \")\n",
    "\n",
    "encontrarSubcadena(cadena1, cadena2)\n"
   ]
  },
  {
   "cell_type": "code",
   "execution_count": null,
   "metadata": {},
   "outputs": [],
   "source": [
    "# Problema 2:"
   ]
  },
  {
   "cell_type": "code",
   "execution_count": 1,
   "metadata": {},
   "outputs": [],
   "source": [
    "# Apartado 1:\n",
    "\n",
    "def funcionGenerica (f, n, a, b):\n",
    "    \n",
    "    integral = 0\n",
    "    opAritmetica = (b - a) / n\n",
    "    \n",
    "    for i in range (n-1):\n",
    "        integral += (opAritmetica * f(a + i * opAritmetica))\n",
    "        \n",
    "    return integral\n",
    "        \n",
    "\n",
    "#Apartado 2:\n",
    "\n",
    "def resolverFuncion (x):\n",
    "    return 1 + x + x**2 + x**3 + x**4\n",
    "\n",
    "\n",
    "#Apartado 3:\n",
    "\n",
    "resultadoIntegral = funcionGenerica(resolverFuncion, 5, 2, 7)\n",
    "print (\"El resultaod de la integral es: \" + str(resultadoIntegral))\n"
   ]
  },
  {
   "cell_type": "code",
   "execution_count": null,
   "metadata": {},
   "outputs": [],
   "source": [
    "# Problema 3:"
   ]
  },
  {
   "cell_type": "code",
   "execution_count": 108,
   "metadata": {},
   "outputs": [],
   "source": [
    "fichero = open(\"entrada.txt\").readlines()\n",
    "salida = open('salida.txt', 'w')\n",
    "\n",
    "\n",
    "#######################\n",
    "# APARTADO 1\n",
    "#######################\n",
    "\n",
    "salida.write (\"- Apartado 1 -\\n\")\n",
    "\n",
    "for i in range(len(fichero)):\n",
    "    \n",
    "    linea = fichero[i]\n",
    "    palabras = linea.split(\" \")\n",
    "    salida.write (\"\\tEl número de palabras de la linea \" + str(i + 1) + \" es: \" + str(len(palabras)) + \"\\n\")\n",
    "\n",
    "    \n",
    "#######################\n",
    "# APARTADO 2\n",
    "#######################\n",
    "\n",
    "salida.write (\"\\n- Apartado 2 -\\n\")\n",
    "nLineasFichero = len(fichero)\n",
    "salida.write (\"\\tEl número de lineas del fichero es: \" + str(nLineasFichero) + \"\\n\")\n",
    "\n",
    "\n",
    "#######################\n",
    "# APARTADO 3\n",
    "#######################\n",
    "\n",
    "for i in range(len(fichero)):\n",
    "    \n",
    "    longitudLinea = len(fichero[i])\n",
    "    salida.write (\"\\tLa longitud de la linea numero \" + str(i + 1) + \" es: \" + str(longitudLinea) + \"\\n\")\n",
    "\n",
    "contadorPalabras = 0\n",
    "\n",
    "for i in range(len(fichero)):\n",
    "\n",
    "    linea = fichero[i]\n",
    "    palabras = linea.split(\" \")\n",
    "    contadorPalabras += len(palabras)\n",
    "\n",
    "salida.write (\"\\n- Apartado 3 -\\n\")\n",
    "salida.write (\"\\tEl número de palabras del archivo es: \" + str(contadorPalabras) + \"\\n\")\n",
    "\n",
    "\n",
    "#######################\n",
    "# APARTADO 4 Y 5\n",
    "#######################\n",
    "\n",
    "contadorCaracteres = 0\n",
    "vocales = 0\n",
    "\n",
    "for i in range(len(fichero)):\n",
    "    \n",
    "    caracteres = tuple(fichero[i])\n",
    "    \n",
    "    for j in range (len(caracteres)):\n",
    "        \n",
    "        if caracteres[j] != ' ' and caracteres[j] != '\\n':\n",
    "            contadorCaracteres += 1\n",
    "\n",
    "        if caracteres[j] == 'a' or caracteres[j] == 'e' or caracteres[j] == 'i' or caracteres[j] == 'o' or caracteres[j] == 'u' or caracteres[j] == 'A' or caracteres[j] == 'E' or caracteres[j] == 'I' or caracteres[j] == 'O' or caracteres[j] == 'U':\n",
    "                vocales += 1\n",
    "                \n",
    "salida.write (\"\\n- Apartado 4 -\\n\")    \n",
    "salida.write (\"\\tEl número de caracteres del archivo es: \" + str(contadorCaracteres) + \"\\n\")\n",
    "\n",
    "salida.write (\"\\n- Apartado 5 -\\n\")\n",
    "salida.write (\"\\tEl número de vocales del archivo es: \" + str(vocales) + \"\\n\")\n",
    "\n",
    "salida.close()"
   ]
  }
 ],
 "metadata": {
  "anaconda-cloud": {},
  "kernelspec": {
   "display_name": "Python 3",
   "language": "python",
   "name": "python3"
  },
  "language_info": {
   "codemirror_mode": {
    "name": "ipython",
    "version": 3
   },
   "file_extension": ".py",
   "mimetype": "text/x-python",
   "name": "python",
   "nbconvert_exporter": "python",
   "pygments_lexer": "ipython3",
   "version": "3.6.5"
  }
 },
 "nbformat": 4,
 "nbformat_minor": 1
}
