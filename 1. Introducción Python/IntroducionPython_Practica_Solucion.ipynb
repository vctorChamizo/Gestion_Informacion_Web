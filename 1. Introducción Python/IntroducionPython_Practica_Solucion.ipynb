{
 "cells": [
  {
   "cell_type": "markdown",
   "metadata": {},
   "source": [
    "## Ejercicio 1"
   ]
  },
  {
   "cell_type": "code",
   "execution_count": null,
   "metadata": {},
   "outputs": [],
   "source": [
    "def subCadenaMasLarga(cadena1, cadena2):\n",
    "    \n",
    "    tam_c1 = len(cadena1)\n",
    "    tam_c2 = len(cadena2)\n",
    "    auxiliar = \"\"\n",
    "    subcadena = \"\"\n",
    "    \n",
    "    for i in range (tam_c1):\n",
    "        for j in range(tam_c2):\n",
    "            \n",
    "            if(i < tam_c1 and cadena1[i] == cadena2[j]):\n",
    "                auxiliar += cadena1[i]\n",
    "                \n",
    "                if (len(auxiliar) > len(subcadena)):\n",
    "                    subcadena = \"\"\n",
    "                    subcadena = auxiliar\n",
    "                    \n",
    "                i += 1\n",
    "        \n",
    "            else:\n",
    "                j = 0\n",
    "                auxiliar = \"\"\n",
    "        \n",
    "    return subcadena"
   ]
  },
  {
   "cell_type": "code",
   "execution_count": null,
   "metadata": {},
   "outputs": [],
   "source": [
    "cadena1 = input(\"Introduce el texto: \")\n",
    "cadena2 = input(\"Introduce el patrón: \")\n",
    "\n",
    "subCadena = subCadenaMasLarga(cadena1, cadena2)\n",
    "\n",
    "if(len(subCadena) > 0):\n",
    "        print(\"La subcadena más larga encontrada es: '\" + subCadena + \"'\")\n",
    "else:\n",
    "        print (\"No se han encontrado subcadenas coincidentes\")"
   ]
  },
  {
   "cell_type": "markdown",
   "metadata": {},
   "source": [
    "## Ejercicio 2"
   ]
  },
  {
   "cell_type": "code",
   "execution_count": null,
   "metadata": {},
   "outputs": [],
   "source": [
    "def funcionGenerica (f, n, a, b):\n",
    "    \n",
    "    integral = 0\n",
    "    \n",
    "    try:\n",
    "        opAritmetica = (b - a) / n\n",
    "        \n",
    "    except ZeroDivisionError:\n",
    "            return None\n",
    "        \n",
    "    for i in range (n-1):\n",
    "        integral += (opAritmetica * f(a + i * opAritmetica))\n",
    "\n",
    "    return integral "
   ]
  },
  {
   "cell_type": "code",
   "execution_count": null,
   "metadata": {},
   "outputs": [],
   "source": [
    "def resolverFuncion (x):\n",
    "    return 1 + x + x**2 + x**3 + x**4"
   ]
  },
  {
   "cell_type": "code",
   "execution_count": null,
   "metadata": {},
   "outputs": [],
   "source": [
    "resultadoIntegral = funcionGenerica(resolverFuncion, 0, 2, 7)\n",
    "\n",
    "if(resultadoIntegral == None):\n",
    "    print(\"ERROR: El número de rectángulos no puede ser 0. Introduzca otro valor.\")\n",
    "    \n",
    "else:\n",
    "    print (\"El resultado de la integral es: \" + str(resultadoIntegral))"
   ]
  },
  {
   "cell_type": "markdown",
   "metadata": {},
   "source": [
    "## Ejercicio 3"
   ]
  },
  {
   "cell_type": "code",
   "execution_count": null,
   "metadata": {},
   "outputs": [],
   "source": [
    "def longitudPalabrasFichero (fichero):\n",
    "    \n",
    "    palabras = fichero.split()\n",
    "    \n",
    "    diccionario = {}\n",
    "    \n",
    "    for palabra in palabras:\n",
    "        \n",
    "        longitud = len(palabra)\n",
    "        \n",
    "        if (diccionario.get(longitud) != None):\n",
    "            diccionario[longitud] += 1\n",
    "        else:\n",
    "            diccionario.update({longitud:1})\n",
    "            \n",
    "    return diccionario"
   ]
  },
  {
   "cell_type": "code",
   "execution_count": null,
   "metadata": {},
   "outputs": [],
   "source": [
    "def numeroLineaFichero (fichero):\n",
    "    return (len(fichero))"
   ]
  },
  {
   "cell_type": "code",
   "execution_count": null,
   "metadata": {},
   "outputs": [],
   "source": [
    "def longitudLineaFichero (linea):\n",
    "    return(len(linea))"
   ]
  },
  {
   "cell_type": "code",
   "execution_count": null,
   "metadata": {},
   "outputs": [],
   "source": [
    "def numeroPalabrasFichero (fichero):\n",
    "    return len(fichero.split())"
   ]
  },
  {
   "cell_type": "code",
   "execution_count": null,
   "metadata": {},
   "outputs": [],
   "source": [
    "def eliminarSeparadoresTexto (linea):\n",
    "    \n",
    "    linea = linea.replace(\" \", \"\")\n",
    "    linea = linea.replace(\"\\n\", \"\")\n",
    "    linea = linea.replace(\".\", \"\")\n",
    "    linea = linea.replace(\":\", \"\")\n",
    "    linea = linea.replace(\",\", \"\")\n",
    "    linea = linea.replace(\";\", \"\")\n",
    "    \n",
    "    return linea"
   ]
  },
  {
   "cell_type": "code",
   "execution_count": null,
   "metadata": {},
   "outputs": [],
   "source": [
    "def numeroCaracteresFichero (fichero):\n",
    "    \n",
    "    linea = eliminarSeparadoresTexto(fichero)\n",
    "    \n",
    "    return len(linea)"
   ]
  },
  {
   "cell_type": "code",
   "execution_count": null,
   "metadata": {},
   "outputs": [],
   "source": [
    "def numeroVocalesFichero (fichero):\n",
    "    \n",
    "    nVocales = 0\n",
    "    \n",
    "    linea = eliminarSeparadoresTexto(fichero)\n",
    "    listaLetras = list(linea)\n",
    "    for vocal in listaLetras:\n",
    "\n",
    "        if (vocal == 'a' or vocal == 'e' \n",
    "            or vocal == 'i' or vocal == 'o' \n",
    "            or vocal == 'u' or vocal == 'A' \n",
    "            or vocal == 'E' or vocal == 'I' \n",
    "            or vocal == 'O' or vocal == 'U'):\n",
    "\n",
    "                nVocales += 1\n",
    "                    \n",
    "    return nVocales"
   ]
  },
  {
   "cell_type": "code",
   "execution_count": null,
   "metadata": {},
   "outputs": [],
   "source": [
    "def analizarFichero (fichero, ficheroSalida):\n",
    "\n",
    "    salida = open(ficheroSalida, 'w')\n",
    "    \n",
    "    #Apartado 1\n",
    "    salida.write (\"\\n- Apartado 1 -\\n\")\n",
    "    longitudPalabras = longitudPalabrasFichero(fichero)\n",
    "    \n",
    "    for key in longitudPalabras:\n",
    "        salida.write (\"\\tHay \" + str(key) + \" palabras de longitud \" + str(longitudPalabras[key]) + \"\\n\")\n",
    "    \n",
    "    #Apartado 2\n",
    "    salida.write (\"\\n- Apartado 2 -\\n\")\n",
    "    ficheroEnLineas = fichero.split(\"\\n\")\n",
    "    nLineasFichero = numeroLineaFichero(ficheroEnLineas)\n",
    "    salida.write (\"\\tEl número de lineas del fichero es: \" + str(nLineasFichero) + \"\\n\")\n",
    "    \n",
    "    for i in range(nLineasFichero):\n",
    "        \n",
    "        longitudLinea = longitudLineaFichero(ficheroEnLineas[i])\n",
    "        salida.write (\"\\tLa longitud de la linea numero \" + str(i + 1) + \" es: \" + str(longitudLinea) + \"\\n\")\n",
    "        \n",
    "        \n",
    "    #Apartado 3\n",
    "    salida.write (\"\\n- Apartado 3 -\\n\")\n",
    "    nPalabras = numeroPalabrasFichero(fichero)\n",
    "    salida.write (\"\\tEl número de palabras del archivo es: \" + str(nPalabras) + \"\\n\")\n",
    "    \n",
    "    \n",
    "    #Apartado 4\n",
    "    salida.write (\"\\n- Apartado 4 -\\n\")\n",
    "    nCaracteres = numeroCaracteresFichero(fichero)\n",
    "    salida.write (\"\\tEl número de caracteres del archivo es: \" + str(nCaracteres) + \"\\n\")\n",
    "    \n",
    "    \n",
    "    #Apartado 5\n",
    "    salida.write (\"\\n- Apartado 5 -\\n\")\n",
    "    nVocales = numeroVocalesFichero(fichero)\n",
    "    salida.write (\"\\tEl número de vocales del archivo es: \" + str(nVocales) + \"\\n\")\n",
    "    \n",
    "    \n",
    "    salida.close()   "
   ]
  },
  {
   "cell_type": "code",
   "execution_count": null,
   "metadata": {},
   "outputs": [],
   "source": [
    "fichero = None\n",
    "\n",
    "ficheroIn = input (\"Introduzaca el nombre del fichero a analizar: \")\n",
    "\n",
    "while(fichero is None):\n",
    "    \n",
    "    try:\n",
    "        fichero = open(ficheroIn).read()\n",
    "        \n",
    "    except:\n",
    "        ficheroIn = input (\"Error: el fichero no existe. Vuelva a introducir: \")\n",
    "        \n",
    "\n",
    "ficheroOut = input (\"Introduce el nombre del fihero donde se escribirá el analisis: \")\n",
    "\n",
    "analizarFichero(fichero, str(ficheroOut))"
   ]
  }
 ],
 "metadata": {
  "kernelspec": {
   "display_name": "Python 3",
   "language": "python",
   "name": "python3"
  },
  "language_info": {
   "codemirror_mode": {
    "name": "ipython",
    "version": 3
   },
   "file_extension": ".py",
   "mimetype": "text/x-python",
   "name": "python",
   "nbconvert_exporter": "python",
   "pygments_lexer": "ipython3",
   "version": "3.6.5"
  }
 },
 "nbformat": 4,
 "nbformat_minor": 2
}
