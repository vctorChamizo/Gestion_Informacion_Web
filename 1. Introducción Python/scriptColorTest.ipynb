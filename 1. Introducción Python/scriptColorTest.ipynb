{
 "cells": [
  {
   "cell_type": "code",
   "execution_count": 7,
   "metadata": {},
   "outputs": [],
   "source": [
    "class bcolors:\n",
    "    HEADER = '\\033[95m'\n",
    "    BLUE = '\\033[94m'\n",
    "    GREEN = '\\033[92m'\n",
    "    WARNING = '\\033[93m'\n",
    "    RED = '\\033[91m'\n",
    "    ENDC = '\\033[0m'\n",
    "    BOLD = '\\033[1m'\n",
    "    UNDERLINE = '\\033[4m'\n",
    "    \n",
    "def blue(atr):\n",
    "    return bcolors.BLUE+adapt(atr)+bcolors.ENDC;\n",
    "\n",
    "def green(atr):\n",
    "    return bcolors.GREEN+adapt(atr)+bcolors.ENDC;\n",
    "\n",
    "def red(atr):\n",
    "    return bcolors.RED+adapt(atr)+bcolors.ENDC;\n",
    "\n",
    "def bold(atr):\n",
    "    return bcolors.BOLD+adapt(atr)+bcolors.ENDC;"
   ]
  },
  {
   "cell_type": "code",
   "execution_count": 8,
   "metadata": {},
   "outputs": [
    {
     "name": "stdout",
     "output_type": "stream",
     "text": [
      "\u001b[94mEsto es una prueba de color AZUL\u001b[0m\n",
      "\u001b[91mEsto es una prueba de color ROJO\u001b[0m\n",
      "\u001b[92mEsto es una prueba de color VERDE\u001b[0m\n",
      "\u001b[1mEsto es una prueba de NEGRITA\u001b[0m\n"
     ]
    }
   ],
   "source": [
    "print(blue(\"Esto es una prueba de color AZUL\"))\n",
    "print(red(\"Esto es una prueba de color ROJO\"))\n",
    "print(green(\"Esto es una prueba de color VERDE\"))\n",
    "print(bold(\"Esto es una prueba de NEGRITA\"))"
   ]
  },
  {
   "cell_type": "code",
   "execution_count": null,
   "metadata": {},
   "outputs": [],
   "source": []
  }
 ],
 "metadata": {
  "anaconda-cloud": {},
  "kernelspec": {
   "display_name": "Python 3",
   "language": "python",
   "name": "python3"
  },
  "language_info": {
   "codemirror_mode": {
    "name": "ipython",
    "version": 3
   },
   "file_extension": ".py",
   "mimetype": "text/x-python",
   "name": "python",
   "nbconvert_exporter": "python",
   "pygments_lexer": "ipython3",
   "version": "3.6.5"
  }
 },
 "nbformat": 4,
 "nbformat_minor": 1
}
