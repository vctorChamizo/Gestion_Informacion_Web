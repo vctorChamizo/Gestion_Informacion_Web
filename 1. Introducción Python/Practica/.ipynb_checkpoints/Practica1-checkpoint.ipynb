{
 "cells": [
  {
   "cell_type": "markdown",
   "metadata": {},
   "source": [
    "### Práctica de Introducción al lenguaje Python"
   ]
  },
  {
   "cell_type": "markdown",
   "metadata": {},
   "source": [
    "#### Ejercicio 1[3 puntos]\n",
    "Considerar el problema de la subcadena común maxima de dos cadenas. Se pide crear un programa en Python que dadasdos cadenas como entrada devuelva la subcadena común a ambas que sea lo más grande posible. Por ejemplo entre \"análisis de algoritmos\" y \"algo\", la subcadena común sería \"algo\".\n",
    "Podéis consultar la siguiente página donde existe documentación sobre los algoritmos aplicables:\n",
    "\n",
    "https://users.dcc.uchile.cl/~bebustos/apuntes/cc3001/BusqTexto/"
   ]
  },
  {
   "cell_type": "markdown",
   "metadata": {},
   "source": [
    "#### Ejercicio 2[3,5 puntos]\n",
    "Considera el problema de la integración numérica de una función entre dos puntos a y b. La integración se puede calcular como el sumatorio del área de un conjunto de rectangulos. Si n es el número de rectángulos que se usan para realizar la aproximación, entonces la integral de una función f entre los puntos a y b se puede aproximar por la fórmula:\n",
    "\n",
    "$$     \n",
    "\\sum_{i=0}^{n-1}(\\frac{b-a}{n})* f(a+ i* (\\frac{b-a}{n}))\n",
    "$$\n",
    "\n",
    "Se pide:\n",
    "* Crear una función genérica que tome como entrada una función, el número de rectangulos n, y los puntos a y b, y devuelva como el resultado la integral numérica de la función entre los puntos a y b. \n",
    "\n",
    "* Crear una función que realice el cálculo de la función $$f(x)=1+x+x^{2}+x^{3}+x^{4}$$\n",
    "\n",
    "* Calcular usando las funciones anteriores, la integral de la función anterior entre los puntos 2 y 7 usando 5 rectángulos.\n",
    "\n",
    "$$ \\int_{2}^{7} 1+x+x^{2}+x^{3}+x^{4} dx $$"
   ]
  },
  {
   "cell_type": "markdown",
   "metadata": {},
   "source": [
    "#### Ejercicio 3[3,5 puntos]\n",
    "Implementar un programa en Python tal que tomando como entrada el nombre de un archivo de texto, realice un análisis del contenido del mismo y almacene el resultado en otro archivo de salida. El informe debe indicar:\n",
    "* Número de palabras de cada longitud que hay en el texto.\n",
    "* Número de líneas que hay en el archivo y longitud de cada línea de texto.\n",
    "* Número de palabras que hay en el archivo. Observar que hay que eliminar los separadores que aparecen en el texto.\n",
    "* Número de caracteres que hay en el archivo.Observar que hay que eliminar los separadores que aparecen en el texto.\n",
    "* Número de vocales que hay en el texto."
   ]
  },
  {
   "cell_type": "markdown",
   "metadata": {},
   "source": [
    "#### Normas de entrega\n",
    "\n",
    "* Fecha tope de entrega: 04/10/2017\n",
    "* La entrega se realizará subiendo al campus virtual un notebook de Jupyter con la solución. El archivo tendrá como nombre IntroPython_GrupoX donde X será el número de grupo correspondiente."
   ]
  },
  {
   "cell_type": "markdown",
   "metadata": {},
   "source": []
  },
  {
   "cell_type": "markdown",
   "metadata": {},
   "source": [
    "## Ejercicio 1"
   ]
  },
  {
   "cell_type": "code",
   "execution_count": 44,
   "metadata": {},
   "outputs": [],
   "source": [
    "def subCadenaMasLarga(cadena1, cadena2):\n",
    "    \n",
    "    tam_c1 = len(cadena1)\n",
    "    tam_c2 = len(cadena2)\n",
    "    auxiliar = \"\"\n",
    "    subcadena = \"\"\n",
    "    \n",
    "    for i in range (tam_c1):\n",
    "        for j in range(tam_c2):\n",
    "            \n",
    "            if(i < tam_c1 and cadena1[i] == cadena2[j]):\n",
    "                auxiliar += cadena1[i]\n",
    "                \n",
    "                if (len(auxiliar) > len(subcadena)):\n",
    "                    subcadena = auxiliar\n",
    "                    \n",
    "                i += 1\n",
    "        \n",
    "            else:\n",
    "                j = 0\n",
    "                for i in auxiliar:\n",
    "                    auxiliar = auxiliar.replace(i, '')\n",
    "        \n",
    "    return subcadena\n"
   ]
  },
  {
   "cell_type": "code",
   "execution_count": 47,
   "metadata": {},
   "outputs": [
    {
     "name": "stdout",
     "output_type": "stream",
     "text": [
      "Introduce el texto: aaa\n",
      "Introduce el patrón: aaa\n",
      "La subcadena más larga encontrada es: 'aaaaa'\n"
     ]
    }
   ],
   "source": [
    "cadena1 = input(\"Introduce el texto: \")\n",
    "cadena2 = input(\"Introduce el patrón: \")\n",
    "\n",
    "subCadena = subCadenaMasLarga(cadena1, cadena2)\n",
    "\n",
    "if(len(subCadena) > 0):\n",
    "        print(\"La subcadena más larga encontrada es: '\" + subCadena + \"'\")\n",
    "else:\n",
    "        print (\"No se han encontrado subcadenas coincidentes\")\n",
    "        "
   ]
  },
  {
   "cell_type": "markdown",
   "metadata": {},
   "source": [
    "## Ejercicio 2"
   ]
  },
  {
   "cell_type": "code",
   "execution_count": 202,
   "metadata": {},
   "outputs": [],
   "source": [
    "def funcionGenerica (f, n, a, b):\n",
    "    \n",
    "    integral = 0\n",
    "    \n",
    "    try:\n",
    "        opAritmetica = (b - a) / n\n",
    "        \n",
    "    except ZeroDivisionError:\n",
    "            return None\n",
    "        \n",
    "    for i in range (n-1):\n",
    "        integral += (opAritmetica * f(a + i * opAritmetica))\n",
    "\n",
    "    return integral\n",
    "            "
   ]
  },
  {
   "cell_type": "code",
   "execution_count": 203,
   "metadata": {},
   "outputs": [],
   "source": [
    "def resolverFuncion (x):\n",
    "    return 1 + x + x**2 + x**3 + x**4\n"
   ]
  },
  {
   "cell_type": "code",
   "execution_count": 204,
   "metadata": {},
   "outputs": [
    {
     "name": "stdout",
     "output_type": "stream",
     "text": [
      "ERROR: El número de rectángulos no puede ser 0. Introduzca otro valor.\n"
     ]
    }
   ],
   "source": [
    "resultadoIntegral = funcionGenerica(resolverFuncion, 0, 2, 7)\n",
    "\n",
    "if(resultadoIntegral == None):\n",
    "    print(\"ERROR: El número de rectángulos no puede ser 0. Introduzca otro valor.\")\n",
    "    \n",
    "else:\n",
    "    print (\"El resultado de la integral es: \" + str(resultadoIntegral))\n"
   ]
  },
  {
   "cell_type": "markdown",
   "metadata": {},
   "source": [
    "## Ejercicio 3"
   ]
  },
  {
   "cell_type": "code",
   "execution_count": 8,
   "metadata": {},
   "outputs": [],
   "source": [
    "def longitudPalabrasFichero (fichero):\n",
    "    \n",
    "    palabras = fichero.split()\n",
    "    \n",
    "    diccionario = {}\n",
    "    \n",
    "    for palabra in palabras:\n",
    "        \n",
    "        longitud = len(palabra)\n",
    "        \n",
    "        if (diccionario.get(longitud) != None):\n",
    "            diccionario[longitud] += 1\n",
    "        else:\n",
    "            diccionario.update({longitud:1})\n",
    "            \n",
    "    return diccionario\n"
   ]
  },
  {
   "cell_type": "code",
   "execution_count": 9,
   "metadata": {},
   "outputs": [],
   "source": [
    "def numeroLineaFichero (fichero):\n",
    "    \n",
    "    return (len(fichero))\n"
   ]
  },
  {
   "cell_type": "code",
   "execution_count": 10,
   "metadata": {},
   "outputs": [],
   "source": [
    "def longitudLineaFichero (linea):\n",
    "    \n",
    "    return(len(linea))\n"
   ]
  },
  {
   "cell_type": "code",
   "execution_count": 11,
   "metadata": {},
   "outputs": [],
   "source": [
    "def numeroPalabrasFichero (fichero):\n",
    "    \n",
    "    return len(fichero.split())\n"
   ]
  },
  {
   "cell_type": "code",
   "execution_count": 12,
   "metadata": {},
   "outputs": [],
   "source": [
    "def eliminarSeparadoresTexto (linea):\n",
    "    \n",
    "    linea = linea.replace(\" \", \"\")\n",
    "    linea = linea.replace(\"\\n\", \"\")\n",
    "    linea = linea.replace(\".\", \"\")\n",
    "    linea = linea.replace(\":\", \"\")\n",
    "    linea = linea.replace(\",\", \"\")\n",
    "    linea = linea.replace(\";\", \"\")\n",
    "    \n",
    "    return linea\n"
   ]
  },
  {
   "cell_type": "code",
   "execution_count": 13,
   "metadata": {},
   "outputs": [],
   "source": [
    "def numeroCaracteresFichero (fichero):\n",
    "    \n",
    "    linea = eliminarSeparadoresTexto(fichero)\n",
    "    \n",
    "    return len(linea)\n"
   ]
  },
  {
   "cell_type": "code",
   "execution_count": 14,
   "metadata": {},
   "outputs": [],
   "source": [
    "def numeroVocalesFichero (fichero):\n",
    "    \n",
    "    nVocales = 0\n",
    "    \n",
    "    linea = eliminarSeparadoresTexto(fichero)\n",
    "    listaLetras = list(linea)\n",
    "    for vocal in listaLetras:\n",
    "\n",
    "        if (vocal == 'a' or vocal == 'e' \n",
    "            or vocal == 'i' or vocal == 'o' \n",
    "            or vocal == 'u' or vocal == 'A' \n",
    "            or vocal == 'E' or vocal == 'I' \n",
    "            or vocal == 'O' or vocal == 'U'):\n",
    "\n",
    "                nVocales += 1\n",
    "                    \n",
    "    return nVocales\n"
   ]
  },
  {
   "cell_type": "code",
   "execution_count": 15,
   "metadata": {},
   "outputs": [],
   "source": [
    "def analizarFichero (fichero, ficheroSalida):\n",
    "\n",
    "    salida = open(ficheroSalida, 'w')\n",
    "    \n",
    "    #Apartado 1\n",
    "    salida.write (\"\\n- Apartado 1 -\\n\")\n",
    "    longitudPalabras = longitudPalabrasFichero(fichero)\n",
    "    \n",
    "    for key in longitudPalabras:\n",
    "        salida.write (\"\\tHay \" + str(key) + \" palabras de longitud \" + str(longitudPalabras[key]) + \"\\n\")\n",
    "    \n",
    "    #Apartado 2\n",
    "    salida.write (\"\\n- Apartado 2 -\\n\")\n",
    "    ficheroEnLineas = fichero.split(\"\\n\")\n",
    "    nLineasFichero = numeroLineaFichero(ficheroEnLineas)\n",
    "    salida.write (\"\\tEl número de lineas del fichero es: \" + str(nLineasFichero) + \"\\n\")\n",
    "    \n",
    "    for i in range(nLineasFichero):\n",
    "        \n",
    "        longitudLinea = longitudLineaFichero(ficheroEnLineas[i])\n",
    "        salida.write (\"\\tLa longitud de la linea numero \" + str(i + 1) + \" es: \" + str(longitudLinea) + \"\\n\")\n",
    "        \n",
    "        \n",
    "    #Apartado 3\n",
    "    salida.write (\"\\n- Apartado 3 -\\n\")\n",
    "    nPalabras = numeroPalabrasFichero(fichero)\n",
    "    salida.write (\"\\tEl número de palabras del archivo es: \" + str(nPalabras) + \"\\n\")\n",
    "    \n",
    "    \n",
    "    #Apartado 4\n",
    "    salida.write (\"\\n- Apartado 4 -\\n\")\n",
    "    nCaracteres = numeroCaracteresFichero(fichero)\n",
    "    salida.write (\"\\tEl número de caracteres del archivo es: \" + str(nCaracteres) + \"\\n\")\n",
    "    \n",
    "    \n",
    "    #Apartado 5\n",
    "    salida.write (\"\\n- Apartado 5 -\\n\")\n",
    "    nVocales = numeroVocalesFichero(fichero)\n",
    "    salida.write (\"\\tEl número de vocales del archivo es: \" + str(nVocales) + \"\\n\")\n",
    "    \n",
    "    \n",
    "    salida.close()\n",
    "       "
   ]
  },
  {
   "cell_type": "code",
   "execution_count": 16,
   "metadata": {},
   "outputs": [
    {
     "name": "stdout",
     "output_type": "stream",
     "text": [
      "Introduzaca el nombre del fichero a analizar: entrada.txt\n",
      "Introduce el nombre del fihero donde se escribirá el analisis: salida.txt\n"
     ]
    }
   ],
   "source": [
    "fichero = None\n",
    "\n",
    "ficheroIn = input (\"Introduzaca el nombre del fichero a analizar: \")\n",
    "\n",
    "while(fichero is None):\n",
    "    \n",
    "    try:\n",
    "        fichero = open(ficheroIn).read()\n",
    "        \n",
    "    except:\n",
    "        ficheroIn = input (\"Error: el fichero no existe. Vuelva a introducir: \")\n",
    "        \n",
    "\n",
    "ficheroOut = input (\"Introduce el nombre del fihero donde se escribirá el analisis: \")\n",
    "\n",
    "analizarFichero(fichero, str(ficheroOut))\n"
   ]
  },
  {
   "cell_type": "code",
   "execution_count": null,
   "metadata": {},
   "outputs": [],
   "source": []
  }
 ],
 "metadata": {
  "anaconda-cloud": {},
  "kernelspec": {
   "display_name": "Python 3",
   "language": "python",
   "name": "python3"
  },
  "language_info": {
   "codemirror_mode": {
    "name": "ipython",
    "version": 3
   },
   "file_extension": ".py",
   "mimetype": "text/x-python",
   "name": "python",
   "nbconvert_exporter": "python",
   "pygments_lexer": "ipython3",
   "version": "3.6.5"
  }
 },
 "nbformat": 4,
 "nbformat_minor": 1
}
