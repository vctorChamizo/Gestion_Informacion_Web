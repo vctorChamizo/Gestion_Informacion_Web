{
 "cells": [
  {
   "cell_type": "markdown",
   "metadata": {},
   "source": [
    "### Práctica de Introducción al lenguaje Python"
   ]
  },
  {
   "cell_type": "markdown",
   "metadata": {},
   "source": [
    "### Ejercicio 1[3 puntos]\n",
    "Considerar el problema de la subcadena común maxima de dos cadenas. Se pide crear un programa en Python que dadasdos cadenas como entrada devuelva la subcadena común a ambas que sea lo más grande posible. Por ejemplo entre \"análisis de algoritmos\" y \"algo\", la subcadena común sería \"algo\".\n",
    "Podéis consultar la siguiente página donde existe documentación sobre los algoritmos aplicables:\n",
    "\n",
    "https://users.dcc.uchile.cl/~bebustos/apuntes/cc3001/BusqTexto/"
   ]
  },
  {
   "cell_type": "code",
   "execution_count": 2,
   "metadata": {},
   "outputs": [],
   "source": [
    "def subcadenaComunMaxima(texto, patron):\n",
    "    j = 0\n",
    "    subcadenaComunMaxima = \"\"\n",
    "    subcadenaComunActual = \"\"\n",
    "    \n",
    "    for i in range(len(texto)):\n",
    "        for j in range(len(patron)):\n",
    "            ipdb.set_trace()\n",
    "            if  i < len(texto) and patron[j] == texto[i]:        \n",
    "                subcadenaComunActual += texto[i]\n",
    "                if len(subcadenaComunActual) >= len(subcadenaComunMaxima):\n",
    "                    subcadenaComunMaxima = subcadenaComunActual\n",
    "                i += 1\n",
    "            else:\n",
    "                subcadenaComunActual = \"\"\n",
    "           \n",
    "    return subcadenaComunMaxima"
   ]
  },
  {
   "cell_type": "code",
   "execution_count": 2,
   "metadata": {},
   "outputs": [
    {
     "ename": "NameError",
     "evalue": "name 'subcadenaComunMaxima' is not defined",
     "output_type": "error",
     "traceback": [
      "\u001b[1;31m---------------------------------------------------------------------------\u001b[0m",
      "\u001b[1;31mNameError\u001b[0m                                 Traceback (most recent call last)",
      "\u001b[1;32m<ipython-input-2-79d3e1ae622e>\u001b[0m in \u001b[0;36m<module>\u001b[1;34m()\u001b[0m\n\u001b[1;32m----> 1\u001b[1;33m \u001b[0mprint\u001b[0m \u001b[1;33m(\u001b[0m\u001b[0msubcadenaComunMaxima\u001b[0m\u001b[1;33m(\u001b[0m\u001b[1;34m\"algoritmo\"\u001b[0m\u001b[1;33m,\u001b[0m \u001b[1;34m\"algritmo\"\u001b[0m\u001b[1;33m)\u001b[0m\u001b[1;33m)\u001b[0m\u001b[1;33m\u001b[0m\u001b[0m\n\u001b[0m",
      "\u001b[1;31mNameError\u001b[0m: name 'subcadenaComunMaxima' is not defined"
     ]
    }
   ],
   "source": [
    "print (subcadenaComunMaxima(\"algoritmo\", \"algritmo\"))"
   ]
  },
  {
   "cell_type": "markdown",
   "metadata": {},
   "source": [
    "### Ejercicio 2[3,5 puntos]\n",
    "Considera el problema de la integración numérica de una función entre dos puntos a y b. La integración se puede calcular como el sumatorio del área de un conjunto de rectangulos. Si n es el número de rectángulos que se usan para realizar la aproximación, entonces la integral de una función f entre los puntos a y b se puede aproximar por la fórmula:\n",
    "\n",
    "$$     \n",
    "\\sum_{i=0}^{n-1}(\\frac{b-a}{n})* f(a+ i* (\\frac{b-a}{n}))\n",
    "$$\n",
    "\n",
    "Se pide:\n",
    "* Crear una función genérica que tome como entrada una función, el número de rectangulos n, y los puntos a y b, y devuelva como el resultado la integral numérica de la función entre los puntos a y b. \n",
    "\n",
    "* Crear una función que realice el cálculo de la función $$f(x)=1+x+x^{2}+x^{3}+x^{4}$$\n",
    "\n",
    "* Calcular usando las funciones anteriores, la integral de la función anterior entre los puntos 2 y 7 usando 5 rectángulos.\n",
    "\n",
    "$$ \\int_{2}^{7} 1+x+x^{2}+x^{3}+x^{4} dx $$"
   ]
  },
  {
   "cell_type": "code",
   "execution_count": null,
   "metadata": {},
   "outputs": [],
   "source": [
    "def funcion(x):\n",
    "    return eval('1 + x + x**2 + x**3 + x**4') #** es el operador exponente"
   ]
  },
  {
   "cell_type": "code",
   "execution_count": null,
   "metadata": {},
   "outputs": [],
   "source": [
    "def integral(function, n, a, b):\n",
    "    valorIntegral = 0\n",
    "    try:\n",
    "        for i in range(n):\n",
    "            valorIntegral += ((b - a) / n) + function(a + i*((b - a) / n))\n",
    "    except ZeroDivisionError:\n",
    "        print (\"El número de rectangulos debe ser mayor que 0\")\n",
    "    \n",
    "    return valorIntegral"
   ]
  },
  {
   "cell_type": "code",
   "execution_count": null,
   "metadata": {},
   "outputs": [],
   "source": [
    "print (integral(funcion, 5, 2, 7))"
   ]
  },
  {
   "cell_type": "markdown",
   "metadata": {},
   "source": [
    "### Ejercicio 3[3,5 puntos]\n",
    "Implementar un programa en Python tal que tomando como entrada el nombre de un archivo de texto, realice un análisis del contenido del mismo y almacene el resultado en otro archivo de salida. El informe debe indicar:\n",
    "* Número de palabras de cada longitud que hay en el texto.\n",
    "* Número de líneas que hay en el archivo y longitud de cada línea de texto.\n",
    "* Número de palabras que hay en el archivo. Observar que hay que eliminar los separadores que aparecen en el texto.\n",
    "* Número de caracteres que hay en el archivo.Observar que hay que eliminar los separadores que aparecen en el texto.\n",
    "* Número de vocales que hay en el texto."
   ]
  },
  {
   "cell_type": "markdown",
   "metadata": {},
   "source": [
    "#### Normas de entrega\n",
    "\n",
    "* Fecha tope de entrega: 04/10/2017\n",
    "* La entrega se realizará subiendo al campus virtual un notebook de Jupyter con la solución. El archivo tendrá como nombre IntroPython_GrupoX donde X será el número de grupo correspondiente."
   ]
  },
  {
   "cell_type": "code",
   "execution_count": 173,
   "metadata": {},
   "outputs": [],
   "source": [
    "def leerFichero(nombreFichero):\n",
    "    texto = \"\"\n",
    "    longitudLineas = []\n",
    "    numeroDeLineas = 0\n",
    "    \n",
    "    with open (nombreFichero) as fichero:\n",
    "        for line in fichero:\n",
    "            longitudLineas.append(len(line) - 1) #Hay que restarle el salto de línea\n",
    "            numeroDeLineas += 1\n",
    "            texto += line\n",
    "            \n",
    "    return texto, longitudLineas, numeroDeLineas"
   ]
  },
  {
   "cell_type": "code",
   "execution_count": 161,
   "metadata": {},
   "outputs": [],
   "source": [
    "def eliminarSeparadores(texto):\n",
    "    texto = texto.strip() #Elimina espacios en blanco al principio y al final de la cadena\n",
    "    texto = texto.replace(\",\", \"\")\n",
    "    texto = texto.replace(\".\", \"\")\n",
    "    texto = texto.replace(\";\", \"\")\n",
    "    texto = texto.replace(\":\", \"\")\n",
    "    texto = texto.replace(\"\\n\", \" \")\n",
    "    texto = texto.replace(\"\\t\", \" \")\n",
    "    \n",
    "    return texto"
   ]
  },
  {
   "cell_type": "code",
   "execution_count": 162,
   "metadata": {},
   "outputs": [],
   "source": [
    "def contarNumeroDeVocales(texto):\n",
    "    numeroDeVocales = 0\n",
    "    \n",
    "    texto = texto.lower()\n",
    "    numeroDeVocales += texto.count(\"a\")\n",
    "    numeroDeVocales += texto.count(\"e\")\n",
    "    numeroDeVocales += texto.count(\"i\")\n",
    "    numeroDeVocales += texto.count(\"o\")\n",
    "    numeroDeVocales += texto.count(\"u\")\n",
    "    \n",
    "    return numeroDeVocales"
   ]
  },
  {
   "cell_type": "code",
   "execution_count": 163,
   "metadata": {},
   "outputs": [],
   "source": [
    "def contarNumeroDePalabrasPorLongitud(texto):\n",
    "    numPalabrasPorLongitud = {} #Crear un diccionario vacío\n",
    "    \n",
    "    palabras = texto.split(\" \")\n",
    "    for palabra in palabras:\n",
    "        if numPalabrasPorLongitud.has_key(len(palabra)):\n",
    "            numPalabrasPorLongitud[len(palabra)] += 1\n",
    "        else:\n",
    "            numPalabrasPorLongitud[len(palabra)] = 1\n",
    "    \n",
    "    return numPalabrasPorLongitud"
   ]
  },
  {
   "cell_type": "code",
   "execution_count": 184,
   "metadata": {},
   "outputs": [],
   "source": [
    "def escribirSalida(numeroDePalabras, numPalabrasPorLongitud, numeroDeCaracteres, longitudLineas, \n",
    "                   numeroDeLineas, numeroDeVocales):\n",
    "    fichero = open(\"salida.txt\", \"w\")\n",
    "    i = 0\n",
    "    \n",
    "    for longitudPalabra, numPalabras in numPalabrasPorLongitud.items():\n",
    "        fichero.write(\"Palabras de longitud \" + str(longitudPalabra) + \": \" + str(numPalabras) + \"\\n\")\n",
    "        \n",
    "    fichero.write(\"\\nNumero de lineas del fichero : \" + str(numeroDeLineas) + \"\\n\")\n",
    "    for longitudLinea in longitudLineas:\n",
    "        fichero.write(\"Longitud de la linea \" + str(i + 1) + \": \" + str(longitudLinea) + \"\\n\")\n",
    "        i += 1\n",
    "    \n",
    "    fichero.write(\"\\nNumero de palabras: \" + str(numeroDePalabras));\n",
    "    fichero.write(\"\\nNumero de caracteres: \" + str(numeroDeCaracteres));\n",
    "    fichero.write(\"\\nNumero de vocales: \" + str(numeroDeVocales));\n",
    "    \n",
    "    fichero.close()"
   ]
  },
  {
   "cell_type": "code",
   "execution_count": 187,
   "metadata": {},
   "outputs": [],
   "source": [
    "def analizarFichero(nombreFichero):\n",
    "    texto = \"\"\n",
    "    numeroDePalabras = 0\n",
    "    numPalabrasPorLongitud = {}\n",
    "    numeroDeCaracteres = 0\n",
    "    longitudLineas = []\n",
    "    numeroDeLineas = 0\n",
    "    numeroDeVocales = 0\n",
    "    \n",
    "    texto, longitudLineas, numeroDeLineas = leerFichero(nombreFichero)\n",
    "    texto = eliminarSeparadores(texto)\n",
    "    \n",
    "    numeroDePalabras = len(texto.split(\" \"))\n",
    "    \n",
    "    for palabra in texto.split(\" \"):\n",
    "        numeroDeCaracteres += len(palabra)\n",
    "    \n",
    "    numeroDeVocales = contarNumeroDeVocales(texto)\n",
    "    numPalabrasPorLongitud = contarNumeroDePalabrasPorLongitud(texto)\n",
    "    \n",
    "    escribirSalida(numeroDePalabras, numPalabrasPorLongitud, numeroDeCaracteres, longitudLineas, numeroDeLineas, numeroDeVocales)"
   ]
  },
  {
   "cell_type": "code",
   "execution_count": 188,
   "metadata": {},
   "outputs": [],
   "source": [
    "analizarFichero(\"fichero.txt\")"
   ]
  }
 ],
 "metadata": {
  "anaconda-cloud": {},
  "kernelspec": {
   "display_name": "Python 3",
   "language": "python",
   "name": "python3"
  },
  "language_info": {
   "codemirror_mode": {
    "name": "ipython",
    "version": 3
   },
   "file_extension": ".py",
   "mimetype": "text/x-python",
   "name": "python",
   "nbconvert_exporter": "python",
   "pygments_lexer": "ipython3",
   "version": "3.6.5"
  }
 },
 "nbformat": 4,
 "nbformat_minor": 1
}
