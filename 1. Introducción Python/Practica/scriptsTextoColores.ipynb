{
 "cells": [
  {
   "cell_type": "code",
   "execution_count": 178,
   "metadata": {},
   "outputs": [],
   "source": [
    "class bcolors:\n",
    "    HEADER = '\\033[95m'\n",
    "    BLUE = '\\033[94m'\n",
    "    GREEN = '\\033[92m'\n",
    "    WARNING = '\\033[93m'\n",
    "    RED = '\\033[91m'\n",
    "    ENDC = '\\033[0m'\n",
    "    BOLD = '\\033[1m'\n",
    "    UNDERLINE = '\\033[4m'\n",
    "    \n",
    "def adapt(atr):\n",
    "    return (atr if isinstance(atr, str) else str(atr));\n",
    "    \n",
    "def blue(atr):\n",
    "    return bcolors.BLUE+adapt(atr)+bcolors.ENDC;\n",
    "\n",
    "def green(atr):\n",
    "    return bcolors.GREEN+adapt(atr)+bcolors.ENDC;\n",
    "\n",
    "def red(atr):\n",
    "    return bcolors.RED+adapt(atr)+bcolors.ENDC;\n",
    "\n",
    "def bold(atr):\n",
    "    return bcolors.BOLD+adapt(atr)+bcolors.ENDC;"
   ]
  },
  {
   "cell_type": "markdown",
   "metadata": {},
   "source": [
    "### Práctica de Introducción al lenguaje Python"
   ]
  },
  {
   "cell_type": "markdown",
   "metadata": {},
   "source": [
    "#### Ejercicio 1[3 puntos]\n",
    "Considerar el problema de la subcadena común maxima de dos cadenas. Se pide crear un programa en Python que dadasdos cadenas como entrada devuelva la subcadena común a ambas que sea lo más grande posible. Por ejemplo entre \"análisis de algoritmos\" y \"algo\", la subcadena común sería \"algo\".\n",
    "Podéis consultar la siguiente página donde existe documentación sobre los algoritmos aplicables:\n",
    "\n",
    "https://users.dcc.uchile.cl/~bebustos/apuntes/cc3001/BusqTexto/"
   ]
  },
  {
   "cell_type": "code",
   "execution_count": 195,
   "metadata": {},
   "outputs": [
    {
     "name": "stdout",
     "output_type": "stream",
     "text": [
      "\u001b[1mExercise 1\u001b[0m\n",
      "\n",
      "The max common substring between '\u001b[94manálisis de algoritmos\u001b[0m' and '\u001b[94malgoritmos\u001b[0m' is: '\u001b[92malgoritmos\u001b[0m'\n"
     ]
    }
   ],
   "source": [
    "## Exercise 1\n",
    "\n",
    "\n",
    "# -- Code\n",
    "def outOfRange(i, max):\n",
    "    return i < max;\n",
    "\n",
    "def outOfRanges(i, j, maxI, maxJ):\n",
    "    return outOfRange(i, maxI) and outOfRange(j, maxJ);\n",
    "\n",
    "def printColor(str):\n",
    "    print(bcolors.OKBLUE + str + bcolors.ENDC);\n",
    "\n",
    "def maxLengthSubstring(str1, str2):\n",
    "    i = j = substrLength = maxSubstrLength = substrInitPos = maxSubstrInitPos = maxSubstrLastPos = 0;\n",
    "    \n",
    "    while outOfRanges(i, j, len(str1), len(str2)):\n",
    "        if str1[i] == str2[j]:\n",
    "            i+=1;\n",
    "            j+=1;\n",
    "            substrLength+=1;\n",
    "        else:\n",
    "            i+=1;\n",
    "            j = 0;\n",
    "            substrLength = 0;\n",
    "            substrInitPos = i;\n",
    "\n",
    "        if substrLength > maxSubstrLength :\n",
    "            maxSubstrLength = substrLength;\n",
    "            maxSubstrInitPos = substrInitPos;\n",
    "            maxSubstrLastPos = i;\n",
    "    \n",
    "    return str1[maxSubstrInitPos : maxSubstrLastPos];\n",
    "\n",
    "\n",
    "# -- Print result\n",
    "print(bold(\"Exercise 1\")+\"\\n\");\n",
    "\n",
    "str1 = \"análisis de algoritmos\";\n",
    "str2 = \"algoritmos\";\n",
    "result = maxLengthSubstring(str1, str2);\n",
    "\n",
    "print(\"The max common substring between '\"+blue(str1)+\"' and '\"+blue(str2)+\"' is: '\"+green(result)+\"'\");"
   ]
  },
  {
   "cell_type": "markdown",
   "metadata": {},
   "source": [
    "#### Ejercicio 2[3,5 puntos]\n",
    "Considera el problema de la integración numérica de una función entre dos puntos a y b. La integración se puede calcular como el sumatorio del área de un conjunto de rectangulos. Si n es el número de rectángulos que se usan para realizar la aproximación, entonces la integral de una función f entre los puntos a y b se puede aproximar por la fórmula:\n",
    "\n",
    "$$     \n",
    "\\sum_{i=0}^{n-1}(\\frac{b-a}{n})* f(a+ i* (\\frac{b-a}{n}))\n",
    "$$\n",
    "\n",
    "Se pide:\n",
    "* Crear una función genérica que tome como entrada una función, el número de rectangulos n, y los puntos a y b, y devuelva como el resultado la integral numérica de la función entre los puntos a y b. \n",
    "\n",
    "* Crear una función que realice el cálculo de la función $$f(x)=1+x+x^{2}+x^{3}+x^{4}$$\n",
    "\n",
    "* Calcular usando las funciones anteriores, la integral de la función anterior entre los puntos 2 y 7 usando 5 rectángulos.\n",
    "\n",
    "$$ \\int_{2}^{7} 1+x+x^{2}+x^{3}+x^{4} dx $$"
   ]
  },
  {
   "cell_type": "code",
   "execution_count": 193,
   "metadata": {},
   "outputs": [
    {
     "name": "stdout",
     "output_type": "stream",
     "text": [
      "\u001b[1mExercise 2\u001b[0m\n",
      "\n",
      "\u001b[91mYou must introduce a positive number\u001b[0m\n"
     ]
    }
   ],
   "source": [
    "## Exercise 2\n",
    "\n",
    "# -- Code\n",
    "def evaluateIntegralBetweenTwoPoints (func, n, a, b) :\n",
    "\tres = 0;\n",
    "\tfor i in range(n) :\n",
    "\t\tdivision = (b - a) / n;\n",
    "\t\tres += division * func(a + i * division);\n",
    "\t\n",
    "\treturn res;\n",
    "\n",
    "def f(x) :\n",
    "\treturn 1 + x + x**2 + x**3 + x**4;\n",
    "\n",
    "\n",
    "# -- Print result\n",
    "print(bold(\"Exercise 2\")+\"\\n\");\n",
    "error = \"You must introduce a positive number\";\n",
    "a = 2;\n",
    "b = 7;\n",
    "n = 0;\n",
    "\n",
    "if n > 0:\n",
    "    result = evaluateIntegralBetweenTwoPoints(f, n, a, b);\n",
    "    resultStr = \"The result from evaluate the integral formula between \";\n",
    "    resultStr += blue(a)+\" and \"+blue(b)+\" with \"+blue(n)+\" rectangle\";\n",
    "    resultStr += (\"s\" if n != 1 else \"\")+\" is: \"+green(result);\n",
    "    print(resultStr);\n",
    "else:\n",
    "    print(red(error));"
   ]
  },
  {
   "cell_type": "markdown",
   "metadata": {},
   "source": [
    "#### Ejercicio 3[3,5 puntos]\n",
    "Implementar un programa en Python tal que tomando como entrada el nombre de un archivo de texto, realice un análisis del contenido del mismo y almacene el resultado en otro archivo de salida. El informe debe indicar:\n",
    "* Número de palabras de cada longitud que hay en el texto.\n",
    "* Número de líneas que hay en el archivo y longitud de cada línea de texto.\n",
    "* Número de palabras que hay en el archivo. Observar que hay que eliminar los separadores que aparecen en el texto.\n",
    "* Número de caracteres que hay en el archivo.Observar que hay que eliminar los separadores que aparecen en el texto.\n",
    "* Número de vocales que hay en el texto."
   ]
  },
  {
   "cell_type": "code",
   "execution_count": 194,
   "metadata": {},
   "outputs": [
    {
     "name": "stdout",
     "output_type": "stream",
     "text": [
      "\u001b[1mExercise 3\u001b[0m\n",
      "\n",
      "\u001b[92m-- Text Content Analyzer --\u001b[0m\n",
      "Introduce file name\n",
      "input.txt\n",
      "\n",
      "\u001b[94m Text \u001b[0m\n",
      "Guille es un\n",
      "ioeputa\n",
      "\n",
      "\u001b[94m Results from '\u001b[0minput.txt\u001b[94m' file\u001b[0m\n",
      "  - #words of each length: \n",
      "    - words length 2 appear 2 times\n",
      "    - words length 6 appear 1 time\n",
      "    - words length 7 appear 1 time\n",
      "  - #lines in text: 2\n",
      "    - line 1 length 12\n",
      "    - line 2 length 7\n",
      "  - #words in text: 4\n",
      "  - #chars: 19\n",
      "  - #vowels: 10\n",
      "\n"
     ]
    }
   ],
   "source": [
    "## Exercise 3\n",
    "import os\n",
    "\n",
    "# -- Code\n",
    "class fileAnalyzer:\n",
    "    file = \"\"\n",
    "    fileName = \"\"\n",
    "    text = \"\"\n",
    "    wordsPerLength = dict()\n",
    "    linesLength = []\n",
    "    numWords = 0\n",
    "    numChars = 0\n",
    "    numVowels = 0\n",
    "    \n",
    "    def __init__(self, inputFileName):\n",
    "        self.fileName = inputFileName;\n",
    "        self.file = open(self.fileName, \"r\");\n",
    "        self.text = self.file.read();\n",
    "    \n",
    "    def toString(self):\n",
    "        string = blue(\" Text \")+'\\n';\n",
    "        string+= self.text;\n",
    "        string+= '\\n'+'\\n';\n",
    "        string+= blue(\" Results from '\")+self.fileName+blue(\"' file\")+'\\n';\n",
    "        string+= \"  - #words of each length: \"+'\\n';\n",
    "        for w in sorted(self.wordsPerLength, key=self.wordsPerLength.get, reverse=True):\n",
    "            times = self.wordsPerLength[w];\n",
    "            string+= \"    - words length \"+str(w)+\" appear \"+str(times)+\" time\"+(\"s\" if times != 1 else \"\")+'\\n';\n",
    "        string+= \"  - #lines in text: \"+str(len(self.linesLength))+'\\n';   \n",
    "        for llIndex, ll in enumerate(self.linesLength):\n",
    "            string+= \"    - line \"+str(llIndex+1)+\" length \"+str(ll)+'\\n';\n",
    "        string+= \"  - #words in text: \"+str(self.numWords)+'\\n';\n",
    "        string+= \"  - #chars: \"+str(self.numChars)+'\\n';\n",
    "        string+= \"  - #vowels: \"+str(self.numVowels)+'\\n';\n",
    "        return string;\n",
    "            \n",
    "    def analyzeTextContent(self):\n",
    "        textLines = self.text.split('\\n');\n",
    "\n",
    "        for l, line in enumerate(textLines):\n",
    "            self.linesLength.insert(l,len(line));\n",
    "            self.numChars += len(line);\n",
    "            textWords = line.split(' ');\n",
    "\n",
    "            for w, word in enumerate(textWords):\n",
    "                self.numWords+=1;\n",
    "                self.numVowels += sum(letter in 'aeiou' for letter in word.lower());\n",
    "                if len(word) not in self.wordsPerLength:\n",
    "                    self.wordsPerLength[len(word)] = 0;\n",
    "                self.wordsPerLength[len(word)] += 1;\n",
    "\n",
    "                \n",
    "# -- Print result\n",
    "print(bold(\"Exercise 3\")+\"\\n\");\n",
    "print(green(\"-- Text Content Analyzer --\"));\n",
    "print(\"Introduce file name\");\n",
    "fileName = input();\n",
    "print();\n",
    "try:\n",
    "    fAnalyzer = fileAnalyzer(fileName);\n",
    "    fAnalyzer.analyzeTextContent();\n",
    "    print(fAnalyzer.toString());\n",
    "except FileNotFoundError:\n",
    "    print(red(\"File '\"+fileName+\"' not found in '\"+os.getcwd()+\"' directory\"));"
   ]
  },
  {
   "cell_type": "markdown",
   "metadata": {},
   "source": [
    "#### Normas de entrega\n",
    "\n",
    "* Fecha tope de entrega: 04/10/2018\n",
    "* La entrega se realizará subiendo al campus virtual un notebook de Jupyter con la solución. El archivo tendrá como nombre IntroPython_GrupoX donde X será el número de grupo correspondiente."
   ]
  }
 ],
 "metadata": {
  "anaconda-cloud": {},
  "kernelspec": {
   "display_name": "Python 3",
   "language": "python",
   "name": "python3"
  },
  "language_info": {
   "codemirror_mode": {
    "name": "ipython",
    "version": 3
   },
   "file_extension": ".py",
   "mimetype": "text/x-python",
   "name": "python",
   "nbconvert_exporter": "python",
   "pygments_lexer": "ipython3",
   "version": "3.6.5"
  }
 },
 "nbformat": 4,
 "nbformat_minor": 1
}
