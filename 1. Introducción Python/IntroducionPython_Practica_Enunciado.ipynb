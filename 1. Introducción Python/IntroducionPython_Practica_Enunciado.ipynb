{
 "cells": [
  {
   "cell_type": "markdown",
   "metadata": {},
   "source": [
    "### Práctica de Introducción al lenguaje Python"
   ]
  },
  {
   "cell_type": "markdown",
   "metadata": {},
   "source": [
    "#### Ejercicio 1[3 puntos]\n",
    "Considerar el problema de la subcadena común maxima de dos cadenas. Se pide crear un programa en Python que dadasdos cadenas como entrada devuelva la subcadena común a ambas que sea lo más grande posible. Por ejemplo entre \"análisis de algoritmos\" y \"algo\", la subcadena común sería \"algo\".\n",
    "Podéis consultar la siguiente página donde existe documentación sobre los algoritmos aplicables:\n",
    "\n",
    "https://users.dcc.uchile.cl/~bebustos/apuntes/cc3001/BusqTexto/"
   ]
  },
  {
   "cell_type": "markdown",
   "metadata": {},
   "source": [
    "#### Ejercicio 2[3,5 puntos]\n",
    "Considera el problema de la integración numérica de una función entre dos puntos a y b. La integración se puede calcular como el sumatorio del área de un conjunto de rectangulos. Si n es el número de rectángulos que se usan para realizar la aproximación, entonces la integral de una función f entre los puntos a y b se puede aproximar por la fórmula:\n",
    "\n",
    "$$     \n",
    "\\sum_{i=0}^{n-1}(\\frac{b-a}{n})* f(a+ i* (\\frac{b-a}{n}))\n",
    "$$\n",
    "\n",
    "Se pide:\n",
    "* Crear una función genérica que tome como entrada una función, el número de rectangulos n, y los puntos a y b, y devuelva como el resultado la integral numérica de la función entre los puntos a y b. \n",
    "\n",
    "* Crear una función que realice el cálculo de la función $$f(x)=1+x+x^{2}+x^{3}+x^{4}$$\n",
    "\n",
    "* Calcular usando las funciones anteriores, la integral de la función anterior entre los puntos 2 y 7 usando 5 rectángulos.\n",
    "\n",
    "$$ \\int_{2}^{7} 1+x+x^{2}+x^{3}+x^{4} dx $$"
   ]
  },
  {
   "cell_type": "markdown",
   "metadata": {},
   "source": [
    "#### Ejercicio 3[3,5 puntos]\n",
    "Implementar un programa en Python tal que tomando como entrada el nombre de un archivo de texto, realice un análisis del contenido del mismo y almacene el resultado en otro archivo de salida. El informe debe indicar:\n",
    "* Número de palabras de cada longitud que hay en el texto.\n",
    "* Número de líneas que hay en el archivo y longitud de cada línea de texto.\n",
    "* Número de palabras que hay en el archivo. Observar que hay que eliminar los separadores que aparecen en el texto.\n",
    "* Número de caracteres que hay en el archivo.Observar que hay que eliminar los separadores que aparecen en el texto.\n",
    "* Número de vocales que hay en el texto."
   ]
  },
  {
   "cell_type": "markdown",
   "metadata": {},
   "source": [
    "#### Normas de entrega\n",
    "\n",
    "* Fecha tope de entrega: 04/10/2017\n",
    "* La entrega se realizará subiendo al campus virtual un notebook de Jupyter con la solución. El archivo tendrá como nombre IntroPython_GrupoX donde X será el número de grupo correspondiente."
   ]
  },
  {
   "cell_type": "markdown",
   "metadata": {},
   "source": []
  }
 ],
 "metadata": {
  "anaconda-cloud": {},
  "kernelspec": {
   "display_name": "Python 3",
   "language": "python",
   "name": "python3"
  },
  "language_info": {
   "codemirror_mode": {
    "name": "ipython",
    "version": 3
   },
   "file_extension": ".py",
   "mimetype": "text/x-python",
   "name": "python",
   "nbconvert_exporter": "python",
   "pygments_lexer": "ipython3",
   "version": "3.6.5"
  }
 },
 "nbformat": 4,
 "nbformat_minor": 1
}
