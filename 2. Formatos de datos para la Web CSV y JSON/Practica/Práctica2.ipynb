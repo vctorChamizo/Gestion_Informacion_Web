{
 "cells": [
  {
   "cell_type": "markdown",
   "metadata": {},
   "source": [
    "### Práctica de Formatos de datos: CSV y JSON"
   ]
  },
  {
   "cell_type": "markdown",
   "metadata": {},
   "source": [
    "#### Ejercicio 1 [5 puntos]\n",
    "Considerar el archivo __Agenda.csv__ que contiene una relación de actividades de carácter cultural y de ocio, que se van a celebrar en los próximos 100 días y que se están celebrando en centros Municipales. \n",
    "\n",
    "Se pide crear un programa que permita realizar búsquedas sobre los datos incluidos en el documento. Para ello, se le preguntarán al usuario diversas preguntas que configurarán la consulta a realizar:\n",
    "* Primera pregunta. Distrito. Debe listar el conjunto de distritos que contiene el documento __[Campo Distrito]__, y el usuario deberá elegir uno de ellos. Se puede asignar un número o letra a cada distrito de manera que el usuario introduzca únicamente el número o letra seleccionado.\n",
    "\n",
    "* Segunda pregunta. Actividad. Debe listar el conjunto de tipos de actividades __[Campo Tipo]__, y el usuario deberá elegir uno de ellos. Se puede asignar un número o letra a cada tipo de actividad de manera que el usuario introduzca únicamente el número o letra seleccionado. Observar que para mostrar el tipo de actividad, hay que tratar el valor que aparece en el campo, de manera que se elimine la parte inicial de la cadena \"/contenido/actividades/\"\n",
    "\n",
    "* Tercera pregunta. Audiencia. Debe listar el conjunto de tipos de audiencia __[Campo Audiencia]__, y el usuario deberá elegir uno de ellos. Se puede asignar un número o letra a cada tipo de audiencia de manera que el usuario introduzca únicamente el número o letra seleccionado. Observar que para mostrar el tipo de audiencia, hay que tratar el valor que aparece en el campo, de manera que se elimine las apariciones de \"/usuario/\". Así mismo, hay casos en los que no existe una audiencia. En esos casos, cuando se realice una búsqueda, no será un campo de restricción, es decir que podrá aparecer como respuesta en las consultas si cumple los dos primeros criterios.\n",
    "\n",
    "* Cuarta pregunta. Horario. Se listará un conjunto de horarios en forma de intervalos de una hora. Por ejemplo 00:00-01:00,01:00-02:00..., 23:00-23:59. Se puede asignar un número o letra a cada tipo de audiencia de manera que el usuario introduzca únicamente el número o letra seleccionado. Estos intervalos no se obtienen del documento.\n",
    "\n",
    "Como resultado el programa deberá mostrar por pantalla información de las actividades que cumplen las respuestas introducidas. Concretamente:\n",
    "\n",
    "* Si no existe ningún evento con las condiciones indicadas entonces se mostrará el mensaje: \"No existe ningún evento con las condiciones indicadas\".\n",
    "\n",
    "* Si existen eventos que coinciden con las condiciones dadas, entonces por cada evento se debe mostrar por pantalla.\n",
    "  \n",
    "  1. Título.\n",
    "  \n",
    "  2. Fecha de inicio-Fecha de finalización.\n",
    "  \n",
    "  3. Días de la semana.\n",
    "  \n",
    "  4. Días excluidos.\n",
    "  \n",
    "  5. Hora.\n",
    "  \n",
    "  6. Descripción.\n",
    "  \n",
    "  7. Nombre de instalación.\n",
    "  \n",
    "  8. Tipo de actividad.\n",
    "  \n",
    "  9. Audiencia.\n",
    "\n",
    "* Generar un documento salida.csv con los resultados obtenidos."
   ]
  },
  {
   "cell_type": "markdown",
   "metadata": {},
   "source": [
    "Para leer los archivos usa un código como el siguiente:"
   ]
  },
  {
   "cell_type": "code",
   "execution_count": 16,
   "metadata": {},
   "outputs": [],
   "source": [
    "import csv\n",
    "import pandas as pd\n",
    "import numpy as np"
   ]
  },
  {
   "cell_type": "code",
   "execution_count": 17,
   "metadata": {},
   "outputs": [],
   "source": [
    "#Carga del fichero CSV.\n",
    "\n",
    "df = pd.read_csv(\"Documentacion_practica/Agenda.csv\", sep=\";\")\n"
   ]
  },
  {
   "cell_type": "markdown",
   "metadata": {},
   "source": [
    "### Primera consulta"
   ]
  },
  {
   "cell_type": "code",
   "execution_count": 156,
   "metadata": {},
   "outputs": [],
   "source": [
    "#Filtrar DataFrame por distritos.\n",
    "\n",
    "distritos = df.DISTRITO.unique()\n",
    "distritos = distritos[~pd.isna(distritos)]\n"
   ]
  },
  {
   "cell_type": "code",
   "execution_count": 41,
   "metadata": {},
   "outputs": [
    {
     "name": "stdout",
     "output_type": "stream",
     "text": [
      "Lista de distritos:\n",
      "\n",
      "1 - HORTALEZA\n",
      "2 - CIUDAD LINEAL\n",
      "3 - VILLAVERDE\n",
      "4 - CENTRO\n",
      "5 - SAN BLAS-CANILLEJAS\n",
      "6 - BARAJAS\n",
      "7 - MORATALAZ\n",
      "8 - SALAMANCA\n",
      "9 - LATINA\n",
      "10 - VILLA DE VALLECAS\n",
      "11 - TETUAN\n",
      "12 - USERA\n",
      "13 - CHAMARTIN\n",
      "14 - PUENTE DE VALLECAS\n",
      "15 - VICALVARO\n",
      "16 - CHAMBERI\n",
      "17 - ARGANZUELA\n",
      "18 - CARABANCHEL\n",
      "19 - RETIRO\n",
      "20 - FUENCARRAL-EL PARDO\n",
      "21 - MONCLOA-ARAVACA\n",
      "\n",
      "Seleccione un distrito: 1\n",
      "\n",
      "Distrito seleccionado correctamente\n"
     ]
    }
   ],
   "source": [
    "#Solicitud al cliente del distrito que desee.\n",
    "\n",
    "print (\"Lista de distritos:\\n\")\n",
    "\n",
    "indice = 1\n",
    "for distrito in distritos:\n",
    "    print (str(indice)+\" - \"+str(distrito))\n",
    "    indice += 1\n",
    "\n",
    "noValido = True\n",
    "\n",
    "seleccion = input(\"\\nSeleccione un distrito: \")\n",
    "\n",
    "while noValido:\n",
    "        \n",
    "        try:\n",
    "            seleccion = int(seleccion)\n",
    "            distritoSeleccionado = distritos[seleccion - 1]\n",
    "            noValido = False\n",
    "            \n",
    "        except ValueError:\n",
    "            seleccion = input(\"\\nERROR. No es un número, vuelva a introducir: \")\n",
    "        except IndexError:\n",
    "            seleccion = input(\"\\nERROR. Valor fuera de rango, vuelva a introducir: \")\n",
    "            \n",
    "print(\"\\nDistrito seleccionado correctamente\")\n"
   ]
  },
  {
   "cell_type": "markdown",
   "metadata": {},
   "source": [
    "### Segunda consulta"
   ]
  },
  {
   "cell_type": "code",
   "execution_count": 42,
   "metadata": {},
   "outputs": [],
   "source": [
    "#Filtrar DataFrame por tipo de actividades.\n",
    "\n",
    "actividades = df.TIPO.unique()\n",
    "actividades = actividades[~pd.isna(actividades)]"
   ]
  },
  {
   "cell_type": "code",
   "execution_count": 43,
   "metadata": {},
   "outputs": [],
   "source": [
    "#Elimiar informacion redundante de la cadena\n",
    "\n",
    "for i, actividad in enumerate(actividades):\n",
    "    actividades[i] = actividad[23:]"
   ]
  },
  {
   "cell_type": "code",
   "execution_count": 45,
   "metadata": {},
   "outputs": [
    {
     "name": "stdout",
     "output_type": "stream",
     "text": [
      "Lista de tipos de actividades:\n",
      "\n",
      "1 - DanzaBaile\n",
      "2 - TeatroPerformance/ComediaMonologo\n",
      "3 - ComemoracionesHomenajes\n",
      "4 - ConferenciasColoquios\n",
      "5 - 1ciudad21distritos\n",
      "6 - CuentacuentosTiteresMarionetas\n",
      "7 - CursosTalleres\n",
      "8 - TeatroPerformance\n",
      "9 - CineActividadesAudiovisuales\n",
      "10 - Musica/CantautorFolkCountry\n",
      "11 - Musica/RockPop\n",
      "12 - ProgramacionDestacadaAgendaCultura\n",
      "13 - ActividadesCalleArteUrbano\n",
      "14 - ConferenciasColoquios/Arte\n",
      "15 - CursosTalleres/Arte\n",
      "16 - DanzaBaile/FolcloreEtnica\n",
      "17 - Musica\n",
      "18 - RecitalesPresentacionesActosLiterarios\n",
      "19 - Musica/Flamenco\n",
      "20 - ConferenciasColoquios/Literatura\n",
      "21 - Exposiciones\n",
      "22 - ConcursosCertamenes\n",
      "23 - Fiestas\n",
      "24 - ZMUPI\n",
      "25 - ExcursionesItinerariosVisitas\n",
      "26 - CineActividadesAudiovisuales/CineFiccion\n",
      "27 - CircoMagia\n",
      "28 - JOBO\n",
      "29 - ZNewsletter\n",
      "30 - DanzaBaile/Flamenco\n",
      "31 - Musica/RapHipHop\n",
      "32 - Ferias\n",
      "33 - CongresosJornadas\n",
      "34 - TeatroPerformance/Performance\n",
      "35 - Campamentos\n",
      "36 - ItinerariosOtrasActividadesAmbientales\n",
      "37 - ConferenciasColoquios/CulturaLibre\n",
      "38 - CineActividadesAudiovisuales/CineDocumental\n",
      "\n",
      "Seleccione una actividad: 44\n",
      "\n",
      "ERROR. Valor fuera de rango, vuelva a introducir: w\n",
      "\n",
      "ERROR. No es un número, vuelva a introducir: 1\n",
      "\n",
      "Actividad seleccionada correctamente.\n"
     ]
    }
   ],
   "source": [
    "#Solicitud al cliente del tipo de actividad que desee.\n",
    "\n",
    "print (\"Lista de tipos de actividades:\\n\")\n",
    "\n",
    "indice = 1\n",
    "for actividad in actividades:\n",
    "    print (str(indice) + \" - \" + str(actividad))\n",
    "    indice += 1\n",
    "    \n",
    "noValido = True\n",
    "\n",
    "seleccion = input(\"\\nSeleccione una actividad: \")\n",
    "\n",
    "while noValido:\n",
    "        \n",
    "        try:\n",
    "            seleccion = int(seleccion)\n",
    "            actividadSeleccionada = actividades[seleccion - 1]\n",
    "            noValido = False\n",
    "            \n",
    "        except ValueError:\n",
    "            seleccion = input(\"\\nERROR. No es un número, vuelva a introducir: \")\n",
    "        except IndexError:\n",
    "            seleccion = input(\"\\nERROR. Valor fuera de rango, vuelva a introducir: \")\n",
    "            \n",
    "print(\"\\nActividad seleccionada correctamente.\")\n"
   ]
  },
  {
   "cell_type": "markdown",
   "metadata": {},
   "source": [
    "### Tercera consulta"
   ]
  },
  {
   "cell_type": "code",
   "execution_count": 79,
   "metadata": {},
   "outputs": [],
   "source": [
    "#Filtrar DataFrame por audiencia.\n",
    "\n",
    "audiencias_aux = df.AUDIENCIA.unique()\n",
    "audiencias_aux = audiencias_aux[~pd.isna(audiencias_aux)]"
   ]
  },
  {
   "cell_type": "code",
   "execution_count": 80,
   "metadata": {},
   "outputs": [],
   "source": [
    "#Elimiar informacion redundante de la cadena\n",
    "\n",
    "audiencias = set()\n",
    "\n",
    "for audiencia in audiencias_aux:\n",
    "    audienciasTipo = audiencia.split(\",\") #separamos individualmente las audiencias de cada evento\n",
    "    for tipo in audienciasTipo:\n",
    "        audiencias.add(tipo[9:]) #no añade informacion repetida\n",
    "        "
   ]
  },
  {
   "cell_type": "code",
   "execution_count": 82,
   "metadata": {},
   "outputs": [
    {
     "name": "stdout",
     "output_type": "stream",
     "text": [
      "Lista de tipo de audiencia:\n",
      "\n",
      "1 - Mayores\n",
      "2 - Discapacitados\n",
      "3 - Consumidores\n",
      "4 - EstudianteseInvestigadores\n",
      "5 - Contribuyentes\n",
      "6 - Jovenes\n",
      "7 - Familias\n",
      "8 - Mujeres\n",
      "9 - Niños\n",
      "10 - EmpresariosYComerciantes\n",
      "\n",
      "Seleccione una audiencia: 3\n",
      "\n",
      "Audiencia seleccionada correctamente.\n",
      "Consumidores\n"
     ]
    }
   ],
   "source": [
    "#Solicitud al cliente del tipo de actividad que desee.\n",
    "\n",
    "print (\"Lista de tipo de audiencia:\\n\")\n",
    "\n",
    "indice = 1\n",
    "for audiencia in audiencias:\n",
    "    print (str(indice)+\" - \"+str(audiencia))\n",
    "    indice += 1\n",
    "    \n",
    "noValido = True\n",
    "\n",
    "seleccion = input(\"\\nSeleccione una audiencia: \")\n",
    "\n",
    "while noValido:\n",
    "        \n",
    "        try:\n",
    "            seleccion = int(seleccion)\n",
    "            audiencias = list(audiencias)\n",
    "            audienciaSeleccionada = audiencias[seleccion - 1]\n",
    "            noValido = False\n",
    "            \n",
    "        except ValueError:\n",
    "            seleccion = input(\"\\nERROR. No es un número, vuelva a introducir: \")\n",
    "        except IndexError:\n",
    "            seleccion = input(\"\\nERROR. Valor fuera de rango, vuelva a introducir: \")\n",
    "            \n",
    "print(\"\\nAudiencia seleccionada correctamente.\")\n"
   ]
  },
  {
   "cell_type": "markdown",
   "metadata": {},
   "source": [
    "### Cuarta consulta"
   ]
  },
  {
   "cell_type": "code",
   "execution_count": 24,
   "metadata": {},
   "outputs": [],
   "source": [
    "def crearHorarios():\n",
    "    \n",
    "    h = {}\n",
    "    \n",
    "    for i in range(24):\n",
    "        \n",
    "            h[i] = \"{:02d}:00-{:02d}:00\".format(i, i + 1)\n",
    "\n",
    "    return h\n",
    "    "
   ]
  },
  {
   "cell_type": "code",
   "execution_count": 83,
   "metadata": {},
   "outputs": [
    {
     "name": "stdout",
     "output_type": "stream",
     "text": [
      "Lista de horarios:\n",
      "\n",
      "1. 00:00-01:00\n",
      "2. 01:00-02:00\n",
      "3. 02:00-03:00\n",
      "4. 03:00-04:00\n",
      "5. 04:00-05:00\n",
      "6. 05:00-06:00\n",
      "7. 06:00-07:00\n",
      "8. 07:00-08:00\n",
      "9. 08:00-09:00\n",
      "10. 09:00-10:00\n",
      "11. 10:00-11:00\n",
      "12. 11:00-12:00\n",
      "13. 12:00-13:00\n",
      "14. 13:00-14:00\n",
      "15. 14:00-15:00\n",
      "16. 15:00-16:00\n",
      "17. 16:00-17:00\n",
      "18. 17:00-18:00\n",
      "19. 18:00-19:00\n",
      "20. 19:00-20:00\n",
      "21. 20:00-21:00\n",
      "22. 21:00-22:00\n",
      "23. 22:00-23:00\n",
      "24. 23:00-24:00\n",
      "\n",
      "Seleccione un horario: 1\n",
      "\n",
      "Horario seleccionada correctamente.\n",
      "00:00-01:00\n"
     ]
    }
   ],
   "source": [
    "#Solicitud al cliente del horario que desee:\n",
    "\n",
    "print (\"Lista de horarios:\\n\")\n",
    "\n",
    "horarios = crearHorarios()\n",
    "    \n",
    "for i in horarios:\n",
    "    print(str(i + 1) + \". \" + horarios[i])\n",
    "    \n",
    "noValido = True\n",
    "\n",
    "seleccion = input(\"\\nSeleccione un horario: \")\n",
    "\n",
    "while noValido:\n",
    "        \n",
    "        try:\n",
    "            seleccion = int(seleccion)\n",
    "            horarioSeleccionado = horarios[seleccion - 1]\n",
    "            noValido = False\n",
    "            \n",
    "        except ValueError:\n",
    "            seleccion = input(\"\\nERROR. No es un número, vuelva a introducir: \")\n",
    "        except IndexError:\n",
    "            seleccion = input(\"\\nERROR. Valor fuera de rango, vuelva a introducir: \")\n",
    "            \n",
    "print(\"\\nHorario seleccionado correctamente.\")\n"
   ]
  },
  {
   "cell_type": "markdown",
   "metadata": {},
   "source": [
    "### Filtrar eventos"
   ]
  },
  {
   "cell_type": "code",
   "execution_count": 134,
   "metadata": {},
   "outputs": [],
   "source": [
    "def filtrarEventos(listaEventos):\n",
    "    \n",
    "    listaEventos = listaEventos.loc[listaEventos['DISTRITO'] == distritoSeleccionado]\n",
    "    listaEventos = listaEventos.loc[listaEventos['TIPO'] == (\"/contenido/actividades/\" + actividadSeleccionada)]\n",
    "\n",
    "    #Falta filtrar por audiencia y horario.\n",
    "    \n",
    "    return listaEventos\n",
    "\n",
    "#Referencias: https://stackoverflow.com/questions/44890713/selection-with-loc-in-python\n"
   ]
  },
  {
   "cell_type": "markdown",
   "metadata": {},
   "source": [
    "### Mostrar eventos"
   ]
  },
  {
   "cell_type": "code",
   "execution_count": 153,
   "metadata": {},
   "outputs": [],
   "source": [
    "def mostrarEventos(listaEventos):\n",
    "    \n",
    "    for indice, evento in listaEventos.iterrows():\n",
    "        \n",
    "        print (\"\\n\\n - Evento \" + str(indice) + \" -\\n\")\n",
    "        \n",
    "        print (\"1. Titulo: \" + str(evento['TITULO']))\n",
    "        print (\"2. Fecha de inicio: \" + str(evento['FECHA']))\n",
    "        print (\"3. Fecha de finalizacion: \" + str(evento['FECHA-FIN']))\n",
    "        print (\"4. Dias de la semana: \" + str(evento['DIAS-SEMANA']))\n",
    "        print (\"5. Dias excluidos: \" + str(evento['DIAS-EXCLUIDOS']))\n",
    "        print (\"6. Hora: \" + str(evento['HORA']))\n",
    "        print (\"7. Descripción:\" + str(evento['DESCRIPCION']))\n",
    "        print (\"8. Nombre de instalación: \" + str(evento['NOMBRE-INSTALACION']))\n",
    "        print (\"9. Tipo de actividad: \" + str(evento['TIPO']))\n",
    "        print (\"10. Audiencia: \" + str(evento['AUDIENCIA']))\n",
    "        \n",
    "#Referencia: https://stackoverflow.com/questions/16476924/how-to-iterate-over-rows-in-a-dataframe-in-pandas\n"
   ]
  },
  {
   "cell_type": "code",
   "execution_count": 154,
   "metadata": {},
   "outputs": [
    {
     "name": "stdout",
     "output_type": "stream",
     "text": [
      "\n",
      "\n",
      " - Evento 0 -\n",
      "\n",
      "1. Titulo: 3mujeres\n",
      "2. Fecha de inicio: 2018-09-30 00:00:00.0\n",
      "3. Fecha de finalizacion: 2018-09-30 23:59:00.0\n",
      "4. Dias de la semana: nan\n",
      "5. Dias excluidos: nan\n",
      "6. Hora: 19:00\n",
      "7. Descripción:3Mujeres es el fruto de la colaboración entre dos de las compañías madrileñas de danza con más peso en el panorama nacional.   EnClaveDanza, LarumbeDanza, y la productora Es.Arte se unen para establecer una conexión artística directa, que aborda la creación desde el reto de cohesionar diferentes estilos de danza, fundamentados en la diversidad y mezcla culturales.  Dir. Cristina Masson ? EnClaveDanza.  Entrada: 6,70 euros, reducida 6 euros.  A partir de 16 años.\n",
      "8. Nombre de instalación: Centro Cultural Sanchinarro (Hortaleza)\n",
      "9. Tipo de actividad: /contenido/actividades/DanzaBaile\n",
      "10. Audiencia: nan\n",
      "\n",
      "\n",
      " - Evento 172 -\n",
      "\n",
      "1. Titulo: Danza. Materia\n",
      "2. Fecha de inicio: 2018-10-27 00:00:00.0\n",
      "3. Fecha de finalizacion: 2018-10-27 23:59:00.0\n",
      "4. Dias de la semana: nan\n",
      "5. Dias excluidos: nan\n",
      "6. Hora: 19:00\n",
      "7. Descripción:Compañía ZukDance.  Materia es un viaje inquietante que se adentra en nuestros sentimientos y cuestiona nuestros patrones de comportamiento, reivindicando que somos mucho más que piel y hueso.  Ensayo abierto al público.  Entrada libre hasta completar aforo. Reserva de entradas en  www.giglon.com .\n",
      "8. Nombre de instalación: Centro Cultural Sanchinarro (Hortaleza)\n",
      "9. Tipo de actividad: /contenido/actividades/DanzaBaile\n",
      "10. Audiencia: nan\n",
      "\n",
      "\n",
      " - Evento 173 -\n",
      "\n",
      "1. Titulo: Danza. Puk e Nuk\n",
      "2. Fecha de inicio: 2018-10-07 00:00:00.0\n",
      "3. Fecha de finalizacion: 2018-10-07 23:59:00.0\n",
      "4. Dias de la semana: nan\n",
      "5. Dias excluidos: nan\n",
      "6. Hora: 19:00\n",
      "7. Descripción:Dirección: Elías Aguirre.  Interpretación: David Ortega y Elías Aguirre.  Puk e Nuk Una nueva propuesta de la compañía para todos los públicos que combina danza y clown. Un viaje de dos personajes muy dispares en el que utilizan técnicas de teatro gestual, danza y humor para dar forma a diferentes escenas un tanto oníricas.  Entrada: 6,70 euros/ reducida 6,00 euros.\n",
      "8. Nombre de instalación: Centro Cultural Sanchinarro (Hortaleza)\n",
      "9. Tipo de actividad: /contenido/actividades/DanzaBaile\n",
      "10. Audiencia: nan\n",
      "\n",
      "\n",
      " - Evento 248 -\n",
      "\n",
      "1. Titulo: Encuentros históricos de danza\n",
      "2. Fecha de inicio: 2018-10-06 00:00:00.0\n",
      "3. Fecha de finalizacion: 2018-10-06 23:59:00.0\n",
      "4. Dias de la semana: nan\n",
      "5. Dias excluidos: nan\n",
      "6. Hora: 18:00\n",
      "7. Descripción:Encuentro con el público de personalidades de la danza  Entrada libre hasta completar aforo.  Reserva a través del email eventos@centroculturalsanchinarro.com\n",
      "8. Nombre de instalación: Centro Cultural Sanchinarro (Hortaleza)\n",
      "9. Tipo de actividad: /contenido/actividades/DanzaBaile\n",
      "10. Audiencia: nan\n",
      "\n",
      "\n",
      " - Evento 334 -\n",
      "\n",
      "1. Titulo: Io, lei, me (yo, ella, mi)\n",
      "2. Fecha de inicio: 2018-10-06 00:00:00.0\n",
      "3. Fecha de finalizacion: 2018-10-06 23:59:00.0\n",
      "4. Dias de la semana: nan\n",
      "5. Dias excluidos: nan\n",
      "6. Hora: 19:00\n",
      "7. Descripción:Atacama Contemporary Dance Company (Italia).  Dirección: Patrizia Cavola e Ivan Truol.  Este espectáculo se centra en representar a una mujer flotando entre los sentimientos en conflicto. Las facetas interminables e incontables del alma humana, que puede cambiar de la alegría a la tristeza, del miedo a la sorpresa, del placer a la vergüenza en una fracción de segundo.  Entrada: 6,70 euros/ reducida 6,00 euros.\n",
      "8. Nombre de instalación: Centro Cultural Sanchinarro (Hortaleza)\n",
      "9. Tipo de actividad: /contenido/actividades/DanzaBaile\n",
      "10. Audiencia: nan\n",
      "\n",
      "\n",
      " - Evento 624 -\n",
      "\n",
      "1. Titulo: Taller de danza en familia con Erina Sanders\n",
      "2. Fecha de inicio: 2018-10-06 00:00:00.0\n",
      "3. Fecha de finalizacion: 2018-10-07 23:59:00.0\n",
      "4. Dias de la semana: L,M,X,J,V,S,D\n",
      "5. Dias excluidos: nan\n",
      "6. Hora: 11:00\n",
      "7. Descripción:Entrada libre hasta completar aforo.  Reserva a través del email eventos@centroculturalsanchinarro.com\n",
      "8. Nombre de instalación: Centro Cultural Sanchinarro (Hortaleza)\n",
      "9. Tipo de actividad: /contenido/actividades/DanzaBaile\n",
      "10. Audiencia: nan\n"
     ]
    }
   ],
   "source": [
    "eventosFiltrados = filtrarEventos(df)\n",
    "\n",
    "if(eventosFiltrados == None):\n",
    "    print(\"No hay eventos con estas características.\")\n",
    "    \n",
    "else:\n",
    "    mostrarEventos(eventosFiltrados)\n",
    "    "
   ]
  },
  {
   "cell_type": "markdown",
   "metadata": {},
   "source": [
    "### Generar fichero salida"
   ]
  },
  {
   "cell_type": "code",
   "execution_count": null,
   "metadata": {},
   "outputs": [],
   "source": [
    "contactosFiltrados.to_csv(\"salida.csv\", sep=';', encoding='utf-8')\n",
    "\n",
    "#Referencias: https://stackoverflow.com/questions/16923281/pandas-writing-dataframe-to-csv-file\n"
   ]
  },
  {
   "cell_type": "markdown",
   "metadata": {},
   "source": [
    "#### Ejercicio 2 [3.5 puntos]\n",
    "Considerar el archivo __CentrosCulturas.json__ que incluye información sobre Centros Culturales, Socioculturales y Juveniles del Ayuntamiento de Madrid (incluídos aquellos en los que el Ayuntamiento es miembro del consorcio titular). También están incluidas las Salas de Estudio y Lectura. El fichero contiene los datos de localización (dirección, distrito y barrio), contacto, horario, servicios y actividades tipo que se pueden celebrar.\n",
    "\n",
    "El objetivo de este ejercicio es completar el ejercicio 1 para añadir información del centro cultural donde se realizan las actividades seleccionadas. Esta información se obtendrá del archivo __CentrosCulturales.json__.En este sentido, la modificación que se pide es añadir a la información que aparece en la pantalla sobre los eventos, información sobre el centro cultural: calle __[campo [address][street-address]]__, distrito postal __[campo [address][postal-code]]__,descripción del lugar __[ campo [organization][organization-desc]]__, accesibilidad __[ campo [organization][accesibility]]__ y servicios __[ campo [organization][services]]__."
   ]
  },
  {
   "cell_type": "markdown",
   "metadata": {},
   "source": [
    "Para leer los archivos usa un código como el siguiente:"
   ]
  },
  {
   "cell_type": "code",
   "execution_count": 5,
   "metadata": {},
   "outputs": [
    {
     "ename": "FileNotFoundError",
     "evalue": "[Errno 2] No such file or directory: 'CentrosCulturales.json'",
     "output_type": "error",
     "traceback": [
      "\u001b[1;31m---------------------------------------------------------------------------\u001b[0m",
      "\u001b[1;31mFileNotFoundError\u001b[0m                         Traceback (most recent call last)",
      "\u001b[1;32m<ipython-input-5-ee035d091c8a>\u001b[0m in \u001b[0;36m<module>\u001b[1;34m()\u001b[0m\n\u001b[0;32m      1\u001b[0m \u001b[1;32mimport\u001b[0m \u001b[0mjson\u001b[0m\u001b[1;33m\u001b[0m\u001b[0m\n\u001b[1;32m----> 2\u001b[1;33m \u001b[0mleer\u001b[0m \u001b[1;33m=\u001b[0m \u001b[0mjson\u001b[0m\u001b[1;33m.\u001b[0m\u001b[0mloads\u001b[0m\u001b[1;33m(\u001b[0m\u001b[0mopen\u001b[0m\u001b[1;33m(\u001b[0m\u001b[1;34m'CentrosCulturales.json'\u001b[0m\u001b[1;33m,\u001b[0m\u001b[0mencoding\u001b[0m\u001b[1;33m=\u001b[0m\u001b[1;34m\"utf8\"\u001b[0m\u001b[1;33m)\u001b[0m\u001b[1;33m.\u001b[0m\u001b[0mread\u001b[0m\u001b[1;33m(\u001b[0m\u001b[1;33m)\u001b[0m\u001b[1;33m)\u001b[0m\u001b[1;33m\u001b[0m\u001b[0m\n\u001b[0m",
      "\u001b[1;31mFileNotFoundError\u001b[0m: [Errno 2] No such file or directory: 'CentrosCulturales.json'"
     ]
    }
   ],
   "source": [
    "import json\n",
    "leer = json.loads(open('CentrosCulturales.json',encoding=\"utf8\").read())"
   ]
  },
  {
   "cell_type": "markdown",
   "metadata": {},
   "source": [
    "#### Ejercicio 3 [1.5 puntos]\n",
    "El objetivo de este ejercicio es completar el ejercicio 1 para mejorar la búsqueda realizada. En este sentido, habría que añadir una nueva pregunta:\n",
    "* Quinta pregunta. Distancia. Se preguntará al usuario que introduzca una longitud, una latitud y un número real que representa una distancia en kilometros. Así, el programa además de seleccionar por los criterios anteriores, tendrá en cuenta la distancia entre el lugar de realización del evento y la localización introducida, de manera que si esta distancia es mayor que la distancia introducida por el usuario, entonces el evento no se mostrará. \n",
    "\n",
    "Otro cambio que habrá que hacer es mostrar en los eventos resultantes un campo de información sobre la distancia cálculada.\n",
    "  \n",
    "La información sobre la localización en términos de latitud y longitud del centro cultural se puede obtener tanto en el archivo __CentrosCulturales.json__ o __Agenda.json__. Por otro lado para calcular la distancia entre dos puntos dadas sus coordenadas se utilizará la siguiente función en Python:"
   ]
  },
  {
   "cell_type": "raw",
   "metadata": {},
   "source": [
    "import math\n",
    "\n",
    "def haversine(lat1, lon1, lat2, lon2):\n",
    "    rad=math.pi/180\n",
    "    dlat=lat2-lat1\n",
    "    dlon=lon2-lon1\n",
    "    R=6372.795477598\n",
    "    a=(math.sin(rad*dlat/2))**2 + math.cos(rad*lat1)*math.cos(rad*lat2)*(math.sin(rad*dlon/2))**2\n",
    "    distancia=2*R*math.asin(math.sqrt(a))\n",
    "    return distancia"
   ]
  },
  {
   "cell_type": "markdown",
   "metadata": {},
   "source": [
    "#### Normas de entrega\n",
    "\n",
    "* Fecha tope de entrega: 11/10/2018\n",
    "* La entrega se realizará subiendo al campus virtual un notebook de Jupyter con la solución. El archivo tendrá como nombre FormatosI_GrupoX donde X será el número de grupo correspondiente."
   ]
  }
 ],
 "metadata": {
  "kernelspec": {
   "display_name": "Python 3",
   "language": "python",
   "name": "python3"
  },
  "language_info": {
   "codemirror_mode": {
    "name": "ipython",
    "version": 3
   },
   "file_extension": ".py",
   "mimetype": "text/x-python",
   "name": "python",
   "nbconvert_exporter": "python",
   "pygments_lexer": "ipython3",
   "version": "3.6.5"
  }
 },
 "nbformat": 4,
 "nbformat_minor": 2
}
