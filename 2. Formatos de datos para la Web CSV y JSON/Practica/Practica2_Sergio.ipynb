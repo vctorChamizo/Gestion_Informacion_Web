{
 "cells": [
  {
   "cell_type": "markdown",
   "metadata": {},
   "source": [
    "# Ejercicio 1"
   ]
  },
  {
   "cell_type": "code",
   "execution_count": 1,
   "metadata": {},
   "outputs": [],
   "source": [
    "import csv\n",
    "import pandas as pd\n",
    "import numpy as np\n",
    "import math \n",
    "import json"
   ]
  },
  {
   "cell_type": "code",
   "execution_count": 2,
   "metadata": {},
   "outputs": [],
   "source": [
    "contactos = pd.read_csv(\"Agenda.csv\", sep=';')"
   ]
  },
  {
   "cell_type": "markdown",
   "metadata": {},
   "source": [
    "### Primera pregunta: distrito"
   ]
  },
  {
   "cell_type": "code",
   "execution_count": 3,
   "metadata": {},
   "outputs": [],
   "source": [
    "distritos = contactos.DISTRITO.unique()\n",
    "distritos = distritos[~pd.isna(distritos)] #Eliminar los valores nan"
   ]
  },
  {
   "cell_type": "code",
   "execution_count": 4,
   "metadata": {},
   "outputs": [
    {
     "name": "stdout",
     "output_type": "stream",
     "text": [
      "1. HORTALEZA\n",
      "2. CIUDAD LINEAL\n",
      "3. VILLAVERDE\n",
      "4. CENTRO\n",
      "5. SAN BLAS-CANILLEJAS\n",
      "6. BARAJAS\n",
      "7. MORATALAZ\n",
      "8. SALAMANCA\n",
      "9. LATINA\n",
      "10. VILLA DE VALLECAS\n",
      "11. TETUAN\n",
      "12. USERA\n",
      "13. CHAMARTIN\n",
      "14. PUENTE DE VALLECAS\n",
      "15. VICALVARO\n",
      "16. CHAMBERI\n",
      "17. ARGANZUELA\n",
      "18. CARABANCHEL\n",
      "19. RETIRO\n",
      "20. FUENCARRAL-EL PARDO\n",
      "21. MONCLOA-ARAVACA\n",
      "Seleccionar un distrito: 1\n"
     ]
    }
   ],
   "source": [
    "i = 1\n",
    "\n",
    "for distrito in distritos:\n",
    "    print (str(i) + \". \" + str(distrito))\n",
    "    i += 1\n",
    "    \n",
    "numeroDeDistrito = input(\"Seleccionar un distrito: \")\n",
    "distrito = distritos[int(numeroDeDistrito) - 1]"
   ]
  },
  {
   "cell_type": "markdown",
   "metadata": {},
   "source": [
    "### Segunda pregunta: tipo de actividad"
   ]
  },
  {
   "cell_type": "code",
   "execution_count": 5,
   "metadata": {},
   "outputs": [],
   "source": [
    "actividades = contactos.TIPO.unique()\n",
    "actividades = actividades[~pd.isna(actividades)] #Eliminar los valores nan"
   ]
  },
  {
   "cell_type": "code",
   "execution_count": 6,
   "metadata": {},
   "outputs": [],
   "source": [
    "#Eliminar de las actividades la subcadena /contenido/actividades/\n",
    "for i, actividad in enumerate(actividades):\n",
    "    actividades[i] = actividad[23:]"
   ]
  },
  {
   "cell_type": "code",
   "execution_count": 7,
   "metadata": {},
   "outputs": [
    {
     "name": "stdout",
     "output_type": "stream",
     "text": [
      "1. DanzaBaile\n",
      "2. TeatroPerformance/ComediaMonologo\n",
      "3. ComemoracionesHomenajes\n",
      "4. ConferenciasColoquios\n",
      "5. 1ciudad21distritos\n",
      "6. CuentacuentosTiteresMarionetas\n",
      "7. CursosTalleres\n",
      "8. TeatroPerformance\n",
      "9. CineActividadesAudiovisuales\n",
      "10. Musica/CantautorFolkCountry\n",
      "11. Musica/RockPop\n",
      "12. ProgramacionDestacadaAgendaCultura\n",
      "13. ActividadesCalleArteUrbano\n",
      "14. ConferenciasColoquios/Arte\n",
      "15. CursosTalleres/Arte\n",
      "16. DanzaBaile/FolcloreEtnica\n",
      "17. Musica\n",
      "18. RecitalesPresentacionesActosLiterarios\n",
      "19. Musica/Flamenco\n",
      "20. ConferenciasColoquios/Literatura\n",
      "21. Exposiciones\n",
      "22. ConcursosCertamenes\n",
      "23. Fiestas\n",
      "24. ZMUPI\n",
      "25. ExcursionesItinerariosVisitas\n",
      "26. CineActividadesAudiovisuales/CineFiccion\n",
      "27. CircoMagia\n",
      "28. JOBO\n",
      "29. ZNewsletter\n",
      "30. DanzaBaile/Flamenco\n",
      "31. Musica/RapHipHop\n",
      "32. Ferias\n",
      "33. CongresosJornadas\n",
      "34. TeatroPerformance/Performance\n",
      "35. Campamentos\n",
      "36. ItinerariosOtrasActividadesAmbientales\n",
      "37. ConferenciasColoquios/CulturaLibre\n",
      "38. CineActividadesAudiovisuales/CineDocumental\n",
      "Seleccionar una actividad: 23\n"
     ]
    }
   ],
   "source": [
    "i = 1\n",
    "\n",
    "for actividad in actividades:\n",
    "    print (str(i) + \". \" + str(actividad))\n",
    "    i += 1\n",
    "    \n",
    "numeroDeActividad = input(\"Seleccionar una actividad: \")\n",
    "actividad = actividades[int(numeroDeActividad) - 1]"
   ]
  },
  {
   "cell_type": "markdown",
   "metadata": {},
   "source": [
    "### Tercera pregunta: audiencia"
   ]
  },
  {
   "cell_type": "code",
   "execution_count": 8,
   "metadata": {},
   "outputs": [],
   "source": [
    "audiencias = contactos.AUDIENCIA\n",
    "audiencias = audiencias[~pd.isna(audiencias)] #Eliminar los valores nan"
   ]
  },
  {
   "cell_type": "code",
   "execution_count": 9,
   "metadata": {},
   "outputs": [],
   "source": [
    "audienciasUnicas = set()\n",
    "\n",
    "# Conseguir las distintas audiencias eliminando /usuario/ de ellas\n",
    "for audiencia in audiencias:\n",
    "    tiposAudiencia = audiencia.split(\",\")\n",
    "    for tipo in tiposAudiencia:\n",
    "        audienciasUnicas.add(tipo[9:])"
   ]
  },
  {
   "cell_type": "code",
   "execution_count": 10,
   "metadata": {},
   "outputs": [
    {
     "name": "stdout",
     "output_type": "stream",
     "text": [
      "{'Jovenes', 'Familias', 'Mujeres', 'Mayores', 'EmpresariosYComerciantes', 'EstudianteseInvestigadores', 'Contribuyentes', 'Niños', 'Discapacitados', 'Consumidores'}\n"
     ]
    }
   ],
   "source": [
    "print (audienciasUnicas)"
   ]
  },
  {
   "cell_type": "code",
   "execution_count": 11,
   "metadata": {},
   "outputs": [
    {
     "name": "stdout",
     "output_type": "stream",
     "text": [
      "1. Jovenes\n",
      "2. Familias\n",
      "3. Mujeres\n",
      "4. Mayores\n",
      "5. EmpresariosYComerciantes\n",
      "6. EstudianteseInvestigadores\n",
      "7. Contribuyentes\n",
      "8. Niños\n",
      "9. Discapacitados\n",
      "10. Consumidores\n",
      "Seleccionar una audiencia: 9\n"
     ]
    }
   ],
   "source": [
    "i = 1\n",
    "\n",
    "for audiencia in audienciasUnicas:\n",
    "    print (str(i) + \". \" + str(audiencia))\n",
    "    i += 1\n",
    "    \n",
    "numeroDeAudiencia = input(\"Seleccionar una audiencia: \")\n",
    "audiencia = list(audienciasUnicas)[int(numeroDeAudiencia) - 1]"
   ]
  },
  {
   "cell_type": "markdown",
   "metadata": {},
   "source": [
    "### Cuarta pregunta: horario"
   ]
  },
  {
   "cell_type": "code",
   "execution_count": 12,
   "metadata": {},
   "outputs": [],
   "source": [
    "def crearIntervalos():\n",
    "    horarios = {}\n",
    "    i = 0\n",
    "\n",
    "    for i in range(23):\n",
    "        if (i < 22):\n",
    "            horarios[i] = \"{:02d}:00-{:02d}:00\".format(i, i + 1)\n",
    "        else:\n",
    "            horarios[i] = \"23:00-23:59\"\n",
    "            \n",
    "    return horarios"
   ]
  },
  {
   "cell_type": "code",
   "execution_count": 13,
   "metadata": {},
   "outputs": [
    {
     "name": "stdout",
     "output_type": "stream",
     "text": [
      "1. 00:00-01:00\n",
      "2. 01:00-02:00\n",
      "3. 02:00-03:00\n",
      "4. 03:00-04:00\n",
      "5. 04:00-05:00\n",
      "6. 05:00-06:00\n",
      "7. 06:00-07:00\n",
      "8. 07:00-08:00\n",
      "9. 08:00-09:00\n",
      "10. 09:00-10:00\n",
      "11. 10:00-11:00\n",
      "12. 11:00-12:00\n",
      "13. 12:00-13:00\n",
      "14. 13:00-14:00\n",
      "15. 14:00-15:00\n",
      "16. 15:00-16:00\n",
      "17. 16:00-17:00\n",
      "18. 17:00-18:00\n",
      "19. 18:00-19:00\n",
      "20. 19:00-20:00\n",
      "21. 20:00-21:00\n",
      "22. 21:00-22:00\n",
      "23. 23:00-23:59\n",
      "Seleccionar un horario: 3\n"
     ]
    }
   ],
   "source": [
    "horarios = crearIntervalos()\n",
    "i = 0\n",
    "\n",
    "for i in range(23):\n",
    "    if (i < 22):\n",
    "        print (str(i + 1) + \". {:02d}:00-{:02d}:00\".format(i, i + 1))\n",
    "    else:\n",
    "        print (str(i + 1) + \". 23:00-23:59\")\n",
    "    i += 1\n",
    "    \n",
    "numeroDeHorario = input(\"Seleccionar un horario: \")\n",
    "horario = horarios[int(numeroDeHorario) - 1]"
   ]
  },
  {
   "cell_type": "markdown",
   "metadata": {},
   "source": [
    "### Obtener resultados"
   ]
  },
  {
   "cell_type": "code",
   "execution_count": 14,
   "metadata": {},
   "outputs": [],
   "source": [
    "def filtrarContactos():\n",
    "    # Filtrar por distrito\n",
    "    contactosFiltrados = contactos.loc[contactos['DISTRITO'] == distrito]\n",
    "    \n",
    "    # Filtrar por tipo de actividad\n",
    "    contactosFiltrados = contactosFiltrados.loc[contactosFiltrados['TIPO'] == (\"/contenido/actividades/\" + actividad)]\n",
    "    \n",
    "    # Filtrar por audiencia\n",
    "    for index, contacto in contactosFiltrados.iterrows():\n",
    "        if not pd.isnull(contacto['AUDIENCIA']):\n",
    "            audiencias = contacto['AUDIENCIA'].split(\",\")\n",
    "\n",
    "            if (\"/usuario/\" + audiencia) not in audiencias:\n",
    "                contactosFiltrados = contactosFiltrados.drop([index])\n",
    "                \n",
    "    # Filtrar por horario\n",
    "    for index, contacto in contactosFiltrados.iterrows():\n",
    "        if contacto['HORA'][:2] not in horario:\n",
    "            contactosFiltrados = contactosFiltrados.drop([index])\n",
    "            \n",
    "    return contactosFiltrados"
   ]
  },
  {
   "cell_type": "code",
   "execution_count": 15,
   "metadata": {},
   "outputs": [],
   "source": [
    "contactosFiltrados = filtrarContactos()"
   ]
  },
  {
   "cell_type": "markdown",
   "metadata": {},
   "source": [
    "### Mostrar los resultados"
   ]
  },
  {
   "cell_type": "code",
   "execution_count": 16,
   "metadata": {},
   "outputs": [],
   "source": [
    "def mostrarResultado(contactos):\n",
    "    for index, contacto in contactos.iterrows():\n",
    "        print (\"----------------------------------------------\")\n",
    "        print (\"1. Titulo: \" + str(contacto['TITULO']))\n",
    "        print (\"2. Fecha de inicio: \" + str(contacto['FECHA']))\n",
    "        print (\"3. Fecha de finalizacion: \" + str(contacto['FECHA-FIN']))\n",
    "        print (\"4. Dias de la semana: \" + str(contacto['DIAS-SEMANA']))\n",
    "        print (\"5. Dias excluidos: \" + str(contacto['DIAS-EXCLUIDOS']))\n",
    "        print (\"6. Hora: \" + str(contacto['HORA']))\n",
    "        print (\"7. Descripción: \" + str(contacto['DESCRIPCION']))\n",
    "        print (\"8. Nombre de instalación: \" + str(contacto['NOMBRE-INSTALACION']))\n",
    "        print (\"9. Tipo de actividad: \" + str(contacto['TIPO']))\n",
    "        print (\"10. Audiencia: \" + str(contacto['AUDIENCIA']))"
   ]
  },
  {
   "cell_type": "code",
   "execution_count": 17,
   "metadata": {},
   "outputs": [
    {
     "name": "stdout",
     "output_type": "stream",
     "text": [
      "No existe ningún evento con las condiciones indicadas.\n"
     ]
    }
   ],
   "source": [
    "if contactosFiltrados.empty:\n",
    "    print (\"No existe ningún evento con las condiciones indicadas.\")\n",
    "else:\n",
    "    mostrarResultado(contactosFiltrados)"
   ]
  },
  {
   "cell_type": "markdown",
   "metadata": {},
   "source": [
    "### Generar fichero de salida"
   ]
  },
  {
   "cell_type": "code",
   "execution_count": 18,
   "metadata": {},
   "outputs": [],
   "source": [
    "contactosFiltrados.to_csv(\"salida.csv\", sep=';', encoding='utf-8')"
   ]
  },
  {
   "cell_type": "markdown",
   "metadata": {},
   "source": [
    "# Ejercicio 2"
   ]
  },
  {
   "cell_type": "code",
   "execution_count": 19,
   "metadata": {},
   "outputs": [],
   "source": [
    "instalaciones = json.loads(open('CentrosCulturales.json', encoding=\"utf8\").read())"
   ]
  },
  {
   "cell_type": "code",
   "execution_count": 20,
   "metadata": {},
   "outputs": [],
   "source": [
    "def buscarDatosInstalacion(nombreInstalacion):\n",
    "    for instalacion in instalaciones[\"@graph\"]:\n",
    "         if instalacion[\"title\"] == nombreInstalacion:\n",
    "            return instalacion[\"address\"][\"street-address\"], instalacion[\"address\"][\"postal-code\"], instalacion[\"organization\"][\"organization-desc\"], instalacion[\"organization\"][\"accesibility\"], instalacion[\"organization\"][\"services\"]\n",
    "    \n",
    "    # Hay instalaciones en Agenda.csv que no están en Centrosculturales.json\n",
    "    # Para esas instalaciones devuelvo cadenas vacías para que no haya errores\n",
    "    # al mostrar los resultados\n",
    "    return \"\", \"\", \"\", \"\", \"\""
   ]
  },
  {
   "cell_type": "code",
   "execution_count": 21,
   "metadata": {},
   "outputs": [],
   "source": [
    "def mostrarResultadosExtendidos(contactos):\n",
    "    for index, contacto in contactos.iterrows():\n",
    "        direccion, codigoPostal, descripcion, accesibilidad, servicios = buscarDatosInstalacion(contacto['NOMBRE-INSTALACION'])\n",
    "            \n",
    "        print (\"----------------------------------------------\")\n",
    "        print (\"1. Titulo: \" + str(contacto['TITULO']))\n",
    "        print (\"2. Fecha de inicio: \" + str(contacto['FECHA']))\n",
    "        print (\"3. Fecha de finalizacion: \" + str(contacto['FECHA-FIN']))\n",
    "        print (\"4. Dias de la semana: \" + str(contacto['DIAS-SEMANA']))\n",
    "        print (\"5. Dias excluidos: \" + str(contacto['DIAS-EXCLUIDOS']))\n",
    "        print (\"6. Hora: \" + str(contacto['HORA']))\n",
    "        print (\"7. Descripción: \" + str(contacto['DESCRIPCION']))\n",
    "        print (\"8. Nombre de instalación: \" + str(contacto['NOMBRE-INSTALACION']))\n",
    "        print (\"9. Tipo de actividad: \" + str(contacto['TIPO']))\n",
    "        print (\"10. Audiencia: \" + str(contacto['AUDIENCIA']))\n",
    "        print (\"11. Calle: \" + str(direccion))\n",
    "        print (\"12. Codigo Postal: \" + str(codigoPostal))\n",
    "        print (\"13. Descripción: \" + str(descripcion))\n",
    "        print (\"14. Accesiblidad: \" + str(accesibilidad))\n",
    "        print (\"15. Servicios: \" + str(servicios))"
   ]
  },
  {
   "cell_type": "code",
   "execution_count": 22,
   "metadata": {},
   "outputs": [
    {
     "name": "stdout",
     "output_type": "stream",
     "text": [
      "No existe ningun evento con las condiciones indicadas.\n"
     ]
    }
   ],
   "source": [
    "if contactosFiltrados.empty:\n",
    "    print (\"No existe ningun evento con las condiciones indicadas.\")\n",
    "else:\n",
    "    mostrarResultadosExtendidos(contactosFiltrados)"
   ]
  },
  {
   "cell_type": "markdown",
   "metadata": {},
   "source": [
    "# Ejercicio 3"
   ]
  },
  {
   "cell_type": "code",
   "execution_count": 23,
   "metadata": {},
   "outputs": [],
   "source": [
    "def haversine(lat1, lon1, lat2, lon2):\n",
    "    rad = math.pi / 180\n",
    "    dlat = lat2 - lat1\n",
    "    dlon = lon2 - lon1\n",
    "    R = 6372.795477598\n",
    "    a = (math.sin(rad*dlat/2))**2 + math.cos(rad*lat1)*math.cos(rad*lat2)*(math.sin(rad*dlon/2))**2\n",
    "    distancia = 2 * R * math.asin(math.sqrt(a))\n",
    "    return distancia"
   ]
  },
  {
   "cell_type": "code",
   "execution_count": 24,
   "metadata": {},
   "outputs": [
    {
     "name": "stdout",
     "output_type": "stream",
     "text": [
      "Introducir la longitud: -3.4\n",
      "Introducir la latitud: 40.1\n",
      "Introducir la distancia en km: 1000\n"
     ]
    }
   ],
   "source": [
    "longitud = float(input(\"Introducir la longitud: \"))\n",
    "latitud = float(input(\"Introducir la latitud: \"))\n",
    "distanciaEnKm = float(input(\"Introducir la distancia en km: \"))"
   ]
  },
  {
   "cell_type": "code",
   "execution_count": 25,
   "metadata": {},
   "outputs": [],
   "source": [
    "def filtrarContactosPorDistancia(contactos, longitud, latitud, distanciaMaxima):\n",
    "    for index, contacto in contactos.iterrows():\n",
    "        longitudEvento = contacto['LONGITUD']\n",
    "        latitudEvento = contacto['LATITUD']\n",
    "        distancia = haversine(latitud, longitud, latitudEvento, longitudEvento)\n",
    "        \n",
    "        if distancia > distanciaMaxima:\n",
    "            contactos = contactos.drop([index])   \n",
    "    \n",
    "    return contactos"
   ]
  },
  {
   "cell_type": "code",
   "execution_count": 26,
   "metadata": {},
   "outputs": [],
   "source": [
    "contactosFiltrados = filtrarContactosPorDistancia(contactosFiltrados, longitud, latitud, distanciaEnKm)"
   ]
  },
  {
   "cell_type": "code",
   "execution_count": 27,
   "metadata": {},
   "outputs": [],
   "source": [
    "def mostrarResultadosExtendidosConDistancia(contactos):\n",
    "    for index, contacto in contactos.iterrows():\n",
    "        direccion, codigoPostal, descripcion, accesibilidad, servicios = buscarDatosInstalacion(contacto['NOMBRE-INSTALACION'])\n",
    "        longitudEvento = contacto['LONGITUD']\n",
    "        latitudEvento = contacto['LATITUD']\n",
    "        distancia = haversine(latitud, longitud, latitudEvento, longitudEvento)\n",
    "        \n",
    "        print (\"----------------------------------------------\")\n",
    "        print (\"1. Titulo: \" + str(contacto['TITULO']))\n",
    "        print (\"2. Fecha de inicio: \" + str(contacto['FECHA']))\n",
    "        print (\"3. Fecha de finalizacion: \" + str(contacto['FECHA-FIN']))\n",
    "        print (\"4. Dias de la semana: \" + str(contacto['DIAS-SEMANA']))\n",
    "        print (\"5. Dias excluidos: \" + str(contacto['DIAS-EXCLUIDOS']))\n",
    "        print (\"6. Hora: \" + str(contacto['HORA']))\n",
    "        print (\"7. Descripción: \" + str(contacto['DESCRIPCION']))\n",
    "        print (\"8. Nombre de instalación: \" + str(contacto['NOMBRE-INSTALACION']))\n",
    "        print (\"9. Tipo de actividad: \" + str(contacto['TIPO']))\n",
    "        print (\"10. Audiencia: \" + str(contacto['AUDIENCIA']))\n",
    "        print (\"11. Calle: \" + str(direccion))\n",
    "        print (\"12. Codigo Postal: \" + str(codigoPostal))\n",
    "        print (\"13. Descripción: \" + str(descripcion))\n",
    "        print (\"14. Accesiblidad: \" + str(accesibilidad))\n",
    "        print (\"15. Servicios: \" + str(servicios))\n",
    "        print (\"16. Distancia: \" + str(distancia) + \" km\")"
   ]
  },
  {
   "cell_type": "code",
   "execution_count": 28,
   "metadata": {},
   "outputs": [],
   "source": [
    "if contactosFiltrados.empty:\n",
    "    print (\"No existe ningun evento con las condiciones indicadas.\")\n",
    "else:\n",
    "    mostrarResultadosExtendidosConDistancia(contactosFiltrados)"
   ]
  }
 ],
 "metadata": {
  "kernelspec": {
   "display_name": "Python 3",
   "language": "python",
   "name": "python3"
  },
  "language_info": {
   "codemirror_mode": {
    "name": "ipython",
    "version": 3
   },
   "file_extension": ".py",
   "mimetype": "text/x-python",
   "name": "python",
   "nbconvert_exporter": "python",
   "pygments_lexer": "ipython3",
   "version": "3.6.5"
  }
 },
 "nbformat": 4,
 "nbformat_minor": 2
}
