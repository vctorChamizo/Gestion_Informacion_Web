{
 "cells": [
  {
   "cell_type": "markdown",
   "metadata": {},
   "source": [
    "# Ejercicio 1"
   ]
  },
  {
   "cell_type": "markdown",
   "metadata": {},
   "source": [
    "### Leer archivo XML"
   ]
  },
  {
   "cell_type": "code",
   "execution_count": 1,
   "metadata": {},
   "outputs": [],
   "source": [
    "import urllib.request # Para leer xml de los monumentos y edificios\n",
    "import requests\n",
    "import xml.sax\n",
    "import re"
   ]
  },
  {
   "cell_type": "code",
   "execution_count": 2,
   "metadata": {},
   "outputs": [],
   "source": [
    "x = urllib.request.urlopen('https://datos.madrid.es/egob/catalogo/208844-0-monumentos-edificios.xml')\n",
    "a = x.read()\n",
    "a = a.decode(\"utf-8\")\n",
    "prueba = open(\"catalogo.xml\",\"w\")\n",
    "prueba.write(str(a))\n",
    "prueba.close()"
   ]
  },
  {
   "cell_type": "code",
   "execution_count": 3,
   "metadata": {},
   "outputs": [],
   "source": [
    "class Edificio:\n",
    "    def __init__(self):\n",
    "        self.idEntidad = \"\"\n",
    "        self.nombre = \"\"\n",
    "        self.descripcion = \"\"\n",
    "        self.horario = \"\"\n",
    "        self.equipamiento = \"\"\n",
    "        self.transporte = \"\"\n",
    "        self.accesibilidad = \"\"\n",
    "        self.url = \"\"\n",
    "        \n",
    "        #Campos localizacion\n",
    "        self.nombreVia = \"\"\n",
    "        self.claseVia = \"\"\n",
    "        self.numero = \"\"\n",
    "        self.localidad = \"\"\n",
    "        self.provincia = \"\"\n",
    "        self.codigoPostal = \"\"\n",
    "        self.barrio = \"\"\n",
    "        self.distrito = \"\"\n",
    "        self.coordenadaY = \"\"\n",
    "        self.coordenadaX = \"\"\n",
    "        \n",
    "        # Datos de contacto\n",
    "        self.telefono = \"\"\n",
    "        self.email = \"\"\n",
    "        \n",
    "        self.tipo = \"\"\n",
    "        \n",
    "    def __str__(self):\n",
    "        cadena = \"\"\n",
    "        cadena += \"Id de la entidad: \" + self.idEntidad + \"\\n\"\n",
    "        cadena += \"Nombre: \" + self.nombre + \"\\n\"\n",
    "        cadena += \"Descripcion: \" + self.descripcion + \"\\n\"\n",
    "        cadena += \"Horario: \" + self.horario + \"\\n\"\n",
    "        cadena += \"Equipamiento: \" + self.equipamiento + \"\\n\"\n",
    "        cadena += \"Transporte: \" + self.transporte + \"\\n\"\n",
    "        cadena += \"Accesibilidad: \" + self.accesibilidad + \"\\n\"\n",
    "        cadena += \"URL: \" + self.url + \"\\n\"\n",
    "        cadena += \"Direccion: \" + str(self.claseVia) + \" \" + str(self.nombreVia) + \"\\n\"\n",
    "        cadena += \"Numero: \" + self.numero + \"\\n\"\n",
    "        cadena += \"Localidad: \" + self.localidad + \"\\n\"\n",
    "        cadena += \"Provincia: \" + self.provincia + \"\\n\"\n",
    "        cadena += \"Codigo postal: \" + self.codigoPostal + \"\\n\"\n",
    "        cadena += \"Barrio: \" + self.barrio + \"\\n\"\n",
    "        cadena += \"Distrito: \" + self.distrito + \"\\n\"\n",
    "        cadena += \"Latitud: \" + self.coordenadaY + \"\\n\"\n",
    "        cadena += \"Longitud: \" + self.coordenadaX + \"\\n\"\n",
    "        cadena += \"Telefono: \" + self.telefono + \"\\n\"\n",
    "        \n",
    "        if self.email != \"\":\n",
    "            cadena += \"Email: \" + self.email + \"\\n\"\n",
    "            \n",
    "        return cadena"
   ]
  },
  {
   "cell_type": "markdown",
   "metadata": {},
   "source": [
    "### Crear manejador SAX"
   ]
  },
  {
   "cell_type": "code",
   "execution_count": 4,
   "metadata": {},
   "outputs": [],
   "source": [
    "class ManejadorCatalogo (xml.sax.ContentHandler):\n",
    "    \n",
    "    def __init__(self):\n",
    "        self.Datos = \"\"\n",
    "        self.edificios = []\n",
    "        self.edificio = Edificio()\n",
    "\n",
    "    def startElement(self, etiqueta, atributos):\n",
    "        if etiqueta == \"atributo\":\n",
    "            self.Datos = atributos[\"nombre\"]\n",
    "            \n",
    "    def endElement(self, etiqueta):\n",
    "        if etiqueta == \"contenido\":\n",
    "            self.edificios.append(self.edificio)\n",
    "            self.edificio = Edificio()\n",
    "        self.Datos = \"\"\n",
    "            \n",
    "    def characters(self, contenido):\n",
    "        if self.Datos == \"NOMBRE\":\n",
    "            self.edificio.nombre = contenido\n",
    "        elif self.Datos == \"ID-ENTIDAD\":\n",
    "            self.edificio.idEntidad = contenido\n",
    "        elif self.Datos == \"DESCRIPCION-ENTIDAD\":\n",
    "            self.edificio.descripcion = contenido\n",
    "        elif self.Datos == \"HORARIO\":\n",
    "            self.edificio.horario = contenido\n",
    "        elif self.Datos == \"EQUIPAMIENTO\":\n",
    "            self.edificio.equipamiento = contenido\n",
    "        elif self.Datos == \"TRANSPORTE\":\n",
    "            self.edificio.transporte = contenido\n",
    "        elif self.Datos == \"ACCESIBILIDAD\":\n",
    "            self.edificio.accesiblidad = contenido\n",
    "        elif self.Datos == \"CONTENT-URL\":\n",
    "            self.edificio.url = contenido\n",
    "        elif self.Datos == \"NOMBRE-VIA\":\n",
    "            self.edificio.nombreVia = contenido\n",
    "        elif self.Datos == \"CLASE-VIAL\":\n",
    "            self.edificio.claseVia = contenido\n",
    "        elif self.Datos == \"NUM\":\n",
    "            self.edificio.numero = contenido\n",
    "        elif self.Datos == \"LOCALIDAD\":\n",
    "            self.edificio.localidad = contenido\n",
    "        elif self.Datos == \"PROVINCIA\":\n",
    "            self.edificio.provincia = contenido\n",
    "        elif self.Datos == \"CODIGO-POSTAL\":\n",
    "            self.edificio.codigoPostal = contenido\n",
    "        elif self.Datos == \"BARRIO\":\n",
    "            self.edificio.barrio = contenido\n",
    "        elif self.Datos == \"DISTRITO\":\n",
    "            self.edificio.distrito = contenido\n",
    "        elif self.Datos == \"COORDENADA-X\":\n",
    "            self.edificio.coordenadaX = contenido\n",
    "        elif self.Datos == \"COORDENADA-Y\":\n",
    "            self.edificio.coordenadaY = contenido\n",
    "        elif self.Datos == \"LATITUD\":\n",
    "            self.edificio.coordenadaY = contenido\n",
    "        elif self.Datos == \"LONGITUD\":\n",
    "            self.edificio.coordenadaX = contenido\n",
    "        elif self.Datos == \"TELEFONO\":\n",
    "            self.edificio.telefono = contenido\n",
    "        elif self.Datos == \"EMAIL\":\n",
    "            self.edificio.email = contenido\n",
    "        elif self.Datos == \"TIPO\":\n",
    "            self.edificio.tipo = contenido"
   ]
  },
  {
   "cell_type": "code",
   "execution_count": 5,
   "metadata": {
    "scrolled": true
   },
   "outputs": [],
   "source": [
    "parser = xml.sax.make_parser()\n",
    "parser.setFeature(xml.sax.handler.feature_namespaces,0)\n",
    "manejadorCatalogo = ManejadorCatalogo()\n",
    "parser.setContentHandler(manejadorCatalogo)\n",
    "parser.parse(\"catalogo.xml\")"
   ]
  },
  {
   "cell_type": "markdown",
   "metadata": {},
   "source": [
    "### Pedir al usuario que elija un monumento"
   ]
  },
  {
   "cell_type": "code",
   "execution_count": 6,
   "metadata": {},
   "outputs": [],
   "source": [
    "def mostrarEdificios(edificios):\n",
    "    i = 1\n",
    "    for edificio in edificios:\n",
    "        print (str(i) + \". \" + edificio.nombre)\n",
    "        i += 1"
   ]
  },
  {
   "cell_type": "code",
   "execution_count": 9,
   "metadata": {},
   "outputs": [
    {
     "name": "stdout",
     "output_type": "stream",
     "text": [
      "1. Banco de España\n",
      "2. Basílica Pontificia de San Miguel\n",
      "3. Biblioteca Nacional de España\n",
      "4. Bolsa de Madrid\n",
      "5. Casa de América\n",
      "6. Casa de Cisneros\n",
      "7. Casa de La Panadería\n",
      "8. Casa de La Villa. Ayuntamiento de Madrid\n",
      "9. Casa de Velázquez\n",
      "10. Casón del Buen Retiro\n",
      "11. Castillo de la Alameda\n",
      "12. Catedral Santa María la Real de la Almudena\n",
      "13. Centro de Estudios Políticos y Constitucionales\n",
      "14. Centro Social y Cultural La Casa Encendida\n",
      "15. Círculo de Bellas Artes\n",
      "16. Conde Duque\n",
      "17. Congreso de los Diputados\n",
      "18. Consejo de Estado\n",
      "19. Convento de las Comendadoras de Santiago\n",
      "20. Edificio Metrópolis\n",
      "21. Ermita de San Antonio de la Florida (Museo)\n",
      "22. Ermita de San Isidro\n",
      "23. Ermita de Santa María la Antigua\n",
      "24. Ermita Virgen del Puerto\n",
      "25. Estación ferroviaria Madrid Puerta de Atocha\n",
      "26. Fundación BBVA. Palacio del Marqués de Salamanca\n",
      "27. Galería de Cristal del Palacio de Cibeles\n",
      "28. Iglesia Catedral de las Fuerzas Armadas\n",
      "29. Iglesia Corpus Christi (Jerónimas Recoletas)\n",
      "30. Iglesia de las Calatravas (Concepción Real de Calatrava)\n",
      "31. Iglesia Madres Redentoristas\n",
      "32. Iglesia San Antonio de los Alemanes\n",
      "33. Iglesia San Ildefonso (Monasterio de las Trinitarias Descalzas)\n",
      "34. Iglesia San Pedro el Viejo\n",
      "35. Instituto Cervantes\n",
      "36. Istituto Italiano di Cultura de Madrid\n",
      "37. Jardines del Campo del Moro\n",
      "38. Ministerio de Hacienda. Sede calle Alcalá\n",
      "39. Ministerio de Justicia\n",
      "40. Monasterio de Benedictinas\n",
      "41. Monasterio de las Descalzas Reales\n",
      "42. Monumento Homenaje a las Víctimas del 11 de marzo\n",
      "43. Museo de Escultura al Aire Libre de la Castellana\n",
      "44. Museo de Historia de Madrid\n",
      "45. Museo de la Real Academia de Bellas Artes de San Fernando\n",
      "46. Museo del Ferrocarril de Madrid\n",
      "47. Museo Lázaro Galdiano\n",
      "48. Museo Nacional de Artes Decorativas\n",
      "49. Museo Nacional de Ciencias Naturales\n",
      "50. Museo Nacional Thyssen-Bornemisza\n",
      "51. Palacio de Buenavista. Cuartel General del Ejército de Tierra\n",
      "52. Palacio de Cibeles\n",
      "53. Palacio de Liria\n",
      "54. Palacio de Santoña\n",
      "55. Palacio Real de El Pardo\n",
      "56. Palacio Real de Madrid\n",
      "57. Panteón de Hombres Ilustres\n",
      "58. Parroquia Nuestra Señora del Buen Consejo y San Isidro\n",
      "59. Parroquia San Fermín de los Navarros\n",
      "60. Parroquia San Ginés\n",
      "61. Parroquia San José\n",
      "62. Parroquia San Manuel y San Benito\n",
      "63. Parroquia San Marcos\n",
      "64. Parroquia San Millán y San Cayetano\n",
      "65. Parroquia San Nicolás de Bari de los Servitas\n",
      "66. Parroquia Santa Bárbara\n",
      "67. Parroquia Santa Cruz\n",
      "68. Parroquia Santiago y San Juan Bautista\n",
      "69. Plaza de Oriente\n",
      "70. Plaza Mayor\n",
      "71. Plaza Monumental de Toros de las Ventas\n",
      "72. Puerta del Sol\n",
      "73. Real Academia de Ciencias Morales y Políticas\n",
      "74. Real Academia de Jurisprudencia y Legislación\n",
      "75. Real Academia de la Historia\n",
      "76. Real Academia Nacional de Farmacia\n",
      "77. Real Basílica San Francisco el Grande\n",
      "78. Real Colegio Santa Isabel - La Asunción\n",
      "79. Real Fábrica de Tapices\n",
      "80. Real Jardín Botánico\n",
      "81. Real Monasterio de la Encarnación\n",
      "82. Real Monasterio de Santa Isabel\n",
      "83. Real Oratorio del Caballero de Gracia\n",
      "84. Sala de Exposiciones Canal de Isabel II\n",
      "85. Senado\n",
      "86. Sociedad General de Autores y Editores (SGAE)\n",
      "87. Templo de Debod\n",
      "88. Tribunal de Cuentas\n",
      "89. Tribunal Supremo\n",
      "\n",
      "Selecciona un edificio: 26\n"
     ]
    }
   ],
   "source": [
    "noValido = True\n",
    "edificios = manejadorCatalogo.edificios\n",
    "\n",
    "mostrarEdificios(edificios)\n",
    "seleccion = input(\"\\nSelecciona un edificio: \")\n",
    "\n",
    "while noValido:\n",
    "    \n",
    "    try:\n",
    "        indice = int(seleccion) - 1\n",
    "        if indice < 0:\n",
    "            raise IndexError(\"\") \n",
    "        edificioSeleccionado = edificios[indice]\n",
    "        noValido = False \n",
    "    except ValueError:\n",
    "        seleccion = input(\"\\nERROR. No es un número, vuelva a introducir: \")\n",
    "    except IndexError:\n",
    "        seleccion = input(\"\\nERROR. Valor fuera de rango, vuelva a introducir: \")"
   ]
  },
  {
   "cell_type": "code",
   "execution_count": 10,
   "metadata": {},
   "outputs": [
    {
     "name": "stdout",
     "output_type": "stream",
     "text": [
      "Los datos del edificio son:\n",
      "Id de la entidad: 162905\n",
      "Nombre: Fundación BBVA. Palacio del Marqués de Salamanca\n",
      "Descripcion: \n",
      "Horario: \n",
      "Equipamiento: \n",
      "Transporte: \n",
      "Accesibilidad: \n",
      "URL: vgnextoid=c43a8f90a581c010VgnVCM1000000b205a0aRCRD\n",
      "Direccion: PASEO RECOLETOS\n",
      "Numero: 10\n",
      "Localidad: MADRID\n",
      "Provincia: MADRID\n",
      "Codigo postal: 28001\n",
      "Barrio: RECOLETOS\n",
      "Distrito: SALAMANCA\n",
      "Latitud: 40.42144182034705\n",
      "Longitud: -3.6910993927829567\n",
      "Telefono: 91 537 69 64 (Fundación BBVA)\n",
      "\n"
     ]
    }
   ],
   "source": [
    "print(\"Los datos del edificio son:\")\n",
    "print (edificioSeleccionado)"
   ]
  },
  {
   "cell_type": "markdown",
   "metadata": {},
   "source": [
    "# Ejercicio 2"
   ]
  },
  {
   "cell_type": "code",
   "execution_count": 11,
   "metadata": {},
   "outputs": [],
   "source": [
    "idCliente = 'WEB.SERV.semart12@ucm.es'\n",
    "passKey = '1CF11EBE-019D-4BDB-80AF-D9814F4B1E85' "
   ]
  },
  {
   "cell_type": "code",
   "execution_count": 12,
   "metadata": {},
   "outputs": [],
   "source": [
    "class ManejadorCoordenadas (xml.sax.ContentHandler):\n",
    "    \n",
    "    def __init__(self):\n",
    "        self.Datos = \"\"\n",
    "        self.coordenadaX = \"\"\n",
    "        self.coordenadaY = \"\"\n",
    "        self.primerasCoordenadasEncontradas = True\n",
    "\n",
    "    def startElement(self, etiqueta, atributos):\n",
    "        if etiqueta == \"CoordinateX\":\n",
    "            self.Datos = \"CoordinateX\"\n",
    "        elif etiqueta == \"CoordinateY\":\n",
    "            self.Datos = \"CoordinateY\"\n",
    "            \n",
    "    def endElement(self, etiqueta):\n",
    "        if self.primerasCoordenadasEncontradas and self.coordenadaX != \"\" and self.coordenadaY != \"\":\n",
    "            self.primerasCoordenadasEncontradas = False\n",
    "            \n",
    "        self.Datos = \"\"\n",
    "            \n",
    "    def characters(self, contenido):\n",
    "        if self.primerasCoordenadasEncontradas:\n",
    "            if self.Datos == \"CoordinateX\":\n",
    "                self.coordenadaX = contenido\n",
    "            elif self.Datos == \"CoordinateY\":\n",
    "                self.coordenadaY = contenido"
   ]
  },
  {
   "cell_type": "code",
   "execution_count": 13,
   "metadata": {},
   "outputs": [],
   "source": [
    "def obtenerCoordenadasDe(calle, numero):\n",
    "    datos = {\n",
    "        'idClient': idCliente,\n",
    "        'PassKey': passKey,\n",
    "        'description': calle,\n",
    "        'streetNumber': str(numero),\n",
    "        'Radius':'',\n",
    "        'Stops':'',\n",
    "        'statistics':'',\n",
    "        'cultureInfo':''\n",
    "    }\n",
    " \n",
    "    url = 'https://servicios.emtmadrid.es:8443/geo/servicegeo.asmx/GetStreet'\n",
    "    response = requests.post(url, data=datos)\n",
    "    handler = ManejadorCoordenadas()\n",
    "    xml.sax.parseString(response.text, handler)\n",
    "    \n",
    "    return handler.coordenadaX, handler.coordenadaY"
   ]
  },
  {
   "cell_type": "code",
   "execution_count": 14,
   "metadata": {},
   "outputs": [
    {
     "name": "stdout",
     "output_type": "stream",
     "text": [
      "Coordenada X:  -3.63993276740599\n",
      "Coordenada Y:  40.376817562727\n"
     ]
    }
   ],
   "source": [
    "coordenadaX, coordenadaY = obtenerCoordenadasDe(\"Luis Marin\", \"5\")\n",
    "\n",
    "print (\"Coordenada X: \", coordenadaX)\n",
    "print (\"Coordenada Y: \", coordenadaY)"
   ]
  },
  {
   "cell_type": "markdown",
   "metadata": {},
   "source": [
    "# Ejercicio 3"
   ]
  },
  {
   "cell_type": "code",
   "execution_count": 15,
   "metadata": {},
   "outputs": [],
   "source": [
    "class ManejadorRuta (xml.sax.ContentHandler):\n",
    "    \n",
    "    def __init__(self):\n",
    "        self.Datos = \"\"\n",
    "        self.fecha = \"\"\n",
    "        self.horaInicio = \"\"\n",
    "        self.horaEstimadaLlegada = \"\"\n",
    "        self.numeroDeTrasbordos = \"\"\n",
    "        self.duracion = \"\"\n",
    "        self.descripcionTextual = []\n",
    "\n",
    "    def startElement(self, etiqueta, atributos):\n",
    "        if etiqueta == \"DescriptionDate\":\n",
    "            self.Datos = \"fecha\"\n",
    "        elif etiqueta == \"DescriptionInitTime\":\n",
    "            self.Datos = \"horaInicio\"\n",
    "        elif etiqueta == \"DescriptionEstimateTimeArrival\":\n",
    "            self.Datos = \"horaEstimadaLlegada\"\n",
    "        elif etiqueta == \"Transfers\":\n",
    "            self.Datos = \"numeroDeTrasbordos\"\n",
    "        elif etiqueta == \"LongJourney\":\n",
    "            self.Datos = \"duracion\"\n",
    "        elif etiqueta == \"RouteDescription\":\n",
    "            self.Datos = \"descripcionDeLaRuta\"\n",
    "            \n",
    "    def endElement(self, etiqueta):\n",
    "        self.Datos = \"\"\n",
    "            \n",
    "    def characters(self, contenido):\n",
    "        if self.Datos == \"fecha\":\n",
    "            self.fecha = contenido\n",
    "        elif self.Datos == \"horaInicio\":\n",
    "            self.horaInicio = contenido\n",
    "        elif self.Datos == \"horaEstimadaLlegada\":\n",
    "            self.horaEstimadaLlegada = contenido\n",
    "        elif self.Datos == \"numeroDeTrasbordos\":\n",
    "            self.numeroDeTrasbordos = contenido\n",
    "        elif self.Datos == \"duracion\":\n",
    "            self.duracion = contenido\n",
    "        elif self.Datos == \"descripcionDeLaRuta\":\n",
    "            self.descripcionTextual.append(contenido)"
   ]
  },
  {
   "cell_type": "code",
   "execution_count": 16,
   "metadata": {},
   "outputs": [
    {
     "name": "stdout",
     "output_type": "stream",
     "text": [
      "Introduzca una calle de Madrid: Luis Marin\n",
      "Introduzca el numero: 5\n"
     ]
    }
   ],
   "source": [
    "calleSeleccionada = input(\"Introduzca una calle de Madrid: \")\n",
    "numeroSeleccionado = input(\"Introduzca el numero: \")\n",
    "coordenadaXOrigen, coordenadaYOrigen = obtenerCoordenadasDe(calleSeleccionada, numeroSeleccionado)"
   ]
  },
  {
   "cell_type": "code",
   "execution_count": 17,
   "metadata": {},
   "outputs": [],
   "source": [
    "def applyRegex(cadena):\n",
    "    m = re.search('\\w+:(\\d.+$)', cadena)\n",
    "    return m.group(1)"
   ]
  },
  {
   "cell_type": "code",
   "execution_count": 18,
   "metadata": {},
   "outputs": [],
   "source": [
    "def mostrarRuta(fecha, horaInicio, horaEstimadaLlegada, numeroDeTrasbordos, duracion, descripcion):\n",
    "    print (\"• Fecha de la ruta: \" + applyRegex(fecha))\n",
    "    print (\"• Hora de inicio de la ruta: \" + applyRegex(horaInicio))\n",
    "    print (\"• Hora estimada de llegada: \" + horaEstimadaLlegada)\n",
    "    print (\"• Número de trasbordos: \" + str(numeroDeTrasbordos))\n",
    "    print (\"• Duración del viaje: \" + str(duracion))\n",
    "    print (\"• Descripción textual de la ruta: \")\n",
    "    for seccion in descripcion:\n",
    "        print (\"\\t\" + \"• \" + seccion)"
   ]
  },
  {
   "cell_type": "code",
   "execution_count": 19,
   "metadata": {},
   "outputs": [],
   "source": [
    "def calcularRuta(coordenadaXOrigen, coordenadaYOrigen, coordenadaXDestino, coordenadaYDestino):\n",
    "    datos = {\n",
    "        'idClient': idCliente,\n",
    "        'PassKey': passKey,\n",
    "        'statistics':'',\n",
    "        'cultureInfo':'',\n",
    "        'coordinateXFrom': coordenadaXOrigen,\n",
    "        'coordinateYFrom': coordenadaYOrigen,\n",
    "        'originName':'',\n",
    "        'coordinateXTo': coordenadaXDestino,\n",
    "        'coordinateYTo': coordenadaYDestino,\n",
    "        'destinationName':'',\n",
    "        'criteriaSelection':'11',\n",
    "        'day':'',\n",
    "        'month':'',\n",
    "        'year':'',\n",
    "        'hour':'',\n",
    "        'minute':'',\n",
    "        'GenerarAudio':''\n",
    "    }\n",
    " \n",
    "    url = 'https://servicios.emtmadrid.es:8443/servicemedia/servicemedia.asmx/GetStreetRoute'\n",
    "    response = requests.post(url, data=datos)\n",
    "    handler = ManejadorRuta()\n",
    "    xml.sax.parseString(response.text, handler)\n",
    "    mostrarRuta(handler.fecha, handler.horaInicio, handler.horaEstimadaLlegada, handler.numeroDeTrasbordos, handler.duracion, handler.descripcionTextual)\n",
    "    "
   ]
  },
  {
   "cell_type": "code",
   "execution_count": 20,
   "metadata": {},
   "outputs": [
    {
     "name": "stdout",
     "output_type": "stream",
     "text": [
      "• Fecha de la ruta: 13/10/2018\n",
      "• Hora de inicio de la ruta: 20:43\n",
      "• Hora estimada de llegada: 21:51\n",
      "• Número de trasbordos: 2\n",
      "• Duración del viaje: 64\n",
      "• Descripción textual de la ruta: \n",
      "\t• Desde  caminar 3' hasta parada 1810 - Hormigueras-González Dávila, linea 130\n",
      "\t• 15' en autobús (línea 130) hasta parada 4805 - Centro Transportes Madrid\n",
      "\t• 20' en autobús (línea T32) hasta parada 2916 - LEGAZPI\n",
      "\t• 24' en autobús (línea 45) hasta parada 72 - Cibeles\n",
      "\t• Desde parada 72 caminar 2' hasta \n"
     ]
    }
   ],
   "source": [
    "calcularRuta(coordenadaXOrigen, coordenadaYOrigen, edificioSeleccionado.coordenadaX, edificioSeleccionado.coordenadaY)"
   ]
  }
 ],
 "metadata": {
  "kernelspec": {
   "display_name": "Python 3",
   "language": "python",
   "name": "python3"
  },
  "language_info": {
   "codemirror_mode": {
    "name": "ipython",
    "version": 3
   },
   "file_extension": ".py",
   "mimetype": "text/x-python",
   "name": "python",
   "nbconvert_exporter": "python",
   "pygments_lexer": "ipython3",
   "version": "3.7.0"
  }
 },
 "nbformat": 4,
 "nbformat_minor": 2
}
