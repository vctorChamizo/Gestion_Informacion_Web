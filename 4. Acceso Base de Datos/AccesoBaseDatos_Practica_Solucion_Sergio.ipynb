{
 "cells": [
  {
   "cell_type": "code",
   "execution_count": 1,
   "metadata": {},
   "outputs": [],
   "source": [
    "import sqlite3\n",
    "import os"
   ]
  },
  {
   "cell_type": "code",
   "execution_count": 2,
   "metadata": {},
   "outputs": [],
   "source": [
    "def mostrarResultadosConsulta(cursor):\n",
    "    for fila in cursor:\n",
    "        print (fila)"
   ]
  },
  {
   "cell_type": "markdown",
   "metadata": {},
   "source": [
    "# Ejercicio 1"
   ]
  },
  {
   "cell_type": "code",
   "execution_count": 3,
   "metadata": {},
   "outputs": [],
   "source": [
    "if os.path.exists(\"cine.sqlite3\"):\n",
    "        os.remove(\"cine.sqlite3\")\n",
    "connection = sqlite3.connect(\"cine.sqlite3\")\n",
    "cursor = connection.cursor()"
   ]
  },
  {
   "cell_type": "markdown",
   "metadata": {},
   "source": [
    "### Crear tabla Peliculas e insertar filas"
   ]
  },
  {
   "cell_type": "code",
   "execution_count": 4,
   "metadata": {},
   "outputs": [
    {
     "data": {
      "text/plain": [
       "<sqlite3.Cursor at 0x13b49963030>"
      ]
     },
     "execution_count": 4,
     "metadata": {},
     "output_type": "execute_result"
    }
   ],
   "source": [
    "'''\n",
    "Consulta: \n",
    "CREATE TABLE Peliculas (\n",
    "    IdP INTEGER,\n",
    "    Titulo TEXT,\n",
    "    Año INTEGER,\n",
    "    Director TEXT,\n",
    "    CONSTRAINT pk_peliculas PRIMARY KEY(idP)\n",
    ")\n",
    "'''\n",
    "cursor.execute(\"CREATE TABLE Peliculas (IdP INTEGER, Titulo TEXT, Año INTEGER, Director TEXT, CONSTRAINT pk_peliculas PRIMARY KEY(idP))\")"
   ]
  },
  {
   "cell_type": "code",
   "execution_count": 5,
   "metadata": {},
   "outputs": [
    {
     "data": {
      "text/plain": [
       "<sqlite3.Cursor at 0x13b49963030>"
      ]
     },
     "execution_count": 5,
     "metadata": {},
     "output_type": "execute_result"
    }
   ],
   "source": [
    "peliculas= [()]\n",
    "\n",
    "cursor.execute(\"INSERT INTO Peliculas VALUES (101, 'Lo que el viento se llevó', 1939, 'Victor Fleming')\")\n",
    "cursor.execute(\"INSERT INTO Peliculas VALUES (102, 'La guerra de las galaxias', 1979, 'George Lucas')\")\n",
    "cursor.execute(\"INSERT INTO Peliculas VALUES (103, 'Sonrisas y lágrimas', 1939, 'Robert Wise')\")\n",
    "cursor.execute(\"INSERT INTO Peliculas VALUES (104, 'ET', 1982, 'Steven Spielberg')\")\n",
    "cursor.execute(\"INSERT INTO Peliculas VALUES (105, 'Titanic', 1997, 'James Cameron')\")\n",
    "cursor.execute(\"INSERT INTO Peliculas VALUES (106, 'Blancanieves y los siete enanitos', 1937, NULL)\")\n",
    "cursor.execute(\"INSERT INTO Peliculas VALUES (107, 'Avatar', 2009, 'James Cameron')\")\n",
    "cursor.execute(\"INSERT INTO Peliculas VALUES (108, 'En busca del arca perdida', 1981, 'Steven Spielberg')\")"
   ]
  },
  {
   "cell_type": "code",
   "execution_count": 6,
   "metadata": {},
   "outputs": [
    {
     "name": "stdout",
     "output_type": "stream",
     "text": [
      "(101, 'Lo que el viento se llevó', 1939, 'Victor Fleming')\n",
      "(102, 'La guerra de las galaxias', 1979, 'George Lucas')\n",
      "(103, 'Sonrisas y lágrimas', 1939, 'Robert Wise')\n",
      "(104, 'ET', 1982, 'Steven Spielberg')\n",
      "(105, 'Titanic', 1997, 'James Cameron')\n",
      "(106, 'Blancanieves y los siete enanitos', 1937, None)\n",
      "(107, 'Avatar', 2009, 'James Cameron')\n",
      "(108, 'En busca del arca perdida', 1981, 'Steven Spielberg')\n"
     ]
    }
   ],
   "source": [
    "cursor.execute(\"SELECT * FROM Peliculas\")\n",
    "mostrarResultadosConsulta(cursor)"
   ]
  },
  {
   "cell_type": "markdown",
   "metadata": {},
   "source": [
    "### Crear tabla Criticos en insertar filas"
   ]
  },
  {
   "cell_type": "code",
   "execution_count": 7,
   "metadata": {},
   "outputs": [
    {
     "data": {
      "text/plain": [
       "<sqlite3.Cursor at 0x13b49963030>"
      ]
     },
     "execution_count": 7,
     "metadata": {},
     "output_type": "execute_result"
    }
   ],
   "source": [
    "'''\n",
    "Consulta: \n",
    "CREATE TABLE Criticos (\n",
    "    IdC INTEGER,\n",
    "    Nombre TEXT\n",
    "    CONSTRAINT pk_criticos PRIMARY KEY(idC)\n",
    ")\n",
    "'''\n",
    "cursor.execute(\"CREATE TABLE Criticos (IdC INTEGER, Nombre TEXT, CONSTRAINT pk_criticos PRIMARY KEY(idC))\")"
   ]
  },
  {
   "cell_type": "code",
   "execution_count": 8,
   "metadata": {},
   "outputs": [
    {
     "data": {
      "text/plain": [
       "<sqlite3.Cursor at 0x13b49963030>"
      ]
     },
     "execution_count": 8,
     "metadata": {},
     "output_type": "execute_result"
    }
   ],
   "source": [
    "cursor.execute(\"INSERT INTO Criticos VALUES (201, 'Sara Martínez')\")\n",
    "cursor.execute(\"INSERT INTO Criticos VALUES (202, 'Daniel Pérez')\")\n",
    "cursor.execute(\"INSERT INTO Criticos VALUES (203, 'Amalia Sierra')\")\n",
    "cursor.execute(\"INSERT INTO Criticos VALUES (204, 'Paloma Sánchez')\")\n",
    "cursor.execute(\"INSERT INTO Criticos VALUES (205, 'Miguel Hernández')\")\n",
    "cursor.execute(\"INSERT INTO Criticos VALUES (206, 'Juan García')\")\n",
    "cursor.execute(\"INSERT INTO Criticos VALUES (207, 'James Cameron')\")\n",
    "cursor.execute(\"INSERT INTO Criticos VALUES (208, 'Isabel Sanz')\")"
   ]
  },
  {
   "cell_type": "code",
   "execution_count": 9,
   "metadata": {},
   "outputs": [
    {
     "name": "stdout",
     "output_type": "stream",
     "text": [
      "(201, 'Sara Martínez')\n",
      "(202, 'Daniel Pérez')\n",
      "(203, 'Amalia Sierra')\n",
      "(204, 'Paloma Sánchez')\n",
      "(205, 'Miguel Hernández')\n",
      "(206, 'Juan García')\n",
      "(207, 'James Cameron')\n",
      "(208, 'Isabel Sanz')\n"
     ]
    }
   ],
   "source": [
    "cursor.execute(\"SELECT * FROM Criticos\")\n",
    "mostrarResultadosConsulta(cursor)"
   ]
  },
  {
   "cell_type": "markdown",
   "metadata": {},
   "source": [
    "### Crear tabla Clasificacion e insertar filas"
   ]
  },
  {
   "cell_type": "code",
   "execution_count": 10,
   "metadata": {},
   "outputs": [
    {
     "data": {
      "text/plain": [
       "<sqlite3.Cursor at 0x13b49963030>"
      ]
     },
     "execution_count": 10,
     "metadata": {},
     "output_type": "execute_result"
    }
   ],
   "source": [
    "'''\n",
    "Consulta: \n",
    "CREATE TABLE Clasificacion (\n",
    "    IdC INTEGER,\n",
    "    IdP INTEGER,\n",
    "    Estrellas INTEGER,\n",
    "    Fecha TEXT,\n",
    "    CONSTRAINT pk_clasificacion PRIMARY KEY(IdC, IdP),\n",
    "    CONSTRAINT fk_idCritico_clasificacion FOREIGN KEY(IdC) REFERENCES Criticos(IdC),\n",
    "    CONSTRAINT fk_idPeliculas_clasificacion FOREIGN KEY(IdP) REFERENCES Peliculas(idP)\n",
    ")\n",
    "'''\n",
    "cursor.execute(\"CREATE TABLE Clasificacion (IdC INTEGER, IdP INTEGER, Estrellas INTEGER, Fecha TEXT, CONSTRAINT fk_idCritico_clasificacion FOREIGN KEY(IdC) REFERENCES Criticos(IdC),CONSTRAINT fk_idPeliculas_clasificacion FOREIGN KEY(IdP) REFERENCES Peliculas(idP))\")"
   ]
  },
  {
   "cell_type": "code",
   "execution_count": 11,
   "metadata": {},
   "outputs": [
    {
     "data": {
      "text/plain": [
       "<sqlite3.Cursor at 0x13b49963030>"
      ]
     },
     "execution_count": 11,
     "metadata": {},
     "output_type": "execute_result"
    }
   ],
   "source": [
    "cursor.execute(\"INSERT INTO Clasificacion VALUES (201, 101, 2, '2018-01-22')\")\n",
    "cursor.execute(\"INSERT INTO Clasificacion VALUES (201, 101, 4, '2018-01-27')\")\n",
    "cursor.execute(\"INSERT INTO Clasificacion VALUES (202, 106, 4, NULL)\")\n",
    "cursor.execute(\"INSERT INTO Clasificacion VALUES (203, 103, 2, '2018-01-20')\")\n",
    "cursor.execute(\"INSERT INTO Clasificacion VALUES (203, 108, 4, '2018-01-12')\")\n",
    "cursor.execute(\"INSERT INTO Clasificacion VALUES (203, 108, 2, '2018-01-30')\")\n",
    "cursor.execute(\"INSERT INTO Clasificacion VALUES (204, 101, 3, '2018-01-09')\")\n",
    "cursor.execute(\"INSERT INTO Clasificacion VALUES (205, 103, 3, '2018-01-27')\")\n",
    "cursor.execute(\"INSERT INTO Clasificacion VALUES (205, 104, 2, '2018-01-22')\")\n",
    "cursor.execute(\"INSERT INTO Clasificacion VALUES (205, 108, 4, NULL)\")\n",
    "cursor.execute(\"INSERT INTO Clasificacion VALUES (206, 107, 3, '2018-01-15')\")\n",
    "cursor.execute(\"INSERT INTO Clasificacion VALUES (206, 106, 5, '2018-01-19')\")\n",
    "cursor.execute(\"INSERT INTO Clasificacion VALUES (207, 107, 5, '2018-01-20')\")\n",
    "cursor.execute(\"INSERT INTO Clasificacion VALUES (208, 104, 3, '2018-01-02')\")"
   ]
  },
  {
   "cell_type": "code",
   "execution_count": 12,
   "metadata": {},
   "outputs": [
    {
     "name": "stdout",
     "output_type": "stream",
     "text": [
      "(201, 101, 2, '2018-01-22')\n",
      "(201, 101, 4, '2018-01-27')\n",
      "(202, 106, 4, None)\n",
      "(203, 103, 2, '2018-01-20')\n",
      "(203, 108, 4, '2018-01-12')\n",
      "(203, 108, 2, '2018-01-30')\n",
      "(204, 101, 3, '2018-01-09')\n",
      "(205, 103, 3, '2018-01-27')\n",
      "(205, 104, 2, '2018-01-22')\n",
      "(205, 108, 4, None)\n",
      "(206, 107, 3, '2018-01-15')\n",
      "(206, 106, 5, '2018-01-19')\n",
      "(207, 107, 5, '2018-01-20')\n",
      "(208, 104, 3, '2018-01-02')\n"
     ]
    }
   ],
   "source": [
    "cursor.execute(\"SELECT * FROM Clasificacion\")\n",
    "mostrarResultadosConsulta(cursor)"
   ]
  },
  {
   "cell_type": "markdown",
   "metadata": {},
   "source": [
    "# Ejercicio 2"
   ]
  },
  {
   "cell_type": "markdown",
   "metadata": {},
   "source": [
    "### Encontrar todos los años que tengan una película que recibió una calificación de 4 o 5 ordenados crecientemente"
   ]
  },
  {
   "cell_type": "code",
   "execution_count": 13,
   "metadata": {},
   "outputs": [
    {
     "name": "stdout",
     "output_type": "stream",
     "text": [
      "(1937, 'Blancanieves y los siete enanitos')\n",
      "(1939, 'Lo que el viento se llevó')\n",
      "(1981, 'En busca del arca perdida')\n",
      "(2009, 'Avatar')\n"
     ]
    }
   ],
   "source": [
    "'''\n",
    "Consulta: \n",
    "SELECT Año, Titulo\n",
    "FROM Peliculas\n",
    "WHERE IdP IN (SELECT IdP\n",
    "              FROM Clasificacion\n",
    "              WHERE Estrellas = 4\n",
    "              OR Estrellas = 5)\n",
    "ORDER BY ASC\n",
    "'''\n",
    "cursor.execute(\"SELECT Año, Titulo FROM Peliculas WHERE IdP IN (SELECT IdP FROM Clasificacion WHERE Estrellas = 4 OR Estrellas = 5) ORDER BY Año ASC\")\n",
    "mostrarResultadosConsulta(cursor)"
   ]
  },
  {
   "cell_type": "markdown",
   "metadata": {},
   "source": [
    "### Encontrar los nombres de todos los críticos que hayan contribuido con tres o más calificaciones"
   ]
  },
  {
   "cell_type": "code",
   "execution_count": 14,
   "metadata": {},
   "outputs": [
    {
     "name": "stdout",
     "output_type": "stream",
     "text": [
      "('Amalia Sierra',)\n",
      "('Miguel Hernández',)\n"
     ]
    }
   ],
   "source": [
    "'''\n",
    "Consulta: \n",
    "SELECT Nombre\n",
    "FROM Criticos\n",
    "WHERE IdC IN (SELECT IdC\n",
    "              FROM Clasificacion\n",
    "              GROUP BY IdC\n",
    "              HAVING COUNT(*) >= 3)\n",
    "'''\n",
    "cursor.execute(\"SELECT Nombre FROM Criticos WHERE IdC IN (SELECT IdC FROM Clasificacion GROUP BY IdC HAVING COUNT(*) >= 3)\")\n",
    "mostrarResultadosConsulta(cursor)"
   ]
  },
  {
   "cell_type": "markdown",
   "metadata": {},
   "source": [
    "### Listar los títulos de películas y clasificaciones promedio, desde las más altas a las más bajas. Si dos o más películas tienen la misma calificación promedio, se pide mostrarlas en orden alfabético"
   ]
  },
  {
   "cell_type": "code",
   "execution_count": 15,
   "metadata": {},
   "outputs": [
    {
     "name": "stdout",
     "output_type": "stream",
     "text": [
      "('ET', 2.5)\n",
      "('Sonrisas y lágrimas', 2.5)\n",
      "('Lo que el viento se llevó', 3.0)\n",
      "('En busca del arca perdida', 3.3)\n",
      "('Avatar', 4.0)\n",
      "('Blancanieves y los siete enanitos', 4.5)\n"
     ]
    }
   ],
   "source": [
    "'''\n",
    "Consulta: \n",
    "SELECT Titulo, ROUND(AVG(Estrellas), 1) AS calificacionMedia\n",
    "FROM Peliculas P, Clasificacion C\n",
    "WHERE P.idP = C.IdP\n",
    "GROUP BY Titulo\n",
    "ORDER BY calificacionMedia, Titulo ASC\n",
    "'''\n",
    "cursor.execute(\"SELECT Titulo, ROUND(AVG(Estrellas), 1) AS calificacionMedia FROM Peliculas P, Clasificacion C WHERE P.idP = C.IdP GROUP BY Titulo ORDER BY calificacionMedia, Titulo ASC\")\n",
    "mostrarResultadosConsulta(cursor)"
   ]
  },
  {
   "cell_type": "markdown",
   "metadata": {},
   "source": [
    "### Para cada película que tenga al menos una clasificación, encontrar la mayor cantidad de estrellas que recibió la película. Devolver el título de la película y el número de estrellas. Ordenar por título de película"
   ]
  },
  {
   "cell_type": "code",
   "execution_count": 16,
   "metadata": {},
   "outputs": [
    {
     "name": "stdout",
     "output_type": "stream",
     "text": [
      "('Avatar', 5)\n",
      "('Blancanieves y los siete enanitos', 5)\n",
      "('ET', 3)\n",
      "('En busca del arca perdida', 4)\n",
      "('Lo que el viento se llevó', 4)\n",
      "('Sonrisas y lágrimas', 3)\n"
     ]
    }
   ],
   "source": [
    "'''\n",
    "Consulta: \n",
    "SELECT Titulo, MAX(Estrellas) as maximaPuntuacion\n",
    "FROM Peliculas P, Clasificacion C\n",
    "WHERE P.idP = C.IdP\n",
    "GROUP BY Titulo\n",
    "ORDER BY Titulo ASC\n",
    "'''\n",
    "cursor.execute(\"SELECT Titulo, MAX(Estrellas) as maximaPuntuacion FROM Peliculas P, Clasificacion C WHERE P.IdP = C.IdP GROUP BY Titulo ORDER BY Titulo ASC\")\n",
    "mostrarResultadosConsulta(cursor)"
   ]
  },
  {
   "cell_type": "markdown",
   "metadata": {},
   "source": [
    "### Para todas las películas que tengan una calificación promedio de 4 estrellas o más, se pide añadir 25 al año de lanzamiento"
   ]
  },
  {
   "cell_type": "code",
   "execution_count": 17,
   "metadata": {},
   "outputs": [
    {
     "data": {
      "text/plain": [
       "<sqlite3.Cursor at 0x1035e8810>"
      ]
     },
     "execution_count": 17,
     "metadata": {},
     "output_type": "execute_result"
    }
   ],
   "source": [
    "'''\n",
    "Consulta: \n",
    "UPDATE Peliculas\n",
    "SET Año = Año + 25\n",
    "WHERE IdP IN (SELECT IdP\n",
    "              FROM Clasificacion\n",
    "              GROUP BY IdP\n",
    "              HAVING AVG(Estrellas) >= 4)\n",
    "'''\n",
    "cursor.execute(\"UPDATE Peliculas SET Año = Año + 25 WHERE IdP IN (SELECT IdP FROM Clasificacion GROUP BY IdP HAVING AVG(Estrellas) >= 4)\")"
   ]
  },
  {
   "cell_type": "code",
   "execution_count": 18,
   "metadata": {},
   "outputs": [
    {
     "name": "stdout",
     "output_type": "stream",
     "text": [
      "(101, 'Lo que el viento se llevó', 1939, 'Victor Fleming')\n",
      "(102, 'La guerra de las galaxias', 1979, 'George Lucas')\n",
      "(103, 'Sonrisas y lágrimas', 1939, 'Robert Wise')\n",
      "(104, 'ET', 1982, 'Steven Spielberg')\n",
      "(105, 'Titanic', 1997, 'James Cameron')\n",
      "(106, 'Blancanieves y los siete enanitos', 1962, None)\n",
      "(107, 'Avatar', 2034, 'James Cameron')\n",
      "(108, 'En busca del arca perdida', 1981, 'Steven Spielberg')\n"
     ]
    }
   ],
   "source": [
    "# Tiene que haber actualizado sólo 'Avatar' y 'Blancanieves y los siete enanitos'\n",
    "cursor.execute(\"SELECT * FROM Peliculas\")\n",
    "mostrarResultadosConsulta(cursor)"
   ]
  },
  {
   "cell_type": "markdown",
   "metadata": {},
   "source": [
    "### Eliminar todas las clasificaciones donde el año de la película sea anterior a 1970 o después de 2000, y la calificación sea inferior a 4 estrellas"
   ]
  },
  {
   "cell_type": "code",
   "execution_count": 19,
   "metadata": {},
   "outputs": [
    {
     "data": {
      "text/plain": [
       "<sqlite3.Cursor at 0x1035e8810>"
      ]
     },
     "execution_count": 19,
     "metadata": {},
     "output_type": "execute_result"
    }
   ],
   "source": [
    "'''\n",
    "Consulta: \n",
    "DELETE FROM Clasificacion\n",
    "WHERE Estrellas < 4\n",
    "AND IdP IN (SELECT IdP\n",
    "            FROM Peliculas\n",
    "            WHERE Año < 1970\n",
    "            OR Año > 2000)\n",
    "'''\n",
    "cursor.execute(\"DELETE FROM Clasificacion WHERE Estrellas < 4 AND IdP IN (SELECT IdP FROM Peliculas WHERE Año < 1970 OR Año > 2000)\")"
   ]
  },
  {
   "cell_type": "code",
   "execution_count": 20,
   "metadata": {},
   "outputs": [
    {
     "name": "stdout",
     "output_type": "stream",
     "text": [
      "(201, 101, 4, '2018-01-27')\n",
      "(202, 106, 4, None)\n",
      "(203, 108, 4, '2018-01-12')\n",
      "(203, 108, 2, '2018-01-30')\n",
      "(205, 104, 2, '2018-01-22')\n",
      "(205, 108, 4, None)\n",
      "(206, 106, 5, '2018-01-19')\n",
      "(207, 107, 5, '2018-01-20')\n",
      "(208, 104, 3, '2018-01-02')\n"
     ]
    }
   ],
   "source": [
    "# Tiene que haber borrado las filas con ids '201-101' (había dos filas \n",
    "# con este par, una  con 4 estrellas o más y la otra con menos de 4),\n",
    "# '203-103', '204-101', '205-103'\n",
    "cursor.execute(\"SELECT * FROM Clasificacion\")\n",
    "mostrarResultadosConsulta(cursor)"
   ]
  },
  {
   "cell_type": "code",
   "execution_count": 21,
   "metadata": {},
   "outputs": [],
   "source": [
    "connection.commit()\n",
    "cursor.close()"
   ]
  }
 ],
 "metadata": {
  "kernelspec": {
   "display_name": "Python 3",
   "language": "python",
   "name": "python3"
  },
  "language_info": {
   "codemirror_mode": {
    "name": "ipython",
    "version": 3
   },
   "file_extension": ".py",
   "mimetype": "text/x-python",
   "name": "python",
   "nbconvert_exporter": "python",
   "pygments_lexer": "ipython3",
   "version": "3.6.5"
  }
 },
 "nbformat": 4,
 "nbformat_minor": 2
}
