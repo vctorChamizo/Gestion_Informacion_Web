{
 "cells": [
  {
   "cell_type": "markdown",
   "metadata": {},
   "source": [
    "En Python existe una propuesta de API estándar para el manejo de bases de datos, de forma que el código sea prácticamente igual independientemente de la base de datos que se está utilizando por debajo. Esta especificación recibe el nombre de Python Database API o DB-API.\n",
    "\n",
    "Se van a estudiar dos casos:\n",
    "\n",
    "* SQLite.\n",
    "\n",
    "* MySQL\n"
   ]
  },
  {
   "cell_type": "markdown",
   "metadata": {},
   "source": [
    "### SQLite"
   ]
  },
  {
   "cell_type": "markdown",
   "metadata": {},
   "source": [
    "Python tiene integrada una base de datos relacional denominada SQLite.\n",
    "\n",
    "Para crear una base de datos:\n",
    "\n",
    "* En primer lugar hay que realizar una conexión con el servidor de la base de datos. Esto se hace mediante la función connect, cuyos parámetros no están estandarizados y dependen de la base de datos. \n",
    "\n",
    "* En el caso de sqlite3 sólo se necesita pasar como parámetro una cadena con la ruta al archivo en el que guardar los datos de la base de datos, o bien la cadena “:memory:” para utilizar la memoria RAM en lugar de un fichero en disco.\n",
    "\n",
    "Vamos a crear una base de datos denominada “Biblioteca”"
   ]
  },
  {
   "cell_type": "code",
   "execution_count": 1,
   "metadata": {
    "collapsed": true
   },
   "outputs": [],
   "source": [
    "import sqlite3\n",
    "conn=sqlite3.connect(\"biblioteca.sqlite3\")"
   ]
  },
  {
   "cell_type": "markdown",
   "metadata": {},
   "source": [
    "La función connect devuelve un objeto de tipo Connection que representa la conexión con conexión con la base de datos almacenada en el archivo biblioteca.sqlite3 del directorio actual. Si el archivo no existe, se creará nuevo. \n",
    "\n",
    "Las distintas operaciones que se pueden realizar con la base de datos se realizan a través de un objeto Cursor. Para crear este objeto se utiliza el método cursor() del objeto Connection.\n"
   ]
  },
  {
   "cell_type": "code",
   "execution_count": 4,
   "metadata": {
    "collapsed": true
   },
   "outputs": [],
   "source": [
    "import sqlite3\n",
    "conn=sqlite3.connect(\"biblioteca.sqlite3\")\n",
    "cur=conn.cursor()"
   ]
  },
  {
   "cell_type": "markdown",
   "metadata": {},
   "source": [
    "Una vez que tenemos el cursor, se pueden ejecutar comandos sobre el contenido de la base de datos, usando el método execute() que toma como argumento una cadena con el código SQL a ejecutar.\n",
    "\n",
    "Por ejemplo se va a crear una tabla llamada Libros con una columna de texto llamada “Título” y otra columna de enteros llamada “prestamos”. Además antes de crear la tabla la vamos a eliminar para asegurarse que no existe ya en la base de datos."
   ]
  },
  {
   "cell_type": "code",
   "execution_count": 10,
   "metadata": {
    "collapsed": true
   },
   "outputs": [],
   "source": [
    "import sqlite3\n",
    "conn=sqlite3.connect(\"biblioteca.sqlite3\")\n",
    "cur=conn.cursor()\n",
    "cur.execute(\"DROP TABLE IF EXISTS Libros\")\n",
    "cur.execute(\"CREATE TABLE Libros (titulo TEXT, ejemplares INTEGER)\")\n",
    "cur.close()"
   ]
  },
  {
   "cell_type": "markdown",
   "metadata": {},
   "source": [
    "Una vez creada la tabla Libros se pueden guardar datos usando una llamada a execute() con el comando SQL INSERT. Este comando indica qué tabla se va a utilizar y luego define una fila nueva, enumerando los campos a incluir y seguidos por los valores (VALUES) que se desean colocar en esa fila. \n"
   ]
  },
  {
   "cell_type": "code",
   "execution_count": 13,
   "metadata": {},
   "outputs": [],
   "source": [
    "import sqlite3\n",
    "conn=sqlite3.connect(\"biblioteca.sqlite3\")\n",
    "cur=conn.cursor()\n",
    "cur.execute(\"INSERT INTO Libros (titulo, ejemplares) VALUES ('El Quijote',20)\")\n",
    "cur.execute(\"INSERT INTO Libros (titulo, ejemplares) VALUES ('El Escarabajo de oro', 15)\")\n",
    "cur.close()"
   ]
  },
  {
   "cell_type": "markdown",
   "metadata": {},
   "source": [
    "Otra forma de insertar consiste en especificar como signos de interrogación  (?,?) los valores para indicar que serán pasados como una tupla en el segundo parámetro de la llamada a execute().\n"
   ]
  },
  {
   "cell_type": "code",
   "execution_count": 15,
   "metadata": {},
   "outputs": [],
   "source": [
    "import sqlite3\n",
    "conn=sqlite3.connect(\"biblioteca.sqlite3\")\n",
    "cur=conn.cursor()\n",
    "cur.execute(\"INSERT INTO Libros (titulo, ejemplares) VALUES (?,?)\", ('El Quijote',20))\n",
    "cur.execute(\"INSERT INTO Libros (titulo, ejemplares) VALUES (?,?)\",  ('El Escarabajo de oro', 15))\n",
    "cur.close()"
   ]
  },
  {
   "cell_type": "markdown",
   "metadata": {},
   "source": [
    "Si la base de datos soporta transacciones y están activadas, y además la característica de auto-commit está desactivada, será necesario llamar al método commit de la conexion para que se lleven a cabo las operaciones definidas en la transacción.\n",
    "\n",
    "Si en estas circunstancias se usara una herramienta externa para comprobar el contenido de la base de datos sin hacer primero el commit aparecería entonces con una base de datos vacía. Sin embargo si se consulta desde Python parecería que se han llevado a cabo los cambios, aunque no es así. "
   ]
  },
  {
   "cell_type": "code",
   "execution_count": 16,
   "metadata": {
    "collapsed": true
   },
   "outputs": [],
   "source": [
    "import sqlite3\n",
    "conn=sqlite3.connect(\"biblioteca.sqlite3\")\n",
    "cur=conn.cursor()\n",
    "cur.execute(\"INSERT INTO Libros (titulo, ejemplares) VALUES (?,?)\", ('El Quijote',20))\n",
    "cur.execute(\"INSERT INTO Libros (titulo, ejemplares) VALUES (?,?)\",  ('El Escarabajo de oro', 15))\n",
    "cur.close()\n",
    "conn.commit()"
   ]
  },
  {
   "cell_type": "markdown",
   "metadata": {},
   "source": [
    "En el ejemplo primero se insertan dos filas en la tabla con INSERT y luego se usa commit() para forzar que los datos sean escritos en el archivo de la base de datos.\n",
    "\n",
    "Si la  base de datos soporta la característica de rollback  entonces se puede cancelar la transacción actual con el método rollback de la conexión. Si la base de datos no soporta rollback, entonces al llamar a este método producirá una excepción.\n",
    "\n",
    "Cuando se quieren insertar múltiples filas en una sola operación se puede usar el método executemany y proporcionar como argumento la secuencia de filas que se quieren insertar como una lista. Como resultado se llama al método execute una vez por cada fila."
   ]
  },
  {
   "cell_type": "code",
   "execution_count": 17,
   "metadata": {},
   "outputs": [
    {
     "name": "stdout",
     "output_type": "stream",
     "text": [
      "2\n"
     ]
    }
   ],
   "source": [
    "import sqlite3\n",
    "conn=sqlite3.connect(\"biblioteca.sqlite3\")\n",
    "cur=conn.cursor()\n",
    "cur.executemany(\"INSERT INTO Libros (titulo, ejemplares) VALUES (?,?)\", [('El Quijote',20),('El Escarabajo de oro', 15)])\n",
    "print (cur.rowcount)\n",
    "cur.close()\n",
    "conn.commit()"
   ]
  },
  {
   "cell_type": "markdown",
   "metadata": {},
   "source": [
    "El mismo efecto se podría haber conseguido utilizando un bucle sobre una lista y el método execute()."
   ]
  },
  {
   "cell_type": "code",
   "execution_count": 19,
   "metadata": {},
   "outputs": [],
   "source": [
    "import sqlite3\n",
    "conn=sqlite3.connect(\"biblioteca.sqlite3\")\n",
    "cur=conn.cursor()\n",
    "entradas=[('El Quijote',20),('El Escarabajo de oro', 15)]\n",
    "for fila in entradas:\n",
    "    cur.execute(\"INSERT INTO Libros (titulo, ejemplares) VALUES (?,?)\", fila)\n",
    "cur.close()\n",
    "conn.commit()"
   ]
  },
  {
   "cell_type": "markdown",
   "metadata": {},
   "source": [
    "Para realizar consultas a la base de datos también se utiliza el método execute tomando como argumento una cadena que represente una sentencia SELECT de SQL.\n",
    "\n",
    "Cuando se realiza una consulta, el cursor no lee todos los datos de la base de datos cuando se ejecuta la sentencia SELECT sino que los datos serán leídos a medida que se pidan las filas.\n",
    "\n",
    "Para consultar las tuplas resultantes de la sentencia SQL se puede llamar a los métodos de cursor __fetchone, fetchmany o fetchall__ o usar el objeto cursor como un iterador.\n",
    "\n",
    "En los siguientes ejemplos primero se insertaran dos filas en la tabla con INSERT y luego se usará commit() para forzar que los datos sean escritos en el archivo de la base de datos. Después se usará el comando SELECT para recuperar las filas que se acaban de insertar en la tabla, y en cada ejemplo se usará una forma distinta de pedir las filas recuperadas. Al final del programa se  ejecuta el comando DELETE para borrar las filas que se acaban de crear, y por último se ejecuta un commit() para forzar a los datos a ser eliminados de la base de datos.\n",
    "\n",
    "En este ejemplo se usa fetchall que recupera una lista de las filas que hay en la tabla."
   ]
  },
  {
   "cell_type": "code",
   "execution_count": 21,
   "metadata": {},
   "outputs": [
    {
     "name": "stdout",
     "output_type": "stream",
     "text": [
      "Libros\n",
      "[('El Quijote', 20), ('El Escarabajo de oro', 15)]\n"
     ]
    }
   ],
   "source": [
    "import sqlite3\n",
    "conn=sqlite3.connect(\"biblioteca.sqlite3\")\n",
    "cur=conn.cursor()\n",
    "cur.execute(\"INSERT INTO Libros (titulo, ejemplares) VALUES (?,?)\", ('El Quijote',20))\n",
    "cur.execute(\"INSERT INTO Libros (titulo, ejemplares) VALUES (?,?)\",  ('El Escarabajo de oro', 15))\n",
    "conn.commit()\n",
    "print (\"Libros\")\n",
    "cur.execute(\"SELECT titulo, ejemplares FROM Libros\")\n",
    "print (cur.fetchall())\n",
    "cur.execute(\"DELETE FROM Libros\")\n",
    "cur.close()\n",
    "conn.commit()\n"
   ]
  },
  {
   "cell_type": "markdown",
   "metadata": {
    "collapsed": true
   },
   "source": [
    "También es posible iterar sobre las tuplas obtenidas con fetchall:"
   ]
  },
  {
   "cell_type": "code",
   "execution_count": 1,
   "metadata": {},
   "outputs": [
    {
     "name": "stdout",
     "output_type": "stream",
     "text": [
      "Libros\n",
      "('El Quijote', 20)\n",
      "('El Escarabajo de oro', 15)\n"
     ]
    }
   ],
   "source": [
    "import sqlite3\n",
    "conn=sqlite3.connect(\"biblioteca.sqlite3\")\n",
    "cur=conn.cursor()\n",
    "cur.execute(\"INSERT INTO Libros (titulo, ejemplares) VALUES (?,?)\", ('El Quijote',20))\n",
    "cur.execute(\"INSERT INTO Libros (titulo, ejemplares) VALUES (?,?)\",  ('El Escarabajo de oro', 15))\n",
    "conn.commit()\n",
    "print (\"Libros\")\n",
    "cur.execute(\"SELECT titulo, ejemplares FROM Libros\")\n",
    "for fila in cur.fetchall():\n",
    "    print (fila)\n",
    "cur.execute(\"DELETE FROM Libros\")\n",
    "cur.close()\n",
    "conn.commit()"
   ]
  },
  {
   "cell_type": "markdown",
   "metadata": {},
   "source": [
    "También es posible recuperar los valores de las tuplas utilizando tuplas en el bucle."
   ]
  },
  {
   "cell_type": "code",
   "execution_count": 2,
   "metadata": {},
   "outputs": [
    {
     "name": "stdout",
     "output_type": "stream",
     "text": [
      "Libros\n",
      "Título: El Quijote\n",
      "Título: El Escarabajo de oro\n"
     ]
    }
   ],
   "source": [
    "import sqlite3\n",
    "conn=sqlite3.connect(\"biblioteca.sqlite3\")\n",
    "cur=conn.cursor()\n",
    "cur.execute(\"INSERT INTO Libros (titulo, ejemplares) VALUES (?,?)\", ('El Quijote',20))\n",
    "cur.execute(\"INSERT INTO Libros (titulo, ejemplares) VALUES (?,?)\",  ('El Escarabajo de oro', 15))\n",
    "conn.commit()\n",
    "print (\"Libros\")\n",
    "cur.execute(\"SELECT titulo, ejemplares FROM Libros\")\n",
    "for (titulo,ejemplar) in cur.fetchall():\n",
    "    print (\"Título:\",titulo)\n",
    "cur.execute(\"DELETE FROM Libros\")\n",
    "cur.close()\n",
    "conn.commit()"
   ]
  },
  {
   "cell_type": "markdown",
   "metadata": {},
   "source": [
    "En el siguiente ejemplo se recupera una única columna de la tabla y luego se usa fetchall:"
   ]
  },
  {
   "cell_type": "code",
   "execution_count": 7,
   "metadata": {},
   "outputs": [
    {
     "name": "stdout",
     "output_type": "stream",
     "text": [
      "Libros\n",
      "[('El Quijote',), ('El Escarabajo de oro',)]\n"
     ]
    }
   ],
   "source": [
    "import sqlite3\n",
    "conn=sqlite3.connect(\"biblioteca.sqlite3\")\n",
    "cur=conn.cursor()\n",
    "cur.execute(\"INSERT INTO Libros (titulo, ejemplares) VALUES (?,?)\", ('El Quijote',20))\n",
    "cur.execute(\"INSERT INTO Libros (titulo, ejemplares) VALUES (?,?)\",  ('El Escarabajo de oro', 15))\n",
    "conn.commit()\n",
    "print (\"Libros\")\n",
    "cur.execute(\"SELECT titulo FROM Libros\")\n",
    "titulos= cur.fetchall()\n",
    "print (titulos)\n",
    "cur.execute(\"DELETE FROM Libros\")\n",
    "cur.close()\n",
    "conn.commit()"
   ]
  },
  {
   "cell_type": "markdown",
   "metadata": {},
   "source": [
    "En este último caso se podría formatear para que en vez de devolver una tupla con un solo valor devolviera una lista con los valores recuperados usando comprensión de listas"
   ]
  },
  {
   "cell_type": "code",
   "execution_count": 8,
   "metadata": {},
   "outputs": [
    {
     "name": "stdout",
     "output_type": "stream",
     "text": [
      "Libros\n",
      "['El Quijote', 'El Escarabajo de oro']\n"
     ]
    }
   ],
   "source": [
    "import sqlite3\n",
    "conn=sqlite3.connect(\"biblioteca.sqlite3\")\n",
    "cur=conn.cursor()\n",
    "cur.execute(\"INSERT INTO Libros (titulo, ejemplares) VALUES (?,?)\", ('El Quijote',20))\n",
    "cur.execute(\"INSERT INTO Libros (titulo, ejemplares) VALUES (?,?)\",  ('El Escarabajo de oro', 15))\n",
    "conn.commit()\n",
    "print (\"Libros\")\n",
    "cur.execute(\"SELECT * FROM Libros\")\n",
    "titulos= [rec[0] for rec in cur.fetchall()]\n",
    "print (titulos)\n",
    "cur.execute(\"DELETE FROM Libros\")\n",
    "cur.close()\n",
    "conn.commit()"
   ]
  },
  {
   "cell_type": "markdown",
   "metadata": {},
   "source": [
    "Si las tablas que se usan son muy grandes es mejor no pedir todas las filas mediante fetchall, usando otros métodos alternativos como fetchone que devuelve la siguiente tupla del conjunto resultado o None si no existen más "
   ]
  },
  {
   "cell_type": "code",
   "execution_count": 9,
   "metadata": {},
   "outputs": [
    {
     "name": "stdout",
     "output_type": "stream",
     "text": [
      "Libros\n",
      "('El Quijote', 20)\n",
      "('El Escarabajo de oro', 15)\n"
     ]
    }
   ],
   "source": [
    "import sqlite3\n",
    "conn=sqlite3.connect(\"biblioteca.sqlite3\")\n",
    "cur=conn.cursor()\n",
    "cur.execute(\"INSERT INTO Libros (titulo, ejemplares) VALUES (?,?)\", ('El Quijote',20))\n",
    "cur.execute(\"INSERT INTO Libros (titulo, ejemplares) VALUES (?,?)\",  ('El Escarabajo de oro', 15))\n",
    "conn.commit()\n",
    "print (\"Libros\")\n",
    "cur.execute(\"SELECT * FROM Libros\")\n",
    "while True:\n",
    "    fila=cur.fetchone()\n",
    "    if not fila: break\n",
    "    print (fila)\n",
    "cur.execute(\"DELETE FROM Libros\")\n",
    "cur.close()\n",
    "conn.commit()"
   ]
  },
  {
   "cell_type": "markdown",
   "metadata": {},
   "source": [
    "Otra alternativa a fetchall es el método fetchmany que devuelve el número de tuplas indicado por el entero pasado como parámetro o bien el número indicado por el atributo Cursor.arraysize si no se pasa ningún parámetro( por defecto vale 1)."
   ]
  },
  {
   "cell_type": "code",
   "execution_count": 10,
   "metadata": {},
   "outputs": [
    {
     "name": "stdout",
     "output_type": "stream",
     "text": [
      "Libros\n",
      "('El Quijote', 20)\n",
      "('El Escarabajo de oro', 15)\n"
     ]
    }
   ],
   "source": [
    "import sqlite3\n",
    "conn=sqlite3.connect(\"biblioteca.sqlite3\")\n",
    "cur=conn.cursor()\n",
    "cur.execute(\"INSERT INTO Libros (titulo, ejemplares) VALUES (?,?)\", ('El Quijote',20))\n",
    "cur.execute(\"INSERT INTO Libros (titulo, ejemplares) VALUES (?,?)\",  ('El Escarabajo de oro', 15))\n",
    "conn.commit()\n",
    "print (\"Libros\")\n",
    "cur.execute(\"SELECT * FROM Libros\")\n",
    "while True:\n",
    "    filas=cur.fetchmany()\n",
    "    if not filas: break\n",
    "    for fila in filas:\n",
    "        print(fila)\n",
    "cur.execute(\"DELETE FROM Libros\")\n",
    "cur.close()\n",
    "conn.commit()"
   ]
  },
  {
   "cell_type": "markdown",
   "metadata": {},
   "source": [
    "Observar que una vez que se han recuperado todas las filas con fetchall, fetchone o fetchmany, si se quieren volver a recuperar las filas sería necesario realizar una nueva llamada a execute con la sentencia SELECT dado que se pierden una vez recuperadas.\n",
    "\n",
    "Alternativamente a los métodos anteriores, también es posible iterar sobre el cursor con el que se ha realizado la consulta."
   ]
  },
  {
   "cell_type": "code",
   "execution_count": 11,
   "metadata": {},
   "outputs": [
    {
     "name": "stdout",
     "output_type": "stream",
     "text": [
      "Libros\n",
      "('El Quijote', 20)\n",
      "('El Escarabajo de oro', 15)\n"
     ]
    }
   ],
   "source": [
    "import sqlite3\n",
    "conn=sqlite3.connect(\"biblioteca.sqlite3\")\n",
    "cur=conn.cursor()\n",
    "cur.execute(\"INSERT INTO Libros (titulo, ejemplares) VALUES (?,?)\", ('El Quijote',20))\n",
    "cur.execute(\"INSERT INTO Libros (titulo, ejemplares) VALUES (?,?)\",  ('El Escarabajo de oro', 15))\n",
    "conn.commit()\n",
    "print (\"Libros\")\n",
    "cur.execute(\"SELECT * FROM Libros\")\n",
    "for resultado in cur:\n",
    "    print (resultado)\n",
    "cur.execute(\"DELETE FROM Libros\")\n",
    "cur.close()\n",
    "conn.commit()"
   ]
  },
  {
   "cell_type": "markdown",
   "metadata": {},
   "source": [
    "Para realizar actualizaciones o borrados también se usa el método execute del objeto cursor. En el siguiente ejemplo se va actualizar la columna “ejemplares” de la fila correspondiente al libro con título “El quijote” y se va a rellenar con el valor 22.\n",
    "\n",
    "Si se hace la consulta para ver lo que hay en la base de datos:"
   ]
  },
  {
   "cell_type": "code",
   "execution_count": 19,
   "metadata": {},
   "outputs": [
    {
     "name": "stdout",
     "output_type": "stream",
     "text": [
      "Libros\n",
      "Titulo: El Quijote\n",
      "Ejemplar: 20\n",
      "Titulo: El Escarabajo de oro\n",
      "Ejemplar: 15\n"
     ]
    }
   ],
   "source": [
    "import sqlite3\n",
    "conn=sqlite3.connect(\"biblioteca.sqlite3\")\n",
    "cur=conn.cursor()\n",
    "cur.execute(\"INSERT INTO Libros (titulo, ejemplares) VALUES (?,?)\", ('El Quijote',20))\n",
    "cur.execute(\"INSERT INTO Libros (titulo, ejemplares) VALUES (?,?)\",  ('El Escarabajo de oro', 15))\n",
    "conn.commit()\n",
    "print (\"Libros\")\n",
    "cur.execute(\"SELECT * FROM Libros\")\n",
    "for (titulo, ejemplar) in cur.fetchall():\n",
    "    print (\"Titulo:\", titulo)\n",
    "    print (\"Ejemplar:\", ejemplar)\n",
    "cur.execute(\"DELETE FROM Libros\")\n",
    "cur.close()\n",
    "conn.commit()"
   ]
  },
  {
   "cell_type": "markdown",
   "metadata": {},
   "source": [
    "Ahora se realiza la actualización:"
   ]
  },
  {
   "cell_type": "code",
   "execution_count": 21,
   "metadata": {},
   "outputs": [
    {
     "name": "stdout",
     "output_type": "stream",
     "text": [
      "Titulo: El Quijote\n",
      "Ejemplar: 22\n",
      "Titulo: El Escarabajo de oro\n",
      "Ejemplar: 15\n"
     ]
    }
   ],
   "source": [
    "import sqlite3\n",
    "conn=sqlite3.connect(\"biblioteca.sqlite3\")\n",
    "cur=conn.cursor()\n",
    "cur.execute('UPDATE Libros set ejemplares=? WHERE titulo=?',[22,\"El Quijote\"])\n",
    "conn.commit()\n",
    "cur.execute(\"SELECT * FROM Libros\")\n",
    "for (titulo, ejemplar) in cur.fetchall():\n",
    "    print (\"Titulo:\", titulo)\n",
    "    print (\"Ejemplar:\", ejemplar)\n",
    "cur.close()\n",
    "conn.commit()"
   ]
  },
  {
   "cell_type": "markdown",
   "metadata": {},
   "source": [
    "En el siguiente ejemplo se va eliminar la fila correspondiente al libro con título “El quijote”."
   ]
  },
  {
   "cell_type": "code",
   "execution_count": 22,
   "metadata": {},
   "outputs": [
    {
     "name": "stdout",
     "output_type": "stream",
     "text": [
      "Titulo: El Escarabajo de oro\n",
      "Ejemplar: 15\n"
     ]
    }
   ],
   "source": [
    "import sqlite3\n",
    "conn=sqlite3.connect(\"biblioteca.sqlite3\")\n",
    "cur=conn.cursor()\n",
    "cur.execute('DELETE FROM Libros WHERE titulo=?',[\"El Quijote\"])\n",
    "conn.commit()\n",
    "cur.execute(\"SELECT * FROM Libros\")\n",
    "for (titulo, ejemplar) in cur.fetchall():\n",
    "    print (\"Titulo:\", titulo)\n",
    "    print (\"Ejemplar:\", ejemplar)\n",
    "cur.close()\n",
    "conn.commit()"
   ]
  },
  {
   "cell_type": "markdown",
   "metadata": {},
   "source": [
    "Se pueden realizar operaciones de columna cuando se ejecuta una sentencia SELECT. En el siguiente ejemplo se van a sumar los ejemplares de todos los libros almacenados en la base de datos."
   ]
  },
  {
   "cell_type": "code",
   "execution_count": 25,
   "metadata": {},
   "outputs": [
    {
     "name": "stdout",
     "output_type": "stream",
     "text": [
      "[(15,)]\n"
     ]
    }
   ],
   "source": [
    "import sqlite3\n",
    "conn=sqlite3.connect(\"biblioteca.sqlite3\")\n",
    "cur=conn.cursor()\n",
    "cur.execute('SELECT sum(ejemplares) from Libros')\n",
    "print (cur.fetchall())\n",
    "cur.close()\n",
    "conn.commit()"
   ]
  },
  {
   "cell_type": "markdown",
   "metadata": {},
   "source": [
    "Se quiere implementar un programa que guarde información de los amigos que una persona tiene en Twitter y de las relaciones que tienen a su vez estos amigos entre sí. Esta información se almacenará en una base de datos.\n",
    "\n",
    "En primer lugar se fija la estructura de la base de datos que se va a utilizar:\n",
    "\n",
    "* Se creará una tabla llamada Personas que almacenará la información de las cuentas de Twitter.\n",
    "\n",
    "* Se creará una tabla llamada Seguimientos que almacenará las relaciones que existen entre las personas.\n",
    "\n",
    "La tabla Personas dispondrá de 3 columnas:\n",
    "\n",
    "* Un id que actuará como clave primaría de la tabla.\n",
    "\n",
    "* El nombre de usuario de la cuenta de Twitter.\n",
    "\n",
    "* Un valor entero que puede valer 0 o 1 que indica si la información de dicha cuenta ha sido recuperada o no.\n"
   ]
  },
  {
   "cell_type": "raw",
   "metadata": {},
   "source": [
    "cur.execute('''CREATE TABLE IF NOT EXISTS Personas (id INTEGER PRIMARY KEY, nombre TEXT UNIQUE, recuperado INTEGER)''')"
   ]
  },
  {
   "cell_type": "markdown",
   "metadata": {},
   "source": [
    "La tabla Seguimiento dispondrá de 2 columnas que contendrán id´s de usuarios registrados en la tabla Personas y que representarán una relación de seguimiento entre ambos usuarios con un sentido definido."
   ]
  },
  {
   "cell_type": "raw",
   "metadata": {},
   "source": [
    "cur.execute('''CREATE TABLE IF NOT EXISTS Seguimientos(desde_id INTEGER, hacia_id INTEGER, UNIQUE(desde_id, hacia_id))''')"
   ]
  },
  {
   "cell_type": "markdown",
   "metadata": {},
   "source": [
    "Observar que la combinación de los dos números de cada fila de la tabla Seguimientos se especifica como única para evitar que se cometan errores como añadir la misma relación entre las mismas personas más de una vez.\n",
    "\n",
    "Estas restricciones obligan a que las inserciones que se hagan en las tablas añadan la clausula IGNORE en la sentencia INSERT para indicar que si este INSERT en concreto causara una violación de la regla “el nombre debe ser ´unico”, el sistema de la base de datos está autorizado a ignorar el INSERT."
   ]
  },
  {
   "cell_type": "raw",
   "metadata": {},
   "source": [
    "cur.execute('''INSERT OR IGNORE INTO Personas (nombre, recuperado) VALUES ( ?, 0)''', ( amigo, ) )\n",
    "\n",
    "cur.execute('''INSERT OR IGNORE INTO Seguimientos (desde_id, hacia_id) VALUES (?, ?)''', (id, amigo_id) )"
   ]
  },
  {
   "cell_type": "markdown",
   "metadata": {},
   "source": [
    "La estructura que se va a seguir para implementar el programa será:\n",
    "\n",
    "* Crear tablas con claves primarias y restricciones.\n",
    "\n",
    "* Cuando se disponga de una cuenta, y se necesita el valor del id de esa persona, dependiendo de si esa persona ya está o no  en la tabla Personas: \n",
    "\n",
    "   * Buscar lapersona en la tabla Personas y recuperar el valor de id para esa persona, \n",
    "\n",
    "   * Añadir la persona a la tabla Personas y obtener el valor del id para la fila recién añadida.\n",
    "\n",
    "   * Insertar la fila que indica la relación de “seguimiento”.\n",
    "   \n",
    "En el siguiente trozo de código se crean las tablas.\n"
   ]
  },
  {
   "cell_type": "raw",
   "metadata": {},
   "source": [
    "import urllib\n",
    "import twurl\n",
    "import json\n",
    "import sqlite3\n",
    "TWITTER_URL = 'https://api.twitter.com/1.1/friends/list.json'\n",
    "conn = sqlite3.connect('amigos.sqlite3')\n",
    "cur = conn.cursor()\n",
    "#Se crean las tablas que almacenarán la información\n",
    "cur.execute('''CREATE TABLE IF NOT EXISTS Personas (id INTEGER PRIMARY KEY, nombre TEXT UNIQUE, recuperado INTEGER)''')\n",
    "cur.execute('''CREATE TABLE IF NOT EXISTS Seguimientos(desde_id INTEGER, hacia_id INTEGER, UNIQUE(desde_id, hacia_id))''')"
   ]
  },
  {
   "cell_type": "markdown",
   "metadata": {},
   "source": [
    "En el siguiente trozo de código se pide al usuario una cuenta de Twitter, de forma que si la cuenta ya existe se debe averiguar el valor de su id, y si la cuenta no existe aún en la tabla Personas, se debe insertar el registro y obtener el valor del id de la fila recién insertada(para ello se us cur.lastrowid que proporciona el valorque la base de datos ha asignado a la columna id en la fila recién creada)\n"
   ]
  },
  {
   "cell_type": "raw",
   "metadata": {},
   "source": [
    "#Se recupera una cuenta para procesar sus relaciones de seguimiento\n",
    "while True:\n",
    "    cuenta = raw_input('Introduzca una cuenta de Twitter, o salir: ')\n",
    "    if ( cuenta == 'salir' ) : break\n",
    "    if ( len(cuenta) < 1 ) :\n",
    "        cur.execute('''SELECT id, nombre FROM Personas WHERE recuperado = 0 LIMIT 1''')\n",
    "        try:\n",
    "            (id, cuenta) = cur.fetchone()\n",
    "        except:\n",
    "            print ('No se han encontrado cuentas de Twitter sin recuperar')\n",
    "            continue\n",
    "    else:\n",
    "        cur.execute('SELECT id FROM Personas WHERE nombre = ? LIMIT 1',(cuenta, ) )\n",
    "        try:\n",
    "            id = cur.fetchone()[0]\n",
    "        except:\n",
    "            cur.execute('''INSERT OR IGNORE INTO Personas (nombre, recuperado) VALUES ( ?, 0)''', ( cuenta, ) )\n",
    "            conn.commit()\n",
    "            if cur.rowcount != 1 :\n",
    "                print ('Error insertando cuenta:',cuenta)\n",
    "                continue\n",
    "            id = cur.lastrowid"
   ]
  },
  {
   "cell_type": "markdown",
   "metadata": {},
   "source": [
    "A continuación se recupera la información de amistades del usuario y se actualiza la tabla Personas para indicar que esa cuenta ya ha sido procesada(para lo cual se fija el campo recuperado a 1)."
   ]
  },
  {
   "cell_type": "raw",
   "metadata": {},
   "source": [
    "url = twurl.augment(TWITTER_URL,{'screen_name': cuenta, 'count': '20'} )\n",
    "print 'Recuperando cuenta', cuenta\n",
    "conexion = urllib.urlopen(url)\n",
    "datos = conexion.read()\n",
    "js = json.loads(datos)\n",
    "cur.execute('UPDATE Personas SET recuperado=1 WHERE nombre = ?', (cuenta, ) )"
   ]
  },
  {
   "cell_type": "markdown",
   "metadata": {},
   "source": [
    "El siguiente trozo de código realiza la búsqueda de las amistades del usuario en el documento json recuperado desde Twitter.\n",
    "\n",
    "Una vez extraido el nombre de usuario del documento JSON, se intenta buscar el id de esa cuenta en la tabla Personas:\n",
    "\n",
    "*  En la sección try se intenta recuperar el id mediante un fetchone que se almacena en amigo_id.\n",
    "\n",
    "*  Si el SELECT falla, el fetchone()[0] falla, y el control se transfiere a la sección except.\n",
    "\n",
    "*  Si se entra en el código except significa que la fila no se ha encontrado en la tabla Personas, por lo que hay que insertarla usando un  INSERT OR IGNORE y luego un commit() para forzar a que la base de datos se actualice.  Si la inserción ha tenido éxito se usa cur.lastrowid para averiguar el valor asignado a la columna id en la fila creada.\n",
    "\n",
    "*  Conocidos los dos id´s se insertan ambos en la tabla de Seguimientos.\n"
   ]
  },
  {
   "cell_type": "raw",
   "metadata": {},
   "source": [
    "for u in js['users'] :\n",
    "    amigo = u['screen_name']\n",
    "    print amigo\n",
    "    cur.execute('SELECT id FROM Personas WHERE nombre = ? LIMIT 1',(amigo, ) )\n",
    "    try:\n",
    "        amigo_id = cur.fetchone()[0]\n",
    "    except:\n",
    "        cur.execute('''INSERT OR IGNORE INTO Personas (nombre, recuperado) VALUES ( ?, 0)''', ( amigo, ) )\n",
    "        conn.commit()\n",
    "        if cur.rowcount != 1 :\n",
    "            print 'Error al insertar cuenta:',amigo\n",
    "            continue\n",
    "        amigo_id = cur.lastrowid\n",
    "    cur.execute('''INSERT OR IGNORE INTO Seguimientos (desde_id, hacia_id) VALUES (?, ?)''', (id, amigo_id) )\n",
    "    conn.commit()"
   ]
  },
  {
   "cell_type": "markdown",
   "metadata": {},
   "source": [
    "Una vez se haya ejecutado varias veces el programa, se habrán poblado las 2 tablas, y entonces se podrán consultar para saber las relaciones de amistad. Para ello se va a crear otro programa que mostrará:\n",
    "\n",
    "*  La información de las tablas Personas y Seguimientos\n",
    "\n",
    "*  La información compactada de una persona y a las personas que sigue\n",
    "\n",
    "Para mostrar la información de las tablas Personas y Seguimientos se consultan las tablas con SELECT:\n"
   ]
  },
  {
   "cell_type": "raw",
   "metadata": {},
   "source": [
    "import sqlite3\n",
    "conn = sqlite3.connect('amigos.sqlite3')\n",
    "cur = conn.cursor()\n",
    "\n",
    "cur.execute('SELECT * FROM Personas')\n",
    "contador = 0\n",
    "print 'Personas:'\n",
    "for fila in cur :\n",
    "    print (fila)\n",
    "    contador = contador + 1\n",
    "print (contador, 'filas.')\n",
    "cur.execute('SELECT * FROM Seguimientos')\n",
    "contador = 0\n",
    "print 'Seguimientos:'\n",
    "for fila in cur :\n",
    "    print (fila)\n",
    "    contador = contador + 1\n",
    "print (contador, 'filas.')"
   ]
  },
  {
   "cell_type": "markdown",
   "metadata": {},
   "source": [
    "Para recuperar a las personas que sigue una persona en concreto se realiza un SELECT con una claúsula JOIN."
   ]
  },
  {
   "cell_type": "raw",
   "metadata": {},
   "source": [
    "ids=cur.execute('SELECT id FROM Personas')\n",
    "for id in ids:\n",
    "    print 'Conexiones para id=',id,':'\n",
    "    cur.execute('''SELECT * FROM Seguimientos JOIN Personas\n",
    "ON Seguimientos.hacia_id = Personas.id WHERE Seguimientos.desde_id =? ''',(id,))\n",
    "    for fila in cur :\n",
    "        print fila\n",
    "cur.close()"
   ]
  }
 ],
 "metadata": {
  "kernelspec": {
   "display_name": "Python 3",
   "language": "python",
   "name": "python3"
  },
  "language_info": {
   "codemirror_mode": {
    "name": "ipython",
    "version": 3
   },
   "file_extension": ".py",
   "mimetype": "text/x-python",
   "name": "python",
   "nbconvert_exporter": "python",
   "pygments_lexer": "ipython3",
   "version": "3.6.5"
  }
 },
 "nbformat": 4,
 "nbformat_minor": 2
}
