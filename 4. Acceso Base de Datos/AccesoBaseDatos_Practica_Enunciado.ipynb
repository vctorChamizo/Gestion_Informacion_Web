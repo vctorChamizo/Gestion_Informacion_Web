{
 "cells": [
  {
   "cell_type": "markdown",
   "metadata": {},
   "source": [
    "### Práctica de Acceso a bases de datos"
   ]
  },
  {
   "cell_type": "markdown",
   "metadata": {},
   "source": [
    "Considerar la gestión de información sobre películas. Para ello se utilizará una base de datos con las siguientes tablas:\n",
    "\n",
    "Tabla Películas:\n",
    "\n",
    "IdP | Título | Año | Director\n",
    "-- | --\n",
    "101| Lo que el viento se llevó| 1939| Victor Fleming\n",
    "102| La guerra de las galaxias| 1939| George Lucas\n",
    "103| Sonrisas y lágrimas| 1939| Robert Wise\n",
    "104| ET| 1982| Steven Spielberg\n",
    "105| Titanic| 1997| James Cameron\n",
    "106| Blancanieves y los siete enanitos| 1937| Null\n",
    "107| Avatar| 2009|James Cameron\n",
    "108| En busca del arca perdida| 1981| Steven Spielberg\n",
    "\n",
    "Tabla Críticos\n",
    "\n",
    "IdC | Nombre\n",
    "-- | --\n",
    "201| Sara Martinez \n",
    "202| Daniel Pérez\n",
    "203| Amalia Sierra \n",
    "204| Paloma Sánchez\n",
    "205| Miguel Hernández\n",
    "206| Juán García\n",
    "207| James Cameron\n",
    "208| Isabel Sanz\n",
    "\n",
    "Tabla Clasificación\n",
    "\n",
    "IdC | IdP | Estrellas | Fecha\n",
    "-- | --\n",
    "201| 101| 2| 2018-01-22\n",
    "201| 101| 4| 2018-01-27\n",
    "202| 106| 4| null\n",
    "203| 103| 2| 2018-01-20\n",
    "203| 108| 4| 2018-01-12\n",
    "203| 108| 2| 2018-01-30\n",
    "204| 101| 3| 2018-01-09\n",
    "205| 103| 3| 2018-01-27\n",
    "205| 104| 2| 2018-01-22\n",
    "205| 108| 4| null\n",
    "206| 107| 3| 2018-01-15\n",
    "206| 106| 5| 2018-01-19\n",
    "207| 107| 5| 2018-01-20\n",
    "208| 104| 3| 2018-01-02\n",
    "\n",
    "En esta tabla se asocian la tabla Películas y la tabla Críticos mediante los campos id de cada una de ellas. \n",
    "\n",
    "Se pide:\n",
    "\n",
    "1.Crear un programa en Python que genere utilizando SQLite una base de datos denominada “Cine”  que contenga las 3 tablas mostradas más arriba: Películas, Críticos y Clasificación con la información que aparece en cada una de ellas. [2,5 puntos].\n",
    "\n",
    "2.Crear un programa en Python que resuelva las siguientes consultas SQL [7,5 puntos]. Se debe mostrar por pantalla el resultado de cada consulta:\n",
    " \n",
    "   * Encontrar todos los años que tengan una película que recibió una calificación de 4 o 5.Ordenar los resultados en orden creciente.\n",
    "\n",
    "   * Encontrar los nombres de todos los críticos que hayan contribuido con tres o más calificaciones.\n",
    "\n",
    "   * Listar los títulos de películas y clasificaciones promedio, desde las más altas a las más bajas. Si dos o más películas tienen la misma calificación promedio, se pide mostrarlas en orden alfabético.\n",
    "\n",
    "   * Para cada película que tenga al menos una clasificación, encontrar la mayor cantidad de estrellas que recibió la película. Devolver el título de la película y el número de estrellas. Ordenar por título de película.\n",
    "\n",
    "   * Para todas las películas que tengan una calificación promedio de 4 estrellas o más, se pide añadir 25 al año de lanzamiento.\n",
    "\n",
    "   * Eliminar todas las clasificaciones donde el año de la película sea anterior a 1970 o después de 2000, y la calificación sea inferior a 4 estrellas.\n",
    "\n",
    "#### Normas de entrega\n",
    "\n",
    "* Fecha tope de entrega: 25/10/2018\n",
    "* La entrega se realizará subiendo al campus virtual un notebook de Jupyter con la solución. El archivo tendrá como nombre BasesDatos_GrupoX donde X será el número de grupo correspondiente.\n"
   ]
  },
  {
   "cell_type": "code",
   "execution_count": null,
   "metadata": {
    "collapsed": true
   },
   "outputs": [],
   "source": []
  }
 ],
 "metadata": {
  "kernelspec": {
   "display_name": "Python 3",
   "language": "python",
   "name": "python3"
  },
  "language_info": {
   "codemirror_mode": {
    "name": "ipython",
    "version": 3
   },
   "file_extension": ".py",
   "mimetype": "text/x-python",
   "name": "python",
   "nbconvert_exporter": "python",
   "pygments_lexer": "ipython3",
   "version": "3.6.5"
  }
 },
 "nbformat": 4,
 "nbformat_minor": 2
}
