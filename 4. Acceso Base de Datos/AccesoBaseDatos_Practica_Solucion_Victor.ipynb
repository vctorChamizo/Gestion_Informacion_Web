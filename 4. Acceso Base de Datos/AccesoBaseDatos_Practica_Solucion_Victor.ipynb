{
 "cells": [
  {
   "cell_type": "markdown",
   "metadata": {},
   "source": [
    "# Práctica Acceso a Base de Datos"
   ]
  },
  {
   "cell_type": "markdown",
   "metadata": {},
   "source": [
    "### Ejercicio 1"
   ]
  },
  {
   "cell_type": "code",
   "execution_count": 63,
   "metadata": {},
   "outputs": [],
   "source": [
    "import sqlite3"
   ]
  },
  {
   "cell_type": "code",
   "execution_count": 64,
   "metadata": {},
   "outputs": [],
   "source": [
    "con = sqlite3.connect(\"cine.sqlite3\")\n",
    "cur = con.cursor()"
   ]
  },
  {
   "cell_type": "code",
   "execution_count": 65,
   "metadata": {},
   "outputs": [],
   "source": [
    "#Creación tabla Películas\n",
    "\n",
    "cur.execute('''DROP TABLE IF EXISTS Peliculas''')\n",
    "\n",
    "cur.execute('''\n",
    "CREATE TABLE Peliculas (\n",
    "    idP INTEGER,\n",
    "    Titulo TEXT, \n",
    "    Año INTEGER,\n",
    "    Director TEXT,\n",
    "    CONSTRAINT pk_peliculas PRIMARY KEY (idP))\n",
    "''')\n",
    "\n",
    "con.commit()"
   ]
  },
  {
   "cell_type": "code",
   "execution_count": 66,
   "metadata": {},
   "outputs": [],
   "source": [
    "#Creación tabla Críticos\n",
    "\n",
    "cur.execute(\"DROP TABLE IF EXISTS Criticos\")\n",
    "\n",
    "cur.execute('''\n",
    "CREATE TABLE Criticos (\n",
    "    idC INTEGER, \n",
    "    Nombre TEXT,\n",
    "    CONSTRAINT pk_criticos PRIMARY KEY (idC))\n",
    "''')\n",
    "\n",
    "con.commit()"
   ]
  },
  {
   "cell_type": "code",
   "execution_count": 67,
   "metadata": {},
   "outputs": [],
   "source": [
    "#Creación tabla Clasificación\n",
    "\n",
    "cur.execute(\"DROP TABLE IF EXISTS Clasificacion\")\n",
    "\n",
    "cur.execute('''\n",
    "CREATE TABLE Clasificacion(\n",
    "    idC INTEGER, \n",
    "    idP INTEGER,\n",
    "    Estrellas INTEGER, \n",
    "    Fecha DATE,\n",
    "    CONSTRAINT fk_c_clasificacion FOREIGN KEY (idC) REFERENCES Criticos,\n",
    "    CONSTRAINT fk_p_clasificacion FOREIGN KEY (idP) REFERENCES Peliculas)\n",
    "''')\n",
    "\n",
    "con.commit()"
   ]
  },
  {
   "cell_type": "code",
   "execution_count": 68,
   "metadata": {},
   "outputs": [],
   "source": [
    "#Insercción de datos tabla Películas\n",
    "\n",
    "peliculas = [\n",
    "    (101, \"Lo que el viento se llevó\", 1939, \"Victor Fleming\"),\n",
    "    (102, \"La guerra de las galaxias\", 1939, \"George Lucas\"),\n",
    "    (103, \"Sonrisas y lágrimas\", 1939, \"Robert Wise\"),\n",
    "    (104, \"ET\", 1982, \"Steven Spielberg\"),\n",
    "    (105, \"Titanic\", 1997, \"James Cameron\"),\n",
    "    (106, \"Blancanieves y los siete enanitos\", 1937, \"Null\"),\n",
    "    (107, \"Avatar\", 2009, \"James Cameron\"),\n",
    "    (108, \"En busca del arca perdida\", 1981, \"Steven Spielberg\")\n",
    "]\n",
    "\n",
    "for p in peliculas:\n",
    "    cur.execute(\"INSERT INTO Peliculas (idP, Titulo, Año, Director) VALUES (?, ?, ?, ?)\", p)\n",
    "    \n",
    "con.commit()"
   ]
  },
  {
   "cell_type": "code",
   "execution_count": 69,
   "metadata": {},
   "outputs": [
    {
     "name": "stdout",
     "output_type": "stream",
     "text": [
      "(101, 'Lo que el viento se llevó', 1939, 'Victor Fleming')\n",
      "(102, 'La guerra de las galaxias', 1939, 'George Lucas')\n",
      "(103, 'Sonrisas y lágrimas', 1939, 'Robert Wise')\n",
      "(104, 'ET', 1982, 'Steven Spielberg')\n",
      "(105, 'Titanic', 1997, 'James Cameron')\n",
      "(106, 'Blancanieves y los siete enanitos', 1937, 'Null')\n",
      "(107, 'Avatar', 2009, 'James Cameron')\n",
      "(108, 'En busca del arca perdida', 1981, 'Steven Spielberg')\n"
     ]
    }
   ],
   "source": [
    "for row in cur.execute('SELECT * FROM Peliculas'):\n",
    "    print (row)"
   ]
  },
  {
   "cell_type": "code",
   "execution_count": 70,
   "metadata": {},
   "outputs": [],
   "source": [
    "#Insercción de datos tabla Criticos\n",
    "\n",
    "criticos = [(201, \"Sara Martinez\"), \n",
    "            (202, \"Daniel Pérez\"), \n",
    "            (203, \"Amalia Sierra\"), \n",
    "            (204, \"Paloma Sánchez\"), \n",
    "            (205, \"Miguel Hernández\"),\n",
    "            (206, \"Juán García\"), \n",
    "            (207, \"James Cameron\"),\n",
    "            (208, \"Isabel Sanz\")]\n",
    "\n",
    "for c in criticos:\n",
    "    cur.execute(\"INSERT INTO Criticos (idC, Nombre) VALUES (?, ?)\", c)\n",
    "    \n",
    "con.commit()"
   ]
  },
  {
   "cell_type": "code",
   "execution_count": 71,
   "metadata": {},
   "outputs": [
    {
     "name": "stdout",
     "output_type": "stream",
     "text": [
      "(201, 'Sara Martinez')\n",
      "(202, 'Daniel Pérez')\n",
      "(203, 'Amalia Sierra')\n",
      "(204, 'Paloma Sánchez')\n",
      "(205, 'Miguel Hernández')\n",
      "(206, 'Juán García')\n",
      "(207, 'James Cameron')\n",
      "(208, 'Isabel Sanz')\n"
     ]
    }
   ],
   "source": [
    "for row in cur.execute('SELECT * FROM Criticos'):\n",
    "    print (row)"
   ]
  },
  {
   "cell_type": "code",
   "execution_count": 72,
   "metadata": {},
   "outputs": [],
   "source": [
    "#Insercción de datos tabla Clasificación\n",
    "\n",
    "clasificacion = [(201, 101, 2, 2018-1-22),\n",
    "                (201, 101, 4, 2018-1-27),\n",
    "                (202, 106, 4, None),\n",
    "                (203, 108, 4, 2018-1-12),\n",
    "                (203, 108, 2, 2018-1-30),\n",
    "                (204, 101, 3, 2018-1-9),\n",
    "                (205, 103, 3, 2018-1-27),\n",
    "                (205, 104, 2, 2018-1-22),\n",
    "                (205, 108, 4, None),\n",
    "                (206, 107, 3, 2018-1-15),\n",
    "                (206, 106, 5, 2018-1-19),\n",
    "                (207, 107, 5, 2018-1-20),\n",
    "                (208, 104, 3, 2018-1-2)]\n",
    "\n",
    "for c in clasificacion:\n",
    "    cur.execute(\"INSERT INTO Clasificacion (idC, idP, Estrellas, Fecha) VALUES (?, ?, ?, ?)\", c)"
   ]
  },
  {
   "cell_type": "code",
   "execution_count": 73,
   "metadata": {},
   "outputs": [
    {
     "name": "stdout",
     "output_type": "stream",
     "text": [
      "(201, 101, 2, 1995)\n",
      "(201, 101, 4, 1990)\n",
      "(202, 106, 4, None)\n",
      "(203, 108, 4, 2005)\n",
      "(203, 108, 2, 1987)\n",
      "(204, 101, 3, 2008)\n",
      "(205, 103, 3, 1990)\n",
      "(205, 104, 2, 1995)\n",
      "(205, 108, 4, None)\n",
      "(206, 107, 3, 2002)\n",
      "(206, 106, 5, 1998)\n",
      "(207, 107, 5, 1997)\n",
      "(208, 104, 3, 2015)\n"
     ]
    }
   ],
   "source": [
    "for row in cur.execute('SELECT * FROM Clasificacion'):\n",
    "    print (row)"
   ]
  },
  {
   "cell_type": "markdown",
   "metadata": {},
   "source": [
    "### Ejercicio 2"
   ]
  },
  {
   "cell_type": "markdown",
   "metadata": {},
   "source": [
    "#### Año de peliculas con 4 o 5 estrellas."
   ]
  },
  {
   "cell_type": "code",
   "execution_count": 74,
   "metadata": {},
   "outputs": [
    {
     "data": {
      "text/plain": [
       "<sqlite3.Cursor at 0x1b74b103f80>"
      ]
     },
     "execution_count": 74,
     "metadata": {},
     "output_type": "execute_result"
    }
   ],
   "source": [
    "cur.execute('''\n",
    "SELECT Fecha FROM Clasificacion \n",
    "WHERE Estrellas = 4 | 5\n",
    "ORDER BY Fecha ASC\n",
    "''')"
   ]
  },
  {
   "cell_type": "code",
   "execution_count": 75,
   "metadata": {},
   "outputs": [
    {
     "name": "stdout",
     "output_type": "stream",
     "text": [
      "1997\n",
      "1998\n"
     ]
    }
   ],
   "source": [
    "for i in (cur):\n",
    "    print(i[0])"
   ]
  },
  {
   "cell_type": "markdown",
   "metadata": {},
   "source": [
    "#### Encontrar críticos con 3 o más calificaciones."
   ]
  },
  {
   "cell_type": "code",
   "execution_count": 76,
   "metadata": {},
   "outputs": [
    {
     "data": {
      "text/plain": [
       "<sqlite3.Cursor at 0x1b74b103f80>"
      ]
     },
     "execution_count": 76,
     "metadata": {},
     "output_type": "execute_result"
    }
   ],
   "source": [
    "cur.execute('''\n",
    "SELECT Nombre FROM Criticos, Clasificacion\n",
    "WHERE Criticos.idC = Clasificacion.idC\n",
    "GROUP BY Clasificacion.idC\n",
    "HAVING COUNT(Clasificacion.idC)>=3\n",
    "''')"
   ]
  },
  {
   "cell_type": "code",
   "execution_count": 77,
   "metadata": {},
   "outputs": [
    {
     "name": "stdout",
     "output_type": "stream",
     "text": [
      "Miguel Hernández\n"
     ]
    }
   ],
   "source": [
    "for i in (cur):\n",
    "    print(i[0])"
   ]
  },
  {
   "cell_type": "markdown",
   "metadata": {},
   "source": [
    "#### Listar películas y calificaciones promedio."
   ]
  },
  {
   "cell_type": "code",
   "execution_count": 78,
   "metadata": {},
   "outputs": [
    {
     "data": {
      "text/plain": [
       "<sqlite3.Cursor at 0x1b74b103f80>"
      ]
     },
     "execution_count": 78,
     "metadata": {},
     "output_type": "execute_result"
    }
   ],
   "source": [
    "cur.execute('''\n",
    "SELECT Titulo, ROUND(AVG(Estrellas), 1) AS promedio FROM Peliculas, Clasificacion \n",
    "WHERE Peliculas.idP = Clasificacion.idP\n",
    "GROUP BY Clasificacion.idP\n",
    "ORDER BY promedio, Titulo\n",
    "''')"
   ]
  },
  {
   "cell_type": "code",
   "execution_count": 79,
   "metadata": {},
   "outputs": [
    {
     "name": "stdout",
     "output_type": "stream",
     "text": [
      "- Pelicula 1\n",
      "\tTitulo:  ET\n",
      "\tEstrellas:  2.5 \n",
      "\n",
      "- Pelicula 2\n",
      "\tTitulo:  Lo que el viento se llevó\n",
      "\tEstrellas:  3.0 \n",
      "\n",
      "- Pelicula 3\n",
      "\tTitulo:  Sonrisas y lágrimas\n",
      "\tEstrellas:  3.0 \n",
      "\n",
      "- Pelicula 4\n",
      "\tTitulo:  En busca del arca perdida\n",
      "\tEstrellas:  3.3 \n",
      "\n",
      "- Pelicula 5\n",
      "\tTitulo:  Avatar\n",
      "\tEstrellas:  4.0 \n",
      "\n",
      "- Pelicula 6\n",
      "\tTitulo:  Blancanieves y los siete enanitos\n",
      "\tEstrellas:  4.5 \n",
      "\n"
     ]
    }
   ],
   "source": [
    "cont = 1\n",
    "\n",
    "for i in (cur):\n",
    "    print(\"- Pelicula \" + str(cont))\n",
    "    print(\"\\tTitulo: \", i[0]) \n",
    "    print(\"\\tEstrellas: \", i[1], \"\\n\")\n",
    "    cont += 1"
   ]
  },
  {
   "cell_type": "markdown",
   "metadata": {},
   "source": [
    "#### Encontrar la mejor calificación de una película."
   ]
  },
  {
   "cell_type": "code",
   "execution_count": 80,
   "metadata": {},
   "outputs": [
    {
     "data": {
      "text/plain": [
       "<sqlite3.Cursor at 0x1b74b103f80>"
      ]
     },
     "execution_count": 80,
     "metadata": {},
     "output_type": "execute_result"
    }
   ],
   "source": [
    "cur.execute('''\n",
    "SELECT Titulo, MAX(Estrellas) FROM Clasificacion, Peliculas \n",
    "WHERE Clasificacion.idP = Peliculas.idP\n",
    "GROUP BY Clasificacion.idP\n",
    "ORDER BY Titulo\n",
    "''')"
   ]
  },
  {
   "cell_type": "code",
   "execution_count": 81,
   "metadata": {},
   "outputs": [
    {
     "name": "stdout",
     "output_type": "stream",
     "text": [
      "- Pelicula 1\n",
      "\tTitulo:  Avatar\n",
      "\tEstrellas:  5 \n",
      "\n",
      "- Pelicula 2\n",
      "\tTitulo:  Blancanieves y los siete enanitos\n",
      "\tEstrellas:  5 \n",
      "\n",
      "- Pelicula 3\n",
      "\tTitulo:  ET\n",
      "\tEstrellas:  3 \n",
      "\n",
      "- Pelicula 4\n",
      "\tTitulo:  En busca del arca perdida\n",
      "\tEstrellas:  4 \n",
      "\n",
      "- Pelicula 5\n",
      "\tTitulo:  Lo que el viento se llevó\n",
      "\tEstrellas:  4 \n",
      "\n",
      "- Pelicula 6\n",
      "\tTitulo:  Sonrisas y lágrimas\n",
      "\tEstrellas:  3 \n",
      "\n"
     ]
    }
   ],
   "source": [
    "cont = 1\n",
    "\n",
    "for i in (cur):\n",
    "    print(\"- Pelicula \" + str(cont))\n",
    "    print(\"\\tTitulo: \", i[0]) \n",
    "    print(\"\\tEstrellas: \", i[1], \"\\n\")\n",
    "    cont += 1"
   ]
  },
  {
   "cell_type": "markdown",
   "metadata": {},
   "source": [
    "#### Añadir 25 al año de la pelicula con una calificación promedio de 4 o más."
   ]
  },
  {
   "cell_type": "code",
   "execution_count": 82,
   "metadata": {},
   "outputs": [
    {
     "data": {
      "text/plain": [
       "<sqlite3.Cursor at 0x1b74b103f80>"
      ]
     },
     "execution_count": 82,
     "metadata": {},
     "output_type": "execute_result"
    }
   ],
   "source": [
    "cur.execute('''\n",
    "SELECT Titulo, Fecha + 25, ROUND(AVG(Estrellas), 1) AS promedio FROM Peliculas, Clasificacion \n",
    "WHERE Peliculas.idP = Clasificacion.idP\n",
    "GROUP BY Clasificacion.idP\n",
    "HAVING promedio >= 4\n",
    "ORDER BY promedio, Titulo\n",
    "''')"
   ]
  },
  {
   "cell_type": "code",
   "execution_count": 83,
   "metadata": {},
   "outputs": [
    {
     "name": "stdout",
     "output_type": "stream",
     "text": [
      "- Pelicula 1\n",
      "\tTitulo:  Avatar\n",
      "\tFecha:  2022\n",
      "\tEstrellas:  4.0 \n",
      "\n",
      "- Pelicula 2\n",
      "\tTitulo:  Blancanieves y los siete enanitos\n",
      "\tFecha:  2023\n",
      "\tEstrellas:  4.5 \n",
      "\n"
     ]
    }
   ],
   "source": [
    "cont = 1\n",
    "\n",
    "for i in (cur):\n",
    "    print(\"- Pelicula \" + str(cont))\n",
    "    print(\"\\tTitulo: \", i[0]) \n",
    "    print(\"\\tFecha: \", i[1]) \n",
    "    print(\"\\tEstrellas: \", i[2], \"\\n\")\n",
    "    cont += 1"
   ]
  },
  {
   "cell_type": "markdown",
   "metadata": {},
   "source": [
    "#### Eliminar clasificaciones anteriores al 1970 o posteriores a 2000 y con calificación inferior a 4 estrellas."
   ]
  },
  {
   "cell_type": "code",
   "execution_count": 87,
   "metadata": {},
   "outputs": [
    {
     "data": {
      "text/plain": [
       "<sqlite3.Cursor at 0x1b74b103f80>"
      ]
     },
     "execution_count": 87,
     "metadata": {},
     "output_type": "execute_result"
    }
   ],
   "source": [
    "cur.execute('''\n",
    "DELETE FROM Clasificacion\n",
    "WHERE idP IN (SELECT idP FROM Peliculas WHERE Año < 1970 OR Año > 2000) AND Estrellas < 4\n",
    "''')"
   ]
  },
  {
   "cell_type": "code",
   "execution_count": 88,
   "metadata": {},
   "outputs": [
    {
     "data": {
      "text/plain": [
       "<sqlite3.Cursor at 0x1b74b103f80>"
      ]
     },
     "execution_count": 88,
     "metadata": {},
     "output_type": "execute_result"
    }
   ],
   "source": [
    "cur.execute('''\n",
    "SELECT * FROM Clasificacion\n",
    "''')"
   ]
  },
  {
   "cell_type": "code",
   "execution_count": 89,
   "metadata": {},
   "outputs": [
    {
     "name": "stdout",
     "output_type": "stream",
     "text": [
      "- Clasifiacion 1\n",
      "\tPelicula:  201\n",
      "\tCritico:  101\n",
      "\tFecha:  1990\n",
      "\tEstrellas:  4 \n",
      "\n",
      "- Clasifiacion 2\n",
      "\tPelicula:  202\n",
      "\tCritico:  106\n",
      "\tFecha:  None\n",
      "\tEstrellas:  4 \n",
      "\n",
      "- Clasifiacion 3\n",
      "\tPelicula:  203\n",
      "\tCritico:  108\n",
      "\tFecha:  2005\n",
      "\tEstrellas:  4 \n",
      "\n",
      "- Clasifiacion 4\n",
      "\tPelicula:  203\n",
      "\tCritico:  108\n",
      "\tFecha:  1987\n",
      "\tEstrellas:  2 \n",
      "\n",
      "- Clasifiacion 5\n",
      "\tPelicula:  205\n",
      "\tCritico:  104\n",
      "\tFecha:  1995\n",
      "\tEstrellas:  2 \n",
      "\n",
      "- Clasifiacion 6\n",
      "\tPelicula:  205\n",
      "\tCritico:  108\n",
      "\tFecha:  None\n",
      "\tEstrellas:  4 \n",
      "\n",
      "- Clasifiacion 7\n",
      "\tPelicula:  206\n",
      "\tCritico:  106\n",
      "\tFecha:  1998\n",
      "\tEstrellas:  5 \n",
      "\n",
      "- Clasifiacion 8\n",
      "\tPelicula:  207\n",
      "\tCritico:  107\n",
      "\tFecha:  1997\n",
      "\tEstrellas:  5 \n",
      "\n",
      "- Clasifiacion 9\n",
      "\tPelicula:  208\n",
      "\tCritico:  104\n",
      "\tFecha:  2015\n",
      "\tEstrellas:  3 \n",
      "\n"
     ]
    }
   ],
   "source": [
    "cont = 1\n",
    "\n",
    "for i in (cur):\n",
    "    print(\"- Clasifiacion \" + str(cont))\n",
    "    print(\"\\tPelicula: \", i[0]) \n",
    "    print(\"\\tCritico: \", i[1]) \n",
    "    print(\"\\tFecha: \", i[3]) \n",
    "    print(\"\\tEstrellas: \", i[2], \"\\n\")\n",
    "    cont += 1"
   ]
  },
  {
   "cell_type": "markdown",
   "metadata": {},
   "source": [
    "### Cerramos el cursor y la conexión de la BD."
   ]
  },
  {
   "cell_type": "code",
   "execution_count": 61,
   "metadata": {},
   "outputs": [],
   "source": [
    "cur.close()"
   ]
  },
  {
   "cell_type": "code",
   "execution_count": 62,
   "metadata": {},
   "outputs": [],
   "source": [
    "con.close()"
   ]
  }
 ],
 "metadata": {
  "kernelspec": {
   "display_name": "Python 3",
   "language": "python",
   "name": "python3"
  },
  "language_info": {
   "codemirror_mode": {
    "name": "ipython",
    "version": 3
   },
   "file_extension": ".py",
   "mimetype": "text/x-python",
   "name": "python",
   "nbconvert_exporter": "python",
   "pygments_lexer": "ipython3",
   "version": "3.6.5"
  }
 },
 "nbformat": 4,
 "nbformat_minor": 2
}
