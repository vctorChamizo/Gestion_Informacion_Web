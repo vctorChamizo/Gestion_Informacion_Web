{
 "cells": [
  {
   "cell_type": "markdown",
   "metadata": {},
   "source": [
    "### Recuperación de recursos de la web"
   ]
  },
  {
   "cell_type": "markdown",
   "metadata": {},
   "source": [
    "Se van a mostrar varias formas de recuperar recursos que se encuentran en la web:\n",
    "\n",
    "* Recuperación via http\n",
    "\n",
    "* Recuperación con el módulo urllib.\n",
    "\n",
    "* Recuperación con el módulo Request\n",
    "\n",
    "__Recuperación via http__\n",
    "\n",
    "Un socket proporciona una conexión de doble sentido entre dos programas, de manera que es posible tanto leer como escribir en el mismo socket. Si se escribe algo en un socket, es enviado hacia la aplicación que está al otro lado del socket. Si se lee desde un socket, se obtienen los datos que la otra aplicación ha enviado.\n",
    "\n",
    "En Python existe un soporte integrado para los sockets.\n",
    "\n",
    "El protocolo para el intercambio de recursos web es HTTP. En este  protocolo para pedir un documento a un servidor web se escribe una línea en la cual el segundo parámetro es la página web que estamos solicitando, y a continuación enviamos una línea en blanco:\n",
    "\n",
    "            GET servidor web HTTP/1.0\n",
    "\n",
    "El servidor web responderá con una cabecera que contiene cierta información acerca del documento y una línea en blanco, seguido por el contenido del documento.\n",
    "\n",
    "En el siguiente ejemplo se va a recuperar una imagen. Para ello se realiza una conexión con el puerto 80 del servidor y se envía el comando GET seguido por una línea en blanco. Una vez enviada la línea en blanco, se utiliza un bucle que recibe los datos desde el socket en bloques de 512 caracteres y se  imprime en pantalla hasta que no quedan más datos por leer (recv() devuelve una cadena vacía)."
   ]
  },
  {
   "cell_type": "code",
   "execution_count": 39,
   "metadata": {
    "collapsed": false
   },
   "outputs": [
    {
     "name": "stdout",
     "output_type": "stream",
     "text": [
      "b'HTTP/1.1 200 OK\\r\\nContent-Type: image/jpeg\\r\\nLast-Modified: Mon, 23 Mar 2015 09:49:55 GMT\\r\\nAccept-Ranges: bytes\\r\\nETag: \"163b76b74e65d01:0\"\\r\\nServer: Microsoft-IIS/8.5\\r\\nX-Powered-By: ASP.NET\\r\\nDate: Mon, 30 Oct 2017 15:49:07 GMT\\r\\nConnection: close\\r\\nContent-Length: 62887\\r\\n\\r\\n\\xff\\xd8\\xff\\xe0\\x00\\x10JFIF\\x00\\x01\\x01\\x00\\x00\\x01\\x00\\x01\\x00\\x00\\xff\\xdb\\x00C\\x00\\x06\\x04\\x05\\x06\\x05\\x04\\x06\\x06\\x05\\x06\\x07\\x07\\x06\\x08\\n\\x10\\n\\n\\t\\t\\n\\x14\\x0e\\x0f\\x0c\\x10\\x17\\x14\\x18\\x18\\x17\\x14\\x16\\x16\\x1a\\x1d%\\x1f\\x1a\\x1b#\\x1c\\x16\\x16 , #&\\')*)\\x19\\x1f-0-(0%()(\\xff\\xdb\\x00C\\x01\\x07\\x07\\x07\\n\\x08\\n\\x13\\n\\n\\x13(\\x1a\\x16\\x1a((((((((((((((((((((((((((((((((((((((((((((((((((\\xff\\xc0\\x00\\x11\\x08\\x01\\xbd\\x02\\xbc\\x03\\x01\"\\x00\\x02\\x11\\x01\\x03\\x11\\x01\\xff\\xc4\\x00\\x1f\\x00\\x00\\x01\\x05\\x01\\x01\\x01\\x01\\x01\\x01\\x00\\x00\\x00\\x00\\x00\\x00\\x00\\x00\\x01\\x02\\x03\\x04\\x05\\x06\\x07\\x08\\t\\n\\x0b\\xff\\xc4\\x00\\xb5\\x10\\x00\\x02\\x01\\x03\\x03\\x02\\x04\\x03\\x05\\x05\\x04\\x04\\x00\\x00\\x01}\\x01\\x02\\x03\\x00\\x04\\x11\\x05\\x12!1A\\x06'\n",
      "b'\\x13Qa\\x07\"q\\x142\\x81\\x91\\xa1\\x08#B\\xb1\\xc1\\x15R\\xd1\\xf0$3br\\x82\\t\\n\\x16\\x17\\x18\\x19\\x1a%&\\'()*456789:CDEFGHIJSTUVWXYZcdefghijstuvwxyz\\x83\\x84\\x85\\x86\\x87\\x88\\x89\\x8a\\x92\\x93\\x94\\x95\\x96\\x97\\x98\\x99\\x9a\\xa2\\xa3\\xa4\\xa5\\xa6\\xa7\\xa8\\xa9\\xaa\\xb2\\xb3\\xb4\\xb5\\xb6\\xb7\\xb8\\xb9\\xba\\xc2\\xc3\\xc4\\xc5\\xc6\\xc7\\xc8\\xc9\\xca\\xd2\\xd3\\xd4\\xd5\\xd6\\xd7\\xd8\\xd9\\xda\\xe1\\xe2\\xe3\\xe4\\xe5\\xe6\\xe7\\xe8\\xe9\\xea\\xf1\\xf2\\xf3\\xf4\\xf5\\xf6\\xf7\\xf8\\xf9\\xfa\\xff\\xc4\\x00\\x1f\\x01\\x00\\x03\\x01\\x01\\x01\\x01\\x01\\x01\\x01\\x01\\x01\\x00\\x00\\x00\\x00\\x00\\x00\\x01\\x02\\x03\\x04\\x05\\x06\\x07\\x08\\t\\n\\x0b\\xff\\xc4\\x00\\xb5\\x11\\x00\\x02\\x01\\x02\\x04\\x04\\x03\\x04\\x07\\x05\\x04\\x04\\x00\\x01\\x02w\\x00\\x01\\x02\\x03\\x11\\x04\\x05!1\\x06\\x12AQ\\x07aq\\x13\"2\\x81\\x08\\x14B\\x91\\xa1\\xb1\\xc1\\t#3R\\xf0\\x15br\\xd1\\n\\x16$4\\xe1%\\xf1\\x17\\x18\\x19\\x1a&\\'()*56789:CDEFGHIJSTUVWXYZcdefghijstuvwxyz\\x82\\x83\\x84\\x85\\x86\\x87\\x88\\x89\\x8a\\x92\\x93\\x94\\x95\\x96\\x97\\x98\\x99\\x9a\\xa2\\xa3\\xa4\\xa5\\xa6\\xa7\\xa8\\xa9\\xaa\\xb2\\xb3\\xb4\\xb5\\xb6\\xb7\\xb8\\xb9\\xba\\xc2\\xc3\\xc4\\xc5\\xc6\\xc7\\xc8\\xc9\\xca\\xd2\\xd3\\xd4\\xd5\\xd6\\xd7\\xd8\\xd9\\xda\\xe2\\xe3\\xe4\\xe5\\xe6\\xe7\\xe8\\xe9\\xea\\xf2\\xf3\\xf4\\xf5\\xf6\\xf7\\xf8\\xf9\\xfa\\xff\\xda\\x00\\x0c\\x03\\x01\\x00\\x02\\x11\\x03\\x11\\x00?\\x00\\xfa\\x181\\xa5\\xddT\\xc5\\xf5\\xb1\\xff\\x00\\x96\\xe9\\xfc\\xa9E\\xed\\xb1\\xff\\x00\\x96\\xf1\\x7f\\xdf@V\\xe6\\x05\\xcd\\xc2\\x8c\\xd5?\\xb6\\xda\\xff\\x00\\xcf\\xcc#\\xfe\\x06?\\xc6\\xb8}w\\xc6\\x1e \\x83Z\\xbe\\xb5\\xd0\\xb4k\\x1b\\xfb{ER\\xd2=\\xe2\\xa1l\\x80F\\x01#\\x9e\\xbc\\nC;\\xcb\\xac+\\xc1 8+ S\\xf4n\\x08\\xfeF\\xbck\\xe3\\x16\\xa0/5\\xfb8\\xe1\\x90\\x18\\xd6\\xd8\\x98\\x99O\\x0e\\x0b\\x1d\\xc4~X\\xcdv\\xda\\x0e\\xb5/\\x8a4\\xeb\\x0b\\x8b\\xdf\\xb3\\xd9\\xdb\\xc9\\x1f\\x9d,'\n",
      "b'k0\\xe1\\xf2@\\x8c\\x92rx\\x19\\xe8\\x07\"\\xb8/\\x8c\\x06\\x0f\\xf8Jt\\xe6\\xb6x\\x8a-\\xb0Q\\xe5\\xb0!FH\\x03\\xda\\x84\\xef\\xb0\\x1d\\xe7\\xc2a\\xe4xj\\x0b~0\\xeag>\\xa1\\x8b\\xb26O\\xa7\\xc8\\x0f\\xb6k\\xb3f\\tp\\xa7<:\\xed\\xfcGO\\xd35\\xc1\\xfc3\\xbb\\xb7M\\x1e\\xdb\\xcc\\xb8\\x85\\x0f\\x97\"\\xe1\\x9c\\x0f\\xf9k\\x91\\xdf\\xfd\\xaa\\xec\\xae/,\\xcal{\\xdbdc\\x82\\xa4\\xca\\xa0\\x83\\xd8\\x8ehH\\x19\\x7fp\\xa4\\xddUc\\xb9R\\x00\\x90\\x85\\x7fQ\\xc8>\\xe0\\xfaT\\xaa\\xc1\\xfe\\xe3\\x06\\xef\\xf2\\x90i\\x85\\xc9w\\x8a\\x03\\n\\x8f\\x9f\\xc6\\x8c\\xd0\\x17%\\xcd.j,\\xd2\\x864\\xac\\x04\\x99\\xa34\\xcd\\xf4n\\x14X\\x07\\xe6\\x8c\\xd3r)h\\x01sFi\\xb4f\\x80\\x1d\\x9aL\\xd2f\\x934\\x00\\xec\\xd2f\\x8aL\\xd0\\x17\\x174f\\x9b\\x9a3LC\\xb3I\\x9aL\\xd1\\x9a\\x00vM\\x1b\\xa9\\xb4f\\x81\\xdcvE.j<\\xd1\\x9a\\x02\\xe4\\xa1\\xb1\\xcd<05_4f\\x95\\x86X\\xcd\\x19\\xa8\\x03\\x1e\\xc6\\x94Hh\\xb0\\\\\\x9a\\x8a\\x8b\\xcc4y\\x86\\x8b\\x05\\xc9sEE\\xe6\\xfbQ\\xe6\\x0fJ\\x02\\xe4\\xb9\\xa2\\x98\\x1c\\x11H\\x1cs@\\\\}\\x14\\xd0\\xc0\\xd1\\xb8z\\xd0\\x03\\xa8\\xa4\\xc8\\xf5\\xa3#\\xb5\\x00-\\x14SA\\x14\\x08vM89\\x1e\\xf5\\x1e\\xe1\\xd34\\xb9\\xa0w%\\xf3=\\xa9\\xe0\\xe4\\x03U\\xf21\\x93\\xc0\\xf5\\xac\\xe8uf\\xba\\x1b\\xb4\\xcbi.\\xa1\\xe8\\'f\\x11\\xc4\\xde\\xeaO,=\\xc0#\\xd0\\xd2\\xb0\\xd36\\xa9\\x99\"M\\xb9\\xc8#\\'\\xda\\xb2\\xa6}fX\\xdd!6\\x16\\xce\\xcaB\\xbbo\\x9bi\\xecH\\xc2\\xe7\\xe9X~\\r\\xd7\\xdd\\xf4MSS\\xf1\\x06\\xabn\\xf0\\xdb\\xdd\\xcb\\x0bJ#\\x11$B3\\xb4\\xfdry\\xc5+\\x0e\\xe7e\\xbb\\xe6*\\x01$u='\n",
      "b'\\x85:\\xb9_\\x06x\\xae={O3Oo-\\xb4\\xeb IKFBe\\x86P\\x82{2\\xed?\\x88\\xf5\\xae\\xaa\\x860\\xa2\\x8a)\\x00QM\\xa2\\x80\\x0c\\xd1E\\x14\\x00QE\\x14\\x08(\\xa4\\xcd\\x19\\xa0\\x10\\xb4RQ@\\x05\\x14Q@\\x05\\x19\\xa2\\x92\\x80\\x174f\\x8a(\\x00\\xa2\\x8a(\\x18QE\\x14\\t\\x85\\x14Q@\\x05\\x14Q@\\x05\\x14\\x99\\xa5\\xa0\\x02\\x8a(\\xa0aKIE\\x00R\\xdc}h\\xc9\\xa2\\x935\\xa1\\x90\\x1c\\x0eN1\\xdc\\xd7\\x05\\xafxF\\xf7Y\\xd4\\xc6\\xa3\\xa7k7\\x1al\\xf3\\xc6<\\xc4\\x8c\\x1c\\x11\\xce\\xd2p\\xc3\\x9d\\xa4\\x0cWg\\xa81\\xf2D1\\xff\\x00\\xac\\x98\\xecQ\\xd3\\x8f\\xe2?\\x96jx\\x90F\\xbbG^\\xe6\\x809\\r\\'C\\xf1&\\x8f\\xa6[\\xd8Y_\\xe9\\x12[\\xdb\\xae\\xd4\\xf3m\\x9f8\\xcfs\\x9e\\xbc\\xd7\\x9c|XmF\\xdb[\\xb2}tX)\\x10\\xe5\\x1e\\xcc6\\x18d\\xe7pn\\xff\\x00J\\xf7\\x8c\\xd7\\x8b\\xfc}\\x89\\x9fQ\\xd2^0\\x85\\xfc\\xa6\\x0b\\xb8q\\x9d\\xdd\\xff\\x00:IY\\x0e\\xf7f\\xef\\xc2\\xbd[N\\x97N\\x8a/\\xb4B\\x1e/8\\xb0\\x93\\n\\x00%\\n\\x9c\\x9f\\xa3W1\\xe2\\xd8\\xbc(\\xde5\\xd7\\xa7\\xd6\\xd2\\xe6\\xf2Ib\\x8c\\xd9}\\x9ab\\xc8\\x8d\\xb0\\xee\\'\\r\\xc7;x\\xe9\\xd7\\x8a\\x87\\xe1\\x1f\\x86\\x93Q%\\xf5\\xa8\"\\x9a\\xd7\\xcc1\\xaa\\xab0;\\xb6n \\xe0\\x8e:~\\xb5\\xec\\x16\\xfe\\x19\\xd0\\xad\\xc8ht\\x8b\\x15lc& \\xc7\\xf3 \\xd2W}\\x07\\xb3(\\xf8\\x06+\\x0b\\x8f\\x07\\xe9\\x9fg\\x86\"\\xa9\\x08\\x8d\\xc8\\\\\\x1d\\xc3\\xef\\x02z\\x9eM[\\xd4|)\\xa4_\\xceg\\x96\\x19\\x92r\\x81|\\xc8n$\\x8c\\xe39\\x03\\x83\\xfd+b\\x18\\xa3\\x856C\\x1aF\\xa3\\xa2\\xa2\\x80?*\\x96\\x9aZX.S\\x86\\xc9\\xa0\\x8d#\\x86\\xee\\xe4*.\\xd0\\x1c\\xab\\xf1\\x8crJ\\xe4\\xd3\\xc4wj\\xa7\\x171\\xbbv2E\\x8f\\xe4\\xc2\\xacf\\x8c\\xd1a\\\\\\x80\\x1b\\xb0>e\\xb6s\\xdf\\x0c\\xcb\\xfd\\r!\\x9a\\xe46\\r\\x98#\\xd5%\\x07\\xf4 U\\x9a(\\x0b\\x95\\x85\\xd3n\\xda\\xd6\\xb7+\\xef\\xb5H\\xfd\\x18\\xd2\\x0b'\n",
      "b\"\\xe8w\\x15a2\\x11\\xfd\\xf8\\x1c\\x0f\\xcf\\x15j\\x8a\\x02\\xe5a\\x7fi\\x82M\\xccJ\\x07R\\xcc\\x07\\xf3\\xa9\\xa2\\xb9\\x8aQ\\xba)cu\\xecQ\\x81\\x1f\\xce\\x9cI#\\x07\\x91\\xe8j\\x19-m\\xe4\\x18\\x92\\x08\\\\z2\\x03\\xfd)\\x88\\xb3\\xb8\\x9e\\xc6\\x97uQ\\x166\\xaa0\\x90F\\x83\\xd1\\x06\\xdf\\xe5A\\xb2\\x8b\\x18C2{\\xa4\\xee\\x0f\\xf3\\xa5`.\\xd1\\x9a\\xa4\\xd6\\xad\\xb5B]\\xdd.\\xd3\\x9c\\xef\\x0cO\\x1d\\x0e\\xe0i\\xc9\\x0c\\xea0/$ow\\x8d\\x0f\\xf2\\x02\\x80-\\xe6\\x92\\xab\\x14\\xba\\x0b\\xf2\\xdcD\\xcd\\xea\\xd0\\x1f\\xe8\\xd4\\x89\\xf6\\xd1\\xf7\\xda\\xd5\\x87\\xfb*\\xcb\\xfdM0-f\\x8a\\xa6d\\xbd\\r\\xff\\x00\\x1e\\xf6\\xcc\\xbe\\xa2v\\x07\\xf2\\xd9N3\\\\\\x03\\x8f\\xb2\\x16\\xf7Y\\x97\\xfa\\xe2\\x80-Q\\x9a\\xa8\\xf7R\\xa7[+\\x96\\xff\\x00p\\xc6\\x7f\\xf6j>\\xd9\\xf2\\x17kk\\xc5\\xc7o/'\\xf2\\x04\\xd0\\x05\\xaa3T\\xce\\xa1\\x088d\\xb9_\\xad\\xb4\\x98\\xfc\\xf6\\xd3\\xcd\\xf5\\xb0\\x19iv\\x83\\xfd\\xe5a\\xfd(\\x02\\xcd\\x19\\xaa\\xcb}j\\xdd.#\\xfcX\\nO\\xb7Z\\x03\\x83wl\\x0f\\xa1\\x99A\\xfet\\x01j\\x8a\\x8d&\\x8d\\xc6RH\\xd8z\\xab\\x03\\xfdi\\xc0\\x83\\xd0\\xe6\\x80\\x1dI\\x9a0}\\r\\x18>\\x86\\x80\\x0c\\xd1\\x9aJ3@\\x0b\\x9a3M\\xcd-\\x00.h\\xcd&h\\xcd\\x00.h\\xcd&i3@\\x0e\\xcd\\x01\\x88\\xe9M\\xcd\\x19\\xa0\\x07n>\\xb4f\\x9b\\x9a3@\\x0b\\x9aP\\xc4w\\xa6\\xe6\\x8c\\xd0\\x05]f\\xdd\\xef\\xb4\\xc9\\xed\\xa3`\\x19\\xc0\\x041 8\\x0c\\tR{\\x06\\x00\\xae}\\rIiy\\x1d\\xca\\xb8\\x8c\\x14x\\x88Y!`\\x03Dq\\x90\\x08\\xf4\\xf4#\\x82:T\\x8e\\xc1U\\x9d\\x8e\\x15Ab}\\xbb\\xd7\\x9e'\\xc4o\\x0c]\\xf8\\xba\\xca+{\\xe3\\x19\\x11\\xbc/;\\xc6\\xc1e\\xdcF\\xc4\\x03\\x19#<\\xe4\\xe3\\x1d\\xba\\x9a\\x06\\x8f@\\xbf\\xbd[+\\x0b\\x9b\\xa9N\\x12\\x08\\x9aBO\\xa0\\x15\\xe0\\xfa\\x14\\xf3\\xf8\\x83R\\x87K\\xd4\\x8f\\x9d\\xa6\\t_Q\\xb8\\xb4_\\x94Lr\\x1d\\xfeQ\\x8c\\x9e\\xfc\\xfd;\\xd7\\xabk\\x10I\\xaai\\x17\\xd7\\xb7\\xd0\\xcb\\x02Em\"\n",
      "b'9\\xb6\\xb6\\x90\\xe0\\x83\\xe5\\x90$u\\xec\\xd8\\xce\\x01\\'\\x00\\xfa\\xf4\\xf1o\\x85,G\\x88\\xb0I9\\x82\\xea0I\\xcf&& ~\\x947`\\x8a>\\x90eS\\x1bDQ<\\xa2\\xbb\\n\\x00\\x00\\xc61\\x8czc\\x8ae\\x94\\xee\\x81\\xa0w\\xdd$XROV_\\xe1\\'\\xf0\\x18\\xfa\\x83M\\xb6\\x7f2\\xda\\x17\\xfe\\xfcj\\xdf\\x98\\x15\\x05\\xf9x\\x02\\xdd\\xa2;y@\\xf9\\x88\\xa3%\\xe3\\xeap;\\x91\\xd7\\xf3\\x1d\\xe8HW4\\xfe\\xd0\\xd9\\xe9\\xc5\\x06\\xe0\\x91\\xc0\\xe6\\xabF\\xcb\"+#\\x06V\\x01\\x95\\x94\\xe40\\xc7\\x04\\x1fJSE\\x90\\xee\\xcb\\x0bp@9\\xe4\\xf6\\xa0\\xdc\\x9c\\xf4\\xe3\\xd2\\xabf\\x8c\\xd1d.fZk\\x91\\x9f\\x94q\\xde\\x94\\\\\\x8e\\xe2\\xaaf\\x8c\\xd1\\xca\\x83\\x99\\x96\\xfe\\xd0\\xb8<})>\\xd2=*\\xaei3G*\\x0ef[k\\x91\\x9c(\\xfci\\xcbp\\x84\\xe3\\x91\\xefT\\xb3Fh\\xe5C\\xe6e\\xff\\x0058\\xf9\\xba\\xd2\\x99\\x13\\xfb\\xc3\\x9a\\xcf\\xcd\\x19\\xa5\\xca>c@H\\xa4\\xe0\\x1ei\\xd5\\x9a\\x18\\x83\\x91\\xd4R\\x99[?z\\x8eQs\\x1a4f\\xa8\\x9b\\x87\\xe3\\x9e\\x95\"\\xdc\\x9f\\xe2\\x1f\\x95.VR\\x92-QQG2\\xb8\\xeb\\x82;RI:*\\xe4\\x1c\\x9fJV\\x0b\\xa2j*\\x0f\\xb5\\'n\\xb9\\xe4R\\x9b\\x88\\xfdr(\\xb3\\x0b\\xa2j*\\x15\\xb8B\\x01\\'\\x19\\xedO\\xf3S`l\\xf0i\\xd9\\x8e\\xe3\\xe8\\xa8\\xcc\\xc8\\x00\\xcbc#\"\\x929\\x91\\xf3\\x83\\xd3\\xd6\\x80\\xb9-\\x14\\x99\\xa6\\xefA\\xfcC\\x9aV\\x01\\xf9\\xa2\\xa2i\\xe3S\\x82\\xc3\\xd6\\x99\\xf6\\xa4\\xdeW\\xd3\\xbd;1]\\x16(\\xa8\\xfc\\xe4\\xc8\\x1b\\x87=)RDrB\\xb0$u\\xa5a\\xdc}\\x14\\x99\\xa4\\x0c\\x1b\\x90A\\xa2\\xc1r\\x95#0Q\\x93\\xf8\\x0fSA`\\x01$\\xe0\\x0e\\xb5\\x04\\xd2\\x14\\x88\\xc9\\x8c\\xbf\\xdd\\x8d}\\xcf\\x02\\xb42\\x19\\x082^I+r#\\x1eX\\xfa\\xf5l~\\x83\\xf3\\xaby\\xa8\\xad\\xe3\\x10\\xc2\\xa8\\x0ep9>\\xa7\\xd6\\xa4\\xa41k\\xca>6[\\xbc\\xd7zC&2\\xaa\\xd9\\xc9\\xc7\\x1b\\x81\\xafV\\xcdyG\\xc7r\\xe9\\x0e\\x8f$lP\\xefpJ\\x9c'\n",
      "b\"deN\\r4\\x05\\xaf\\x85l\\x16\\xd1\\x94u\\x17\\xc0c\\xd9\\xa1q\\xfd+\\xd3\\xb3^S\\xf0\\xc1\\xb1\\xf6\\xa1\\xd0-\\xd5\\xbbc\\xeb\\xbd\\x7f\\xadz\\xadJ\\x01h\\xcd%\\x14\\xc0vh\\xcd6\\x974\\x00\\xb9\\xa34\\xda3@\\x0e\\xa2\\x90\\x1a3@\\x0bFi(\\xa0\\x05\\xa4\\xa34\\x94\\x00\\xb9\\xa2\\x92\\x8a\\x00\\\\\\x9a]\\xd4\\xdaL\\xd0\\x03\\xf3N\\xa8\\xe97\\x1a,\\x03\\xe8\\xcd45.i\\x80\\xb4\\x06#\\xbd&h\\xa0\\x07d\\xfa\\x9f\\xce\\x98\\xca\\xad\\xf7\\x947\\xd4\\x03Fh\\xcd+\\x05\\xc6\\x98b#\\x06(\\xb1\\xe9\\xb0\\x7f\\x85B\\xd66o\\xcbZ[\\x93\\xeac_\\xf0\\xab\\x14\\x12\\x00\\xc98\\x03\\x92OAE\\x80\\xc3\\xd6\\xf5}\\x13@\\x8d\\x1fPx\\xa2\\x0c\\xdb@\\x8drA\\xc7p:}MG\\xe1\\xddcB\\xf1\\x1crO\\xa5\\xc9\\xbd\\xa3b\\x8c\\x8c\\xc5\\x1c\\x0e\\x0ev\\xe7\\xa7#\\x9a\\xe0>4\\xc4\\x93\\xe9\\x9av\\xaca\\x08\\xd2M\\xe4\\xc7\\xb96\\xc8\\xd1\\xed'-\\xc6y\\xec;\\x0c\\x1e\\xa6\\xb4>\\x11i\\xb6\\x93\\xe8\\x97s\\xc7\\x1aC}\\r\\xd9\\ts\\x18\\xc3\\xa8\\xd8\\xb8R\\x7f\\x89y?)\\xe3\\xf1\\xa1\\xb1\\xf4=$Z\\xc2:+\\x8f\\xfbh\\xdf\\xe3H\\xd6\\xa8\\x7f\\x8ee\\xfaN\\xe3\\xfa\\xd4VW2\\xbeb\\xbc\\x88Cp\\x18\\xa8\\x00\\x82\\xb2\\x8cgrs\\xd3\\xd8\\xf2*\\xe5\\x02*\\xfd\\x85\\x07K\\x8b\\xcf\\xfc\\x08o\\xf1\\xa7\\x8b`?\\xe5\\xbd\\xc9\\xfa\\xc8MM\\x9aZ,\\x04\\x1fg?\\xf3\\xf1r?\\xe0c\\xfc)\\r\\xb3v\\xbb\\xba\\x1f\\x8a\\x9f\\xfd\\x96\\xacQ@\\x15\\x05\\xa4\\x9c\\xff\\x00\\xa7^u\\xcf\\xfc\\xb3\\xe3\\xff\\x00\\x1c\\xa46\\x92\\xf6\\xd4/\\x07\\xe1\\x1f\\xff\\x00\\x11V\\xf3KE\\x80\\xa3\\xf69\\xff\\x00\\xe8'y\\xff\\x00|\\xc5\\xff\\x00\\xc4R\\xfd\\x8e\\x7f\\xfa\\t^\\x7f\\xdf1\\x7f\\xf1\\x15s4\\x99\\xa2\\xc0T\\xfb$\\xff\\x00\\xf4\\x11\\xba\\xff\\x00\\xbeb\\xff\\x00\\xe2)>\\xc7?\\x1f\\xf12\\xbc\\xff\\x00\\xbeb\\xff\\x00\\xe2*\\xe6h\\xa2\\xc0U\\xfb,\\xbd\\xef\\xee\\x8f\\xe1\\x1f\\xff\\x00\\x11O\\x16\\xce:\\xdd\\xdc\\xb7\\xd7g\\xff\\x00\\x13S\\xe6\\x82@\\xe7\\xa0\\x1d\\xe8\\xb0\\x11\\x08B\\xe1\\x9a\\xe2`\"\n",
      "b'\\xab\\xc9%\\x80\\xe3\\xf2\\xaf$\\xb0\\xd0<O$\\x161\\xc3el\\xdaD7\\x82\\xfa\"\\xb2,r\\xb9\\xdd\\x90I\\'\\x83\\x8e:t\\xafV\\xbac\\xf6yfl\\xed\\x8a6p\\xa7\\xb9\\x00\\x90O\\xe5Qh\\x11\\x98t\\x1d23\\xd5ma\\x07=s\\xb0g\\xf5\\xa1\\x829\\xbdb\\xebZ\\xfe\\xcc\\xbd\\xce\\x81x\\xeaa\\x90\\x125U8\\x1bNN;\\xd7\\x8f\\xfc4P|W\\xa6#\\xbe#\\x9aG\\x04\\x86+\\x80\\xd1\\xb0\\x03<s\\xcd}\\x15\\xa8\\x0c\\xe9\\xf7c\\xd6\\x17\\x1f\\xf8\\xe9\\xaf\\x93\\xbc1os>\\xbfioi\\x19w\\x96t\\x8c\\x10\\xd8*K\\x0c\\x11\\xef\\xdf\\x9aR\\x1c:\\x9f@x\\xf0\\xdeA\\xe0\\x9b\\x194\\xab\\xe3\\xa7\\xb4\\xb2[C%\\xd33\\x13\\x14l\\x00f\\x07p\\xc6:\\xfd28\\xac\\xcf\\x03\\xac\\x16\\xbe\\'\\xd4,l\\xbcWy\\xa8\\xa3\\xdb\\xc5,w\\x0f2\\xc9\\xbe@He\\xc3\\x02\\x0fPx\\xe7\\x1d\\xebOO\\xf0F\\x9f\\xa9iV\\xaf\\xab]j7\\x9b\\xa2\\x1b\\xa3{\\x82\\x10\\x1f@1\\xc0\\xc8\\xf5\\xad\\xdd\\'\\xc2\\xba&\\x91*Ma\\xa7\\xc7\\x1c\\xc9\\xf7d,\\xcc\\xcb\\xc68$\\xd3\\x042[O\\x10\\xda\\x19\\x7f\\xb3.\\xf4\\x99 8h\\xe1\\xb8\\xb7\\x92=\\xa79o\\x99X\\xe0u8\\x02\\xb5\\xd6\\xe2u\\n&\\xb4\\x901\\xc0&&W\\x19\\xc7\\'\\xa88\\xfc*|\\xd1\\x9a\\x05r\\x1f\\xb7[\\x80<\\xc9<\\xac\\x9cb@c\\xe7\\xf1\\x02\\xa7V\\x0e\\xbb\\x90\\x86S\\xc8*r?:L\\xf1\\x8e\\xdd\\xea\\x06\\xb6\\x81\\x9by\\x85\\x03c\\x1b\\x94`\\xe3\\xea)\\x88\\xb1\\x9a3U|\\x82\\xa71\\xcf2s\\x9c\\x16\\x0e>\\x9f0<})O\\xdaT\\xfc\\xaf\\x14\\x83\\xb8e*}\\xb9\\x04\\xff\\x00*\\x00\\xb1\\x9a3U|\\xe9\\x86\\x04\\x96\\xc7\\xa7&7\\x0c\\x01\\xfcpi\\x1a\\xfa\\x14\\xcf\\x9b\\xe6E\\xb7\\x92dF\\x03\\xf3\\xc6(\\x02\\xdei3P\\xc54R\\xff\\x00\\xaa\\x967\\xcf\\xf7\\x18\\x1f\\xebR\\x13\\x8e(\\x01\\xd9\\xa4\\xddM\\xcd\\x04\\xd0\\x02\\xe4\\xd1\\x9anh\\xcd\\x00.isM\\xcd\\x19\\xa0\\x07\\x02h\\xcd74f\\x9d\\x85qsFi3Fh\\x18\\xb9\\xa3q\\xa6\\xe6\\x8c'\n",
      "b'\\xd0+\\x8e\\xcd&i3I\\x9a\\x06<\\xbb\\x1e\\xacx\\xa4\\xdci\\xb9\\xa2\\x81\\\\\\\\\\xd2f\\x8aL\\xd0\\x03\\xb3\\xef@b\\x0eA\\xc1\\xf5\\x14\\xdc\\xd1\\x9a\\x00\\x97\\xce|cq\\xc7Jhb\\x07\\x06\\x99\\x9aL\\xd0\\x04\\xa2@\\xe7qW\\xd8:\\r\\xa7\\x93\\xebP\\x89\\x96k\\xa2\\xd8\\x7f.\\x1c\\x81\\xf2\\x9e_\\x1c\\x9e\\x9d\\x87\\x15-\\xcc\\xac\\x81R.f~\\x14v\\x03\\xb9>\\xc2\\xa4\\x865\\x8a%D\\xfb\\xaa1\\x9e\\xe7\\xd4\\x9a\\x960\\xf3W\\xfd\\xaf\\xfb\\xe4\\xff\\x00\\x85/\\x9a\\x9e\\xa7\\xf2?\\xe1N\\xcd\\x19\\xa2\\xc3C\\x0c\\xd1\\x8e\\xae\\x07\\xd6\\xbc\\xbf\\xe3\\x93\\xa4\\xdaf\\x9b\\xe50v\\x12?\\x0b\\xc9\\xe8+\\xd4\\xb2k\\xcb~9\\xea\\x11E\\xa7\\xd8\\xc3\\x14\\xf1\\x1b\\xc4vc\\x11?0R\\x06\\x0e=8\\xa6\\x80\\xad\\xf0\\xc6\\xe6-\\xda\\x86dL\\x86\\xb7|n\\x1f\\xf3\\xd4g\\xf9\\xd7\\xad\\t\\xa3\\xce\\x04\\x88O\\xa6\\xe1^/\\xf0\\xd1\"Y5\\x89\\xd1\\x02\\xc9%\\xacnH\\xff\\x00fE5\\xed,\\xab\\xb8\\xfc\\xa3\\xaf\\xa5J\\xdc}\\x05\\xdc\\xa7\\xf8\\x87\\xe6)w\\x0fZf\\xc5\\xfe\\xe8\\xfc\\x855\\xa2\\x8d\\xba\\xc6\\x87\\xf0\\x14\\xc4MI\\xcdF#\\x8ct@>\\x83\\x14\\x18\\xd0\\xf6\\xfc\\x89\\x1f\\xd6\\x80%\\xa2\\xa1\\x10\\xa0\\xe9\\xbc\\x7f\\xc0\\x8f\\xf8\\xd2\\xf9c\\xfb\\xce?\\xe0F\\x80$\\xcd-D\\x13\\xfd\\xb7\\xfc\\xe8(O\\xfc\\xb4q\\xf9\\x7f\\x85\\x00I\\x9aZ\\x87c\\xff\\x00\\xcfi?%\\xff\\x00\\npW\\xfe\\xf9\\xfc@\\xa0\\x07\\xe6\\x96\\xa1+\\'i\\x00\\xfa\\xaf\\xff\\x00^\\x80\\xb2\\xf7\\x91\\x0f\\xfc\\x04\\xff\\x00\\x8d\\x00JM\\x1cTg\\xcc\\xecS\\xf2?\\xe3I\\xfb\\xdfX\\xff\\x00#\\xfe4\\x01%\\x19\\xa6\\x12\\xff\\x00\\xec~d\\x7fJiiGD\\x8c\\xff\\x00\\xc0\\x88\\xfe\\x94\\x05\\xc9(\\xcd03\\xf7A\\xf87\\xff\\x00Z\\x82\\xcd\\xd93\\xf8\\x8ab\\x1fFj\\x1f2@\\x7f\\xd4?\\xd7r\\xff\\x00\\x8d(rz\\xc6\\xe3\\xf2\\xff\\x00\\x1a\\x00\\x945.\\xea\\x84\\xb9\\x1f\\xc0\\xff\\x00\\x80\\x1f\\xe3H$\\xff\\x00bA\\xf8\\x7f\\xf5\\xe8\\x02\\xc6s\\xd2\\x8c\\xd4\"P\\xbdVO\\xfb\\xe4\\xd2y\\xeb\\xdcH?\\xe0\\r\\xfe\\x14\\x01>j\\x95'\n",
      "b'\\xa5\\xd7\\xdb\\xe5\\x98E\\x1b\\x9bX\\x9bh\\x97\\x8d\\xb2\\xb7!\\x82\\xfa\\x85#\\x19\\xe8ON\\x95\\xc8\\xf8\\xf3P\\xb1{\\xfb-5uMb\\xdfS\\x9dv\\xc7m\\xa7d\\x17\\x04\\x81\\xb9\\xd4\\xe3\\x8e\\xbc\\xe7\\xd6\\xaci^\\t\\xb2\\xb5\\xb0\\x8e\\rKP\\xd4\\xaf\\xdd@\\x19k\\xa9cE\\x18\\x1f*\\xaa\\x91\\xc7\\xd6\\x93\\x1a\\xda\\xe7?\\xf1\\xd6\\xf2\\xdd\\xf4\\xdb\\x1d8L\\x82\\xf5e\\xf3\\x8cD\\x1c\\xec\\xdaFzz\\xd2|\\x10\\xd4\\xa2{mN\\xd4,\\xa5\\x9ea a\\x19(\\x06\\xdc\\x10[\\xa0<t=k3\\xe3\\x17\\x87tm+\\xc3\\xb0\\\\i\\xb6\\xa2+\\x97\\xb8\\x08\\xd2\\x17vb\\xbbX\\xe0\\x96\\'\\x8e\\x05j|\\x11\\x9a(\\xec\\xb5\\x94\\xde\\x8a\\x0c\\xb10\\xe7\\x19\\xf9\\x08\\xfe\\x95/tR\\xd8\\xf4\\xdb\\x9bx\\xaeQVd\\x0e\\x15\\x83\\xa9\\xee\\x8c:2\\x9e\\xc7\\xdcP\\xaeU\\x82\\xcb\\xd4\\xfd\\xd6\\x1c\\x06\\xf6\\xf6>\\xdf\\x95*\\xcd\\x1bt\\x91\\x0f\\xe2(v\\x8d\\x94\\xab\\xb2\\x15#\\x90H\\xaaD\\x12f\\x8a\\x80J\\xa8p\\xce\\x19OC\\x91\\x91\\xec\\x7f\\xc6\\xa5\\xdc=E0\\x1d\\x9a)\\xbb\\x87\\xad-\\x03\\xb8\\xb9\\xa34\\x9c\\xd2s@\\\\\\\\\\xd1\\x9aJ(\\x01sFi*\\x81\\xd4m\\xa6\\xba\\xba\\xb4\\x86o\\xdf\\xdbm\\xf3\\x80\\xcf\\xc9\\xb8d\\x0c\\xfe_L\\xd0#C5\\x18\\xfd\\xe1\\x0c~\\xe7P=}\\xe92d\\x00\\x91\\x85\\xf4\\xf5\\xff\\x00\\xebS\\xf3@\\x14|C!\\x8f@\\xd4\\x99N\\x18[I\\x82}v\\x90?SWb\\x8f\\xc9\\x8a8\\xbf\\xe7\\x9a\\x04\\xfc\\x80\\x1f\\xd2\\xb2\\xfcH<\\xeb(-;\\xdd\\xddC\\t\\x1f\\xec\\xee\\x0e\\xdf\\xf8\\xea5k\\x16\\xc9$\\xf5<\\xd0\\x04Wc6\\xb3\\x8fX\\xd8~\\x86\\xbeh\\xf04F\\xd3\\xc5\\x1al\\x92c\\x06\\xee\\x16R\\x0ex\\xdc\\xbdk\\xe9\\x89\\x06\\xe8\\xd9\\x7f\\xbc\\xa4~\\x98\\xaf\\x96\\xfc+\\xbe/\\x10F\\xee\\xc5\\x84wh\\xa0\\x12H\\x18#\\xa5L\\xb6*\\x1dO\\xa74\\xbe,Q?\\xba\\xee\\xbf\\x94\\x8c?\\xa5\\\\\\xaaz{\\r\\x93\\xa8\\xfe\\x0b\\x99\\x97\\xff\\x00\"\\x13\\xfdj\\xd5Q#\\xa9\\xb9\\xa4\\xcd\\x19\\xa0\\x05\\xa0\\xd3sE\\x00.i(\\xcd&i\\xd8\\x05\\xa3'\n",
      "b'8\\xe9I\\x9aL\\xd0\\x04s[\\xc11\\x06Xbr9\\x05\\xd4\\x12>\\x87\\x14\\xc1i\\x1a\\xe7\\xcbic\\xc9\\xc9\\t#c\\xf2\\xce*|\\xd1E\\x80\\xaf\\xe5\\\\ \\x1b.\\x8bs\\x92$\\x8c\\x1e=26\\xd2\\xb3])\\x1f\\xbb\\x85\\xd7\\xbe\\x1c\\xa9\\xfc\\x06\\x0ejl\\xd1\\x9a\\x04W\\x17.\\x06d\\xb5\\xb8C\\xe86\\xb8\\xc7\\xe0i\\x06\\xa1m\\xc0y|\\xb2\\xc7\\x00J\\xa63\\xf90\\x15f\\x8c\\xf1\\x8c\\xf1@\\\\lr$\\xbf\\xea\\x9d\\x1f\\xdd\\x084\\xf3\\xc5V\\x96\\xd2\\xdab\\x0c\\xb6\\xf0\\xb9\\x1d\\x0b $}\\x0e)\\x82\\xc6%9\\x89\\xae#\\xeb\\xc2N\\xd8\\xfc\\x89#\\xf4\\xa0\\x0bt\\xb5K\\xec\\xf7*?u}!\\xff\\x00\\xae\\xb1\\xab\\x8f\\xd0/\\xf3\\xa5&\\xf9G\\x1fe\\x94\\x8f]\\xd1\\xff\\x00\\xf1T\\x01o4f\\xa9\\xfd\\xa2\\xe5N\\x1e\\xc5\\xc8\\xeec\\x99X~D\\xaf\\xf2\\xa0\\xdf\"\\x91\\xe6At\\x99\\xfe\\xf4\\x0cG\\xe6\\xa0\\xd0\\x05\\xcc\\xd1T\\xd7R\\xb2g\\xd8.\\xa2\\x0f\\xdc3m?\\x91\\xc5YFY\\x06c`\\xe3\\xd5H\"\\x80\\x1d\\x9a)\\x0e{\\xd5]N\\xf6=;O\\xb8\\xbc\\x98;G\\x02\\x17`\\x98$\\x81\\xe9\\xcd\\x00[\\xa2\\xb1|5\\xe2+_\\x10\\xc3<\\x96q\\xcc\\x82\\x17\\n\\xc2@\\x01\\xc9\\x1cc\\x04\\xfaV\\xc5\\x00\\xc7Rf\\x934\\x99\\xa0\\x07\\xd2f\\x9b\\x9a(\\x01h\\xa4\\xc8\\xa4\\xcd\\x00y\\xdc_\\x13t\\x94\\x85g\\xf3\\xb5\\x17\\xb8\\x94\\xe2E6\\xc9\\xfb\\xa5\\xcf\\x00\\x1c\\x80G\\xd0\\xf3L\\xbd\\xf8\\x9b:\\xc6\\x1fN\\xb1\\xba\\x9c\\x16\\x00\\xb4\\xd6\\xe1\\x17\\x1e\\xc5X\\xf3[\\xfa\\xfd\\xb6\\x8f\\xe1\\xdf\\x0cC,v\\xf0\\xa4\\x16\\x0f\\x13\\x06hAr\\x01\\x00\\x92p2ps\\xcfZ\\xbb\\xe3\\x1dZ\\x0b\\x7f\\x0c\\x9b\\xc8d\\x0f\\x1aK\\x0b\\xa8V\\xc0\\xc7\\x98\\xbc\\xfeG5\\x1a\\x97\\xa1\\xce[x\\xbb\\xc6\\x97\\x07t^\\x16\\xdc\\x87\\x90]]I\\x1d\\xbd*\\xc9\\xd4~\"\\xdd\\x1f\\xf4}\\'L\\xb4C\\xd0\\xca\\xc0\\x91\\xff\\x00\\x8f\\x9f\\xe5]\\xef\\x9d\\x1bs\\xe6G\\xcf?x\\x7f\\x8d(u=\\x18\\x1f\\xa1\\x14\\xf5\\xb6\\xe2\\xba\\xecy\\xff\\x00\\xf6g\\xc4[\\x95\\xcc\\xba\\xe6\\x9dk\\x9e\\xd1\\xa0\\'\\xf3\\x08'\n",
      "b\"\\x7f\\x9dy\\xcf\\xc4/\\x0f\\xeb\\xbae\\xe7\\xdbu\\xfb\\x83~\\xd3\\xa6\\xc5\\xb9RJ\\x82\\x01;y\\x03\\x07\\x1e\\x83\\x15\\xf4Fk\\xcf\\xfe4\\xb2G\\xe1\\xbbY%B\\xe8\\xb7\\x1c\\x81\\xd4\\xfc\\xa6\\x8by\\x8e\\xe7#\\xe0\\x07\\x9e'\\xbcH-\\xc4\\x8e\\xfa{\\xeeF\\x90&\\xd1\\x80s\\x9c\\x1c\\x9fj\\xf5\\xb8\\xef\\xb5&Ec\\xa4d\\x10\\x0eV\\xed\\x0fl\\xfa\\n\\xf2\\xef\\x87*__(\\xc7\\xfdu\\x93\\x81\\xf4d\\x04~\\x95\\xeb\\xba{\\xef\\xb0\\xb5oX\\x90\\xff\\x00\\xe3\\xa2\\x92\\x02\\xba\\xde\\xdfg\\xe6\\xd2e\\x1e\\xe2\\xe2#\\xff\\x00\\xb3T\\xc9u;\\x1c5\\x85\\xc2\\x0fR\\xf1\\x9f\\xfd\\x9a\\xac\\xe6\\x8c\\xd3\\x11\\t\\x9d\\xc0\\xff\\x00\\x8fi\\x8f\\xb0\\xdb\\xff\\x00\\xc5TM|\\xeb\\xd6\\xc2\\xf4\\xfd\\x15O\\xfe\\xcdW(\\xa0\\n'Q#\\xfea\\xf7\\xff\\x00\\x84C\\xff\\x00\\x8a\\xa4:\\xa1\\x19\\xff\\x00\\x89v\\xa5\\xff\\x00~\\x01\\xff\\x00\\xd9\\xaa\\xfd\\x14\\x05\\xcc\\xe3\\xab`\\xff\\x00\\xc87U?K`\\x7f\\xad/\\xf6\\xb0\\xff\\x00\\xa0v\\xa9\\xff\\x00\\x80\\xc7\\xfckB\\x8a@Q\\x1a\\x9e\\x7f\\xe6\\x1f\\xa9\\x0f\\xad\\xbe?\\xadH\\xb7\\xdb\\xbf\\xe5\\xce\\xf5\\x7f\\xde\\x84\\x0f\\xebV\\xb3Fi\\x85\\xca\\xe6\"\n",
      "b'\\xec\\x81\\xff\\x00\\x1e\\xb7G\\xfe\\x00?\\xc6\\xa3k\\xe7\\x1fv\\xc6\\xf5\\xbe\\x8a\\xa3\\xff\\x00f\\xab\\x99\\xa2\\x803\\xdbQ\\xb8\\xfe\\x1d*\\xf9\\xbf\\x18\\x87\\xfe\\xcfI\\xf6\\xfb\\xb3\\xd3G\\xba\\xfcf\\x84\\x7f\\xec\\xf5\\xa3E\\x00f\\xfd\\xba\\xf8\\x91\\x8d\\x1e\\xe3\\xf1\\xb8\\x84\\x7f\\xec\\xd5$wW\\xacp\\xdak\\xa0\\xf5k\\x88\\xcf\\xf2&\\xafSh\\x02\\x13%\\xc68\\xb7L\\xf7\\x06_\\xfe\\xb5G$\\xb7\\xbc\\xf9v\\xd6\\xfe\\xdb\\xae\\x08\\xff\\x00\\xd9*\\xd1\\xa4\\xe2\\x8b\\x08\\xcei5\\x9c\\xfc\\xb6\\xfah\\x1e\\xadq!\\xff\\x00\\xd9)\\xcaus\\x8d\\xdf\\xd9\\x8b\\xea\\x07\\x98\\x7f\\xc2\\xaf\\xd1\\x9a`@\\x8bw\\xb7\\xf7\\x92[\\x86\\xff\\x00b6#\\xff\\x00B\\xa8\\x9e\\x1b\\xf6\\xfb\\x97\\xd1\\'\\xb8\\xb5\\xcf\\xfe\\xcfW3I\\x9a\\x00\\xa1\\x1d\\xa5\\xfe\\xec\\xcb\\xabH\\xc3\\xd1-\\xa3_\\xd7\\x06\\x8b\\xab\\t\\xee \\x92?\\xed;\\xd8\\xb7)]\\xd1\\x08\\xc1\\x1cc \\xec\\xab\\xf9\\xa2\\x809\\xcd\\x13\\xc3o\\xa1\\xc2\\x86\\xca\\xf2;\\x9b\\xc3\\x9f6\\xe6\\xf6\\x00\\xf2\\xca8\\xf9w\\x82\\x19W\\xe5\\x1cr+a\\xef.\\xe2\\x97l\\x9a|\\x8f\\x17\\x1f\\xbc\\x82Eo\\xcdN\\xd3\\xf9f\\xad\\xd1E\\x87s\\xce>4\\xcd\\x1d\\xef\\x86\\xed\\xedQ\\x9d\\'\\xfb@m\\x92F\\xcb\\xc6\\xd6\\xc9\\xe9\\xcfQ\\xd35W\\xe0t\\x87:\\xccy\\xe8\\x901\\xfc\\x9cU\\xdf\\x8ej_\\xc1\\x91\\xafo\\xb5.G\\xfc\\x05\\xeb\\x1b\\xe0\\xbc)5\\xc5\\xf8b\\xe36\\x90\\xb01\\xbb!\\x07$pA\\x1e\\xb5\\x0ft5\\xf0\\xb3\\xd83F\\x07\\xa05\\x99\\xf6+\\xb8\\xc8\\xfb6\\xabp\\x00\\xfe\\x1b\\x88\\xd2a\\xf4\\xce\\x15\\xbf\\xf1\\xea\\x9a6\\xbfA\\x89\\xa3\\xb6\\x9b\\x1d\\x0cl\\xd1\\x93\\xff\\x00\\x01 \\xff\\x00\\xe8UW$\\xb9\\xb5\\x7f\\xba?!Q\\x94\\x11\\xff\\x00\\x08)\\xe9\\x8c\\x95\\xff\\x00\\xebTF\\xec&<\\xe8.\\x13\\x8c\\x92\\x10\\xc8\\x07\\xb6W5\\x1cZ\\xb6\\x9d,\\x9eZ_[y\\x9d63\\x85l\\xff\\x00\\xbap\\x7fJ`[\\xf2\\xe3a\\x9d\\x88A\\xe9\\xc0\\xa4\\xf2!\\x1d\"\\x8c}\\x14PT\\xa7\\xce\\x8b\\x95<\\x90?\\x98\\xa7+\\x06\\\\\\xa9\\xc8=\\xe8\\x01<\\x98\\xc7DA\\xf8R\\xec_\\xee'\n",
      "b'\\xd2\\xe6\\x8c\\xd0\\x03\\x0cH\\x7f\\x87\\xf5?\\xe3I\\xe4\\xc7\\x9c\\xe0\\xe7\\xfd\\xe3\\xfe5%\\x14\\x00\\xc5\\x857\\x01\\xf3\\xf2q\\xf7\\x8f\\xf8\\xd7\\x9djVRK.\\x85\\x7f\\x05\\xf5\\xfd\\x90\\xd5\\xee\\x05\\xbd\\xc8\\xb6`7\\x872\\xc8\\xad\\x92\\x0e\\x08$/\\xb8\\xafBiP\\x00\\xf2\\xb8Ku#,\\xc4\\x00\\xdc\\xf4\\xcf\\xa7\\xf3\\xaf\\x18\\xf1=\\xf5\\xd5\\x9f\\x87\\xed\\xd6\\xe9\\xb0\\xd0\\xdc\\x9bx\\xdd$lF\\xb1\\xc6\\x8b\\x8d\\xbd\\x03s\\xbb w\\xa1\\x8d\\x1e\\x81\\xe0\\x18\\xee%\\xd0\\xacg\\x9a\\xe2\\xfd\\x9d\\xa3ap.gf\\xdf&\\xe22\\xa0\\xf4\\x1cv8\\xed\\xeb]W\\x97\\xfe\\xdc\\x9f\\xf7\\xd1\\xaf\\x1a\\xf8K\\xe2;\\x88u\\x0b\\xad!H6\\x8c\\xa6t2\\xab\\x10\\x8c\\x00\\xdd\\x82:\\x0c\\x0c\\xfdk\\xd5\\xad\\xf5\\x17\\xb8\\x85\\x9e\\xd9mn]\\x7f\\x86\\x0b\\xa0O^s\\x901\\xc7<\\xd2N\\xe1\")#7\\x1e$\\x81w\\xc8b\\xb2\\xb7iO\\xcd\\xff\\x00-$;\\x17\\xf2U\\x7f\\xfb\\xea\\xb56\\xff\\x00\\xb4\\xdf\\x9dfh\\xf2\\x17\\x82k\\xd6\\x86M\\xd7r\\x19F\\x00\\'\\xcb\\xc0X\\xc63\\xfd\\xd0\\x0f\\xd4\\xd6\\x82\\xca\\x0ff\\\\\\xf6e#\\xfaS\\x10\\xef,\\xb1\\x00I \\xc9\\x1d\\x08\\xff\\x00\\n\\xf9}#x\\'\\x98\\xc7(IM\\xf0u \\x03\\xf2\\xf4$\\xfb\\xf1\\xd2\\xbe\\x9dk\\xa8a\\r$\\xb2\\xa2$`\\xbb\\x93\\xc0P\\x06I?\\x80\\xaf\\x97\\xa0d\\x95\\xb5Y\\xd6O0-\\xd81\\x90s\\xf22\\xc8x\\xf6\\xc8\\x152\\xd8\\xa8n}-\\xa7\\xac\\xe8o\\xc7\\x9b\\x1b\\xb1\\xbav\\xc9B\\x06J\\xabg\\x83\\xefW\\x03K\\xc6\\xe4\\x8c\\xfa\\x95c\\xfc\\xb1T\\xb4\\xc6&\\xe2\\xfb=\\xde&\\x1f\\x8c)\\xfdE_\\xcdR%\\xb1\\xbb\\xdb\\x9d\\xd1\\xbf\\x1e\\x989\\xfdi|\\xc1\\xc6C\\x8c\\xf6*\\x7f\\xc2\\x9d\\x9aL\\xd3\\x01\\xa2h\\xc9\\xc0t\\xc8\\xeb\\x93\\x8ap \\x8c\\x83\\x91\\xea9\\xa0\\xf3\\xee)\\x864=Q?!@\\x91&i3QyI\\xbbp\\xc8>\\xccG\\xe9\\x9a6\\x1c\\xe4I\\'\\xd39\\x1f\\xca\\x80$\\xcd\\x15\\x19W\\xc7\\x12s\\xee\\xa0\\xff\\x00\\x85\\x07\\xcc\\xe3\\x05\\x0f\\xaeA\\x1f\\xd6\\x80$\\xa4\\xa6n~~P}0\\xdf'\n",
      "b'\\xfdjO0\\x81\\x96\\x8d\\xc7\\xb0\\xc1\\xfe\\xb4\\x01%\\x15\\x1f\\x980\\t\\x0e>\\xaa\\x7f\\xc2\\x93\\xce\\x8fv\\xdd\\xe07\\xa1\\xe2\\x80%\\xa2\\x98\\xac\\x1b\\xee\\xb0?C\\x9a}\\x00\\x14f\\x9b\\x9a3@\\x0b\\x9a3I\\x9a(\\x01sI\\x9aBh\\xa0\\x05c\\xb8a\\xbea\\xe8y\\x15Y\\xecm\\x1d\\xf7\\xbd\\xad\\xb9\\x7f\\xefy`\\x1f\\xcf\\x15b\\x934\\x01YlaC\\x98\\x9a\\xe23\\xcf\\xdc\\x9d\\xf1\\xf9f\\xb2|[o\"\\xf8kUe\\xba\\xb8e\\x16\\xcf\\x94}\\xa4\\x1e3\\xd7n\\x7fZ\\xdf\\xcde\\xf8\\xa0g\\xc3z\\xa0\\xff\\x00\\xa7i?\\xf4\\x13M\\x01\\xc3|\\x1e{\\x93m\\xac,/\\x06VX\\xf8\\x91I\\x07\\xe5=\\xc1\\xe3\\xf5\\xafE\\x0fv\\x07\\xcf\\x15\\xbb\\x1fT\\x90\\x8f\\xd0\\xaf\\xf5\\xaf8\\xf8-(2kq\\xe3\\x05Z#\\x9f^\\x0f?\\xadz~jP\\xe5\\xb9]g\\x9b\\'}\\xa4\\xa0\\x0e\\x85YN\\x7f\\x0c\\xff\\x00J\\x05\\xdac/\\x1d\\xc2{4M\\xfd\\x01\\xa9\\xf3KLE\\x7f\\xb7[o\\xd8g\\x8d[\\xd1\\xce\\x0f\\xe4jD\\x9a)\\x0e#\\x967>\\x8a\\xc0\\xff\\x00Z\\xc1\\xf1\\x17\\x89\\xe2\\xd15\\x1b;I\\xa1y\\x05\\xc2\\x96,\\xac\\x06\\xc1\\x90\\x06G\\xb94\\xcb\\x16\\x82\\xe7\\xc6\\x1a\\xac&8_\\xca\\x82 APH=q\\x8f^z\\xfd(\\xe6W\\xb0\\x1d/>\\x94\\x99\\xaa\\xcdgn@\\xfd\\xde\\xdct\\xd8\\xc5\\x7f\\x91\\x14\\xef\\xb3\\x83\\xd2I\\xc7\\xb0\\x99\\xbf\\xc6\\x98\\x19\\xba\\xd40j\\xde\\x1e\\xbc\\xb5k\\x9b\\x99\\xed\\xe7\\x84\\xa9\\xf2\\xb0\\xc5\\xc621\\x85\\xe7\\x9fJ\\xc2\\xb8/\\xab\\xfc3{{k[\\xeb\\x866b%\\x82\\xe1\\x02\\xb1u\\x03\\x9c\\x91\\xcf#9\\x1c\\x9a\\xec\\xe3k5@\\x89\\x12\"\\x81\\x80\\x04\\x04\\x00=\\x86)\\xe1m\\xb1\\x80\\xa1G\\xfb \\x8a\\x81\\xad\\x0c\\xfd2y\\xa4\\xd3\\xad\\xdao*'\n",
      "b'\\xd9\\xc4`4\\x0c\\xaa\\xdeY\\xc61\\x90\\xdc\\xd5\\xd0\\x1c\\xa6S\\xec\\xec\\xc7\\xa10\\x1c~\\x86\\x90}\\x9c4\\x88gp20\\x0c\\x87\\x81\\x8e\\xd95\\x1cQY\\xa9\\x91D\\xc9\\xcbn\\xe4\\xa9\\xec9\\xe9B\\xd1X\\x0c\\xfb\\x86\\xd7c\\xb8M\\x96\\xda,\\xd0\\xb1!\\x8b4\\x91\\x901\\xd7\\xa1\\xfaq\\x9a\\xe3\\xbe$\\xbe\\xa3q\\xe1,\\xeav6v\\xa4\\\\\\x85Q\\x04\\xe6B\\xc3i\\xe7\\x18\\xe8\\x7f\\xc8\\xafB)n:\\xdeG\\xff\\x00}(\\xfeDW\\x1d\\xf1i\\xa2O\\t6\\xeb\\xa8\\xdc\\x89Q\\x957\\xe4\\x91\\xc8$\\r\\xc7\"\\x84\\xb5\\x1d\\xces\\xe1\\xf8)\\xe2M \\x04\\xdcd\\xb6A\\x80\\xe4g1\\x03\\xd7\\xf0\\xafQ\\xd2<\\xd6\\xd2\\xad?w\\'\\x11\\x85\\xca\\xcb\\x8e\\x9cz\\xfbW\\x90x*I\\'\\xd5tS\\x8d\\x84\\xc6\\xa8\\x87\\xd5B\\x90\\xa7\\xa7p+\\xd64\\xa8\\xee~\\xc6QR2#\\x96X\\xf2I\\x04\\xe2F\\x19\\xc7\\x14\\x97@f\\x92,\\xa3\\xaa\\xdc\\x0f\\xac\\x8a\\x7f\\xad<\\x97\\x1f\\xf3\\xdb\\xf0\\nj\\xb2\\xfd\\xb7i\\x02$\\xc8b8b8\\xed\\xfcT\\xf2\\xd7(3\\xe5H\\xc7\\xd08\\xff\\x00\\n`;\\xceu8+t\\x7f\\xed\\x9a\\x91K\\xe7Hz\\x19W\\xfd\\xebrj5\\xb8\\x9d\\x81-\\x05\\xc2\\x11\\xdb\\x00\\xff\\x00J\\xe0<K6\\xbe\\xfa\\xfd\\xd2Z^\\xbd\\xa5\\x9b2\\xe0\\xbd\\xc0S\\x18\\xda2Bc\\'$v\\xa0\\x0fD\\x13\\x91\\xd5\\x9c\\xff\\x00\\xdb\\xbb\\xd3M\\xd1\\xec\\xc9\\xff\\x00\\x02\\x86A\\xfd+\\xce5;\\xeb\\xab\\x8f\\x1a\\xe8\\xb6\\xf2\\xdf\\xbaii\\x12\\xa0\\x7f1\\x83L\\xe3\\x92\\xcc\\xa3\\xaex\\x1d}\\xcdz\"\\xeaP\\x96 \\xcb\\x18?F\\x1f\\xd2\\x95\\xc0S\\xa8D\\xbf\\xeb%\\x84\\x7f\\xdfC\\xfaS\\x06\\xadm\\x9cy\\xf6\\xdf\\x8c\\xd8\\xfe\\x95\\'\\xf6\\x8c \\xe3\\xcf\\xb7\\xe7\\xa7\\xef\\xc0?\\x95K\\xf6\\xb4\\xc7\\xdfC\\xec$_\\xf1\\xa7a\\x11\\x8dB\\x022\\xb2\\xdb\\xb7\\xd2u\\xa0_FO>_\\xe1<g\\xff\\x00f\\xa9|\\xd0\\xed\\xb7c>A9\\x18#\\x1c{\\xfb\\xd2l\\x89\\x8f\\xcdm\\xf8\\xb4c\\xfc(\\x01V\\xea\"8#>\\x81\\xd4\\xff\\x00Z\\x16\\xe9I\\xc0I~\\xbbr?'\n",
      "b'\\x9dF\\xf1\\xda\\x8e\\x1a\\x08\\xff\\x00\\x18\\x7f\\xfa\\xd4\\xdf\\xb3\\xd9\\x1e~\\xcfo\\xf8\\xc6\\x07\\xf4\\xa0\\x0b^h\\xc6J\\xc9\\xff\\x00|\\x1f\\xf0\\xa4\\x12\\xa98\\x01\\xff\\x00\\x14a\\xfd*\\xbf\\x93fx\\x11C\\xf4\\xc0\\xa6\\x9bK#\\xff\\x00,\\xe2\\xe7\\xd0\\xe3\\xfa\\xd3\\x02\\xc3O\\x12}\\xe7\\xdb\\xf5\\x04\\x7fJE\\xb8\\x85\\x8f\\xcb*\\x13\\xfe\\xf0\\xa8V\\xc6\\xddyD#\\xe8\\xed\\xfe4\\xf6\\xb4\\x88\\xff\\x00\\xcfA\\xf4\\x91\\x87\\xf5\\xa0\\t\\x0c\\xb1\\x8e\\xb2G\\xff\\x00}\\x0f\\xf1\\xa5\\x0e\\xad\\xf7X\\x1f\\xa1\\x06\\xa9\\xbe\\x9b\\x03\\x1c\\xee\\xb8\\x1f\\xf6\\xd9\\xbf\\xc6\\x95,bN\\x8f/\\xe2\\xd9\\xfe\\x94\\x01s\\x9a^j\\x9b\\xd9F\\xfdZ@}r?\\xc2\\x98\\xdax?v\\xe2\\xe1>\\x85\\x7f\\xc2\\x98\\x17\\xe9\\rf\\x8d4\\x82\\x0f\\xdb.N=\\xc0\\xfe\\x952Z\\xba\\x1e.f?S\\x9a@\\\\\\xcd\\x04\\xd5\\tm\\'o\\xb9\\x7f2\\x1f`\\r5-/\\x17\\xfebR7\\xfb\\xd0\\xa9\\xa0\\r\\n\\rRh.\\xcfK\\xf2?\\xed\\x82\\x9aU\\x8a\\xf9\\x7f\\xe5\\xf2\\'\\xff\\x00z\\x0c\\x7f&\\xa0\\x0eG\\xe3$&\\xe3\\xc2\\n\\x81\\x82\\x93r\\x9c\\x9e@\\xe1\\x875\\x81\\xf0a\\x82jw\\xb0\\xa9\\xdd\\xb6\\xcd\\x06{\\x1c0\\x07\\xf5\\xado\\x8c1\\xde\\x1f\\x04\\xcf\\xe7Kn\\xd1\\x89\\xa3\\xc8H\\xd8\\x1e\\xfd\\xf7\\x1a\\xe0<\\x0f\\xe2\\x88<5\\xe2\"\\xb7\\xa8\\x12)m\\x92&|3\\x04\\x04+\\x86 \\x0c\\x9fL\\n\\x99n\\x8a\\x8a\\xd0\\xfa\\x0b4\\xbb\\xab\\xce.~)iH?q:L{\\x05\\xb6\\x94\\x13\\xf4\\xc9\\x15\\xc9\\xde\\xfc`\\xd5~\\xd9\\x0bC\\xa7\\xdbA\\x02\\xb6\\x1d\\x1d\\xb3\\xe6\\x0c\\xe7\\xef\\x11\\xf2\\xfe\\x15WD\\xa4\\xcfs\\r\\xebM\\x9e8\\xaeSe\\xc4q\\xcc\\x9f\\xdd\\x91C\\x0f\\xc8\\x8a\\xf1\\xcdw\\xe2\\x86\\xb7\\x00I-\\xf4\\xb8\\xac\\xa1d\\x04\\xf9\\xe0\\xc8z\\xf0\\xdd\\x07\\x18\\xe2\\xb4\\xf4\\x0f\\x1c\\xf8\\xa3[\\xb2\\x13i\\x9a\\x1d\\x95\\xea\\x82\\x03K\\x14\\x98\\x03\\xd3+\\xbb\\x83\\xc7zWC\\xb3=\\x10\\xe8\\xf6\\x00\\x93\\x0c\\x1fgo[wh\\xbfE#\\xf9R5\\x8c\\xf1\\xeek]B\\xe49\\xc7\\x12\\xed\\x90\\x1f\\xccg>\\xf9\\xae\\x19u?\\x88\\x17:'\n",
      "b'\\x8c\\xb6\\xf1Y\\xe9\\xf6\\xcc\\xb1\\x87(\\xdb\\n\\xa09\\xc1\\xce\\xf3\\x93\\xc1\\xa8`O\\x887\\xb7W+\\xf6\\xf8`\\xf2\\xdc#\\x951\\x85\\x07\\x1f\\xc3\\xf2\\x9c\\xf5\\xf5\\xa2\\xe85=\\x066\\xd4\\x08\\xf9$\\xb5\\x9b\\x1c\\x10\\xe8\\xd1\\xb0>\\x87\\x05\\xbf\\x95@\\xba\\xca\\x9bi\\xee\\x168\\xa7\\xb7\\x81\\x0b\\xcb%\\xb5\\xcaH\\x10\\x00I\\xc8\\xe0\\x8e\\x86\\xbc\\xfe\\xf3\\xc3\\xbe7\\xb8\\x98y\\xda\\xed\\xd1_\\xbaL-\\x82Gq\\x80V\\xb8;o\\x0ckP\\xa5\\xfaG\\r\\xf4\\x0e\"2,\\xad\\'\\x97\\x1c\\xaa\\x1c!\\xcf\\xf7\\xb98\\xc6h\\xb8\\xeds\\xddm<S\\xa6]\\xd9\\xb5\\xd4\\x12J\\xd6\\xeb\\x90\\\\FH\\x07\\x19\\xc6Fy\\xc7j\\xe1\\xf5?\\x89\\xb6&\\xfc\\x83&\\xeb\\x06`\\xab\\x121\\x0eW\\'.\\xfe\\xc7\\xb2\\x028\\xeay\\xacO\\x04|;\\x82\\xe7N\\x96o\\x12\\xda\\xdf\\tVf\\x8da\\x8c\\x85\\n\\x00\\x19\\xdc\\x08\\'9\\'\\xa5E\\xe2\\xbf\\x03\\xdbi:\\xa5\\xa6\\xa3cm{q\\xa3\\t\\x11f\\xb2C\\x89\\x14`\\x96c\\'8^:\\x9c\\x01\\xd38\\xa4\\xdb\\xb5\\xc2\\xca\\xe7Wy\\xf1\\x1f\\xc2\\xdaV\\xa3\\xe5\\xa4W\\x17r\\x02\\x14\\\\\\xc1\\x1a2m\\xc0\\xe5NF9\\xe3\\x18\\x06\\xbc\\xff\\x00\\xc7\\xde*\\xb0\\xd7$\\x9b\\xfb<]%\\xbc\\xb2\\xf9\\xdb$\\x8f\\x18}\\x8a\\xacG<gnx\\xa4\\xf1\\xce\\x8e\\x96z\\xe5\\xf5\\xbf\\xf6,\\xc2\\xd9\\xe2\\x0fb#\\x9c\\xab\\xa1,\\xa8\\x06\\x06\\xe0\\xdf3co\\'\\x189\\xac8 K{\\x08\\xe3\\x99C\\xde\\x03\\x89\\x0e\\x179\\xc9$c<Qp\\xb1\\xa7\\xe0\\x8dn\\xdbO\\xd5b\\xb9:m\\xcd\\xcc\\xc1\\x1d@\\xb7}\\xb2\\x02F\\x01R2A\\xae\\xc3[\\xf1\\xa6\\xb3x\\xb7\\x96\\x91xo\\xca\\xb9\\x96\\x06h\\xe5\\xb9F\\xf3\\xe1\\x8fo\\xcf!\\xf9F@\\xcfQ\\xdf\\xd6\\xb9\\x9f\\x87\\xba\\x85\\xae\\x95uo>\\xa2\\xbbm\"\\x95\\xfc\\xc2T\\x11\\x82\\xa7\\x8c\\x13\\xc9\\xe7\\xa5z\\xae\\x9d\\xa7\\xd9Hn.\\xee\\xf4\\xe9\\xa1\\xb9\\xba8\\x11E\\xb7\\x10\\xc7\\xfc*>lg\\xf8\\x89\\x03\\xa9\\xf4\\x02\\x85pg\\x96\\xe9\\x9e/\\xf1-\\xce\\x91uoe\\x7f#\\xa5\\xbe\\xd2v(\\x12\\xa8\\xc9\\x18\\\\\\x9c'\n",
      "b'\\x91\\xf4\\xe8\\x07j\\xeb<\\x19u\\xe3\\x7f\\x11\\xe8\\x8dso\\xaa\\x08 \\xf36\\xac\\x97q\\x00\\xee09S\\xb0\\xe5y\\xebZ\\xb6z.\\x9b\\xa7\\xf8\\x8aP|?x\\xf6Wj\\x04w\\x18\\x91\\x9f\\xcc\\xc1,\\xac\\x15\\xb1\\x83\\xc9\\x04\\xe0\\x0eG\\xa5^\\xd2m\\x05\\xb5\\xc5\\xd5\\x84\\xf6\\x97\\x89o\\x1eZ\\xcd\\xa2I2\\xb0\\xe7\\x1b\\x0b/B\\xbd0y\\xc6=\\r=CC7P\\xf0\\x8f\\x8a5\\x0bI\"\\xbf\\xf1,\\xb2\\xab!\\x1eBn\\n\\xe7\\x1c\\x02A\\\\\\x02x\\xe4W\\x92Z\\xc2\\xf6\\x96Z\\x9c\\x13\\xc6\\x89\\'\\x9b\\x18\\\\\\x1c\\xf2\\x82Up\\x0f\\xfc\\x08W\\xbf\\x98\\xed-\\xed\\xcb\\xb6\\xa9\\xacX\\xc6\\xb8\\xcb\\xcb#m_NdB?:\\xf0\\xab\\xe8\\xe2MG]y\\xef\\x0b\\xaa\\xcc\\r\\xae\\xf210.\\xfb\\xd8~\\x1bO\\x03\\xbd)\\x04O\\xa0t`\\x92*\\xbe1\\xbe\\xd6\\xd9\\xf8$rT\\x8f\\xe9Z\\x9by\\xc8g\\x1e\\xd9\\xc8\\xae\\x17\\xc2z\\x91\\xbc\\x82\\x01\\xa7k6\\x12\\x94\\xb2\\x89d\\x06\\x12Dl\\xb9\\xf9\\x0e\\x1cr7u\\xc75\\xd0\\xad\\xd6\\xa2\\x9f~\\xebE\\x90\\x7f\\xbc\\xf1\\x9f\\xe6j\\x91/sd\\xabc\\x87\\xe7\\xdc\\x03I\\xfb\\xccpP\\x9e\\xf9\\x04\\x7fZ\\xc8MN\\xfb\\xbd\\xb6\\x9d7\\xa9\\x8a\\xfb\\xfa\\x14\\xa9\\x13S\\xb8\\xdcD\\x9a~\\xd3\\xfe\\xcd\\xd4g\\xf9\\x91LF\\x9e_\\xba\\x8f\\xc0\\x9f\\xf0\\xa4\\x0cy\\xca\\x11\\xf8\\x83\\xfdj\\x9bj\\x12\\x0e\\xba}\\xe3\\x0fT17\\xf2z\\x06\\xa1\\xebc\\xa8\\xaf\\xd6\\xdc\\x9f\\xe4M\\x00\\\\\\xf3\\x062U\\xd7\\xea\\xa6\\x90\\xca\\x99\\xe5\\x80\\xcf\\xaf\\x15Y\\xb5\\x18\\x17\\xef\\xad\\xca\\x7f\\xbdk/\\xff\\x00\\x13B\\xeaV\\x87\\xfe[\\x15\\xff\\x00}\\x19\\x7f\\x98\\x14\\x01h2\\x93\\xc3\\x0f\\xa6E;\\x9a\\xa6o\\xac\\x98\\xf3qnI\\xe9\\x96\\x14\\xbfh\\xb3\\xff\\x00\\x9e\\xf6\\xe3?\\xf4\\xd1G\\xf5\\xa0\\x0bTf\\xaa}\\xa2\\xd3\\x18[\\xb8G\\xa6\\'\\x1f\\xe3O\\x12\\xc4F\\x12\\xe5\\t\\xff\\x00yI\\xa0\\x0b\\x14f\\xa3\\xf9\\xbb8?\\x87\\xff\\x00^\\x90y\\xb9\\xe8\\x85\\x7f\\x11@\\x0f*\\xa7\\x92\\xa8O\\xae\\x050\\xc2\\x84ch\\x1fN)A\\x93<\\xc7\\xf9\\x1c\\xff\\x00J\\x0b0'\n",
      "b'\\x191I\\xf4\\x00\\x1f\\xeb@\\x08c\\x18\\x004\\x8b\\x8fF4\\xbbOi\\x1f\\xf1\\xc1\\xfe\\x94\\x16\\xc62\\xae3\\xfe\\xc9\\xff\\x00\\n7\\x8e\\x99\\xe6\\x80\\x10\\x07\\x07\\x97\\x04v\\xf9\\x7f\\xfa\\xf4f\\\\\\xf3\\xe5\\x91\\xed\\x91N\\x047N~\\x9c\\xd2\\xe0\\xe388\\xfaS\\x01\\x9b\\x9f\\xfb\\x80\\xfd\\x1b\\xff\\x00\\xadH$c\\xd6\\'\\x1f\\x88?\\xd6\\x9cO\\xaf\\x14\\xd3\"\\x0e\\xae\\x83\\xeaE\\x02\\xb8\\tA\\xea\\x92/\\xd5M\\x02T\\xf5#\\x1e\\xa0\\x8f\\xe9M\\xf3\\xe2\\xce<\\xe8\\xb3\\xe9\\xb8\\x7f\\x8d1\\xaf-\\x93\\x96\\xb9\\x85@\\xf5\\x91G\\xf5\\xa2\\xc3%\\x13F\\xdc\\x07O\\xce\\xa8x\\x81\\x95\\xf4\\x1dIC\\x02M\\xb4\\x83\\x00\\x82~\\xe9\\xa9e\\xd5,\" M}j\\x84\\xe3\\x01\\xa7PO\\xa6\\x06i\\xba\\xe4!\\xb4{\\xfc\\xc7\\x93\\xf6y:\\xaf\\xfb&\\x813\\xce~\\x0c\\x1cjZ\\xc0\\xdc\\x0e\\xe8\\x90\\xe0u\\x1c\\xe3\\x9a\\xf5Nk\\xc8\\xbe\\x0e*\\x8dwU\\xdc\\xa3\\x0fn\\x8c?\\x06\\x00\\xff\\x00:\\xf5Y#G;UN\\xe29!\\x88\\x00{\\xf3I\"\\xa4L\\xee\\xa8\\xa5\\x9d\\x82\\xa8\\xeaI\\xc0\\xf4\\xae{L\\xd5\\x04\\xfe1\\xd5\\xec\\xda]\\xa24\\x8d\\x12\"O,\\x17,@\\xff\\x00\\x81t\\xf6\\xa8|z\\x93\\xdaxNW\\xb0\\x92E\\xfb9F`r\\xe5\\x91H\\x04ry=\\x0f^\\xd5\\xe4z\\xd7\\x8a\\xe6\\x83_\\x8bV\\xb0\\xb8\\x91\\x1e\\xe3k\\xca\\n\\x80\\x11\\xc1\\xc1Pq\\xca\\xe0)\\xc1\\xfaT\\xca\\\\\\xa2Z\\x9b\\x7f\\x125\\x99\\'\\xf1))\\x1b\\xa2[\\xc6\\xd0\\x00H \\xba\\xb9\\x05\\xb09\\xc6q\\xd4u\\xfd`\\xf0\\xdf\\x8en`\\xd4.\\xef\\xeeb\\xfbM\\xdc\\xec\\x15\\x96 \\x147\\x18\\xf9\\x87\\x19\\xc6?\\x9ds\\xde8\\xd5\\xdfX\\xd5\\x8c\\x890T%\\x98HA\\n\\xc0\\xf21\\xc6G\\xae\\x0eq\\x9a\\xe7\\xf4\\x9b\\xaf\\xb2\\xce\\'\\x81\\xddf\\n\\xccK\\x9e3\\xc6\\x061\\xcf\\x19\\x15\\x83\\x93\\xe6m\\x14\\x96\\x9a\\x9fS\\xc1v%\\xd2#\\xbd;\\x104\\x02b\\x18\\xe0)\\xdb\\x92\\t\\xec3\\xde\\xb8g\\xf1\\x8d\\xc4\\x1280M#1\\xdcp\\xb8U=0\\xb9\\xea8\\xeb\\xde\\xaah\\xbe%\\x8f\\xfe\\x11x\\xa0\\xd4<\\xa6'\n",
      "b'T\\x0f\\x14\\xa692\\x1c4D\\x80\\x069\\xe5\\x80\\xe3\\x8c\\xf4\\xacm\\'\\xc4i\\r\\x92\\x18\\xe2\\xb6>g\\xcc\\xc1\\xe3v \\x8f\\x97\\xae{\\xed\\xcf\\x1cs[s\\xf6%-OU\\x92\\xc6uP#$\\x91\\xd7\\xefs\\xf9\\x1f\\xe9Q\\xdb\\xc1w\\x19m\\xea\\xee\\x0b\\x90\\t\\x04\\xe0g\\x8a\\x8bO\\x9f\\\\\\x8c\\x18\\xee\\x9e\\xd9\\xe1\\x11\\x8d\\x93\\xcd\\x0c\\x9eil\\x00w\"\\x80\\x07<\\xf5\\xa7\\xf97s\\xcf\\x1c\\xb7W\\xe9\\xb6<\\xe68\\xfc\\xc8\\xd1\\x89\\xe9\\xb8\\x00\\t\\xfcM2\\xac#\\xdf<3\\x14\\x96d\\x8f8\\xc2\\x12\\x03\\x13\\xcfA\\x80i\\x9f\\xda7g-\\x05\\xad\\xc3\\xa9\\xe72#F\\x00\\xe9\\x93\\x96\\xcfn\\xc2\\xad\\x06\\xfb;f\\x19t\\xa8\\xc1\\x1bHda\\x9es\\x92sN\\xfbT\\x80\\xa07zr\\xb1\\xc8\\xf9$lt\\xcf\\xad!\\x14R\\xee\\xeed\\xdd3\\xdb\\xc6\\xac\\x06\\x128\\xe4\\xc8\\xf5\\xcb0\\xfe\\x95\\xc7\\xfcG\\xd2l\\xbf\\xb1./Z\\x08\\xe4\\xbc\\x92D\\x0b+J\\x1c\\xc61\\x82\\x14v\\x07\\xdb\\x15\\xe8\\xb0Otc_\\xdf\\xe9\\xd2`q\\x87#<q\\\\\\xb7\\xc4\\xe6\\x9d\\xbc\\x1ftd\\x8e\\xd4\\x90\\xe8G\\x96\\xc4\\x9c\\xe4\\x0ct\\xf58\\xa6\\x90\\xeey,\\xd3j\\x91\\xae\\x83\\x0e\\x91\\x18\\x0e\\xd6\\xd1*\\x94\\x0b\\x9d\\xdb\\x88\\xef\\xc7\\xe7^\\xbb\\xe0\\x9bya\\xd2\\\\j\\x91\\\\\\x0b\\xe6\\x9d\\xcc\\xa2D\\x04\\x16\\xce\\tS\\x8c\\x01\\xc6z\\xf5\\xcdx\\xf5\\x9e\\xb3{\\x16\\xab\\xa2\\xd8\\xc5\\xa5Z\\xdcO\\x0e\\xc8Dn\\xf8Y\\x8e\\xf2FI\\x18\\xc7\\xcd\\x8a\\xf6\\xef\\x0eX\\xcf\\x04wlt\\xabdsq!\\x91#\\xb9?#n\\xc9U;G\\xcb\\xd3\\x15+tS\\xd8\\xd7X\\xad\\xc0;\\x90\\x0c\\x9e\\xfbG\\xfe\\xcdI\\xba\\x05m\\xa0\\x90{\\x01\\x93\\xff\\x00\\xb3\\xd4\\x13\\x17\\x86I<\\xed8E\\n\\xa8f\\x9b\\xed`\\x05\\x1d2I\\x1d8\\xcdS\\xb4\\xbd\\x8bQ\\x05\\xa2\\xb1\\xbf\\xd9\\x81\\x87h\\xc1\\xc09 \\xe0\\x8c\\x80G9\\xc7\"\\xaa\\xe4\\x9b,\\xaa\\x15r\\xf2\\xae\\xe3\\x81\\x85\\x93\\xaf\\xe7U\\xe4\\xb3\\xb6\\x9eA\\xe6\\xe5\\xc9\\xe0\\x99\\x12L\\x91\\xe9\\x92*\\xa1X\\x03\\x80r\\x19[\\'}\\xbb\\x0e\\xc7\\xbf\\x14\\x8a\\xf0'\n",
      "b\",\\x83\\x17\\x11&\\xee\\x9f\\xe9\\x063\\xf9\\x17\\xa0\\x06\\xe8V\\x10[\\xe8\\xf6\\xaa\\xa2\\xd8<hT9\\x04\\x1e\\x18\\xf7\\xc7\\xb5l\\x16-\\xc7\\xdb\\x02\\x9fE\\x93\\xff\\x00\\xadX\\xfa\\x0b\\xcc,WneM\\xce\\x01[\\xc5<n=\\xb3WYo\\xdd\\xb2\\x86\\xf5P\\x01\\xc24g\\x9f\\xf3\\xefJ\\xc0\\xc9\\xccC971\\xb1\\xff\\x00jE\\xff\\x00\\xe2i\\xad\\x08\\x93\\x82\\xb6\\xd2\\x0e\\x9f3)\\xff\\x00\\xd9j\\xa3\\xcdv\\n\\xf9\\x96\\xd7\\xe4\\xab\\x12\\x0c\\x96\\xb1\\x9e\\xc7\\xfd\\xaa\\x1a\\xe6H\\xd7{\\xa9`zf\\xd0~\\xbc\\x8ab%}*\\x13\\xb9\\xbe\\xc9l\\x0e\\xd3\\xca\\xa2\\xfa\\x8fj\\x97\\xfb,!\\xcc\\x11y\\x7f\\xee`\\x7fZ\\x83\\xed\\x0e\\xc8\\xc5\\xad\\x83)C\\x8d\\xb6\\xc0\\xe4\\xfa}\\xeao\\xda\\xa2u\\x04X\\x95l\\x0c\\xef\\xb5a\\x8f\\xc8\\xff\\x00*\\x00\\x9a+;\\xb5E\\xe6S\\xeee9?\\xf8\\xf5Y\\x11\\\\\\xe3\\x04\\xca>\\x92\\x7f\\xf5\\xeb6-B%%DQ\\x06S\\x8c*J?\\x92\\x9a\\xb0\\xf7jbo1<\\xbc\\xa9\\xc1Yd\\x04q\\xf4\\x14\\xc0\\xb0a\\xb9\\x07+-\\xc1\\xf6.\\x0f\\xf4\\xa8'\\x8e\\xf7\\x82\\x1eE\\xe4\\x0e\\x126\\xef\\xee)\\xf1\\xdc\\xc4q\\xb0H\\xf8\\xee&c\\xf9\\xd3no\\x91\\x15~I\\x88,\\x07\\xca\\xd2\\x1e\\xe3\\xda\\x80#\\x95/\\xd5\\x18\\x89\\xa5$\\x03\\x80\\xd6\\x91\\x91\\x9cq\\xd0\\x8aH\\x86\\xa0\\x06r\\x0f\\x1d\\xec\\xf1\\xfc\\xa4\\xa5\\x9a\\xfa5_\\x99\\xae\\x14\\x1e>\\xfc\\x83\\xff\\x00d\\xa2\\x1b\\xe8\\xb6\\x82.N0>\\xfd\\xc6?B\\xb4\\x00\\xe2\\xda\\x8fe\\x8f\\xfe\\xfc\\xb8\\xff\\x00\\xd9\\xe9\\xb3M~!m\\xc0\\xa9\\x03\\xaaB\\xfe\\xbfSKm\\xa9\\xa3\\xa2\\xaf\\xda\\xa2v\\xc7'\\xed\\x0b\\xc9\\xff\\x00\\xbejW\\xbeM\\xac<\\xf8z\\x1e\\xb3\\xaf\\xff\\x00\\x13@\\x0c[\\x8b\\xed\\xcc\\x12\\x07r?\\xbe\\x1d\\x7f\\xf6SJ'\\xd4\\xd9\\xf6}\\x9e4\\xf9wgq#\\xae?\\xbbJ.\\x89\\x91\\xb6\\xdcD\\tPr%S\\xdc\\xff\\x00\\xb3Hgp\\xf9\\xfblC\\x8e\\xf2'\\xff\\x00\\x13@\\x86=\\xd6\\xab\\x1f[X\\xdcz\\xf3\\xfe\\x15\\x12\\xeaz\\x86\\xec5\\xa2/\\xb6\\xd9?\\xc2\\xac}\\xb4\\x83\\x8f\"\n",
      "b'\\xb7[~2\\xa7\\xff\\x00\\x13NK\\xc2Q\\x89\\xbc\\xb5%I\\xe9\"\\xf4\\xcf\\x1d\\xa9\\x8c\\x85\\xb5[\\x95\\xc6m\\t$\\xe3\\x85c\\xfd)\\xc9\\xab0R\\xd3[H\\x80\\x02I\\x08\\xfc\\x0f\\xfb\\xe6\\xa7\\x92c\\xb0\\x13w\\x0f\\xdf\\x18\\xf9\\x87\\xa8\\x1e\\x94\\xe9^\\\\`OnA\\xc8\\xc9=84\\x08\\x8f\\xfbI\\x8f\\xfa\\xb87\\x123\\x86%\\x7f\\xf6Z\\x8c\\xea\\xce\\xa0\\x99-J\\x81\\xe8\\xc4\\xff\\x00\\xec\\xb58\\x92|\\x00.-I\\xc0\\xeaO\\xf8\\xd4\\x13\\xc9\\xa8\\xfd\\x9ef\\x8a}8H\\xa4\\xed2+\\x04\\xc63\\xc9\\x07\\xf5\\xa1\\x01\\xc2|X\\xf1\\r\\xb4\\xfe\\x1e\\xfe\\xcddt\\xb8\\x9eEt\\xcex\\nNI\\xe0q\\xce+\\x8c\\xf0\\x05\\x8d\\x8e\\xab\\xe3\\x18$\\xba\\xdf \\x82%\\x90F\\xc4\\x15r\\x8a\\x8b\\x820r\\xbc\\x13\\x8a\\xe9~!Cu\\xabxRmn[\\x94\\x10\\x17\\x11Gk\\xe4(\\xde\\x9b\\xf0\\x181\\xcb\\x00~\\xf63\\xcf\\x15\\x81\\xe0\\xcb+\\x98\\xfcM\\xa5Mg\\xb2\\xe2E\\x8a)\\xca\\xc9\\xc9X\\xccJX(\\xc8\\xdc@b\\x00\\xef\\x8a\\xceZ\\x97\\x1d\\x8fV\\xd5\\xf5\\xdb}\"(\\xcc\\x1aS\\xcds)+\\x0cpC\\x80\\xcc\\x07B\\xc1p\\xbf\\x8fZ\\xe4\\xb5o\\x0b\\xe9\\x9a\\xce\\x9dqv\\x8b\\xa6\\xe9\\xfa\\xc4\\xfb%V!\\x84V\\xcc9a\\x8c\\x00\\xc5\\xb3\\xc9#\\xadz\\x1a+\\xc9\\x1a:\\xdc[<lC\\x02\\xb0`\\x11\\x9c\\x83\\xf7\\xaaib\\xdd\\x13|\\xf1\\x13\\x83\\xd5\\x01\\x1d;\\x8c\\xd5X\\x9b\\x9em\\xe2\\xc7\\xb9\\x98\\xe8> \\xb5\\xd6\\x1e\\t\\xfc\\x93\\x0c\\xe60\\x01\\x90\\xacn\\xecH\\xdb\\x8f\\xbc\\x9bJ\\x9c\\x8fLu\\xae\\x8f\\xc0\\x1ah\\xd04\\x12.nm\\xe7\\xbd\\xbb\\x90\\xddO0\\xdc\\xa5\\xcb\\x00@9\\x1c\\x91\\xd35\\xc7|[\\xb06p[\\xc7\\x08\\x8cCwp%VH\\xc0\\xda\\xf8\\x01\\xd7\\xe9\\xf7[\\x1e\\xed^\\x8b\\x16\\x86\\xb6\\x96\\xe9\\x14\\x17n\\xbe\\\\a\\x19\\xca\\x82\\xd2`c$\\xe7\\xaf\\x1e\\x94\\x92\\xd4\\xa7\\xb1\\x86<B`\\xd4\\xfc_r\\x81\\x1d\\xac\\xa2\\x80D\\x84\\xe3\\xcc>Y8RG\\'$q\\xde\\xb5\\xbc\"\\xb3\\xd9x~\\xd95\\x0b\\x8bw\\xd4$\\xcc\\xd7%\\xa4\\x19\\xf3'\n",
      "b\"\\x1c\\xe5\\x81\\xeb\\xd38\\xfc+2_\\x08\\x9b\\x89.'\\xbf\\xb8ME\\xbc\\xd4\\xb8\\xb6\\x89\\xf3\\x08\\x8d\\xd5@\\x19`y\\xe8:\\xf4\\xc5h\\xbcW\\xf1\\xdc(Kkw\\x12\\xe0\\xc9\\xf7G\\x96p9'<\\x8fq\\xcf\\xb51\\x1bF\\xe5\\xc1\\x1b^\\xdb\\x93\\x83\\xfb\\xc3\\xfe\\x15\\xc3\\xda6\\xa3i\\xe2\\x0b\\xa7\\xd4\\xeel\\x9fN\\x17D@\\x8a\\xe4,,]X\\x168\\xe4|\\xc0\\x8c\\x9cu#\\x9a\\xe9ek\\xa5D?c\\x88\\x90F\\xee\\x98\\xc6{\\x1d\\xb5\\xe5?\\x11.\\x0bx\\x9d\\xd5-\\xfe\\xcd$\\xb1\\xa2H\\x9d\\x04\\x8b\\x800x\\x1e\\x9e\\x94\\xde\\xc2\\x8e\\xe7\\xae\\xe8mzm\\x11\\xe4k/.e\\xf3\\x94(m\\xe0\\xb9,ws\\xcf\\xde\\xedZN\\x92\\xcb\\x13\\xa4\\xa2'\\x8d\\xc1V]\\xa4\\x86\\x04r\\x0f>\\x86\\xb3\\x12kDH\\xd1\\xad\\xad\\xdc\\xed\\x00\\x04E$\\x801\\xd3\\x9a%\\x9a\\xc4limQ6\\xbfS\\x01\\x00pGR\\xa3\\xd6\\x84\\x07\\x9e\\xf8\\xcak\\xd4\\xd7\\xfc;\\xa6\\x0b\\xb2\\x97\\x96\\xf3\\xad\\xb0\\x91\\x97;\\xd7\\xccF\\x89\\xd8g\\x9e\\x02\\x9c\\x0f\\xe2J\\xe6<b\\x05\\xb5\\xee\\xa0oZ \\xebp\\xe1\\x8a)\\x19m\\xc7;FI\\xfc9\\xad\\xdf\\x1e6\\x99w\\xe3\\x0f\\x0e\\xdc\\xc8\\xf6\\xf0\\xe9\\xe1\\x83\\xc8\\xf1\\xa8 \\xc6$\\xceX\\xa9\\xe78?@~\\xb5\\xcfx\\xd6\\xc7N\\xfe\\xd1\\xd4\\x1e\\x04\\x89v\\xce\\xe6'\\x8c\\x92\\x00'\\xb1\\xee)w\\x1fb\\x87\\xc3\\x9bv:\\xbd\\xb1\\xba\\xc4\\xea\\xb7k\\x84\\x98d\\x1d\\xc4\\x02Xc\\x9e\\x0e9\\xe9_F\\x0bd\\x03\\x1ff\\xb6\\xe3\\x80\\x02\\x8c\\x7f\\xe85\\xf3\\x87\\x84^$\\xd4I\\xce\\x19d\\x8d\\xbe\\xf1\\x1c\\x83\\xce9\\xaf\\xa3Z\\x087\\xb6\\xd9$\\x07'\\xa5\\xc3\\x7f\\xf1T!\\xc8F\\x8c\\x8c\\x85\\xb3\\xb7a\\xdb\\x04\\x0c\\xff\\x00\\xe3\\xb5\\x99o\\xa5Y\\x83$\\xd2h0\\xc3<\\x92\\xef}\\x8c\\x84\\xb3\\x02p\\xd9\\xc8\\xf5\\xcdh$H\\xb2\\xb8\\xfbd\\xdbp0\\x1a`q\\xd7=EB. 7\\x01#\\xd6#,N\\x04~dLI\\xc7@1\\x9a\\xab\\x12ek\\x1e\\x19\\xd3u\\x8bil\\xee\\xb4\\x99\\xa0L\\x16Y\\xe2\\x99AV'$\\x8f\\x9b\\x93\\x9fP\"\n",
      "b'Ex}\\xfe\\x90\\xb0\\xeb\\x1a\\xc5\\xb4\\xb2\\xc8\\xb1\\xe9\\xf2\\x88mw`\\x19\\x97\\xcd\\xda\\xc1\\x8fr\\x17\\x9e+\\xe8\\x8b\\x99\\x84K\\xe66\\xa5\\x0cQ\\x8e\\t\\x90.3\\x90\\x079\\x15\\xe0\\xda\\xb1\\x8eo\\x15\\xf8\\xb6Y\\xa7\\x0f\\x1d\\xaeg\\x88\\xafF&uRF\\x0f<1\\xeb\\x91S\"\\xa2w\\xbf\\x0b\\xad\\xff\\x00\\xb0\\xe3X\\xe5\\xd3\\xee \\xfbj;\\xc72\\xcd\\xe6-\\xc8\\xca\\x10Us\\xf2\\x903\\x91\\xdf\\xadz*\\xce\\xae3\\xe5K\\x8ft&\\xbc\\xc3\\xc0^,\\xb7\\xd6\\xee,4\\xaf&\\x14\\x8a\\xd2\\tT\\xcb,\\x98/\\xc8#\\x03\\xd7 \\x1c\\x83\\xc5wf\\xf6ky\\x15&6\\xee\\x8cv\\xa5\\xc7\\x9d\\x83\\xec\\x1f\\x8e\\x0f\\xbfC\\xf5\\xa6\\xad\\xd0N\\xe6\\xa9\\x11u0\\xf3\\xff\\x00\\\\\\xc9?\\xca\\xa2\\x91\\xad\\x0f\\x12D\\x0f\\xd6\\xdc\\x9f\\xfd\\x96\\x99\\xf6\\x99\\xd0e\\xe2G\\xf5\\xd8\\xe34\\xc1\\xa9\\x03\\xff\\x00,dV\\xc6v\\x1f\\xbd\\xf9b\\x99!\\xf6]5\\x8e\\xe1o\\x08oQ\\x1e\\xd3\\xfc\\xa9\\xc6\\x0bE\\x18\\xcc`\\x0e\\xcd\\x83Q\\xc5\\xab,\\x87\\x1fe\\xbc\\x1c\\xe0\\x1f%\\x88<\\x0fj\\xb3\\xf6\\xa3\\xb7w\\x950\\x1f\\xee\\x1c\\xfeX\\xa0\\n\\xbeM\\x96\\xec\\xe2\"Ou\\x98\\x8f\\xd352\\x9be\\x18\\x0e\\xe8=|\\xc6\\xc7\\xe7\\x9aF\\xd4\\xa1PK\\t\\x94\\x0e\\xa5\\xa1a\\x8f\\xccR\\x1dJ \\td\\x99q\\xd7rc\\xfa\\xd0\\x02\\xb2@\\xe4b\\xf2Q\\x9eF\\xdb\\xa3\\xfe4\\xbeL-\\xc7\\xda]\\xfe\\xb3\\x03Q%\\xed\\xa5\\xcf\\xf0n=>`\\xb9\\xfet\\xac\\xd6\\xc0\\xe4FT\\xff\\x00\\xba\\x08\\xa0\\x05}>\\xdaA\\xd7?\\x82\\x9f\\xe9L\\x1aLA\\xb2\\xae~\\x86(\\x8f\\xfe\\xcbJ\\x1f\\x9f\\xdd\\xc3\\x1b\\x8e\\xf9U\\x07\\xf3\\xcf\\xf4\\xa6<\\xb1\\xe3\\xf7\\xb6 \\xb7p\\xa62G\\xeb\\xed\\xe9N\\xc0J4\\xd4\\xff\\x00\\xa6\\x7f_\\xb3\\xc7\\xff\\x00\\xc4\\xd4gK\\\\`\\x18@\\x1d\\x01\\xb6O\\xf0\\xa8m\\xeel.\\xad\\xe3\\x9e8\\xa1T\\x90eD\\x84F\\xddq\\x82\\xa7\\x91P\\xcd\\xaa\\xe9\\x96\\xc4\\x89nt\\xd8\\xb1\\xd45\\xea\\x82?\\n,\\x05\\xb3\\xa5DH.\\x96\\xacGL\\xdb\\x0f\\xf1\\xa1\\xb4\\xa8\\x8eq\\x15\\x9eO\\xad\\xbf'\n",
      "b\"\\xff\\x00eX\\xb3\\xf8\\xd3\\xc3\\x90\\xa9\\xdf\\xaaY\\xb9\\x04\\x02!\\x91\\xe4=}\\x96\\xaaG\\xe3\\x9d\\x1a\\xeeIc\\xd3\\xc5\\xe5\\xd4\\xa9\\x9f\\x96\\x18%s\\x8e\\x80\\x91\\xc6\\x07\\xd6\\x90Y\\x9d\\t\\xd2\\x868\\x86\\xc0\\xb7\\xa9\\x81\\x80\\xcf\\xfd\\xf5U\\xe6\\xd3oL\\x88!\\xb7\\xd1|\\xbc\\x82\\xdedrg\\xafa\\x9a\\xc8o\\x11jrE\\x9b\\x0f\\x0ejs\\xbf\\xfd4\\r\\n\\xfel\\xf5\\xcbK\\xe2\\x8f\\x12?\\xdb\\xd5\\xf4Y\\x12\\x04\\x94\\xa5\\xc4\\x82\\xeaR\\xb0`\\x00F\\xec\\x90\\xb8$\\x13\\x8e\\x9e\\x94]\\x0e\\xcc\\xeeV\\xcbSCn\\xff\\x00\\xd9\\x9a\\x0b3\\x02&\\xc3:\\x959\\x18 \\xed9\\x1e\\xd5-\\xbe\\x9fv\\xc9\\xba\\xf3O\\xd1\\xcc\\xe7 \\x98\\x9a@1\\xdb\\xf8k\\x96\\xd7?\\xe11\\xb7\\x9e\\xdaT\\x9e\\xd2\\x1b\\x8b\\xa9\\xc5\\xbc\\x11Gs,\\x89\\x92\\t\\x00\\xa9\\x00t\\x07\\x92j\\xc6\\x8dk\\xe2\\xbb\\xab\\xfb\\xab=K\\xc4?e\\xb8\\x81VR\\x90[\\xa4\\x80\\xab\\x93\\x8eONF1E\\xc0\\xb9\\xe3Hn\\xec\\xfc/\\x7fqimm\\x04\\x90\\xc6\\x18<S\\x9c\\xa8\\x04d\\x80S\\x07\\x8c\\xd4~\\x14\\xd4\\xafu\\x9d$\\\\\\r\\x17K,\\xb2\\x08\\x89\\x13\\xe0\\xf4\\xf9\\x8b\\r\\x9c\\x1e\\x87\\x00\\xf3\\x9a\\xa9{\\xe0\\xdf\\x11_[\\xcc\\x97\\xde*\\x92e!\\xb1\\x10\\x8c\\xaa>GF\\xe7\\xa7n\\x87\\x8a\\xb1\\xe0\\xdf\\rZ\\xdaCw\\xf6-KV\\xb5\\x9c\\xb8[\\x9bo20bp:gg#\\x9e\\x0fqK\\xa8\\xf4\\xb1\\xcd|L\\xd6u[+O\\xb3\\\\\\xf8r\\x0bkPU\\xfe\\xd7\\x1boRr@\\x1b\\xc0\\x18>\\xc7\\x9a\\xf3\\x13\\xa8\\xcc\\xccY!\\x1b\\x1b\\xe6\\xef\\xfa\\xf3\\xeb^\\x89\\xf1gK\\x92+\\x84H\\xbcC{<\\xe60\\xc2\\xca\\xe3'\\x8d\\xc4n\\x0c\\x00P=\\x88\\xcdy\\x8f\\x94YN\\xfb\\x8d\\x8e>\\xf0\\xc3c\\xdb\\x9a\\x997r\\xa3k\\x1e\\x8b\\xa7G\\x7fq\\x15\\xc6\\xa9\\xad\\xf8>\\xe2\\xf6\\xf6\\xf9B\\xda\\xcb\\x89\\x0f\\x90\\x8a\\x81AE9\\xc7U`x\\x04\\xf4\\xa8\\xb4\\xd8\\xa6\\xd6\\x12\\xfa[\\xedV+\\x19a\\xe0[\\xca\\xd2\\x82\\xcc\\x01\\xca\\xf7\\x00\\xf1\\xd0\\xf7\\xad\\x0f\\x86\\xfe&\\xb6\\xd2t9\\xad`\\xd4\\xefo\"\n",
      "b'o$`\\xcb\\x13\\xda\\x16X\\xdc\\xe1B\\x83\\xbf$g\\x03\\x8e:qY\\x97\\x93\\xb2\\xf8\\xba\\xfdD7\\x10\\xdb\\xb72D\\xc0\\xc0\\xcc\\xfbrK+\\x03\\xceNy\\xeb\\x9a\\x1d\\xedt\\x1dv.\\xfc2\\xb8\\xba\\x83\\xc4\\xf7\\xa2\\xd6?6G\\xb5\\xc2\\xa30\\x01y\\x078$g\\xe9\\x91^\\xa5\\x16\\xba-\\xc4i\\xa8X\\\\\\xd9\\x96\\x19i_\\x05\\x01\\xcfV9\\xe3>\\xd9\\xaf/\\xf8a!>3\\x92#\\x16ql\\xc7p@\\xc5\\xbapG\\xa7\\x15\\xe9\\x1a\\xfe\\x9fw}\\xa3\\xdeZ-\\xdc*$\\x8fl\\x85m\\x19_\\x19\\x07\\x00o\\x00\\xf4\\xe8j\\x91,\\xd4\\xd4\\xc5\\xa5\\xfe\\x970y\\x03\\xc4\\x14\\xc8\\x19\\x00b\\xa5FA\\x03\\xb9\\xe2\\xber\\xf1\\x10\\xb6\\x9fQ\\x97\\xfb*W]2vF\"V,T\\x80G\\xcc{\\x9c\\xe4\\xf5\\xe8k\\xd1\\x9fC\\x9fL\\xd1/\\xac\\xedl%{\\xb3\\x11\\x90\\xdd\\xda\\xc9,r\\xb2g\\x07\\x11\\x00T\\x8eq\\x8c\\xe4\\xf5\\xae7\\xc5\\xfa\\x0e\\x9dk\\xa5\\xda>\\x8fq\\x89dP\\xf3A3\\x91\"\\x9c\\x91\\x82\\xb8Q\\x8c\\x8fL\\xfb\\xe2\\xb3\\xa8\\xee\\x81+\\x1c\\xad\\xfc\\xca\\x10$\\x8c\\x8d\\xe5\\xa9+\\x8c\\x90\\x01\\x19\\x03<sU\\xda\\xe4\\x96L\\xa8V1\\x05\\xe9\\xcfA\\xd4\\xfe\\x19\\xaa\\xdbe%\\x8b!T rr@\\x1d\\xb9\\xa4B\\xc8B\\xb2\\x90\\xc0n\\xf7\\xcf_\\xca\\xb0,\\xe9m\\xef\\x04vR+\\x18\\xc3\\xba\\x83\\x19\\x0cA\\x18<\\xa9\\xe4c\\x8e\\xc4s\\xf9S\\xe1\\xf1e\\xe6\\x9b\\x04q$\\x90\\xc8\\xac7\\x80F\\xf2\\x80\\x92\\x02\\xf4\\xe3\\xa6q\\xef\\x9e\\xf5\\xcf\\xcaU\\xdc\\x12KH\\xd8\\xc1a\\xd3\\x8f\\\\\\xfd*\\xfd\\xae\\x8f\\x05\\xc4fO\\xb6\\xc1\\x0f\\xccF\\xd9d\\xdaN;\\xe3i\\xe3\\xf1\\xa1\\n\\xe7\\xd5^|\\x99\\xc6\\xfb\\\\\\xff\\x00\\xbcE$732\\x92\\xa6\\xd9\\x86H\\x18\\x90\\x8e\\xf8\\xf4\\xabg\\x06\\x8c\\n\\xeb3+\\x9b\\x8b\\x9f\\xf9\\xe5\\t\\xff\\x00\\xb6\\xe7\\xff\\x00\\x89\\xa4\\x13Nz\\xdb\\xc6~\\x93\\x83\\xfd*}\\xab\\xddG\\xe4(\\xd8\\x9f\\xdcO\\xfb\\xe4P2\\xb4fS\\x1a\\xf9\\xb6H[\\x1c\\xedu#\\xfaW)\\xf1AA\\xf0N\\xa2~\\xc3\\xe5\\x95Tm\\xe3g'\n",
      "b'\\x00:\\xe4\\xf0s]\\x99\\x8a#\\xd64?\\xf0\\x11\\\\\\xdf\\xc4+XO\\x83\\xf56Xc\\xde#\\x18!F~\\xf0\\xe0P\\x80\\xf0\\xfb\\x0f \\xcd\\xe1\\x8b\\x8f/\"%\"S\\xb4\\x01.\\'=\\xfb\\x9d\\xad\\xd4\\xfb\\n\\xf7\\xdd:\\xc2\\xda)o\\x00\\xb6t\\x7f7q\\xf2\\xf2\\x07*\\xa7\\x00g\\xde\\xbc2\\xdb\\xca\\x86-\\x06$X\\xc4\\xb1G3J\\xbd\\xd4\\x99\\xc9\\x19\\x1f@\\r{\\x8ciu\\x06\\xa5v\\x96P[\\xcd\\x011\\xb1\\x12N\\xd1\\xb2\\x02\\xbd\\x07\\xcar8\\xef\\x8a\\x84S#\\xd6\\xed\\xa3\\xb8\\xb4\\x9a\\x01\\x1c\\xac\\xa5>p\\xc1\\xc0 \\x9c\\x00H=;\\xfe\\x14\\xebu\\xc6\\xb33\\xfd\\x9bQ\\x8dM\\xbc`\\xfc\\xeeA;\\x9f\\xdf\\x9cg\\x15\\xaa\\xb6\\xa8bu\\x90\\x97/\\x92\\xe41\\x00\\xfd9\\xe9\\x8e)b\\xb5D\\xc92L\\xee\\xd8\\xcb3\\x9c\\x9fN\\xf5M\\x12A$\\xd1\\xa1B\\xf3_F\\x0eq\\x95o\\xd7\\xe5\\xa3\\xedP0\\x03\\xedw\\x87\\xb8\\xfd\\xd9?\\xfb%[\\xf2\\x06C\\x07\\x94\\x11\\x90>s\\xf8\\xf7\\xa0\\xc0\\x8d\\xd4\\xb9\\xfc\\xbf\\xc2\\x800\\xb4\\xaf\\xb3IhwL\\xe5\\xbc\\xd9~\\xf5\\xa0?\\xf2\\xd1\\xbb\\xec\\xa9\\x16\\xc6\\xcaB\\xcd#\\xc6\\xe4\\xb1#}\\xa0\\x18\\xed\\xd8\\x0fJ\\xb5\\xa1\\xc4E\\xa4\\x98\\x96Q\\x8b\\x89\\x867d\\x7f\\xacn\\xd8\\xab\\xc5g\\x1fv\\xe1\\xcf\\xfb\\xca3\\xfc\\xbf\\xa5\\x16\\x1d\\xcc\\xa9-\\xa1UT\\x8a\\xea(\\xd7=\\x14H\\xbd\\xbd\\x9cT\\xa8U#\\xdb\\xfd\\xa3\\xf8\\xf9\\xcf\\xfdY\\xaa\\xe3-\\xc9*L\\xcf\\x80w|\\xbby\\xe0\\x8ct\\xf7\\xf5\\xa9|\\xc7\\x03\\xe7g\\x1e\\xe53\\xfc\\xa8\\x11\\x9b\\x80\\xc7\\x8dA\\x0f\\xd5\\xd4\\xff\\x0044\\xef&L\\x87\\x17\\xb1\\xbf\\xd5c\\xfeaEho-\\xf7f\\x8c\\xe3\\xa8\\xc7\\xff\\x00^\\x97l\\x99\\xe4\\xc6\\x7f\\xe0\\x07\\xfci\\x81\\x8f\\x19\\xb92>/,\\xd4\\xef8\\x04\\x9c\\xe3\\x81\\xd3x\\xa9\\x9eI\\x94\\x1d\\xb2\\xd9\\xbez\\x8d\\xc0\\x1f\\xe6kI\\x95\\x88\\xe4F~\\xa0\\xd4n\\x92\\x11\\x85XA\\xc8=\\x0fL\\xf3\\xda\\x803<\\xd7$\\xf9\\x9fas\\xfe\\xd4\\x8a1\\xf9\\nO6v\\x1b~\\xcbk\"z\\xc7pF?J\\xd7\\n\\xdd\\xd2'\n",
      "b'?\\xc0\\x9f\\xf0\\xa6\\xb0~\\xd1F\\x7f\\xe0_\\xfdj\\x00\\xcb\\x92Y\\xa3TU\\xb4\\x93<\\xb0X\\xee\\xc8\\'\\x8cpO\\xd6\\x99\\x16\\xa4\\xea\\x88$\\xb4\\xd4\\xe3$\\x0c\\xfe\\xf26\\xc7\\xd7\\xe6\\xadl\\xc9\\xff\\x00<\\x13\\xf0q\\xfe\\x14\\xa3\\'\\xac#\\xf3\\x06\\x9d\\x80\\xce\\xfbw\\xc8\\x1b\\xed7\\x88;\\x86H\\xdb\\xfaUk\\xadn\\xcc\\x0f.K\\x92\\x8cF3%\\xa3\\x1f\\xc7\"\\xb5y\\x0b\\x87\\xb4\\xdcy\\xfb\\xbbO\\x19\\xe3\\xbf\\xa5 X\\xcf[=\\xbfTO\\xf1\\xa4\\x06lz\\xf6\\x99 \\xda\\x976\\xce\\xfd\\xc7\\x90\\xe0\\xfeX\\xa5\\xfe\\xd1\\xb2\\x0c\\xac\\xbfg\\xdes\\x81\\x89\\x13=?\\xd8\\xad=\\xb0\\xf7\\xb6\\x1f\\xf7\\xec\\x1aM\\x96\\xe7\\xfe]\\x13>\\xf0\\x0f\\xf0\\xa0\\x0c\\xf9/\\xed\\x99?xcL\\xff\\x00r\\xec\\xa9\\xfc3\\x8a\\xa7uy\\xa7J\\x85\\x7f\\xb4\\xe6\\x8d\\x91\\xb7\\x15\\x8e\\xfa0O#\\x83\\xf3r+Y\\xb4\\xeb\\x06b\\xe2\\xcd\\x11\\xcf\\x05\\xa3B\\x87\\xf3\\x18\\xaa\\x97\\x1a5\\x84\\xe9 u\\xb9\\x8d\\x8f\\x1b\\xe3w\\x0c\\x07\\xa8=\\xa9\\x01\\x9b\\x1bF\\x8b\\x18_\\x13_#d\\x90\\t\\x85\\xb2\\x98\\xc1\\x18\\xdas\\xdc\\xe7\\xd6\\xb4\\x06\\xa5`\\xbeJ6\\xad\\x11\\xda\\xa5K\\xca\\xd1\\x02\\xc7\\x00d\\xf1\\xd6\\xa9\\xb6\\x82\\x10L\\xb6\\xda\\xbd\\xfcA\\xb0P:,\\x81H\\xc7RS$q\\x8cg\\xa5]\\x83H\\xb7\\x10\\xa2\\xdc\\xdc\\x9b\\x96\\\\\\xe5\\xe4@\\t\\xe78\\xc0\\x03\\x1e\\x94/A\\x89q}g%\\xb3\\xa4\\x1a\\x9d\\x94s\\x906\\xbbB\\xae\\x14\\xfb\\x8e3X\\xba\\xc8{\\xbbD\\xb3moIKI\\x14\\x8b\\xa9\\xbc\\xb5\\x8c\\xe0\\x10p\\x0e\\xe2\\x06\\xee\\x98\\xe3\\x8c\\xd6\\xdbX\\xdbB\\x85m\\xe4\\xb3C\\x83\\x8f13\\x83\\xd4s\\xbb\\xa5f\\xc9\\xa7\\x1b\\xaf-.\\x7f\\xb1.\\xda7\\xdd&\\xe8\\xc7\\x1f\\xdd*\\x08<\\xf1\\xde\\x98\\x8e_\\xe2s\\xdd\\xc9\\xe1H\\xda\\xc6\\xe7H\\xb9\\xb3R\\x82qf\\x8a\\x1b9\\x01J\\x9d\\xed\\xc7\\xd3\\xf1\\xaeC\\xc0WW3\\xebV\\x81e\\x86\\x19c\"2g\\xda\\x00\\x8dS\\x91\\x9f\\xa0\\xc6O5\\xd7|J\\xb1\\x9e\\xcf\\xc1\\xc7\\xca\\xd2\\xf4\\xc4\\x83p7\\rjA(7\\r\\xb8\\x1b\\x07\\\\\\xf5\\xcdp^'\n",
      "b\"\\x1f\\xb5\\x9a\\xf6\\xea\\xc5PyNcE\\x85\\xf2\\xb1\\xe6<7$\\x9e\\xf8\\x07\\xadD\\x8b\\x8e\\xc7\\xbd\\xc8\\x96Q\\x13uo\\x1c\\x12\\xda\\xc8\\xdb\\xa4\\x11\\xa0|s\\x82\\xeb\\x80s\\xee\\x07^\\xbds\\x9bi\\r\\x94\\xd1\\xee\\x8a\\xdd\\x1dYw\\x02\\xb0\\x12\\x08\\xc7\\x04\\x1ct\\xac\\xb4\\xd2l&\\x8e8\\xa1\\xba\\x8ew\\x8c\\x0cHc\\x89\\xc9\\x00\\x8c\\x93\\x81\\x8c\\xd5)\\xbc;\\x05\\x89iO\\xd8\\xda\\xd4\\x92\\xccZ\\xcds\\x11\\xc7\\\\\\x820\\xbf\\xcb\\xafL\\xe2\\xc8\\x1b\\xe3]\\x06+\\xfb}:Xl\\x9d\\xde\\xd6\\xe5$\\xf2R\\xdd\\x8f\\x9d\\xd3\\xe4$ch\\xe3\\xa9\\xe0WF\\xd6\\xd6y\\x1b\\xed\\x02\\x96\\xec\\xd0\\x1f\\xc8\\xf1Y1xn\\x14*\\xcb\\x05\\x89\\x1c\\x1e`q\\xff\\x00\\xb3\\x9f\\xe5V\\x7f\\xb1a'\\xe7\\xb4\\xb29\\xeb\\xf2\\x9c~D\\x1a<\\xc3\\xa5\\x89\\xe4m&\\x0c,\\xadc\\x1f!@r\\xab\\xcf`*x\\xed\\xad\\xa4\\xda\\xf1\\xc1\\x0b\\xa3g\\x0c\\xaa\\x08=:\\x1e\\xf5\\xcfjze\\x83_\\xc3i\\x9d9\\x1c\\x80\\xe2\\xdb\\xec\\xeb#\\xba\\x80s\\xc1C\\xb4{\\xe2\\xa9\\xcd\\xe1\\xd34\\xb1\\xaf\\xf6\\x05\\xabC\\x1e\\xe2\\xa5\\xeeDc\\xa0\\x19\\xf2\\xd1W'\\xa9\\xe7\\x18\\xfa\\xd1{\\x05\\x8e\\x93U\\xb8\\xd2t\\xd1\\x00\\xd4~\\xcd\\x0f\\x9f \\x8a0\\xe8>f\\xc1 c\\x1e\\x80\\xf2x\\xaf\\x1d\\xf1D\\xde\\x1e\\xd4|y\\xa6\\xdcY\\xbaEf\\xf2\\xc2\\xb7%\\xe3h\\xb60c\\xbb*\\xc0\\x10p\\x07j\\xef\\xd7\\xc1\\xfat\\x93\\xac\\x97Z\\x1cN\\xcb\\x8c\\x0c.\\x07\\xe2\\x1f'\\x9fRj\\xeah\\xba}\\xa4\\xcc\\xf1h!\\xd8\\xf2KB\\x1c\\xe7\\x80\\x08,\\xc7\\xb7\\x14\\x9e\\xa3N\\xc6\\x9d\\xbd\\xae\\x89\\xaaZ\\xc1q\\r\\xbd\\x95\\xcc\\x0ew\\xc4\\xc5T\\x8c\\xe0\\xf4\\xfc\\xcf\\x14\\xba\\x96\\x9b`\\xb63\\x15\\xb1\\xb5V\\x8e2S\\xf7J6\\x9cv\\xe3\\x8a\\xcc\\x8e\\xdbLO\\x95\\xb4@\\x8d\\xb7o\\xcfj\\x80\\x01\\xe8\\x0e\\xdat6\\xf6\\x100)\\t\\x81q\\xca\\xa8\\x8f\\x00z\\x05<S\\x15\\xca\\xfa\\x8d\\x8cM\\xe2\\xed'\\xec\\xc8>\\xcc\\x96\\xee\\xb2\\x05a\\xb4.\\xe1\\x8c\\xe4\\xf4\\xe3\\xa5y\\xdf\\x8d\\xa0\\x86\\xdbS\\xd5\\x04,\\x9bc\\x94\\x95_\\x97\\x18\\xe0\"\n",
      "b'\\xe3\\x18\\xfeU\\xdd\\xdbN\\xf6\\x97\\xf1\\xc0\\xb6\\xa6\\xee(\\xd1\\xd67\\xfb,E\\x95v\\xa9\\n@e\\xc9\\xe3\\x19\\xae\\x03\\xc6.\\xd7\\x1a\\xa6\\xa4\\x1a\\xc3\\xec\\xec\\xcf\\xce\\xe8B\\x95\\xe0v\\x04\\xff\\x00:,3\\x98\\xd2$G\\xbd\\xb8f\\x11&\\xe4\\xdc\\x01\\xc0\\x03\\x18\\x1cW\\xbe\\xc6\\xf05\\x9c[\\xee4\\xe97\\xc6\\xa4\\x9f4&\\x01\\x00\\xf4\\x07\\x9a\\xf9\\xcd\\xae$\\xb1\\xbb\\x1eL?2\\xae\\xdd\\xac\\xa4\\x123\\xd4q^\\xc9\\xe1\\x1d[\\xc57\\xde\\x1c\\xb3\\x928\\xf4xP&\\xd5\\x92\\xe9&\\xde\\xca\\x0e\\x01\\xc2\\xa8^\\x83\\xafz\\x94\\xd0\\xda7~\\xdbah\\xaa&\\x9e\\xc9\\x15c\\xdc\\xc4]\\x85\\xc9\\xf5\\xc6O\\xf2\\xa8\\x1bZ\\xd3\\xac\\xed\\xde\\xe2\\xfe\\x03e\\x12\\x8d\\xf1\\xb9\\xdb#1\\xe4\\x12\\x01A\\x8e\\xa3\\x9e\\x9c\\xf5\\xa8f\\x8b\\xc42\\x873x\\x96\\xc6\\xdd\\xd0\\xa9\\x02;%\\x00\\xf0q\\x82\\xec}Oj\\xa0\\x9ao\\x99v\\xf6\\xb3\\xf8\\xb2\\xf9\\xc8\\x80(\\x11\\xcd\\x04 \\xa6H#\\xe5\\x07 \\x1e\\xde\\x84U\\\\\\x95\\xa1\\xa5c\\xe2k\\x1b\\xcb\\x18\\xa4[[\\xd9R\\xe1\\x8e\\xc0m\\xa1rH\\'\\x04\\xae\\xe0{g\\x91^[\\xa8\\xdfEm\\xe2o\\x18\\xcb8\\x94Aul\\xf1\\xa1kr\\xa5\\xdb\\xcdF\\xc0^0x<W\\xa4\\xddxkD\\xf2T\\xdc\\xddj\\xf7k\\x1a\\x92\\xca\\xd7rJ\\x84rs\\x84a\\x8a\\xf2?\\x13\\xaa\\r\\x7fY\\xd3a\\x8ee\\xb0\\xb2\\x8d\\x9e\\xd2\\x0c2\\x98\\x88u\\xc9l\\x82H\\n\\\\\\xfc\\xc6\\xa6W*6=\\x07\\xc0\\xbe*\\xd2\\x12\\xcfH\\x82\\x19,b[f\\x95$\\x96x\\x8cEw\\x02F\\x1f\\xd7\\x909\\xeck\\xab_\\x1fhSG/\\xfcL\\xf4\\xc7E%\\x19\\x1a\\xe0\\x82O9\\x1bJ\\xf28\\xed\\x91X\\xbe\\x05\\xd1\\xf4\\xa9\\xbc1\\xa6\\xcb>\\x9dk,\\x8dt\\xe9#\\xbc\\x01\\x8b\\xae\\x18\\x00N9\\x19#\\x8a\\xec\\xff\\x00\\xb24\\xa8\\xd6F\\x87N\\xb5\\x8d\\x98|\\xc5 \\x03<q\\x9e*\\x90\\x9bG4\\x9f\\x10t\\x8bFTY\\xde\\xe6\\xdc\\xfd\\xd1\\x10y\\x1e.\\xbc\\x13\\xb4ex\\xeb\\x9c\\x8e\\x9c\\x8e\\x9aC\\xc6\\x16\\x97\\x11\\x8d\\xba6\\xbd\"\\xb0\\xc8\\xff\\x00@l\\x1f\\xa1\\xcd\\\\'\n",
      "b'\\xb9\\xd2t\\xd7\\x10\\xdb\\xc9g\\x18\\x86L\\x86\\xc2c\\'\\x8c.q\\xdf\\x93\\xc7\\xa5e\\\\\\xe976\\x99>\\x1e\\x9f\\xca\\xb6G\\n`\\x90J\\xc1\\x00\\x03&2\\xac\\t\\x1f\\xec\\x9c\\x8fOB\\xf5\\x16\\x83\\x1b\\xc4z\\x847\\x16\\xa2\\xcf\\xc3\\xfa\\xfc\\xd06\\xed\\xe9$H7\\x1c\\x0ca\\x8b\\xfc\\xbf\\x8dX\\x7f\\x12k\"2\\xe7\\xc2\\x97Q(\\xe4\\x99\\xee\\x90`z\\x9c\\x03S\\xa472@f\\xb7\\xd5\\xa5@\\x19A\\t\\x12\\xc8\\xad\\xc8\\x07\\x05\\x97\\xa7?\\x98\\xabrA|\\x06\\x05\\xe5\\xbb\\x8e\\x01\\xf3,\\x8eO>\\xaa\\xc2\\x81he\\xc9\\xadk\\xefl_\\xfb/J\\xb7F!A\\x9a\\xf6C\\xc98\\x1c\\x08\\xfdM=n\\xfcN\\xd2\\x14\\x96\\xef\\xc3V\\xc4u\\x19\\x96B\\xbe\\x99\\x19\\x15\\xaa\\x9flH\\x90\\x18\\xec\\xdd\\x863\\xb7\\xcc\\x8f\\'\\xf2lS\\x1e\\xe2\\xef\\x05\\x9fN\\xcb/C\\r\\xceO\\xfe<\\xab\\xfa\\x9a\\x00\\xcdko\\x11\\xca\\x19\\xdb\\xc4zb(\\x04\\x91\\r\\x80o\\xcbs\\x9a\\xe74q\\xe2\\x0b\\x88\\xf4k\\xddGYO\\xb2\\xeaR\\x05U\\x864\\x12\\xa6\\xf0J\\x926\\xe3\\xaa\\x8e9\\xc5v\\x0f\\x7f\\xfb\\xa6[\\xbd+RTo\\x94\\x90\\xaa\\xe0\\x820r\\x15\\xce+\\x9e\\xb1\\xf0\\xbf\\x844\\xcb\\xe8\\xeec\\xd3/b\\x9e6,\\xa2X\\xee\\x19T\\xe7\\x8e\\x08#\\x14\\r\\x1a\\xe3\\xc2bD\\xc4\\xfa\\xbe\\xb0T\\x12\\x02\\xa4\\xe21\\xd7\\x8e\\x15Eq\\xba\\xdf\\x82F\\x8bsc|\\xd7\\xf7W\\xdar\\xdc\"\\xde\\xc7;\\x90v;`\\xb0 \\xf4\\xc9\\xfa\\xd7g5\\xd6\\x80\\xac\\xaa.aG\\x12\\x02\\x04nP\\x83\\x8fb1\\xc1\\xefPjv\\xd6\\x9a\\x86\\x8fyh\\xb7\\xf7\\x0e\\xf3\\xc0\\xc8\\xab\\xe7\\xb3\\x8c\\xf3\\xb4\\x9c\\x9ey\\x02\\x87\\x10O\\xb9b\\xdb\\xc1\\x1e\\x1b\\xb68\\x1aM\\xbc\\x8c\\x0fY\\xb3!\\xfdM]\\x8b\\xc3\\xba$-\\xba-&\\xc66=\\xd2\\x05\\x07\\xf9U\\x7f\\x0f\\xdf.\\xa3\\xa2X\\\\\\xfd\\xae\\xe1d\\x96\\x15f\\x04\\xa9\\xf9\\x80\\xc3\\x0eW\\x9f\\x98\\x1a\\xbec\\x9f?-\\xf4\\xa4z\\x18\\x90\\xff\\x00J,\\x84\\xdb]Ng\\xc6ZM\\xb5\\xdd\\xbe\\x8b\\xa6*\\xbck{|\\x89!F9\\n\\xaa\\xec\\xc7\\x19\\xeb'\n",
      "b'\\x81\\xd6\\xba[-&\\xca\\xc6\\x15\\x8a\\xca\\x11\\x04j\\x02\\x81\\x19#\\x8c`d\\xe7\\x9e\\x9d\\xeb\\x9a\\xd4e\\xb9o\\x1a\\xe8\\xb6\\xefw\\x17\\xeec\\xb9\\x9cn\\x87\\x1c\\x15\\x088\\xdd\\xc9\\xf9\\x9b\\xd2\\xbaW\\x9ah\\xd9P\\xb0y\\x18d*\\xa1\\xce;\\x9cv\\x1e\\xe6\\x8bj>\\x85\\x9f!\\x07\\xf7\\xff\\x003\\\\]\\xe7\\x835Y\\xae5\\x08\\xe1\\xf1\\x19\\xb7\\xd2\\xeffi\\xa4\\xb6KE-\\xf3\\x11\\xb8n\\'\\xd0\\x01\\xfd+\\xa9\\x92\\xeeH\\xc6dI\\x17\\x9c\\x0f\\x91\\xb1\\xf9\\x80i\\xb1\\xea;\\xa5(<\\xa2\\xe3\\x9c\\t\\xd78\\xfa\\x1cSz\\x89hT\\xd7\\xbc7\\x16\\xb1\\xa6Ee%\\xe5\\xd5\\xbf\\x94\\xc8\\xeb4;D\\x80\\xa8\\xc0 \\xed\\xe3\\xf0\\xaa\\xfa\\x17\\x85l\\xbc=\\xe6I\\xa7\\x93-\\xc4\\xa4\\tn.\\xcbI+\\x8c\\x8c\\xe5\\xb21\\xeb\\x80:\\xd6\\xbb]\\xcd\\x92\\x12\\xd6g\\xc7R\\x862;w\\xdc=j\\x94\\xfa\\xf5\\xb4m\\xe4\\xbf\\x98g<yQ\\xa8\\x95\\xf3\\xee\\xa8[\\x1f\\x8d\\x16\\x0b\\xb3P\\xac\\x9d1\\x1e>\\xac+/S\\xd3\\xee\\xbe\\xd2\\x97\\xdath/c]\\xa73\\x90&N\\xbe[q\\xf8\\x83\\xd8\\xfbT\\x86\\xfe\\xf6B\\xc2+\\tcPp\\x1e\\xe1H\\x04z\\x85\\\\\\x9f\\xcf\\x14\\x7fjKn\\x7f\\xd3\\x00\\xf2\\xf8]\\xf1\\xc1&C\\x1c`\\x15\\xc1\\xeb\\x9c\\x02;\\xf5\\xc5\\x00r^<\\x86\\xc3Y\\xf0\\xd4\\xfa\\xb2Z\\xcb\\x1d\\xfc\\x05m\\xcc\\x8e\\xfb^\\x1f\\x9cnF\\x19\\xf7#\\x91^9{\\xa6\\xc5\\x1cQ\\\\\\xb2\\xe4+:\\x90NC\\x1c.\\xd1\\xf9\\x965\\xeb>#\\xb4\\xd4\\xael\\xb5\\xcdCV\"\\xd0Jc\\x8e\\x0bx\\x81\\x1eb\\x06\\\\3\\xf0F~\\xa7 \\xe7\\x9cb\\xbc\\xc2\\xe6X\\xe3\\x95!\\xb9\\x85\\xe4g\\x90\\xaa\\x10\\x0e3\\xeay\\xf7\\xa8v\\xb9kC\\xd0\\xfc\\x05\\xe0\\xd7\\x8e;-@\\\\B#\\x96\\xd8\\xc8\\xb1Ck\\xb5\\xc1\\xdc\\x08,\\xc40c\\x90:\\xaf\\xf8\\xd7=\\xe2\\xef>\\xd7\\xc6\\xf7 4\\xd3n\\xdb\\x9f0\\x15`0\\x0e0O\\xf2=:W\\xa6x&i_\\xc2v\\x82\\xda\\xf6\\xda\\x07Xv)\\x92=\\xdb~w\\xeb\\xf3\\x0c\\xd7\\x9fx\\xc5\\x9f\\xfe\\x12\\xd6\\x17\\xd2\\xc5s'\n",
      "b't\\xc8\\xac&\\x8b\\xf7jW\\x03\\x1f.N\\x0f\\x1e\\xb4\\xec\\x92\\x15\\xfd\\xe2\\xdf\\xc3vX|l%wDF\\x89\\xd7{\\x90\\x06px\\xeb^\\xbd\\x1d\\xf5\\xb4\\x8eR+\\xfb7`q\\xb5dRs\\xe9\\x8d\\xd5\\xe3\\x9e\\x04g\\xb7\\xf1\\xbe\\x9a\\xc87\\xabE2\\x94\\x04\\x0c\\x9c\\x1f~\\xbf\\\\W\\xb1\\xabZK&\\xdf&?3\\xae\\x1a1\\x9f\\xa8\\xe3\\x9f\\xa8\\xa7\\x11H\\x0c\\r%\\xe2\\xdcb\\'\\x8dbu.1\\x80w)\\xc7_A^Q\\xf1bhSU\\x9a\\x01\\x12D\\x93\\xc1\\x1b\\x1b\\x95,C8f\\x19#8\\xc8\\x03i\\xe0\\xd6\\xc7\\xc4\\x19\\xe1\\xd3u\\xb8V\\r6\\x17k\\x88\\x01%c\\xf2\\xdb>f\\x08\\xc8#$\\xe7\\x19\\xe7\\x19\\xc9\\x18\\xaek\\xc5V0\\xb7\\x85-\\xef\\xb5\\t\\xa2K\\xc6\\x98\\xac\\x02 ?{\\x19c\\xbc7\\xca3\\x8c}\\xe0H\\xceG9\\xcdeRWM\\tw<\\xc5\\xda\\xe1\\x0e\\xe6\\xe1I\\xe3\\xdc\\xe0\\xff\\x00\\x8d^\\xd3\\xae\\x8bjv\\xaf/\\xcf:H\\x1c\\x86\\x00\\x13\\xb4\\x02\\x06O\\x1d\\xaa\\x8d\\xd2\\x94\\xfd\\xdb\\xc8\\x19@\\x1bs\\x91\\xc7Q\\xdb\\xde\\x8bx\\xbc\\x99ex\\x9f>X\\x048`\\t\\xe7\\x19\\x1c\\xf3\\xd6\\xb1F\\x85\\xadz\\x1baz\\xf7\\x16`%\\xa39\\x11\\x85c\\xf3\\x0e\\xe4d\\x0c}*\\x9c\\x89\\xb9\"m\\xa5\\x01N\\n \\xf9\\xb9<\\x93\\xdc\\xf6\\xfc(\\n\\x1d\\x0f\\x9c\\xce\\xa1r\\xc4\\x00\\x08\\x1d\\x81\\xc7\\xe9L\\x8e\\xebdj1\\x1bw\\x04\\xa04n\\x07\\xd8\\xf4g\\xd6\\x9b\\x9a+\\xa6\\xc4\\x0e\\xc8\\xa2\\x90\\xd2g\\x8a`:\\xb9\\xff\\x00\\x1eg\\xfe\\x10\\xfdT\\x8e\\xa2,\\x8f\\xaeEoV\\'\\x8d\\xb1\\xff\\x00\\x08\\x96\\xad\\x9e\\x07\\x90\\x7f\\xa55\\xb8\\x99\\xe1V\\xd6\\xc14\\xed&\\xfd\\xf2g\\xba\\xfbB\\xc8\\xd9\\xe3\\xe4p\\x00\\x03\\xb7_\\xc6\\xbe\\x82\\xb3l\\xdf\\xc8{=\\xb4O\\xfa\\xb8\\xaf\\x9f\\xa2\\xbaF\\xd2\\xb4\\x9bQ\\xf7\\xe1{\\x92\\xc3\\x9c\\x8d\\xcc\\x08\\xfeU\\xefzs\\x135\\x9b\\x9e\\x8fb\\xbf\\x98#\\xff\\x00\\x8a\\xa8\\xb3[\\x95{\\x9a\\xbcR\\xf1M\\xcd\\x19\\xaa\\x10\\xec\\xd1E&h\\x03?C?\\xe8\\xf7#\\xba\\xddL?\\xf1\\xf2\\x7f\\xadh\\xe6\\xb2\\xf46'\n",
      "b'\\xff\\x00\\x90\\x82\\x9e\\xd7\\xb2\\x8f\\xe4\\x7f\\xadi\\xe6\\x80\\x16\\x8aL\\xd1\\x9a\\x00R\\x01\\x1f0\\x07\\xea3L\\xf2\\x93\\xf8F\\xdes\\xf2\\x92)\\xd9\\xa34\\x00\\xd2\\xa4\\x1c\\x89\\x1f\\xdc\\x1c\\x1f\\xe9H<\\xc1\\xd7k~c\\xfcjJm0\\x1a\\x1d\\x867F}\\xf0A\\x14y\\xab\\xdf+\\xfe\\xf0#\\xfaS\\x89\\xa4\\xcd\\x00\"\\xc8\\xad\\xca\\xb0l\\xfa\\x10i\\xdc\\xd3\\x19U\\x8eYC{\\x90\\r7\\xcb^\\xc0\\xaf\\xd0\\x91\\xfdh\\x02J*=\\xa4g\\x12?>\\xb8?\\xd2\\x81\\xe6\\x03\\xf7\\x91\\x87`A\\x07\\xf9\\xd0\\x04\\x94\\x84\\x8a\\x89\\xbc\\xd2\\xb8 \\x03\\xea\\x8d\\xff\\x00\\xd6\\xa6\\xfc\\xc3 \\xf9\\xb8\\x1f\\xee\\x9c\\xd0\\x03\\x9etI#C\\xc9\\x90\\x90\\x08\\xc6\\x01\\xc1<\\xf3\\xe8)\\xcf*\"\\xeeg@=I\\x15E\\x94\\xad\\xd4rI#\\xed2p\\xad\\x18\\x18\\xf9\\x1b\\xbe)\\xf7\\xb7\\x16Q\\xc5\\x9b\\xb7\\x84(9\\x01\\xf1\\xd7\\xd8P\\x05\\xd5`\\xca\\x19X2\\xb0\\x04\\x10r\\x08\\xecA\\xa7n>\\xb5\\xce\\'\\x89\\xf4\\xab{x\\x95\\xa7\\x1b\\x95\\x02\\x90\\xa0\\x008\\x03\\x8c\\x91T\\xdf\\xc7:p\\xcf\\x97\\x0c\\xcf\\x8fL\\x7f\\xf5\\xe8\\x03\\xaf\\xcd7\\xaf^k\\x87\\x7f\\x1e\\x8d\\xc4G\\xa7;ze\\x8f\\xff\\x00\\x13P\\x9f\\x1d^\\xb7\\xfa\\xbd65\\x1d\\x8b\\x12\\x7f\\xa8\\xa0\\r\\x9f\\x89\\x10\\x89|\\x13\\xaa\\'\\x0b\\x94NH\\xff\\x00mk\\xcb|\\x16\\xe15\\xcd\\x02\\xdf\\xe4\\xddnc\\x84\\xb9\\x19\\x0cw\\xb9\\xce3\\xc8\\xf9\\xb1]\\x1f\\x8a\\xfcO\\x7f\\xa8\\xf8~\\xf6\\xd6kXR\\x19P+\\x11\\x9c\\x81\\x90x\\xe7\\xda\\xb8\\xcf\\x0e\\xdeO\\x12h\\xcf\\x1a\\xa0kX\\x94DH\\xc88\\x95\\xc8\\xcf\\xe2MD\\xca\\x8e\\xc7\\xb7Z\\xcdi\\x1d\\xe4\\xe2I\\xad@\\xdcy%@<\\xf6\\xe6\\xad5\\xd6\\x96\\xff\\x00+Md\\xfb\\xb8\\xc1e9\\xed\\x8cW\\x92\\x9f\\xb4\\xb3p#\\xcf\\xd7\\xff\\x00\\xadR#\\\\FU\\x97\\xcb\\x0c\\x08 \\xee=z\\xfaU\\x90z\\x8c6\\xd6\\xd6n\\x14G\\x19\\xb6f\\xc4n?\\xe5\\x99\\'\\x85\\'\\xd3=\\x0fn\\x9e\\x95\\xa2\"A\\xc0\\\\~\\'\\xfck\\xca\\x93'\n",
      "b'Z\\xd5\\xa3\\x8eD[\\x84\\t&C\\r\\xa0\\x86\\xe3\\x1c\\x8czTc\\xc4Z\\xf4\\x0c\\xb1>\\xa2\\xfbH\\xc4n@9\\xff\\x00d\\x9cu\\xf7\\xef\\xf5\\xa0\\x0fT\\xfb\\x14\\x03v\\xd0\\xe9\\xb8\\x96;$a\\x92NI\\xeb\\xebJ-\\x13\\x82\\x1el\\xafC\\xe71\\xfe\\xb5\\xe5\\xe9\\xe2-u\\x94\\x1f\\xed\\x023\\xec?\\xc2\\xa4_\\x10k\\x9d\\xb5\\x03\\xef\\xc0\\xff\\x00\\n\\x00\\xf4\\xf1\\x0e\\x07\\xfa\\xd9\\x7f\\x16\\xcf\\xf4\\xa0\\xc2\\xfd\\xa7\\x97\\xf1\\xda\\x7f\\xa5y\\xba\\xf8\\x83]$b\\xf8\\x1fb\\xab\\xff\\x00\\xc4\\xd7U\\xe1-KP\\xbf\\xdc\\xb7\\xdb\\x1dUI\\xde\\xb8\\x079\\xc0\\xe3\\x02\\x8b\\x8e\\xc6\\xf8\\x8eA\\xd2w\\x1f\\xf0\\x11\\xfe\\x14\\xd6\\x86\\xe4\\xab\\x05\\xba\\x1c\\x82\\x06\\xe8\\xc1\\xc7\\xea*\\xc6h\\xcd\\x023\\xee\\x03-\\xe5\\x9cO\\xe5;\\xb8|\\x13\\x1eG\\n3\\x9e}\\xeb\\xca\\xfc}\\x01]kR%b\\xdd\\x80\\xc0\\xaa\\xe3\\xf8GJ\\xf4\\xaf\\x10j\\x16\\xda]\\xd6\\x9dy}/\\x95n\\x86Ug\\xc1!r\\xa0\\x02p:g\\xbfj\\xe0\\xfe!\\x80\\xfa\\xcd\\xdb&\\x19d\\x85\\x182\\x9c\\x82\\n\\x8c\\x10{\\xd0\\x0bs\\xcd\\xacC\\xc9w\\x030.3\\xb4\\xb1\\xe9\\x9c\\x1c\\x02k\\xdf<\\x1a\\x8c|;\\xa7\\xb2\\xa7\\x1e^\\xd2D\\xcc:\\x12:~\\x15\\xe1\\x96\\x85ah\\x93z>\\xe9\\x11\\x81^FA\\xc7\\xfe\\xcd^\\xc5\\xe1\\xddn\\xd3G\\xf0J]^\\xb9+\\x14\\xac\\x85#\\xc39,\\xdf(\\x03=y\\xefS\\x14T\\xb6:e\\x82h\\xc6\\xec\\xcc\\xce@\\x0cE\\xc1\\xc1\\xfa\\x03\\xf5\\xaa\\xb7\\xd6w\\x17F\\'G\\xb8\\x82\\xe2\\x12Z)3\\x1b\\x85$`\\x821\\xca\\x9e\\x84g\\x9f\\xa8\\x06\\xb5\"\\x7f2$p\\xae\\xa1\\x940\\x0e0G\\x1d\\x08\\xec}\\xa9\\xf9\\xaa \\xe6\\xb5{\\xf9\\xf4\\x9d&\\xee\\xfe\\xfa\\xc1\\xe4[X\\x9ai\\x0cb&V\\x00v\\'\\x0c?*\\xf0\\x8dkU\\x9e\\xefY\\xd6\\xb5h-l\\xc4Z\\x84&\\xdc\\xc6[& \\xe5@n\\x07\\x07\\xe5\\xaf\\xa1|[\\x01\\xba\\xf0\\xae\\xb3\\x00\\xfb\\xd2Y\\xca\\xa3\\x82y\\xd8q\\xc7z\\xf9\\xca8M\\xb4\\x03H\\x8a9^\\xf114\\x91$R\\x12\\xdc\\x8c\\x92\\xa7\\x18\\x18#\\xaf'\n",
      "b\"\\xf5\\xa9\\x95\\xfa\\x17\\x03\\xd3\\xfe\\x17<W\\x9e\\rY\\xa7\\x82\\xdef\\x87Q\\xd9\\xe6\\x85$2\\xeeA\\xd7\\xd3\\xe6\\xaf@\\x9db\\x8e\\x17X\\xadF\\xed\\xa7\\x01C\\x0eq\\xec+\\x81\\xf8I\\x1aG\\xf0\\xff\\x00Q\\x11\\x87T[\\xb30\\x0e\\x008\\x01\\x1b\\x81\\xd8|\\xb5\\xeao\\xf7\\x9b\\x1e\\xa6\\x9a\\xd8\\x99nb,QL3%\\x94\\x8b\\xc0$y\\xcf\\xfc\\x88\\x14\\x15\\xb4D1\\xb4\\x13*\\x91\\x8cy\\x83\\x18\\xf6\\xf9\\xb8\\xad\\x92q\\xd6\\x93&\\x98\\xaesW\\te\\x0c\\xff\\x00h\\xb6\\x17\\x08\\xd9-$A\\xc0YO\\\\\\xf5\\xc0l\\xf3\\x93\\xc1\\xef\\xea-\\xae\\xa3a%\\xb0xn\\xa5|\\xe4\\x05\\xc8\\xdc\\x0fL\\x11\\x8e\\x0e{V\\xcf5V\\xe2\\xdd\\xbc\\xcf>\\xd8\\x84\\xb8\\xc0\\x07w\\xdd\\x90v\\r\\xfe#\\x91\\xee8\\xa0eY\\x1a\\xdd\\x95[\\xed\\xd3F\\x01\\xc8\\xc9\\x00t\\xef\\xc56\\x13\\x0b\\x92\\xb1\\xea\\xe1\\xc8\\xea\\x04\\x88H\\xfc*\\xf4\\x13G8e)\\xb2D\\xe1\\xe3p2\\xbe\\x9fQ\\xee845\\xad\\xbb\\x1f\\x9a\\xde\\x16\\xcf\\\\\\xa0?\\xd2\\x98\\x0cD%x\\xbb\\xdf\\xef\\xc1\\xfe\\xb5\\x95}4\\xb0I\\x8b}Fa\\xb7v\\xe8\\xa1\\xb3i\\x01<\\x03\\x92\\x0f\\x18\\xfa\\x8a\\xd3m6\\xc1\\x81\\rcjA\\xea<\\x85\\xe7\\xf4\\xa6\\xff\\x00eX\\x7f\\xcf\\x95\\xb8\\xeb\\xd1\\x00\\xeaA?\\xa8\\x06\\x90\\x1c\\xe9>$\\xb8\\xdc\\x96l#\\x0f\\xf7^\\xea\\x15\\x8c/\\x1dB\\x86ri\\x97^\\x16\\xd4\\xef,\\xa5\\x8e]j!p\\xee7H\\x96H8\\x00\\xe4~\\xbd\\xb1\\xf8\\xd7Vm`<\\xec\\xe7\\xa0!\\x88\\xfe\\xb5\\x1f\\xd8`\\x04\\x953)''l\\xee9\\xfc\\xe8\\x0b\\x9c\\xde\\x89\\xe0\\xd4\\xd2\\xf4\\xb3i\\xf6\\xc9]\\xd8\\x96\\xf3cs\\x11\\x8c\\x9e\\xbb\\x00\\x07\\x1d{\\x93Z\\xc9\\xa4<h\\x15n\\xae\\x1bh\\x03-)$\\xfb\\x92T\\xd5\\xbf\\xb0\\x80\\xd9[\\xbb\\xd5\\xf6\\xf3\\xc9\\x1f\\x91\\x06\\x9f\\xf6iq\\x85\\xbb\\xb8\\x1e\\xe4)\\xff\\x00\\xd9i\\xa5`l\\xe3|K\\xe0\\x885\\xb9\\x96\\xe3P\\x92\\xe1\\xe4\\x88a^9\\xd4\\x1d\\xbd\\x81\\xfd\\xdf<\\x93[V\\x96\\x17\\xf6\\x11m\\x85\\xa3T8\\x04\\xc8ZV\\x03\\x8c\\x02w\\x0e\\x07\\xa0\\xe9Z\"\n",
      "b\"\\x0fapn\\x16Q\\xa8\\xcc@\\x0314hQ\\x8ex'\\x80\\x7f#O\\x9a\\xd6\\xeexLov\\x14\\x12\\t1\\xc2\\x01#<\\xa9\\xc9<\\x11\\xc7\\xaf\\xa6(\\xf3\\x0b\\xbbX\\xa8c\\xd6T\\xfd\\xebV\\x03\\xfb\\xa1\\x94\\xff\\x00\\xe8f\\xa2\\xbb\\x97[\\xf2\\xca\\xc7g\\x14\\x8cp3\\xe7\\x03\\x8ey8'\\xd3\\x9a\\xd4\\x91orLom\\x8fFV\\xff\\x00\\x1ar\\x0b\\xb0>\\x7f\\xb3\\xb1\\xff\\x00d0\\xfe\\xb4\\x08\\xe7^\\xc1\\xe5\\x99\\xda\\xefJ\\xb9\\x97.UTI\\x16\\xdd\\xa0\\x0c\\x12\\x03\\x8e\\xe3=+B\\x06\\x96\\xca9\\x12\\x1bI\\x91\\t,\\x12;rv\\xf1\\xc8\\xca\\x83\\x9erj\\xfa\\x8b\\xd0\\xf91[\\xed\\x0cO\\x0erF1\\xe9\\xc75 \\x9a\\xe0\\x1c5\\xa8>\\xeb \\xff\\x00\\n\\x02\\xe5E\\xd4\\x8a\\xa2\\x99RT$r\\x1e\\xdaA\\x8f\\xfcv\\xa3\\xfe\\xda\\xb7\\x8fsIuo\\x12\\xe7\\xfeZ+'oqZFiG?g\\x7f\\xf8\\x0b\\x03I\\x1d\\xdc\\x8d\\xc1\\xb7\\xb9^OP=~\\xb4\\x01\\xcdx\\xafV\\xb4\\xbb\\xf0\\xed\\xf4q^[9h\\xc1\\x01I\\xc9!\\x81\\xc7O\\xeb^=\\xa9H\\xf2X\\xcbo\\x04&IE\\xc0\\x95]\\x08;~B\\xa7\\xf9\\xd7\\xb8x\\xc2U\\x97\\xc3Z\\x824\\x0e\\xc5\\xa2\\xe7z\\x82\\x00\\xc8\\xc9<\\xd7\\x85\\xeaZl\\xaf\\x1c\\xd7V\\x86(b\\x8aDIp\\x83\\x90\\xe0\\xf3\\xd3\\x8cm52*'\\xac\\xfc5\\x93o\\x85\\xed\\xad\\xe4\\x10\\xeeee*\\xee\\x01\\xf9Y\\xb2\\x08\\xc7\\xa3-q\\x1f\\x11'\\xff\\x00\\x8a\\xba;\\x8b\\xb8\\x85\\xbbE\\x10\\x8cG\\x13\\tC\\x0cpI\\x03\\x8f\\xa1\\xa3F\\xdd6\\x8f\\xa25\\xbc\\xf7\\x10\\xa3\\\\\\xdc+,,\\xd1\\xb1\\xfd\\xdeT\\x97S\\xc8\\xce8\\xc7\\x1c\\xd71~\\xbfh\\xd5\\x15\\xe5\\x92\\xe6I%p7\\xb4\\x8c\\xc4\\x90\\xa3;\\x8ey\\xe9I\\xb4\\x91\"\n",
      "b'\\\\\\xba\\xdc\\xbe\\xd7Ok\\xa8\\xc1:\\x88\\xc3\\xa9%C ;\\xc6A9\\xf5\\xfe\\x95\\xd8\\x9dF+O2\\xf6+\\x1d3P\\xb3\\x9d\\x94l\\xc1\\x8c[\\xb9\\x05\\x8a\\xaa\\xf3\\x81\\xc7\\\\\\xd7\\x0f\\xa8Y\\x9b\\x99\\xad\\xa0\\xb7\\x90\\x07&ES$\\xc3\\xb9C\\xce~\\xe8\\xf7\\'\\x07\\xf0\\xa8\\xb5\\x1b\\xa8!\\x8eKkk\\x89w`\\x16/\\x80\\x0c\\x80\\x01\\xb5\\x97\\x9fq\\x9c\\xf5\\xace\\'\\x19\\x03Gg\\xae@|I\\xa3[\\xddh\\xdaa\\xfbB\\xc6[t\\x0e\\xc4\\x06R7\\x05\\x04\\xfav\\x1c\\xd7\\x9e^\\xdc\\\\\\x98\\xa2\\x17k3\\x95%$\\x12p\\xb8R\\x00\\x00\\xe3\\x8e\\x95\\xd3x;\\xc5\\xc6\\xd2\\xea\\xcc^L`\\xb7W-\\'\\x94\\x80\\x96\\xc89$\\x1e\\xbc\\xe3\\x8e+\\x9f\\xd7Z\\x0b;\\xc9cgK\\xa1#n\\\\\\x82\\x1e1\\x93\\xc1\\x1b\\x88\\x1c\\x1e\\xd9\\xa9\\x97\\xbd\\xafPZ;\\x1c\\xfd\\xcd\\xc0\\x92v \\x92\\xb9\\xe3=@\\xec)b\\xdc\\xe0\\xcc\\x8a\\x9b#\\xc9$\\xe38\\xf7\\xf5\\xab\\x12Imq+I3\\xc9\\xe6;e\\x8f\\x03vx \\xfaT\\x9a\\\\\\xdff\\xb8\\x91\\n\\x85%\\x0cl\\n\\x121\\x8c\\x13\\x9f\\xd7\\x9a\\x91\\x89\\xa5X\\x9dJ\\xe7joX\\x97\\xe6\\x9d\\xd1\\x0bl\\\\\\xf2\\xc4\\xf6\\x1fZ\\x9fV\\xd2$\\xd3/\\xa5\\xb61\\xf9\\xfbX\\xfc\\xec\\x00\\xce\\t\\x1cs\\xc8\\xe3\\xadIn\\xd3ZX\\xc8!a\\xe5\\xc4NX\\x10\\x0b\\x0c\\x1e\\t\\x07\\'\\xe9\\xf8\\xd7\\xa0h3Y\\xdf\\xe8:{\\xbe\\xaem^8\\xbc\\xb6\\x89\\xef\\x02\\x10C1\\xce1\\xdf9\\xad\"\\x93D\\xb6{X4\\xb9\\xedL\\x19\\x1diwV\\xe4\\x8e\\x19\\xa2\\x934\\x9b\\xa8\\x18\\xb9\\xac\\x9f\\x17\\xa8\\x7f\\x0b\\xea\\x8aFA\\x80\\xe4V\\xaek3\\xc4\\xc0\\xb7\\x87u0\\xbfx\\xdb\\xbe>\\xb84\\xd6\\xe2g\\xcf\\xf3(\\x86\\xf8\\x00\\x9b\\x15ee\\x00s\\x81\\x81\\xc5{\\xd6\\x93(xtF\\x1c\\xac\\x96Dg\\xfe\\x02\\x84\\x7f*\\xf0\\xfba>\\xad\\xa6\\x8dM\\x8a$0Na(F\\x18\\x9c/?O\\x98w\\xafe\\xf0\\xd3gC\\xf0\\xdb\\xfaFS?\\xf0\\x06\\xff\\x00\\xe2iI\\xdd\\x8d\\x1d7\\xd2\\x8aL\\xe6\\xa1k\\xabu\\xb8\\x16\\xed<K'\n",
      "b';r\".\\x03\\x9e\\xfc\\x0c\\xe6\\x80,f\\x8ah4P\\x06f\\x87\\xfe\\xbfV_K\\xd7?\\xf8\\xea\\xd6\\xaddh\\xa7\\xfd;Y_K\\xbc\\xff\\x00\\xe455\\xad@\\x0f\\xa4\\xe2\\x9b\\x9a3@\\x0f\\xa6\\xd2\\n3@\\x0bE&i3L\\x05\\xa2\\x93\\x9a3@\\x0bIE\\'4\\x08Z*\\xa6\\xa1t-\"\\x0e\\xcf\\x14i\\x9c\\x13) g\\x19\\x03\\x81O\\xb2\\x98\\xdc[$\\xb9B\\x18d\\x14\\xce=(\\x04O\\x90\\x06I\\xc0\\x1dI\\xe9N\\x95\\n\\x85\\xcb#\\x06\\x01\\x86\\xd6\\x04c\\xb7zc\\xe4#c\\x83\\x83\\x82+\\x03\\xc2\\x92J\\xedz\\x8e\\xee\\xea\\x8c\\xa1C\\x12v\\x8c\\x1c\\x81Hf\\xbd\\xc2\\xae\\xe8>P\\x7fx\\x07Oc\\\\\\xb7\\x8e\\xee\\xa0\\x8d!\\xb2\\x92\\xc6G\\x0eU\\xc4\\xc8\\xa7brF\\x18\\xfa\\xf1\\xd0\\xd7Q~\\x06 \\x0c\\xe5\\x01\\x90d\\xae8\\x189\\'\\xda\\xb9\\x8d_V\\xb6\\xbd\\xb5\\xfb\\x12$\\xb2\\xa9\\xe4J\\xecHm\\xa0\\x9c\\xf4\\xc1\\xe9@j\\xce4\\xc5m\\x1f\\x028\\x87\\xa7\\x02\\xa3\\x8f\\xcb\\x05\\x80\\x1d\\t\\xe9\\x9a\\xb6\\xe8\\xa3\\x85\\x03\\xf0\\xa8\\xd0\\x11\\xbb\\x8f\\xe2\\xfe\\x82\\x81\\\\\\x80\\x02\\x18\\x90$\\xe9\\xeaM\\x18\\x97\\xcb\\xf9ZL\\xfa\\x908\\xfd*\\xd0\\xe9H2W\\x8f\\xce\\x95\\x82\\xe6&\\xb2o\\xbe\\xc7*\\x83\\x14\\x90\\xec\\xc3\\x96\\x18l\\xe4`\\x81\\x9cb\\xb2\\xb4\\xa6\\xf2E\\xbc$\\x82\\xf1&\\t\\x07 \\xfe\\xf0\\x91\\xfc\\xeb\\xa2\\xd5\\x906\\x9bt3\\xd5\\rs\\x1aT^]\\x95\\xabq\\x8cK\\x8f^%52.\\'XKt\\xc7\\xebH\\xcc\\xf9\\x18\\x1d\\x0f\\xadji\\xbaE\\xde\\xa4\\xccm\\xe3%\\x01\\xe6F\\xe1G\\xe3\\xfe\\x15\\xd2\\xd8\\xf8R\\xd25\\x06\\xf6\\xe0\\xc8\\xe7\\xb4d(\\xfc\\xfa\\x9f\\xd2\\xa9\\xc8\\\\\\xa7\\x0eU\\xc9\\x04\\xe3\\xf04\\xd9aicd!\\x1dH\\xe4s^\\xa1oa\\xa4[\\x9cEkl[\\xb9u.\\x7f6&\\xafGymm\\x96\\xfd\\xdcI\\xdc\\xa2\\x01\\x8f\\xc0R\\xe7}\\x86\\xa0x\\xf5\\xaa\\xdc\\xaa\\x88\\xe4G\\'\\x9d\\xaf\\xb4\\xfc\\xe3\\xdf\\x8e\\xbf\\xcf\\xadYE\\x93\\'\\xe5\\xc7\\xe0k\\xbf\\xd4\\xbcC\\xe6;,lvv\\xc99#\\xde\\xb9\\xcb\\xab\\xfb\\xdc'\n",
      "b\"\\x96\\xb6\\x91\\xc8\\xf4\\xdf\\x8f\\xebI\\xcaIl5\\x08\\xbe\\xa6J\\x87P\\t(2@\\x19\\xc8\\xe78\\x15\\xd6|?\\xba\\x17\\x02f\\x8c\\xa3FT\\xe0\\xa9\\xee\\x18\\x82\\x08\\xc7\\xaek\\x93\\xba\\xd6e\\x970\\xde\\xa6\\xe2:\\x87\\xeb\\x9f\\xadA\\xa6\\xeam\\xa6\\xc9\\xbe\\xc6\\xe6hT\\xf5@\\xf9V\\xfa\\x8cT\\xfbG\\xd8\\xbfd\\xbb\\x9e\\xcb\\xcfa\\x9a\\x8eK\\x88b\\xff\\x00[<I\\x8f\\xef\\xb8\\x1f\\xd6\\xbc\\xba_\\x14\\\\\\xca\\x9b&\\x90<g\\xa8p\\x08\\x1f\\x86*\\xab_\\xdbI\\x96{\\x0b&=\\xc9\\x813\\xfc\\xa9\\xfb_!{%\\xdc\\xf4\\xab\\xbb\\x8b+\\xab\\x8b?\\xf4\\x8bYb\\x0e\\xe8\\xe3\\xccR0\\xd18 \\xf3\\xed\\xde\\xb8\\x0f\\x1aZ\\xdb\\xdb\\xea2Gd\\x11m\\xfe\\xce\\x860\\x8cX\\x01\\x83\\x8c\\x1c\\x9e8\\xedY71\\xe9\\x17\\x80}\\xabJ\\xb2|\\x1c\\x82#\\xdaG\\xe2\\x08\\xa9-\\x9bJ\\x8a\\xdd-\\x96\\xc1\\x12$\\x04*\\xac\\xd2\\x00\\x06I |\\xde\\xe4\\xd1\\xed{\\xa0\\xf6=\\x99\\xc4\\xd8Z\\xbb\\xa3\\xc9\\x11\\x00@\\x04\\xce\\x0fq\\xbdA\\x03\\xf1`k\\xda~\\x1eYZK\\xa6\\xcd4\\xb6\\xb6\\xef:\\xceTH\\xe8\\x0b\\x01\\x80@\\xce=k\\x90\\x854H\\xd1\\xd1t\\xe4@\\xcaQ\\xb6\\xcb \\xc8\\xc8$\\x1f\\x9b\\xda\\xb4\\xf4\\xfdr\\xda\\xc1\\x19,\\x8d\\xc5\\xb2\\x96\\x0c\\xca\\x93\\x92\\x18\\xe3\\x19 \\x93\\xda\\xa1U]Jt_s\\xd4=\\xff\\x00:J\\xf3\\xff\\x00\\xf8J\\x83\\xcd\\x0c\\xaf4\\xc5\\xe2$\\xa8\\xde\\x02\\x92F\\x0e\\xe5\\x00n\\xe3\\xd7\\xa5P\\xd6<u\\xac\\xdb'\\x99`\\xb62\\xa8\\xcf\\xc9$m\\x96\\x1dr\\x08a\\xcf\\xb1\\xfc\\t\\xad\\x15X\\x99\\xba2G\\xa7\\xff\\x00:\\xf1O\\x14+/\\xc6[\\xd6\\x07i\\x92\\xc9FO\\xa6\\xd4\\x07\\x9f\\xa0\\xa9\\xa1\\xf8\\xab\\xae\\xac\\xab\\xe7\\xe96O\\x1fp\\x82E${\\x1c\\x9c~U\\xcd\\xf8\\xabZO\\x11x\\xa1\\xa50\\x18 \\xbb\\x84+\\x86\\x04:\\x14A\\xc0\\xe7\\xd4SsB\\x8c\\x1ag\\x7f\\xf0\\xbdL\\x9e\\r\\xd5`\\xe8H#\\xf11\\x91\\xfd+\\xd1\\x95\\xf7\\xa2\\xbf\\xf7\\x80o\\xd35\\xe4\\xfe\\x01\\xd6\\xa3\\xd2t\\xdb\\xc8\\x197\\xac\\xac1\\x93\\x82\\x06\\x08\\xfe\\xb5\"\n",
      "b'\\xd4Yx\\xc6\\x0f\\xb1\\xdb\\x86\\x87\\xe6\\x11(<\\xf7\\xc0\\x14\\xbd\\xa4V\\x8c~\\xcaR\\xd5\\x1d\\x81biKq\\x8a\\xe6\\x17\\xc5\\xd6\\x87\\xefD\\xe3\\xdc0\\xc7\\xf2\\xa7\\x8f\\x15Y\\xff\\x00\\xcf7\\xff\\x00\\xbe\\x87\\xf8S\\xf6\\xb1\\xee/c3\\xa2\\xdch,k\\x00x\\x9e\\xc8\\xf2VL}Fi\\xeb\\xe2m0\\x90\\xad/\\x96\\xc7\\xa0r\\x01\\xfet{H\\x8b\\xd9K\\xb1\\xabq\\x08\\x94\\xab+ys&vH\\xa3$z\\x82;\\x8fc\\xfc\\xf9\\xa4\\x82\\xe0\\xbb\\x18\\xa5P\\x97\\x00d\\xa8\\xe8\\xc3\\xfb\\xca{\\x8f\\xd4w\\xac\\xd3\\xe2-;9\\x13\\xc6S\\xd4H\\xb9\\xcf\\xa63Y\\xd7^*\\xd2\\xe5\\xccr\\xc3\\xa8\\x06S\\xb9^8\\xd4\\x95=2\\xac\\x18\\xff\\x00\\x9e\\r58\\x87\\xb3\\x91\\xd5\\x03\\xc74\\xa3\\x06\\xb9X|cb\\x85#\\xbaK\\xad\\xef\\x9f-\\xe3\\xb7$J1\\xd7\\x19\\xf9O\\xb1\\xfc8\\xab/\\xe2\\xed*5F-u\\xb5\\xbd-\\x98\\x91\\xecF84\\xf9\\x97qr3\\xa1\"\\x90\\xd65\\x9f\\x89t\\xbb\\xc0|\\x99\\xe4\\x04\\x1c\\x11$l\\x87\\xeb\\x82:U\\x97\\xd5\\xad\\x15r$/\\x8e\\xa1FM\\x1c\\xf1\\xee\\x1c\\x92\\xechc\\x8a\\x07\\xb5f\\xff\\x00mX\\xae\\x16IJ\\x16\\x19\\x01\\xd4\\x8c\\xfd8\\xe6\\x95u{\\x03\\xd2\\xe9?_\\xf0\\xa3\\x9e=\\xc3\\xd9\\xcb\\xb1\\xa3\\x8a*\\x88\\xd5l\\xb3\\x8f\\xb5G\\xfa\\xff\\x00\\x85<j6\\x87\\x91s\\x17\\xe7O\\x9a=\\xc3\\x92]\\x8bt\\xb9\\xaa\\xa2\\xfa\\xd9\\x8e\\x05\\xc4Y\\xff\\x00xVn\\xaf\\xe2}3J\\xb8\\x8e\\x0b\\x97\\x99\\xe6\\x90\\x8d\\xa9\\x05\\xbb\\xc9\\xc18\\x04\\x901\\x8c\\xfb\\xd1t\\xfa\\x93\\xca\\xd7Cs4s^}\\xad\\xfcO\\xb0\\xd2\\xf5\\x9f\\xb0\\x1b\\x1b\\xa6h\\x9bm\\xc1\\x90\\x08\\xde.Fp\\xbf\\xc5\\xc1\\x07\\xa8\\xa7E\\xf1k\\xc3\\x92\\x07`\\x97\\xc1\\x14g&5\\x19\\xfc7Qt\\x1c\\xad\\x9e\\x80\\x05:\\xbc\\xf2\\xe7\\xe2\\xd7\\x87\\x925h#\\xbc\\x9d\\x8er\\x02\\x85\\x03\\xf1\\xcdS\\xba\\xf8\\xb5h\\x88\\xafk\\xa7<\\xaaA,\\x1ab\\xa5\\x7f\\xf1\\xda.\\xbb\\x8f\\x95\\xf6;\\xaf\\x14\\x82\\xde\\x1c\\xd4\\x80\\xff\\x00\\x9e\\r\\xfc\\xab\\xc1u7]\\xb7\\x16\\xf7\\x17&\\x08'\n",
      "b'%([\\x07\\x01\\x88\\xce3\\xf9\\x9a\\xee\\xae\\xbe\\'\\xd9j\\x96RX\\xa6\\x9d4s\\xdc!\\x88\\xee\\x98\\x10\\xa7\\x07\\x90\\x00\\xe4w\\xed\\\\N\\xaal\\xbe\\xcf|o`\\xf3\\x1fdf\\'\\xdd\\x8f,\\x86\\x04\\xe0c\\x9c\\x81\\xb7\\xdb41\\xc53c\\xc3\\xde\\x18]CG\\x9a\\xfc\\xea7\\x89gfX\\x05\\x80\\xe4\\xa9\\xda\\x188^\\xfe\\x99\\x1c\\xfdk\\x9d\\xbd\\xb3\\x9a\\x1b\\x9b\\x16y\\x08\\x9c\\xc8\\x0b\\x06\\xc9\\nJ\\x8c\\x80s\\xc8\\xae\\xab\\xc0\\xde#\\x8a\\xc3\\xc3\\xfa\\x84\\x17&\\x13#\\x16\\xba1\\xbb\\x952\\x05^\\x15@S\\x9e\\xdf@9\\xaa\\xfa\\x95\\xc5\\xbe\\xa1e\\xa6\\xdei\\xdar[\\xbcv\\xc9\\x15\\xca\\x95P\\xf2\\xed\\x18,\\x088\\'\\x8e\\xfc\\xd6n\\xd6\\xb9wf]\\xde\\xa1\\x05\\xb5\\xed\\x94o\\nL\\xb1J\\xcc\\xc2@pwm\\x18#\\x19#\\xe5\\xfdk*\\xde\\xc2\\xca\\xe2\\xf6\\x18$\\xba\\xdc\\xd3\\x10\\x89\"G\\x84F$\\x00\\x18\\x9c\\x16\\xf4\\xcfn\\xb95\\r\\xfb\\xa6\\xe6@\\x7fz_\\x1b\\x9f\"E\\x18\\xe0\\x1e\\x7fZ\\x86[\\x89m\\xd1\\x1e(<\\xb7\\x8fl\\x81\\xb9\\x0e\\xa9\\xd8\\x8fA\\xef\\xfa\\xd773{\\x83C`\\xd1.\\x1e\\xe2kh\\x11\\xe4\\x9e\\x16 \\xbcl\\n\\x8d\\xbdr\\x00$\\xe7\\x19\\x04g54\\xbaR2\\xc7\\x06\\xa6\\xf7\\x11H\\xe8\\x1e0\\xb0\\xfc\\xddH\\x19\\x07\\x19^\\x08\\xceA\\x07\\xd6\\xab\\xc3\\xadI\\xfd\\xadoy\\x16\"\\x962\\x98T\\xc2+\\x05\\x1cq\\x8e\\x0e;\\xd7Y\\xff\\x00\\t7\\xdb\\x91\\xe6\\xbe\\xba3\\\\F\\xa2\\x1bygPvnc\\xb8\\xb1\\x03\\x93\\xc9\\xc6p+D\\x93%\\xb6qSZ\\xad\\xc4\\xec\\x91*F\\x9bI\\x05A\\' `\\x01\\xef\\xc6}j=0\\x8f\\xb6y2\\xb8\\x08\\xe0#3\\x82J\\x9c\\x8c\\x91\\xc7\\x07\\x8e\\xb5\\xd2x\\x8b\\xec\\xdeT\\x8f1\\xc4\\xe6Wh\\xda7P\\x98\\xe0\\xe0(\\x04\\x81\\x83\\x9eO\\xads\\xd11\\xd9\\xc3\"8R\\xc0\\x83\\x8d\\xc3\\xd0\\xfb\\xfdj]\\xc7\\xb9uC[4\\xc9\\x13\\x94I%\\x0b 8$\\x80r\\x07\\xbfcM\\xbc\\xd4Un\\x19G\\x95\\n\\x8c\\x00\\x91\\xc6\\x08\\x00\\x0cv\\xaaWM$\\x85\\x0b\\x82\\xa8N\\xe5\\x0c1\\x9e'\n",
      "b'\\x9c\\xfb\\xfaUVb\\x1d\\xb7\\x10Nh\\x03\\xec\\x0c\\xd1\\x9a\\x00\\xcd!\\xe2\\xba\\xc8\\x1c\\x0f4{\\xd33K\\x9a@.j\\x96\\xb47h\\xf7\\xcb\\xeb\\x03\\x8c\\x7f\\xc0M\\\\\\xcf5WS\\x1b\\xb4\\xdb\\xb0;\\xc2\\xe3\\xff\\x00\\x1d4\\xd0\\x1e\\t\\xa6=\\xd8\\xd2g\\x86\\xd1Q\\xf4\\xef\\xb4\\x16\\x99\\xf0r\\xaf\\x84\\xe0\\x1f\\xfb\\xe3\\xa7\\xadz\\xf7\\x85\\\\\\xbf\\x854&\\xfe\\xe4\\xa1O\\xe6\\xeb\\xfdk\\xcc\\xbc:\\x98\\xf0\\xae\\xb0=.I\\xff\\x00\\xc7b?\\xd2\\xbd\\x1b\\xc1\\xed\\x8f\\x04\\xd97\\xfc\\xf3\\x9c\\x1f\\xfc\\x8f\\xff\\x00\\xd7\\xac\\xd1os\\xb1\\xcdyO\\x88\\xee \\xb5\\xf8\\xc3a<\\xd2\\xc6\\x8a<\\x90\\xcc\\xcc\\x00Q\\x82\\x0eOj\\xf5\\te\\x11\\x95P\\x0b;\\x1c(\\x00\\x9f\\xa9>\\x83\\xde\\xbc\\xaf\\xc5\\xf0\\xc5o\\xf1CM\\x9b\\xcbB\\xcd\\xe4;\\x1c\\x0f\\x98\\xee\\xc6M9\\xfc,!\\xb9\\xebC\\xa7\\xb1\\xa7SrG\\x14f\\xa8\\x8b\\x99zO\\x1a\\xae\\xb4?\\xe9\\xb27\\xfeC\\x15\\xab\\x9a\\xc8\\xd32<A\\xad/\\xbc-\\xff\\x00\\x8ec\\xfaV\\xc0\\x14\\xc09\\xa2\\x8e)\\xb2M\\x14_\\xebdD\\xff\\x00}\\x80\\xa0\\x07f\\x8c\\x1a\\xab&\\xa1n\\xb1\\x99\\x01v\\x8c\\x1c3\\x85!\\x17\\xea\\xc7\\x00~u\\xcb\\xeb\\x1e?\\xb2\\xb2w\\x8e\\xd6\\xdc\\xdd:\\x8c\\xef\\x12(\\x8f>\\x9b\\xb9\\x07\\xf0\\xcd+\\xa2\\x94[\\xd8\\xec\\xf1Uu\\x0b\\xeb=:0\\xf7\\xf71[)\\xe8d`\\t\\xfa\\x0e\\xf5\\xe5\\x1a\\x8f\\x8d\\xb5\\xddT2\\xd9\\x14\\xb3\\x81\\x97\\x04F\\x08\\xc8?\\xed\\x91\\x92q\\xfd\\xdcV\\x17\\xd9|\\xd9\\x15\\xefe\\x92\\xe1\\x83\\x10K\\x12x\\xf4\\xe4\\xf3\\xf8\\x9f\\xe5P\\xea%\\xb1\\xach7\\xb9\\xe8\\x1a\\xbf\\xc4kH\\xc3&\\x8bm%\\xec\\xc3\\x82\\xce\\n\\xa2\\xf6\\x07\\xdf\\xf4\\xaej_\\x16\\xf8\\x8aY<\\xe3{\\x14L\\x0e\\x04q\\xa0\\t\\x8e\\xdd\\xba\\xfd\\x7f\\xc6\\xb3LQ)+\\x0e|\\x90p\\x81\\x80^;dg\\x8f\\xc0\\xfa\\xd3v\\x90\\xddQ\\x97\\x9c\\x8f\\x7f~?\\xcf5\\x9b\\xa9&o\\x1a1F\\xed\\x97\\x8f\\xf5\\x98%T\\xbaHf\\x04\\xf0|\\xbe\\x0f\\xd5\\x94\\xf1\\xc5mX\\xfcC\\x0f+%\\xcd\\xa4Rrpm\\xa49\\xfc\\x98`'\n",
      "b'\\xfeu\\xc5\\x92@\\n\\x8aT7\\xdeq\\xd4\\x8e\\xb8>\\x9fO\\xf1\\xad\\x1d\\x1b\\xc3\\x8b\\xaf\\xcd\\'\\xfaU\\x95\\x88\\x89@i\\xa7\\x91b\\x07\\xd0\\x00>\\xf7\\x1c\\xe7\\x1e\\xe7\\xaf)ThR\\xa5\\x17\\xa9\\xdak>#\\xd3n\\xac\\x166\\x92[i\\x98\\x86\\tq\\x0bFq\\x8f\\\\c\\xbdnxjD\\x93D\\xb6h\\xd8:\\x85#*A\\x1fx\\xf7\\xaf7\\xd5\\xe1\\xbe\\xf0\\xbb\\xc3ek\\xac\\xda\\xea\\xd1\\xca\\x85\\x99#\"D\\x8ct\\x1f{+\\x93\\xcf\\x03\\xa7\\xe2*\\xa6\\x89\\xaci\\xd6\\xb7/%\\xecWP\\xc8pP\\xc1 \\x88)\\xc7$\\x10\\x0fZ\\xbfi\\xdc\\xc9\\xd1\\xd3C\\xd8\\xe5\\x00\\xc6\\xc3\\x1c\\x159\\xfc\\xab\\x9a\\xf0\\x88\\tq\\xa8l\\xf5O\\xe4j\\x80\\xf1\\x12E\\x00}?S\\x9a\\xed@\\x04\\xc1s\\x1a\\xb3\\x93\\x9e\\xcc\\x08\\xc8\\xfa\\x9ae\\xae\\xb5\\x16\\x8bur\\xd3\\xdb\\xcb2K\\xb7&\"2\\xb8\\xcf8\\'\\x9e\\xbd\\xaa\\xd4\\x933\\x959\\'cK\\xc4\\xba\\xb5\\xb8I-f\\x869`$,\\x9b\\xcf^F@\\x15\\xcd[\\xda\\x8bv>f\\xc4$\\x95\\x8cw#i\\xef\\xf8Tz\\xdbi\\xfa\\xcd\\xebOi~<\\xad\\xfb\\xda\\x06FYA\\xe0\\x9c\\x03\\xd7\\xf05\\x1c\\x17\\xcd2A\\xbe\\xdfl\\xec\\xdbT\\xbb\\x103\\x83\\x92>Z\\x9b\\xdd\\x95\\xca\\x92!q\\xd6\\xa1^\\x1d\\xfe\\xa3\\xf9\\n\\x99\\xd5\\xcerB\\xfd\\x05F\\xb1\\x13#\\xe5\\x8foOJ\\xd1\\xb3\\x14(PqM+\\xc1\\xc1\\xcf\\xb5\\x0c\\x84\\x1c\\x068\\xa4\\n\\x0f\\x19\\xfdh\\x19^\\xfd\\t\\xb0\\xb8\\x03\\xa9CU\\xf4-\\x1e;k[y5\\x15\\xf3\\x08\\xde\\xf1\\xc1\\x92\\x04\\x8a\\xcd\\xb83\\x1e\\xa0{\\x0e\\xbdzu\\xe8\\xb4\\xfb\\x1bY\\x10\\xcb\\x7f\\xe5\\x8bq\\x95\\n\\xed\\x81)\\xee:\\xf4\\xf5\\xfc\\xaa\\xcb.\\x93$\\xe6Io\\x11\\xd9\\xb9\\xc6\\xfe?\\x00\\x05CW);\\x17t\\xcdCR\\xd5.\\x96\\xd2\\xd1a\\x86%PX\\xaa\\x1c\"\\xe7\\x1d3\\xfaV\\xed\\xd6\\x9d\\xf6x\\x1eI\\xee\\xa5\\xd8\\x8aY\\x88\\n\\x0e1\\x9ct\\xac+M^\\xca\\xc8yvw\\x12F\\xacI\"0\\xdc\\x9f\\xae*i5X.\\x01\\xf3>\\xd1>z\\x87\\xc9\\x07\\xf0\\xcd'\n",
      "b'+\\x14`\\xcb}x\\xccv\\xdc\\xc8\\xab\\x92@\\x04d\\x0e\\xc3\\xa5:I\\xe6\\x10\\xacr\\xc9$\\x8e\\xc7q\\xdcI9\\xec+\\\\^\\xc7&\\xe4\\xb4\\xb3\\xd9+\\x1d\\xab\\x85\\x00\\x93\\xe8+WK\\xd2b\\xb2\\x1e|\\xf8\\x92\\xe8\\xf2I\\xe4\\'\\xb0\\xff\\x00\\x1a`\\xce~\\xd3D\\xbb\\xb8\\x01\\xe7?g\\x8c\\x8c\\x8d\\xdc\\xb1\\x1fO\\xf1\\xad8\\xb4\\x0b$\\x1f\\xbc\\xf3dn\\xe4\\xb6?AZw\\x17H\\xa4\\xe7\\x809\\'\\x8cc\\xa7\\\\\\xd5q{\\x13\\x10\\x03\\x02O\\x00\\x023\\xfc\\xea\\x892\\xb5?\\x0e\\xe9\\x93\\xb4\"X\\xe5\\x08\\xed\\xb1\\x8aHr\\t\\x1f)\\x07\\x9fL~5\\x0f\\xfc!:F\\x06\\xd7\\xbe\\x03\\xd3\\xcf\\x1f\\xfcMk\\xdfM\\xbe\\xc2g\\x8c\\xe1\\x95K\\x82F0T\\xe7\\x9f\\xc4U\\x9f9[\\xe6S\\x95<\\x83\\xed\\xda\\x93\\x0b\\x9c\\xeb\\xf8/L+\\x81-\\xf2\\xff\\x00\\xdbD?\\xfb%D|\\x19b\\x17j\\xde\\xde\\xaf\\xaf\\xfa\\xb3\\xff\\x00\\xb2\\xd7O\\xe6SX\\x83\\xde\\x95\\x87s\\x97>\\x0b\\xb6\\'\\x8dN\\xe8\\x0fC\\x1cg\\xfaSO\\x81\\xe1*\\xc3\\xfbRn}b\\\\\\xff\\x00:\\xe9\\xcb\\x01\\xf4\\xa7\\t={\\xf7\\xa2\\xc1s\\x94\\xff\\x00\\x84\\x161\\xcf\\xf6\\xa4\\xd8\\xff\\x00\\xaeC\\xff\\x00\\x8a\\xa0\\xf8\\x11\\x0fMVN}m\\xc7\\xff\\x00\\x15]n\\xf1\\xebF\\xfa\\\\\\x88|\\xec\\xe3\\xcf\\x81_\\xf8uQ\\xed\\xfe\\x8f\\xff\\x00\\xd9T3x\\x1a\\xf4\\xc6\\xc8\\x9a\\xa5\\xb1V\\xfe\\xf4L\\x08=A\\x1c\\x9ek\\xb7\\xdf\\xefK\\xbf\\xde\\x97\"\\x1f383\\xe0\\x8dL\\x00>\\xdfb\\xde\\xb9\\x12\\x0f\\xe9\\\\~\\xb9\\xa2]\\xdax\\x9e;&\\x96\\xdd\\xae<\\xb6p\\xcaN\\xccyL\\xddq\\x9c\\xe0\\x1a\\xf6\\xbf3\\xde\\xbc\\xcb\\xc6\\xe4\\xcb\\xe3Qj\\xbf+\\\\\\xda\\xed\\x12\\x8e\\xb1\\xe27\\xe8=\\xf1\\x8a|\\xa9\\x0b\\x98\\x83\\xc3\\xfa6\\xa1\\xa8y\\xd0Z\\xb4+-\\xbb\\x95\\x94\\xc8\\xe4\\x0c\\xee#\\x8e\\x0ey\\x15\\xa1m\\xe1mi\\xed\\xd1\\xa3\\x16l\\xbc\\x81\\xfb\\xf2\\x0f\\x04\\x83\\x9f\\x97\\xd4U\\xdf\\x87i\\xf6K\\xbb\\xf8\\x03\\x17\\xda\\xa1w\\x9e\\xad\\x86\\xeak\\xaf\\xd3\\x98\\xad\\xbb\\xae~\\xec\\xd2\\xff\\x00\\xe8\\xc6\\xff\\x00\\x1a9B\\xf68'\n",
      "b'c\\xe1\\x8f\\x10v\\x86\\xd7\\xe9\\xf6\\x91\\xfe\\x14\\'\\x86<@3\\xba\\x0b\\x7fl\\\\)\\xafC\\xf3)|\\xca\\\\\\xa89\\x8f<\\x7f\\x0e\\xeb\\xf8\\xc7\\xd9P\\xe3\\xfb\\xb7\\t\\xfe4\\xd3\\xe1\\xfd|\\xa9Se\\xf8y\\xf1\\x9f\\xfd\\x9a\\xbd\\x13\\xcc\\xa3\\xcc\\xa7\\xca\\x85s\\xc9\\xa5\\xf0\\x1e\\xbee-\\x14Q\"u\\x00\\xdc&G\\xb7\\xde\\xa8\\xcf\\x82|H\\x9f2\\xc5\\x92\\x0f\\xf0\\xce\\xa7\\xfa\\xd7\\xae\\x99\\x0f\\xa5!\\x90\\xfaP\\x17<\\x9a\\xef\\xc3\\x1e!\\x965_\\xb0\\xdc\\x02\\x06\\x0e\\xc6\\x04\\x1f\\xd7\\xd7\\x9a\\xcf\\xbf\\xd1<Cg\\xe55\\xcd\\xbd\\xd4k#\\x88\\x96G\\xce7\\x13\\xc0\\'\\xb6}O\\x15\\xeb\\xd7\\xba\\xb5\\xb5\\x9b*\\\\H\\xe1\\x98n\\n\\x91\\xb4\\x87\\x19\\xc6HPp=\\xcdW\\xfe\\xdf\\xd3\\xd8\\x15id\\xc3\\x0c\\x10\\xf6\\xd2\\x80GpF\\xdei\\xd8\\x0f7\\x87\\xc3\\x9e%\\x16\\xef\\x0c\\xdau\\xd0\\xc1\\xf9YA$\\x1c\\xf7\\xa8\\x87\\x87|M\\x18\\xcf\\xd8.\\x97\\xdc!?\\xd2\\xbd*\\xd3R\\x80o\\x16\\xd3\\t\\xedS\\x1b\\x97\\x07|\\x03\\xb1 \\x8c\\x94\\xe3\\xd3#\\xdct\\xd2\\x0e\\xac\\x03)\\x04\\x11\\x90F\\x08#\\xd4\\x1a\\x07\\xb1\\xe4\\xb6\\xdan\\xbf\\x04\\xe1\\xael\\xaf\\x1e1\\xd5|\\x86\\xc8\\xf7\\x07\\x1dj\\xe8\\x9a\\xe9\\x19\\x96K{\\x95`y\\x06\\x07\\x1cv=+\\xd3w\\xfa\\x1a\\x16R\\xbc\\x06#\\xf1\\xa4\\xe2\\x9f@\\xbd\\x8f5[\\xd9\\x87>T\\xd8\\xf7F\\xff\\x00\\nG\\xd4\\x9d>b\\x1d@\\xea\\x08#\\xf1\\xafM\\xf3\\xdf\\xfb\\xe7\\xf3\\xa64\\xceq\\x97?\\x99\\xa2\\xca\\xdb\\x05\\xdfs\\xcd\\xd7X\\x03\\xa3\\xfe\\xa2\\xae[x\\xaa{b<\\x99\\xf6\\x90x\\x01\\x87\\xf8\\xd7y\\xe7\\xb0\\xe3y\\xfc\\xcd\\x1eq=X\\x9akN\\x82\\xdf\\xa9\\xe6\\x97\\xd3h\\xfa\\xae\\xb0\\xda\\x95\\xf5\\xacO|\\n\\xeea#(8\\xc6\\t\\x00\\xfb\\nf\\xad\\x06\\x81\\xab\\xb4\\x1fk\\x80(\\x81\\x0cq\\x88\\xee\\x18\\x05\\\\\\xe7\\x00\\x12p3^\\x9a\\xec\\x8f\\xcb\\xaa9\\xe9\\x96Pj?.\\xd8\\x8c\\x1bxO\\xaecS\\xfd*\\xaf\\xe4+y\\x9eE\\'\\x86\\xbc0\\x18:\\xc51U\\xea\\xa2\\xe4\\x93\\x8fQ\\xc7_j\\xb3\\x17\\x87|.\\xc07\\x97+\\x828\\xcd\\xc6'\n",
      "b'G\\xd7\\xa5z\\xa0\\x86\\xd3\\xfe}-\\xbf\\xef\\xc2\\xff\\x00\\x85\\x1eE\\xa1\\xff\\x00\\x97;S\\xf5\\x81?\\xc2\\x8d;\\x06\\xbd\\xcf,_\\x0e\\xf8z\\xd4\\xf9\\xf6\\x82\\xe5f\\x8f,\\x87\\xed\\x19\\x19\\xc7\\x19\\x18\\xe4{Vm\\xec\\x868\\xafnc\\xd8M\\xbca\\xf688~p@\\xf4\\xeb^\\xbd\\xa8[Z\\xfd\\x82\\xe7\\x16v\\xa0\\x88\\xdf\\x04[\\xa0 \\xed8 \\xe2\\xbc\\xba\\x06\\xb66z\\xc5\\xac\\xf1\\xa3\\xcbsjb\\x81\\x99\\x01\\xd8\\xf9\\xe0\\xe4\\xf4\\xfa\\x8eh\\xd0=Y\\x9f\\xa2\\xd8\\xdb\\xf8\\x85\\x05\\xdc\\xd7\\x13Y\\xcf\\x03\\x00\\x82\\x15\\x0c\\x08=s\\x9f\\xa5n\\xea\\x1a26\\x97omm\\x7f*\\xaa\\x00eg@\\x08=\\xca\\xe3\\xb7=\\xea\\xc7\\xc2\\xed.\\x04\\x17\\xb0j\\x16\\xf6\\xf7\\x04\"\\xb0\\x12(p\\xbc\\xe0\\xe3#\\x8a\\xed\\xe1\\xd3t+\\x87\\x014\\xdb&b3\\x8f\\'\\x1cg\\xe9KA\\xb5\\xd9\\x9eA\\xa8\\xb8\\x8e_\"Q\\xfb\\x80CnD\\x05\\x9b\\x04tn\\xa3\\x8eq\\x9a\\xd0\\x9e\\xfbK\\xbb\\xd36!D\\xd5\\x839K\\x81\\x109\\x04\\x92\\x03\\x03\\x9e{dg\\x00\\xf4\\xefSk\\xd0G\\xfd\\x91,\\xd1\\xc6\\x12D\\xbf\\xf2\\x83\\xa0\\xf9\\x82\\x958\\x03\\xdb\\x8a\\xc0\\xba\\x11\\xdaK\\x02^\\xa0\\x0c\\xa4\\x8c\\xf2\\x08p\\xd8a\\x91\\x8e\\xfe\\xb9\\xac]\\xe3&+\\\\\\xad\\xa5hvW/\\x1e\\xfb\\xc9b\\x91\\x99\\x92@\\xd1\\x82\\xa8z\\x0e\\xa7\\xadX\\xd6\\xd5a\\xd2\\xe2\\xb6\\x8c[\\xe2\\x16+\\xba\\x08v\\x89\\x07B\\\\\\xe7\\x96\\xc8\\xc8\\xff\\x00\\xebV\\xd5\\x9d\\x8e\\x8c\\xb3Z\\xde\\\\_\\xfd\\x9e\\x19X\\xa0H\\x10\\x92\\x0e8\\xc8\\xc9\\xc7#\\x1e\\xf9\\xc8\\xaa>*\\x8a\\xd3\\xed3\\xacq\\xbc\\x10\\x99\\x9c)@\\xc00\\xe0\\xa9`I\\xe7\\xdcc\\xd7\\x90h\\xbd\\x904a\\xcd0\\x96GR\\n[\\x92\\x1c\\xa1l\\x91\\xed\\xcf\\xb8\\xe9X\\xa1\\x8b\\xb9\\xdb\\x80\\xb9\\'<\\x0e=>\\x95\\xad:f\\x02\\xc0\\x8c\\x02\\x03\\x06 \\x16\\x04pv\\xfe\\x1c\\xe0zU\\t\"M\\xad$a\\xd4\\x05\\x19\\n8\\x06\\xa1;\\x00\\xe9\\xee\\x9a\\xe2\\x08a\\x19\\x08\\x8cX\\x069\\xc1 g\\x07\\xd3\\x8e\\x94\\xd9\\x0026\\xec\\xb9\\xf5\\xc0\\xf4\\xa8\\x19Y\\n\\x128+'\n",
      "b'\\x91\\xdf=\\xa9\\xc9\"\\xed\\x1b\\xc0$Un\\x07\\xd8\\x03\\x07\\xb5;#\\xa0\\x15\\x1a\\xb1\\xa5\\xcf5\\xd2E\\xc9\\n\\x82:b\\x99\\xb4\\xd1\\xb8\\x9ar\\x9c\\x8c\\x11H\\x06\\xed\"\\xa1\\xbdRl\\xae\\x06:\\xc6\\xff\\x00\\xc8\\xd5\\xbam\\xc6\\r\\xb4\\xa3\\xd5\\x08\\xfd\\r4\\xc0\\xf9\\xfa\\xc3SM?K\\xba\\xb1\\x92\\x19\\x19\\xeff%\\x08\\xe0(\\xda:\\x8f\\xf8\\x0ek\\xd2| \\xd9\\xf0\\x04\\xa7\\xa9Y$ w$\\x10\\xd8\\xae\\x17\\xc2Q\\xaf\\xf67\\x88T\\xff\\x00\\xcf`rz\\x8c\\xc3/\\xf5\\x15\\xdf|=\\x84M\\xe0\\xeb\\xc4\\x1c\\xb9y\\x90\\x0fL\\xa8\\xe9\\xf9\\xd4\"\\xd9\\xd8C\\x1b\\x00ZF\\x0c\\xecI$t\\x03<\\x01\\xed^U\\xf1<\\x98<m\\xa5\\xcd\\xdb\\xca\\x8d\\x81\\xfa9\\xff\\x00\\n\\xf5kv-m\\x0b\\xff\\x00z5l\\xfe\\x00\\xd7\\x96|a\\xc2\\xeb:s\\xf4c\\x01\\xc0\\xff\\x00\\x81\\x1ar\\xf8E\\x0f\\x88\\xf5c\\xc9?Z\\xe6\\xfca\\xac\\\\\\xe9\\x9eD\\x16\\x92ymp\\xac\\x19\\x80\\x19\\xc7\\x1c\\x03\\xda\\xba$`\\xf1\\xa3\\x0e\\xea\\x0f\\xe9\\x9a\\xe6> i2\\xea\\x1adw0H\\x88\\xf6{\\xa5m\\xd9\\xc1L|\\xd8\\xe3\\xaf\\x19\\xadi4\\x9al\\xceI\\xb5drV\\x9a\\xa5\\xfc\\x17\\xd3\\xbcWR+8]\\xc79\\xdc\\x00 f\\xae\\xdax\\x8bV7s\\xab]e\\x17n\\x03F\\xad\\xda\\xb8\\xaf\\xed\\x14XD\\xc2p\\x15\\x9bhr\\t\\xe4g\\xb0\\x1c\\xd4\\x7foI\\xd8\\xb3\\xbd\\xe4\\xc5\\x86\\x19\"\\x8c\\xa2\\x9f\\xaf\\xaf\\xe2kI\\xd5\\x82[\\\\\\xa8R\\x93\\xd5\\xbb\\x1d=\\xdf\\x88\\xae^\\xeeT\\x9fP\\xb9.@\\n\\x91\\xb9\\x00\\x8cs\\xf2\\xa5Z\\x93\\xc6\\x97v\\x96P\\xad\\xbd\\x9d\\xad\\x9c\\xfbB\\x99\\xe6\\x1b\\xe4\\x90\\x01\\x8f\\xba:\\x9f\\xa95\\xc2\\x7fi\\\\\\x87h\\xad\\xacd\\x85\\x14\\xf0c\\xc6H\\xf7\\xf4\\xa9bk\\xd8\\xc9x\\xf4\\x99I\\'%\\xe4by\\xfa\\xe3\\x81\\\\\\xd3\\xab)l\\xactF\\x10\\x8e\\xee\\xe6\\xa6\\xa1\\xa8jz\\xd3\\x99.\\xa7\\x96Tb\\x19Z\\xe1\\xb8\\x03=\\xa3\\xfb\\xa0T+m\\x1a>\\xe7/#)\\xdc\\xa6B\\x08\\x1fA\\xd0\\x7f\\xfa\\xea\\x9b]jn\\xdb~\\xcd\\n\\x13\\xfd\\xf6\\'\\xfa'\n",
      "b'\\x8aCq\\xa8\\xa1]\\xf3\\xd8Fz\\x9er\\x7f\\x9dd\\xe3&l\\xa7\\x05\\xb1\\xae\\x11\\x8f\\xca\\x06\\xdc\\xf0\\xa0\\xe0\\x13\\xf8\\x7f\\x9e\\xf4\\x86\"\\xa4\\x82y\\x07\\x1f1\\xe4~\\x1f\\xe3\\xef\\xebYb\\xfa\\xf02\\xb4w\\xd6\\xb0\\xbe\\x00fP\\t\\xfc*3,\\xec\\xd9\\x97X\\x87\\x9e\\xa5c$\\xf6\\xff\\x00g\\xda\\x8eF\\x1e\\xd9\\x1b]~\\xa3\\xb8\\xe7\\xfc\\xff\\x00\\x9fZ2\\xb8\\xc6A\\xe4c\\xe9\\xdb\\x1f\\x97\\xf9\\xed\\x82\\xd2\\xa88mbR\\x07\\xf7P\\x8fOa\\xe9Q4\\xf6\\xe0|\\xda\\xa5\\xe3\\x1e\\xc0q\\xc7\\xe7\\xedG\\xb3b\\xf6\\xcb\\xb1\\xd0\\x8c\\xaeF3\\x9e\\xd9\\xce}?\\xcf\\xff\\x00^\\x9f\\x14Q;\\x92mR|\\x0c\\xe2A\\xc0\\xed\\x9c\\xfe?\\xcb\\xde\\xb9/:\\xc3?\\xbc\\xb8\\xba\\x7f\\xab\\x8c\\x7f\\xe8T\\xe6\\xb8\\xd1p\\x7fs3zfA\\xfe\\x06\\x9f\\xb3\\x0fo\\xe4tr\\xc9\\x10a\\x96\\xb7NKc c\\xe9\\xcf\\x1f\\xe7\\xd2\\xa0{\\xabD\\x1f=\\xccX=F\\xe0G\\xb9#\\xfc\\xf7\\xf6\\xac\\x13\\x7f\\xa4\\xa2\\x95KR\\xc3\\xb6\\xe7\\xce>\\x9f-*k:|g)\\xa7\\xc4\\xf8\\xe9\\xb8\\x92(\\xf6bu\\x9fcf\\xc2\\xebL\\xfbz\\x17\\xbc1\\xa3\\x1e|\\x9c\\x92\\x0e0\\t\\x189\\xf5\\xc0\\xc5lj\\xde\"\\x84_\\x14\\xb7\\x02bT\\x06a\\x9c)\\x07\\xd7\\xf1\\xae8\\xeba\\x9bt61.:\\x84\\x84\\x9e?:\\x98\\xcb=\\xb5\\xec0M\\x10Aq\\x18\\x9b\\xe5\\xe9\\xb4\\x82Fy\\xf6\\xa6\\xa2\\x91\\x0en\\xe9\\xa3\\xa9\\x9a\\xf2\\xc2\\xe4\\x07\\x98\\x85y\\x10n\\x05J\\x95=\\xc0lsO\\xd2Z#\\x7fo\\xf6k\\xa7)\\xbce\\x19\\x83\\x03\\xc7n\\xe3\\xads\\xe0\\x8e\\xc4~\\x15oK`\\xba\\x9d\\xa3g\\xee\\xc8\\xbc\\x9e\\xdc\\xd2\\xe4\\xb0\\xe5R\\xea\\xcd\\x1dL\\xc0\\xef?Z\\x840\\xde\\xe3<\\xe0\\x7fZ\\x9eW\\x0c\\xed\\xb4\\xe7\\x9e\\xc0\\x9a\\xab\\x83\\xe7\\xb1\\xdaH*;{\\xd6\\xc7*\\x11\\x81\\xebSXZ\\x9b\\x99\\xb6\\x16\\t\\x1a\\x82\\xf2HzF\\x83\\x92\\xc7\\xfc\\xf5\\xa6`\\x90~S\\xc7\\xadl\\xcdba\\xb4k6a\\x1e\\xcd\\x93_?e\\x19\\x04D~\\x83\\x93\\xef\\xf4\\xa5\\xb9H\\xaa\\xb0\\xc5~\\xeb4\\xa9\\xe5'\n",
      "b'\\xc1\\x9f&\\xda\\x12pB\\xf2G\\xd4\\x9eI\\xab\\xf6:\\x0c^r\\x03\\x10 \\xee^Fy\\xc85\\x17\\x83\\xa1}kP\\xba\\xd4e\\xc0\\x8a\\x05X\\xe0\\x8dA\\xd87\\x02Y\\xd5\\xb1\\xf3d\\x003\\xf5\\xae\\xd2+TI\\x94\\x97\\xc9Y2\\x07\\xd5\\x08\\xaa\\xd2\\xda\\x15fgA\\xa1@\\x9eY\\x11 \\xf9\\xb0x\\x1e\\x86\\xa6\\xbd\\x86;H\\x02\\xc4\\xa0\\xca\\xe7j\\x009&\\xb4o$H\\xe2\\xdc\\xcd\\xb5T\\x86$\\x9cw\\xcdAm\\t\\xdd\\xf6\\xa9\\xd7\\x12\\x91\\xfb\\xb5?\\xc0\\xbf\\xe2jd\\xecREm:\\xc5,P\\xbb\\xfc\\xd7\\r\\x9c\\x9e\\xbbGp?\\xc6\\xab\\xea\\xf7\\xf1YZM<\\xf2\\x04\\x86$.\\xeez(\\x03$\\xd5\\xbb\\x991\\x93^7\\xf1O\\xc4\\xd1\\xdc_&\\x91\\x14\\xdf\\xb8\\x8a@\\xd7[\\x0f,\\xf9\\xc8\\\\\\xfa\\x0e\\xa7\\xdf\\x1e\\x951W\\xd5\\x93&h\\xdf|K\\xd0\\xa3\\x9dRA|\\x8e\\xa4\\x16S\\x00<p\\x7f\\xbdL\\x93\\xe2\\x7f\\x86\\xdd\\n\\x9f\\xb6\\xf28?g\\x1c\\x7f\\xe3\\xd5\\xe2\\xba\\xc3\\x06\\xd4&eb\\xe3q\\xc31\\xc9#\\xa0\\xe7\\xe9P\\xb0\\x1fg\\r\\x9eN*\\xae-\\xcfp\\xff\\x00\\x85\\x9f\\xe1\\xc6\\xb7x\\xe4\\x92\\xf7,\\n\\xe7\\xec\\xfd\\x8e}\\xfd\\xe9\\xd6\\xbf\\x13\\xfc:\\x96\\xd0\\xa3\\xcdx\\x1dcUo\\xf4s\\x8c\\x80\\x01\\xef^\\x06\\xcd\\xcd+\\x13\\x93Hv>\\x84\\x8f\\xe2g\\x86\\x9c\\x81\\xf6\\xbb\\x80OM\\xd6\\xed\\xfe\\x15b?\\x88>\\x1e\\x938\\xbeq\\x8e\\xb9\\x81\\xf8\\xfd+\\xe7kv\"d\\xfa\\xd6\\xac \\x83\\x9c\\x8c\\xb1\\xe9\\xe8)6&{\\xc0\\xf1\\xe7\\x87\\x88\\xe7S\\x00\\x1e\\xe6\\x19?\\xf8\\x9a?\\xe1<\\xf0\\xe2\\xf0uX\\x87~Q\\xc7\\xfe\\xcb^\\x1e\\xcag\\x0eQ\\xb9^FGn\\xdcVu\\xf0eRq\\x9cc\\'\\xf14&$}\\x12\\x9e8\\xf0\\xf3\\xfd\\xddV\\xdc\\x9f\\xa3\\x7f\\x85H\\xbe2\\xd0\\t\\xe3V\\xb5\\xfcI\\x1f\\xd2\\xber\\xb2|o\\xcf<\\x0cU\\xf8X;\\x00\\xc3\\'\\xd6\\x8b\\x83\\xd0\\xfa\\t|[\\xa1\\x1e\\x9a\\xbd\\x97\\xe3 \\x14\\xf1\\xe2\\xad\\x10\\xf4\\xd5\\xecO\\xfd\\xb6\\x15\\xf3\\xf3BU\\xc8C\\x95=3\\xd6\\xb3\\xae|\\xf5\\x91\\xb6\\xe4&{t\\xaa'\n",
      "b\"\\x1d\\xcf\\xa5W\\xc4ZK`\\xae\\xa7dwt\\xfd\\xfa\\xf3\\xf4\\xe6\\xb8\\xcf\\x12_Z\\\\x\\xcbO\\xb9\\x86\\xe6\\x17\\x84F\\x15\\x9d\\x1c\\x15\\x07\\x0f\\xc19\\xe3\\xa8\\xaf5\\x9alZ$\\xc0\\x96p\\xa8\\xa0`\\xe0`\\x0e*}\\x1a\\xfa+{\\x19\\x8c\\xd6\\xde~\\xe9\\x08\\x03\\x80\\x01\\xc7^\\x94\\xa5\\xa0E\\x9e\\xa7\\xe1\\x1b\\xe8!\\xd4.\\xe5\\x96x\\x927\\xce\\x1d\\xdc\\x00NA\\xc09\\xae\\xa2\\xd7T\\xb3\\x1ew\\xfa]\\xb6\\x0c\\xacG\\xef\\x97\\x9e\\x01\\xe3\\x9fz\\xf0}U\\x84\\x9e\\x0e\\\\tY\\x15\\x888\\xeb\\xc8\\xae~\\x15\\xde\\x96\\xa5\\xb1\\x83\\x1b\\x0c\\xf1\\xfd\\xe3\\xfe4\\x903\\xea$\\xd4-\\x9c\\xe1.ac\\xdb\\x12\\x03\\xfdjO\\xb5'\\x1f\\xbcO\\xfb\\xe8W\\xcc\\x92L\\x91\\xc2\\xe24\\xdb\\x90\\x02\\xe0g\\xf1&\\xa9\\xad\\xc9T g\\r\\xd7<\\xfeUBG\\xd5\\x1ez\\x9f\\xbas\\xf49\\xa5\\x13z\\x03_%M;\\x87$1\\x03\\xd8\\xd4\\xc2\\xeaP\\xa3l\\x92\\x0f\\xa3\\x1aC\\xb1\\xf5y\\x98\\xfa\\x1f\\xc8\\xd1\\xe7{\\x1f\\xc8\\xd7\\xc9\\x82\\xfa\\xe9I\\x0bs0\\x19\\xed#\\x0f\\xebS.\\xab~\\xa3\\xe5\\xbd\\xba\\x18\\xf4\\x9d\\x87\\xf5\\xa0,}G\\x1c\\xc55YH\\xced\\x853\\xd7\\xa0f\\xff\\x00\\xe2\\xaa\\xef\\x9e}O\\xeb_)\\xa6\\xb3\\xa8\\x80Xj\\x17\\xa1\\xbag\\xed\\r\\x9czg5b?\\x10\\xea\\xf1\\x90\\xc9\\xa9\\xdf\\x01\\xc7\\xfc\\xbd?\\xf8\\xd03\\xe9k\\xe9\\xc2\\xde\\xd8K\\x9f\\x98\\xc8\\xd1\\x13\\xdfiB\\xd8\\xff\\x00\\xbe\\x95MFI\\xb4r\\xd6\\xc3t\\x07%\\xa1\\x1dA\\xceIO\\xf0\\xe8{`\\xf5\\xf9\\xcd\\xbcU\\xae\\x16\\x1f\\xf16\\xbe;N\\xe5\\xcc\\xecpq\\xd4s\\xefJ|c\\xe2\\x1e\\x9f\\xdb\\x17\\xdf\\xf7\\xf0\\xd1`>\\x95\\x86\\xee9\\xa3\\x0f\\x1b\\x06F\\xe8E8\\xcc\\xa4u\\x15\\xf3D~/\\xf1\\x04n\\xec5{\\xc0\\\\\\xe5\\x88~I\\xc7S\\xc5H|k\\xe21\\xff\\x001{\\xc3\\xef\\xb8\\x7f\\x85\\x02>\\x8e\\xf3\\x86x9\\xa7-\\xc0\\xe8M|\\xf9\\xa4\\xf8\\xbb^\\xb8\\xb8\\xc4\\xda\\xbd\\xe1M\\xc0\\x11\\xb8\\x0e3\\xf4\\xa8n<e\\xe2(ne\\x8cj\\xf7%C\\x103\\xb4\\xf7\\xfaQ`>\\x8a3\\x8c\"\n",
      "b'\\xf5\\x14\\x9fh\\x1e\\xb5\\xe2\\xdaW\\x89\\xb5\\xa9\\xec\\xd1\\xe6\\xd4\\xe5g<\\x9f\\x95x\\x1d\\xbbTZ\\xbf\\x8b\\xf5\\xcbG\\x8cE\\xa8\\x1c0\\xe4\\x18\\xd0\\xff\\x00J|\\xba\\\\W=\\xc3\\xed\\x03\\xd6\\x90\\\\.z\\x8a\\xf09<w\\xe2\\x15\\\\\\xad\\xf2ez\\xfe\\xe19\\xfd*\\xc6\\x9f\\xe3\\xbdjM\\xe6\\xe2\\xf17\\x0f\\xba\\x04\\x083\\xfaQa\\xdc\\xf7_==i\\x0c\\xc0s\\xba\\xbc=\\xbco\\xaf\\xe0\\x15\\xb9\\x88\\x8c\\xf0\\x0c\\nO\\xf2\\xa8\\x8f\\x8f\\xbcC\\xb5\\x88\\x9a\\x13\\xb7\\xa80/J@{\\x85\\xe4\\xd9\\xb4\\x9cn\\xceca\\x8f\\xc0\\xd7\\x9b\\xe9p\\xc12\\xeaiq\\n?\\xfa\\x13\\xb2\\x17\\x19\\xd8\\xd8\\xe0\\x83\\xd8\\xd7;m\\xe3\\xddv{\\x84\\x8aG\\xb6\\xf2$\\xc0\\'\\xc8\\x19\\xc1\\xe3\\xd6\\xb5%\\xbck\\x06\\x91\\x94\\xe0:yL0\\x0eA\\xea1I\\x8d\\x1a\\x1f\\x07gx\\xde\\xf4L\\xee\\xcc\\xd1\\x8c\\x16$\\x9cdW\\xa6\\x1b\\x900s\\xf4\\xaf\\x15\\xd3\\xb5f\\xd2\\xd5\\xe6\\xd2Q\\x11\\xce\\x15\\xbc\\xc5$c\\xa9\\xe3>\\xd5,\\x1e8\\xd5\\xe4c\\x18\\x8e\\xd9\\x98}\\xd2#8\\x1fQ\\x9a\\x16\\xd7\\x1b\\xd4\\xda\\xd4\\xae1eqnW\\nn\\xc4\\xdei8\\x00\\x8d\\xc0/\\xd4\\xe7\\xd6\\xb7\\xbcj\\xfak\\xda\\xd9\\x9b\\xbbpL\\xd2\\x07r\\xb8]\\xc1@\\xc8c\\x8f~\\xd5\\xc3j\\x17\\xd35\\xa8\\xb4\\x93a\\x8eiVi\\x0e\\x0eC\\x03\\x91\\x83\\x9e\\x9c\\x9e\\xb5b\\xf3\\xc4\\xcfuh\\xf6\\xf7\\xf0\\xdb\\xca\\x89\\xc2}\\xe0A\\xc6:\\x83JL\\x97\\xa1\\x9fzA\\x8ex\\xedT\\xc9i\\x92bi\\t\\x0c\\xa0`\\x12\\x07b\\x07\\x1e\\xfdk\\x1d\\xaf\\xae\\xd2\"\\xa9pR2pb\\xdeH~1\\x9ct\\xe8q\\x93\\xce)\\xd7w\\x8e\\x00\\x89\\xa3A\\xc62\\xa4\\xe3\\x1c`TQKn\\x91\\x05\\x91\\x11\\xe6n\\xa4\\xf4\\x03\\xb79\\xac\\x13\\xd4\\x04\\x9d\\x9e\\x12\"$\\xaad0 \\x9c{c\\xf2\\xa2;\\xa9 \\x91\\x89!Y\\x9b\\xe6\\n~\\x9c\\x11\\xe9\\xf8S\\x85\\xfc\\xb0[I\\n\\xa2\\x08e# \\x80\\xe4\\x0ex\\x04\\x8e>\\xa2\\xb3\\xa71\\xbbnV\\xe4\\xe4\\x9c\\xf5\\xa7`,\\\\G\\xb7\\x12G\"\\x15\\xc9`;\\xa8\\xaaAwd\\x9c\\xf3'\n",
      "b'\\xe9\\x81N\\x89\\x95X\\x89\\x14\\x95#\\x00R\\xe5T\\x90[\\x1e\\x80\\x1e\\xd4\\xd0\\x1fa\\x85\\xa5\\xdb\\xebP\\x1b\\x80\\x91\\x19%\\x04*\\xae\\xe2B\\x92q\\x8c\\xf4\\xc7\\xf2\\xa7\\x89\\x83`\\xaa\\xb9\\xcf\\xfb$WE\\xcc\\xc9qGz\\x81\\xa6\\xc09\\xc2\\x81\\xd7 \\x9f\\xe9H&C\\x8f\\x9d\\xce\\x7f\\xba\\x87\\xfc)\\x85\\xcbj\\xd8\\x07\\xbdAq2G\\x0c\\xaf+\\x85EBI\\xeb\\x81\\x8ex\\xa1Y\\x0f\\xcb\\xb6F>\\xac\\xad\\x8f\\xe5M\\x9afH%1[J\\xee\\xaav\\xa0\\xc0,q\\xc0\\x074&\\x0c\\xf1?\\r\\xde\\xd9\\xd9C\\xad%\\xe4\\xe9\\x13O\",A\\xb3\\xf3\\x9f.U8\\xe3\\xd5\\x94~5\\xdd\\xfc(\\xbaH\\xf4;\\xb4\\xbb\\x968\\xff\\x00\\xd2\\x88S#\\x81\\x90UO\\x1c\\xd7\\x97=\\xaf\\xda\\xb4\\x9f\\x12K<{\\xa6\\xb2\\x96\\xdd\\xa1#\\x8f,4\\x85[\\xeb\\xdb\\xadgL\\xbbaf\\x0b\\xbd\\x94\\xe5T\\xf4\\'\\xebYu\\xb9\\xb7K\\x1e\\xfa\\xfe*\\xd24\\xad*\\x11{}\\x12\\xcf\\x1d\\xb2I\\xe4\\x83\\x97a\\x8c\\x02\\xa3\\xbeq\\xeb\\\\\\'\\xc6\\x02\\xb7\\x17Z%\\xcagl\\xb6\\xec\\xcb\\x91\\x83\\x82A\\x19\\xfc\\rp~%\\x9av\\x9fE\\xf3\\xd3d\\x7f\\xd9\\x8a\\xb1\\x9eF\\xe0\\x1d\\x80<\\x8fn\\xd5\\xd9x\\xef\\xcd\\xb8\\xd0|/q4\\x912\\xbd\\xb0\\n\\xa8\\xa4\\x15\\xf9S\\xa9\\'\\x9f\\xc3\\x14\\xf9\\xbay\\x02\\x8fS\\xd7t\\xf6\\xdf\\xa7Y\\xb7\\xf7\\xa1Bq\\xfe\\xe85\\xcc\\xf8\\xacx\\xa6[\\x82\\x9aD\\x08-\\x06p\\xf1\\xc8\\x038 d0\\'\\xd7=+c\\xc3\\x13\\xe7B\\xd3D\\xb2oo\\xb3!\\xde\\x17\\x00\\x8cp1\\x9e\\xb8\\x15\\xae]1\\xcb\\x01\\xf8\\xd5\\xc5\\xde&}O\\x06\\xd5m\\xb5-8\\xb4s\\xe9\\xee\\x97\\x85\\xf7\\x18\\xc2\\x06$\\x10N\\xe1\\xd7\\xbfz\\xa4!\\xf1\\x0c\\xcb\\xb6+[\\x84S\\xd0\\xe4\\'\\xf5\\x15\\xea>-\\xf3\\xce\\xba$\\xb4Tr\\x96{\\x9b8\\xc0@\\xc7\\'\\xadr2\\xeb\\xc7\\x9c\\\\\\x0f\\xf8\\x04\\x7f\\xd7\\x152v6\\xa6\\xb9\\x95\\xcel\\xf8{\\xc4\\x12\\x80\\xee\\xc8\\xb9\\xe0\\xef\\x98\\x93\\xfdiG\\x84\\xf5\\x87\\x1f=\\xccJ=0O\\xf4\\xad\\xd8\\xb5\\t\\xefg\\x8a\\x08\\xe6\\xb8\\x0c\\xec'\n",
      "b'\\x14\\x12p\\x01\\xe9\\xcf5\\x956\\xa3)$\\x15\\x99\\xb0pw9\\xa8R]\\xcd9-\\xd0\\x80x.\\xfc\\xfd\\xfb\\xe4\\x1e\\xb8C\\xfe5<~\\x07\\x98\\x81\\xbfP\\x90\\xe7\\xfb\\xab\\xc7\\xf3\\xa8\\xe2\\xbcyg\\x8d\\x0c[U\\x8e\\t-\\x9f\\xe9^\\x95\\xa7$f\\xc2\\xd8\\xeeO\\xf5K\\x9eG\\xa0\\xa7{\\xec\\xc2\\xc9t<\\xf4\\xf8\\x15O[\\xbb\\x83\\xf4\\xc0\\x15\\n\\xf8&\\xd2\\xdd\\xe47\\xd7Rl\\xc8\\xdas\\x81\\xc8\\xc8\\x1d:\\xd7\\xa8yi\\xea?:\\xe3<s\\xacZX\\xc6\\xd0+\\x89n\\x99\\x94\\x84C\\x9d\\xbc\\x1e\\xbe\\x87\\x9e\\x9di\\xa5\\xdcN\\xc8\\xe7\\xb5\\r\\x1b\\xc3\\xda}\\xb3M#\\xcb1\\x18\\x01\\x11\\xceX\\xfbt\\xaa \\xf8xm)\\xa7\\xdc\\xba\\x93\\xc9g#\\xfa\\xd5\\xef\\x0c\\xe8\\x97:\\xa5\\xd4w\\xba\\x9ce\\xed\\x11\\xb6\\xaaHp[\\x83\\xc9\\xe3\\x91\\xd3\\x8a\\xc8\\xf1\\x1d\\xac:~\\xbfwi\\x19\\xf2\\xf0\\xc2H\\xe1\\n\\xc7r\\xb0$\\x058\\xe7\\xa61J\\xd7\\xd8\\x9ecN9|<\\x1b\\x9d.L\\x0e\\x84\\xe0\\xfec5a/4\\x08\\xd7p\\xd2\\xce\\xee\\xe0\\xaa\\xff\\x00<\\xd79i\\x0cW\\x96\\x13]C\"\\x05\\x8bnC\\xa3\\x03\\x96\\x03\\x8e\\xb4\\xd0\\xa8\\xc0\\x0c\\x0c\\xf68jZ\\x8dH\\xd3\\xf16\\xb5aog\\x0bi\\xb0\\xfd\\x9aq(#t\\x11\\xb8\\x90`\\x82\\xa4s\\xc79\\xcf\\xb5excZ\\xbd\\x9fW\\x86\\xdc\\xdc\\x97\\x89\\x98\\xb3+F\\xa3i\\xd8N\\xd0q\\xca\\xf7\\xc5Ap\\x80:\\xaf\\x91$\\x91\\x1c\\xb3<`\\xe60\\x06s\\x8a\\xca\\xb0\\xd5\\xed\\xed.\\x99\\xe0B\\xce\\xa4\\x88\\x9c\\xb3\\x02\\x06\\x08\\x00\\x0cry\\xee*\\xa2D\\x9bg\\xa6\\x8dz%_-\\xad\\xc6\\xf06\\x96\\xea\\t\\xe8O\\x03\\x8au\\xc5\\x9d\\xbe\\xa7\\xa8ZJ\\x8c\\x92\\xa3[\\x04`\\xbcm\\xc1<\\x11\\x9e:\\xd7\\x15k+\\xca\\x9ed\\xaa\\x11\\xdb,Af\\x15r\\xd2\\xeaKY\\x92{y\\x02H\\xa7!\\x81c\\xfaw\\x14\\x9b\\xd4\\xae\\xc7[s\\xe1X\\x15\\xcf\\x96\\x84/\\xa6I\\xedM\\xb1\\xf0\\xea[\\xdf\\xdbK\\xb4\\xfc\\x92\\xab~D\\x1a\\xb1\\xa3x\\xc2\\x19>]c\\x11\\xc9\\xc2\\x87\\x85IC\\xee\\xc3\\xb1\\xe3\\xb5v\\x02'\n",
      "b'%\\x921$`:\\x11\\x90\\xca\\xc0\\x82=\\x8d\\x1b\\x97te\\xcb\\x8f1\\xbe\\xa6\\xab\\x90<\\xd3\\xeb\\xb7\\xfa\\xd5\\xa9\\x00\\xf3\\x1b\\xebU\\x88&u\\x03\\x92F\\x00\\x1dz\\xd6\\xc7\"4\\xf4H\\x92\\xdd.5[\\x94\\r\\x05\\x98\\x05\\x15\\xbaI1\\xfb\\xa3\\xe8>\\xf1\\xfa{\\xd7?\\xa8\\xf8\\x9e\\xd4\\xd8Oc#\\xc8\\xc2\\xe4\\x9f>T@ZL\\xe7p\\xc9<\\xe78\\xcf\\xa6k\\xbe\\xd4t\\xcb\\xc8t\\xdb+M:\\xde;\\xaf)\\x0bHD\\x8a6\\xccO\\xceH\\'\\x93\\x80\\x14\\x11\\xef\\\\.\\xab\\xe0-\\x7fS\\xd4&\\xb8\\x10\\xdb\\xc4\\xac~UyI\\xda?\\x00k>dj\\x93*\\'\\x8c\\xce\\x9b\\xae\\\\\\x18#&\\xceh\\x83*\\xc5\\x80\\xa8p\\x00\\x00c\\x00px\\xf7\\xab\\xf1\\xf8\\xc7Q\\x9c\\x0b\\x8b{\\x1b\\xc6\\x8c\\x10\\xd9\\xc8\\xc1\\xe0\\x8fOz\\x82?\\x85Z\\xceA\\x92{U\\x1d\\xc2\\xb3\\x13\\xfc\\x85v\\x1aw\\x85\\xd6\\xc96\\xeaR\\x87\\xb7 \\x03\\x04)\\x84\\xc0\\xec\\xcd\\xb8\\x9c}\\x00\\xfa\\xd2\\xe6CI\\xf5,xb{\\xbdV\\xca=J\\xf6/.&$\\xc5\\x14\\x84\\xe5\\xc8<1\\xe7\\xee\\xe7\\xf3\\xfau\\xd4\\x9e\\xe6\\\\\\x9f2<\\xe7\\xa9\\x8c\\xe4~\\\\\\x1f\\xd2\\xa4\\x9e`F\\x14\\x00\\xa0\\x00\\x00\\xc0\\x00c\\x80\\x07\\xa6*\\x9c\\x92q@\\x18\\x1e0\\xd6\\xa6\\xd3\\xf4i\\xa4\\xd3`\\x96\\xe6\\xf5\\xbfw\\x12G\\x1b9F?\\xc4\\xc3\\x1c\\x01\\xd7\\x9e\\xbd+\\xc0\\xa7\\xd2u\\x99%.\\xdau\\xfb\\xc8rK\\x1bw\\xc9$\\x9c\\x93\\xc7\\'\\x9c\\xd7\\xd1W*\\x92\\xbe\\xe6\\xc8e\\xe02\\x9c\\x11\\xf45\\x04\\x17\\x0c\\xf0\\x82\\xe7-\\xc8\\'\\xd7\\x04\\x8c\\xfe\\x94\\xee\\xc8>k\\xd44mY\\xa5\\r&\\x9d|2\\x02\\x82m\\xd8s\\xce\\x07Jh\\xf0\\xee\\xb4\\xd1\\x85\\x1a>\\xa2s\\xd0\\xfd\\x99\\xff\\x00\\xc2\\xbe\\x8d\\xd5[0\\xc2O!gB\\x7f<\\x7fZ\\x92\\xc5eE\\x90\\xcf3\\xc9\\xb9\\xc9P\\xc4\\x1d\\xa3<\\x01\\xc0\\xa0g\\xcdM\\xe1\\xcdg-\\x8d*\\xf8\\xed\\xc0`-\\xdc\\x90q\\x9ex\\xa8\\x9bC\\xd5rH\\xd3/\\xb1\\xd0\\xff\\x00\\xa3\\xbf^\\x87\\xb5}%\\xa7H~\\xdb\\xa8d\\xf3\\xbdq\\xf4\\xc1\\xa9\\xacf$\\\\\\xf2'\n",
      "b\"x\\xb8q\\xd7\\xdf?\\xd6\\x80>gM\\x17T\\x0c\\x18\\xe9\\x97\\xc0g\\xfe}\\x9f\\xfc+E4\\xdb\\xff\\x00\\x94=\\x95\\xe2\\x8c\\x8c\\x93n\\xfc\\x0f\\xca\\xbe\\x91\\xf3O\\xf7\\x8f\\xe6i\\xa6S\\x9f\\xbe\\x7f3@\\x1e\\x044\\xb0\\x17\\xe5\\x17\\x8c\\xc3-\\x83j\\xc9\\xbb\\x8e\\x01=\\xbe\\x95\\x87{mv\\xa8\\xf1\\x9bi\\xb0H$\\xf9ly\\xfa\\xe2\\xbe\\x94\\xbb\\xb8\\x95 v\\x87/ \\xc0\\nI\\xc7P?\\xaek>[\\xfb\\xd5~!\\xdc\\xaa\\xc4\\x13\\x86\\x04\\x80\\xc0z\\xf7\\x079\\xa1 Q>s\\xb5\\x86To\\x9a)\\x00#\\xba\\x91W\\xe0U]\\xdej\\x9eG\\x1d\\xb9\\xafy\\xd2\\xaf'\\x9e\\x10'\\x1f(A\\x879\\xcb\\x92\\x01\\xcf\\xb8\\xe4\\xfeUp\\xb0\\xf6\\xc5\\r0q>|\\xd6-\\x97\\xfb5\\xde9\\x8b2\\xe1\\x80\\xdd\\xdb<\\xd6\\r\\x9c\\xb2.\\xe5Wu=x$W\\xd3\\xb3\\xc7\\x05\\xcc\\x12A<h\\xf1J\\x85\\x1dH\\xe1\\x81\\x18#\\xf5\\xae\\x1eO\\x86\\x1a\\x1a\\xc2\\xdeM\\xc5\\xf2H\\t`\\xe5\\xd5\\xb8\\xc1\\xf9q\\x8e\\x9e\\xfdi\\xb6%\\xa1\\xca\\xf8*Y_B\\xd6\\xb7H\\xe7 g$\\x9c\\xfc\\xa7\\xadcZ\\xe3\\xfb2|v`O\\xd7\\x15\\xe8>\\x04\\xf0\\xca\\xdb-\\xc3\\xb5\\xe3\\x98\\xdaUo, \\xc3\\x81\\xc8\\xc9\\xe7\\x8e\\xd8\\x15?\\x8d\\x16\\x085\\xdd)#\\x82$3\\xe1F\\xd4\\x00\\x06\\xde\\x00$c\\xa741%\\xa9\\xc2L\\xc6o\\n\\xbd\\xbcc-\\xf2\\xb7Q\\xcf\\xcd\\xd2\\xb0BIi\\r\\xaa\\xce\\x9bX3\\x80\\x0e3\\x82\\x17\\xff\\x00\\xaf]\\x82\\xd9\\xbcR\\xde[\\xc9\\xb1\\xe5\\x86yQ\\x8a\\xf4\\xc8'\\xa7\\xb5t\\xdf\\x0f\\xf4\\xf8.\\xc5\\xe9\\xd4\\xed-\\xee6\\xec\\xf2\\xfc\\xd8\\xc3m\\x1c\\xf4\\xc8\\xe3\\xf0\\xa8\\xd9\\x9a=U\\xcf&\\x9eb\\xc4\\x94\\x1b@\\xc7\\xe7Q\\xcc\\xca\\xe00\\xfb\\xc7\\xa8\\xc6\\x005\\xf4o\\xf6\\x1e\\x8e\\xc7\\x9d.\\xc4\\xff\\x00\\xdb\\xba\\xff\\x00\\x85)\\xf0\\xfe\\x88\\xdc\\x1d&\\xc0\\x8f\\xfa\\xe0\\xbf\\xe1TN\\x87\\xcc\\xd3)-S\\xc4\\xa0\\xa0\\xcf\\\\W\\xd1rxcAnN\\x8d\\xa7\\x93\\xff\\x00\\\\\\x17\\xfc)\\x17\\xc2\\xda\\x07\\xfd\\x01\\xacG\\xd2\\x10(\\x03\\xe7\\x14@f!\\xb8\\\\\\xf5\\xab\"\n",
      "b'\\x17\\x10D\\x83(\\xdb\\xb8\\xc8\\xe75\\xf4\\x11\\xf0\\x9f\\x87A\\xcf\\xf6-\\x8f\\xfd\\xf1\\xff\\x00\\xd7\\xa67\\x84|:\\xdf\\xf3\\x06\\xb3\\xcf\\xb2\\x91\\xfdh\\x0b\\x9e\\x07\\xa9\\xc1o\\x17\\x95\\xf6@\\xe1Z0\\xcc\\x1d\\x83\\x1d\\xdd\\xf0q\\xd35Ybw@\\xca8\\xfa\\x8a\\xf7\\x89|\\x1b\\xa0Gsn\\x0e\\x97m\\xb6IJ\\x907\\x0e<\\xb2@<\\xf3\\xc8\\xcdN\\xde\\x05\\xf0\\xcb\\x7f\\xcc*!\\xf4\\x92A\\xff\\x00\\xb3R\\x19\\xf3\\xf9R\\x1fi\\x1c\\xe3\\x1f\\xa5G\\x8c\\xf4\\xeb^\\xef\\xa9x\\x1b\\xc3PYM$v\\x1b\\x1d\\x10\\xb2\\x9f>N\\xa0g\\xfb\\xde\\x82\\xa4o\\x87\\xfe\\x18\\x0cq\\xa7\\xb8\\xe7\\x8f\\xf4\\x89?\\xf8\\xaab<\\x14\\xf5\\xe4sH\\x07\\x1c\\x91\\x8a\\xf7\\xa3\\xe0\\x0f\\rg\\xfe<d\\xfa}\\xa2O\\xf1\\xa6\\x9f\\x87\\xbe\\x1a\\xff\\x00\\x9f\\x19?\\xf0!\\xff\\x00\\xc6\\x80<oA\\x91\\xa1\\x9d\\x8a`\\xe7\\x18$g\\xbd;_[o\\xb6\\x13l\\xe5\\x98\\x92d\\x07\\xb3g\\x9cq^\\xc4<\\x03\\xe1\\xe4\\xc9\\x8a\\xdah\\xd8\\x8e\\x19n\\x18\\x91\\xef\\x82\\x7f\\x9dT\\xff\\x00\\x84\\x13@\\x92r\\xb76\\xf7\\x0b9\\xc9\\x05n\\x1b\\x0f\\xdc\\x95\\xff\\x00\\x0e\\xdfNh\\x0b\\x1c&\\x82\\xa7\\xfb=\\t\\x1d@\\xc1\\xfd*\\xb6\\xb7is<\\xbb\\xa2\\x8d\\xda0\\xa3,A\\x00u\\xef^\\xa3\\x07\\x82\\xf4\\x88\"\\xf2\\xe1\\xfbR&s\\x8f;8\\xfaqN>\\x14\\xd3\\xc4{D\\xf7\\xa1z\\x10\\'\\x00c\\xd3\\xa5_6\\x96#\\x95\\xde\\xe7\\x8a\\xde,\\xa9\\xf2\\xc8\\xbbx\\xdc=\\xeaM<\\t3\\xc6\\x18\\x0e\\xa2\\xbdj\\xef\\xc1:E\\xc2\\xfe\\xf5\\xef\\x0e\\xd1\\xc0\\xf3\\x07\\xff\\x00\\x13P\\xc3\\xe0m\"\\x0f\\x9e\\xd9\\xaf7\\x0c\\x82\\x0c\\x8a\\x7f\\xf6Z\\x96\\xcbKC\\xcf\\x06\\xd2p\\xc0\\x85#9\\xf7\\xf5\\xa2X\\xb0\\x99^X\\x0eMw/\\xe1\\xdd29v3\\xdc\\x80z\\x82\\xc0\\x1cdg\\x1cT\\x13x\\x7fN\\x0e@\\x9a\\xe7h\\x1dC\\x01\\x93\\x83\\xc1\\xe2\\xa4g\\x1bd\\xbb^\\x1d\\xcb\\x8c6Gn3\\xd4~U\\xd0\\xea\\xaeYx]\\xc4\\x80p9\\xab\\x17z\\x0c\\x16\\xb2|\\xaf)\\xdb\\xd3\\x90q\\xcf\\x1d\\xaa\\x8d\\x9b\\x9b\\x9b\\xdd\\x8d\\xbdWi$\\xae:'\n",
      "b'u\\xe9J\\xe5\"\\x15\\x8c\\xc3\\x13\\xb2\\xb1`\\x14|\\xad\\xf2\\x9cw\\xe2\\x9a\\xb6\\xa9\\xfe\\xb10\\xa5\\xb9a\\x9e}\\x8e=j)ev\\x95\\xa1 ;\\x07*\\x00\\xfa\\xf5\\xcd\\r.\\xd4U\\x8c>\\xf3\\x82wt\\xc7\\xae~\\xb5\\x9c\\xae\\xb6\\x03Q\\xd29\"\\xc1m\\xb3+\\x02#*F\\xe5\\xc7\\\\\\xe7\\x8f\\xa5PKp\\xcd*\\xdc\\x0c\\x80\\xdc\\x82GL\\xf5\\xf7\\x14\\xe9\\xe50\\x9f\\xde1\\x90(\\x189 \\xe7=\\xaa\\x11zdF\\xca\\x06n\\x80\\x91\\xc8\\x1d\\xf1\\xcdg\\x19\\xbb\\x13\\xb9R\\xee\\xd7\\xc9r\\xc8\\xc1\\xd5z\\x0eH\\x1f_J\\xa3\\x80\\xc0g\\x86<\\xf3\\xd3>\\x95sz\\xa9\\xe7\\x92z\\x8c\\xe0\\xfdh>J\\x12\\xec\\xces\\x82\\x07\\x07\\x03\\xf2\\xaa\\xe6\\xb8\\x8a\\x80\\x85EB2O8\\xef\\x9f\\xad0\\xc2\\xc4\\xe1\\xc6\\x17<\\x7fNj\\xfd\\xcd\\xac2Df\\x8aGw\\xe0\\xe0\\x808\\xef\\x9fz\\xac\\xe4\\xc3\"\\x979L\\xf0F0{\\xd3\\x8c\\xd3\\xd8\\n\\xca\\xbf\\xde\\'\\x1e\\x9d\\xc7\\xbd9\\x97\\xe69\\x04\\xe3\\xd3\\x15f\\xe0\\xac\\xd2\\xac\\x8a\\x83 m;x\\x07\\xd3\\x8ah\\xb4W\\xc92\\xc7\\x19\\xee\\xa5X\\xfe\\xa2\\xa94\\xc4}?\\xa8M%\\xf6\\x95r,\\xa6\\x95\\'h\\xfeRrv\\xf3\\xc9\\xc6:\\xd6\\x8bK\\x1c0F\\xd7s\\x94r\\xa0\\xb1#\\x8c\\xe3\\x9cq\\\\\\xe6\\x9d<\\xb0Xo{\\x88\\xd3x\\x00D\\xaa7\\xe7\\xf8C\\x1c\\x9e=\\xba\\x8e\\xf5\\xa5k*\\x03\\xb6-F\\xd5d\\x003JbS\\xc7Lu\\xcex\\xf5\\xad\\x93\\xd3S;\\x1a\\x90\\x14*^6\\x94\\xa3r?v\\x06F?\\xdd\\x15\\x16\\xa1s-\\xaaE*\\xb1\\x10\\xab\\xe2R\\xca2\\x06\\x0e;t\\xcdR\\xb3\\xbe\\xba\\x99\\xaeD\\x97\\xf6\\xa8b\\x94\\xa0\\x0c\\xa0\\xef\\x18\\x07 \\xe7\\x8e\\xbdk\\x13\\xc5z\\xf5\\xe5\\x8d\\xac\\xd3Z\\\\[\\xcc\\x92[9Td\\x1dW#\\r\\xcf\\x1dM7\\xb0\\xeds\\xb1\\x8es4j\\xf1\\xb8(\\xc0\\x10\\x7f\\x0c\\xfaS/\\'h!2\\xf9\\xa8\\xaa\\xa4\\x06\\xf92q\\x90\\x0e9\\x1e\\xb5\\xf3\\xe5\\xbf\\xc5Mr\\xca\\xd5-bke\\x86!\\xb5\\x01\\x8c\\x12\\x06s\\xd6\\x95\\xfe,\\xf8\\x89\\xceL\\xb0\\xe0c\\xa4'\n",
      "b'\\x03\\x19\\xcf\\x1d\\xbdE%-5+\\x95\\x9b\\xbe\\x1cX\\'\\xd4u\\xfd:\\xec\\x82\\x97\\x8f\\x04[\\t \\xb9\\xf3\\xcfLV,\\xa2&}\\xa0\\xc6\\xec:\\x80A\\xfd+\\x99\\x7f\\x10_K,\\xaec\\xc3HIb\\x14\\x82y\\xcf\\\\T\\xfao\\x88\\xb5\\x1by\\xc3[lB\\x18\\x10|\\xb3\\x8c\\xe0\\xf2x\\xf7\\xefY\\xc9]3H\\xbb;\\x9e\\xd5\\xa5i\\xd0j>\\x13\\xb0[\\xa8\\xc4\\xa8\\x96\\xe6=\\x8b\\x12\\x97\\x00\\xb3\\x11\\x82Fz\\x85\\xe8k\\x98\\xf1M\\xb4\\x12x;\\xc2\\xef\\xe6J\\xce#\\xda\\xca\\xd31\\x0b\\xf2\\x83\\x80\\xb9\\xc0\\xe9\\xd8\\n\\xe3G\\xc4\\r~;\\x89d\\x8e\\xe1\\xcc\\x8e@b\\xa8p\\xd8\\x18\\x1cb\\xb2\\xae<Q\\xa9\\xc9\\nB\\xc1\\x1e\\x04b\\xca\\x86\\x12B\\x9c`\\x91\\xf9b\\x92V\\xb0_\\x7fS\\xd8<\\x1f\\xa8]\\xbcPXZN\\x12(!\\\\\\x96%H9\\xcb\\x1c\\xe4\\xe4\\xfe\\x15\\xe9P\\\\\\x17TC2\\x16+\\xb8\\x83\\x8c\\xe3\\x8c\\x1cf\\xbet\\xf0\\x16\\xab\\x7f>\\xb2\\xf3\\xb3\\xc5\\x0cV\\xe8$ \\xa9]\\xe4\\x90\\xa1W\\x8e\\xbc\\xe7\\x9fJ\\xf4\\x1d\\n\\xea\\xeaK\\xaf/x\\xb6YN\\x0c\\x84\\x1d\\xd8RH\\xc7\\xcd\\xc0\\xe4\\xf1\\xde\\x88^.\\xcc\\x97\\xb9\\xd6j\\xe4\\x9f\\x10\\xb2\\x86\\xc9}6Q\\x9c{\\x9e:\\xd7\\x98\\x08@U\\xe3\\xd3\\xb5z\\x05\\xdc\\xce\\xda\\xe4\\x1f\\xe9q\\x1c\\xdb\\xba\\x89v.0r@\\xc6q\\xed\\xeb\\xe9\\\\\\x8f\\x94\\xdb\\x97\\xf7Q\\x058\\xcf\\x0cq\\xff\\x00\\x8fQ]^\\xc6\\xd8i$\\x9d\\xc8\\xf4\\x88\\xb1\\xaa\\xd9\\x90q\\xfb\\xd4\\xed\\xee+\\x0e\\xeb\\tq*\\x9d\\x80\\xab\\x10}z\\xd7Kl\\xa4O\\x13\\xaaF\\xa4H0\\xdbI\\xda29\\xebU/m\\xe6}nVK \\xf0\\xb6\\xd2e\\xda\\xd8\\'\\x8c\\xe3\\x07\\x18\\xe3\\xd2\\xa2\\x9c;\\x9aT\\xab\\xa9\\xcf\\xdb\\xe1\\xaf\\xa1U\\x19;\\xc6q\\xda\\xbdcHV:e\\xa9\\xdf\\xff\\x00,\\x87oj\\xe4$\\xb51\\xdf\\xca\\xc1\"\\xdb\\xb4m\\x90\\xa9\\x198\\x19\\x18\\xcdo\\xd97\\x99\\xa7\\xa4\\x12N\\xa8\\x9b6\\x91\\xe5\\x82\\xac\\x0ep\\xb8\\xc7\\xe1\\xd6\\xb6\\x8cld\\xe7s\\x9c\\xf1\\x97\\x8d\\x1e\\xdag\\xb0\\xd0XOp\\xa0\\xac\\x93'\n",
      "b\"\\xa8\\xc8\\x8c\\xfa\\x03\\xd3>\\xff\\x00\\x95s\\xbe\\x18\\xf0\\xcb\\xde\\\\Euw\\xf3\\xeer\\xccI\\xfc\\xf1]E\\xd6\\x93\\xa7Z [8bE\\x94\\x86(T\\xfe<\\xe7\\x93\\xc7j\\xb5b\\xe6\\xde\\xde8\\xd2H\\xd10\\x18mL\\x81\\x91\\x92\\t\\xcf\\xadU\\x9b3r\\xeem\\x98\\x82B\\xa9\\x18\\n\\x14\\x8c\\x01\\xc6\\x05yo\\xc4M>I<A\\x1d\\xdc7\\xc6EX\\xb6\\xbcq\\xc8\\xa5\\xad\\xc8\\xceH\\x1dG\\\\\\xf3\\xdf5\\xe8\\xfepd\\xf3\\xe3\\x9c6p\\n\\x85\\x07\\x03\\xd78\\xaek_\\xd2mO\\x9ds\\x1d\\xbd\\xb3\\xddO\\xcb\\xc8\\xf1\\x81\\xbd\\xb2\\x07<\\x8c\\xfetl#\\x84\\xd2\\x04\\x16\\x9aT\\xb6SO\\x1f\\x9dq(`U\\xf3\\x9e\\x00\\xc1>\\xb5\\x04\\xf1\\xc9l\\xdf\\xbd\\xde\\xea3\\x92\\xa4\\x83\\xd6\\xbb;\\x1d6$\\xd3\\xdeYm4\\xef<>\\x17b\\x02\\x00\\xe3\\xb9'\\x1c\\xe4\\xf1N{h\\xe4\\x92T\\x9a\\xd6\\xc9\\xd0+\\x10v\\x83\\x92\\x06zg\\xd6\\x96\\xe8\\x16\\x86\\x1e\\x89\\x0b\\xc7q\\xe6\\xdc\\xc6\\xf0\\xdb4L\\x0b\\xcb0\\xdb\\x828\\xc8\\xcdf[h\\x06\\xd9\\xf7ZY\\xca\\xeb\\x9f\\x96U\\x91N\\xf1\\xd8\\x8e}+\\xb4\\x9e\\xd6\\xdeK8\\x9e\\x18m\\xde)p\\x18H2\\n\\xf6\\xe1\\x8d>\\x1b\\x91\\x0cJ\\x81mQ\\x15\\x08Q\\xfb\\xb0\\x17o\\x07\\x03=?\\x95.],5$rCO\\xd4\\t\\x1f\\xe8\\x97?\\x8c\\x8b\\x8f\\xe7Om6\\xfc\\x9c\\x8bK\\x8c\\xfa\\x19W\\xfck\\xb3I\\x9d\\xa3%Z\\xdd\\x88`8T\\xc0\\xe3\\x90x\\xa9\\xc4\\xc8v\\x8cDI\\xc0#\\x0b\\x8c\\xfbqK\\x94\\xaec\\x86\\x1af\\xa0\\x14\\x13o(>\\xf2\\x8c\\xff\\x00?j\\xb9\\xa4\\xdcj\\xfaE\\xdc\\x7ff\\x86\\xe04\\xac#\\x11;\\x86G'\\xa6Fz\\xfb\\xd7W\\xe6\\xe5]\\x88\\x85\\x97\\x03\\x18E=\\xc0\\xc9\\xe2\\x9bj\\xc7\\xfbR\\x01\\xb9\\x11\\xb2\\xca\\x1d\\x15\\x03)\\xc62\\x06=;R\\xb3\\x0b\\x97b3I\\x12\\xbd\\xd2\\x98\\xa6a\\x97@\\xc0\\x85>\\x99\\x03\\x9a\\xb5\\xa4[\\xa5\\xc6\\xafj\\x92\\x93\\xb3%\\x98\\xe4\\x83\\x81\\xc9\\xfd\\x05@\\xf2\\x12\\xd2\\x01$\\x9f)\\xeb\\xc6q\\xf9{Sa\\x95\\xd6da+\\x82\\x01\\x19\\xce;\"\n",
      "b'c\\xd3\\xfa\\xd6\\xafc%\\xb9\\xdf\\xe9\\xf7\\x97\\xf7\\x96\\xeb<\\x7ff\\xb6\\xb7\\x90n\\x89\\n\\x16`\\x9f\\xc2O\\xcc\\x008\\xe7\\x03\\xa5O3\\xdd\\xa2\\x16\\x97PD\\\\\\x81\\xf2[\\x80rO\\x00d\\x9erk\\x90\\xf37\\xbd\\xa1\\x8a\\xe6\\xf5`+\\xb6D\\x12\\x1c7\\xcb\\x9c\\x8ex\\x1d:b\\xa8]G;\\xdc\\x96\\x86\\xee\\xe9c\\x12\\x0cg\\x04\\xe3\\x03\\x00\\xfa\\x9f\\xa9\\xa8\\xb1\\xa5\\xce\\xd2e\\xb8\\xfe-N\\xeb\\xe8\\xab\\x18\\x1f\\xfa\\rC\\xe7:\\xa0\\x129v\\x1cn<\\x13\\xee}\\xeb\\x91Vh\\xbc\\xb1\\x1d\\xe5\\xe0\\xc9\\x05\\xf2\\xd8\\x07\\x8c\\x1e1\\xdb\\x15$\\x97\\xd2\\xba\\x07\\x8a\\xeeL\\xee\\x19\\x1bW\\x04dg\\x9cQa\\\\\\xe8\\x84\\xf8,\\x9dB\\xe0\\x8fa\\xda\\xa9_jV\\xd6\\xaaZ\\xea\\xe2\\x18G\\xac\\x8e\\x17\\xf9\\x9a\\xe4\\xb5\\xebY5!\\x18\\x13\\xdb\\xbb\\xa0$\\x1b\\x98\\x03\\x81\\xc8\\xe8\\x068\\xe2\\xb3\\xed\\xf4O&U\\x95\\x97J`\\xb9\\xdc\\x05\\x8a\\xee<\\xf6bN?\\x1a4)%cbO\\x17i\\xa6F[o\\xb5^($3\\xda\\xdb\\xb4\\x88\\x0f\\xa6q\\xcf\\xe1U\\xe1\\xf1e\\x88\\x8f\\xe6\\xb6\\xd4\\xfe\\xf3\\x1c\\xfd\\x8d\\xf1\\xf7\\x8f\\xb56k{\\xdf,\\x86\\xd4!FV-\\xbb\\xca`\\x81y\\xc0\\n\\x18`\\xfb\\xfe\\x95F9\\xae#\\xc0\\x1a\\xdd\\x8a\\xa8\\xe0\\xa0\\x0c\\x088\\xc9\\xe7\\x7f\\xa7?Ni\\xdc=\\xd2\\xd6\\xa1\\xe2\\xdd8\\xc2\\x14\\xc7~\\xad\\xe6!\\x01\\xad\\x1c\\x7f\\x10>\\x9e\\xd5<>1\\xd2\\x84I\\xb9\\xae\\x94\\x85\\x19\\xcd\\xac\\x98\\xce>\\x95H\\xcdv\\xf6\\x9bN\\xb1de\\xde1)\\r\\xb3\\xa18\\x03w\\\\s\\xd7\\xa5V\\xf2\\xeeY\\x81\\x1a\\x96\\x98\\xf9\\xc6r\\x1b$\\xf5\\xc8\\xf9\\xf9\\xf9y\\xfdh\\x0ft\\xbbo\\xe2\\xad$\\xdd^\\x93qp\\x8b&\\xdc\\x11\\x04\\x99\\xef\\xd3\\xe5\\xe3\\xadKg\\xe2\\xed\\x19>\\xd3\\xba\\xe6E\\xdd;\\xb0\\x1fg\\x93\\xa1\\x03\\xfd\\x9a\\x82\\x19u\\x1f(\\x7f\\xc4\\xca\\xc8\\xbe\\xe5%\\xa3-\\xb7o<\\x0f\\x9b\\xeft\\xc7j\\xa6\\xfa\\x95\\xdc2\\xce\\x13X\\xd2bO1\\xc8Y\\x1d\\xb7\\x0f\\x9bn[\\xe6\\xeb\\x9d\\xa3\\xeb\\xc5\\x08=\\xd3k\\xfe\\x13\\x1d\\x0f?\\xf1\\xfd\\x8f\\xacR\\x0f\\xfd'\n",
      "b\"\\x96\\x9b\\xff\\x00\\t\\x86\\x85\\xff\\x00A\\x04\\xfcc\\x7f\\xfe&\\xb1\\xbf\\xb5o\\xc3\\x00\\xda\\xce\\x8ev\\x93\\xb8ol\\x9c\\x10\\xa4/>\\xa7\\x1c\\xf7\\xe2\\x9dq\\xa9_\\xad\\xd4\\xaa\\xba\\xae\\x92\\xa8\\xacv\\xab\\xb3nP\\x0e\\x0e\\xeex\\xc1 qL-\\x13\\\\\\xf8\\xbfB\\xe9\\xfd\\xa5\\x10\\xff\\x00\\x80\\xb7\\xf8To\\xe2\\xcd\\r\\xc1_\\xed\\x18J\\x91\\x82\\x08lc\\xf2\\xac\\x96\\xbe\\xd4\\x863\\xa9h\\xec\\x01!\\xc0v\\xcfP\\x0e2}N9\\xef\\xc5Kw5\\xeaE;\\xc7u\\xa6\\xee\\x12\\x90\\xa2C\\xc0L}\\xd2{7|zP\\x16\\x89g\\xfe\\x12\\r\\x19\\x86\\x17U\\x89s\\xe9\\x91\\xfd*\\xca\\xf8\\x87Jr1\\xa8\\xdb\\x11\\xfe\\xfd`\\xad\\xe5\\xf3\\xb6\\x16m\\x1d\\xd7\\x1dW\\x04\\xe7\\x19\\xc0\\x19\\xf4\\xef\\xf8\\xd4\\x89qu\\xf6b\\xce\\xbaQ\\x9c0\\x04q\\xb3\\x18'\\xaez\\xe0f\\x93\\x04\\x91\\xd0\\xa6\\xb1\\xa7\\x11\\x95\\xbe\\xb6>\\xfb\\xc5J5{\\x0cd\\xde\\xdbc\\xd7\\xcc\\x1f\\xe3Xp\\xb4\\xa5X\\x98\\xb4\\xc2\\xc3\\x18\\xc2\\x8c\\x13\\x9c\\x1c\\xf3\\xc5TK\\xc7\\x04\\xab\\xc1lH\\xeaZ%\\xe7\\xff\\x00\\x1d\\xa8r+\\x91\\x1d\\r\\x9d\\xdd\\xb5\\xaabi\\xe2\\x8bx\\x0c\\xa1\\xd8.\\xe1\\x8cd\\x0c\\xd7;\\xe2\\xf9\\xe0\\xb9\\xd4\\xf4\\xb9a\\x9a9\\x04N\\x0b\\x14`B\\xfe\\xf1z\\x9e\\xd4\\xcf\\xb5:\\xe7tP\\xbf\\xa0\\x91L\\x9bG\\xa0\\xc8\\xe0{\\n\\xabq0\\x94\\xa9{{pG\\xf7#*:\\xe7\\x9c\\x0ei9\\xe8\\n\\x08\\x9bS\\x8b\\xcf\\xd5e\\xf2$\\xb7r\\xecX\\xb8p\\x11Ag#'>\\x98\\xe6\\xb7|9$V~q\\x9a{t\\xf30\\x002\\xaer\\t\\xea3\\\\\\xcb\\xdd\\x152\\x93\\x04 \\xb0\\xda\\xc1c\\xc0\\xc7Lb\\xa2[\\xed\\xe4\\x93kjI<n\\x80\\x1c\\xfe\\x94\\xae\\x9bLiYX\\xf4e\\xd4-OK\\x9b\\x7f\\xfb\\xf8\\xbf\\xe3N\\x1a\\x85\\xb7\\xfc\\xfc\\xdb\\xff\\x00\\xdf\\xc5\\xff\\x00\\x1a\\xf3ax\\x19\\xd5\\x16\\xc6\\xc9\\xe4b\\x02\\xabZ\\x81\\x93\\xdb\\x9cV\\xa8\\xb7s*\\x07\\xd0t\\x9f(\\xe0\\xbb\\x80\\x0e\\xdf\\xc3w?\\x85h\\xb5#\\x95\\x1d\\xa1\\xd4-\\x8f\\xfc\\xbc\\xc3\\x8f\\xfa\\xe8\\xbf\\xe3N[\\xebc\\xff\\x00/0\"\n",
      "b\"\\xff\\x00\\xdf\\xc5\\xff\\x00\\x1a\\xe1\\xe7\\xb2e\\xb7\\r\\x1f\\x874\\xc7\\x9f\\xcc*c\\xda\\x00\\xdb\\x9f\\x94\\xe7wS\\xe9P\\x9b\\x19\\xfc\\xc0\\x9f\\xf0\\x8ei%\\n\\xe7\\xcc\\xda1\\x9fLo\\xfc>\\xbe\\xd4\\xec\\x1c\\xa8\\xef\\x8d\\xdc'\\x914D\\x7f\\xbe?\\xc6\\x94\\\\\\xc7\\xdaH\\xc9\\xff\\x00x\\x7f\\x8dy\\xfa\\xd8\\xcal\\xe5v\\xf0\\xd6\\x98.\\x15\\x80H\\x80\\x042\\xf3\\x92N\\xfe1\\xc5F\\xdau\\xc6c\\x1f\\xf0\\x8d\\xe9\\xd8q\\x96<\\x8f,\\xe7\\xa1\\xf9\\xf9\\xf5\\xe3\\xb50\\xe5]\\xce\\xfa\\xead\\xf3mp\\xc0\\xfe\\xf4w\\x1f\\xddj\\xb5\\xe6g\\x91^o\\x1e\\x9b#\\xa5\\xc1\\x7f\\x0eY\\xa4\\xb1\\xe0\\xc2\\x9b\\x98y\\xa7<\\x83\\xf3\\xf1\\xc1\\xcd-\\xd6\\x9aE\\xe0\\x8e\\r\\x06\\xd5\\xa0*\\x0f\\x9d\\xbaLg\\x1c\\x8co\\xf5\\xe2\\x95\\x86\\xa2\\x8e\\xefU`t\\xdb\\xb2r\\x7ft\\xfc\\x1eq\\xf2\\x9e\\x82\\xac\\x16>\\x86\\xbc\\xc4\\xd8]\\x1bgo\\xf8Gm\\xd6L\\xed\\t\\xe6>H\\xf5\\xce\\xff\\x00\\xc3\\xebSO\\xa5J\\xb3\\xc0\\xb0h\\x91<e\\x01\\x91\\x8c\\x8e\\x04m\\xc8#\\xef\\xf6\\xf6\\xa1Y\\x03\\x8a\\xeez8s\\xbb8\\xa4.}\\xeb\\xcc\\xff\\x00\\xb3nDs\\x1f\\xec\\x14V\\x07\\xf7`\\xdc8,=\\xfe~\\xc3\\x9a\\x9d4\\xd2\\x0ca\\xf4\\xa2\\xa7\\xca,\\xe1f\\x90\\xed\\x93<&w~4\\x0b\\x95w=\\x10\\xb1\\xf45\\x14\\xa0H\\xbb\\\\\\x123\\x91\\xd4\\x10{\\x10{\\x1a\\xf3qk0\\x8dYt`\\xd3\\x06\\xf9\\x97\\xed.0>\\xbb\\xea\\xdcV\\xa4\\xdd\\x15}4$\\x1b2\\x1c\\\\\\xb1$\\xe38\\xc6\\xef\\xc2\\x80qGp&x\\xd8,\\xd998Y1\\x80\\xc7\\xd1\\x87c\\xfa\\x1f\\xd2\\x92I\\xc2\\x9c\\x1f\\x94\\x9e\\x08>\\xb5\\xc2\\xf9W&\\xd7\\xe6\\xd1\\x86\\xfd\\xe1v\\x1b\\xa2A\\x18\\xeb\\x9d\\xd4\\x8f\\x13$\\xdbg\\xb4)o\\x80\\xc6V\\x9d\\x98\\xaf\\xa8\\xc6y\\xe7\\x8c\\xd0\\x0e(\\xeb\\xe6\\xb9X\\xdc\\x96|#r2q\\x9f\\xa5P\\x9fV\\x8a$$\\xc9\\x8c\\x13\\xc8\\xce1\\xdb5\\xcb\\xbd\\xeb\\x0bx\\x1d\\x011\\xb7\\xccI8\\xc0\\xc9\\x00}\\xee\\x95\\x97{w!\\x99\\xd1ZFU\\xc8\\x18n\\x0f\\xff\\x00Z\\x90\\x92:\\rGRI\\x88h\"\n",
      "b'\\xdcn\\xce\\xe0y\\xeb\\xd0\\xf3\\xe9Y\\xd3jF)\\x1a)\\xc0l\\x8c\\x82\\xacH\\x19\\xef\\xf4\\xaezY\\x88\\xea_\\xaf\\xadC<\\xe5\\xd4\\r\\xc4\\xe3\\x8ey\\xa43\\xa6\\x9a\\xf0\\xb4C\\xc8\\x94\\xe7i\\xdc\\x07 \\xf1\\xd8\\xd65\\xbc\\xfbg\\x0eA\\xc8\\xe3\\x03\\x81\\x8a\\xa0.\\x1d\\x10.Jz\\x15\\'\\xa59\\x18\\x0c\\xb0\\xe7#\\x9eq\\x8ab,\\xab\"\\xcc\\xac_j\\x96\\xe4\\xf5 U\\xe8\\x96\\xcd\\xe1\\x9cK#\\xf9\\x8c1\\x11^\\x8b\\x83\\x92H\\xc7 \\x8f\\xca\\xb1&\\'\\x93\\xdf8>\\x94\\xbei\\xdb\\xf2\\xbf\\xcb\\xdc\\x0e*d\\xae\\xb4\\x06h\\\\\\x95\\x89\\x94\\x89\\xbc\\xc3\\xb4g\\xeb\\xdc}* \\xcd,\\x85P\\x11\\x81\\x92Tq\\x8a\\x8a%\\n\\xab0}\\xd9\\x04\\xed eNMD\\xb39\\x99\\xb0\\xdbA\\xc6q\\xdcV\\x1c\\x84\\x0f\\xb9\\x95\\x03gn\\x0fS\\xc6>\\x9fJ\\x9eTAn\\xb3\\x02\\x181\\xc1\\x0b\\xfc\\'\\xae*\\xb2\\x87\\x94\\x9c\\x90G\\xa1\\xe3\\'\\xa7\\x14\\xf5g\\xb7\\x91\\xb3\\xeb\\x82:\\x8c\\xfa\\x11O\\xa5\\x80|2\\x00Ug\\xe5\\t8#\\x1e\\x9f\\xe3Dp\\x06\\xf3_vT\\x0e\\x06\\x0e\\x08?\\xcb\\xa5#*\\\\/d\\xda\\x0e\\x07\\xa9\\xec\\x075\\x1e\\xe3\\x18\\x00>\\xf0A\\xc7Q\\x91\\x8av\\xd3@\\x1c\\xb1\\xa2\\xe1\\xb7>\\x18\\xf1\\xeb\\x9cq\\xc5L7B\\xa0\\x18\\xd0\\xee\\xf9\\xbe\\xe88\\xcfoo\\xa52\\xdd\\x97\\xcb;\\xfe`\\x06\\xee~\\xbe\\xbe\\xb5;M\\x83\\xf3D\\xa4\\x9f\\xee\\xe4~\\x957\\x1e\\x87\\xb7\\xdbj\\xb2ji;\\xc2\\xa6\\x14b\\x109#\\x11\\xb2\\xe4\\x122\\x0f$g\\x93L\\x8a\\xfcDR\\x0bh|\\xa1\\xc7\\x982\\x0f\\x9a\\xbf\\xc2\\t\\xc7\\xe1\\x9fZ\\xca}i!\\xd1\\xee\\xad\\xd1qp\\xce\\xe27`\\t]\\x80\\xe7\\xb7<\\x1a\\xb1ejE\\xcb\\xcb$\\x9b\\xe3\\x95Sda\\x88*B\\xf5\\'\\x1cd\\xf6\\xad\\xefrM\\x99u\\x17\\x8b\\xcf\\xf3\\xd5\\x15\\x9d\\xd9\\x9d\\\\\\xe0\\x82@\\x1c\\x0c{W7\\xa9\\xc8\\x97\\x91\\xac\\x12\\x99\\x17a\\xc9\\xc1\\x18\\xc3\\x06=s\\xf55\\xb5\\xac\\xdb\\x194\\xf9%\\x8d\\xfeu(\\x06q\\x9c\\x11\\xcf9\\xe9\\xc7J\\xe7\\xed\\xe6y$#\\x92\\x03\\x80FO\\xf7O'\n",
      "b'\\x1d}\\xa8\\x90$ym\\xcc\\x00y\\x83\\x19`H#\\xbf\\xd4\\xd7S\\xa2\\xdaX\\x8d\\x01\\xbc\\xdby$\\x9ex\\xcb\\x17\\x08\\xa4\\xa8\\xce\\x069\\xe9\\x91\\xd4\\xe2\\xb9\\x9b\\xc6\\r$\\xce\\x84\\xf2\\xc4\\xe0\\x92prs\\x83\\xdf\\xf1\\xad\\xdd/_\\x8e\\xd7H\\x8dw\\xcc]b0\\xe1H\\x00\\x1d\\xc4\\xe7\\x19\\xe9\\x8e*d\\xafcMle<\\xa3\\x07d{X\\x0c\\xfa\\x8cb\\x9dv\\xd0\\xbc\\xf0<8WS\\x83\\xb4`c\\xa1\\x06\\xb3\\xbe\\xd2\\xe6\\x03\\x85\\xc2\\x0e2)\\xd0L|\\xb7\\xee\\xa3\\xa1\\xdd\\xc1\\xe75L\\r\\x9cE\\x1a\\xec\\x98\\x90\\x8f\\x9c\\xed\\xeb\\xf7O#\\x9a\\xcf\\xf0\\xfc\\x01\\xec\\xaeW\\x05\\x8cy`=\\xb1\\xff\\x00\\xd6\\xa6\\x19\\xa4\\x17\\x10\\xb6\\xf7L8#\\x19\\xc8\\x1e\\xbe\\xdcU\\xdd!M\\xbf\\xdb\\x98\\x80P\\xf5\\xe7\\x8c`\\xe2\\x92z\\xd8\\x1a4<\\'le\\x86\\xe1\\x91\\x8ec\\x9b\\x93\\x80x,9\\x1c\\xd7\\xa7xr8t\\xeb\\xa8n\\t\\x92I\\x83\\x91\\xb8\\x90\\x0e\\xcc\\x13\\x80\\xb9\\xf7\\xeb\\xe9^K\\xe1\\xed@X\\xc7u\\x83\\x93\"\\x16\\\\\\x1c\\x1c\\xe4b\\xbd?\\xc3\\xd3O;F\\xe5\\x91\\xb0U~V9-\\x8fL\\xfe\\x19\\xcd\\t\\xa5\"esj\\xfa\\xe4\\xcd\\xa8iR(u\\xd9\\x18U\\x04\\x1c\\xbf=\\xab\\tUU\\x90\\x99\\x83\\x02\\xc88\\x07\\x07\\x83\\x8e\\xd5\\xb3p\\xa7\\xed:Z\\x89\\x0e\\x0cx\\xc8\\xea\\x9c\\xf657\\xd9 H\\x9b\\xcb\\x00\\x9c79\\x07\\x9c\\xf1\\x8f\\xca\\xb4\\x9a\\xbd\\x87\\x07k\\x98\\x11*\\xac\\xb1\\x96s\\x95r\\xc0\\xed$\\xf75J\\xfa\\xd4=\\xfbO\\xe7JU\\xaeS\\xe5\\xf2\\xf7`\\xed#\\x19\\xdd\\xd3\\x9e\\xbd\\xbd\\xeb\\xa3\\xb5\\x86,\\xb1`\\x0b\\x08\\xc3\\x82{\\x1d\\xc7\\xa7\\xf2\\xabL\\xb1\\xab2\\xa6\\x00*\\xe3\\x83\\xef\\xc5\\tXm\\xb9#\\x99\\x8e\\x11\\x10\\x9513\\x15\\x8c\\x02|\\xbc\\x03\\x86=\\x0ey>\\xde\\x95\\xbbe+\\x8be\\t\\x1b\\xb6\\x08\\xc9$\\x0c|\\xc7\\x1cg\\xf9T\\x91l\\xc4D\\xe3\\x96N\\xfe\\xd85(T*:gj\\xf0\\x0f\\xfbF\\x9bb2\\xaf\\xd9\\xa56\\x8d6p\\\\\\xf9c\\x00c\\x83\\x90y\\xe6\\xab\\x86\\x16\\x96\\xca\\x920\\x8dD`\\xe0\\x90\\x0f\\x1c\\xe79'\n",
      "b'\\xe3\\x81\\x9a\\xbbx\\x83\\xfd\\x17k}\\xd9\\x0e\\xe0\\x0fQ\\xcfZ\\xcd\\xdc\\xcd\\xc7\\x0f\\xb1\\x8a\\x92\\xdc\\x9cm\\xc8\\xfeuI\\xd8\\xcein_\\x17\\xe8\\x90\\x01\\x14d\\x8d\\x83\\x0e\\x08!\\xb2A\\xcfZ\\xa3-\\xf0\\xd4l\\x8b\\x15\\x90(*\\xfc\\x80:\\x9c\\xf1\\xcf\\xa8\\xa0D|\\xd9X\\x1c;\\xc7\\x18\\xc7\\x18\\x04g\\xa7\\xbf4\\x8e\\xb2%\\xbc\\xab\\xbc\\x96\\x00\\x10q\\x81\\xd7\\xa6>\\x9cR\\xb8\\'\\xd4\\xc1\\x9ef\\x8bY\\xb7\\xb3\\x12\\xc8-\\xde\\xdefd\\xe3\\x05\\x84\\x8b\\xce3\\xd7\\xb5iB\\x91IrX<\\x99\\x06u \\x80\\x07\\xdd\\x19\\xef\\xe9\\xfeE= \\x01ngt\\x0fq\\x1bK\\xe5>2\\xc0d\\x10\\x01\\xa6/\\xda\\r\\xf21iB39#\\xa2\\x80c\\x18\\x07\\x9eN\\x7f\\xad-\\xc7r;\\xc7v\\xb3H\\x93*\\xfeP\\x91C\\xa8\\xec\\xc3\\xaf<q\\xda\\xa3\\xb8\\xb3\\x84\\x90\\x8e\\\\\\xbc\\x9en\\xdc  \\x0c\\x82GQ\\xdcTz\\xff\\x00\\x9fq\\xe1\\xd6\\x16\\xe6G\\x92H?\\x84\\xe0\\x93\\x84#\\xbf\\xd6\\xa4\\xd2Va\\r\\xd0,v\\x9b\\x89J|\\xc3\\x90YH#\\x9fv\\xa9o\\xb9Ik\\xa1n\\x05\\x88C \\xfd\\xe1_0\\xee8\\x19\\x04\\xaf sMe\\x88\\xf92+\\xbe%)\\x8f\\x90s\\xc1\\x03\\xbdX\\x8d\\xc8\\x892\\xf9\\xfd\\xe2d\\xee\\x1d7\\x10s\\xcdD\\x19\\xd6\\xd6\\x1c\\xb1\\xde\\xa0\\x13\\x96\\xe4\\xe2L\\x1f\\xd2\\x98\\xec2\\x18\\x94Y\\xc8\\xb0\\xca\\xfb\\x91S%\\xe3\\x04`1\\xceF\\xeez\\x11\\xd7\\x8a\\xb6\\x11\\x06\\xb3l\\xecNL\\x85\\x82\\x05\\x18#h\\xcf9\\xfe\\x95\\\\H\\xc9\\x0c\\x8b\\xe6a\\xf0pI\\xf4\\x90\\x9f\\xfd\\x04\\xd5\\x99\\xd8\\x1b\\xfbf\\x88\\x87a\\xe6\\x003\\x9ep\\x00\\x1f\\x98\\xc7\\x14\\xac\\x1a\\x93\\x12\\xa6iN$\\x04\\x91\\x90@\\xc8\\xeb\\xef@+\\xbc\\x0cI\\xdb\\xb0\\xc7_\\xad$&G\\x92S \\xda\\xd8B@\\'\\x83\\x8c\\x91\\xf9\\xd4\\xaa\\x06\\xf0\\t\\'9\\xe3\\x9e\\xb5w\\xd0\\x8e\\xa5{iE\\xb4&\\'\\x05|\\xa4,\\n\\xe4\\r\\xbb\\xb0:\\x1e\\x0f\"\\x89\\xae\\x88\\x9c*\\x8c\\xa1\\x85\\xdc1bNT\\xf21\\xdf\\xebR\\xca\\xa1\\xa2\\x91\\x1b\\x92\\xcaUA\\x04\\x82z\\xfa{V3I'\n",
      "b\"\\xbe[S\\x14\\xf6\\xe5LW\\nw\\x10\\t,\\x01\\\\\\x0e\\xe3$\\xd4Z\\xcc\\xa3Yn31P\\x10\\r\\xce\\x0e1\\x9c\\x85\\x04~\\x86\\xa0\\x82\\xf0\\xc9s\\x1a\\x90G\\x9aS\\x19\\xef\\x95'\\xfaV]\\x8d\\xe7\\x99\\xa8\\x04[\\xcbW\\x0f!!#\\x91I \\xdb\\x85<\\x0f\\xfah?.zV&\\x855\\xc2\\xea:g\\x9fulv\\xb5\\xb8\\x90\\t\\xe3$\\x90\\xae\\xae1\\x9ey+\\xd2\\x8e\\x80u\\x10]\\x06\\x91_vT\\x84\\x00\\xfbd\\x83\\xfa\\xd4\\xf6\\xd7a\\xa4\\x89K\\x0c\\xb6\\xc1\\xcf\\xbb\\x15\\xaeMoe\\x89\\x95\\x1ek-\\xc9\\xe5\\x86\\x06\\xe60A\\x13\\xb6\\xe1\\x8d\\xddv\\x10j\\xbcSN\\xf70\\xbc\\xb7VdF\\xd1\\xb0D\\xb9\\x8f\\x19[\\xa0\\xfd7u\\xf2\\xf9\\xa2\\xc3\\xb9\\xa3\\xe2=T\\xddi\\xce\\x96\\xe5\\xd6&\\x96\\xe6\\xd6Pp7\\x94\\x89\\xcf\\xe5\\x91X$\\x99$*q\\xf3J\\x00\\xff\\x00\\x81Y\\x03Z\\x17Q\\x06\\x86\\xed\\x15\\xe2Q\\x1e\\xadt\\xccduP\\x15\\xe2}\\xa7$\\x8e\\xe4U\\x08\\x14#\\xc0\\xd2Of\\xa05\\xbb6n\\xa3\\xe3\\x16\\xa67\\xfe.\\xcd\\x81T$h@Ci\\xf1\\x0cq\\xf6\\x9br?\\xe0v\\x80Ve\\x9bo\\x9e\\xc5\\x82 \\xdcl\\xdb\\x19'\\xfeX:\\xfa\\xfbV\\x8e\\x9d\\xe5\\x8d\\x18\\x99.m@\\x8ak&r.#!v\\xc7\\xb1\\xb2w`s\\xef\\xcfl\\xd6^\\x9c\\x12\\x13`\\xcfwg\\x98\\xc5\\xa8`nb\\x18\\xd8d\\x0e~\\xf7`\\xc0\\xd0\\x05\\xb5\\x98\\xaf\\x86\\x04\\x88>u\\x97Oa\\xed\\xc6?\\xa5E\\xe2\\x01\\x15\\xbd\\xe6\\xa6\\xae\\xb9!\\xae\\x9b<\\xf0\\x04\\xb1HF?\\x1c\\xd4\\n\\xdeW\\x85.\\x10\\xcdn\\xf2G\\x1d\\x99q\\x1c\\xc9!\\x05$ \\xe7i8\\xe0\\xad]\\xf1\\x1c1\\xcb\\xaaj[\\xee-S\\x7f\\xda\\x02\\x87\\xb9\\x8dN\\x1e8\\xb6\\xe4\\x16\\xe3%Oj\\x00\\x8bT[f\\xbe\\x94\\xda\\xa6\\xc5A:\\xb0\\xe4|\\xe2\\xe6''\\xf5\\xcdG\\xae\\xb3.\\xb3\\xab\\xa8;H\\x17\\x84\\x1f|\\xc5'\\xf5\\xa9/\\x16)d\\xb9h.\\xacX\\xb0\\x9c\\x81\\xf6\\xa8\\xc6K\\x04*~\\xf7\\xf7\\x94\\xd4\\xfa\\xec\\t&\\xa5\\xa8?\\xda-U\\xe53\\xb2\\x86\"\n",
      "b'\\xb8@p\\xf0 ^\\t\\xeeW\\xfa\\xd0\\x05\\x19\\xee\\x80\\xbc\\xbcR\\xfc,\\x97X\\xe0c\\x02X\\x9b\\xfa\\xd6\\xb5\\xda\\x99.u\\xa8_\\x94]P\\x01\\xf4x\\x0f\\xf55Rh\\xd6F\\xb8a=\\x8b\\x87\\x13\\xed\\xfd\\xf4G;\\xa3M\\xbd\\xff\\x00\\xbc\\xa4V\\xcc\\xca\\x92\\\\\\xea[Z<\\xb4\\xd6\\xb3\\x16,\\x00\\xc6\\xd1\\x93\\x9c\\xf3\\xd6\\x95\\xec4\\x8eR\\xde1\\x88r9a\\x11\\'\\xaf\\rj\\xcb\\xff\\x00\\xb2\\xd5\\xdbYc\\x1a<\\xa3\\x07q\\x08\\xc7\\xea`\\xc0\\xab\\x10X\\xaa\\xac%\\xe5\\xb7\\x05V\\x0c\\x8f=N\\no\\x07\\xbf\\xa3P\\xb6!lJ\\xf9\\x91|\\xa9\\x10$:\\x90\\x08\\x05NN}\\xea9\\x8dTB\\r@\\x0f7\\'\\xa9-\\xfa\\xa9\\xfe\\xb4\\xb0jI\\x81\\x93\\xd0V\\x1d\\xc5\\xbb\\xc6\\xa7k\\xa1;y\\x01\\x81\\xec=\\xfd\\xab\\x15\\xe6\\x966\\xeak7\\xa9i\\x1d\\xa9\\xbe_?v\\xef\\xbcj\\xc9\\xba\\x0e\\xbf/@3\\\\\\x1a_\\xb6FI\\xad\\x08u/\\x97i?J\\x96\\xecZ\\x8d\\xce\\x86)P\\xbb\\x12>\\xf0\\xc7\\xea*\\xb5\\xf3))\\xceB\\xb7\\x06\\xb3\\xa0\\xba%\\xc6[\\x19\\xefVn\\xdde\\x1b\\x8c\\xa0\\x11\\x80F\\x0f#\\x1d\\xa8M\\x13(\\x97uvS$d\\x1eB\\x9f\\xe4jKi\\x8f\\xdbbS\\xd3\\xcd\\xc1\\xfay\\x90\\xff\\x00F\\xac[\\x9b\\xb1#,}\\x86G<U\\xfd=\\xb7<R3F\\x8c\\xcc2\\x1aE\\x19\\xf9\\xa3\\xe7\\x93\\xfe\\xcfj\\xd6/\\xa1\\xcf\"y\\x9d\\x8e\\x9a\\x80\\x9eD\\xd7\\xcaH=\\xb6\\x9cU33\\x8b\\xb1\\xb7\\xa6\\xe01\\x93\\xff\\x00>\\xa4\\xff\\x00:\\xbb:\\x87\\x82@$\\x89\\x02^^)\\xdf\"\\xa0\\x05\\x94\\x85\\x1c\\x91\\xde\\xa8\\xacC\\xedQ\\xbb\\\\Y\\x81\\xba2O\\xdac\\xe0}\\x9c\\xa1?{\\xd4\\xe2\\xb6 \\xbd\\xa7\\xdc3Y\\xc2\\xe7\\x8f\\xde\\xd8\\x8f\\xce3\\x9a\\xcf\\xb2\\xb9\\x93\\xc8\\xb7b\\xc4\\x9d\\x96\\xac~c\\x8f\\xf5\\xec\\xa7\\xf4\\xab\\xb6\\x08\\x13M]\\xd3\\xdbb)l\\x99\\xcf\\xda\\x10\\x85\\x080\\xd99\\xff\\x00\\xf5\\xf6\\xaaV\\xf1\"\\xc3\\n\\xb5\\xcd\\x9eV8\\x94\\xff\\x00\\xa4\\xc7\\xd5g,\\x7f\\x8b\\xd0\\xe6\\x90\\xcd}\"\\xfd\\xacm\\xae\\xee\\x98<\\x82+'\n",
      "b'b\\xdbwr\\x7f~\\xebZ\\xf7Z\\xf1\\x82\\xf7\\xec\\xfeC\\xb1\\xc8\\x00\\x86\\x00s\\x19\\x7f\\xe9\\x8a\\xe6w\"h\\xfa\\xaa\\x89\\xed\\xd9\\xbe\\xc6\\xe3\\t2\\xb1\\xcf\\x9eXp\\x0f\\xa1\\xcdX\\xbe\\x92&\\xd4\\xa2\\x94\\xdc\\xdbF\\x84B\\xff\\x00\\xbc\\x99T\\xe3\\xc9e\\'\\x04\\xfa\\x91C\\x11\\xa5.\\xbc\\xd7q\\xc5\\x1c1:y\\xa6 \\xc5\\x98\\x1e\\x1e2\\xdc{\\xf1\\x8a\\xa0\\xf3J?\\xb2\\xc8\\x96A\\xba+\"\\xdf1\\xe7%\\xc1\\xcf\\xadQ\\xb4xS\\xec\\xdb\\xaf,\\xc6\\xc6\\xb6-\\xfe\\x90\\xa7\\x1b\\x11\\x83w\\xf7\\x15ff\\x89!\\xd3|\\xcb\\xabe\\x0b\\x05\\xb6s \\xe4\\xa4\\x84\\xb6=F\\x0fj\\x06\\xc8,\\xee\\xae6\\xda\\x16\\x9eS\\xf2\\xdb\\x93\\xf3\\x9e\\x7f~\\xca{\\xfe\\x15u\\'\\x98[\\xda\\x034\\x85\\x9a\\xca\\xe4'\n",
      "b'\\x13\\xb8\\xe7pc\\x83\\xd7\\xaf\\xbde\\xab\\xc0\\x91\\xa2\\xfd\\xb2\\xd7r\\xa2\\x0e&\\x1dD\\xe5\\xff\\x00\\xf4\\x13\\x9a\\xb8]\\x1b\\xec\\t\\x1c\\xa8\\xe0\\xc5t\\xa0\\xa1\\xc8\\xc1bG\\xe8h\\xb8\\x105\\xcc\\xcc\\xd2;M.K\\x15\\xce\\xe3\\xc7\\xee\\x86?\\x0c\\xd5\\x8b\\x1b\\xe9|\\xe5\\r)\\xe4\\x9c\\x82N\\x00\\xf2\\xfa\\xff\\x00Z\\xcdi\\xe2\\x03+*1\\xe3\\x81\\xcf\\xf0\\xed\\xfe\\x94\\x89 IU\\xa1a\\xd8\\x9f\\xae0EKe$^\\x82\\xeay1\\x89e\\x01\\x8as\\xbc\\x9eLG\\'\\xaf\\xa8\\xcf\\xd6\\x9fow7\\x9d\\x17\\x994\\x9c\\xb2\\x1c\\x92q\\x8d\\x87\\xadf\\xc1(K\\x84ft\\x18\\xdaq\\xc8\\xe8\\x0fN*H\\xe6\\x02h\\xf7H\\x0f\\xdd\\xe1{u\\x04\\x0f\\xce\\x95\\xc2\\xc3\\xdd\\xca\\xc1\\x12\\x0f\\x9dUH\\xc09\\xee\\x7f\\xc6\\xb3o%-p\\xcc\\xe7#\\xa8\\xabR\\xfc\\xb0\\x85r\\x10\\xaey\\xe7\\x9e\\x7f\\xfa\\xf5BI\\x03\\x16\\xc9\\xc8==\\xe8\\x01\\x8e\\xff\\x00&\\xd3\\x80\\t\\xc8\\xa8\\xcc\\xaaF\\x17\\xf9SYI\\x18\\x1fRM5\\xc9\\'j\\xf4\\x1d\\xe8\\x01\\xd8\\xed\\x9e\\x0f<\\xf1C\\xe6\"A9\\xe3 \\x1e\\xbfJ\\x8aL\\xfa\\xf1\\xf9\\xd4L\\xce\\xed\\xf7\\xb3\\x8e\\xd4\\xc4N\\xccH\\xe7\\x854\\xb10U\\xce2\\x8d\\xc09\\xaa\\xbb\\xca\\x92G?SR+/\\x97\\x8e\\xf9\\xe9\\xe9I\\x88\\x0b\\x91!\\xdaI^\\xc3\\xd2\\x9f\\x0e\\xe2\\xdb\\xc9\\xcbv\\xcfz\\x88\\x93\\xc8^ry&\\x85r\\x98\\xc6:\\xfe\\xb4\\x98\\x1a\\x862\\xb1\\x86$\\x03\\x9f\\x98t\\xc7\\xa6)ZEu\\x0c\\xeb\\xb5\\x97\\x8d\\xca8\\xf4\\x19\\xf7\\xe2\\x9e\\xec\\xef\\x95\\xba$N\\xf88<\\xf1\\xeb\\xf5\\xa8c]\\x8aW.\\xe3\\xb8?\\xa5f!\\xb2J\\xaf\\'\\xee\\x06\\x02\\xa8\\x078\\xcf\\xd74\\x91J\\x03\\x8f1\\x88\\xe0\\x80{\\x83Lr\\xb8\\xca\\xf0{\\x81M$\\x0c\\x82\\xb8\\xcd5\\xa8\\x12#lR\\x84\\xe4\\x1e\\x875b6\\xda\\x832m\\xf6\\x1c\\xff\\x00Z\\xa2\\x9b\\xb1\\xf2\\x92\\xbe\\xa4\\xd3Y\\x03\\x1f\\xe34\\x9cn\\x07y\\x1f\\x89\\xa5\\x12\\x8776\\xccC\\x96\\xda\\xccps\\xd8\\x8c\\xf4\\xe2\\xae\\'\\x8d\\xa7I\\x15\\xbf\\xd0\\x1c)9F$\\xa9>\\xe3up\\x9a\\x85\\xdc'\n",
      "b'v\\x97&\\x07\\xd3\\xe3,1\\xca\\xc9\\x91\\xfc\\xaa\\xb0\\xd4\"\\x8e2\\xc6\\xc9\\x1b,x\\x0f\\xd3\\xf4\\xadl\\x07x\\xfe6\\xb9\\xf3\\\\\\x87\\xb2Ea\\x8c\\x1c\\x908\\xc7\\x035\\x8f\\'\\x8a.\\x04\\xee\\x12\\xe2?\\xde\\x9d\\xcc\\xe8\\x01\\nq\\xd4\\n\\xe4\\xafob\\x9e\\x02\\x82\\xd4FO|\\xe7\\xfaTV*\\xf2\\xae\\xd8\\xa3\\xdcG^\\xd4\\r\\x1b7[0J9r9\\x04\\xe0\\x01TLn\\xb13:\\x10OR1\\x8cv\\xe2\\x98\\xd2\\xcd\\x1e\\xe4hHn\\xf95m\\x12{\\xbbP\\xe8\\x88\\x87%H$\\xe4\\xd0\\xd1I\\x95\\xe0RW\\x05\\xc7l\\x83\\xc5>6\\xd9(\\xe4\\xaa+d\\x81\\x83U\\x19\\xa7\\x8c2\\xb2gi \\xd4\\xb6\\xf2L\\xcb\\xb8\\x08\\xf9\\xf5\\xebE\\x82\\xf64\\x8b\\xc9;\\x96\\x00\\x80\\xcd\\x90@\\xed\\xd3\\x18\\xa7\\xb9`6\\xe5\\xca\\x83\\xc8\\x19\\xc7\\xe5Y\\x82\\xfe\\xe6\\xda\\\\,q\\x923\\x8c\\xe7\\x1fZYf\\xb90,\\xccc,>`\\xb99\\xebID9\\x8d\\x18 //\\xee\\xe4\\xda\\x8azc\\xb6zf\\xbam;\\xc4\\xb76\\xac\\xac\\x97\\x11$q\\x1d\\xdb\\x1d\\x01\\x00\\x81\\x8c\\x11\\xdf\\xadq\\x90j\\x17i\\x1b8\\x8e\\x15_\\xee\\xf3\\xfe5cO\\x9d\\xe6+$\\xab\\x12#1\\x04\\x91\\x9c\\x9e\\x9c\\xf3S(\\xebp\\xba\\xb1\\xd6j^%\\x96\\xfa\\xdeD\\x96\\xf6\\xdf\\x91\\x80#\\x05H\\x1c\\x0e\\x08\\xfc\\xe9,|U>\\x9f\\xa6\\xbd\\x9d\\xb4\\xf6\\xc66\\x18%\\xe12;q\\xc9,I\\xe7\\xe9\\\\\\xec\\x92\\\\\\xc7y,\\x11\\xc7f\\xc80\\xc5\\xc8\\'\\x03\\x8e\\xbc\\xd4S_]\\xa4\\xab\\x18\\x8e\\xc4\\x868\\xc8F\\xe3\\xb7\\xadit\\xfa\\x8a\\xcc\\xea\\x7f\\xe16\\xd4!\\x08\\xf1]\\xc4\\xecc\\xf2\\xc86\\xc0\\xe0g#\\xb7\\\\\\x93\\xcd2o\\x1e\\xea\\xad!\\x02\\xea5\\x038)l\\xa3\\xdc\\xf6\\xac\\x1b\\xa9/b\\x81\\x9e7\\xb1\\x93i\\x00\\x81\\x19\\x04\\xf1\\xd4sV\\xad \\xbc\\xb8\\xb6\\x12\\xf9\\x96J\\xfb\\x0bl1\\x9f\\xf1\\xa3N\\xe1vhO\\xe3\\x1dQ\\x96<^eT\\xee\\x00B\\x06\\xd3\\x83\\xd0\\xe3\\xde\\xa2\\xff\\x00\\x84\\xd3S\\xda\\xd9\\xb9\\x0eOg\\x8c\\x1cq\\xd8c\\xd2\\xb3\\xed\\x1a\\xfa`\\xfea\\xb1\\x87\\x0c'\n",
      "b'\\x14n\\x8c\\x9c\\x9fn}\\xa9\\x9b5\\x05\\xd4\\x05\\xb8\\x16,\\x19\\xbe\\xff\\x00\\x96q\\x8f\\\\g\\xda\\x95\\xd0\\xd3\\x91\\xae\\xde/\\xbdu>d\\xc9\\xb8\\x80\\tX\\x00\\xc8\\xc7\\x00\\xf1\\xfd)\\x9f\\xf0\\x94^\\xf9\\x8c\\xc2\\xe0a\\x80\\'\\xf7`\\xf2\\x07\\x1d\\xbd+?R\\x8bQ\\xb4\\xd8\\x15\\xacf\\xdd\\xd7ldm\\x1d\\xb3\\xcd\\x17\\x89\\x7fob\\xd7\\x02[\\'e\\x00\\x94\\x11\\x1c\\xfd\\x01\\xcd\\x17\\xf3%\\xeb\\xb9p\\xf8\\xa3P)\\xb4\\xdc\\xe1Bl\\x03\\xca\\x1c\\x8f\\xcb\\xad \\xf1\\x1d\\xdc\\xe8\\xc9q8*\\xe1\\x95\\x87\\x900Cu\\x07\\x8e\\x95[J[\\xcb\\xd8<\\xe9&\\xb5\\x85\\xb3\\x80\\xbeVr0=\\xea\\x18\\xa5\\xd4ZwY^\\xd65S\\x82L=\\x7fZ.\\x83\\x96\\xdb\"\\xe3k\\xb7(\\\\Ep\\xe8\\xac\\xd9a\\x1a`?A\\x93\\xc7<\\n\\x94k\\xf3\\x06\\r\\xe7H1\\xb7\\x04F8\\xc0\\xc0\\xedX\\x92_\\xde\\xa5\\xff\\x00\\xd9VKb\\xc5\\xc0\\xcf\\x921\\xcfz5;\\xeb\\xdbf\\x02\\x19b\\x90\\x13\\xb7>@\\x14\\xf4\\x11\\xab>\\xb4\\xd3\\xa7\\x91$\\xb2\\xb4\\x00\\x00\\x13f\\x07Lzz\\x00*8ob\\x81\\x15-\\xcc\\xc3i\\xdc\\x14\\x03\\x80}k:\\xeaK\\xb5\\xb33\\xcbu\\x10`\\xb9\\x08\\xa8\\x06O\\xa5X\\xd1\\x9a\\xee\\xf9\\x0b\\xb5\\xfcP\\xb7\\n\\x00\\x81Ni4\\x9e\\xe3M\\x9a\\xdf\\xdb\\x8f\\xf6`\\x9b\\xeeCm\\x03\\x01@\\x19\\xce\\xef\\xe7\\xcdEy\\xae\\xdc\\xcc\\x91\\xacs\\\\\\xe0d\\x1c\\xa8\\x1c\\x12\\x18\\x8e\\x9e\\xa35\\x9f\\x1b_\\xfd\\xaah\\xee/Q#\\x8b?0\\x85F};T\\x12\\xcb~/#\\x8e+\\xa3\\xf6v\\x19\\x12\\xb4J\\x07\\xbfjj\\xc1\\xa9\\xa8u\\xeb\\x9c\\x13,\\xd7\\x0crNH\\x03\\x93\\xc9\\xaaO\\xe2\\x1dE\\x9dK\\xde\\\\\\xfc\\x8c\\xc5\\n\\xb1\\x1brrqTu\\x87\\x96%S\\r\\xf3\\xcc\\x0b\\xed?'\n",
      "b'\"\\x81\\xf5\\xe9T\\xee\\xb7G\\x11\"wg\\x03\\xdb\\xad-\\x00\\xd6\\xfe\\xd9\\xbdy\\x19\\xdek\\x97c\\xd4\\xb4\\xc7\\'\\xf1\\xcd1\\xb5\\x99\\xbf\\xe9\\xb6GS\\xe7\\x1a\\xa7\\xa7Z\\xbc\\xf6\\xbel\\xf7O\\x19$\\xe0q\\xc8\\xf5\\xa8\\xad y\\xa5a$\\xb2\\x04\\x1e\\xc2\\x804\\x86\\xb1*\\x8f\\x98LA<fbq\\xda\\xa6\\xfb|\\x93\\xc5\\xb6+WV\\x1cn\\xdcs\\xf8VD\\xf0\\xed\\xbbX\\xfc\\xe9vpI\\xc8\\x1f\\\\V\\x83\\xdb\\xb8\\xb7\\xddisr\\x988 \\xb6s\\xe9\\xda\\x9d\\xd0Y\\xb2\\xe2^<\\x1b[\\xec\\'#\\xb8a\\xfe\\x15\\x13]\\x16\\xb8Y\\x96\\xd2Te\\xc6\\xd6R\\x01\\x07=sN\\x92\"\\xf6\\xad\\xe5\\xdd^\\x19\\x82\\x80\\x0f\\x99\\x91\\x9e\\xe4\\x8ct\\xa8d\\xddmb\\x1e\\xe6\\xfa\\xf1& \\x9020\\xde\\x83\\x18\\xa5\\xa0jK#\\xc3.\\xe2l\\xe6\\xf3Xd\\xb6\\x07\\'\\xd4\\xf3H\\x1a\\x15\\x8a\\x12\\xb6\\x93oP7\\x1c\\x0eO\\xaesU4k\\x95\\x99\\xe6mB\\xf2\\xe7b\\x8f\\x94\\xa3\\xe3\\xbf~)l\\xdek\\x9dRU\\x8e\\xe2\\xf0\\xd9\\x02v\\xfc\\xc4\\x9ct\\x19\\xe2\\x9e\\x81\\xa9xN\\xf2\\x97\\xfbD7\\x12G!\\xdeT\\x9c\\xe5\\xff\\x00\\xbcy\\xeb\\x8e\\xf56\\xebL\\xe0i\\x92\\x9f\\xae\\x07\\xf5\\xa8\\'P\\xb2\\xc6c\\xba\\xbc1c\\xe6\\x05\\xce}\\xfbqD\\x9e]\\xd8&\\xcaK\\xc4x\\xd8n&V\\'\\x1e\\x98\\xa5\\xa0\\xf5\\x16L4l\\x91YJ\\x91\\xb6\\x0b&F\\x18\\x8e\\x84\\x8e\\xf5^+t\\xf3U\\xde\\xc0\\x95\\xee\\x00\\x194\\xfdJh\\xe2\\xb7\\x10\\xc4\\xf7\\xaby\\x80\\x01i\\x9b\\x9fS\\x8c\\xd2#\\x9b}=|\\xf6\\xbd{\\x87\\xce\\xd630\\\\\\xf6\\x03\\x9a4\\x16\\xa5\\x81\\xb24x\\xe2\\xb2\\x95\\x12Q\\x86\\x1c\\x00\\xdc\\xf1\\x91\\xde\\x92m\\x92\\x90\\xd3X;\\xc9\\xc6Y\\xb0I\\xf4\\xc9\\xfaqT4\\xb3r]\\xcd\\xcc\\x972\\xa2d\\x12$n\\x0eq\\xd74\\xf5\\x9aU\\x95\\xc9k\\x99\\x17\\xa2\\xaf\\x98\\xdc~\\xb4\\xf4\\x1e\\xa6\\x95\\xb4\\x96q\\xb6\\xe3\\xa4\\x96\\xe3\\x04aqV\\xe4\\xbc\\xb4\\x9eEg\\xd2\\xe5.@\\x1b\\x9bi$\\x01\\x8eM`\\xb8\\x9f\\xcf\\x8eA-\\xc2@\\xdc\\x98\\xd6C\\xd3\\x80{'\n",
      "b'\\xd2\\xbb<\\x8a\\xa6)\\xae\\x03+\\x10\\xc3\\xcc9\\xe9\\x9fZ4\\rM\\xe4x\\t\\x1b,\\x1c{aq\\x8a\\xb7\\x1d\\xc8pw\\xdbHC\\x00\\xa7\\x91\\x92\\x07L\\xfbV+2\\xcbi\\xfb\\x9f\\xb4\\xc7 \\x19\\x04\\xcc\\xd9a\\xd0\\xf7\\xa7\\x19cKa\\x0b\\x1b\\x95\\xb8*@r\\xec>ld\\xe3\\x9a\\x97\\x14U\\xd9\\xb8e\\x84\\x05\\xc5\\xb4\\x98\\xf48\\xa4i\\xa2\\x11\\xb2\\x8bb\\xa0\\xf5\\xc69\\xfa\\xd7(\\xb7\\xae-7\\x97\\xb8g\\x04\\xfc\\xc1\\xc9\\x07\\x8e\\x07Z\\xce}V\\xef\\'\\x12\\xcaT\\xfa\\xb1\\xe9K\\x95\\x07;:\\x99\\x1a\\xdef\\x1e\\\\e\\x07Bx\\x15V\\xe2\\xc5\\x0f `z\\xd6F\\x91z\\xd2N\\xd1J\\xf2n \\x18\\xcaz\\xf7\\xab\\xfa\\xa1\\xb9]\\x8d\\x19\\x94\\xa9\\xea\\x0f^\\x9e\\x95.\\x05\\xc6\\xa1\\x04\\xdaz\\xe74\\xd4\\xb1$dT\\xb6i4\\x91\\x87\\x95$*IRrz\\xfab\\xa4\\x16\\xb2\\x88\\xd9\\xd9\\x8e\\xd1\\x9e\\xa6\\xb3\\xe56SDQ\\xc3\\xb3-\\xddy\\xc5K\\x0c\\xce\\x18\\x8d\\xc0\\x03\\xc0\\xcdEw\\x19\\x896\\x95!\\xb1\\xc9\\xcf\\x19\\xfc\\xeb9\\x15\\xce\\\\\\x82\\xca\\x0f#8\\xa6\\xa2\\xc4\\xea#`l\\x97>d{\\x90\\x0e=\\x8dG\\xb4#;\\xf9;\\xf1\\x82\\x17\\xb8\\xfa\\x1a\\xca\\x8d\\x1aiAU}\\x84\\xe0\\x0c\\xd5\\xf4\\xb10\\xdc\\xb6\\xe7w\\xf9rv\\xb1 \\xfbf\\xb5\\x8a0\\x93\\xb9#\\x97\\x96F-k##\\x1d\\xd8$\\x1f\\x9b\\xb9\\xfa\\xd4m\\n\\x9c\\xaaX\\x90\\xd8\\xc0\\xe8\\x05L\\xf6n\\xe6&W\\x95W<\\x80\\xe7\\xa7_Z\\x9am8I\\x03<-2\\x15\\xe9\\xfb\\xc3\\xcf\\xebW\\xa1\\x9e\\xa5!\\x04\\xa26Qn\\xea\\xad\\x8c\\x80p\\x0f\\xa6E\\x16\\xf02\\xb6\\xe6\\xb3\\xde\\xbc\\x822\\x07\\xf4\\xab\\xf1\\xd8\\xac\\xc8\"\\tp\\x1c\\x0e]\\xa4l\\x93\\xed\\xcdW[H\\xad\\xe2\\x0b:L\\xeeI\\xf9\\x8b0\\x00~}h\\xba\\x1aLl\\x80\\xe0,vn\\x99\\x05[\\x07\\xef\\x0e\\xbc\\xf1L\\x8e9\\xb3\\xba[b\\xe7\\x802z\\x0fJX\\xad\"\\x86B\\xd2y\\xb2\\xaex]\\xe7\\xd3\\xebR\\xdci\\xa1eYbIY\\x0f\\xccSq8\\x1f\\x9d\\x1a\\x05\\x98\\xd9\\xd8H\\xa4Gc\\xb1\\xb8\\x04\\xee'\n",
      "b'\\x1e\\xbfJ\\x85dd\\x91]\\xed7\\xa8\\xc8\\xc1n;\\xfbT\\x17\\x96\\xe3|N\\x14\\xa21\\xe5A9#\\xf3\\xa9\\x1a\\xce\\t\\xa3,\\xb1:\\x01\\xdc\\x93\\xfc\\xa8\\xd0Z\\x8f{\\x90c\\n,\\x90c8;\\xf9\\xfeU\\x12\\xcf\\x91\\x81\\x06\\xd3\\xdf\\xe6\\xcf\\xe5H\\xf0F  [\\x1c\\x91\\x80\\xe6\\xaa\\xa2\\x98\\xd3j\\xc6O?x\\xd1a\\xeaZi\\x86p!\\x03\\xdf4\\xe8\\xe6\\xe3n0A\\xef\\xd3\\x15^\\x18\\x99\\x89b\\xa5\\xbd\\x859I\\xc9 R\\x199rT\\xb63\\x83\\xc7\\xa5+\\xcc\\x99\\xeeN:\\x8a\\xac\\xf2\\x02pO\\xe1K\\x1b#\\x1c\\x10\\x15O\\x04\\xe0\\x82(\\x04:Y\\xd8\\xa8.N\\x17\\xa1\\xcesP\\x89\\x06\\xdc\\xe3>\\x86\\xa6\\x16\\xab!\\xdb\\x03g\\xdb\\xb5F\\xf6\\x8e\\xaeW1\\xf9\\x80\\xe0\\xa0l\\x9f\\xa9>\\x9c\\xd0-\\x86\\xef\\xdc\\x00\\xcf\\xd6\\x91X\\x03\\xb46\\xdct\\xf7\\xa8\\x91\\\\\\x82G\\xf8R\\x98\\xdd\\xb0\\x7f\\x01\\x8e\\xb9\\xa0\\x04\\x901$\\xe0\\xfd*\\x12\\xc5I=\\xfb\\xd5\\x98P\\xe4\\x892\\xa5y\\xce?:m\\xc4_\\xc4\\x80\\xfa\\x90y\\xed\\xd6\\x9d\\xc0\\xae\\x089$R1\\xef\\xdf\\xa5L\\x90\\x96R\\xc4aGsQ\\xc9\\x19\\xfb\\xa0t\\xe0\\xd1t\\x17#$\\xfa\\xd3\\xe2e\\x12\\xa0~\\x14\\x11\\x9f\\\\S\\x02\\x9d\\x9c\\xf5\\xec*\\xdd\\x83\\xa4k*J\\x88\\xe8\\xe0d\\x90\\t\\x1fC\\xda\\x93\\xd8E\\xc9\\xb0\\xd2\\x86G\\r\\x86\\x1bI\\xe0\\x91\\xefD\\x92>Y\\x1b\\xb7n\\xf5\\x07\\xfa8\\xe22T\\x8eO9\\xa8\\xbc\\xc2\\xc0\\x90z\\x1e\\xbdk4\\x84Y<.\\x00\\xc7\\xe3\\xcdFK\\x02\\xb9\\xe4\\x8e\\x99\\xedQ3t\\xdc\\xd98\\xa8]\\x9c\\xe0\\x83\\x8ep\\x0f\\xb5;\\x01n5c*\\xc6:\\x93\\xc7#\\x1f\\x8dO\\x83\\x16\\x17o\\xbf\\x06\\xa9\\x87\\x00(\\xcf\\xce\\xa7\\x82:\\xd3\\x9aIF>l\\xfb\\xe6\\x8b\\x00\\xed^\\xee\\x0b\\xa7Ic\\x8d\\xd7\\xa8 \\x9f\\xcb\\x9a\\xa0\\x9f1P\\xb9\\xe4\\xf0+O\\xc9\\x0f\\t\\xdc8\\x1f\\x9d2\\xdf\\x16w\\xa9\"\\xdb\\x87\\xc1\\xc8\\x04\\xf1\\xd3\\xf4\\xabj\\xe5\\x15g\\x84Fv\\\\$\\x8a\\xe3\\x96\\x18\\xfc\\xaa\\x1d=\\xc2]\\x0e\\xa1\\x18\\xe3\\x01\\xb1\\xf9\\x9a\\xd2\\xd6\\xb5io'\n",
      "b'!\\x11I\\x02D\\x01\\xc9#$\\xe6\\xb1\\xc0\\x0b\\x92:\\x9e\\x86\\x8d\\x84vP[\\xa4\\xfb\\x1fb\\x1ev\\xe0\\xbes\\xc6z\\xd3\\xd6\\xc4\\xa3\\xb01F\\xd9<e\\x88\\xc7\\xe1\\\\\\xc5\\xad\\xd4\\xf0\\xaa\\x88\\x9c\\xa8\\xc8n;\\x1e\\x80\\xd7O*j\\x8d\\xe4\\xc8\\xb2E\\x99\\x009^\\x00\\xf7\\xa9\\xb9I\\xdcYt\\xf2\\xd1\\xccv\"\\xa8\\xcf\\x00\\x13\\x81\\xf5\\xaa\\x90\\xe9\\xa31\\x80\\x91\\x9c\\x8fC\\x9f_Z\\xe8\\xd2\\x19\\x17Ng\\xb9\\x9c\\x90\\x06Y\\x82\\x8c\\xe3\\xa7\\x03\\x15Jm.{[c$7r\\xb6\\xd0X\\x06\\xc1\\x14s\\x05\\x8c\\xa7\\xd3\\xcc\\xb7\\xdbG\\x966\\xa0c\\x91\\x91\\x9c\\xf4<\\xd6}\\xc5\\x89\\x8e\\xf5\\xa3\\x0c\\x81\\xb8`\\x00\\xe3\\xe9\\x8a\\xdc\\xd1\\xec\\x9e\\xe0\\xb5\\xc1\\xb8\\x91\\x03c\\x18\\xc7\\xcd\\xfaV>\\xb8\\xd3\\xc1}u |\\xb4d`\\xe0t8\\xebV\\'\\xa1\\x99x|\\xd9|\\xa5]\\x85I\\x03np\\xd5n\\xcd\\'Y\\x11V \\xcd\\xc6GS\\xd7\\xb8\\xac\\xe8\\x19\\xb0\\x18\\x1c\\x9c\\xe79\\xad{)\\x90\\xcb\\x18\\x95\\x8a\\x1c\\xf0z\\xfe\\xbfZ\\x99\\n\\xe6\\x97\\xd9\\x1d\\x91\\xd8Znfl\\x93\\x92\\x08\\x00c\\x15Z\\xf6\\xd5\\xa0ug\\xb5p\\x84\\xf0\\t\\xc8\\xfeu\\xd3C!\\x11\\x80\\xc4gi$\\xfa\\xd5{\\xa0\\xb2\\xdbFdt\\n\\xce@\\xcfn\\xe34$WC\\x0c\\xb41\\xd8\\xc9\\x88\\\\\\xbe\\x0ev\\xe0\\x81\\xe9\\xde\\x9b\\xa6\\xeb\\x08\\x926\\xdb1\\xf3wBI\\xe9\\xd2\\xb5m-U\\xa3\\xb9PSh`3\\xeb\\xf4\\xaa\\xd6\\xf1\\x88\\xf5\\x07H\\xfc\\xa4\\xca\\xe7$pO\\xb5&\\tu,F>\\xd1\\xb6_\\xb0\\x12\\xa7\\xa1\\xc8\\x07\\xeb\\x8c\\xd4\\x8e\\xb2\\t\\xc3\\x0b7p\\x17n$`0s\\xd4`\\xd5q\\xa9\\\\@\\x00\\x7f,\\xaa\\x82\\x08\\x03\\xbex\\xc1\\xcd2=br\\xa7\\xfdY\\'\\xa0+\\xd3\\xf5\\xa2\\xc3\\xb9v\\xea\\t|\\xaf8\\xdaH\\x02\\xc8\\x1b``A\\x1c\\xf0y\\xce9\\xac\\x9b\\xeb\\xe5\\x8a\\x19\\x12KWG9\\x19\\x07#\\xdb<\\xd6\\xc9\\xd4\\xa7\\x92\\xd8\\x82\\xf0\\xb6y .;\\x028\\xcdc\\xde\\xc7\\xe7E+1\\x0c\\xccNF0)\\xa1\\x14l\\xf5d\\xb6R\\xcdn7\\x04\\xda\\xa4\\x13\\x80'\n",
      "b'{\\x1cS\\xeco\\xa5\\xb8\\xb8g\\x96\\x04\\xb8\\x19,\\xc0\\x8c\\x121\\xcfzlVq\\x1c\\xa3\\x10\\xab\\x9e\\xbdjk\\x18\\xc4\\x12I\\xb0\\x81\\xf2\\x1ez\\xf7\\xe9N\\xc22\\xcb\\x7f\\xa5\\x99\\xc4o\\xb4\\x1c\\x91\\xde\\xa7\\xd4/\\xe2\\x96(\\xd2\\x18<\\xb2\\x1bq\\x1f\\xe1W#TP\\xe1\\xc8\\x05\\x87_\\xf0\\xa6\\xdb\\xa4_jS7\\n\\x14\\xe0\\xe3\\xbe8\\xa7a\\x14\\xaf\\xaf\\x05\\xde\\xcc\\xc1\\x1cl\\x00\\xc0\\x8c\\x11\\x9f\\xaf5\\xb3\\xa2Au\\x05\\xa1qo\\x1b\\xa1!\\xb2\\xc4\\x06\\x03\\xd8\\xd6l\\xca\\x8d\\xf3\\x80I\\x07>\\xd5\\xadm|\\x16\\x08\\x95&q\\x81\\x86\\xe3\\x8cz\\x0e)1\\x86\\xa54\\xcf&\\x16\\xde6BC60OL`\\x1cT\\x977\\xf2\\xb4b\\x18\\xec\\xd1\\n\\x82\\xa4\\x16\\xceG\\x19\\xe3\\x1dj\\xa5\\xdb\\xc8\\x08\\x16\\xb1J\\xc9\\xd9\\xb1\\xcfO\\xad=\"\\xb9\\x83\\x17\\x0e\\xdbX\\xa8p\\x87\\x9e\\t\\xc1\\xcd$\\x02\\xcfi,\\x82\\x08$\\x8e\"g9\\x07\\'+\\xc6y\\xe2\\xab\\xdeY5\\xb4A\\xc8\\x89\\xd5s\\xc6\\x0fJ\\xdc\\x10\\x8d\\xb6\\x8c\\x1d\\xc3\\x96\\n\\x0f\\xd7\\xadc\\\\\\xc1$\\xf7\\x06\\xdc\\xb9eI\\n\\x8c\\xf5\\xc6y\\xcd;\\x05\\xca\\xd2^<V\\xe8\\x8d\\x0cl\\xa5A_\\xff\\x00^*\\xb5\\x95\\xdd\\xc2;\\xb0\\x03k\\x12@<\\x8e\\x95&\\xa1lm\\xae\\x1a\\x11\\xf7F\\x08\\x07\\x9fzdQ\\x92v\\xe3\\xa7Jv\\xd0.-\\xc5\\xec\\xaf\"\\xba\\xc5\\x1a\\x92\\x08\\xc0\\xce\\x05mB\\x97ol\\xb2\\x19cR\\xf8bB\\x9e\\x0fnsTg\\xb7\\x08Uv\\x000H\\xf5\\xf7\\xa7B\\xc4\\x11\\x1bd\\xc6\\xbc\\xe0\\x93\\xcd\\x16\\r\\x8b\\xf1\\xc5y\\xe53\\x0b\\x84f\\x1ca\\x97>\\xf8\\xebY\\x97\\xd6\\xb7S\\x84\\x17\\x17%\\xd3\\x19\\x00\\xf4Q\\xd3\\x02\\xaf+\\x9f%\\x93$\\xe0\\x93\\x9e\\xf5X8\\x8c\\x12\\xe3p \\xe3<\\xd0\\x90\\x10M\\xa5Km\\xa7\\xbd\\xcc\\x12\\x02\\xa7\\n\\xc0\\xf5\\x00\\xf0j\\xa4\\xc2\\xe6\\xcd\\xc7\\x93)\\x01\\x90d\\xa1\\xc7\\x1e\\x86\\xaf\\xcb:\\xb4e\\x0c.\\x81\\x87\\x07\\xb1\\xfaTa\"`\\x00(\\x01\\x189\\xe3\\x9a\\x1b\\xb0\\x14\\xe3k\\x99\\x9c\\xeds\\xbb\\x1e\\xa7\\x9fZ\\xd6\\xb2\\xb2\\xbb\\x8a\\xdd\\x87\\x9d\\xe5\\xbc\\x8a'\n",
      "b'X\\x8c\\x02s\\xdb\\'\\x15\\x05\\xae\\x9a|\\xed\\xe2D\\n[nX\\xf08\\xfdkqm\\x95\\x19pc;I \\x8es\\xc6(\\x03\\x9e\\xb1\\xb7\\xb8\\xba\\xbf\"\\xf2Y\\x03\\xe0\\x85f9\\xe7\\x1c\\x01CX]\\xbb\\x81\\x1c\\xa5\\xd4\\x1e\\xb9\\xe0{\\xfe\\x95\\xaaa-r\\xc5|\\xb1\\xb4\\xee\\x01\\xb3\\xd7\\xda\\x96\\xc6\\x1d\\xb1L\\xe0\\xc7\\xc1\\xdcr2O\\xb0\\xa0\\x0c\\xe3n\\xd0[\\x19D\\xef\\xbc\\x93\\xb8)\\x1c\\x9a\\xaf$jWz\\xbc\\x9b\\x9b\\x83\\x93\\xc6}*\\xf5\\xf3\\x13\\x18\\x8d\\x08\\xda\\t \\xf7\\xac\\x7f9\\xe3v\\x07\\x95\\xce\\x08\\xce9\\xa0M\\x97\\xe2\\x04\\xc4C8.9P\\xc0\\x11\\xf4\\xc5^\\xb4\\xd3\"\\x11\\xa3I#\\xa9nXn\\xc0\\xcdg\\xc2\\xc1\\xc0f\\xc2\\x9f@;T\\xb1(\\x9et]\\xc3`\\xcewg\\x1f\\x8d\\x0b\\xb0&2u\\x9df\\x11\\x89\\x7ft\\tQ\\xd3\\xa5\\x11\\xc2\\xcc\\x8ac\\x99\\xc3)\\'\\xaej\\xd5\\xd2\\xe5\\x83)\\x03\\x1c`w\\xa1\\x90\"\\x06@\\x9b\\xb7\\x0e3\\xde\\x98\\x19^L\\xb1\\xb1\\xda\\xee\\x17\\xafj\\xab-\\xbb\\xad\\xc6\\xd3\\x82\\xc0\\x9eW\\xa1\\xad\\xbf\\xb3\\xc6\\x15\\xe4\\x04>T\\xe4\\x1e\\xc7\\xda\\xa9*\\x02a\\xe83\\x9a\\x00\\xce\\xb3c\\x1c\\xea\\xf9(A\\xfe\\x13\\x83\\x8e\\xf5\\xb1}~\\'h\\xfc\\x90PG\\xc8$\\x92s\\xf5\\xcfJ\\xcd\\xb8\\x8c%\\xce\\xd5;q\\x8eEMo\\x02\\xbb\\x90\\x0f\\x01K\\x16\\xe6\\xa0\\x11\\xb7\\xa0\\xdc\\xdbys%\\xc1\\x1b\\xd9\\x8b\\x06nA8\\x03\\xfaS\\xae5k@\\xc2\\xdd#;\\x15\\x80g<w\\x19\\xc0\\xf4\\xac\\xdd(\\x18nb\\x95\\x81\\xda\\xc7nON\\x98\\xc5:\\xe6 5\"\\xcb\\xca\\x16\\xe4\\xf6\\xfaS\\xb1Whl\\x97\\x10I#\\x18\\xd7\\x082A\\xdb\\x83Q\\'\\x91\"\\x02\\xcc6\\xaa\\x92X\\x8e3\\xe9R4g8\\x0b\\x91\\xea=*I\\x16!`\\xf0\\x93\\xb4\\xb7\\xcc\\xa3\\xa1\\x1e\\xb4l+\\xb2\\xc5\\xaf\\x915\\xd2\\xf9\\x04\\xa2\\xc6\\xa0\\x06\\x18\\x04\\xf1\\xd7\\xa5Yk\\x10\\xc4\\xe2gf\\xed\\x9a\\xcf\\xd3C\\xc3\\x18\\n\\x01\\xdc9={\\xf4\\xad\\xeb\\x178\\x1b\\xca+g\\x8cc\\xa6(Z\\x8c\\xcb\\x9e\\xd4\\xb9\\x80\\xb4\\xf2e\\xb2\\n\\x82\\x06\\x08\\xfc*'\n",
      "b'\\xdb\\xdb\\x94\\x83\\x1et\\x81\\x08\\xc62?\\xc2\\xa6\\xba\\x90\\xad\\xfc?0\\x00\\xf5\\xca\\x9a\\x92\\xfeL\\x85@\\xc0\\x83\\x93\\xd0\\xf5\\xa6\"=&\\xd1\\x0c\\xb8\\x13\\xc8\\x13\\x92pFs\\xf5\\xc5&\\xa9\\xa4\\xc3\\x1b1\\x8aYA\\x19#\\xe7\\xc8\\xcf\\xd2\\xae\\xe8M\\xb5\\xdb\\xd4\\x9fL\\xf6\\xa6\\xea\\xcf${\\x8a\\xbe0\\xdc\\xe4c\\x8a]G\\xd0\\xcc\\x8a\\xc6 \\x15\\xdaW\\xce\\x06NA\\xe7\\xf2\\xab\"\\xcd\\x1d~y\\xe4c\\xdb$\\x0e?*`a%\\xa6w\\xe3\\xa0\\xc7\\xe1\\x9a\\xb5\\x0b\\x06\\x81I~G\\xa0\\xf7\\xa6\\x05\\x0b\\xeb\\x18|\\xa0\\x8a\\xecy\\xf5\\x18\\xfc8\\xaakm\\x88\\x99\\x12I\\x069\\xc0=kZ\\xe0\\x80c;\\x8f\\r\\xc1\\xc7\\xb7\\xd2\\xa8\\xde\\xca\\xc8F\\x0e\\t\\xe3\\xa7j\\x04R\\xf2cH\\xce$\\x91Ny\\x19\\xa8\\x04k\\xc9V;\\x8f~\\xf5a\\x9b?\\xc5\\x9e\\xbd\\xaa\\x05\\x00`\\x1f\\xc2\\x98\\xc6}\\x9c\\x89\\xc2\\x9d\\xe3\\xb99\\xe6\\x89\\xadF71%:\\xf3W\\x19y/\\x9c1\\x1c\\x8a\\xa9p_f2\\xfc\\x9c~\\x14\\x84T\\x962~u\\xe0p*H-\\x8c\\x8b\\x95\\xe5\\x8f\\x18=*\\xc8\\x80l0\\xc8\\xf8?\\xc3\\xc6G\\xa9\\xa9\\xca\\x98\\xc0L\\xa0^\\xc5{\\xff\\x00\\xf5\\xean4\\x88\\xe1\\xb4\\xd8\\xdf|#u\\xc3t\\x1e\\xbcw\\xa2|6\\x19\\x86\\xe6\\x0c0Tc>\\xc6\\xa7\\xc2\\x15\\x0b6p\\x0f\\xa9\\xc05\\x17\\x98#\\x0c\\xa1@\\'\\xa1\\xe7\\xf3\\xcdK\\xbb\\x1d\\x87\\x11\\x13H\\xcd(\\x0cH<7\\x1c\\x9fo\\xc2\\xaa\\xca\\x81\\x80X\\x90\\xa1N\\x0f9$\\xfa\\xfb}*}\\xe9\\xc2\\x8f\\x98\\x807\\x03\\xdf\\xd6\\xa6\\x8d\\x15$\\r\\xceX\\x0e\\x18\\xe7\\x02\\x8b\\xd8Hd\\xe8Z(\\xe1pC\\xa89\\xcf$\\x1e\\xbc\\x1ao\\x92\\x91\\x87\\x05H\\xc1\\nT\\xf5<v\\xfci\\xf7\\r\\x87\\xc6\\xf1\\x85\\xcf\\x19?\\xa5P\\x1a\\x89Y>e\\xdcGJ\\x94\\x9bZ\\x0cY\\xa2e\\x8dV>\\xa4\\xe4\\xee==*\\xb4\\xdf!\\xc6r8\\xc1\\x1c\\xe4\\xd4\\x86\\xf4\\xb4\\x9b\\xf9-\\x93\\x92I\\xa4G7\\x12*\\x95-\\x9e6\\xaf {\\xd5\\xa4\\xd6\\xe4\\xd8b\\xc2fGf\\xc9\\x03\\xa0\\x1c\\x01MWkIU\\x82\\x1d\\xac'\n",
      "b'\\x0e\\xd6#\\xa8\\xe9\\x91V\\xadlgiK\\xec&2p\\x07\\xbf\\xd2\\xa2\\xbf\\xb3\\x94O\\xb5T\\x95\\n6\\x8c\\xe4{\\x81E\\xd6\\xcc\\x08\\xa7h\\xcc\\x83o\\xaf@;S\\xa4`\\x87i;NHn\\x95ZheY\\x15\\x19p\\xc4\\xe3\\xd4g\\xebM o\\xda\\xed\\xc0\\xe0\\xe3\\x9ej\\xb9D\\xc9\\xd9\\x87<\\x03\\x9e\\x86\\xab\\xbb\\x00H=GOj\\x95q\\x86Pzt\\x1d\\xea\\xbc\\xcb\\x87\\xce0\\x0fL\\xd0\\x84\\x87\\x07\\x0b\\xc9\\xe7\\xdcR3\\x869\\x0f\\x8f\\xa8\\xa8\\x888\\xfe\\x94\\xa3\\x18\\xe4\\xd3\\x19\\xd0\\xaa\\xfc\\xbe\\xdd\\xe9\\x1dHu\\xcf<v\\xa9G+\\x8c\\xf1\\xda\\xa2\\xc9\\xfb@\\x078\\xdb\\xfdi\\x81OQ\\x88\\xb0w\\xda0\\x14\\x1f\\xd7\\x15\\x9d\\x14e\\x81\\xc2\\xe7\\x1e\\x9d\\xabj\\xfe3\\xe4HW\\xfb\\xbc\\xfeu\\x8e\\x8f\\x81\\xb5\\x8e\\x01\\xe4c\\x8a\\x99\\x01=\\xbe\\xf7\\x9d\\x125\\xcb\\x1c.\\x07B+\\xb8\\x92)\\xad\\xec\\xac\\xe3D\\xdc\\xb9\\xc3\\x9er8\\xed\\\\\\xae\\x87\"\\xa5\\xfcn\\xe8\\x19A\\x0b\\x81\\x8c\\xf5\\xea+\\xd0\\xc7\\x94\\xf1\\xa6A#\\xafAP\\xadr\\xa296\\x98$\\x8dNJ\\x00\\x08#\\x1d\\xbdj\\t\\x18KlA\\x8c\\xb30*r\\xdc\\x01Z\\x11\\x88\\xccl\\xab\\x91\\x93\\x8e\\xde\\x95\\x01\\x8a\\x15\\x88\\xecg$\\x1c\\x92\\xc0c\\x15`eF\\r\\xa7\\xd9-\\xe1\\x89\\x15z\\x90\\xc4\\x92\\xf8\\x19\\xc6q\\xc5dx\\x96\\x18\\x0c7\\x8d\\x1cede\\x0c~l\\x80wc\\x03\\x8fj\\xd9\\xbe\\x95\\x8c\\xc8bp\\xa10[#<\\x12\\x00\\xefY\\xfa\\xf8Y-\\xe6x\\xc6c\\x8d\\x00r\\xc7\\xa9\\'\\xa0\\xe3\\xad\\x1b\\x0b\\xa1\\xc3\\xdb\\xa1\\r\\xdf\\x83\\xc8\\xed]&\\x9fb\\x85r\\xea\\x8c\\x00\\xdc2{\\xe6\\xa8\\xc7\\x01d\\xc2\\xe0\\x03\\x83\\xd7\\xa8\\xad\\x9b\\x08\\x89\\x8dr\\xc0.\\xcc\\xf3\\xf5\\xa5\\xa0\\x95\\x99v\\x12?w\\x80\\x80\\x00I\\xc9\\xa9\\xe5Plc\\xc8\\x8bh~\\xe7\\xbe;\\xd4q\\xb1!S\\x00(#\\x07\\x1d\\xb1\\xf4\\xab\\x13\\x80\\xd6\\xa1\\n\\xa6\\xdd\\xddO\\xd3\\xe9T\\x99M\\x14\\xedd\\x929dA\\x1cF6pI\\x07\\xbej\\xd7\\x90\\x06\\xba\\xff\\x004JDy\\x078\\x1d\\x06j\\xacN\\x0eP\\xc5\\xb0'\n",
      "b'\\x83\\x90q\\xc7\\xd2\\xb6\\n\\xe7T\\xf9\\xa0\\x89\\x08^\\xe7\\x9e\\x99\\xf4\\xa9\\x96\\xe3\\x89\\xcej\\xf1\\x81q\"\\x83\\x1a\\xe1\\x87\\nr*\\x99\\x8c\\t[k\\'@}\\xabgZ@.\\xdc\\x88\\xd0\\r\\xc3\\xee\\xfd>\\x95C\\'\\xcel(\\xe4\\x0c\\xe2\\x9a\\x17Q\\xd6\\xf1\\xf5`\\xc0aqR\\xb2\\x8f.@\\x00`F\\x01\\xfc\\xbb\\xd4\\xb0\\x82\\xb09\\xf96\\xe3\\x9e;\\xd4>y\\x8a6]\\x80\\xee8\\x04\\xd2\\xd8\\n\\xdeX[\\xb6.P\\xaf\\'\\'8<S\\xe0\\x8d\\xd7s\\xc4\\xbf+\\r\\xbc)#9\\xe0}icO6c\\xbc\\xf2T\\x90=\\xea\\xc5\\x9cDJ\\xcb\\x92\\x14\\xa9 g\\xa9\\x1c\\xd3\\x15\\xcc\\xc0\\xfb\\xd8\\xa9]\\xa4\\x1d\\xb8a\\xc85*E\\x11\\x8d\\x99\\x97\\xe7\\ny\\xcf\\xd4SdR.\\xa4\\xcf\\x199\\xa9\\x11y\\x90g\\x07\\x83\\xcd;\\n\\xe5A\\x8d\\xea@\\xe3\\xaf\\x1fJ\\x9e\\xce\\x1d\\xd1\\xcc\\xbd\\x14\\xb7\\xf5\\xa8\\xd9x\\\\\\x7f\\x0b\\x15\\xab\\xfap\\r\\x04\\x83\\x1d\\xf3\\xeehbD\\xd6\\xeam\\xa4\\x8f\\xcb\\xe3rd\\x8e\\xbc\\xe4\\xd4\\xd7!\\xa6\\x98\\xf9\\x9c\\x90\\x9bO\\xe7\\x91S\\xdcC\\x8b\\x95\\x19\\xc8\\t\\xc1\\xfcM4(7\\x04\\x13\\x90\\x7f\\xc2\\x82\\xac4\\xb6\\x12\\xdf=\\x03\\xff\\x00QU\\x92/\\xf8\\x98;\\x1e3!\\xcf\\xe7Wf\\\\\\xc6\\x80\\x7fx\\x91Q\\xa4M\\xe63\\x03\\xc88\\x00\\xfe\\x14\\\\,d\\xf8\\x86/\\xf4\\xbd\\xf8\\xea\\x00\\xfd*\\xa4HU\\xd4\\xaf\\\\\\xd6\\xb6\\xba\\x84\\xbfL\\x9c\\x02>\\x95\\x9f\\x16w(\\x03\\'v>\\xa6\\x84\\x0c\\xb9x\\xa5\\xde\\x15#\\x04\\x83\\xd7\\xe8*\\x99\\x8f\\x13\\x11\\xf4\\xad\\x19\\xd0\\x99\\xa2\\xc8\\xe8\\x0f\\xf2\\x15NA\\x89\\x8e\\xee8\\x1c\\xf6\\xa1\\x03$\\n|\\xa9\\x0fE\\x19\"\\xabL\\x83\\xec\\xeb\\xc7\\xa7?\\x8d\\\\\\x89I\\xb7\\x90\\x81\\x9e\\x0f\\xe5Q\\xdc. \\x0b\\x8c\\x8e9\\xfcE\\x08M\\x11<d\"+}EB`\\x126\\x08\\x07\\x03?\\xa8\\xab\\xe5D\\x8e\\xbc\\x11\\xf2\\x9c\\x8a\\x89\\x97e\\xcc\\x83?(\\x1f\\xd6\\x98\\x11\\x89\\x9e\\x05\\xd8\\x127\\x8f9!\\x80<\\xd3\\xa2\\xbb\\x9cl!#1\\x8e1\\x8c\\x1cR\\xaa\\x16V=FqM\\x83\\xfdA\\x03\\x9cf\\x95\\x86\\x8b'\n",
      "b\"\\xd0\\xa4S+\\xfe\\xf20X\\x86\\x1b\\x81\\xc8\\xe0\\xd2!\\x029\\x94\\x18\\xce\\t\\xe4\\x1e\\xb9\\x00T&\\x1f\\xdd\\xa8\\xc7\\x0c\\x00\\xfa\\xd5kH|\\x89\\xa4u? $\\x15\\xed\\x8a6\\x01\\xb2\\x80\\x8f\\xb4\\xa8\\xe4\\xe7'\\xa5d\\xdcD\\xad1 \\x8c\\x13\\xfd+biR96\\xb0\\xcb7s\\xd2\\xb2\\xee\\xd7\\xcbl\\x8cc\\x80q\\xc8\\xce(\\x01\\xe8@\\x00\\xf0OJ\\xbbi\\x80\\xa0\\xe4\\x06\\x1dx\\xaaV\\xe02\\x82}kJ\\x15*\\x10\\x82\\x07<\\xfe\\x94z\\x05\\xc9]9C\\x94\\xce\\xc2I\\xfcjH\\xd4\\x9br>@w\\x03\\xcf\\xff\\x00\\xae\\xa6\\xbb\\xdd\\xb5A\\xd8\\x01\\x18\\xc8\\xefQ\\xc6\\xad\\x89#\\xc8\\x04\\x11\\x82~\\x9e\\x94\\x00\\xc9q\\xe5\\xb8%=\\xeb d<`}\\xd0\\xc4g\\x1d9\\xadVg\\x99$R\\x886\\xfc\\xa7\\x9f\\xd6\\xb3\\xca\\x91\\x16\\xdf\\xee\\xb9\\x04S\\x01/\\x85\\xb8\\xd5s8.\\x85\\x06\\xed\\xbc`\\xe3\\xb5j\\xcf\\xe5\\x1d$\\x8b(\\x80\\r\\x80p9\\xf5\\xe6\\xb2\\xb5\\x06\\x82]D4\\xc0\\x80c\\n\\xc5GC\\x8e\\xa2\\xad\\xe9S$V\\xd3\\xa4\\xb2\\x05F \\x80y\\xc8\\xe7 \\x8a\\x903\\xed\\x1aA&\\xd9\\x06\\x02\\xb6\\xe1\\x9a\\xd5\\xbd\\x8dAC\\xd3'\\x83W/~\\xcd$\\x9ee\\xbc\\x91\\xb9\\xda\\x17\\nN1\\x8e\\xc3\\xd6\\xab]\\xc9\\xe5\\xa0$\\x13\\xc7Lg\\x14\\xdb\\x11\\x9e\\x19c\\x91\\x8b\\x93\\x86\\xce1\\x9ex\\xa2m\\xb7\\x10\\xae\\xd5\\xe1r2T\\xfa\\xf7\\xaa\\xf2\\xdf\\x05q\\xb4\\x02;U\\xb8/7DAT)\\xdc\\x8c\\xf5\\xac\\xf5{\\x0fr[uL\\x05Q\\xdb\\xafJ\\xb9n\\x04s&N9\\xe3\\x03\\x9a\\xab\\x04\\xcd&\\x1brq\\xd4\\x91V\\x11\\xcaH\\x8cp@9\\x1e\\xb5Qz\\x07R\\xd5\\xee\\x16\\xe5X\\xca\\xff\\x00(\\x07\\x91\\xd3\\xf4\\xa8/d&\\xf4.s\\xb4`\\x13\\xd7\\xd6\\xa6\\xbc\\x9bu\\xc6<\\xc0\\x13`a\\xd2\\xa9]H\\x1a\\xe3xdc\\xc6H\\xfaU\\x01\\xaf\\xa3\\x92\\xaf\\xb8\\x93\\x9d\\xc3\\xee\\x8c\\xd2x\\x81\\x8f\\x951\\xc9\\xc1l\\x02G\\x18\\xcf\\xd2\\x9b\\xa3>#\\x000\\x1f6{f\\x9d\\xad\\x90\\xf6\\xf2\\x8d\\xdcd\\xe0\\xf03\\xcd.\\xa0\\xf60D\\xa4\\xc5\\xb07\\x00\"\n",
      "b'\\x80\\x07\\xe1Z6\\xb3\"\\xc5\\x86o\\x9a\\xb3\\xa1]\\xa4\\x96\\xc2\\xe4\\xe7\\xd4t\\xa9\\x0b\\x02x?\\x8fJa\\xb1z\\xed\\xf0\\x10\\x0c\\x9ex8\\xe9T\\xb5\\x02\\x08P\\xd9<\\xf2\\x08\\xa9\\xaf\\xa5\\x00 \\r\\x8e\\x86\\xa9O2\\xc8\\xe3/\\xc0\\x07\\xaf\\x07\\xb50D@aA\\x04\\x8c\\xf4\\xfaR\\x18\\xf22\\x0f=i\\x03\\xa98\\x07\\x1e\\xd4\\xac\\xc0/\\xde\\xe6\\x90\\x0e\\xdc\\xc1\\xd0\\x9c\\xe35\\x14\\xb2H\\xd22\\xed\\xdc\\x80\\xe7\\xdf\\x14\\xed\\xc4\\x90\\x179\\x1dx\\xab>Xh[\\xae\\xf6 \\xe5\\x0er=\\r&\\xc6U\\x91\\x83\\x11\\xf2a\\xc0\\xc0>\\xbcR$\\xc64%\\xb0Xv\\xc6\\x7f*{\\xc7\\xb1\\x899)\\xc6s\\xe9L*\\x01\\xc2)*rA#9\\x14\\\\\\x06}\\xa9\\xe5\\xfe\\x1c\\x81\\xed\\xc5A\\xe6\\x92\\x08d\\xf7\\x1c\\xf2)d\\x0e\\x80\\x11\\xc2g\"\\x99\\x80>`\\xd9\\x07\\xd7<P\\x00\\xc5\\xa3`\\xc3\\xee\\x93\\xc1\\xa9ZYX\\xe38P1\\x9e\\x94\\x8av\\xe0p\\xf1\\x8e\\x80v>\\xb8\\xab\\t\\n\\xbc9\\xf3\\x91\\x18d\\x90\\xe7\\x00\\x8e\\xdf\\x8d&\"\\x95\\xc0\\x91\\xd56\\x8e\\x18\\xe0\\x91\\xd8\\xfb\\xfaT\\xd6\\xfahV\\xcd\\xc4\\x81\\x94\\x7fp\\x9e\\x9e\\xb9\\xc5X\\x8e \\x0b\\x91\\xb0\\xa9\\xeb\\xb0\\xe7\\x8fqU\\xe4w\\xb7\\x8bh\\x00\\xb1\\x1c\\x01\\xe9\\x9f\\xd6\\x812)\\xe3\\x85&\\xdc\\xbf2\\x13\\x90\\x83\\x83\\x8fsW,\\x8cq\\x04xp\\x8e\\xc7\\x1c\\x1c\\x9cz\\x1a\\xa8\\xbb\\xdd\\x95\\xd1Q\\x01\\xeas\\xcf\\xff\\x00Z\\xac\\x00\\x91\\x86\\t\\x8fP:\\x9c\\xf7#\\xd2\\x89j\\x82\\xe6\\x82\\x17\\xdf\\xbf.\\x1b\\x1c`\\xe0\\x13\\xdb\\x8a\\x8eI\\xb0\\xdf0!\\xb9\\x04\\x8f\\xcf\\x8a\\xa3\\x1d\\xd3\\x85\\t\\x9f\\x97$\\xe7\\xa9\\xcd*\\xeeo\\xbe\\xc0\\x9e\\xbc\\xd6|\\xa1\\xe4:B\\x19X\\xb3\\xe3\\x9c\\x8cV#\\xa3\\x89\\t\\xed\\x9e\\x0e8\\xad\\x96\\x00\\xb6\\xd2r\\x07Q\\xe8j\\xbc\\xc8$\\x90)8Q\\xe8\\x07\\x15q\\x06\\x8c\\xc6fC\\xc6Ny&\\x9cX:g\\xbfj\\x9a\\xe2\\xd8\\xf9\\xbb\"%\\xf3\\x8c\\x9cR\\x9d>h\\x98\\x07C\\x83\\xd4\\xe3\\x80>\\xb5B(\\xb2\\x93\\xdf\\x07\\xd2\\x8c\\x11\\xdf\\xf4\\xab\\xb7\\x96\\xc6\\xdc+\\x1f\\x98\\x1e\\x83\\xda\\x99\\n+'\n",
      "b'\\xa6L\\x85}\\xa9\\xdcw:\\x05\\x07o\\x038\\xe7\\xf0\\xa6yL\\xd3\\xe4\\x0c\\x809\\xa9L\\'\\xec\\xec\\xf8<\\x1cf\\x91\\x9bi\\x8cg\\xefQ\\xe8\\x08\\xaby\\x95\\x81\\xc1\\x18\\xea+!\"U;\\x8e\\x18\\x81\\x90?\\xfa\\xd5\\xb3\\xaa\\xee1\\xed\\x04c\\x1d\\xab\\x1e\\x05`\\xd9\\r\\xc0\\xeb\\xeb\\x8a\\x97\\xb0\\x99\\xa1\\xa7`\\xdeBb\\xf9T\\x9e\\x84\\x0e\\xb9\\xae\\xf2\\xd09\\x99P\\xc6\\xe5\\x02\\x82\\x18\\x0c\\x8c\\xe7\\xa6\\x7f\\n\\xe14\\xe0\\x90\\\\\\xa3\\xc8\\xc1\\xf9\\xe9\\xfdk\\xb1\\x8a\\xe9\\x92\\xe2\\xdc\\x0f\\x95\\x19\\xc0\\x07 \\x82;\\xd4\"\\xe2\\xec\\x8d\\xb9\\xca@S\\xccp\\x80\\xe0\\xf3\\x9ex\\xac\\xcdJW6\\xcf\\xf6ur\\x14\\xe5\\x81\\x18\\xc8\\xeb\\xeb\\xc7\\xe3M\\x92\\xf6k\\x9b\\x85VB\\xaa\\x8d\\x83&2\\x0f\\'\\x00sR\\xee\\x9e;\\xc3\\xe6\\x18\\xd6\\xd9\\xc1$8\\xcb\\x93\\xeb\\x9fJ\\xb4\\xc6\\xec`[\\xcc\\xd3\\xc0\\xe3i\\x7f0\\x96bF{\\xf7\\xff\\x00<U}B\\x19\\x9e\\xc6\\xeeF%CF0\\xa7<\\xf3\\xc7\\xe3\\xc5u)ky\\xb9\\x16\\xc8\\xda\\xf9LO2d\\x91\\xf8\\x03X\\xfa\\xf4\\xb3\\x85H\\xa6\\x08\\x14e_\\xcb\\x1c\\x13\\x8e8\\xc9\\xa1j\\xc2G\\'a1R\\x858\\xc7>\\x84\\xfa\\x8a\\xe8-\\xa7\\x89#\\xdaN7}\\xdcu\\x03\\x04\\x9e+\\x9b\\x86\\x12\\xbb\\x99}p3\\xc5t\\x1an\\xd4\\xb5x\\xdf\\xf8\\x80\\xceN?\\x1f\\xae8\\xa4\\xd6\\xa6j\\xe6\\x80\\xbd\\xb6\\x92\\x08\\xc4X\\xdc8\\'8$\\xf2\\x7f\\xa5\\x13^\\xc7$;\\x06@?t\\x8c\\xe35VX@\\xb7\\x88\"\\x05-\\xcf\\x07\\xbfL~\\x952\\xaa\\x08\\x82I\\x80\\xe0t\\xf4\\xab\\xba(\\xb0\\xaa$M\\xc52\\xf8\\xc9\\xce0\\x7f\\x0c\\xd5\\xa8\\xa2\\x89\\xefY\\x94\\xc8\\xc1S\\x8d\\xc4g8\\xfa\\xd58\\xf7\\x08\\xca\\xab\\x0c\\xe3#\\x03\\x80)\\x05\\xc8\\x86\\xe8\\x94%\\xd7n\\xde\\x0e9\\xc7zM\\x02d3\\x95,\\xcc\\xcaI$\\x8eO5^B\\x17\\x94\\x18\\xc8\\xc5M\\xb8\\x1c\\xee_\\x9dI\\xc1<\\x91\\xdf\\x8a\\xaa\\xbf}\\x97\\xb09\\x1fJb.\\xc6\\xa5\\xadI^\\xa4n\\x03\\xfaSY\\x04\\x90d\\x0c|\\xa7\\xf3\\xebRZ\\x83\\xe4m\\xee\\x0e?\\x0e\\xb4\\xf8\\xd4'\n",
      "b'\\x04u\\xfe\\xe9\\xa0h\\x85\\x00R\\x92\\x7f\\xb3\\xce?*\\xb9\\x12\\x05\\x95Obv\\xe7\\xea*\\x85\\x8b\\x99\\x13c\\x1f\\xb8J\\x91\\xf8\\xd6\\xa1q\\xe4\\x07r\\x14`1\\xcf\\xaej.;\\x19\\xb2\\xc1\\xfe\\x90w\\x1c\\x03\\x91\\x93\\xd38\\xc8\\xa8\\x19q)\\xe3\\xaa\\xd35=^\\xd2\\xdd\\xc8\\x81\\x8c\\xef\\xbf ( \\x01\\x9ey\\xacK\\xadjid\\xdd\\x1a\\xf9 g\\x8e\\xa7\\xf3\\xabBh\\xd9\\x94\\xaa\\xc6\\xccH\\x1f0<\\xd3\\xf4\\xdb\\xebKc#\\xdc\\\\ \\x00\\x9c\\x01\\x92O\\xe1\\\\\\xb3\\xc8\\xf36\\xe9\\x1c\\xb3\\x1e\\xb9\\xa6\\x86\\x1d\\x08\\xc0\\xfa\\xd0#\\xb0\\xb8\\xf15\\xa0\\x8c\\x98c\\x99\\xe4\\xd8\\x14n\\x00\\x01\\xc8$\\xf5\\xfe\\x95\\x97?\\x88e|\\x1bxDm\\xdc\\xb1\\xdd\\xfab\\xb0\\xb7\\x0e\\xc3\\x8a~\\xd2y\\x03\"\\x8b\\x035\\x8e\\xbf~\\xc3\\x05\\xd1Gl \\xe3\\xf4\\xa8\\x9bY\\xbe\\x93\\x04\\xdc9#\\xa6\\x00\\x1d\\xb1\\xe9Y\\xc0\\x0c\\xf5\\xc5(\\x00{\\x8a\\x02\\xe5\\xc95\\x0b\\xb9A\\xdfq!\\x07\\x83\\x93\\xd4SV\\xe6|\\x8f\\xdf8\\xc1\\x04\\x01\\xeb\\xebU\\xf1\\xc0\\xc7Oz_\\x99pA\\xa0\\x0b\\xad\\xa9_\\x1e\\r\\xc3\\x9eI\\xe7\\x1f\\xe1N\\x8bT\\xbb\\x8d\\\\y\\xa8s\\xc1\\xdc\\x80\\x9f\\xce\\xb3\\x8eI\\xcey\\xa4\\x0c\\xeb\\xf7\\xb8\\x14\\xc6l\\xa6\\xbdp\\x90yF8\\x9dNA8 \\xf2s\\xebK&\\xb4\\xb3m\\rnS\\x18\\xce\\xd6\\xcf\\x19\\xfaV0\\xc1\\xe7\\xae)\\xd8\\x00g?\\x95!6tp\\xea\\xb6\\x85\\xf3\\xbc\\xa1\\xdaG\\xce1R\\xa3\\xc74\\xb2<r#\\xae\\x00%Nk\\x98\\x04\\xe7\\x81\\xc5(l\\x9c\\x81\\xc8\\xe8ri\\x81\\xd4\\xc6\\xa7\\xc9\\x91\\xbb/qP\\xdb\\x1f\\xdc\\x85\\xc6\\x18\\xe35\\x93\\x05\\xf5\\xccI\\xb1e\\xde\\xa4r\\xac\\x01\\x1f\\x9d[\\x8bT\\x8c:\\x99c(\\x01\\xe7\\x07\"\\x807X\\x02\\xb1\\'L\\x9e\\x0f\\xbe:V{\\xe5]\\x90\\x1e9\\xc8\\xab\\x16\\xf7);F\\xd0\\xb8}\\xbc\\x90\\xa7\\xa5C+\\x06\\x95\\x88\\xe3\\xda\\x90\\xd1N\\xec\\t\\x1c\\xb68E\\x19\\xfa\\xd5Y\\xa1Y\\x14\\x95\\x01@\\x1d\\x07\\xad^.\\x9eD\\xad\\xc7\\xccy#\\xfa\\xd4\\x0c\\x06\\n\\xafB\\x00\\x18\\xfa\\xd2Z\\x01R\\xd9\\xb9'\n",
      "b\"\\xdb\\x8f\\x9f=+R\\x08\\xdf\\x80\\xc8r\\x07#\\x8a\\xcf\\x8a\\x11\\x14\\xdb\\xf3\\xf7O\\x01\\xbb\\xd6\\xcd\\xa13\\x02\\x13>f\\xd2q\\x9cv\\xa6\\x04\\xb7xX\\xad\\xc1S\\xbb\\x8c\\xf4\\xa4\\x86@\\xb7r+F\\x08\\x03\\x8c\\xe3\\x02\\xa6\\x9e?2\\x186\\x9c\\xedo\\x9b\\x9e\\x83\\xbdS\\xb9l]I\\xb4\\xe0\\x0e\\xa4u4n\\x04\\xb0\\xcd#\\xcf+t(\\x02\\xa8\\xc0\\x18\\xeb\\x8e\\xd5\\x92A+)<\\x90\\xfd{\\xf5\\xad[%#\\xcc/\\x9eO=k1\\xc8_=A\\xe7\\x7f\\x07\\xf1\\xa0\\x11Z\\xf5\\x92K\\xc0Yp\\xaa\\x02\\x91\\xc8\\xddV\\xb4\\xdbx\\x9a\\xd6Y&\\x1b\\x9b\\x85\\x19\\xf5\\xc7\\xff\\x00Z\\xb3.8\\x98\\x95\\xc9\\xf9\\xb9'\\xd7\\xd8\\xd7C\\xa6\\xad\\xac\\xfar\\xa4jVeP\\xd2\\x1eG9\\xe7\\xf9\\xd2B$\\xb5\\x86%\\x19\\x18V\\xe3\\xa5E\\xac\\xb2,@\\x9a\\x9e\\x1bS\\xbc\\xf9y%T\\xb7\\x1e\\x98\\xc9\\xaaZ\\xba\\x19-\\xd8\\xe7;q\\x9e}\\xea\\x92\\x03\\x07p\\xcb\\x8cr\\xdcqV\\xad\\x0e\\xcb\\x98\\x81\\xfb\\x8c\\x08#\\xb6qL\\xfb f\\xe38#\\xad>=\\x8b\\xa8C\\t\\x19\\\\\\x8f~\\xde\\xb4X.]\\xb1\\xc2\\x97N3\\x9c\\xf1\\xf5\\xefW\\x9cp\\x1b\\x1c\\x9a\\xade\\nF\\xd3\\x11\\xf3\\x1f0\\xaf\\xb8\\x15fu\\xdc\\x83fs\\xe9I_\\xa8\\xc4\\x96_\\xf4\\x80J\\x0c\\xb4@\\xd4\\x17 \\xad\\xd3.\\x00$\\x03\\xc7\\xd35:\\x80\\xb2&\\xe5%\\xb6\\x9e\\xfc\\x11P\\xcd0\\x13\\xabFv\\x95\\x1c\\x823\\x9ac4\\xf4\\x87+\\xe6\\xae\\x01\\xe4\\x1c\\xe3\\xebK\\xadJV\\r\\x8d\\xfcM\\xc6>\\xb5SIb.\\x18\\x06\\x12\\x12\\xa0\\xe3\\x9e9\\xa9\\xb5\\xef\\xf8\\xf7\\x07\\x1bO\\x99\\xd7\\xf05\\x1dG\\xd0\\xcbF9E\\x0b\\x8e8\\x1d\\xa9\\xccH\\xfb\\xdf\\xa5D\\x80\\x96C\\xb8\\xe0\\x0e}\\xeaYc*\\x8ar\\x0e\\xec\\x9c\\x0e\\xa2\\xa9\\x12>\\xe5\\xc3*\\x81\\xddA\\xc9\\xac\\xe6r\\xe4\\x82\\x07\\x1d\\xea\\xc3\\xb18\\xe0|\\xa3\\x15VW\\xd9\\x1b\\x0cc \\xe4\\xd0\\x00\\xad\\xd9\\xb3\\x8c\\xf0i\\xe7*\\x9c\\x90\\xdc\\xf55^'\\xc8'?\\\\R\\x82~\\xf3\\xf0\\xa3\\xa0\\xf5\\xa1\\x812\\x1eG\\xcc~n\\xa4p+Do_\\xbb\"\n",
      "b'\\xc2\\x1e:\\xe4\\xe3\\xeb\\xe9X\\xec\\xec\\t\\xc8\\xc6y\\xf9\\x87\\xf4\\xab\\xd0I\\xb3\\x04\\xb6\\xc1\\x8e\\x87\\xd3\\xb5L\\x82\\xe5\\x89\\t!I\\x1f \\xe0\\xf3\\x90~\\xb5J\\xe2`d\\n\\x03\\xa0=F{T\\xb3\\xbeH`\\xc4\\x008\\x1dG\\xe3Q1I\\xc7\\xca\\xa4\\xc8>l\\x12?.\\x94\\x92\\x19\\x0b(\\x91\\xb6\\x8c\\xe0\\xf5#\\x9a<\\x92\\x06\\xd1\\x92\\x99\\x19=\\xf3\\xefK\\xf3\\x08K`\\xee\\'\\x80:\\x01\\xebQ\\xb4\\x84*\\x8f7\\xe6=F:zU\\x13q\\xcf\\x0bF7o\\x05A<\\x8a\\x92\\x06F\\xf9\\x99C # \\xe4q\\xd3\\x9ad <d\\x16\\x1c\\x9c\\x90}j\\x00\\xd7\\x11\\xcb\\xb25\\xc6N\\x00\\x18 \\xfbf\\x81\\xdc\\xb2\\xb3\\xf9N\\xa1\\xb0\\x17\\x91\\x801\\xc7o\\xad\\x01b\\x8a@\\xd21\\x05\\x0f\\x05y\\x1f\\x9dH!\\x95\\xd32C\\x90Fr\\x07A\\xd6\\xa00\\x9d\\xdb#\\x04\\x93\\xd0g\\x8aWD\\x92~\\xe1\\xd0\\x91\\xf2\\xe3\\xa0\\xcf&\\x84\\x89\\xcb\\x92\\x17\\x0b\\xe8\\xd9\\xfc\\xe8M8\\xb1;\\xe5Du\\xea\\xad\\xd6\\xacJ\\x86^#m\\xa1x\\xdcz\\x11\\xe9H\\x11M\\x8a\\xa9\\xda\\xa0\\x06\\xceH\\x1d)\\x8d!r;v\\xe3\\x8c\\xd2\\xba\\x90\\xe4rB\\xf4\\'\\xa1\\x1e\\xd4\\xc4\\xc3\\x0e3\\x90q\\x9e\\xd9\\xf4\\xa6\\x90\\xeeM\\x00$\\x82\\xc7\\'\\xd3\\xd6\\x9b\"\\xe1\\xb2\\xc0\\xa8\\xcf\\x06\\xa3W)!\\xe0ps\\xeb\\x8a\\x9dnS\\x002\\x87\\x04\\xe4\\x8fC\\xf5\\xa1\\xa0l\\x8dd\\x10\\xb1\\xde\\xef\\xb4\\x8e\\xa7\\x8c\\x8f\\xadk[\\xc9\\x14\\x91)RJ(\\xe0g\\x9c\\xd5h\\xa4\\x82\\x7f\\x96x@\\xe7\\x83\\xda\\xac\\x1f.4\\xc4|)<\\x90*Y,\\xc6\\xd5s,\\x8e\\xe1\\xf2\\xa0\\x0c)\\xeb\\xd7\\x9a[H\\xa5\\xf2Fa\\xc6=A\\xa9\\xee! \\x86\\x89\\xb1\\xceA\\xfckV\\x06\\x1eJoe\\xdcGaM\\xbd\\x04\\r3\\xae\\xe4\\x12\\xe4\\x02Fy\\xe9U\\xe6f\\x8d\\xa3\\xda1\\xb8\\x15\\'\\xd6\\x9c\\x84l .Gz\\x8ay\\x0b\\x18\\xd0\\xe3\\x038\\xfc\\xaa\\xcb\\xd4m\\xe2\\x02\\x85\\xb1\\xda\\xb2\\x04$6\\xf3\\xc8\\xf6=\\xeb^\\\\\\xc9\\x11\\x04\\xf2Ed#<R8\\xcf\\xc9\\xe9\\xef\\xda\\xa6^@\\xcb\\x10\\x80\\xfb'\n",
      "b\"\\x17\\x04|\\xd8\\xce\\x7fJ\\xea,\\x1dL!\\\\\\xe1\\xe2\\xe4g\\xb5s\\x16\\xdb\\x9ee\\x11\\x1d\\xbb\\x8f\\x0cG\\xb7'\\x15\\xd3\\xda\\xdaH\\xd6\\xa1\\x84\\x9b\\xa4\\x00\\x86*z\\x8e\\xdf\\xce\\xa5\\x14\\xb45\\xec\\xa3\\xdcc\\xf3\\x1b\\x00\\xaeB\\xafC\\xc75(hex^1\\xf2\\xf4\\x1d\\xbb\\x11X\\xf2Cr\\xb7\\x7f\\xb9\\x9eP\\x88O\\x08rW<\\x81\\xd7\\xde\\xb4\\x12WCj\\x8c\\xa3a`\\xb9\\xc0\\xcfC\\xde\\xa8e\\xcd5E\\xb5\\xcbA#\\xfc\\xa4\\xef\\x8c\\x93\\xd4w\\x1d{\\x7f*\\xce\\xd6\\x144W\\x12\\xaa\\x83\\xe6(\\xc0<`d\\x01W\\xef!IR6\\xc9\\x05\\\\\\x10\\xcapG8\\xebXz\\xdcoo\\x0c\\x8cd\\x7f\\xf5\\x84\\x80\\xc4\\x90=\\xa8^Bg0ekyv\\x95\\xc8'#&\\xafY\\xca\\xc0\\x96\\x01\\x08\\xef\\xceO\\xd2\\xb3\\xa7s+~\\xf0\\r\\xc38\\xc5Oh\\xa1_q%\\x00\\xeb\\x8e(\\xe8#t\\xca\\xec\\x15\\x90}\\xe2r\\x07^\\x9dh\\xb7Rw\\xb3\\x91\\x93\\xd8\\xf6\\xaa\\x9ehi\\x0bF\\xfb\\x17\\xa9\\x1d\\x87\\xb5Y*\\xcc\\x9en\\x08N\\xb8=H\\xefF\\xe0:\\xe1\\xcb\\x90\\xab\\xc2\\xf4\\xcf\\xaf\\xd2\\x9a\\x98\\x8eT\\xc0\\xc2\\x9e\\x08\\xed\\x9a\\x95\\x94I\\x1f\\xcb\\xc1\\x1f2\\x91\\xd3\\xda\\xa2\\xc2\\xcb\\x0b\\x9eCq\\x8f\\xaf\\xbdP\\x85\\xbb!g,8\\x07\\x83\\xfd*9\\x97c\\xab\\x8e\\x9d3\\xed\\xd4S\\x99\\x8c\\xe8;\\x1c`\\xfb\\x1aU\\xd9$d3\\x00v\\xf3\\x93\\x8d\\xa6\\x8b\\x8e\\xc5\\xc8\\x00\\\\\\x01\\xfcC\\x07\\xeb\\xd4S%\\x9a8$\\xfd\\xeb\\x84VS\\xd7\\xaes\\xe9\\xf8\\xd5\\x13y+\\xaa$\\x11\\x16-\\x82_\\xa6\\xde\\x7f\\xfa\\xd5S\\xc9\\xb87k4\\xf1\\xca\\t\\x07;\\xb3\\xc1\\xfa\\xe2\\xa5\\xb5\\xb0\\x08n\\xbc\\x9b\\x99\\x9e\\xdf\\x9f0\\x82\\xbcw\\xef\\xc52[\\x99\\xd8\\x14%\\xc7'\\x18'\\xaf\\xff\\x00\\xae\\xac\\xaa\\x139i\\x0e\\x1b\\xa0\\xc7\\xf8\\xd2\\x10\\xa5\\xc1\\xe3\\xb9\\xf74\\xf7\\x19\\n\\xda\\x8b\\x90w\\x10X\\x02@\\xefU&\\xb0\\x8ceI*\\xc0\\xf3\\x9e\\x95\\xa2\\xca\\x919#\\x9d\\xc3\\x93\\xceG5U\\xd84\\x84\\x7f\\x0fr{\\x9a\\x8dS\\x0b\\x19\\x92\\xd9\\xc8\\x14\\xb2\\x8d\\xd88\\x05}~\\x95\"\n",
      "b'D\\x87S\\xf3f\\xba\\x033\\xa1!Xg\\xa8>\\x9fJk\\xbf\\x9b\\x18I\\x91\\x1b\\x1dI\\x1f\\xadRo\\xa8\\xacaF\\xc0\\x9f\\x9b\\x83\\xebS\\xaa\\xe3\\x07?\\x8d^\\x9a\\xd2,|\\x8a\\x13\\xdf\\xae*\\x8aF\\xe8X\\xfd\\xf5\\xee\\x07j\\xab\\x80\\xac\\xa7#?\\x9d7k\\x03\\x8ei\\xca\\xc3\\x04\\x8e=\\x03R\\xa4\\xa7$\\x00=\\x81\\xa6!\\x0e\\xfe\\x84\\xd2\\xe5\\x8f|{\\x0e\\x94\\x11\\xd4\\x1f\\x95\\xbb\\x03H\\t8\\x1f\\x9d \\x1c\\x01\\xcf^\\xbdhbA\\xc1\\xe9\\xda\\x93#8\\xcf>\\x94\\x11\\xb8\\x0c\\xfet\\x00*\\x9cg\\xf2\\xa7\\xaa\\xe0r\\xbf\\x91\\xa6\\xaa\\xf6==\\xa9\\xca\\xa7\\x9ex\\xech\\x01\\xd1\\x93\\x9e\\x94\\xb8\\x1e\\xa0\\x9f\\\\R+mo\\x94\\xfe\\x06\\x9d\\x90\\xc3\\x81\\x86<g\\xa5\\x02\\x11v\\x9e\\x1b\\x8a$1\\x828<w\\xf5\\xa3a\\x03\\xdf\\xf4\\xa0FX\\xf2F=\\r\\x03\\x04\\xb8H\\x18:o\\x0e:\\x148\\xc5X\\xb7\\xd5\\x8e\\xf3\\xe7e\\xb2r\\x0f\\x7f\\xc6\\xab4.\\x17\\x18\\n\\xa7\\xd4UB\\x85\\x1b\\x9e\\xdd\\xe8\\x03\\xa2\\x8aP\\xe9\\xf2r\\xad\\xd6\\x96h\\x8bntlm\\xc6\\x0fL\\x9fJ\\xc3\\xb7\\xb9x\\xdb \\xe3\\xde\\xb6\\x92\\xf5.-\\x02\\x05\\xda\\xeaw7\\xbf\\xd2\\x81\\xa2\\xb6\\xe2_\\x01\\xb70\\xe0\\xd5\\xf8\\xbeN\\x01 \\xe3\\xe9L\\xd2\\xa1\\x8e{\\x95\\'\\x82N@\\x1d\\x08\\xc1&\\xaf\\xdf\\xdb\\x88$\\xde\\x8d\\x94c\\xc1\\xe8>\\x98\\xa8\\xbe\\xa3\\xe5\\xd2\\xe1\\x1c\\xe8#R\\xcaws\\xc6x\\xc5Ks\\x08\\x8erN6\\xe4\\x1c\\x9ex\\xc7z\\xcfQ\\xbb\\x93\\xd2\\xaeMpn\\x15VD\\x1b\\xf8\\x1b\\x97\\x8c\\x8cw\\xab\\x11=\\xbc\\xdb\\x95\\xd8\\xaf\\x07\\x81\\xe9\\xd3\\xaddJ\\xa3u\\xcb\\x13\\xc8p@\\xecy\\xad\\x85\\x85\\xe2\\x87c6\\xe8\\x8f\\xcc\\x06r\\x07\\xa9\\xac{\\x81\\xb5\\xe7U\\xe4o\\xea)\\x81B\\xe2&\\xfbYT\\xe4\\x93\\x90G\\x7f\\xa1\\xad\\x18\\xa0{r\\xc8$!\\xc0*\\xff\\x00\\xe1Y\\xb7\\x1b\\xbe\\xd2\\xf9P\\x15O\\xaf\"\\xb4l\\xae\\x12\\xeaW\\xf3\\\\\\xab\\xe4s\\x82A\\xe2\\xa5n$[K\\x90\\xb1ler\\xdd\\x03\\x0e?:K\\x8c\\xc9\\x01P\\x02\\x02:\\x8c\\x9a\\x9d\\xa1\\x89\\x97\\x01\\x9c\\xe7\\xd1'\n",
      "b'\\x7f\\xfa\\xf4\\xc9\\xe6\\x8e3\\x1cJ\\xaf\\xcf\\x04\\x91\\x8c~\\xb5C3.!\\x9dQ19\\xc1^\\x98\\x1d?*\\xcf\\x89\\x18\\xcb\\xf2\\xb1\\x0c\\xbc\\x82:\\xe6\\xb7\\xdd|\\xe8\\xd00|\\xaey\\xc0\\x03\\x15B\\xc6\\x00g\\x97 \\xe5I\\xc7\\xe7LE\\xfb\\x04o\\xb2\\x82G9$\\xb7\\xa9\\xcfz\\x99\\xd4\\x85\\x0ez\\x1e\\xfd\\xa9,\\xe51BU\\x94\\x10\\xa4\\x9c\\x93\\xd3\\x91\\x9asHY2\\x8b\\xf2\\x9e\\x83=)\\x07A\\x920\\xfd\\xdeNOq\\xdc\\x0cUK\\xb8\\xc8\\x95Y\\x06C\\x0e3S4\\xae\\xc8\\x98_\\x9b\\x1dED\\xa8Ybfn\\x84\\xe0~4\\x01cH\\'\\xed\\x0c\\\\\\x05\\xca\\xf0GZ\\xb7\\xad\\xe5\\xac\\xdb\\x04\\xee\\x0e1\\x9a\\xab`\\xac%$.@\\xef\\xf8\\xd5\\x8dYK\\xd8\\xbe\\xec\\x05\\x18#h\\xe7\\xf1\\xa5mG}\\x0c\\x8d\\xce\\xb2\\x94\\\\p0O\\x14\\x86\\\\\\x12\\x19\\xb2j\\xb2\\xb6\\xd0Ts\\xeajB>\\xe9\\xf5\\x1c\\xd3\\x01OC\\x8c\\xe2\\xab0\\xdd\\x91\\xceG\\xf2\\xab\\x83;\\t\\xcf\\'\\xa0\\xaa\\x92+\\x90I\\xc0\\x07\\x8c\\xd0\\x04\\x01\\xde6\\xc4c$\\x8e\\xdf\\xce\\x966\\x19\\xc3\\x13\\xbb\\xdf\\xf9\\xd5\\x91k\\xb0\\x97Iw\\x86\\x00\\x15\\x00\\xe4\\x1f\\xea*d\\xb1\\x826U\\x95\\xc1b\\xbb\\x81\\xea\\x01\\xf457H\\x04\\x89]\\xf1\\xc0|\\x02r9?Z\\x8d\\xd8\\xb7T\\x00\\x9e\\x03\\xf4\\xfc\\xea\\xdb D!9a\\xd4(#\\x15PM,r\\x95l\\x002@l\\xfe\\x86\\x92b\\xb8\\xc97\\x83\\x84l\\x168 \\xe0\\x03O\\xc3F\\x03I\\xf3\\x13\\x90\\x00\"\\x82\\xc0\\x92\\xca\\x99 d\\x9c}\\xdf\\xa75\\n\\xa1\\x91w\\x9c\"\\x8eNO\\x7fj`9\\xa52\\xa8\\x1d0q\\x8cq\\x8a\\x82tc&2\\x87\\x039^\\xe3\\xda\\x98e9\\xe0\\x109\\xe0z\\xd5\\x89\\x1a%\\x8a)\\x15\\x9c\\xca\\xa0\\xee\\x1cc\\xf0\\xa0C~\\xcaq\\xb9d\\xdc\\x07\\'\\x82\\rK\\x02\\xfd\\xa1\\xf6\\x96$\\xfag\\xfc\\xf3L\\xb7\\x90\\xb9!\\xb3\\x96;\\xb3\\xe8q\\xc7\\xf8T\\xa1\\x92)\\x17`\\xc8=G^z\\xd2l\\x1e\\xa4\\xd3,\\xf6\\xa3{\\xef\\x8d\\xd7\\xe59l\\xfd*\\x9a\\xbc\\xf7\\x12n\\x8f\\xe6\\xc9\\x19\\xf5\\xeb\\xd6\\x8b'\n",
      "b'\\xb3$\\x91\\x058U\\xed\\xebUQ\\xdd\\x01\\x1b\\xf0GA\\xebB@Y\\x95\\xe42\\x04\\x95\\xf6\"\\xb6\\x08\\x03\\x91\\xefR\\x9b\\xa8V!\\x1f\\xce6\\xf3\\xb8w\\x1fJ\\x9a\\xce!w\\x12D\\xca\\xbb\\xc9\\xc8bNq\\xdcRK\\xa7\\x90\\xa5|\\xbf17g!\\x80\\xc0\\xf4\\xfa\\xd1p+\\xc6\\xb2\\\\\\xb0$\\x90\\xa7\\xa7nx\\xc7\\x15*\\xc7\\x14y\\xfd\\xe0,\\x07 \\x1a\\x95\\xdfj\\x8d\\xb9\\x04|\\xab\\x9c\\x1cv\\xe6\\xb2\\xa4\\x90\\'\\x07\\x9d\\xdc\\x92\\x07\\x07\\x9ai\\xdc,Y\\x91bx\\xd8;\\x95`3\\x95\\xef\\xec\\x05S\\x8c\\x93\\xca\\xf6\\xa7\\xc0\\xc2Y\\xc0|\\x85\\xe7\\x91ZP\\x88\\xaev\\xc5\\xb4y\\x81J\\x82x$\\xf6\\xa06*\\xc2\\x97\\r\\xf3\"\\x92\\xbd\\xcfj\\xb3\\x18\\x97o\\xef:t\\x02\\xb64\\xbbw\\x8e\\xd8\\xac\\x8aw\\x02A\\xe9\\xcf\\xa0\"\\xa3\\x8e\\xdc\\xc7;d\\xe4\\x0f\\x9b\\x91\\xd3\\x9a\\x86\\xee&Q\\xb5\\x84\\xb4\\xfb\\t8\\x1dA\\xad\\x03i\\x93\\xf2\\x85\\xc7\\xbfjT\\xb6Y&\\x0f\\xb4\\xf5\\xceG\\x7f\\xc6\\xa7\\x92\\\\6\\x03\\x03R\\xd8#.\\xdd\\\\\\x0c\\xd2L\\x01\\x08\\x00\\xe7\\x9c\\x9aP\\xc1S\\xb9\\xc9\\xe6\\x9b#\\x12W\\x81\\xc15\\xb8\\xc3\\x1cr8\\xaaS\\xdb\\x89\\x1d\\xb1\\xd4\\x9e\\x83\\xa9\\xabe\\xdb\\xb0\\x18\\xaa3M\\x86-\\x84\\xf3\\x01\\xc0$\\x9e\\x9e\\xd5\\x9c\\xb6\\x19-\\xa4\\x82\\xdaTw\\xca\\xb78\\xc7Q\\xed]%\\xac\\xaa`2\\xab\\x16\\x8aQ\\x86M\\xa4s\\xd7\\x83\\x9a\\xe5^G\\x91\\x03`\\x05\\xc0\\x07\\xf3\\xe3\\x07\\xbdji\\xb3<[\\xbc\\xc6!\\t\\xc9\\x1dy\\xe9\\x9cz\\xd4&\\xf7e#\\xa6K\\x85[\\x15\\x1bK\\xedm\\xa1\\xbb\\x95\\x03\\x82O\\xe1\\x8a\\x82\\xf4\\xba\\xcblX\\xe1\\x15\\x83d\\x8c\\x01\\xc7\\xa52\"\"\\x90\\xee\\x95\\x1e9\\x00*W\\x00c \\xe3\\xda\\xa3\\x9e\\xf73\\x84\\x91\\x83\\xf1\\xc8n\\xe7\\x1dj\\xd0\\xde\\xa6\\xd5\\xc1g\\xb3\\x02\\xdd\\xd0\\xb8\\xe4\\x06\\x19\\x07\\x9c\\xfa\\xd6.\\xbb\\x97\\xb2\\x8e6!\\x9c\\x9c\\xb0\\'\\xbd]F\\xb4\\x8e\\x15\\xdc\\xc8\\x92`\\x15*1\\xce3\\x83Xw\\xec\\x92\\xdc\\xb4\\x902y\\\\\\x1f\\x97\\x19\\xfa\\xe7\\xebT\\xac&c4@\\xce\\xd9\\xf9A=\\x0fj\\xb5'\n",
      "b'\\x0f\\x96\\xa5\\x99\\x8f\\xc8\\x07$\\xf0*\\x19\\x17\\x0eA\\xces\\xc6y4\\x04\\x12ar6\\x8e\\xa0\\xf7\\xaa\\x11q?z\\x06\\xd0\\x16,\\xe4\\x01\\xc9\\'\\xd75\\xabj\\xc6H6\\x1e]\\x0f\\xcd\\xef\\xc7Z\\xcaC\\xe5\\x8c\\x81\\x84$\\x0cz\\x1a\\xb7\\x13\\x98\\xd88\\xcf\\xa1\\x1e\\xa2\\x90\\x8b1f2\\xc8\\xdc\\x02\\x0b)\\xf6\\xee*\\xb9\\xf9e\\xda\\xbd\\x1cg\\x9f^\\xf5zE\\x12B\\n\\xf2\\xcb\\xf3)\\xf5\\xf5\\xaa\\xb7*\\xb1\\xc2\\x93\\x1c\\x13\\x9c\\xaa\\x9e\\xe7\\xd2\\x86\\xc6\\xb5#,\\x96\\xcd\\xbaO\\xba\\xe3#\\xebUd\\tr\\xa4\\xc6HprF\\x00\\xe3\\xeb\\xdcT\\x12\\xb1\\x96}\\xd3H7\\xb1  \\xe8\\xa3\\xd35\\xa5o\\x0c0G\\x92\\x0b;`\\x9e\\x98\\xeb\\xc0\\xe9\\xc5C\\x96\\x83H\\xa4\\x18\\xaa\\xa2\\xb0\\x08\\xc3 \\x13\\xf5\\xf5\\xa8\\x16\\xea[y\\xe4Y%2\\xab\\x1c\\xf2N:c\\x8fj\\xb5w\\x83 ;~U\\'\\x9c\\x02G<`\\xd5eT\\xfbC8\\xc3\\x90J\\x8c\\xe0\\xf1\\x81\\xd6\\xa4M\\\\\\x8d]\\xc99\\xce\\t8\\xf6\\xa9\\x95\\x94\\x8c\\xbad\\x8c\\x93\\x82zqM\\xf3\\x93v1\\x86\\'\\x8fO\\xadZ\\xb7\\xb6PG\\x99\\xb3\\x9e\\xbbO8\\xfa\\xfe\\x14\\xee;X\\xae\\x92o,\\xa0|\\xa7\\xb7\\xa55a\\n\\xc5\\x8f\\xdd\\xe7\\x15p\\xc2\\xa3,\\x98\\xc0\\xe4\\x9e\\xf8\\xcdC.[$6G\\xb7\\x1c\\xd3N\\xe0Ul\\x0202@\\xef\\xe9LY@m\\xa4&\\x0f\\xd4\\xd0\\xe48a\\x83\\xc0\\xe0\\xe6\\xa1\\x1b\\xe3\\x0cTn#\\xaf\\xa0\\xa7a\\x12\\xb4\\xd0\\x83\\xb5\\xba\\x91\\xcex\\x02\\xa4\\x92\\x15*\\xd1BrYF\\x1bn}\\xfa\\xf6\\xaa\\x0ewJ\\xa5Td\\xf58\\xe2\\xb4\"I@\\xca6G\\xa1\\xa7\\xb0\\xcc[\\x94\\x92\"c\\x90\\xb8`pA\\xea\\r6\\'\\x04ma\\xcfc[w0\\t\\xa0}\\xfc\\xc9\\xd4\\x13\\xeb\\xde\\xb1\\xa4\\xb4\\x95\\t\\xf6\\xebLD\\xc1\\x94\\xa8\\xcfQ\\xd0\\xd0\\x02\\xee\\xc8\\xe2\\xaa\\xa0\\np\\xed\\xc1\\xf4\\xe6\\xac\\xc2\\x01\\x07\\xf8\\x87lP!\\xcc\\xa0s\\xb7\"\\x90d\\x1d\\xbd\\x8f\\xad\\x08\\xe5@\\x1d@8\\xc5J\\xc0\\x02\\x18\\x8f\\x97\\x1dh\\x06 _\\x9b\\x19\\xc1\\xea=\\xe9\\xa4\\x15l\\x1e\\x9e\\xa2'\n",
      "b'\\x951\\xbf\\xe5<\\n\\x99\\x94\\x11\\xc1 \\x8a`E\\x80\\xe7\\x07\\x14\\xd5\\xca6=\\xfaS\\xf6\\xb4lA9\\x07\\xbd)\\xc3\\x0c\\x7f\\x17\\xad\\x00K\\x1c\\xa3iW\\x1c\\x1e\\xfd\\xe9\\xfc`\\xf3\\xff\\x00\\xea\\xaa\\xc0\\x06_\\x99\\x86\\xe0x\\xa7F\\xc0|\\x9cu\\xe0\\xd2\\x02vb\\xc0)\\xe4}j\\xac\\xf0\\xe1\\xb7d\\x95==*b21\\xdczS\\xb7\\x10\\x02\\x90\\x19O\\xad03dB\\xb9\\xc0\\xe2\\x9b\\x1c\\xa5[\\x1d\\x05^h\\xc8\\xf7^\\xc6\\xa0\\x92\\x02\\xdf2\\x8e\\x9dh\\x03_K\\x94(\\x0f\\xd3\\x1c\\xfe\\x1d\\xea\\xe5\\xd4\\x86@\\xac\\t\\xc63\\xf8\\xf7\\xae~\\xdd\\x9bp\\x8cI\\xb0z\\x9fZ\\xd7\\xb5\\x9c\\xb8X\\xa6l\\xb1\\xe0\\x1f_cQmnU\\xf4\\xb1f%;Tw5<\\x8b\\x9cc\\xafs@\\x8fnp\\x0e\\xd0q\\xf8\\xd4\\x98\\xe3\\'9?\\xca\\xafq\\x16mf\\x89U\\xa3\\x9d\\x9f\\'\\x85\\x00\\xf6\\xc7\\xd3\\xd6\\xb2n\\xe2\\xc4\\x93\\x86\\xca\\xb2\\x9c\\x91\\xebRK&n\\x19\\x97\\x80:TWr=\\xcb\\xc8\\xf2\\x0cn\\xf9\\x81\\x1fL\\x7fJ\\x00\\xcb\\xb8\\x97\\xf7\\xed\\xc6I\\x18<c4\\xeb\\t\\x02]|\\xdfu\\xb0s\\xd8u\\xa8\\x1d\\x89\\x91\\x86>S\\xd0\\xfaTEq2\\x8c\\x92\\x0e\\x0f5+q\\x1dZ\\xdd[\\x80\\x14H8\\xf4\\xa6\\x89\\xa1\\x96U*\\xc1\\x889\\x07\\xdf\\xbdT\\x86\\xd8m\\'\\x03\\xa7j\\x9a\\xde\\x11\\x19\\xf4\\xc9&\\xa8\\x0b\\xea\\x14\\xa0 \\x80\\x0f\\x00\\x9e+>\\xc5@\\xbd\\x94nLn \\xf2?J\\xb6pa\\xcex\\r\\x8c\\xfb\\xe2\\xa9\\xda\\xaa\\xa5\\xe8c\\xf7Ny\\xf7\\xc5\\x01b\\xdc\\xdeJ\\xac\\xaa[\\xf7\\x81\\xb1\\x8e\\xdf\\x85W\\'\\'>g\\xcb\\x8e\\x83\\xa0>\\xf4\\xf9\\n\\xb3;\\x16\\xf9\\x83p;b\\xa1\\x0e\\x85[\\x18\\x18\\xea?\\xad\\x03\\x1c\\xe0+!I\\x83\\xa0\\x18;I\\xcesC0#8\\xc6\\x0e*\\xb4,\\x18\\x80\\xbd\\x17\\x8c\\x9f\\xd2\\xa6,rG\\x07<\\x8a\\x00\\x9a\\xcd\\xca\\xbb)9\\xcf \\xe7\\xa0\\xfaT\\xd7\\xcc>\\xc9/^G\\x07\\x07\\xd6\\xa9[\\xb17\\xa5r2\\x16\\xa6\\xb9b\\xf6\\x93{\\x02\\x08\\xfciu\\x03\"-\\xe4\\x12O\\xcb\\x9a\\x91\\x89\\xcf\\x19\\xa8\\xa3'\n",
      "b'c\\x82\\xb9\\xe0\\x1c\\xd2M#\\xa4E\\xf3\\xfesL\\x11$\\x8c\\x02\\x01\\xd1\\x8fj\\x86\\xda\\x15i\\x7fz9=\\tb0>\\x95\\x12\\x16\\x94\\x16\\xe8\\xa7\\x9c\\xe3\\x9c\\xfbT\\xb1,\\x91\\xe0\\xb3\\x07\\n\\t\\xc1P}\\xa916]f1\\x01\\xb6B\\xca=\\t\\x04{T\\x0e\\xe3h\\xc1\\xeb\\xdb5\\x0b\\xcc\\xe4\\xb2\\xec\\xda3\\xc8\\xe7\\xad/\\x99\\xba%TM\\xc4rFs\\xcf\\xb5M\\x80\\x97\\xce(\\x98S\\xb1\\x9b\\xa1\\xe9L\\xe0\\x9c\\x96wA\\xc9$w\\xfaSaX\\xa4\\x05\\xa4\\x90\\x87\\xcf~\\x82\\xa4\\x12\\xb0\\xdb\\x16\\xe0W\\xa6\\x07\\xff\\x00\\xaa\\x8b\\x03\\x1b$\\xea\\xa3b.\\xd3\\xdc\\x8e\\x7f\\x0cU[\\x97R\\xc4\\x00q\\xd8\\x9e8\\xfaU\\xd9q\\x18\\xdb2\\x0ex\\x04\\x0eG|\\xe6\\xa1\\x8a\\xdd]\\xfefG\\x03\\xae8?\\x851\\rX\\xf8\\x8d\\xd5\\x0bDN\\x03c\\x90x\\xcf\\xf3\\xa7\\xb8\\x11\\xb1`y\\x1d\\xb1\\xcf\\xd7\\xa5:f\\x9a5\\xeb\\x85\\x18\\xe7\\xbe:\\x0ej\\x94\\x99.I9\\x04\\x00Oph\\x02\\xe4\\x13+\\x12QQ\\t$\\xe4\\x8e\\xbe\\xa2\\xab3\\x1f8\\xf9d\\x0epI\\xed\\xf4\\xa7\\xa9E\\x88\\x91\\xf7\\x81\\xc08\\xe8)\\x90\\xa9\\xdc\\xcd\\xb79\\xee}h@\\xb5\\x18\\x9b\\xcb\\xed<\\xa0\\xef\\x8e\\t\\xa7\\xdb\\x08\\x8e[\\x01\\\\w94\\xf6\\x94\"\\x95\\x19\\x0cz\\x91\\xd6\\xa1v\\x11\\xc7\\xb5z\\x93\\xdf\\xaf\\xe5@\\xcd\\x037\\x97\\x19\\xf9\\x9d\\x89\\xe8F1\\xf8zTi;I\\x90[q\\x07\\x03\\x8e\\x00\\xf7\\xaa^{\\xb8\\x08\\xce8\\xeez\\nX\\xc8\\x00\\x9d\\xc7?C\\x8a\\\\\\xa1\\xa9\\xa1$\\x86b\\xc3f\\x07p\\xa3\\xa9\\xf6\\x15Z\\xe5#8%pA\\xc1\\xc1\\xed\\xebN\\x8f\\x04ob2z\\x8c\\xff\\x00\\xf5\\xa9\\xf2 `~\\\\0\\xe8G?\\x9d-\\x87b\\x011\\x89BG\\xca\\xaf=8\\xce;\\xd2Et\\xc2]\\xe7\\xef\\x93\\xc9\\xed\\xf8TR\\xeer\\xdf\\xbb$\\x13\\x93\\xb6\\xa7\\xd3\\xac\\xcc\\xb3)8+\\x9eA8?J\\xa6+\\x1d-\\xad\\xd1ke#\\xe5|s\\x8eNi\\xd2;\\xb2\\xb1\\x0c1\\x8es\\xd4\\xfbP\\xae\\xaa\\x15\\x02lU\\x04\\x80y\\xe2\\xa1i\\x06\\xc6\\xd8\\t\\x00\\xf6\\xc5d'\n",
      "b'\\x85\\xb0\\xfd\\xae\"R\\xed\\xb0c\\x8e\\xb8\\xf5\\xaa\\xc6m\\x84\\x84\\xdaG\\xb8\\xa2\\xe6gbT\\x0c\\xe7\\xa0#;EC\\xf2\\xaf\\x1b\\x87\\xbf\\x14\\xd2\\x15\\xec0\\xf0\\xb8\\x1d\\xfaTd0*\\x14\\xf1\\xde\\x9c\\xad\\xb8\\x92O\\x03\\xa5\\r\\xd7=\\x85k\\xeaP\\xed\\xa2\\xb3\\xeea\"RT\\x0cg\\xbf\\xe5W\\xc4\\xb8n{\\x9e*+\\xb4\\xc98\\xe8{\\xd2\\x18\\xdb+?\\xb5)P@\\x03;I\\xf5\\xf4\\xad$\\xb5\\x8c\\xdb\\xa2\\xec9R\\x01=\\xcf U]&x\\xa2u\\x0c\\x81\\x8f;A\\xe3\\x06\\xadKp\\xf1\\xdc\\xb3F6\\xe7\\x9d\\xbe\\x87\\xd2\\xb3\\xb5\\xcd\\x15\\x91$V\\xb2\\xd8#\\xedm\\xd01\\xf4\\xc9C\\x9e\\x08\\xf5\\xab)m#\\xc6~\\xca\\x90\\x82\\xc8\\x18\\x87l\\x83\\xcfP{\\x0e*\\x88\\xba\\x96Y>p8\\xe4\\x8eH\\x02\\xac\\xdbX\\xfd\\xa2 A;\\t9\\x00\\xff\\x00\\x9e\\xf4\\xd3d\\xb7r\\xa4\\xdb$Y\\r\\xe4n\\xb2\\x0e\\x00\\xc1\\xc2\\x8e\\x9c\\x1f\\xc7\\xbd\\r\\x15\\xa5\\xba\\x8f+\\xe6\\xe0dn\\xef\\x9e2>\\x9d\\xeb\\xa0\\xb7\\x80\\xc9n\\xb0\\\\\\xe1\\xe2,\\x0b\\x0c`\\xb0\\xec\\rP\\xd6\\xac\\xe3\\x8daH\\x86b\\x8d\\x8a\\xa8=T\\x1e\\x83\\xdcU6#\\x9a\\x91\\x8c\\xb7$t\\xc9\\xe4\\xf6\\x1c\\xd5\\x82\\x9c\\xae\\xce\\n\\x8e)\\xf0\\xc4\\x9bN\\xd1\\xf7\\xb2M>\\x151\\xca\\x15\\xf9\\x1dA\\xf5\\x1e\\x95I\\x8a\\xe3\\xe0`\\xf0\\xba7C\\xd4zT\\x96\\xecA(\\xff\\x00xw\\xf5\\x1d\\x8d\\x17P\\x88\\xdb\\xcdN\\x98\\xf9\\x87\\xb7\\xad1\\xd8G\\x18\\x9b\\x83\\xb4d{\\x8fJ`h\\xc32C\\x1c\\x9ec\\x80\\xaa7(\\xeey\\xe8+\\x16\\xeea3\\x96A\\xf7\\x89\\xc9\\xc98=\\xf1PO\\xa9\\x19\\x8c\\x84.\\xc4=\\x02\\x93\\x95\\xedQ\\xc1\\x10l\\x98\\xf3\\xbc\\xf4$\\xfeu\\x9b\\x1e\\x86\\x85\\x8e\\xf5\\x8aY\\x04q\\x94R9\\xc6N}\\x00\\xefN\\xb8\\xbaH\\xc1R\\xbb\\xdc\\xf0\\xd8\\xcfZ\\x89-d\\x1f0\\xc8\\n\\x018\\xe9\\x9e\\xe6\\xa3v1\\xc8X|\\xb9\\xe0z\\x93\\xedR\\x92c\\x16i\\x1aB\\x9b\\x01\\x08A\\xc8\\x07\\xb7\\xbdU\\x89^M\\xeb\\x1b\\xf0\\x07\\x1c\\xf7\\xab\\x02+\\x99f\\x01d*\\xd8\\x05\\x8b\\xf01\\xde\\xa5\\x1b'\n",
      "b'\\x94\\x84\\x8d>`\\xa0\\x12\\x07\\xe3G7bJ\\xa1%\\x19\\x04e\\x8f\\x03\\xb9\\xad\\x03!@\\x13h\\x0f\\xceTr\\x01\\xf6=\\xea\\xb9D\\xd3\\xe4\\x13\\xddo.\\xdf2\\xa6G\\xcd\\xee}\\xa9m\\xd9\\xa5&C\\x19E\\xecA\\xe0S\\x1e\\xe5\\xd4\\x18Q\\xbb\\x03#\\x9c\\x9aj\\xc4\\xa4c\\x04z\\x91\\xc5A4\\xa4\\xb6W\\x81\\xdc\\x1a\\x89\\xae\\x18\\x0e\\xbf\\x97j\\xa4\\x81\\x89t\\x8a\\xb7\\x1b\\x90g\\xf8G<\\xfeU\\n\\xc7\\xc9bv\\xa6y\\x1e\\xa3\\xd2\\xa4g\\x03\\x9ce\\xb99\\xa4\\x9d\\x8b\\xb6@\\x01N\\t\\xc7\\xe7L\\x08\\xda\\x12\\xd2\\xb8_\\x90)9=\\xbd*\\xcc \\xc5\\x18;\\xb3\\x8e@\\xa8\\x92N\\xa7\\xaf=\\xe9\\xe5\\xf3\\x9e\\xc7\\x02\\x80C\\xe6q\\x8c\\x9e\\xfd*\\xa4\\x842\\x90\\xc3\\xf1\\xf5\\xa5o\\x9f\\x83\\x9d\\xbd\\xa9\\xac@\\x1fN\\x94$\\x05)mw}\\xdc+\\x11\\xd3\\xb5D\\x90\\xcb\\x0c\\x83\\x1d}*\\xeb9\\x0c\\t?Jt\\x87r\\x00q\\x9e\\xa0\\x8e\\xb4\\xee+\\x15p_p\\x7f\\x95\\xc7 \\xd2\\x82v\\xe4\\x1f\\x9b\\xa1\\x07\\xbdX\\xb9\\x86&\\t\"\\xb1\\x05\\xb0\\xb9\\xf4>\\xf5\\x14\\xb0\\x15`H\\xc7\\xa9\\xedB\\x01\\xa1K|\\xd1\\xe4c\\xa8\\xf4\\xa9D\\x85\\xf0}8>\\xb5\\x08b\\x0f\\x03\\xb7_QB\\xbf\\x96\\xc1\\xba\\xff\\x00\\x851\\x13\\x96c\\x92\\xbd:\\x11M\\xda1\\xbb$1\\xe3\\xda\\x9a\\xcc\\x0bnN\\x07z\\x91v\\xb9\\x04\\x8e\\x83\\xb5 \\x18T\\x11\\xeeO\\xad2@I\\xeaq\\xefO\\xfe?j{\\x1d\\xc3\\xa6\\r1\\x90+\\x14\\'\\xae=;U\\xa3\\xb7\\x87\\x07*{\\x01Q\\xc4\\x03|\\x8epI\\xe0\\x9a|l`\\x91\\xa2pJ\\x13\\xf7s\\xc5 \\x1e@\\xc0a\\xd1\\xa92\\x01\\xc6?N\\xb4\\xff\\x00(\\xa3\\xe0ccs\\x8c\\xf4\\xa5\\xdb\\x86\\xc50)\\xdcC\\xbf.\\xbc`t\\xa4\\xb6\\x9dv\\xaa6w\\x0e\\x01\\x15x\\x00\\xac\\x7f\\x8b=*\\x9c\\xf6\\xbc\\x99\"\\xed\\xce)\\x01\\xb7\\xa6]\\x8c\\x85\\xb9\\xfe\\x1eA\\xee}3Z\\x17\\x0c\\x07\\xdc\\xe4v\\xfc\\xab\\x9d\\xb5\\x0f<{\\xb7bE\\xe4\\x0fj\\xde\\xd3\\x9b\\xed\\x90\\x17b\\x01C\\x82\\x00\\xc74\\x0c\\xaf\\x18\\x0e\\xdbq\\xf5#\\xa8\\xa95\\x18\\xc8\\x86'\n",
      "b'\\xdd\\x80\\nNT\\x81\\xcdZ\\xfb0\\x86<\\xe4n$\\xe7\\xff\\x00\\xd7T\\xf5\\t\\x98\\x98\\x97\\xf8\\x06p?\\xa9\\xa1\\x88\\xc3t\"GR8\\x07\\x1c\\xff\\x00J\\x8af\\xd8\\x07\\xab{q\\xf8\\x1a\\xb9p\\xaa\\xf2\\xeee\\xf9q\\xc9\\xcfz\\x8d\\xad\\xcd\\xc2\\xf0v\\xb6r7p1\\xde\\xa1=I\\xb8\\x88\\xf3\\x958r8\\xe3\\x9a\\xd1\\xb4\\x92D\\xb3#!\\x9f\\xa6X\\x03\\xc5V\\xb7\\x81\\xcbl\\x0c\\x19\\xbe\\xbc~u:\\x90\\xb1\\x95\\xf3\\x10\\x0f\\xaf5wC\\xb3\\x1b\\x13>\\xc6]\\xe4\\x8c\\xe7\\x1d\\xbaS\\xedK7\\xca\\\\\\xe3\\xf5\\xaa\\xee\\xc1~\\xec\\xa8I\\xea;U\\x98P\"d\\xdc\\xc5\\xb9\\x86G\\x07\\x83\\xd7\\x9awC\\xb0\\xdb\\xb6h\\xa5!2\\xc0\\xe3$g\\xa5Bg,\\n\\x9d\\xeaOQ\\xeb\\xf8P\\xec\\xe9\\x97\\x13\\x07#\\x19\\x1c\\x8a\\xab+3\\xcd\\xbd[i\\xc6H\\xa8\\xbb\\xb8\\xac^\\x89\\xf2\\xa3j\\xf2O\\xd2\\xac\\x1cm\\xeas\\x8fz\\xce\\x85\\x9d[v\\xf0\\x7fJ\\xbb\\x1b\\x86L\\xfd\\xa25\\xdb\\xd4\\x10I\\xfaS\\x01mN\\xdb\\xbc\\x820\\xc0\\x9cw\\xa7O2$2\\xe0\\xf3\\x9c\\x83\\xefY\\x8b:\\t\\xcf\\xcf\\x82\\t\\x05\\x87z\\x92\\xe4\\xa7\\x90\\xcf\\x1c\\xa8\\xc0`\\x95=O4\\\\}\\x08VM\\xecY\\x8fRr\\x07Z\\x89\\xe6\\x00\\x15\\xea\\xe4\\x8c\\x03\\xe9L\\x8a\\xe5\\x92U(\\xbb\\xd5N\\xe2\\xbdA\\x19\\xe6\\xaf\\xdf\\xb5\\xad\\xd5\\xcb\\\\[\\xc0c\\x89\\x94\\x1f(\\xf5C\\x8e@=\\xc6i\\x8a\\xe4m9{r\\xaa\\xa1\\x1dF>_\\xf1\\xa4\\xf3IDn\\xf8\\xc0\\xf6\\xe6\\x96\\x0bsr\\xc4\\xc6\\x868@\\xc8\\xc62O\\xd34\\xe6\\xb2u#iLz\\xfa\\xf7\\xf5\\xebC\\xb0\\x86\\xbb\\x19r\\xce\\xd9\\xc1\\xc9\\xcf?\\x8dF\\xca\\xea\\x08^6\\xf5\\xcf\\x07\\xd7\\xa7\\xa5XT\\x8e8\\x8e\\xe6}\\xdc`\\xae\\x08\\xfc\\xa9e\\x99I\\xc9P\\xff\\x00\\xc2H\\x00\\x13\\xc7\\xa5!\\xb6E\\x1c\\x91|\\xaa\\xd1\\x16o\\\\\\x9c\\xfe\\x15\\x1c\\xcc|\\xc5\\x07\\x92\\x07\\xcaG\\x07\\xf14\\xe8\\xca\\x05\\xde\\xc4\\x01\\xd8\\x11\\x9al\\xd2\\xa3c\\x00\\x1c\\xf4\\x03\\x8cR\\x01f\\x89w\\xaa\\xab\\x06s\\x8e\\x87\\x8fzp\\x02\\x06f$\\xabv\\xe7\\x83U'\n",
      "b\"K}\\xe2\\x8b\\x80;\\xe4\\xf1H\\xb3\\x1d\\xa5NH=\\x8d;\\x01rg\\xc8\\xdc\\x9f;\\x1eH\\xc9\\xcd20\\x1cl#\\xe6\\x1c\\x929\\xc7\\xd6\\xab*J\\xca\\x1d\\x18`\\x1crF\\x7f/J\\x93t\\x8a\\xbf{/\\xd8\\x0f\\xe7HE\\xa7\\x11(\\xdcS\\xee\\x8e\\xbc\\xf3\\xf8f\\xaa\\x06&@w\\x0c\\x1e\\xde\\x95\\x1b\\xdc>\\xe0\\xac01\\xd3\\x14\\xdf(\\x14\\xdeX.ON\\xd4\\xc7a\\xd2\\xc8\\x11\\x0b\\x7f\\x11\\xedT\\xf7\\x169=\\xfa\\x9a\\x9aX\\xdb#\\x1c\\xe7\\xd3\\xd6\\x85\\x84\\x93\\xd3\\x9cg4 Hk\\xc6\\xe8\\xaa\\xc7\\x80\\xdc\\x82i\\xe9)+\\xd7$w\\xe9Ir\\xfb\\x84}\\xf8\\xc0\\x1e\\x86\\x9a\\x1b\\xe5\\xc1\\x18\\xefT2\\xc2L\\x061\\xc9\\xeeOCS\\xab\\x0c\\xeeU\\xe0\\xfe\\x02\\xb3cb\\x1c\\xed'i\\xe0\\x8fj\\xbb\\x1bDp\\x088\\x199&\\xa5\\xa0.[\\xa8\\x92^\\x06\\xe5<g8\\x03\\xe8kR\\xd2\\xd5m\\xe52\\xa1\\xde\\xdft\\xed\\x19\\x00v5\\x9dks\\xe5\\xae\\xd5 )\\xeaH$\\x01\\xe9\\x8a\\xb5\\x15\\xe9\\x0e\\xd1\\xc6\\xdb\\x89\\x18\\xc8\\xe4g\\xd2\\xa1\\xdc\\x1a.\\xbb\\x12\\xc4\\x0c\\x81\\xd4\\xfb\\xd4i E<\\x0cg\\x83\\xefU\\xa4\\xb9\\x97!OLc\\x15\\n1-\\x87\\xce\\xc1\\xc8\\xc1\\xa4$K=\\xd1\\xdc\\xe7\\x18\\xdd\\xd4\\xfa\\x9f\\xad1U\\\\ng\\\\\\xfdzUY\\xa42\\xcd\\x86o\\x97<}j\\xc4J\\x150\\xa9!\\xf7\\x15I\\t\\xee$y\\xe4z\\x9a\\x93\\xa9\\xe7\\xee\\x8ei\\xb0\\xb0o\\x99y\\x07\\xa5&\\xe3\\xbf\\xfaV\\x85\\x06FK\\x11\\x9cc\\x1e\\xd5zq\\x17\\x95\\x12\\xcc1\\xb8\\x1e\\x07^\\xbcV]\\xc3\\x90\\xa0/\\x04\\x7f\\x9c\\xd5Qrc\\x9b\\x12\\x82\\xc9\\x8f\\x94\\x9fZ\\x89+\\x95\\x16\\x91\\xb44\\x9d\\x8c\\x8d\\xbb*z\\x0e\\xfd3N\\xb8\\x88F\\x16C&\\xe58$\\x9e\\x0f\\xd0\\xd5c\\xaaJ-\\xcb\\xb1\\xc0\\xdb\\xb9\\x07rs\\xcdQ\\x97U\\xba\\x98\\x96#\\x19\\xf4\\x15)1\\xb6\\xb65~\\xd5n\\x8c\\xc5\\x1bp\\xda2y\\xadm\\x16\\xf2\\x18\\xadU\\x18\\xe1\\xd8\\x9c\\x0c\\xd7\\x1e5\\x1b\\x85?t\\x13\\xf4\\xa9WR\\xb9r\\x02\\xc5\\x83\\xd0\\x11\\xd6\\xb4j\\xe4\\\\\\xef\\x16tU\"\n",
      "b'\\xdeY\\x03\\x0e\\x8a\\x0eI\\xaa\\x1a\\xb4\\xc9$9\\x04+3\\x8c\\x06\\xf4\\xcf5\\xcb\\rJ\\xf5\\xb0\\x148\\xc7L\\x12\\r)\\xba\\xbd\\x93\\x1b\\xb9\\x00q\\xb8\\xf1J\\xcc.h\\\\\\xc4!r\\xf1\\xfd\\xdf\\xe2\\x1f\\xd4R\\xe5]\\x079\\x04d\\x11\\xd6\\xaa\\xc7s<\\x80$\\xe4|\\xa3\\x80=>\\xb4\\xe1\\x95pW\\xee\\x9e\\xa3\\xd3\\xde\\x9e\\xc8\\x1e\\xe5\\xb4\\x90\\xb9(\\xff\\x00}\\x7fQ\\xd8\\xd5+\\x91-\\xda\\xb5\\xad\\xa2\\xa6\\xc8\\x8e\\xf6b@\\xcf\\xa0\\xc9>\\xbd\\x85Z\\x99\\xd5-\\xd6@\\xa5\\x98p6\\xe35N\\xdc\\x0f4\\x04@\\xad\\x9eK\\x92I\\xef\\xd6\\xa5\\xb1\\x8fm\\x15\"\\xb3\\x8ao>Idb<\\xc4\\x8d\\x0e\\xd4\\x07\\xb1l\\xf2~\\x94\\x0bA\\x1d\\xd3\\xa26`\\x04\\xedp1\\x91\\xec;V\\x84w\\x027*\\xcf\\xbdr\\x08\\xce\\x00S\\x8eq\\xc7Z\\'\\xbc\\x8d[p\\x98\\xc6\\xdd\\t*\\x7fCS\\xa8\\xf4+\\x16$\"\\xc6\\xceX\\x1e\\x0fQ\\x9a\\xaec-9yx*F\\x03q\\x91\\xedQK;\\xdc\\\\\\xf9hF\\xd8\\xcf,\\xbc\\x8a[\\x88\\x83a\\xa7\\x96M\\xf9\\xc2\\xa0\\x1c\\x9f\\xc2\\x8b=\\x80Y\\xae\\xd4;\\x05!I\\x18\\x04\\xfa\\xe7\\xb9\\xa63\\x05b\\xaa\\xf2\\x96\\x8c\\xf0\\xe3 7=\\x87\\xf55)\\x8f}\\xaf\\x95\\x12\\x86|\\xe4\\x9c\\x03\\xb4\\xf4\\x19\\xe3\\xf4\\xabV\\x91\\xc7h\\x8c\\x93\\\\E\\xf6\\x87\\xc0EC\\x92\\x0f~}i\\xa8\\xd9\\x08c\\x88\\xd6\\x08\\x9eH\\xe3\\xce0QUA\\'\\xf0\\x1csM\\x81H\\x1b\\x95\\x89\\xe4\\x8c0\\xe4w\\x1c\\xfeuj\\x08\\x0c&F\\x96)7\\xb8\\xc2\\xaf]\\xa3\\x1c\\x9c\\xd5[\\xf86\\xc3\\x99&1\\x03\\x92w\\x1e\\xde\\x94\\x9e\\xae\\xc3\\xd5\\x15\\xee\\\\\\x1c\\xe3\\x86\\xed\\x8e\\xf5\\x04\\'\\x8d\\xc4\\xf1\\xdc\\x9aa\\x95Le\\x90\\xfc\\xaa0I\\xe4\\xb5Oe\\x12J\\xcf\\x1b\\x9c1\\x19\\\\\\x90\\x07C\\xde\\xaba\\x11\\x16\\x01\\x8f\\xa0\\xe9\\xeehi\\x83\\xbe\\x0f\\r\\x8e\\x82\\xab\\xa8i\\x1c\\xa8\\xea:\\xd4\\x96\\xd6\\x0e\\xf3o\\xc9\\'\\xb8\\x1c\\x11M\\xb4\\x04\\xd1\\xa9\\x04\\x90@P{\\xf6\\xa7\\x15\\xc8\\xc0\\xe8:v\\xcd\\\\\\x8d\\x96\\x12\\xf20Fe\\x18\\n\\xd9\\xc6}j\\xb4\\x92\\x19d.\\x00'\n",
      "b'\\xf9\\xbd8\\xe6\\x92\\x95\\xc0k(X\\xf0z\\xfeUX\\xab\\x02\\t\\xab/\\x9e\\x018\\x1e\\xa6\\xa1u\\\\\\x9f\\xafZcd.G<\\xf4<\\x1fZ\"\\x9cmd~A\\xce\\xd3\\xe9M\\x94{\\xd5I\\x08\\xce;\\xd3\\x11\\xa7g\\x89\\xe0l\\x0f\\x9e>G\\xfbC\\xd0\\xd5\\xd9#\\x0658\\xc3\\x9e\\x80\\xf7\\xaa\\x16\\xf2\\x95\\xb5\\x8d\\xa3]\\xae\\x8d\\xf3\\x11\\xfcC\\x1d\\xe9\\xd3^\\xcb,j|\\xaca\\xb2\\x18\\x1e)u\\x15\\xc9f\\x80I\\x16\\xf8F\\xd7^\\xa0V~\\xd2~\\\\|\\xd9\\xe8\\x7f\\x95Omv\\xdey\\x05@\\xcf_\\xa5[\\x91\\x01\\x90H\\xa59\\xc1?\\xe3L\\nP\\xaa\\xab\\xa8\\x7f\\x963\\xc1\\'\\xb5JT\\xc5.\\xc2O\\xa89\\xea=)\\xce\\xc1C\\xa7\\xdeV9\\x1e\\x9fJ[v\\x12n\\x8eN1\\xca\\x93\\xdb\\xdb4\\x00\\x86 H\\'\\xa1\\xef\\x9aTQ\\x92\\xa7\\x07\\x8e\\x08\\xf4\\xa7\\xed99\\x00\\x9e\\xf8\\x19\\xc7\\xbd\"\\xa1#\\xefdg\\xd3\\x14\\x00y?)*p\\xe9\\xd3\\xde\\xa4|>\\xd78\\xdc:\\xd2\\xc8Derw7q\\x8ar\\x80A\\x039# \\x9e\\x94\\x00\\x88\\xa1\\x14\\x82~F\\xfb\\xa7\\x1d>\\xb4\\xd3\\x9d\\xa3w\\'\\xdb\\xb5+1)\\x91\\x92:\\x11\\xe9K\\x1a\\x8cn\\xf9\\xca\\x9e\\xb8n\\xb4\\\\\\x04\\x8f\\xb0\\xc5\\x05H=\\xf6\\x9e\\x08\\xa0\\x02\\x87v8l\\xe0\\x13\\xcd=\\x08=@!\\xb1\\x8c\\x9e\\x7f*,\\x06k\\xac\\xb6\\xf7\\x1f&@\\xceF=+WN\\x9c\\xdb\\xc8\\'RJ\\x93\\x89\\x17=G\\xa8\\xa4\\x10\\xa4\\x8cQ\\xc8\\xc8\\x19\\x07\\xbf\\xe7T\\xc4\\xa2\\xd6b\\x19r\\xa0\\xe3\\xea(\\x03\\xab\\x9eE\\x91\\x07\\x95\\x92\\x84\\x10\\x0f\\\\\\x8e\\xbdk\\x0e\\xfd\\xb10M\\xe4\\x902>\\x9e\\x94i7\\xc5\\x95\\xe0\\r\\xf2\\xe3*\\x0foZ\\xab~q.\\xe6$d\\x12\\r+h\\x03U\\xd5\\xc11\\x8c\\xaa\\x90\\t=\\xb9\\xa2\\xef\\xaa\\x95\\xca\\x9e\\x87o\\xa5En\\x87\\xe4\\xed\\xb8\\xe4}=kA6Es\\x1b\\xc8A\\\\\\n\\x8bY\\x85\\x8c\\xa6A\\xb4\\x11\\xe6\\xe4\\xfbv\\xa8\\xc2\\x1c\\xfc\\xa9/\\xe5]m\\xfb3\\xc3\\x12\\xe0\\x00\\x06@Q\\x8a\\xcde\\x18>\\xa7\\xb9\\xad\\x13\\xba\\x06c\\xc3m'\n",
      "b',\\x92\\x85\\x11HNzs\\x9a\\xd1\\x9e\\xc7h,-g\\x0b\\x8e\\x9c\\x9f\\xe9Z\\x1a,\\xb1-\\xf3+0\\xdcx\\x1fZ\\xdc\\x9e\\xe2\\x05\\x1f4\\x88:\\x0e\\xa3\\xad+\\x81\\xc1L\\x15$\\xc2\\xc6\\xe8}\\x18\\x93I4,0J8\\xe39\\xe6\\xb65\\x84\\x81\\xef\\xe0`\\xc8A\\x198?\\xce\\x92\\xf9\\xd2U\\xc2\\xba\\r\\xbd\\x0eG\\xa5;\\xea\\x062\\xc2\\xed\\x11q\\x13\\x95\\xf5\\x07\\x8a\\x8d\\xf7!\\xda\\xe8G\\xb5n\\xe9\\xe68\\xedd\\x12H\\x83\\xae\\x06G5N\\xfd\\xe2y\\xb7\\xab\\x03\\xd38\\xa1\\xb0\\xb1J\\xda\\xd6IeT\\t\\x8d\\xe7\\x03q\\xc0\\xad\\x99\\xfc-<h^9b\\x91\\x15w3\\x0f\\x97o\\x00\\xe3\\xe6#\\'\\x9e\\x94h\\xda\\xb5\\xb5\\x8c\\xce\\xd7H\\x1dJ\\xedR\\xa8\\x0b!\\xe7\\x958\\xe0\\xfb\\xd3\\xf5]y.l\\xd2\\xda\\xda9\\x16?\\xe2-\\x81\\xc7\\xa7\\xff\\x00^\\x80d\\x96z<\\xf1\\xc9\"\\\\\\x14\\x8a4\\x85\\xe5\\xdf\\xb4e\\xf6\\x82x=\\xeb%\\xb0X=\\xb2\\x99bn\\x06[-\\x9f\\xa0\\xabRj\\xf3\\x9bC\\x07\\xdb$t#\\x1bI\\x04\\x91\\x8e\\x99\\xc5gA?\\xd9gY\\xd1vH\\xb9\\x00w\\xf4\\xe2\\x81\\x17Qw\\xb1\\x01&\\\\\\x0c`\\xf1\\xf9\\x8a\\x9a\\xde\\x04\\xc8\\x12\\xb9\\xdb\\x9e\\x15H\\x1f\\x86)&\\xd4#\\x9f\\x04\\xb3\\xae\\x067\\x00\\x0f=\\xf9\\xefP\\x8b\\xc5\\x91\\xd8),\\x14d\\x901\\x93\\x8e);\\x88.\\x0cP\\r\\x88\\x1c1;\\x86\\xea\\xa8\\xac7\\xed\\x12\\x10H\\xce@\\xc9\\x1fZ\\x93\\xcb\\x96\\xe5\\x8b\\xbc\\x99Q\\xf2\\xe7>\\xdd\\xbf\\n\\x8c4i\\x94\\x89p\\xec2Y\\x8f c\\x91@\\xc6J\\xa607\\x9d\\xdb\\xb9\\xc7\\xb5G#\\xe3\\x04\\x0cqM\\xf3\\x00bS$z\\x1e\\xb4\\xf5e\\x98`\\xfd\\xee\\xc4\\n\\x01!\\x05\\xc3n\\xe3\\x81\\xdcv?ZU$\\x96}\\x84\\xf3\\xc6\\xde\\x83\\xf1\\xa6m\\x03\\x82s\\x8a\\xb4\\xb2\\x81\\x1e\\xe6?(\\xe8\\x07\\x1c\\xfd)\\xec=\\x85I\\x041\\x92\\xc7v\\xe1\\xd0\\xe0\\xe4T\\x06@\\xe8\\x00\\x01px\"\\x89\\xcf\\x9d)`\\xa1G`;P\"\\xeb\\xb5\\x86\\x07\\xad\\x00\\x86l=K\\x82}=jb\\xbf\\xbb\\x08\\xfcw\\xc6i\\xaa\\x9b\\x98'\n",
      "b'+\\x0c\\xfb\\xfa\\xd5\\x91\\x18\\x08C\\x8c\\x0e\\xdfZ@Tv\\xfd\\xdb\"\\xfd\\xdc\\xe7\\x8a\\x83.\\x83\\xf7lT\\xfb\\x1a\\xb4B\\x11\\xc2\\xe3\\x14\\xcd\\xa5\\x94\\xe1z\\xf7\\xf5\\xa62\\xa8\\x04\\xb6\\\\\\x9d\\xc3\\xad\\x19?6\\x7f:\\x9d\\xd7\\x81\\x8e\\x08\\xe0\\x8a\\x85\\xba\\x9fJ\\x10\\x86\\xa6r6\\xfd\\t\\xabP\\xa8\\x01\\xcbzc\\x9a\\xaa\\x81\\xf3\\x808\\xf6\\xa9w\\x18\\xc0\\x0c?\\n\\x18#OM\\x965\\xde\\xae\\x03n\\xe0\\x03\\xc8\\xc5Y\\x89B3<`(\\xed\\x81\\x81\\x8f\\xa5d\\xdb\\xc9\\xb3-\\xc0=\\xf3Z\"\\xf6(\\xad\\x8e\\x06\\xe6<\\x03\\xdc\\xd4\\xb1\\x8dk\\xac\\x9cte\\xa8\\x1avrF\\xec/\\xb5C4\\x8c~b0\\xcd\\xda\\x9d\\x07\\x96\\x1b|\\x99 \\x7f:,M\\x8b1yc\\x9c\\x92\\xc3\\x9a\\x97\\xed[x\\xc6*\\xbc\\x93+\\x02A\\n;c\\xadTt\\xcb\\x1d\\xbc\\x8a\\x05ciW\\xec\\xe7a_\\x91\\xfa\\x1c\\xe4g\\xd2\\x92@G rjgS5\\xbb+\\xb0\\x04t t=\\xa9\\x91\\x93<l_\\n\\xcb\\x85 \\x0c~\\x94\\xd1eY\\x17 \\x01\\xf8\\x9a\\x88\\xdb\\xf9\\xcb\\x8c\\xe3\\x1c\\x83V\\x1f\\x9e\\x07\\xdd\\xf5\\xf5\\xa5\\x8f=\\x06x\\xc9$\\x0c\\xe0Rc[\\x8c\\xb0\\xd3\\xcd\\xd6VI\\x08T\\x04\\xf1\\xd6\\xa4:`W\\xc2\\xb9\\xdb\\xef\\xd6\\xae\\xe8\\xf3$Z\\x81\\x0c\\x8e\\x04\\x83j\\xe0\\x0eNk\\xa36\\xf1\\xcd\\xff\\x00,$%y<\\xa8\\xc7\\xebR\\xd8\\xd29\\xdb\\x7f\\x0e,\\xcb\\xbcH\\xfczb\\xb4\\xa3\\xf0\\xc5\\xbb@\\xa5\\xe4\\x97~\\x088\\xc0\\x00\\xe7\\x1e\\x95\\xafk\\x98\\x98\\x8f\\xb3\\xc8\\x14\\x9c\\x81\\x95\\x1f\\xd6\\xae\\xdb\\x97\\x956$[r\\xc4\\r\\xce=~\\xb57eY\\x1c\\xa4~\\x16\\xb7\\xf3v\\xb4\\x92\\x91\\xecy\\xfeT\\xf3\\xe1\\xdbd\\xde\\x01\\x90\\x95\\x07\\x04\\xb7\\xff\\x00Z\\xba\\xc4\\xb2\\xb9\\x8d\\xf2\\xc9\\x1eGR\\x1f\\xff\\x00\\xadU^7\\xfb[G\\xb66|n\\xda$\\xe7\\x07 \\x121\\xc5ZdX\\xe0\\xb6\\x82:\\xe0\\x8e\\x84v\\xabv\\xeaH\\xc3`\\x102~\\x9e\\xa2\\xa9\\x151\\xcc\\xf8\\x07j\\x93\\x91\\xe9\\xf4\\xa9gb\\xf6\\xe0\\xa9\\xe0\\xf4#\\xae*\\xd96\\x1fm\\xf6I&2HI\\x88\\xb7'\n",
      "b'\\xcc\\x11\\x808\\xcf q\\xc1\\xc5*\\xcd\\x1aJ\\x04R\\xfc\\xaerKs\\x8ezb\\xa9H\\xcd \\x8a\\x08\\xd4+\\xb1\\xe4p\\x07\\xe7U\\xbfzCGo\\x1e\\xc3\\xcew\\x9eOj\\x85\\x1b\\x8e\\xec\\xd6\\xbag`\\xae\\xaf\\x1b\\xc8@\\xc0\\xc0\\x01O\\xaf\\xbdS\\xb9m\\xdbP\\x92\\xce:\\x93\\xceO\\xb5B\\x963\\xce\\xea\\xbb\\x86\\x062C`\\n\\xb6\\xd0\\xc5d\\xcd\\xfb\\xd4f\\x1c\\x80\\xe7 q\\xcf4\\xed\\xd0/\\xd4,\\xe2\\x08\\xac\\xeb\\x19!\\xb8\\xcf\\xa9\\xf4\\x15K\\xec\\xd7-34`B\\x84\\x9c\\xee`\\x0e=sVm\\xa7\\x92\\xe1\\xba\\xa7\\x19+\\x8e\\x80{\\n\\xd5\\xb0\\x86yU\\x8d\\xc2F\\xa88\\x1c\\x02X\\xfa\\xe3\\xb5-S\\x16\\xe5%\\x0b\\xf6WY>s\\x8e\\xa3\\x9e\\xdds\\xde\\x9fm\\xe5[\\xd9\\xc4\\xd0\\xc6w\\x92\\x008\\xe4\\x9c\\xf5\\x07\\x1f\\xfe\\xaa\\xb2\\x19,\\xaf\\t\\xb9\\x00E\\xb4\\x95\\x03\\'<w\\xac[\\xcb\\xa7\\xbd\\x98\\x14\\xf9J\\xfd\\xde@\\n;Un\\x80\\xd6\\x97]\\x969\\x84n\\xc3i;J\\x93\\xf8d\\x9ae\\xdd\\x94W.$\\xbb\\x92<\\x8e@\\r\\x91\\x8foA\\xedY\\x92YE\\x0bF\\xf7L\\xec[\\x9c)\\x15v-B\\xc2$eKWf\\xfe\\xf3\\x90\\xc7\\xdf\\xfc\\x8a\\\\\\xb6\\xd8a>\\xe5\\xb6\\x91`\\x88:\\x02\\x146\\xc21\\xc9\\xe2\\xabI\\n=\\xc9i\\x15Y\\x80\\x18U\\'\\xd3\\x92}\\xebM\\xcb}\\x8c\\xe5J#\\x9d\\xce\\xf8#\\x03\\xdb\\x8a\\x8e(\"H~\\xd1$\\x82(\\x89;@S\\x96\\xe7\\x8c\\x9f\\xa5+1\\x99\\xd3!F\\x05\\x07,p\\x0fL\\x9e8\\x06\\xb5YR4\\t3|\\xf8\\x1b\\x8a\\x8cg\\xe9L\\x13\\x10\\xc8\\x02\\x99\\x14aW\\x00\\x80\\xa0\\xe7\\x9a\\x8a\\xe5\\'\\xdc\\xc6\"\\xe5s\\xdf\\xa0\\xfaT\\xc96\\x84\\xc8..b\\x97\\x11\\x0c\\x96\\x19\\x1f_\\xadB\\xa6(\\x06\\xc5\\xf9\\x98\\x0c\\xb1\\xa1cO\\xb4m\\xb8\\x85\\xd5X\\x1c\\xb4x\\x07=3\\xf9\\xd3SO\\xc3\\x7f\\xae\\x01\\x8fD\\xe78\\xecH\\xc7?AM+\\t!\\xa5\\xa4v\\xf9G\\xc8z\\x1fZc.\\xf3\\xb4p=j{\\x8e\\xc4\\x12\\x88\\xa4\\x00\\x08\\xe4\\xf1\\xfaS\\x0ccb\\xc8\\xa4\\x9c\\x8e{\\x0f'\n",
      "b'\\xc0U$2\\xb1Pr\\t\\xfa\\nH\\xad|\\xf2J\\xe7#\\x8c`\\x9c\\xfe5`F\\xbb\\xc1t$\\x9e\\x01S\\x83V$C\\n\\xa22\\x08w\\x1c\\xe6C\\x93\\x8f\\\\dqN\\xe0A\\x1d\\x8c\\xf1\\x9f\\x91rs\\xc8=\\xc5\\x1b\\x9e&t\\xd8\\x08\\xe7\\x00\\xd2\\\\\\xea\\x11\\xf9&\\x04@\\x83<\\x14\\xc8\\x1f\\\\RGas:o\\x8f!{\\x16\\xc0/\\xf4\\x14\\x0b\\xd0\\x8b\\x84ugQ\\x82pO\\xa1\\xad\\x0bq\\xb6@\\x8d\\xc2\\x91\\xc6k>X\\xe5\\x8f\\x1eg\\x19\\xedV\\xb7\\xb0X\\xces\\x809\\xa6\\xc0\\xb4mD\\x9b\\xf2\\\\\\x01\\xc9\\xe0\\x1e;\\x1aF\\xb0\\x90\\xe3\\x08C\\x8e3\\x9c\\x82)\\xd6\\xf2\\xfe\\xf4\\x16\\xf9\\x95\\x86\\x18\\x13\\x80j\\xd8\\xb9\\n\\xe5\\x02\\x80\\xa0`e\\xb3\\x81\\x8cu\\xa42\\xa4\\x90\\x9f(#\\x02\\xb2q\\x9c\\xfeT\\xe5\\x84\\x87@P\\xb0\\'\\x04n\\xc0\\xce)g\\x90\\xca7\\x1f-H;A\\xe8M;tD\\xf2Q\\x8fR\\x08\\xfc\\xe9\\x88&\\x85\\x1fk\\x11\\x86\\x07i\\x00\\xfd\\xdfNj\\x12\\xa1#\\x01\\x88\\xc6N0y\\x078#5nC\\x18\\xda\\x0e\\xc0\\xac\\x00!\\x14\\x8f\\xa1\\xcd2\\xed\\xe3\\x96\\xd4\\xaa\\x8f\\xde(\\x19\\xc0\\xef\\xf5\\xa4\\x043&\\xc20~G\\xea}\\xea\\x14E\\x0c\\xbb\\x98)S\\x9c\\xf6\\xfci\\xea\\xe1\\xa0\\\\\\xb1\\xdc:\\xe4p=\\x0ej\\x06\\x05\\xa4\\xc4ye\\xeaG\\xb5\\x00[e\\x8d\\xf3\\x93\\xb5\\x87B\\x06r}*4b\\x1c\\x83\\x91\\x8e>\\xef8\\xa0\\xe7h\\xdeN\\x08\\xc0$\\x8eiK1efge#\\x04\\xb1\\x19\\x14\\\\\\x05\\xdcR\\\\\\x92G\\x19\\x1d9\\x15OWA\\x95u\\x07\\x9eA=\\xc5XwW\\x7fa\\xd0\\x93\\x9e)f\"KGR\\xa9\\xc7*A9\\xa0\\x0c\\x98dh\\xd8:\\xf0\\xc0\\xf5\\xad\\x86\\x8d.\\xa1Y\\xbd\\x17\\x18\\xed\\xefY1@\\x1c\\xfb\\x13[6(UL$\\r\\x83\\xae?\\xc2\\x8b\\x02D\\x11F~\\xd1\\x18\\xe8;zT\\xcdjn\\x9d\\x9bv6d\\xf1\\xe9R\\xbe>b\\x80q\\x8c\\x93\\xc0\\xa5\\xb3fE\\xc1`\\x14\\xf5\\xe3\\x9f\\xe7S\\xd4\\xb6\\xb4*X.\\xfb\\x90\\xb3e\\xd3\\x91\\x83Q\\xc5\\x18}D\\xc2\\x99\\xc1$'\n",
      "b'\\x01\\x82MmY\\xdb\\xacd\\xbf\\x9d\\xb1\\x89\\xdd\\xf7A\\xa8\"\\x80\\rM\\xe5Y\\x8e\\xf3\\x92N\\xd1\\x82{\\x8cb\\x9a\\x92\\x13\\x89WN\\x81b\\xbb\\x89\\xdf$\\xee\\xc1\\x07\\x91]-\\xe5\\xbaI\\x16|\\xb8\\xf7c\\xa8P;V[\\xdb\\x08\\xa6\\x05\\x9b$a\\xb21\\xfe\\x15o\\xedD\\x16\\xdc\\xce\\xcaW\\x04\\x13\\xd3\\xf4\\xa2\\xe8I\\x19\\x9a\\xac\\n\\xb1@v\\x83\\xd4\\x13\\x8a\\xab\\x13\\xf9!_`\\xee\\x01\\xc6\\x01\\xa9u\\xb9\\x7f\\xd1\\xb7\\x07pA\\xc0\\xc9$d\\xd4\\xb67\\xcbu\\xa6\\x0b\\x1b\\xb4E*7\\tT\\xe0\\x0f\\x7f\\xad\\x0cz-\\xc8&\\x98\\xbc8S\\x86#\\x9c\\x0e\\x95I\\x95\\xd8\\x85Q\\xb8\\x9c\\x9fR~\\x95\\xa3u4\\x10$Q[\\xa7\\x98\\x87\\x8c\\x9e\\x84\\xe7\\xb9\\xa6\\xdfC<QCu\\x98d\\x81\\x8e\\x11#\\x18\\xc1\\xff\\x00j\\x9aW\\x15\\xecg\\xb5\\x94\\xf1HYm\\xe4u# \\x91\\xd3\\xdc\\xfaTA\\x83g\\xe7\\x00\\x93\\xc8=+re\\x13X2\\t%2\\xca\\x06_\\xcc\\x00\\x13\\xc6@\\\\\\xf3\\xe9\\xc5T\\xf2#0\\xb5\\xbc\\xf6\\xc1\\x02\\xf1\\x1b\\x96\\x03\\x07\\xdc\\xe6\\x9d\\xc5b\\x8c*\\x9f\\xbdr#|\\x10\\xa0c\\x8e\\x9dEE4\\x03f\\xe2x=\\x05jyi\\x04\\xaa\\xc9n\\x1bj\\xe1\\x94\\xa9#\\xf9\\xf3\\xf8Uv\\x99$\\x88\\xecM\\x88\\xa78\\xf5=p(\\xb8\\x19\\xb2)U\\x08A\\x1e\\x99\\xa4@cL\\x13\\x90z\\x0c\\xf4\\xab\\n\\xe5\\x88\\x03cc\\xe6!\\xfa}3L\\xb9\\xcc\\x8c\\x19@@\\x07#?\\xca\\x812\\x02Jw\\x18\\x1d1\\xcdDX\\xb1\\xcf\\xe7H\\xcb\\xb9\\xd8\\x9c\\x80:\\x1fzb\\x0c\\x1c\\xe74\\xc6\\x87\\xa8 \\xe4~5*\\xa9\\xfa\\x13\\xe9Q\\x06\\xcfj\\x94#1\\xc1 \\x1e\\xbc\\x9cR\\x18\\xbb\\x0fp?:O\\x9c\\x10\\x08\\xe3\\xb5J\\xaaA\\xcb\\x0e\\x07~\\xb4\\xd6e\\r\\x80\\x99=\\xcfJ\\x00k\\x9d\\xe79\\xc7\\xd2\\x9e\\xa9\\x95\\xc3p=j[\\x03\\tI\\x1eT\\'\\x07\\x03\\x1c}i\\xce\\xc9\\xd8\\x00\\x07#\\xb6i\\x00DBp\\xa0\\xe3\\xb1cS\\x19N\\xc2\\xbd\\xbb\\xe75\\x00uc\\xb7\\x18\\'\\xa7#\\x147\\xdf\\n\\xb99\\xef\\xda\\x90\\xd2%\\x08\\xa5zc'\n",
      "b'=\\x00\\xe6\\x87\\x1b\\x00\\xe3\\xe5\\x1f\\x85E\\xb9\\xe3\\x97\\x08I\\xe7\\x93\\xda\\x9c\\xd8-\\xfb\\xd69\\xc7\\x00\\x0c\\xd3\\x01\\xb2\\x90F\\x06\\xc6>\\xb8\\xefP\\x04\\x04\\x0c\\x8c\\x12:\\x1fZ\\x9c\\xa2\\x04i\\x17\\xee\\x8e\\xb9\\xed\\xeej\\x8b\\x19\\x1aA\\xb7\\'#\\xa9\\xe9\\x8e\\xe6\\x84\"\\xc6\\x04|\\x0cd\\xf5\\xc9\\xa6\\x95_\\xbc\\xe3\\'\\xf4\\xa8\\x82=\\xc1 6\\x00\\x1cg\\xa9\\xa518\\x01\\x1b\\x82O\\x00\\xf4\\xa0\\x07\\xb3+/\\x1c\\xd37`\\xe4s\\x8e\\x7f\\x1a\\x9aH|\\x98\\xb7\\x12\\x0f\\xa8\\xff\\x00\\n\\x81X\\xee\\xca\\xe3\\x19\\xe9@\\x16\\xd1\\x83\\xa9gQ\\xb8s\\xefM+\\xb8dp\\x0fQ\\xe9M\\'i\\xce\\xee\\x0f\\x18\\xa4\\x04\\x97\\xc6p\\x0f\\xad!1\\n\\x7f\\xb5\\xc57x^:\\xd0\\xe7\\x1b\\xbb\\xd4D\\x92~\\xed2lt\\x90\\xefG\\xf9\\x89*A\\\\\\xe3\\x8c\\xd3\\'S\\x1c\\xc1\\x81%%\\xc2\\xb7\\xa5>y\\x91Aq\\xf3\\xa9\\xe3\\x00\\xf1\\x9a\\x84\\x90\\xf0\\xc9\\x0er\\xea7)\\xc9\\xe4u\\x18\\xa9-\\x16f\\x80|\\xbb~n2\\xc7\\xb2\\x8e\\xd4\\xe8#\\x02\\x19\\x03|\\xa7\\x07\\x1e\\xa7\\xebN\\xd3\\'G\\xb6\\x11\\xb0-)!B\\x0eI\\xe7\\xae*\\xe6\\xa5\\x14\\x10\\xd9\\xef\\x9c\\xfe\\xf5\\xd8`g\\x85\\x19\\xfdMCn\\xf65\\x8aI\\x19\\xf6\\x85\\x12[yXd\\x06\\xc1\\xf6\\xed]}\\xb9\\xda\\xe7\\x04s\\xc1\\x1e\\xd5\\xe7\\xd7`\\x0f.$@\\xac0A\\x03\\xadv\\xf6ol!\\x8ftq/\\xca3\\x95\\x1d{\\xd3\\x16\\xe6\\x98)\\xb8\\xaf\\x98\\x9d8\\xc9\\x03\\x9c\\x7f\\xf5\\xa8\\xd3\\xe6\\x89f$J\\t\\xe3*\\\\a~\\x82\\xa2\\x82{C!P\\x90\\x96\\xf6Q\\x9fn\\xd5,S\\x08\\x9ei\\xa3P\\x8c\\x14\\x81\\x80\\x07\\xbf\\x1f\\x9d+\\xa7\\xa0\\x1a\\x93\\xdf@2<\\xd8\\xce\\x0fb*\\xacw6\\xc9pd3\\xc5\\x82\\x06~a\\x9e\\xf5\\x1c\\xd7\\xc1$d\\x19\\xea@\\x1d\\x01\\x14}\\xa8\\x82\\x1bs\\xae:\\xe3=(\\x13G\\x0b.\\xc5\\xbf\\xb9V!\\xa3\\xf3X\\x87\\x1c\\x802q\\x9f\\xf1\\xa8<\\xb9#\\x9aGC\\x10V#k\\x10~Q\\xde\\xb4eS>\\xbdw\\x18\\x8c\\x95Gvp:c\\xadO$QH6\\x86\\x1caBw\\xcd'\n",
      "b'T\\xa4\\x93\\xd4J72\\x8d\\x9f\\x98\\xeeax\\xdd\\xa3^A\\xecI\\xebL\\xb4\\xb6\\xb9R\\xc0\\xa0D\\x04\\x01 8\\xe7\\xbe\\x05t\\x976\\xd0\\xda\\xcd\\x13,\"g\\x8c`\\xa2\\xb6\\xd0x\\xe0\\x12\\x0f<\\xfaVF\\xa3\\xab\\x19\\xa5H\\x9e1\\t\\x00|\\xb0\\x01\\x8c\\xfa\\xd0\\xa5p\\xb0\\xf5\\x92\\x08\\xe2\\xf2\\xb7;\\xb1<\\xb31\\xc9>\\x83\\xf1\\xaa\\xb7\\xf6\\xf6L\\xa3\\xcd>|\\xe4\\xedT\\x1c\\x9c\\xf6\\x00U\\xfbHm\\x96\\xd9\\x9bSC.\\xe3\\x81\\x9c\\x06\\xc7\\xbe\\x07\\xb1\\xa6[\\xad\\x93\\xcc\\xf7\\x16QF\\x8e\\xb9Q \\x19(\\xbd3\\xd7\\xd0\\xd1\\xce\\x90X\\xce]1\\xec\\xd0\\xb4\\xec\\x82LecNp>\\xb5<7\\x9e]\\xca\\xc6\\xab\\xe69\\x1c\\x81\\xce>\\xbe\\x956\\xab\\xa9-\\xa5\\xacn\\x16\\xde\\xe3\\xe6\\xda\\x19\\xc1\\xde\\x0f\\xa9\\xe7\\xad8\\xc2\\xf3(X\\x1b\\xcb\\x9a\\xe0y\\x8cQ\\x01g\\x1cd\\x91\\x9e\\x07\\xb7SB\\x9e\\x80\\xe2[h\\xd2\\xf1\\n\\xcc\\xa8\\xb1c\\x93\\x8e}k\\x16kk->h\\xe7\\x89\\x1d\\xd3q\\xce\\xe1\\x92\\x0fA\\x8fn\\xfc\\xd7Amk)V\\x8c\\xcc\\xd1\\x80\\xc3p\\t\\xd4{\\xfaS\\x96\\xe6\\xdd.eFh\\x84x\\x1b@\\x19\\xcf\\x1c\\xf3\\xeb\\x9a\\\\\\xc3\\xb1\\x89}o\\x0c\\xf2\\xc0Y\\x1d\\x89 \\x15\\x8f<\\xf3\\x8e\\x7f\\xfa\\xd5\\x7fm\\xb5\\xba,6\\x96\\xe9#\\x8e\\xc1rs\\xeaMZ\\xb6\\x92Y\\x1aK\\xcb\\xa2a\\xb4\\x88\\x10\\xb0\\x82\\ts\\x9e\\xa4\\xfe\\x95\\xcckW\\xadp>R\\xf1F\\xcer\\xa8p1\\xdb#\\xbd4\\xee&\\xac^\\xc3\\xdf_E\\x1d\\xc4\\xd1\\xb8\\r\\xb9\\x91\\x0eq\\x8f_j\\xd5\\x96\\xca6\\x90K6\\x1d\\x14~\\xed{\\x01\\xeb\\\\\\xf4L\\x91I\\x1d\\xb5\\xb3\\x04\\x0c\\xc1I=]\\xb3\\xce}Eo\\xdf\\xccV\\x05\\xb8\\x01\\xde\"\\n\\xa8\\xdd\\x8d\\xc7\\xa7\\x1czS`\\x91\\x17\\x92Y\\xa3\\x08\\xa5\\xd0\\x9e\\xa3\\'\\xb7\\x14<s\\x88\\xdc\\x18\\x8a\\x95\\x19\\x01H<f\\x9dk\\xae\\x98\\xed!\\x06(\\xd1GDPI<\\xf7=\\xab;P\\xd6\\'\\xb9\\x93\\xcc\\x12$d0*#@0{sBlZ\\x11_[\\xfd\\x88\\xa7\\xda\\xe0\\x92Ec\\xb9J\\x11\\x8e\\xbc\\x0c'\n",
      "b'\\xfa\\xd3\\xac\\xdcM4\"\\xd2\\xc2@\\xee\\xc7\\x1b[vG~{u\\xa9\\xa7\\x80\\\\9\\xbb\\x86A\\xb6Nq\\xfcHq\\xca\\x8c\\xfeY\\xf4\\xad8g\\x8e\\xcfOAh\\x9e[\\x06\\x1ea \\x07a\\x9c\\x12F:\\x7f\\xfa\\xe8r\\x0bu3n\\xb4i `\\xf2\\xa7\\x9f\\x93\\xf7#8\\n=s\\xdc\\xf6\\xa85K?%\\xa2\\x8ex\\xde4e\\x0c\\x81X\\x12G\\xa1\\xe7\\x8a\\xd2\\xbb\\xd4\\xa5\\x9a\\xde7\\xb9\\x8e0\\xb2eU\\x15\\xf0[\\xd4\\xed\\xc7A\\xd3\\'\\x8f\\xc6\\xb2V\\xe1\"\\x92g\\x8a3-\\xd99\\xcc\\xe3\\x01\\x17\\x18$\\x8c{\\xf0)\\x89\\x89#,L\\xcd\\x18E\\x90(\\x01d\\xea\\x07\\xae;\\x1f\\xadW\\x82K\\x9b\\x8b\\xd6\\x99\\x90<\\x85O\\x96:\\xefn\\xc4g\\xad[\\xb5\\xd2\\xd2E\\xf3\\xae\\xe7.\\x85\\xc1m\\x8b\\x90\\xc4\\x8c\\x90\\x0ey#<\\xf1Z6\\xd0X[L\\x92\\xc75\\xe5\\xd4\\xa8C\\x15M\\xa0\\x1d\\xa7\\x81\\xbb9\\xeb\\xc7\\x14\\xae\\x16(O\\xe1\\xd7\\xb30\\x9dY\\xe3[\\xc9\\xc1\\xdb\\x10p_>\\xbd\\x0e\\x07\\xf5\\xado\\xb0i\\xf6w\\x90\\xbaJ\\xe1c\\x87\\xe7y8L\\x90B\\xe3\\x9eO\\x06\\xae[\\xdf\\'\\xdb\\xcd\\xe4\\xd6\\x10\\x99\\xf9\\xcc \\x10S\\xd3%\\xbe\\xf1\\xc7\\x1d\\x80\\xedX\\x1e!X5+\\xb8\\xfc\\x9bk\\xabu\\x03\\r4\\x9c\\xaf\\xb0\\x03={u\\xaa\\xbaab\\x86\\xab\\x08K\\xd9\\x00;\\x95\\\\\\x80G#\\x1fZ\\xa6d\\x02]\\xa0\\xe5H\\xc1\\x1e\\x86\\xb4\\xb5\\x08\\x98:\\xbe\\xfd\\xc0\\x81\\x92O$\\xe3\\x93Y\\x92 B\\xee\\xdd1\\x91\\x83\\x93\\x9aH\\x19b)\\xb1\\x1f\\x00\\xee\\xce\\x01\\xe2\\xa7\\x8e\\xe9\\xe4]\\x84\\xe0\\x0e\\xa0\\x008\\xaa$\\xae\\xc0\\xcb\\xd0\\xf6\\xcd?\\xe4\\r\\xd7\\x00\\xf7\\x14\\xc0\\xbb$\\xc4\\xc9\\x8c\\xb9\\xc1\\xc9\\x1czb\\xa1\\x96l\\xfc\\xd9%\\x81\\xf9~\\x98\\xa8\\xf8\\x18\\xeb\\xeei\\x1ff}@\\xa0\\t~\\xd2d\\x1c\\xbc\\x99\\xc60N?*H\\xe7\\xf9\\xbf\\x0cc8\\xaa\\xca\\xc1X\\x8f\\xca\\x91\\x9c\\x07\\xc8={\\xd1`,\\xf0K\\x81\\x80\\x18q\\x93\\xd0\\xf5\\xa8\\x8b\\xff\\x00\\x08\\xc6H\\xe4\\x9aC \\x1c\\x1e\\xb5\\t|7\\x1f\\xca\\x8b\\x05\\xc9\\x9ab\\x14.\\x10\\x91'\n",
      "b'\\xc6q\\xfc\\xa9b\\x98\\xe3i\\xe4\\x9c\\x91\\xc7z\\x81\\xdc\\xed\\x189>\\x94;\\xfc\\x8b\\x8c\\xf0i\\x8a\\xe5\\x8f40\\x04u\\xef\\xc0\\xa4i\\x89R\\x80\\x90};Um\\xe469\\xc7jn\\xec7=OJV\\x18\\xe5w\\xdd\\xb3\\xa0\\xcf\\x1fZ\\xd0\\x81\\xc9!\\x99\\x8eG\\x07\\'\\xbdf;\\x95\\xe4c\\x9e\\xb5b\\xceo.P\\xe7\\x18<s\\xcd6\\x06\\x9d\\xd4\\xa1\\xe1\\xc2\\x7f\\x0faU\\x96c\\xe5\\x0c\\xf1\\xee9\\xe6\\xaa\\\\\\xdd\\xb2\\xb4\\xab\\x8e\\xae[>\\xd5\\x12\\xcf\\x95\\xc1`;\\xe2\\xa6\\xc1s\\xa3\\x85\\x95\\xa0\\r\\xb9\\xf7\\x1cz`\\x8aj\\xaa\\xad\\xc6\\xe0H=H\\x18\\xebY\\x10_\\x18\\xe3\\nX\\x1ct<\\xd4\\x89|\\xa5\\xb2\\xcf\\x8fR\\x05gi_B\\xae\\x99\\xa8eT\\x9bt\\x84\\x95\\xcfc\\xcdY\\x8e\\xe2\\xd8+oY\\x1f#\\x82\\x08\\x18>\\xf5\\xce\\\\\\xdd\\x03\"\\xb2HJ\\xf6\\xc8\\xc5\"\\xdc\\x04\\x8fjJ\\xe4\\x90?<\\xd5\\xd9\\xdbQs\\x175YQ\\xe0l\\xaf\\xc9\\x90z\\xfe\\x15\\x9b\\x03y\\x8b\\x82\\xe3o^\\xb9#\\xe9L\\xb8\\x9c\\x98\\x8a;\\x92;\\xe7\\xb5O\\xa7C\\x01\\x1b\\xd4\\xe5\\xbb\\x9fJkE\\xa9/V;&8B;|\\xbb\\xb7\\x00\\x0f\\x19\\xad\\xbd\\x0e\\xf2\\xdd\\xad\\xcd\\xad\\xce\\xccg#\\xcc\\x19\\r\\xdf\\x18\\xf5\\xac\\xfb\\x9bX\\x1dF\\\\\\xee\\x1c\\x8f\\xadf\\xdc\\xa3\\xc3\\xce\\t^\\xc6\\x9a`t\\x17\\xad\\xfd\\x9e\\xef$\\t\\xe6\\xc6W\\xe5|d\\xc4;\\xf3U\\xad\\x9d%M\\xcdo,\\xc8\\xc79\\x0cpO\\xe7X\\x12O6\\xc2\\xa0\\xbf\\xcc:s\\xc8\\xab\\xfaC\\xdd}\\x9bkD\\xe6\\x11\\x92\\x1b\\xa0\\x14t\\x19\\xa5u=\\xcd\\xcb\\x05\\x89#\\xb6U<\\x87bI\\xf7\\x1c\\x9a\\x86\\xe4\\x86P\\x92ym\\xee\\xbc\\x11QM&\\xd5\\xcfJ\\x87y\\x9d\\xb6F@n\\xde\\xe2\\x90\\x0c\\x920\\x131\\x93\\x92@ \\xe0~5VC.\\x0e\\xeersZ\\x8dk2F\\xbb\\x90\\x17=@\\xe4\\xe2\\xa9\\xc8\\x8f\\xe6\\x0ep?\\xba\\xfc\\x13E\\xc2\\xc5&g\\'\\x8e\\xf4\\xa3\\x0e\\xc0\\x0f\\xbcz\\x8cU\\xa9 \\r\\xf3\\x0c\\x83\\xd0\\x01\\xc7>\\xf5-\\xb5\\xb3[\\xe1\\xc8.H\\xc6GAL\\n\\xe9k'\n",
      "b') \\x88\\xce=MX\\x86\\xc6b\\xdfw\\x9e\\xbdFq\\xefO\\x96\\xeaD\\xc0H\\xa5g=\\x06\\xd2\\x07\\xe7\\x8a\\x92\\xca\\xe6_,\\xa5\\xc8x_9#o,3J\\xec\\x0c\\xcb\\x89\\x19\\x1fiS\\x9c\\xe0\\x8a\\x11\\xa4\\x95\\x80\\x8d>c\\xc0\\xcdn\\xcb\\x08\\xb9\\x85\\xd9T1\\xec\\xa3\\x82k5m\\xa2\\x85\\x19\\xe7\\x94\\x86\\xc7\\x08\\x84\\x02>\\xa6\\x84\\xc2\\xc3c\\xb1\\xb8Q\\x96\\x916\\xf5#\\xd2\\x9b{$h\\x8b\\x1a\\x9d\\xcc:\\x9a\\xa8\\xf3\\x19\\xa6\\xda\\x87bt\\xc9\\'\\x1fSS\\xc5d\\x1c\\x93%\\xc4e\\x07]\\xa4\\x93\\xf9b\\x98\\t\\x0f\\x19\\xdc\\xa7\\x90H>\\x87\\xb5,{\\x9b\\x85\\xe3\\xd7\\x9a\\xb1,1a\\x10\\x17\\xdd\\xb8\\x003\\xd4t\\xe9S\\xc9\\xa7\\x15%\\xc3`\\xe3\\x85\\xf7\\xa2\\xe0\\x8a)!\\x8b\\xe5rU\\xba\\xfdE\"\\xbc\\x93\\x0e\\x14\\x82OS\\xe9V\\xec\\xde\\xd4)\\x13\\xc6L\\xf9\\xc0\\'\\xa0\\x1e\\xd5\\x14\\x97\\x11\\x0b\\x82\\xaa\\xdf\\'m\\xa3\\x18\\xa0\\t<\\xb0\\xa8U\\x899\\x1bO\\xa7\\\\\\x9c\\xd5q\\x0e\\xc2O\\'#h#\\x9a\\xb4eR\\x8d\\xfd\\xf5\\x19\\xc6y\\xa8-\\xae\\x1c\\x90\\xec\\x85\\x83d\\x01\\xed\\xf4\\xa4\\x00\\x96\\x862\\x1d\\xd8\\xe7\\xf2\\xcdH\\x10\\xdc\\x17\\xf2\\xc8\\xc2d\\x8c\\xf0\\x7f\\n\\xaf#\\x96\\x05K\\xe0v\\xcf^\\xbc\\xd4\\x90X\\xdc\\xb2\\x96RPw\\x04\\x10q\\xeb\\xf4\\xa0\\x18\\xdb\\x82\\x92@\\x11\\xd8\\xe5y\\xc8\\xaa\\x96\\xe5U\\x88\\xfb\\xc4\\xf4\\x06\\xac\\xb4RH\\x08\\x1b\\x14\\x0e2MMic\\x12.\\xf9X9n\\x9d\\xb1\\xcfj/`\\xb1%\\xb4j\\xeb\\xbc\\x8f\\xa1=*\\xbd\\xcc!X\\xb0n})\\xd3H\\xf0\\xc9\\xb5>\\xe18\\x19\\xe4SC\\x02\\xa5\\x88\\xde\\xc7\\xa63\\x81HL\\x89\\x88\\xd9\\x93\\xd6\\xa1\\xdc\\xdd\\x85,\\x8f\\x93\\x8csM\\xff\\x00x\\x90}\\xaa\\x82\\xc6\\x8cR\\xab#!<\\x01\\xb8S\\xa3\\x927\\x81\\\\7\\xefb\\'\\x93\\xdcg\\xbdUX\\xc7\\x92\\xc7p\\xdd\\xd0\\x8a@\\xc1#\\x8d\\x9b\\x19S\\x9cz\\x8a\\x91\\x9d&\\x91u\\x12N\\xac\\x0ca\\x8e\\toQ\\xde\\xa3\\xf1,\\xcd\"B\\x07\\xca\\x8c\\xa1\\x81<\\x922q\\xc7j\\xc6Y\\xccf7\\x88\\xfd\\xd3\\x9c\\x0f\\xd2\\x9b\\x7f'\n",
      "b'3\\xc9n\\x1c\\x9c\\x92H>\\xdc\\xe7\\x8f\\xce\\x92Z\\x94\\xd9r5\\xf3Q\\xa7w$\\xa8\\x04\\x11\\x8e\\xd5p\\\\(\\xf9\\xe4\\x99\\xd8\\x91\\xc8V\\x03\\x1f\\xa5fZH\\xf3\\xd9$(\\x81\\x99\\\\\\xe4(\\xe4\\x83U0\\xd1\\xbb)8`H\\xc1\\xa7k\\x8a\\xe7I\\xa7jP\\xc2\\xf2\\x16\\x92l\\x9c`\\xa3\\x01\\xc7\\xe5S[\\xea\\xfe{8g\\x9b\\xef|\\xc1\\xa5$0\\xc5s3\\xc0`\\xc1\\x0f\\xb87RG~\\xe2\\x96\\xdd\\x9de\\xdc\\x8c\\x03\\x11\\x8cb\\x8e]\\x05s\\xd0\\x1ek\\x11v\\xacD\\x92G\\x8d\\xc1\\x85\\xc3\\x92\\xa7o\\x18\\xe7\\xa6x\\xf5\\xa8-\\xee\\xa1\\xc4K<d\\xb9a\\x93\\xe69\\x18\\xef\\xc6k\\x963\\xcd\\x12\\xa9ypG \\x05\\xff\\x00\\xeb\\xd3\\x8d\\xd3\\xf9hVrA<\\xf08\\xa5f;\\xa3F\\xf1\\xa7\\x8ak\\x89-\\xd4*I\\xf2\\xe3q,\\xdc\\x83\\x9f\\xd3\\x1c\\xd4\\xf62XB\\x8bs\\xa8\\xa4\\xcfx\\x01\\xd9\\x1b\\x8c\\x85=\\x01#\\x1e\\xbd\\xea(/\\xa2K5.wK\\xcf$u\\xe4\\xd6^\\xa1|>\\xd3\\x1b\\xca\\xdb\\x868\\x03\\x81\\xd7\\x8f\\xad+\\\\w\\xb1\\xa7\\xaaj\\xa6\\xee\\xea8-e\\xdbp\\xc7\\x0c\\xce3\\x8e=j\\xde\\x99{i\\xa4Z\\xcdoy y\\xa5;\\xce\\xf4\\x04c\\x18\\x1fC\\xd6\\xb9\\x89\\'\\xb62\\x89\\x05\\xaf\\x07\\x8d\\xe2C\\x90q\\xdcU\\xbb-=..\\xc5\\xc5\\xe4\\x80\\xa1 \\xac\\\\\\x82@\\xf5\\xff\\x00\\xebSq]B\\xe3ou?\\xb6\\xce\\xab\\n\\x14\\x89r\\x00\\xeb\\xcf\\xa98\\xa9n\\x05\\xf5\\xad\\xb2\\xc7\\x04X\\x85\\xbfxA\\xc6I\\xf55vk\\xe8!\\x94\\x0f.\\xde\\xde\\xd6\\x0c\\x98\\xe2\\x8f\\x92\\xef\\xd7\\'\\x8f\\xd4\\xd6\\\\\\x9a\\xb4\\xf7N\\xed\\x87 \\x90I\\'\\x01G\\xa0\\xe2\\x84\\x846%\\x92\\xed\\xd0\\x0bwi\\x11\\x83m \\x90y\\xae\\xd3E\\x9a\\xdbK\\x9dn.n\\xad\\xe4\\xbaa\\xfb\\xc2\\xc4\\x00\\x87\\x1c(\\x1d\\x80\\xe9\\xef\\\\\\xbc2\\x89\"F\\\\\\xbb\\x01\\xc8\\x03\\x00\\x9a|\\x1a\\x8a^\\xdc0\\x9e\\xca\\xd8\\xacc\\x04\\xec\\xe7\\xd0\\x0c\\xe7\\x9a\\x1a\\x19\\xde\\xdfx\\x92\\xda\\xfe\"\\x8b\\x11ve\\xe3np\\x0f\\xbf\\xb7\\xbdr\\x1f\\xd9\\xe9\\x042;\\xbe\\x14\\x92'\n",
      "b'Ur?*I\\xae\\xa3\\x16\\xe5\\xce#\\x8dO;y-\\xdf\\x18\\xac\\xcf\\xb7Oz\\xc5\\x8blE\\xe4\\x16#\\n>\\xbf\\xe1E\\x9b\\x0b\\x93\\xdf\\xea\\x13\\xdd\"\\x80\\x9e]\\xa4\\x7f*\\xa2\\x1e\\x06=OsU\\x8d\\x94\\xd7\\x10\\xa4\\xc5\\x91P0\\xca\\x1c\\xe5\\x86}*\\t\\xe6\\x96\\xed\\xd9aD\\xd82@A\\x81\\x8fR{\\x9a\\xd8\\xd3\\xb4\\xeb\\xc9m\\xa3\\x11\\xcbf\\x8b\\x1eO\\x974\\x80g\\xdd\\xb9\\xcf\\xe1\\x8a6\\x05\\xa9R\\x18`K\\xe8$\\xfb1I\\x10\\xeed\\xc9\\x00\\x0e\\x99<\\xfe5gS\\x9a\\xea\\xe6\\xe5\\'\\xbbd\\x82\\xd6%\\t\\x12\\x02r\\xe3\\x18\\xda\\x00\\xe9P\"\\xbd\\xa4\\xce\\xcca\\x9eP\\x06\\xc4\\x8cmI\\x0fl\\x8c\\x0e?\\x9dM\\r\\x84\\xfa\\x8d\\xd4s\\\\1\\xf3\\x01\\xc1v *\\x9fD^\\xe0z\\x93E\\xec\\x02\\x0b\\xc8\\xa0\\xf9>\\xc3\\x1a\\xc7\\x90\\xccK\\xe5\\x94c\\x1c\\x7f\\x85Gi4\\xb0!\\xb9x-\\xa4\\x88\\x13\\x94+\\xf3/\\x1e\\xb8\\xfeu\\x0e\\xb5\\x10\\xd2\\xef\\xbeW\\x12\\x10C)$\\x12\\xde\\xe7\\xd3\\xe9F\\xe9\\xae\\xe7\\x92{ky#\\x8c\\xa1i\\x08`A\\x1e\\x9e\\xdf\\x8d\\x00X\\xbd\\xbeg\\x9e\\x16\\xb4C\\xf6\\x85;\\x8b>\\tS\\xe8\\x18\\x0e\\x7f\\xa5Q\\x95/e\\xbc\\x06k\\xb4;\\xb0_,s\\x8e\\xd9\\xf7\\xab\\xda}\\xd3\\xd9\\xacs2\\x05f\\x00\\xb2\\xf2Dk\\xfc \\x8e\\xd9\\xebU\\xf5[\\xb35\\xd2\\xcdk\\x02\\tGW\\xc6O\\xe2\\x07\\x14\\xfc\\x80\\x99n?\\xb3esm\\x19y\\xa4\\xc0\\x12\\x15\\xc9#\\xd8\\x92{\\xd5\\xbb;]vi\\x8d\\xe7\\xd9\\xa4wR\\x00\\x0f\\x07\\x18=\\xfe\\xbf\\x87\\xe5Tl\\xb5\\xa9\\xec\\xa0-j\\xa8g\\xc7\\xcc\\xeb\\x90O\\xb1\\xe7\\xa5f]\\xebZ\\x95\\xf1&{\\xc9\\x9c\\x01\\x9c\\x06 \\x0f\\xc2\\x8b\\\\Gg\\xaa]jk\\x1cQ\\xdc\\xdaB\\xa6BA\\xe8I\\x1fL\\xf0}\\xab&\\xf9\\xa6h\\xd1b\\x91#\\x9e2\\x01\\x8c\\x906\\x8fRk\\x17F\\x94\\xc3pn\\xa6\\x8aG\\xca\\x90\\x8f\\xc9\\xe78\\xad\\x1b\\x88\\xed\\x9b2\\\\9-#e\\x82\\xf1\\xc6:P\\x05\\xaf\\xb7\\xac;\\x8c\\x93\\x90\\x80d\\x81\\xc9c\\xe8\\rR\\xb9\\xbf\\xfbS*\\xa9u\\x04'\n",
      "b'\\x80\\x06@\\x00~|VU\\xdcg`H\\x89m\\xdd;T\\xd6\\x16\\xb6\\xd0C,\\xd7\\x8cd\\x9f\\x18\\x8a H\\x01\\x8fBO\\x7f\\xa0\\xa7\\xa0\\xb54/\\xd67$\\xee\\xd8G@[!}\\xab.\\xe5LJF\\xe0\\xe0w\\xe7\\xa5,\\xe3\\x07\\x997\\x03\\xc98\\xe8\\x7f:\\xad%\\xce\\xf4\\xda\\xd8\\xce1\\xde\\x9a\\x02{s\\xfb\\xbf\\x98\\'\\xb59\\x98\\x03\\x83\\x93\\x8a\\xa7\\x14\\xe0\\x821\\xd3\\xbd#JOJ`Y3\\x02q\\xc8\\xc7bi\\x0c\\xab\\x9cg\\xebUK\\x12s\\xde\\x8c\\x93\\xdf\\x9aB,\\xefO^i\\xbej\\xe3\\x1d\\xea\\xb9\\xce)x\\xeey\\xa6\\x04\\x86\\x7f\\x9b\\x8a_7\\xe6\\xcfj\\x88m\\xf5\\xe4\\xd2\\x9cP\\x04\\xa6`j \\xc4\\xf0;R\\x87M\\xa7\"\\x902\\x81\\x9c\\xfd)\\x00\\xbea\\xc8\\xc8\\xe9J[w=)\\xa5\\xd79\\xeciVD\\xc6q\\x91@\\xc7\\xf1\\xd4\\x8c\\x8e\\xf5\\'\\xee\\xfeC\\xd3w8\\xf7\\xa8\\xd6T#\\x18\\xfdj\\xb7\\x9e2\\xdb\\x94q\\xd2\\x80/j(\\x02\\xa4\\x80\\xfc\\xac0~\\xb5AdN\\x06?\\x1a\\xb1%\\xd0\\x92\\xdd\\x95@\\x00\\n\\xa3\\x9a\\x00\\xb9\\xe7 \\x1cu\\xfaR\\x89\\xd4\\x8cm\\xaa[\\xb3NF\\n\\xc0\\x9f\\xd2\\x80.\\xee2  |\\xa2\\x9a\\xf2\\x10\\xb9P1\\xdf\\x15\\x1cS|\\x8f\\x9e\\xb9\\x1d\\xb8\\xc7rM1\\x98\\x96$\\xe3\\x03\\xf5\\x14\\x014h\\xd3\\xb0F!\\x15\\xbb\\x9fJ\\xbc\\x9af\\xc8K\\xc2\\xd2\\x96\\x07\\x86\\np}*\\x9c7\\x016\\x900\\xc3\\x9c\\xe3\\x9a\\xb6\\x9a\\xac\\x91\\xbbK\\xb8\\x97\\xcf\\xca:\\x80=\\xe9j\\x1a\\th\\xa7\\x04\\xbd\\xc4\\x9b\\x94\\xe0\\xa8\\xc0\\xc5iD\\xd6\\xeb*=\\xc2o^0\\x18\\xe4\\x0fz\\xc4\\xb9\\xbfw\\xb9\\x92e@\\xbe`\\x1b\\x80\\x1cg\\xd4U\\x98\\xe7\\xde\\x02\\x84wv\\xc6=\\xa94\\x08\\xe8\\x8a\\xda\\\\\\xb8h\\x10;\\x01\\xc0\\x0b\\x8c{U-Bh\\x15\\x08\\xb9o-\\xbf\\xba\\x98\\xc8\\xed\\x8e\\xb5\\x9a\\xd7RB\\x08PP\\xed\\xe7\\x8c~\\x95\\x9d\"\\xb4\\xed\\xbab\\xe5\\x8f\\xb5%\\x11\\xdc\\xd3\\x16\\xb0$K4\\xc6I\\x95\\x86@\\xce\\x07\\xe7Vl\\xa1\\x8663\\xb2\\x04LmS\\xc9\\xc1\\xac\\x9ba:g`'\n",
      "b'\\x95\\x80\\xea\\x06H\\x03\\xe9R\\xce&\\x9b;!\\x93\\x08\\t%\\x14\\xe7\\x1d\\xc9\\xaah\\r\\x195\\x18\\x96F\\xf2\\xc4\\x8f\\x8e\\x95^\\xe6\\xf29\\x97\\x81\\xb9\\x82\\xf7\\xea\\rCmkr\\xca\\x12+iK\\x9f\\xba\\x02\\x92\\xcc}\\x869\\xa7Io\\x7ff\\n\\xdc[H\\x86A\\x9d\\xb2\\xc4A\\xfa\\x8c\\x8f\\xe5E\\x84\\xc8`\\t\\x02b\\xe9\\x89\\x8f\\xa8\\x04`\\x93R\\xbe\\xaeB\\x04\\xb5O)Gt\\xc9?\\xfdj\\xb9\\xa7\\xf8o[\\xd4Su\\xae\\x99u:\\x82\\x14\\x91\\x19\\xc6q\\x9cg\\x1e\\x95\\xab/\\x80|Soo\\xbe]-\\xd2#\\x8c\\x06\\x920O\\xa6\\x06\\xeei\\x81\\xcf\\xd9_\\x8f.Y%.\\xf3\\x93\\xb4\\x16\\'\\xe5\\x1d\\x8d,\\xd7H\\xcb\\x1b;bS\\xc8$\\xe4c\\xa5^\\xbb\\xf0\\xb6\\xbb\\x1d\\xc4I5\\x93\\xf9\\xf2(!ARH\\xce\\x07\\x00\\xd5\\xe5\\xf8\\x7f\\xad\\x92\\xcb,\\x16\\xa1\\xf6o\\xd8\\xd7q\\x07\\x03\\x83\\xca\\xee\\xf7\\xa5`\\xb9\\x8f\\x16\\xa4!\\\\\\' \\x8c\\x12=*\\x93D\\xb7;\\xd9\\x18\\xa8\\xce~bIc\\xeb\\x8cWC\\'\\x815\\xd8\\xe2s\\xf6\\x0c\\xa8]\\xc4\\xac\\x8ap8\\xe4`\\x9e\\xd5n/\\x87>%\\xfb \\x9b\\xec\\x81 e\\xc8&x\\xc6~\\x9f7\"\\x808\\xff\\x00\\xb0\\xb9\\x93\\xcaEs.\\t \\xf01\\xebL[Y\\x92L1\\x0b\\xb7\\xa9\\xceq]Z\\xf87\\xc4d\\xab\\xc4\\x938\\x11\\x97c\\xb1\\x86\\xc1\\xc6z\\x8eO\\xd39\\xedD\\x1e\\x05\\xd6\\xa6\\xc3\\x8b;\\x96\\x8bp\\r)\\x89\\xf023\\x9f\\xbb\\xd3\\x8cP\\x06G\\x99jBaJ:\\x8c\\xac\\xa0\\xfc\\xd9\\xfaz{S\\x04\\xd3\\xb4\\xccf\\xb8\\r\\x0f\\x1f\\xbc\\xc62=\\xabz/\\x03\\xeb\\r\\x13\\x7f\\xc4\\xb2d$\\x94\\x0e\\xe4\\x8f,\\xe4\\x1eG\\xff\\x00Z\\xb5\\xad~\\x15\\xebr\\xdb\\xb8t\\x91d\\x04\\x00\\xa7`\\x18#\\x92K0\\xc7\\xe5\\xcd 8\\xbbf\\xb5\\x89\\xf8}\\xec\\xecp[\\xb0\\xfa\\xd2\\xa2\\xda\\xb4\\xdb\\xad\\x93s\\x9e\\xd8\\xc8\\xfc+\\xbf?\\x07u\\x16\\x84\\xc9\\x0b\\x89\\x82\\x80\\x00\\xf9Cg\\xb88$~\\xb5\\x17\\xfc*\\xcf\\x10\\\\\\xec\\x8cG\\x1a\\xb2\\xb6\\x0b4\\xea\\xa3o\\xa8\\\\\\xe4~4\\xda\\x19\\xc2'\n",
      "b'\\\\\\xdcF\\xf0\\x85\\xf2\\xd2\\x15\\r\\x92A\\x04\\xb1\\xfc\\xb8\\xabZt\\x8e\\xf0\\x12\\xaf\\x95\\x19\\x00\\x923]\\xdc\\x7f\\x055w\\xb9\\x91\\x05\\xdd\\x99\\x85\\x06\\xe5\\x9bs\\x10\\xc7\\xd3\\x18\\xab7\\x1f\\x08u\\x0b{\\x00a\\x9a9g-\\x92\\x15HS\\xeewc\\xd3\\xb0\\'\\xda\\x95\\x85s\\xcc\\xb4\\xeb\\xa8\\xc6\\xa3\\xe7L\\xa8\\xf1\\xab\\x12A8\\xc9\\xc6\\x078\\xa9\\xf5;\\xf0\\xf2L\\xb17\\xcd!\\xc0%\\xba\\x0ct\\xae\\xfe_\\x84:\\x9c\\x96\\xf6\\xe5&Gw?:\\xc7\\x07\\xcb\\x1f\\x1dKg\\x9e\\xdd\\xa9e\\xf89~\\xd7;#\\x95\\x02\\xaa\\x8c\\xcb\"\\xa8\\x19\\xf4\\x01Y\\x8f\\xe3\\x8av\\x0b\\x9eR\\xc7\\x08Q\\x9f-\\xdc\\x8e\\x99\\xf6\\xa7\\xa4\\xa4\\x90\\x80\\x80\\x14c\\x9e\\x01\\xafU\\x93\\xe0\\xe6\\xa0\\xa5\\x98\\\\\\x86\\x87!w\\x04%\\x8f\\xfc\\x07\\xd3=\\xf3S/\\xc1\\xc2#\\x8f}\\xfcq\\xce\\xd8\\x1e\\\\\\x8a2O||\\xde\\xe3\\xad\\x01ty\\x13\\xba\\x92NIS\\xd7\\x14\\xf5\\xd5\\x0e\\xd5\\x89\"\\t\\x18\\xe3\\x03\\xa9\\xfck\\xd8d\\xf84B\\xef\\x17\\x82\\xde1\\x90D\\x98r\\x0fC\\xd3\\x1f\\x95Ok\\xf0n\\xd2<\\xfd\\xb7Q\\x92Np\\x12\\xde\\x15\\r\\x9e\\xbc\\x964X/c\\xc4$\\x99^BU\\x00c\\xc6H\\xe9P\\xb7\\xccs\\xd6\\xbd\\xd0|.\\xd3\\xdeuD\\xb4\\xbee\\x04\\xee.\\xca\\x85\\xc6\\t\\xc2\\x8eI?\\x81\\xab\\xb0\\xfc \\xd3J~\\xf2\\xd2\\xfd\\x9b\\'\\xee\\xc8\\x0e\\x07a\\xf7:\\xe2\\x98\\x8f\\r^\\xad\\xd3\\x07\\xad,\\xd80\\xa9\\xc2dt\\xc5D\\xb2\\xa8\\xeaG=\\xe9Rd\\x01\\x86\\x10\\xf7\\x06\\x81\\x93$\\xbf8\\xcf\\x00\\x8ej\\xab\\xa81}\\xef\\xe2\\xc1\\x14\\xd30\\xc1\\x18\\x1f\\x95\\x02@\\x01\\xda9\\xea*F]\\xb2sl\\xfb\\xa1\\xdf\\xce2B\\x93\\x8fzI\\xd8\\xb4\\xe1\\xd2#\\xce>\\xa7\\x1d\\xeah\\xaf\\x94\\xc2\\x8a\\xdc0\\x1f6;\\xd43\\xcc\\x8a\\xd9S\\x9c\\xf4\\xa5{\\x05\\x85\\xbc2L\\xe0\\x84 zt\\xa6\\x10\\xe0gi\\xcfL\\x92)\\xf2\\\\!@\\x01\\x19\\x1c\\x91\\xd6\\xab\\x9b\\xc4\\xe4g<\\xfet\\\\\\t\\x0c\\xae\\xcb\\x86\\xe7\\x00\\x01\\xc8\\xa5;\\x99\\x88Q\\xc1\\xc7qL\\x8f\\x13\\x10S\\x0c\\xde\\x99\\x19\\xa9\\x13'\n",
      "b'\\x11\\xcc\\x04\\x80\\x82\\xbc\\xed>\\x94\\xefa\\x1a\\x16\\x8a|\\xf8\\xe2\\x90\\r\\xc5\\x0b\\xe3\\xa8\"\\xadZi0]k\\x11\\x99\\x98yi\\xf3yM\\x8c\\xb9\\xec\\x00\\xf4\\xab\\x9e\\x1a\\xf0\\xee\\xab\\xe2]FF\\xd2b\\xf9\\xad\\x90y\\x85\\xc8\\n\\xaaO\\x19?\\x85u\\x96\\xff\\x00\\x0c<F\\xf7\\x7fh/o\\x1a\\x14*^9\\xd5\\x8a\\x8fP3\\xf8T\\xdd\\xbd\\x8a8mR\\xca\\xcc_\\xbb\\xbd\\xccPF\\x83\\x1bcR\\xc4\\x9c\\xf7\\x1d\\x07\\xe7U\\xa2\\xb9\\x86\\x11)\\x85\\xbc\\xf9%\\x18\\x13I\\x90cL\\xf4\\x03\\xf0\\xae\\xe6\\xf7\\xe0\\xd6\\xacd\\r\\x05\\xdcS\\x02\\x03\\x11$\\xca\\x9c\\x9fNy\\xebN\\x1f\\x06\\xf51\\xbdn/l\\xe1*\\x07\\xce&R\\x83\\xd41\\x07\\x83\\xdb\\x80i\\xd8G\\x99^\\x11,\\xe5\\xc3\\x97\\x07\\xa6EM\\x12\\xbc\\x98\\x8e5w|p\\x8a\\t\\x00{\\xf1^\\x97m\\xf0\\x98\\xca6\\xc3\\xaa\\xd9;+m8\\xb9\\x04\\x9fp\\x02\\xf1\\xf45\\xadg\\xf0\\x8aH\\xa0\\x7f\\xf8\\x9a\\xdb\\xa4\\x99\\xc4\\x89\\x1d\\xc3/\\x1e\\x8cB\\xff\\x00*w\\xd0\\x0f/\\xb2\\xd1u[\\x8f\\x90\\x8b\\x88\\xe1\\x1d]\\xa3(\\xa0t\\xc0\\xc8\\xc9>\\xd5!\\xb1{g\\x90\\x9b\\x90\\xcc\\x98P\\x8d\\xc7\\x1f__j\\xf4h\\xfe\\x1dA$\\xd1%\\xe6\\xb5\\x12\\xaf\"3\\x15\\xc8\\x94\\xb1\\xea\\x01,F>\\x80T\\x97?\\x0ct\\x9b\\x86o#\\\\B\\xc7\\x99C\\xbeJ\\x81\\xd7 \\x13\\x9aVc\\xd0\\xf2k\\xad\\x97\\x1b\\x14J\\x8a\\xa1\\xb0\\xc4\\x9e\\x07\\xd6\\xa1hc\\xfbG\\x93\\xe7\\xa0\\x8f\\x1f\\xeb\\x0f\\x03\\x1d\\xcdz\\xa4\\xbf\\rt\\xe4\\x84\\x06\\xd6l\\xdd\\x03f1\\n\\xb9,22\\x08\\xc7\\x1e\\x9cf\\xafG\\xe0_\\x0b[i\\xe7\\xed\\x1flYJ\\x96&G\\xd8\\xb9\\x1dH\\x1bw\\x11\\xcfA\\x9fzd\\xdd\\x1eMdm\\xa4\\xf3\\xe2\\x92}\\x91E\\xca\\xb7$rp6\\x8c\\xf5\\xefZ\\x9ab\\x8b8n/D\\xa8\\xf0\\xa4d\\t[\\x01\\x8b\\x10\\x00\\n3\\xeb]L\\xde\\x11\\xd1Z@\\xb0\\xcbt\\xc80\\xd20\\xb2,H\\xc9\\xc0C\\x91\\x91\\xf5\\\\\\xd2\\x0f\\x0bh\\xa7Rx\\xad\\xbe\\xdb-\\xbcq\\x87h$\\xb5\"B;\\x127\\x8f^\\xd444\\xce'\n",
      "b'\"\\x19b\\xfb2]y\\xe5\\'PWd\\x8c\\x0e\\xfe9 Q\\x0e\\xb4\\x93\\x11\\x0c\\xa9\\xc9<\\xb2\\x8c\\x11\\xf5\\x15\\xe86^\\x1d\\xf0\\xf5\\xcb\\x91\\x0e\\x8dy\"\\xa9\\x04\\xcb$\\xe2\\x00\\x06z\\xe0\\x93\\xc9\\xe9\\x8a|\\xfaN\\x85\\x1c\\xaa\\xab\\xe1\\xfb\\x85\\x94\\x12\\x8d\\x8b\\xa0J\\x9c\\x1f\\xbc\\xd9\\xc7C\\xed\\xedE\\x90\\\\\\xf3;\\xc7In\\xa1el\\xba\\x92\\xbbq\\x9e;U\\xab\\x8b\\xd8\\xed\\xe1\\x8d@(\\xa5\\x83\\x10\\xc0z\\xf0@=O\\xbdz@\\xb1D\\xb3\\xb6[$\\xf0\\xf4\\x13\\x04\\xdc\\x16K\\xd2\\x0b\\xe4\\x90\\t \\x00I\\xf6?\\x8dD\\xf6\\x1a\\x83[3\\xb6\\x91\\xe1\\xef27\\x07\\xe4\\x81\\xdb\\xcd\\x18\\xce3\\x93\\x91\\xce(\\x171\\xc5\\xda}\\x82\\xf69\\xde\\xd2\\xd6\\xe9\\xd5~i^I\\x87\\xcc\\xc7\\xb9\\xe6\\xb1\\xaen\\xbc\\xb6\\x10Y\\xc6\\xe40\\xc9-\\x82Ny\\xe0v\\x15\\xea\\xd763\\x8b\\x14\\xdfi\\xe1kv?2\\x88\\xed\\x98\\xb0\\xe8@\\x07p\\xc5P\\xf0\\xfd\\x8d\\xee\\xa6\\xef\\x14q\\xd8\\xa4\\xf1\\xa9fKm1fe\\xec\\x01m\\xc7\\xf3=\\xbb\\xd0\\x95\\x87s\\xcfl\\x8cP\\xda\\x88d\\x8d\\xe6\\x9aW\\x05\\x82\\x82\\x15y\\xc0\\x04\\xf7\\xeb\\xda\\xa7\\x9a\\x08\\xed\\xa6\\xb8\\x82\\x1bH\\xddA\\xdd\\xe7\\xae\\xee\\x98\\x19\\x03=\\x07>\\xf5\\xea\\xaf\\xe1\\xcdnX\\xc0\\xd3\\xac&\\xb5f\\x001h\"\\\\\\x90x\\xdc\\x81y\\x1c\\x93\\xd7\\xa5:\\xeb\\xe1\\xcf\\x89\\x19\\x99V\\xfeB\\xa4\\x03/\\x95\\x10\\x8c\\xb0\\xc7a\\x8f\\x98\\xfb\\xe4b\\x8b\\x05\\xcf\"\\x91\\x84p\\xa8\\x9e\\xd2m\\xb1\\xb8\\x93hR<\\xc3\\x8e\\x018\\xe0\\x7f\\x91Y\\xf7\\x8dv\\xf2y\\x8do\"#\\x13\\x85\\xda@\\xcezd\\xf5\\xaf\\\\\\x93\\xc0z\\xfe\\xa0|\\x89\\'\\xd4F\\xc3\\xb1\\x92K\\xa6#\\xa1\\xdb\\x9598\\x19\\xf7\\xe3\\xa5O\\xff\\x00\\n\\x9a\\xe6S\\x1a^\\xbe\\xa5;\\xef\\ndRHA\\x8e\\xd9\\x1fw=\\xc9\\xfc)\\xa1]\\x9e+\\xb2\\xeek\\x95\\x8dcupv\\x81\\x82\\n\\x9e\\xfcV\\x9d\\xc1D\\xf2\\xa2E\\x13\\x9c\\x9d\\xcd!\\xe0\\xb6{\\x8e\\xdfJ\\xf6\\x98>\\x17X[\\xdbH\\x8f\\xa5\\\\\\xdcJ\\xa0\\xb6d\\x9bk9\\xc1\\xe1N@\\xeb\\xc7&\\xb3W\\xe1\\xa7'\n",
      "b'\\xda&\\x95\\x9bA\\xbc\\xb6\\x8f F\\xa6\\xe3ql\\xf7$\\x02\\x00\\xfchavx\\xad\\xd3Jd`\\xdb\\t\\xcf8\\xe9U\\x8a\\xc8Nq^\\xfd?\\xc2\\x99&\\x9a\\xd8=\\xacv\\xe9\\x1a\\x0c\\x98\\x00\\xc99\\x1f{\\xd7\\xeb\\x8a#\\xf8F\\xb6\\xf2fIl\\xbc\\xa6\\x01\\x81vb\\xc8{\\x8d\\xa3\\xa8\\xf6\\xc8\\xc7\\xad\\x1b\\x0bS\\xc0\\xa3\\x8d\\xc3g\\x1cS\\xc4o\\xe8k\\xe8\\xc7\\xf8K\\xa6y\\xfb\\x96\\x07U9\\nC\\x10\\xb9\\xc1\\xc9 \\xb1\\xe7<\\x8f\\xa5M\\xff\\x00\\n\\xa6\\xc5\\xddV\\x1b;p\\x861\\xb8\\xcb3\\xee\\xce9+\\x8e\\x87<\\xe4\\x83E\\xc6|\\xdc!\\x94\\xe3\\ny\\xe0{\\x9aU\\xb5\\x9d\\x9c\"\\xa9.N\\x00\\x1ds\\xe9\\x8a\\xfae>\\x19\\xdaZL\\x92D\\xb1D\\xea\\x06J\\x96$\\xe0\\x8eF\\x10`\\xf1\\xd4`\\xfb\\xd5\\xd9~\\x1eZM\\x1a\\x06\\x9b\\xcd+.\\xf9\\x0c\\xd1\\xf9\\xc5\\xd7\\x1f(# \\xf1\\xee~\\xb4\\\\\\x0f\\x99\\x93A\\xd5^\\x7f%l\\xe63s\\x94\\xdas\\xc7^*\\xa4\\x96\\x17(\\xee\\x1e7\\x0c\\x87k\\x02\\x0f\\xcas\\xd0\\xfas_W\\xc7\\xe0\\xfcnT\\x9a\\x16\\xb3\\xc6V%\\xb61\\x95oUm\\xfe\\x9e\\xa0\\xd5\\x81\\xe1X\\x1a\\xdb\\xec\\xe8\\xd7\\x03\\x18\\x04D\\x90\\x00\\xdc\\x0e\\td9\\xe3\\xd6\\x9d\\xc0\\xf9J\\x1d\\x07S\\x98Dc\\xb4\\x99\\xc4\\xbf\\xea\\xca);'\n",
      "b\"\\xbe\\x95\\xa3o\\xe0\\x9f\\x10\\\\!x\\xf4\\xeb\\x82\\xa3\\xae\\xec\\x03\\xf9\\x13_M\\xff\\x00\\xc2\\x15j\\xd6\\x06\\xd1\\x84\\xc5Kn\\xf3\\x14C\\x1b\\x83\\x9e\\x08*\\x9di\\xbf\\xf0\\xaf\\xf4\\xbf1^\\xf5\\xaf.\\\\\\xf0K\\x18\\xd0\\xfd\\tT\\x04\\xf4\\x1fJB>^o\\nk+\\x1bH\\xfa}\\xcaF\\xa4\\x82\\xcc\\x84\\x0c\\xe7\\x9e~\\xa3\\x15\\x04\\x9a\\x1d\\xca\\xb9E\\x05\\xd8\\x1c\\x10\\x14\\x8ct\\xc6x\\xaf\\xafG\\x85\\xf4\\x85\\x8d\\xd5,6dmc\\xbd\\xfea\\x9c\\xe0\\xf3\\xd2\\x9e|)\\xa5\\x9bq\\x17\\xd9QS\\xa1\\n\\xcc\\x0e=\\t\\xceH\\xcf\\xad\\x03><]\\x16\\xe4\\xcb\\xe5\\xb2\\x95l\\x85$\\xf4\\x07\\xdc\\xd6\\xb4>\\x0b\\xd4dEe12\\x1eIW\\x07`\\xec[\\xd0{\\x9a\\xfa\\x91\\xbc-a\\xe6G,\\x16\\x10\\xf9\\xf16\\xe0d\\xc8\\x1e\\x99\\xe2\\xb4\\xc6\\x91k\\xb0,\\xb6\\xf19S\\xb5v\\xa60>\\x99\\xa3P>^\\x9b\\xe1\\xfe\\xcd:)E\\xcc\\x8bw\\xf7d\\x80\\xa1l\\xb6N6\\xe0q\\xc6:\\x8a\\xa9\\x0f\\xc3\\xddM\\xd9\\xe3\\x92\\xd1\\xd6L\\x06\\x04\\xb8\\xc0\\x07\\xa6z\\xd7\\xd5\\xb0h\\xd6\\x16\\xf7&\\xe6\\xde\\xd0$\\xe7\\xabn \\xe3\\xe9\\x9f\\xd2\\xa7\\x1ae\\xb3\\x92\\xe6\\xd6\\xdf{d\\x971\\xa99\\xef\\xce)\\x81\\xf2Jx\\x06\\xf7w\\x97'\\x96\\x92\\x9f\\xba\\x8c\\xe7s\\x8c\\xe3 \\x00s\\xcf\\xf9\\xc5k\\xe9\\xff\\x00\\x0e\\xe0\\x929\\xd6t\\xd4\\xda\\xe2!\\x96U\\x8e5U<p[s`\\xf3_M\\xae\\x9c\\x9efL1\\x85\\x1c\\x06TU=09\\xa9\\xfe\\xc8\\x01\\xcb(\\xe7\\x82\\x18\\x06\\x1e\\x9cP\\x07\\xcc\\x17\\x1f\\rdK6\\xb8\\x16w\\x91D_hi\\x9c\\x02\\xa3\\xd4\\x80\\xa7?\\xa5Ic\\xf0\\xcaM\\x91K8\\xb7\\x929[j\\x9f\\xb6\\x08\\xc1\\xe7\\x03\\xf8I\\xeb\\xdb\\x1f\\x8d}4\\xd6e\\xa4\\xfb\\xf1\\x8c\\x8c\\x0f\\x90z\\xf5'<\\xd2\\xc9n#U\\xde\\xb0\\x96\\x1c\\xb1d\\xc7\\xe2??Z,#\\xc0\\x8f\\xc2\\xe8\\xbe\\xcePi\\x0f\\x1d\\xc2\\x8f\\x98\\xa5\\xebH[\\x82r\\xa3f\\x07N\\xe6\\xa8i\\x7f\\x0bo|\\xc9\\x85\\xee\\x98B(\\xca\\xf9\\x93\\xf9d\\x0e\\xa3\\x9d\\xa4\\x1fN:W\\xd1\\xc9n\\x08f9+\"\n",
      "b'\\xc1\\xc7\\x1c\\x1f_zd\\xcc\\x04\\x8a\\x16\\x1b\\x8c\\x11\\xfc(6\\xfe$\\x9e(\\xb0\\xcf\\x07\\xff\\x00\\x85h\\x1ah\\xe2\\xfe\\xc6\\x89\"!wK\\x1c\\xf2\\xcaFs\\xc9\\xf9j\\xd5\\xbf\\xc2\\xe0\\x1d\\xd4\\xe8\\x83x\\xf9Fn\\x18\\xa1\\x18?0\\xe4d\\xf08\\x1e\\xb5\\xeeMl\\x18\\x06s\\xc7`q\\xcdL-\\xd7nJ\\x01\\xef\\xd7\\x1f\\x86h\\x15\\x8f+\\xb4\\xf8{$v\\x10\\xdb\\xb8\\xd2cH\\x88\\xd8\\xafe\\xe62\\x9c\\x8d\\xd9by\\xcf\\xe4(\\x8b\\xe1}\\xb3$\\x9e|\\xd6+\\x1b\\x93\\xb7\\xc8\\xb61\\xba\\x9c\\xf1\\x86\\xef\\xd3\\xd3\\xe9^\\xad\\xe5\\x927.\\x01?x\\x1eA\\xa4\\xf2\\x15\\xd8\\x82\\x06G`\\x01#\\xda\\x81\\x9eo7\\xc3\\x9bK\\x93\\x1b\\xcb}5\\xc9\\x8d\\x80Ue\\x04c\\x00\\x11\\x908\\x1e\\xd9\\x03\\xda\\xad\\xe9\\xfe\\x05\\xb0\\xb4\\x9e\\x7f.\\xda\\xd4\\xc6\\xc81\\x1f\\xd9\\xa2 \\x1fP_-\\xd7\\xde\\xbb\\xb22\\xc1<\\xb9\\x0frT`\\x0f\\xfe\\xbdI\\xb3b\\xf4<u\\xef\\xcd;\\x01\\xc9\\xaf\\x86UT,\\x10\\xda\\xdb(\\xc6JF\\xa8q\\xd7\\xaa\\xa8\\xf4\\xefN\\x8f\\xc36[\\x8b\\xca#2\\x9c\\xb0&5%\\xb2y\\'\\x8e~\\xb5\\xd5\\x14\\xdaFzt\\xe4\\x8f\\xd6\\x9a\\xc9\\x97\\xcb\\xc2~\\xb9\\xe8=\\xb9\\xe3\\xf0\\xa0F\\x0bxZ\\xd2x\\x80\\x90bBw\\x06T@T`\\x8c\\x0c\\x0e\\x07=\\xab>_\\x01\\xe9\\xceB\\xcd\\xe6J\\xa8A\\x02V2\\x1cc\\x1dI\\xe0c\\xb5v\\x08\\x8c\\\\\\x92r\\x07Lg\\xfciB\\x8d\\xe3\\x19\\xdb\\xe9\\xcf\\xf3\\xa0g1\\x1f\\x85t\\xc5(M\\xb4n\\xc1\\n\\x81 %v\\x93\\x9c\\x0c\\x1cc\\xf0\\xab\\x10\\xe8vq\\xaa\\xa4v\\xb6\\xe1\\x17\\xa2\\x08\\xf2\\x80z\\x0e8\\xae\\x80\\xa20\\x1cq\\x9e\\xb8\\xe6\\x93iQ\\x84\\xc9\\xc7\\'\\xaei\\x01\\x92\\xba5\\xb2\\xcb\\xbf\\xec\\xf1\\x07\\\\\\xe0\\xc6\\x8a3\\x9e\\xb98\\xa9mt\\xc8af\\x90*+\\xbfR\\x17\\x04\\x9e\\xdc\\xff\\x00\\xf5\\xabEb \\x12I\\x00\\xf78$\\x1a\\x11\\x14p\\xa3\\xe6\\xee\\xc4\\x01\\x9a,\\x05\\x06\\xb5,q1\\x8d\\xb1\\x80\\x1bh\\x04qNH@#\\x0cH\\x1cd\\xe0\\xe0\\xd5\\xb9\\x10`\\xe2O\\xc0\\x8c\\x9a\\x0fE\\xf9'\n",
      "b'\\xb0H\\xee\\x00\\xe2\\x80!h\\x8a\\xa8\\xdcC\\x11\\xcfC\\x92{\\x1e\\xb4\\xe5\\\\(.C\\x0eT\\x168<\\xf5\\xe7\\x9aG\\xe8~s\\x8e\\xc0>0}\\xc6i\\xca\\xa0F\\x15\\xb2@<\\xe0\\x93\\xcd\\x02\"xC\\xe3v\\xf2T``\\xf7\\xed\\x83\\x9a`\\xb4H\\xd9\\x9dQ\\ta\\xf3\\x11\\x83\\xc6z\\x9fz\\xba\\xea$\\x03,T\\x0e\\x83m7i\\xdc1\\xb0\\xafr2\\t>\\xf4\\x0c\\xaeQdB\\xb2q\\xcey\\xc1?^\\x9e\\xb4\\xc9,\\xd1\\xe7\\x12\\x05u\\x7f\\xbaK\\x16?C\\x8c\\xfe\\xb8\\xab\\x01v\\xb3+\\x12A<e\\xbbSY\\xa3\\n\\x03\\x1e\\xfc\\x8eN?\\x1cP\\x04mj2\\xd8D/\\x8d\\xbb\\xb8\\x04\\x0fL\\xe2\\x91a\\x04*\\x90\\x8aA\\xe0\\x02A\\xfc\\xaa\\xc3()\\x98\\xdd\\xd4\\x0cch\\xce\\x7fJhBv\\xa9i\\x00\\x18;\\x80\\x19?\\xa5\\x00D\\xb6P\\xab\\x12-\\xa3fa\\xc9\\x0b\\xc9\\xf6\\xcf\\xa5\\x12Z\\xc6Ag@y\\xe00\\xc8\\x1e\\xc3\\xff\\x00\\xafSJ\\x88\\xe7\\r3\\xae{\\x82r\\x7fJW\\xc2\\xc6\\x01\\x93*\\x08\\xc0\\'\\'\\xf3\\xa0\\n\\x89k\\x1a\\xa1\\xc2\\x05\\\\`\\x00\\xaa\\x01\\x1e\\xb8\\xff\\x00\\xeb\\xd4\\x0f\\xa5\\xda\\xbb\\xa3(F}\\xb8\\x05\\x80\\xeb\\xc7\\xbf\\xb5]\\x1f\\xbc\\xe7`p\\x0eA\\x1cT\\x92~\\xf1q\"`\\x1f\\xaf\\xf3\\xa6\\x05)-e\\x94\\x10\\xeb\\x10^\\xe3n~\\x98\\xc8\\xfd*D\\xb5$\\x05\\xdc\\x02\\x0e\\x02\\xaf\\x07\\x1d\\xfe\\x95qW8\\x07\\xe6\\xc7r?\\xa6)\\x8c\\xc9\\x12\\xfc\\xa9\\xf3\\x1e\\xcaFO\\xe7H\\n-i\\x14r\\x1c>\\xc2p\\x08L\\x8c\\xfdFi\\xf0E\\x0c1\\x08\\xd6V\\x01x\\xc1\\x04\\xff\\x00Z\\xb3\\xb5\\x9c\\xee\\xfb\\x99\\x19\\xc9\\x038\\xfc\\xe9c\\x93\\x00\\xe5\\xd4\\xf3\\xdb\\x8f\\xeb@\\x1f&\\x0f\\x86:\\xc1\\x84H\\xb2[H\\xbbK0\\x89\\xfc\\xcd\\xa4t\\x1c\\x0e\\xa7'\n",
      "b'\\xda\\xa1\\xb7\\xf8k\\xad\\xcc\\x010\\x88\\xdc\\xe3\\x11\\xc9\\x90\\xd8\\xc6A\\xe8x\\xfck\\xeb\\x7f%\\x14\\x1c*\\x80z\\x8d\\xbcR\\x1bEn\\x0e:\\xff\\x00v\\x8b\\t3\\xe4\\xbb\\x8f\\x86\\xba\\xcc7B\\xdcA\\xe7\\xbe\\x0b\\x13\\x0b\\x02\\x00\\xef\\xcf\\x1c\\xfbS\\xd7\\xe1\\xce\\xa8\\xb6\\xa2\\xe2[;\\xa8Wp\\x04I\\x1f \\x1e\\x87\\x19\\xe7\\x8f\\xa5}W\\xf68\\x87\\xc8\\x00\\xc1c\\x9f\\x95G\\xf4\\xa7-\\xac(\\x15|\\xa4#\\xa66\\x8e)Y\\x8e\\xe7\\xcc\\xe7\\xe1F\\xa1\\x0c\\xf0\\x89\\xa3\\x9ah\\xdc\\x8c\\x88\\xd4)\\xc6:\\xf2q\\xf9\\xd3\\xae~\\x13\\xdeE\\x04sn@ZB\\xa6)\\n\\xab\"s\\xf3\\x1f\\x9b\\xf4\\xaf\\xa6\\x16\\xc2\\x18\\xdd\\x82\"\\x0e\\xa3;ri\\xcbl\\x01\\xf9]\\x87n\\x15x\\xfd(\\xb0\\x1f4\\xd8|(\\xb8\\x9e\\xe4G3\\xc7\\x0cL\\x08\\x0eP\\xb3n\\xf4\\xda\\t\\xe3\\xdf5\\xa5?\\xc1\\xf9\\xa3]\\xd6\\xb2\\xc52\\x00I,\\x85K\\x1e0\\x00\\xc1\\xfeu\\xf4\\x13Z&Hvg\\xc69`3\\xd7\\xe9I,b\\x1d\\x81\\x0b\\x00A\\xe38\\xfeT\\xac\\x07\\x83\\xaf\\xc2\\x9dPZ [\\x0bq!\\\\\\x17Y\\x18\\xe4\\xfa\\x95\\xdb\\xc5*|\\x1f\\xbd\\x95\\x14\\xa4\\xc8\\x8e\\xcd\\xcf\\x98\\x08\\x00t\\xf4\\xeb^\\xf2-\\xf7\\x01\\xbd\\xc9\\xe3w\\x04\\x8f\\xebR\\x18\\x91\\x06\\xf1\\x9d\\xd8\\xeeI\\xc7\\xd0Q`<\\x93J\\xf8a%\\x8d\\xb6\\xd5\\xbd\\x9a\\x17\\nC=\\xbb2\\x99\\x0ez\\x91\\x83\\x8c{\\x1cV\\xbe\\x9f\\xe0A\\xb0\\rB\\xf7S\\xb9!HQ\\xe7\\x94T\\x1c\\xf1\\x8d\\xbc\\x9fz\\xf4Db0rzT\\xec\\xa1@8\\x07#\\xbd>P8\\t\\xbc\\x03f\\x13m\\xbd\\xd5\\xe4D\\xe3\\x00\\xcc\\xa7\\xf0\\xce\\xcc\\x8f\\xa6qVm<)<v\\xaf\\x03_\\\\I\\xb9\\xb7+;\\x10\\x17\\xe9\\x8cs\\xc6k\\xb6\\xc0\\x00\\x10\\x06i\\xe0d\\xe7\\xf4\\xa7`8\\x8b\\x1f\\n\\xbd\\xb8f{\\x9726\\x03\\xec\\x05\\xbf\\x00wf\\xae\\x7f\\xc2\\'\\xa7\\xb8b\\xe5\\xf7\\x96\\xdc\\x19\\x18\\x86_brs]:\\x9c\\x9c\\x90*\\x7f)px\\xff\\x00\\xeb\\xd1`94\\xf0\\x96\\x9f\\x1cl\\x91\\xa6\\xe0s\\x82\\xc0\\x1c\\x0e\\x98\\xf7\\xfci\\xa3\\xc1:c\\x14'\n",
      "b'g\\x8b\\xe7\\x03\\x0cQ\\x88\\xde1\\xd1\\xbdk\\xadU\\x19 \\xf6\\xe9@D\\xdd\\x9d\\xa0\\x9fZ,\\x07/\\x07\\x83t\\x8beU[`\\xc4\\x0c\\x02\\xccI\\xc7\\xa7\\xd3\\xda\\x94xn\\xc4M\\xbaM>\\xdaV8\\xe4\\xaa\\xf1\\xf8\\xf5\\xae\\xa4\\xa8\\x07\\x00\\x0f\\xca\\x80\\xa3\\x82@4X\\x0ez\\xeb\\xc3\\x96\\x13#+\\xe9\\xf6\\xac\\x8e0r\\xa1H8\\xea\\x0e2\\x0f\\xbei,<3\\xa6\\xe9\\xf1 \\xb5\\xd3\\xac\\xd1\\xc1\\xc8%A9\\xeew\\x10y\\xae\\x80\\xc4\\xbd\\xf2rzQ\\xe5\\xa9\\xc1 t\\xa0\\x0c\\xb8t\\xb8\\xa3\\xde\"\\xb6\\xb5B\\xe3\\xe6*\\xa3,\\x7f\\xda8\\xe6\\xa5[\\x18\\xb1\\xb1\\xa0\\x89A\\x18\\xc2(\\xc0\\xfap*\\xfa\\x9c\\x82p\\x06\\x0e(\\xeb\\xc9&\\x8b\\x01\\x93>\\x85\\xa7\\xc8\\xe8\\xe6\\xc6\\xd9\\x9d8R`S\\x8f\\xc7\\x15-\\xb6\\x99k\\x04\\x85\\xa1\\xb6\\x8a\\' d\\xc6\\x81x\\x1d+H\\xa2\\x91\\x9c\\x0c\\xd0\\xaa\\x0ex\\xa2\\xc0T6\\xe9\\x86F\\\\\\xab\\x1c\\x90\\xd8 \\x9f\\xa5\\x11\\xda\\xc7\\x18\\xc4i\\x1az\\x00\\x00\\xab\\xb8\\x1c\\x80\\x00\\xc7\\xb54gs|\\xc7\\x03\\xb5\\x00S[UR\\xc4\\x00\\xcd\\x9c\\x92\\x00\\x1f\\xafzSm\\x1b1$\\x07b6\\x91\\x8e1\\xdcU\\xa7b\\xa7\\x19\\xa1yv\\x07\\xb5\\x00WKp\\xa1Q\\x11\\x15\\x14\\x00\\x00\\xedB\\x05\\xdaB\\x94\\r\\x9e\\xd8?\\xa5X\\x1c\\xe3\\xb6{\\x0e*\"\\x7f{\\x80\\x00\\x02\\x80\\x11S\\x00\\xef\\xc3\\x1e\\xc7\\x18\\x1f\\x95&\\xc4\\xc6\\x15\\x08\\x04\\xf6\\xe9R\\xc9 T\\xcb.O\\xb1\\xc5)\\x18*\\x07z\\x00\\x89\\xa1R\\xb9*\\n\\xf5!\\xb1\\x9f\\xaej\\x1f\" AE\\n\\xc4\\xf0I\\x1d?*\\xbaT+\\xe4zR\\x08\\xd4\\x8e\\x00\\x07\\x9e@\\xa0\\n\\xaf\\x16y\\x11\\xfc\\xde\\xad\\x9cg\\xe9\\x9aEB\\xacK\\xaa\\x1c\\x0e\\n\\xf5\\xcdN@\\x8cd\\xe5\\xbf\\x1ai\\x94\\x1c|\\xa4q\\x9e\\xb4\\x00\\x04%~e\\x18\\x03 du\\xf4\\xa6mL\\x82\\x10\\x86\\xfe\\xf0\\xc0\\xe7\\xd2\\xa6e\\xf9~\\xf1<\\xf7\\xe6\\x96RU\\x14\\x8c~T\\x00\\xc6B\\xc01##\\xb6)<\\x9f0|\\xc0\\x8ct\\xc1#\\xff\\x00\\xd7J\\xeeQ7(\\x19<t\\xa8\\xfc\\xf7\\x0c\\xc0\\x101'\n",
      "b'@\\x12y;#\\xc0r\\x00\\xe3\\xe6\\xedL\\x11\\x9f3q#o\\x7f\\x97\\x9c\\xfa\\xe74\\xe8\\xe5bq\\xeb\\xd6\\x9b3\\xed8\\n\\xb4\\x01\"\\xa8l\\x8c\\xb9\\x1e\\xdcb\\xa1\\x11\\xec\\xc8\\x04\\xb0$\\xe3\\xe5\\x00\\xff\\x00\\xf5\\xfe\\xb4\\x82c\\x1a\\x96*\\x87\\'\\x1c\\x0cPB\\xcd\\xb8\\x95\\x03\\xf1?\\xd2\\x81\\x12\\x15\\x1b0\\xca@\\xf7\\xebBC\\x198\\x0b\\x92\\xbd\\x8fJX\\xe2Br\\x06\\x08\\x1di\\xee\\xac\\x84|\\xc0\\xe4g\\xee\\xe3\\xf9P2&\\x07\\x8e\\x11Ga\\xcfO\\xafjD\\xda\\xa4\\x996\\x03\\x83\\x82O?\\xca\\x9ce;G\\xca\\xbd\\x7f*r\"\\xca\\x01\\x91T\\xe7\\xd4\\x03@\\x08\\xa1\\x1dF9^9\\xedN*\\xb1\\x8c\\x0e\\x84\\xfa`\\xd2<j\\x14\\x91\\xc1\\x18\\xe9Q4\\xfeP<\\x16\\xc8\\xcf&\\x80$\\x11\\x85ftP\\xacpK\\x0e\\xe6\\x87\\xcez\\xf4\\xea94\\x91\\x1f9\\x01\\xc6>\\xbc\\xd4\\xa2\"\\x18\\xfc\\xf9\\xf6\"\\x80!D|d\\xb89\\x188\\xe0\\xff\\x00\\xf5\\xff\\x00*\\x1668\\xdc\\xf1\\xba\\xe7 \\xa8 \\x9fcJ\\xd2\\xb0\\xc1\\x18\\xa7\\xc4K\\xf0OS\\x8a\\x00c\\xa2n\\x06D\\xc9#\\x03\\xe9\\xe9N\\x0b\\x19$\\x1f\\xcb\\xfc\\x8a<\\xb5\\x04\\xe3\\x8fzI2\\x80\\x80s\\x8fZ\\x00vT\\r\\xaa\\\\`\\x1cg8\\xfeU\\x1e\\xe0\\xbbJ\\xba)\\xef\\xbb\\xbd>4S\\xce0~\\xa6\\x80\\xaa\\x0b\\x12\\xb9 \\xe3\\x9ei\\x80\\x81\\xcep#\\'\\x1e\\x98\\xc7\\xe1J\\xc7$\\xb1$\\x83\\xd8\\xf1NTS\\x83\\x801\\x9e\\x94\\xc9\\tTb\\x19\\xb88\\xeb@\\x02\\xb6\\xdf\\xbeq\\x9f\\\\\\xfe\\x94\\x9b\\x88P7\\x03\\xd7\\xaf\"\\x9c\\xab\\x95\\xcf\\x19=\\xf1J\\xd0\\x95 \\xa3`\\x9e\\xa4\\x8c\\xd0\\x03\\x03\\x102\\xc9\\xc9\\xe9\\xcf\\x1f\\xca\\x97b\\x1c\\x12\\xbb\\x8f\\\\\\x03\\x9atY<\\x93\\xcdFw\\x16?7\\xe9@\\nNx\\xc1U\\xe3\\x05x\\xa5`\\x1cn\\r\\x82;\\xf7\\xc5\\x0b\\x92H,N(vep\\x14\\x8c})\\x00\\x96\\xe0\\xaev\\x9d\\xd9\\xef\\xd4\\xd3\\xc6\\xec\\x9d\\xcd\\x8c\\xf4\\x07\\x8f\\xe9U\\xe5\\x95\\xa3\\x90\\xae\\x01\\x18\\xec1O\\x81\\x83dc\\x18\\x19\\xe4\\xe6\\x80$\\xf9\\x87\\xde\\x1b\\x87b1\\xc5\\x04\\x06\\x1f'\n",
      "b\"3\\x06\\xcf$`T\\x06`\\x18\\xa3F\\xa4c<S\\x96DP\\x02\\xc4\\xbc\\x8c\\xd0\\x16\\x1c\\x11y\\xdb\\x18\\xc1\\xee\\x00\\xff\\x00\\x1aq \\xa9\\xc0\\xc1\\x1d\\x86?\\xc6\\xa2\\x8a\\xe5\\x8b\\x10\\x15\\x00\\x1e\\xd5(9\\xe7\\x03&\\x80\\x18\\x13?18\\xcf\\x1dz})J\\x06N\\x1f<\\xf2{\\xd3\\xd5F\\xd2y\\xcf\\xaei#\\xc3\\xa9\\xdc\\x07\\x1d\\xe8\\x01\\xa5F6\\x92wv\\xceO\\xe9N\\n~Pr\\xde\\xc5qH\\xc7\\xcb\\x00\\x80\\x0e}i\\xe0|\\xc3\\x93\\xcfj\\x00c\\x03\\x8c'\\xd7\\x18\\xe7\\xf9\\xd3v+6\\xed\\x87\\x81\\xe9\\xfdjf\\xec\\x07\\x14\\x80\\x02@<\\x83\\x9a\\x00\\x88\\xa9\\x0c\\x15Tm\\xeb\\x8f\\xf2i\\xb910\\x029\\x18\\x9e\\xa4\\x00jgP\\x06\\x07\\x18\\xf4\\xa8K8\\x98\\xa2\\xb6\\x14{P\\x02\\xab\\x16\\x04\\x1d\\xea\\xa7\\xb9\\x18\\xa8Y\\x86\\xfeRb\\x07\\xa0<\\xfd1R\\xb9<\\xf4\\xe3\\xbe)\\xee\\xc68\\x0b6\\x1b\\x1d\\xbaP\\x03v\\x820C\\x90F{g>\\xf4\\x8a\\x06Id$\\xfeF\\x9b\\x19B7m9\\xcf\\xad=Ig \\x93\\x80p(\\x01\\x8c\\xac\\xc7j\\xa9D=\\xc3`\\x8f\\xa5H6\\xa8\\xc3|\\xc7\\xd4\\x9f\\xfe\\xb5M\\xe4\\x92yn\\xde\\x95\\x13[|\\xc7\\x0e\\xc3\\xe8O\\xf8\\xd0\\x07\\xff\\xd9\"\n"
     ]
    }
   ],
   "source": [
    "import socket\n",
    "\n",
    "misock = socket.socket(socket.AF_INET, socket.SOCK_STREAM)\n",
    "misock.connect(('www.vialibre-ffe.com', 80))\n",
    "cmd = 'GET https://www.vialibre-ffe.com/multimedia/galerias/IRUN120/2Alvia_120.jpg HTTP/1.0\\r\\n\\r\\n'.encode()\n",
    "misock.send(cmd)\n",
    "\n",
    "while True:\n",
    "    datos = misock.recv(512)\n",
    "    if (len(datos) < 1):\n",
    "        break\n",
    "    print(datos)\n",
    "misock.close()"
   ]
  },
  {
   "cell_type": "markdown",
   "metadata": {},
   "source": [
    "La salida comienza con las cabecera que el servidor web envía para describir el documento. Por ejemplo Content-Type indica que es imagen en formato jpeg (image/jpeg). A continuación de la cabecera, añade una línea en blanco para indicar el final de la misma, y envía los datos reales del fichero.\n",
    "\n",
    "\n",
    "Se puede mejorar el programa guardando los datos en una cadena, recortando las cabeceras y luego guardando los datos de la imagen en un archivo."
   ]
  },
  {
   "cell_type": "code",
   "execution_count": 40,
   "metadata": {
    "collapsed": false
   },
   "outputs": [
    {
     "name": "stdout",
     "output_type": "stream",
     "text": [
      "b'HTTP/1.1 200 OK\\r\\nContent-Type: image/jpeg\\r\\nLast-Modified: Mon, 23 Mar 2015 09:49:55 GMT\\r\\nAccept-Ranges: bytes\\r\\nETag: \"163b76b74e65d01:0\"\\r\\nServer: Microsoft-IIS/8.5\\r\\nX-Powered-By: ASP.NET\\r\\nDate: Mon, 30 Oct 2017 15:49:32 GMT\\r\\nConnection: close\\r\\nContent-Length: 62887'\n"
     ]
    }
   ],
   "source": [
    "import socket\n",
    "import time\n",
    "\n",
    "misock = socket.socket(socket.AF_INET, socket.SOCK_STREAM)\n",
    "misock.connect(('www.vialibre-ffe.com', 80))\n",
    "cmd = 'GET https://www.vialibre-ffe.com/multimedia/galerias/IRUN120/2Alvia_120.jpg HTTP/1.0\\r\\n\\r\\n'.encode()\n",
    "misock.send(cmd)\n",
    "contador=0\n",
    "imagen=\"\".encode()\n",
    "while True:\n",
    "    datos = misock.recv(5120)\n",
    "    if (len(datos) < 1):\n",
    "        break\n",
    "    imagen=imagen+datos\n",
    "misock.close()\n",
    "\n",
    "#Búsqueda del final de la cabecera\n",
    "pos=imagen.find(\"\\r\\n\\r\\n\".encode())\n",
    "print (imagen[:pos])\n",
    "\n",
    "#Saltar la cabecera y guardar los datos de la imagen\n",
    "imagen=imagen[pos+4:]\n",
    "manf=open(\"tren.jpg\",\"wb\")\n",
    "manf.write(imagen)\n",
    "manf.close()"
   ]
  },
  {
   "cell_type": "markdown",
   "metadata": {},
   "source": [
    "Una vez que el programa termina, se pueden ver los datos de la imagen abriendo el archivo tren.jpg con un editor de imágenes."
   ]
  },
  {
   "cell_type": "code",
   "execution_count": 43,
   "metadata": {
    "collapsed": false
   },
   "outputs": [
    {
     "data": {
      "image/jpeg": "[encoded data removed]",
      "text/plain": [
       "<IPython.core.display.Image object>"
      ]
     },
     "execution_count": 43,
     "metadata": {},
     "output_type": "execute_result"
    }
   ],
   "source": [
    "from IPython.display import Image\n",
    "Image(filename='tren.jpg')"
   ]
  },
  {
   "cell_type": "markdown",
   "metadata": {},
   "source": [
    "__Recuperación con el módulo urllib__\n",
    "\n",
    "urllib es una librería que permite tratar una página web de forma parecida a la apertura de un fichero, de forma que la librería gestiona de manera transparente todo lo referente al protocolo HTTP y los detalles de la cabecera.\n",
    "\n",
    "Una vez que la página web ha sido abierta con urllib.request.urlopen, se puede tratar como un archivo y leer a través de ella usando un bucle for.\n",
    "\n",
    "Cuando se recupera la página web, sólo se accede al contenido puesto las cabeceras aunque se envián,  el código de urllib se queda con ellas y sólo devuelve los datos.\n",
    "\n",
    "En el siguiente ejemplo se recupera la información de una página web"
   ]
  },
  {
   "cell_type": "code",
   "execution_count": 45,
   "metadata": {
    "collapsed": false
   },
   "outputs": [
    {
     "name": "stdout",
     "output_type": "stream",
     "text": [
      "<!DOCTYPE html>\n",
      "<html lang=\"es\">\n",
      "<head>\n",
      "<meta charset=\"UTF-8\" />\n",
      "<meta http-equiv=\"X-UA-Compatible\" content=\"IE=edge\">\n",
      "<meta name=\"viewport\" content=\"width=device-width, initial-scale=1\">\n",
      "<title>Facultad de Informática</title>\n",
      "\n",
      "<meta name=\"description\" content=\"La Universidad Complutense de Madrid es una institución de larga trayectoria y amplio reconocimiento social que aspira a situarse entre las primeras universidades de Europa y a consolidarse como centro de referencia para el continente latinoamericano\" />\n",
      "<meta name=\"keywords\" content=\"Universidad Complutense de Madrid, Complutense, UCM, Educación, Innovación, Universidad de excelencia, Formación, Grado, Máster, Doctorado, Postgrado\" />\n",
      "<link rel=\"apple-touch-icon\" href=\"/themes/ucm16/media/img/logoucm.ico\" />\n",
      "<link rel=\"shortcut icon\" href=\"/themes/ucm16/media/img/logoucm.ico\" />\n",
      "<link rel=\"icon\" href=\"/themes/ucm16/media/img/logoucm.ico\" />\n",
      "<link type=\"text/css\" media=\"screen\" rel=\"stylesheet\" href=\"/themes/ucm16/css/bootstrap.css\" />\n",
      "<link type=\"text/css\" media=\"all\" rel=\"stylesheet\" href=\"/themes/ucm16/css/font-awesome.min.css\" />\n",
      "<link type=\"text/css\" media=\"screen\" rel=\"stylesheet\" href=\"/themes/ucm16/css/ucm-theme.css\" />\n",
      "<link type=\"text/css\" media=\"screen\" rel=\"stylesheet\" href=\"/themes/ucm16/css/ucm.css\" />\n",
      "<link type=\"text/css\" media=\"screen\" rel=\"stylesheet\" href=\"/themes/ucm16/css/ucm-wg.css\" />\n",
      "<link type=\"text/css\" media=\"print\" rel=\"stylesheet\" href=\"/themes/ucm16/css/print.css\" />\n",
      "</head>\n",
      "<body>\n",
      "<header>\n",
      "<div id=\"barra\">\n",
      "<div class=\"container\">\n",
      "\n",
      "<ul class=\"ul-menu\">\n",
      "<li>\n",
      "<div id=\"buscador\">\n",
      "<form action=\"http://informatica.ucm.es/buscador\" method=\"get\" class=\"posicion_buscar form-inline\" id=\"formbuscador\">\n",
      "<label for=\"search\" class=\"hidden\">Buscar en la web</label>\n",
      "<input type=\"search\" id=\"search\" name=\"search\" placeholder=\"Buscar en la web\" required />\n",
      "<button type=\"submit\" class=\"botonbusca\" id=\"btsearch\" title=\"Buscar en la web\" aria-label=\"Buscar en la web\"><span class=\"fa fa-search\" aria-hidden=\"true\" title=\"Buscar en la web\"></span></button>\n",
      "</form>\n",
      "<button class=\"botoncerrar\" id=\"cerrar_buscador\" aria-label=\"Cerrar buscador\"><span class=\"fa fa-times\" aria-hidden=\"true\" title=\"Cerrar buscador\"></span></button>\n",
      "</div>\n",
      "</li>\n",
      "<li>\n",
      "<nav class=\"navbar\" role=\"navigation\" id=\"menusuperior\">\n",
      "<div class=\"navbar-header\">\n",
      "<button type=\"button\" class=\"navbar-toggle\" data-toggle=\"collapse\" data-target=\".navbar-sup-collapse\" id=\"collapse-personal\">\n",
      "<span class=\"sr-only\">Desplegar navegación</span>\n",
      "<span class=\"fa fa-user fa-2x\"></span>\n",
      "</button>\n",
      "</div>\n",
      "<div id=\"contenido-menusuperior\" class=\"collapse navbar-collapse navbar-sup-collapse\">\n",
      "<ul class=\"nav navbar-nav\" >\n",
      "<li class=\"iniciasesion\"><a href=\"https://www.ucm.es/login_sso/\" title=\"Navegar identificado\">Navegar identificado</a></li>\n",
      "</ul>\n",
      "</div>\n",
      "</nav>\n",
      "</li>\n",
      "<li>\n",
      "<ul id=\"lg_items\">\n",
      "\n",
      "</ul>\n",
      "</li>\n",
      "</ul>\n",
      "</div>\n",
      "</div>\n",
      "\n",
      "<div class=\"container\" id=\"cabecera\">\n",
      "<div class=\"row\">\n",
      "<div class=\"col-lg-5 col-sm-5 col-xs-12\" id=\"logo\">\n",
      "<a href=\"https://www.ucm.es/\" title=\"Universidad Complutense de Madrid\">\n",
      "<img src=\"/themes/ucm16/media/img/logo.png\" alt=\"ucm\" title=\"Universidad Complutense de Madrid\" />\n",
      "</a>\n",
      "</div>\n",
      "<div class=\"col-lg-7 col-sm-7 col-xs-12\" id=\"titulo_website\">\n",
      "<h1 class=\"web_title\" style=\"font-size: 2.1em;\"><a href=\"http://informatica.ucm.es/\" title=\"Portada - Facultad de Informática\">Facultad de Informática</a></h1>\n",
      "</div>\n",
      "</div>\n",
      "</div>\n",
      "</header>\n",
      "\n",
      "<nav class=\"container navbar navbar-default\" role=\"navigation\" id=\"menu\">\n",
      "<div class=\"navbar-header\">\n",
      "<button type=\"button\" class=\"navbar-toggle\" data-toggle=\"collapse\" data-target=\".navbar-ex1-collapse\" id=\"botonmenu\">\n",
      "<span class=\"sr-only\">Desplegar navegación</span>\n",
      "<span class=\"fa fa-bars\"></span>\n",
      "</button>\n",
      "</div>\n",
      "\n",
      "<div class=\"collapse navbar-collapse navbar-ex1-collapse\">\n",
      "\n",
      "<ul class=\"nav nav-justified\" id=\"contenidomenu\">\n",
      "<li class=\"dropdown resalte lead\">\n",
      "<a title=\"Facultad\" href=\"/facultad\" class=\"dropdown-toggle\" data-toggle=\"dropdown\">Facultad</a>\n",
      "<ul class=\"dropdown-menu\" role=\"menu\">\n",
      "<li><a title=\"Presentación\" href=\"/presentacion\">Presentación</a></li>\n",
      "<li><a title=\"Gobierno\" href=\"/gobierno\">Gobierno</a></li>\n",
      "<li><a title=\"Organización\" href=\"/departamentos_1\">Organización</a></li>\n",
      "<li><a href=\"/facultad\" title=\"Facultad\" aria-label=\"Facultad\"><span class=\"fa fa-plus-circle\" aria-hidden=\"true\"  title=\"Facultad\"></span></a></li>\n",
      "</ul>\n",
      "</li>\n",
      "<li class=\"dropdown resalte lead\">\n",
      "<a title=\"Titulaciones\" href=\"/estudiar\" class=\"dropdown-toggle\" data-toggle=\"dropdown\">Titulaciones</a>\n",
      "<ul class=\"dropdown-menu\" role=\"menu\">\n",
      "<li><a title=\"Grado\" href=\"/grado\">Grado</a></li>\n",
      "<li><a title=\"Máster\" href=\"/master\">Máster</a></li>\n",
      "<li><a title=\"Doctorado\" href=\"/doctorado\">Doctorado</a></li>\n",
      "<li><a title=\"Títulos propios\" href=\"/titulos-propios\">Títulos propios</a></li>\n",
      "<li><a href=\"/estudiar\" title=\"Titulaciones\" aria-label=\"Titulaciones\"><span class=\"fa fa-plus-circle\" aria-hidden=\"true\"  title=\"Titulaciones\"></span></a></li>\n",
      "</ul>\n",
      "</li>\n",
      "<li class=\"dropdown resalte lead\">\n",
      "<a title=\"Estudiantes\" href=\"/estudiantes\" class=\"dropdown-toggle\" data-toggle=\"dropdown\">Estudiantes</a>\n",
      "<ul class=\"dropdown-menu\" role=\"menu\">\n",
      "<li><a title=\"Programacion docente\" href=\"/programacion-docente\">Programacion docente</a></li>\n",
      "<li><a title=\"Prácticas en empresas\" href=\"/practicas-de-formacion\">Prácticas en empresas</a></li>\n",
      "<li><a title=\"Mentorías académicas\" href=\"/mentorias-academicas\">Mentorías académicas</a></li>\n",
      "<li><a title=\"Secretaría de Alumnos\" href=\"/secretaria\">Secretaría de Alumnos</a></li>\n",
      "<li><a title=\"Movilidad\" href=\"/programas-de-movilidad\">Movilidad</a></li>\n",
      "<li><a href=\"/estudiantes\" title=\"Estudiantes\" aria-label=\"Estudiantes\"><span class=\"fa fa-plus-circle\" aria-hidden=\"true\"  title=\"Estudiantes\"></span></a></li>\n",
      "</ul>\n",
      "</li>\n",
      "<li class=\"dropdown resalte lead\">\n",
      "<a title=\"Servicios\" href=\"/asistencia\" class=\"dropdown-toggle\" data-toggle=\"dropdown\">Servicios</a>\n",
      "<ul class=\"dropdown-menu\" role=\"menu\">\n",
      "<li><a title=\"Infraestructuras\" href=\"/infraestructuras\">Infraestructuras</a></li>\n",
      "<li><a title=\"Biblioteca\" href=\"http://biblioteca.ucm.es/fdi\">Biblioteca</a></li>\n",
      "<li><a title=\"Campus Virtual\" href=\"https://cv.ucm.es/CampusVirtual/jsp/index.jsp\">Campus Virtual</a></li>\n",
      "<li><a title=\"Sede Electrónica\" href=\"https://e-administracion.ucm.es/\">Sede Electrónica</a></li>\n",
      "<li><a title=\"Más...\" href=\"http://informatica.ucm.es/asistencia\">Más...</a></li>\n",
      "<li><a href=\"/asistencia\" title=\"Servicios\" aria-label=\"Servicios\"><span class=\"fa fa-plus-circle\" aria-hidden=\"true\"  title=\"Servicios\"></span></a></li>\n",
      "</ul>\n",
      "</li>\n",
      "<li class=\"dropdown resalte lead\">\n",
      "<a title=\"Investigación\" href=\"/investigacion\" class=\"dropdown-toggle\" data-toggle=\"dropdown\">Investigación</a>\n",
      "<ul class=\"dropdown-menu\" role=\"menu\">\n",
      "<li><a title=\"Grupos y líneas de Investigación\" href=\"/grupos-y-lineas-de-investigacion\">Grupos y líneas de Investigación</a></li>\n",
      "<li><a title=\"OAI\" href=\"/oai\">OAI</a></li>\n",
      "<li><a title=\"Más...\" href=\"http://informatica.ucm.es/investigacion\">Más...</a></li>\n",
      "<li><a href=\"/investigacion\" title=\"Investigación\" aria-label=\"Investigación\"><span class=\"fa fa-plus-circle\" aria-hidden=\"true\"  title=\"Investigación\"></span></a></li>\n",
      "</ul>\n",
      "</li>\n",
      "<li class=\"dropdown resalte lead\">\n",
      "<a title=\"Sugerencias\" href=\"/buzon-de-sugerencias-y-quejas\" class=\"dropdown-toggle\">Sugerencias</a>\n",
      "<ul class=\"dropdown-menu\" role=\"menu\">\n",
      "<li><a title=\"Grupos y líneas de Investigación\" href=\"/grupos-y-lineas-de-investigacion\">Grupos y líneas de Investigación</a></li>\n",
      "<li><a title=\"OAI\" href=\"/oai\">OAI</a></li>\n",
      "<li><a title=\"Más...\" href=\"http://informatica.ucm.es/investigacion\">Más...</a></li>\n",
      "<li><a href=\"/investigacion\" title=\"Investigación\" aria-label=\"Investigación\"><span class=\"fa fa-plus-circle\" aria-hidden=\"true\"  title=\"Investigación\"></span></a></li>\n",
      "</ul>\n",
      "</li>\n",
      "</ul>\n",
      "</div>\n",
      "</nav>\n",
      "\n",
      "<main id=\"portada\">\n",
      "\n",
      "<div class=\"container\">\n",
      "<div class=\"row\">\n",
      "<div class=\"col-sm-8 col-xs-12\" id=\"marco_01\">\n",
      "<div class=\"column\" id=\"lista_1\">\n",
      "\n",
      "<div class=\"wg_txt\">\n",
      "<div>\n",
      "<div id=\"not_principal\" class=\"remove_wg_text\" style=\"width: 100%; font-weight: bold; background-color: #000000; background: rgba(0, 0, 0, 0.8); border: 1px solid #808080; color: #ffffff; font-size: 1.1em; padding: 12px;\">\n",
      "<ul class=\"menu_pag\" style=\"padding-left: 0px;\">\n",
      "<ul style=\"list-style: none;\">\n",
      "<li style=\"list-style: none; background-image: none; padding-left: 0px;\"><a style=\"color: #f8cd1e; padding-right: 10px;\" title=\"Eventos y conferencias en la Facultad de Inform&aacute;tica\" href=\"http://informatica.ucm.es/eventos-y-conferencias\">Calendario de eventos y conferencias</a></li>\n",
      "<li style=\"list-style: none; background-image: none; padding-left: 0px;\"><a style=\"color: #f8cd1e; padding-right: 10px;\" title=\"Delegaci&oacute;n de alumnos y asociaciones en la Facultad de Inform&aacute;tica\" href=\"https://informatica.ucm.es/delegacion-y-asociaciones\">Delegaci&oacute;n y asociaciones</a></li>\n",
      "<li style=\"list-style: none; background-image: none; padding-left: 0px;\"><a style=\"color: #f8cd1e; padding-right: 10px;\" title=\"Museo de inform&aacute;tica Garc&iacute;a Santesmases\" href=\"http://www.fdi.ucm.es/migs/\" target=\"_blank\">Museo </a></li>\n",
      "<li style=\"list-style: none; background-image: none; padding-left: 0px;\"><a style=\"color: #f8cd1e; padding-right: 10px;\" title=\"Revista de Ciencia Ficci&oacute;n de la Facultad de Inform&aacute;tica\" href=\"http://www.ucm.es/BUCM/revcul/sci-fdi/\" target=\"_blank\">Sci_Fdi</a></li>\n",
      "</ul>\n",
      "</ul>\n",
      "</div>\n",
      "<p>\n",
      "<script type=\"text/javascript\">// <![CDATA[\n",
      "(function () {\n",
      "\n",
      "//Carga dinámica de un script\n",
      "//Recibe como parámetro la URL del script y una función para llamar una vez cargado\n",
      "function loadScript(url, callback) {\n",
      "\n",
      "var script = document.createElement(\"script\")\n",
      "script.type = \"text/javascript\";\n",
      "\n",
      "if (script.readyState) { //IE\n",
      "script.onreadystatechange = function () {\n",
      "if (script.readyState == \"loaded\" || script.readyState == \"complete\") {\n",
      "script.onreadystatechange = null;\n",
      "callback();\n",
      "}\n",
      "};\n",
      "} else { //Others\n",
      "script.onload = function () {\n",
      "callback();\n",
      "};\n",
      "}\n",
      "\n",
      "script.src = url;\n",
      "document.getElementsByTagName(\"head\")[0].appendChild(script);\n",
      "}\n",
      "\n",
      "//Función para ejecutar el código jQuery deseado en la instancia señalada\n",
      "function payload(jq) {\n",
      "jq('.remove_wg_txt').each(function(idx){\n",
      "jq(this).parent().parent().css(\"background-color\", \"transparent\");\n",
      "jq(this).parent().parent().attr(\"style\", \"background-color: transparent !important\");\n",
      "});\n",
      "\n",
      "jq('.wg_txt').attr(\"style\", \"background-color: transparent !important\");\n",
      "}\n",
      "\n",
      "\n",
      "//Inyección segura de jQuery sin conflictos\n",
      "if (! window.jQuery) { //Si no hay jQuery, lo cargamos y ejecutamos el payload.\n",
      "loadScript(\"//ajax.googleapis.com/ajax/libs/jquery/2.1.1/jquery.min.js\", function () {\n",
      "var jq = jQuery.noConflict();\n",
      "jq(document).ready(function() {\n",
      "payload(jq);\n",
      "});\n",
      "});\n",
      "} else { //Si ya hay jQuery, ejecutamos el payload\n",
      "jQuery(document).ready(function() {\n",
      "payload(jQuery);\n",
      "});\n",
      "}\n",
      "\n",
      "})();\n",
      "// ]]></script>\n",
      "</p>\n",
      "</div>\n",
      "<div class=\"spacer\"><br/></div>\n",
      "</div>\n",
      "<div class=\"wg_txt\">\n",
      "<div>\n",
      "<div id=\"not_principal\" class=\"remove_wg_text\" style=\"width: 100%; background-color: #000000; background: rgba(0, 0, 0, 0.8); border: 1px solid #808080; color: #ffffff; font-size: 1.1em; padding: 12px;\">\n",
      "<div style=\"padding-left: 18px;\">\n",
      "<h1 style=\"text-align: center; color: #f8cd1e; font-size: 1.2em;\">Grados Oficiales de la Facultad de Inform&aacute;tica</h1>\n",
      "<p style=\"text-align: left; font-weight: bold; width: 80%;\">Informaci&oacute;n general</p>\n",
      "<div style=\"width: 30%; text-align: center; float: left; font-size: 0.7em; background-color: #800000; border: 1px solid #e9b3b3; margin-right: 10px; margin-bottom: 25px; overflow: hidden; padding-top: 15px; padding-bottom: 15px;\"><a style=\"color: #ffffff;\" href=\"https://informatica.ucm.es/estudios/grado-ingenieriainformatica\">Ingenier&iacute;a Inform&aacute;tica<br />(con grupo biling&uuml;e)</a></div>\n",
      "<div style=\"width: 30%; text-align: center; float: left; font-size: 0.7em; background-color: #800000; border: 1px solid #e9b3b3; margin-right: 10px; margin-bottom: 25px; overflow: hidden; padding-top: 15px; padding-bottom: 15px;\"><a style=\"color: #ffffff;\" href=\"https://informatica.ucm.es/estudios/grado-ingenieriadelsoftware\">Ingenier&iacute;a<br />del Software</a></div>\n",
      "<div style=\"width: 30%; text-align: center; font-size: 0.7em; background-color: #800000; border: 1px solid #e9b3b3; margin-bottom: 25px; overflow: hidden; padding-top: 15px; padding-bottom: 15px;\"><a style=\"color: #ffffff;\" href=\"https://informatica.ucm.es/estudios/grado-ingenieriadecomputadores\">Ingenier&iacute;a<br />de Computadores</a></div>\n",
      "</div>\n",
      "<div style=\"clear: both; padding-left: 18px;\">\n",
      "<div style=\"width: 30%; text-align: center; float: left; font-size: 0.7em; background-color: #800000; border: 1px solid #e9b3b3; margin-right: 10px; margin-bottom: 25px; overflow: hidden; padding-top: 15px; padding-bottom: 15px;\"><a style=\"color: #ffffff;\" href=\"https://informatica.ucm.es/estudios/grado-videojuegos\">Desarrollo de<br />Videojuegos</a></div>\n",
      "<div style=\"width: 30%; text-align: center; float: left; font-size: 0.7em; background-color: #800000; border: 1px solid #e9b3b3; margin-right: 10px; margin-bottom: 25px; overflow: hidden; padding-top: 15px; padding-bottom: 15px;\"><a style=\"color: #ffffff;\" href=\"https://informatica.ucm.es/estudios/grado-informaticaymatematicas\">Ingenier&iacute;a Inform&aacute;tica<br />y Matem&aacute;ticas</a></div>\n",
      "<div style=\"width: 30%; text-align: center; float: left; font-size: 0.7em; background-color: #800000; border: 1px solid #e9b3b3; margin-bottom: 25px; overflow: hidden; padding-top: 15px; padding-bottom: 15px;\"><a style=\"color: #ffffff;\" href=\"https://informatica.ucm.es/estudios/grado-adeinginformatica\">Inform&aacute;tica y Administraci&oacute;n<br />y Direcci&oacute;n de empresas</a></div>\n",
      "<div style=\"clear: both;\">\n",
      "<h1 style=\"text-align: center; font-size: 0.8em; font-weight: bold;\"><a style=\"color: #ffffff;\" href=\"https://informatica.ucm.es/futuros-estudiantes-1\">Informaci&oacute;n de inter&eacute;s para futuros estudiantes</a></h1>\n",
      "<h1 style=\"text-align: center; font-size: 0.8em; font-weight: bold;\"><a style=\"color: #ffffff;\" href=\"https://www.ucm.es/proceso-general-de-preinscripcion-y-admision\">Tutoriales sobre el proceso de admisi&oacute;n y matr&iacute;cula</a></h1>\n",
      "</div>\n",
      "</div>\n",
      "</div>\n",
      "</div>\n",
      "<div class=\"spacer\"><br/></div>\n",
      "</div>\n",
      "<div class=\"wg_txt\">\n",
      "<div>\n",
      "<div id=\"not_principal\" class=\"remove_wg_text\" style=\"width: 100%; background-color: #000000; background: rgba(0, 0, 0, 0.8); border: 1px solid #808080; color: #ffffff; font-size: 1.1em; padding: 12px;\">\n",
      "<div style=\"padding-left: 18px;\">\n",
      "<h1 style=\"text-align: center; color: #f8cd1e; font-size: 1.2em;\">Conoce nuestros estudios de M&aacute;ster</h1>\n",
      "<p style=\"text-align: left; font-weight: bold; width: 80%;\">T&iacute;tulos oficiales</p>\n",
      "<div style=\"width: 32%; text-align: center; float: left; font-size: 0.7em; background-color: #800000; border: 1px solid #e9b3b3; margin-right: 1%; margin-bottom: 25px; overflow: hidden; padding-top: 23px; padding-bottom: 22px;\"><a style=\"color: #ffffff;\" href=\"https://informatica.ucm.es/estudios/master-ingenieriainformatica\">Ingenier&iacute;a Inform&aacute;tica</a></div>\n",
      "<div style=\"width: 32%; text-align: center; float: left; font-size: 0.7em; background-color: #800000; border: 1px solid #e9b3b3; margin-right: 1%; margin-bottom: 25px; overflow: hidden; padding-top: 15px; padding-bottom: 15px;\"><a style=\"color: #ffffff;\" href=\"https://informatica.ucm.es/estudios/master-ingenieriadesistemas\">Ingenier&iacute;a de Sistemas<br />y de Control </a></div>\n",
      "<div style=\"width: 32%; text-align: center; font-size: 0.7em; background-color: #800000; border: 1px solid #e9b3b3; margin-bottom: 25px; overflow: hidden; padding-top: 23px; padding-bottom: 22px;\"><a style=\"color: #ffffff;\" href=\"https://informatica.ucm.es/estudios/master-internetcosas\">Internet de las cosas</a></div>\n",
      "</div>\n",
      "<div style=\"clear: both; padding-left: 18px;\">\n",
      "<p style=\"position: static; text-align: left; font-weight: bold;\">T&iacute;tulos propios</p>\n",
      "<div style=\"width: 23%; text-align: center; float: left; font-size: 0.7em; background-color: #800000; border: 1px solid #e9b3b3; margin-right: 1%; margin-bottom: 25px; overflow: hidden; padding-top: 15px; padding-bottom: 15px;\"><a style=\"color: #ffffff;\" href=\"https://informatica.ucm.es/titulos-propios#desarrolloJuegos\">Desarrollo de <br />Videojuegos</a></div>\n",
      "<div style=\"width: 23%; text-align: center; float: left; font-size: 0.7em; background-color: #800000; border: 1px solid #e9b3b3; margin-right: 1%; margin-bottom: 25px; overflow: hidden; padding-top: 15px; padding-bottom: 15px;\"><a style=\"color: #ffffff;\" href=\"https://informatica.ucm.es/titulos-propios#dise&ntilde;oJuegos\">Dise&ntilde;o y Desarrollo<br />de Videojuegos</a></div>\n",
      "<div style=\"width: 23%; text-align: center; float: left; font-size: 0.7em; background-color: #800000; border: 1px solid #e9b3b3; margin-right: 1%; margin-bottom: 25px; overflow: hidden; padding-top: 15px; padding-bottom: 15px;\"><a style=\"color: #ffffff;\" href=\"https://informatica.ucm.es/titulos-propios#arteDigital\">Arte digital<br />para Videojuegos</a></div>\n",
      "<div style=\"width: 23%; text-align: center; float: left; font-size: 0.7em; background-color: #800000; border: 1px solid #e9b3b3; margin-bottom: 25px; overflow: hidden; padding-top: 15px; padding-bottom: 15px;\"><a style=\"color: #ffffff;\" href=\"https://informatica.ucm.es/titulos-propios#seguridad\">Direcci&oacute;n de seguridad<br />Inform&aacute;tica</a></div>\n",
      "<div style=\"clear: both;\">\n",
      "<h1 style=\"text-align: center; font-size: 0.8em; font-weight: bold;\"><a style=\"color: #ffffff;\" href=\"https://informatica.ucm.es/master\">Ver todas las titulaciones de M&aacute;ster</a></h1>\n",
      "</div>\n",
      "</div>\n",
      "</div>\n",
      "</div>\n",
      "<div class=\"spacer\"><br/></div>\n",
      "</div>\t\t\t</div>\n",
      "</div>\n",
      "<div class=\"col-sm-4 col-xs-12\" id=\"marco_02\">\n",
      "<div class=\"column\" id=\"lista_2\">\n",
      "\n",
      "<div class=\"wg_txt\">\n",
      "<div>\n",
      "<p><img src=\"https://informatica.ucm.es/data/cont/media/portada/fijas/26-portada-1.jpg\" alt=\"Facultad de Inform&aacute;tica\" /></p>\n",
      "</div>\n",
      "<div class=\"spacer\"><br/></div>\n",
      "</div>\n",
      "<div class=\"wg_txt\">\n",
      "<div>\n",
      "<div id=\"not_principal\" class=\"remove_wg_text\" style=\"width: 100%; background-color: #000000; background: rgba(0, 0, 0, 0.8); border: 1px solid #808080; color: #ffffff; font-size: 1.1em; padding: 12px;\">\n",
      "<h1 style=\"text-align: center; color: #f8cd1e; font-size: 1.2em;\">La FDI cumple 25 a&ntilde;os</h1>\n",
      "<p style=\"text-align: center;\"><a style=\"color: white;\" onmouseover=\"this.style.color='red';\" onmouseout=\"this.style.color='white';\" href=\"https://informatica.ucm.es/xxv-aniversario-de-la-facultad\">Participa en los eventos que hemos preparado</a></p>\n",
      "</div>\n",
      "</div>\n",
      "<div class=\"spacer\"><br/></div>\n",
      "</div>\n",
      "<div class=\"wg_txt\">\n",
      "<div>\n",
      "<!-- Twitter y cursos -->\n",
      "<div style=\"width: 80%;\">\n",
      "<p class=\"remove_wg_txt\" style=\"text-align: center;\"><a class=\"twitter-follow-button\" style=\"margin-left: auto; margin-right: auto;\" href=\"https://twitter.com/informaticaucm\">Follow @informaticaucm</a></p>\n",
      "<p>\n",
      "<script type=\"text/javascript\">// <![CDATA[\n",
      "!function(d,s,id){var js,fjs=d.getElementsByTagName(s)[0],p=/^http:/.test(d.location)?'http':'https';if(!d.getElementById(id)){js=d.createElement(s);js.id=id;js.src=p+'://platform.twitter.com/widgets.js';fjs.parentNode.insertBefore(js,fjs);}}(document, 'script', 'twitter-wjs');\n",
      "// ]]></script>\n",
      "</p>\n",
      "<p style=\"text-align: center;\"><a href=\"http://www.ucm.es/csim\" target=\"_blank\"><img src=\"/data/cont/media/www/pag-804/logo%20CSIM.jpg\" alt=\"Logo Centro Superior de Idiomas Modernos\" width=\"80\" height=\"75\" /></a>&nbsp;<a style=\"text-align: center;\" href=\"http://www.fdi.ucm.es/cfi/\" target=\"_blank\"><img src=\"/data/cont/media/www/pag-804/logoCFI1.png\" alt=\"Logo Cursos de Formaci&oacute;n en Inform&aacute;tica\" width=\"80\" height=\"79\" /></a></p>\n",
      "</div>\n",
      "</div>\n",
      "<div class=\"spacer\"><br/></div>\n",
      "</div>\n",
      "<div class=\"wg_include\"><object width='100%' height='800px' data='https://web.fdi.ucm.es/Avisos_Der.aspx?tipo=8' ><param name='allowfullscreen' value='true' /><param name='allowscriptaccess' value='always' /><param name='movie' value='https://web.fdi.ucm.es/Avisos_Der.aspx?tipo=8' /><embed src='https://web.fdi.ucm.es/Avisos_Der.aspx?tipo=8' type='text/html' allowscriptaccess='always' allowfullscreen='true' width='100%' height='100%'></embed></object>\n",
      "</div>\t\t\t</div>\n",
      "</div>\n",
      "</div>\n",
      "</div>\t</main>\n",
      "\n",
      "<nav class=\"container text-center\">\n",
      "<ul class=\"redes\">\n",
      "<li><a id=\"link_yb\" href=\"https://www.youtube.com/user/finformaticaucm\" class=\"redsocial\" target=\"_blank\"><img alt=\"youtube\" src=\"/themes/ucm16/media/img/youtube.png\" /></a></li>\n",
      "<li><a id=\"link_tw\" href=\"https://twitter.com/informaticaucm\" class=\"redsocial\" target=\"_blank\"><img alt=\"twitter\" src=\"/themes/ucm16/media/img/twitter.png\" /></a></li>\n",
      "</ul>\n",
      "</nav>\n",
      "<footer id=\"pie\">\n",
      "<div class=\"container\">\n",
      "<div class=\"row\">\n",
      "<div class=\"col-sm-4 col-xs-12\">\n",
      "<nav id=\"pie_1\">\n",
      "<ul>\n",
      "<li><a href=\"https://e-administracion.ucm.es/\" title=\"Sede Electrónica\">Sede Electrónica</a></li>\n",
      "<li><a href=\"http://www.ucm.es/fundacion\" title=\"Fundación General\">Fundación General</a></li>\n",
      "<li><a href=\"http://www.ucm.es/ucm-en-linea\" title=\"Servicios UCM en línea\">Servicios UCM en línea</a></li>\n",
      "<li id=\"1421\"><a href=\"https://informatica.ucm.es/profesores\" title=\"Información a Profesores\">Información a Profesores</a></li>\n",
      "</ul>\n",
      "</nav>\n",
      "</div>\n",
      "<div class=\"col-sm-4 col-xs-12\">\n",
      "<nav id=\"pie_2\">\n",
      "<ul>\n",
      "<li id=\"242\"><a href=\"http://informatica.ucm.es/laboratorios-fdi\" title=\"Laboratorios FdI\">Laboratorios FdI</a></li>\n",
      "<li id=\"1393\"><a href=\"https://www.fdi.ucm.es/Account/\" title=\"Portal FDI\">Portal FDI</a></li>\n",
      "<li id=\"1303\"><a href=\"http://Informatica.ucm.es/buzon-de-sugerencias-y-quejas\" title=\"Sugerencias y Quejas\">Sugerencias y Quejas</a></li>\n",
      "</ul>\n",
      "</nav>\n",
      "</div>\n",
      "<div class=\"col-sm-4 col-xs-12 cei\">\n",
      "<a href=\"http://www.campusmoncloa.es/\" target=\"_blank\" title=\"CAMPUS DE EXCELENCIA INTERNACIONAL\"><img src=\"/themes/ucm16/media/img/cei.jpg\" alt=\"CAMPUS DE EXCELENCIA INTERNACIONAL\" /></a>\n",
      "</div>\n",
      "</div>\n",
      "</div>\n",
      "<div class=\"container\">\n",
      "<div class=\"row\" id=\"pie_contacto\">\n",
      "<div class=\"col-sm-3 col-xs-12\">&copy; Universidad Complutense Madrid</div>\n",
      "<div class=\"col-sm-3 col-xs-12\"><a href=\"/contacto\" title=\"Localización y contacto\">Localización y contacto</a></div>\n",
      "<div class=\"col-sm-3 col-xs-12\"><a href=\"/aviso-legal\" title=\"Aviso Legal\">Aviso Legal</a></div>\n",
      "<div class=\"col-sm-3 col-xs-12\"><a href=\"http://informatica.ucm.es/rss/rss.php?weid=26\" title=\"RSS\">RSS</a></div>\n",
      "</div>\n",
      "</div>\n",
      "</footer>\n",
      "<script type=\"text/javascript\" src=\"/themes/ucm16/js/jquery.min.js\"></script>\n",
      "<script type=\"text/javascript\" src=\"/themes/ucm16/js/bootstrap.js\"></script>\n",
      "<script type=\"text/javascript\" src=\"/themes/ucm16/js/ucm.js\"></script>\n",
      "<script type=\"text/javascript\">\n",
      "(function(i,s,o,g,r,a,m){i['GoogleAnalyticsObject']=r;i[r]=i[r]||function(){\n",
      "(i[r].q=i[r].q||[]).push(arguments)},i[r].l=1*new Date();a=s.createElement(o),\n",
      "m=s.getElementsByTagName(o)[0];a.async=1;a.src=g;m.parentNode.insertBefore(a,m)\n",
      "})(window,document,'script','//www.google-analytics.com/analytics.js','ga');\n",
      "ga('create', 'UA-299350-23', 'ucm.es');\n",
      "ga('create', 'UA-299350-1', 'ucm.es', 'ucmHistorico');\n",
      "ga('send', 'pageview');\n",
      "ga('ucmHistorico.send', 'pageview');\n",
      "setTimeout(\"ga('send','event','NoBounce','page visit over 5 seconds')\",5000);\n",
      "</script>\n",
      "\n",
      "</body>\n",
      "</html>\n"
     ]
    }
   ],
   "source": [
    "import urllib.request\n",
    "\n",
    "manf = urllib.request.urlopen('http://informatica.ucm.es')\n",
    "for line in manf:\n",
    "    print(line.decode().strip())"
   ]
  },
  {
   "cell_type": "markdown",
   "metadata": {
    "collapsed": true
   },
   "source": [
    "En el siguiente programa se procesa la información de un página web y se calcula la frecuencia de cada palabra:"
   ]
  },
  {
   "cell_type": "code",
   "execution_count": 2,
   "metadata": {
    "collapsed": false
   },
   "outputs": [
    {
     "name": "stdout",
     "output_type": "stream",
     "text": [
      "{b'<!DOCTYPE': 1, b'html>': 1, b'<html': 1, b'lang=\"es\">': 1, b'<head>': 1, b'<meta': 5, b'charset=\"UTF-8\"': 1, b'/>': 14, b'http-equiv=\"X-UA-Compatible\"': 1, b'content=\"IE=edge\">': 1, b'name=\"viewport\"': 1, b'content=\"width=device-width,': 1, b'initial-scale=1\">': 1, b'<title>Facultad': 1, b'de': 42, b'Inform\\xc3\\xa1tica</title>': 1, b'name=\"description\"': 1, b'content=\"La': 1, b'Universidad': 3, b'Complutense': 5, b'Madrid': 1, b'es': 1, b'una': 3, b'instituci\\xc3\\xb3n': 1, b'larga': 1, b'trayectoria': 1, b'y': 20, b'amplio': 1, b'reconocimiento': 1, b'social': 1, b'que': 2, b'aspira': 1, b'a': 4, b'situarse': 1, b'entre': 1, b'las': 3, b'primeras': 1, b'universidades': 1, b'Europa': 1, b'consolidarse': 1, b'como': 2, b'centro': 1, b'referencia': 1, b'para': 4, b'el': 5, b'continente': 1, b'latinoamericano\"': 1, b'name=\"keywords\"': 1, b'content=\"Universidad': 1, b'Madrid,': 1, b'Complutense,': 1, b'UCM,': 1, b'Educaci\\xc3\\xb3n,': 1, b'Innovaci\\xc3\\xb3n,': 1, b'excelencia,': 1, b'Formaci\\xc3\\xb3n,': 1, b'Grado,': 1, b'M\\xc3\\xa1ster,': 1, b'Doctorado,': 1, b'Postgrado\"': 1, b'<link': 9, b'rel=\"apple-touch-icon\"': 1, b'href=\"/themes/ucm16/media/img/logoucm.ico\"': 3, b'rel=\"shortcut': 1, b'icon\"': 1, b'rel=\"icon\"': 1, b'type=\"text/css\"': 6, b'media=\"screen\"': 4, b'rel=\"stylesheet\"': 6, b'href=\"/themes/ucm16/css/bootstrap.css\"': 1, b'media=\"all\"': 1, b'href=\"/themes/ucm16/css/font-awesome.min.css\"': 1, b'href=\"/themes/ucm16/css/ucm-theme.css\"': 1, b'href=\"/themes/ucm16/css/ucm.css\"': 1, b'href=\"/themes/ucm16/css/ucm-wg.css\"': 1, b'media=\"print\"': 1, b'href=\"/themes/ucm16/css/print.css\"': 1, b'</head>': 1, b'<body>': 1, b'<header>': 1, b'<div': 65, b'id=\"barra\">': 1, b'class=\"container\">': 4, b'<ul': 13, b'class=\"ul-menu\">': 1, b'<li>': 3, b'id=\"buscador\">': 1, b'<form': 1, b'action=\"http://informatica.ucm.es/buscador\"': 1, b'method=\"get\"': 1, b'class=\"posicion_buscar': 1, b'form-inline\"': 1, b'id=\"formbuscador\">': 1, b'<label': 1, b'for=\"search\"': 1, b'class=\"hidden\">Buscar': 1, b'en': 14, b'la': 11, b'web</label>': 1, b'<input': 1, b'type=\"search\"': 1, b'id=\"search\"': 1, b'name=\"search\"': 1, b'placeholder=\"Buscar': 1, b'web\"': 2, b'required': 1, b'<button': 4, b'type=\"submit\"': 1, b'class=\"botonbusca\"': 1, b'id=\"btsearch\"': 1, b'title=\"Buscar': 2, b'aria-label=\"Buscar': 1, b'web\"><span': 1, b'class=\"fa': 10, b'fa-search\"': 1, b'aria-hidden=\"true\"': 8, b'web\"></span></button>': 1, b'</form>': 1, b'class=\"botoncerrar\"': 1, b'id=\"cerrar_buscador\"': 1, b'aria-label=\"Cerrar': 1, b'buscador\"><span': 1, b'fa-times\"': 1, b'title=\"Cerrar': 1, b'buscador\"></span></button>': 1, b'</div>': 48, b'</li>': 9, b'<nav': 5, b'class=\"navbar\"': 1, b'role=\"navigation\"': 2, b'id=\"menusuperior\">': 1, b'class=\"navbar-header\">': 2, b'type=\"button\"': 2, b'class=\"navbar-toggle\"': 2, b'data-toggle=\"collapse\"': 2, b'data-target=\".navbar-sup-collapse\"': 1, b'id=\"collapse-personal\">': 1, b'<span': 4, b'class=\"sr-only\">Desplegar': 2, b'navegaci\\xc3\\xb3n</span>': 2, b'fa-user': 1, b'fa-2x\"></span>': 1, b'</button>': 2, b'id=\"contenido-menusuperior\"': 1, b'class=\"collapse': 2, b'navbar-collapse': 2, b'navbar-sup-collapse\">': 1, b'class=\"nav': 2, b'navbar-nav\"': 1, b'>': 1, b'<li': 15, b'class=\"iniciasesion\"><a': 1, b'href=\"https://www.ucm.es/login_sso/\"': 1, b'title=\"Navegar': 1, b'identificado\">Navegar': 1, b'identificado</a></li>': 1, b'</ul>': 15, b'</nav>': 5, b'id=\"lg_items\">': 1, b'class=\"container\"': 1, b'id=\"cabecera\">': 1, b'class=\"row\">': 3, b'class=\"col-lg-5': 1, b'col-sm-5': 1, b'col-xs-12\"': 4, b'id=\"logo\">': 1, b'<a': 8, b'href=\"https://www.ucm.es/\"': 1, b'title=\"Universidad': 2, b'Madrid\">': 1, b'<img': 1, b'src=\"/themes/ucm16/media/img/logo.png\"': 1, b'alt=\"ucm\"': 1, b'Madrid\"': 1, b'</a>': 1, b'class=\"col-lg-7': 1, b'col-sm-7': 1, b'id=\"titulo_website\">': 1, b'<h1': 7, b'class=\"web_title\"': 1, b'style=\"font-size:': 1, b'2.1em;\"><a': 1, b'href=\"http://informatica.ucm.es/\"': 1, b'title=\"Portada': 1, b'-': 1, b'Facultad': 5, b'Inform\\xc3\\xa1tica\">Facultad': 1, b'Inform\\xc3\\xa1tica</a></h1>': 1, b'</header>': 1, b'class=\"container': 2, b'navbar': 1, b'navbar-default\"': 1, b'id=\"menu\">': 1, b'data-target=\".navbar-ex1-collapse\"': 1, b'id=\"botonmenu\">': 1, b'fa-bars\"></span>': 1, b'navbar-ex1-collapse\">': 1, b'nav-justified\"': 1, b'id=\"contenidomenu\">': 1, b'class=\"dropdown': 6, b'resalte': 6, b'lead\">': 6, b'title=\"Facultad\"': 2, b'href=\"/facultad\"': 2, b'class=\"dropdown-toggle\"': 5, b'data-toggle=\"dropdown\">Facultad</a>': 1, b'class=\"dropdown-menu\"': 6, b'role=\"menu\">': 6, b'<li><a': 34, b'title=\"Presentaci\\xc3\\xb3n\"': 1, b'href=\"/presentacion\">Presentaci\\xc3\\xb3n</a></li>': 1, b'title=\"Gobierno\"': 1, b'href=\"/gobierno\">Gobierno</a></li>': 1, b'title=\"Organizaci\\xc3\\xb3n\"': 1, b'href=\"/departamentos_1\">Organizaci\\xc3\\xb3n</a></li>': 1, b'aria-label=\"Facultad\"><span': 1, b'fa-plus-circle\"': 6, b'title=\"Facultad\"></span></a></li>': 1, b'title=\"Titulaciones\"': 2, b'href=\"/estudiar\"': 2, b'data-toggle=\"dropdown\">Titulaciones</a>': 1, b'title=\"Grado\"': 1, b'href=\"/grado\">Grado</a></li>': 1, b'title=\"M\\xc3\\xa1ster\"': 1, b'href=\"/master\">M\\xc3\\xa1ster</a></li>': 1, b'title=\"Doctorado\"': 1, b'href=\"/doctorado\">Doctorado</a></li>': 1, b'title=\"T\\xc3\\xadtulos': 1, b'propios\"': 1, b'href=\"/titulos-propios\">T\\xc3\\xadtulos': 1, b'propios</a></li>': 1, b'aria-label=\"Titulaciones\"><span': 1, b'title=\"Titulaciones\"></span></a></li>': 1, b'title=\"Estudiantes\"': 2, b'href=\"/estudiantes\"': 2, b'data-toggle=\"dropdown\">Estudiantes</a>': 1, b'title=\"Programacion': 1, b'docente\"': 1, b'href=\"/programacion-docente\">Programacion': 1, b'docente</a></li>': 1, b'title=\"Pr\\xc3\\xa1cticas': 1, b'empresas\"': 1, b'href=\"/practicas-de-formacion\">Pr\\xc3\\xa1cticas': 1, b'empresas</a></li>': 1, b'title=\"Mentor\\xc3\\xadas': 1, b'acad\\xc3\\xa9micas\"': 1, b'href=\"/mentorias-academicas\">Mentor\\xc3\\xadas': 1, b'acad\\xc3\\xa9micas</a></li>': 1, b'title=\"Secretar\\xc3\\xada': 1, b'Alumnos\"': 1, b'href=\"/secretaria\">Secretar\\xc3\\xada': 1, b'Alumnos</a></li>': 1, b'title=\"Movilidad\"': 1, b'href=\"/programas-de-movilidad\">Movilidad</a></li>': 1, b'aria-label=\"Estudiantes\"><span': 1, b'title=\"Estudiantes\"></span></a></li>': 1, b'title=\"Servicios\"': 2, b'href=\"/asistencia\"': 2, b'data-toggle=\"dropdown\">Servicios</a>': 1, b'title=\"Infraestructuras\"': 1, b'href=\"/infraestructuras\">Infraestructuras</a></li>': 1, b'title=\"Biblioteca\"': 1, b'href=\"http://biblioteca.ucm.es/fdi\">Biblioteca</a></li>': 1, b'title=\"Campus': 1, b'Virtual\"': 1, b'href=\"https://cv.ucm.es/CampusVirtual/jsp/index.jsp\">Campus': 1, b'Virtual</a></li>': 1, b'title=\"Sede': 2, b'Electr\\xc3\\xb3nica\"': 1, b'href=\"https://e-administracion.ucm.es/\">Sede': 1, b'Electr\\xc3\\xb3nica</a></li>': 2, b'title=\"M\\xc3\\xa1s...\"': 3, b'href=\"http://informatica.ucm.es/asistencia\">M\\xc3\\xa1s...</a></li>': 1, b'aria-label=\"Servicios\"><span': 1, b'title=\"Servicios\"></span></a></li>': 1, b'title=\"Investigaci\\xc3\\xb3n\"': 3, b'href=\"/investigacion\"': 3, b'data-toggle=\"dropdown\">Investigaci\\xc3\\xb3n</a>': 1, b'title=\"Grupos': 2, b'l\\xc3\\xadneas': 4, b'Investigaci\\xc3\\xb3n\"': 2, b'href=\"/grupos-y-lineas-de-investigacion\">Grupos': 2, b'Investigaci\\xc3\\xb3n</a></li>': 2, b'title=\"OAI\"': 2, b'href=\"/oai\">OAI</a></li>': 2, b'href=\"http://informatica.ucm.es/investigacion\">M\\xc3\\xa1s...</a></li>': 2, b'aria-label=\"Investigaci\\xc3\\xb3n\"><span': 2, b'title=\"Investigaci\\xc3\\xb3n\"></span></a></li>': 2, b'title=\"Sugerencias\"': 1, b'href=\"/buzon-de-sugerencias-y-quejas\"': 1, b'class=\"dropdown-toggle\">Sugerencias</a>': 1, b'<main': 1, b'id=\"portada\">': 1, b'class=\"col-sm-8': 1, b'id=\"marco_01\">': 1, b'class=\"column\"': 2, b'id=\"lista_1\">': 1, b'class=\"wg_txt\">': 6, b'<div>': 6, b'id=\"not_principal\"': 4, b'class=\"remove_wg_text\"': 4, b'style=\"width:': 18, b'100%;': 4, b'font-weight:': 7, b'bold;': 3, b'background-color:': 17, b'#000000;': 4, b'background:': 4, b'rgba(0,': 4, b'0,': 8, b'0.8);': 4, b'border:': 17, b'1px': 17, b'solid': 17, b'#808080;': 4, b'color:': 7, b'#ffffff;': 4, b'font-size:': 23, b'1.1em;': 4, b'padding:': 4, b'12px;\">': 4, b'class=\"menu_pag\"': 1, b'style=\"padding-left:': 3, b'0px;\">': 1, b'style=\"list-style:': 5, b'none;\">': 1, b'none;': 8, b'background-image:': 4, b'padding-left:': 6, b'0px;\"><a': 4, b'style=\"color:': 21, b'#f8cd1e;': 7, b'padding-right:': 4, b'10px;\"': 4, b'title=\"Eventos': 1, b'conferencias': 1, b'Inform&aacute;tica\"': 5, b'href=\"http://informatica.ucm.es/eventos-y-conferencias\">Calendario': 1, b'eventos': 2, b'conferencias</a></li>': 1, b'title=\"Delegaci&oacute;n': 1, b'alumnos': 1, b'asociaciones': 1, b'href=\"https://informatica.ucm.es/delegacion-y-asociaciones\">Delegaci&oacute;n': 1, b'asociaciones</a></li>': 1, b'title=\"Museo': 1, b'inform&aacute;tica': 1, b'Garc&iacute;a': 1, b'Santesmases\"': 1, b'href=\"http://www.fdi.ucm.es/migs/\"': 1, b'target=\"_blank\">Museo': 1, b'</a></li>': 1, b'title=\"Revista': 1, b'Ciencia': 1, b'Ficci&oacute;n': 1, b'href=\"http://www.ucm.es/BUCM/revcul/sci-fdi/\"': 1, b'target=\"_blank\">Sci_Fdi</a></li>': 1, b'<p>': 2, b'<script': 6, b'type=\"text/javascript\">//': 2, b'<![CDATA[': 2, b'(function': 1, b'()': 4, b'{': 13, b'//Carga': 1, b'din\\xc3\\xa1mica': 1, b'un': 1, b'script': 3, b'//Recibe': 1, b'par\\xc3\\xa1metro': 1, b'URL': 1, b'del': 1, b'funci\\xc3\\xb3n': 1, b'llamar': 1, b'vez': 1, b'cargado': 1, b'function': 5, b'loadScript(url,': 1, b'callback)': 1, b'var': 2, b'=': 7, b'document.createElement(\"script\")': 1, b'script.type': 1, b'\"text/javascript\";': 1, b'if': 3, b'(script.readyState)': 1, b'//IE': 1, b'script.onreadystatechange': 2, b'(script.readyState': 1, b'==': 2, b'\"loaded\"': 1, b'||': 1, b'script.readyState': 1, b'\"complete\")': 1, b'null;': 1, b'callback();': 2, b'}': 7, b'};': 2, b'else': 2, b'//Others': 1, b'script.onload': 1, b'script.src': 1, b'url;': 1, b'document.getElementsByTagName(\"head\")[0].appendChild(script);': 1, b'//Funci\\xc3\\xb3n': 1, b'ejecutar': 1, b'c\\xc3\\xb3digo': 1, b'jQuery': 2, b'deseado': 1, b'instancia': 1, b'se\\xc3\\xb1alada': 1, b'payload(jq)': 1, b\"jq('.remove_wg_txt').each(function(idx){\": 1, b'jq(this).parent().parent().css(\"background-color\",': 1, b'\"transparent\");': 1, b'jq(this).parent().parent().attr(\"style\",': 1, b'\"background-color:': 2, b'transparent': 2, b'!important\");': 2, b'});': 4, b'jq(\\'.wg_txt\\').attr(\"style\",': 1, b'//Inyecci\\xc3\\xb3n': 1, b'segura': 1, b'sin': 1, b'conflictos': 1, b'(!': 1, b'window.jQuery)': 1, b'//Si': 2, b'no': 1, b'hay': 2, b'jQuery,': 2, b'lo': 1, b'cargamos': 1, b'ejecutamos': 2, b'payload.': 1, b'loadScript(\"//ajax.googleapis.com/ajax/libs/jquery/2.1.1/jquery.min.js\",': 1, b'jq': 1, b'jQuery.noConflict();': 1, b'jq(document).ready(function()': 1, b'payload(jq);': 1, b'ya': 1, b'payload': 1, b'jQuery(document).ready(function()': 1, b'payload(jQuery);': 1, b'})();': 1, b'//': 2, b']]></script>': 2, b'</p>': 2, b'class=\"spacer\"><br/></div>': 6, b'18px;\">': 4, b'style=\"text-align:': 12, b'center;': 19, b'1.2em;\">Grados': 1, b'Oficiales': 1, b'Inform&aacute;tica</h1>': 1, b'<p': 6, b'left;': 14, b'width:': 2, b'80%;\">Informaci&oacute;n': 1, b'general</p>': 1, b'30%;': 6, b'text-align:': 14, b'float:': 11, b'0.7em;': 13, b'#800000;': 13, b'#e9b3b3;': 13, b'margin-right:': 10, b'10px;': 4, b'margin-bottom:': 13, b'25px;': 13, b'overflow:': 13, b'hidden;': 13, b'padding-top:': 13, b'15px;': 11, b'padding-bottom:': 13, b'15px;\"><a': 11, b'#ffffff;\"': 16, b'href=\"https://informatica.ucm.es/estudios/grado-ingenieriainformatica\">Ingenier&iacute;a': 1, b'Inform&aacute;tica<br': 2, b'/>(con': 1, b'grupo': 1, b'biling&uuml;e)</a></div>': 1, b'href=\"https://informatica.ucm.es/estudios/grado-ingenieriadelsoftware\">Ingenier&iacute;a<br': 1, b'/>del': 1, b'Software</a></div>': 1, b'href=\"https://informatica.ucm.es/estudios/grado-ingenieriadecomputadores\">Ingenier&iacute;a<br': 1, b'/>de': 2, b'Computadores</a></div>': 1, b'style=\"clear:': 4, b'both;': 2, b'href=\"https://informatica.ucm.es/estudios/grado-videojuegos\">Desarrollo': 1, b'de<br': 1, b'/>Videojuegos</a></div>': 2, b'href=\"https://informatica.ucm.es/estudios/grado-informaticaymatematicas\">Ingenier&iacute;a': 1, b'/>y': 3, b'Matem&aacute;ticas</a></div>': 1, b'href=\"https://informatica.ucm.es/estudios/grado-adeinginformatica\">Inform&aacute;tica': 1, b'Administraci&oacute;n<br': 1, b'Direcci&oacute;n': 1, b'empresas</a></div>': 1, b'both;\">': 2, b'0.8em;': 3, b'bold;\"><a': 3, b'href=\"https://informatica.ucm.es/futuros-estudiantes-1\">Informaci&oacute;n': 1, b'inter&eacute;s': 1, b'futuros': 1, b'estudiantes</a></h1>': 1, b'href=\"https://www.ucm.es/proceso-general-de-preinscripcion-y-admision\">Tutoriales': 1, b'sobre': 1, b'proceso': 1, b'admisi&oacute;n': 1, b'matr&iacute;cula</a></h1>': 1, b'1.2em;\">Conoce': 1, b'nuestros': 1, b'estudios': 1, b'M&aacute;ster</h1>': 1, b'80%;\">T&iacute;tulos': 1, b'oficiales</p>': 1, b'32%;': 3, b'1%;': 5, b'23px;': 2, b'22px;\"><a': 2, b'href=\"https://informatica.ucm.es/estudios/master-ingenieriainformatica\">Ingenier&iacute;a': 1, b'Inform&aacute;tica</a></div>': 1, b'href=\"https://informatica.ucm.es/estudios/master-ingenieriadesistemas\">Ingenier&iacute;a': 1, b'Sistemas<br': 1, b'Control': 1, b'</a></div>': 1, b'href=\"https://informatica.ucm.es/estudios/master-internetcosas\">Internet': 1, b'cosas</a></div>': 1, b'style=\"position:': 1, b'static;': 1, b'bold;\">T&iacute;tulos': 1, b'propios</p>': 1, b'23%;': 4, b'href=\"https://informatica.ucm.es/titulos-propios#desarrolloJuegos\">Desarrollo': 1, b'<br': 1, b'href=\"https://informatica.ucm.es/titulos-propios#dise&ntilde;oJuegos\">Dise&ntilde;o': 1, b'Desarrollo<br': 1, b'Videojuegos</a></div>': 2, b'href=\"https://informatica.ucm.es/titulos-propios#arteDigital\">Arte': 1, b'digital<br': 1, b'/>para': 1, b'href=\"https://informatica.ucm.es/titulos-propios#seguridad\">Direcci&oacute;n': 1, b'seguridad<br': 1, b'/>Inform&aacute;tica</a></div>': 1, b'href=\"https://informatica.ucm.es/master\">Ver': 1, b'todas': 1, b'titulaciones': 1, b'M&aacute;ster</a></h1>': 1, b'class=\"col-sm-4': 4, b'id=\"marco_02\">': 1, b'id=\"lista_2\">': 1, b'<p><img': 1, b'src=\"https://informatica.ucm.es/data/cont/media/portada/fijas/26-portada-1.jpg\"': 1, b'alt=\"Facultad': 1, b'/></p>': 1, b'1.2em;\">La': 1, b'FDI': 1, b'cumple': 1, b'25': 1, b'a&ntilde;os</h1>': 1, b'center;\"><a': 3, b'white;\"': 1, b'onmouseover=\"this.style.color=\\'red\\';\"': 1, b'onmouseout=\"this.style.color=\\'white\\';\"': 1, b'href=\"https://informatica.ucm.es/xxv-aniversario-de-la-facultad\">Participa': 1, b'los': 1, b'hemos': 1, b'preparado</a></p>': 1, b'<!--': 1, b'Twitter': 1, b'cursos': 1, b'-->': 1, b'80%;\">': 1, b'class=\"remove_wg_txt\"': 1, b'class=\"twitter-follow-button\"': 1, b'style=\"margin-left:': 1, b'auto;': 1, b'auto;\"': 1, b'href=\"https://twitter.com/informaticaucm\">Follow': 1, b'@informaticaucm</a></p>': 1, b'!function(d,s,id){var': 1, b\"js,fjs=d.getElementsByTagName(s)[0],p=/^http:/.test(d.location)?'http':'https';if(!d.getElementById(id)){js=d.createElement(s);js.id=id;js.src=p+'://platform.twitter.com/widgets.js';fjs.parentNode.insertBefore(js,fjs);}}(document,\": 1, b\"'script',\": 1, b\"'twitter-wjs');\": 1, b'href=\"http://www.ucm.es/csim\"': 1, b'target=\"_blank\"><img': 4, b'src=\"/data/cont/media/www/pag-804/logo%20CSIM.jpg\"': 1, b'alt=\"Logo': 2, b'Centro': 1, b'Superior': 1, b'Idiomas': 1, b'Modernos\"': 1, b'width=\"80\"': 2, b'height=\"75\"': 1, b'/></a>&nbsp;<a': 1, b'center;\"': 1, b'href=\"http://www.fdi.ucm.es/cfi/\"': 1, b'src=\"/data/cont/media/www/pag-804/logoCFI1.png\"': 1, b'Cursos': 1, b'Formaci&oacute;n': 1, b'height=\"79\"': 1, b'/></a></p>': 1, b'class=\"wg_include\"><object': 1, b\"width='100%'\": 2, b\"height='800px'\": 1, b\"data='https://web.fdi.ucm.es/Avisos_Der.aspx?tipo=8'\": 1, b'><param': 1, b\"name='allowfullscreen'\": 1, b\"value='true'\": 1, b'/><param': 2, b\"name='allowscriptaccess'\": 1, b\"value='always'\": 1, b\"name='movie'\": 1, b\"value='https://web.fdi.ucm.es/Avisos_Der.aspx?tipo=8'\": 1, b'/><embed': 1, b\"src='https://web.fdi.ucm.es/Avisos_Der.aspx?tipo=8'\": 1, b\"type='text/html'\": 1, b\"allowscriptaccess='always'\": 1, b\"allowfullscreen='true'\": 1, b\"height='100%'></embed></object>\": 1, b'</main>': 1, b'text-center\">': 1, b'class=\"redes\">': 1, b'id=\"link_yb\"': 1, b'href=\"https://www.youtube.com/user/finformaticaucm\"': 1, b'class=\"redsocial\"': 2, b'alt=\"youtube\"': 1, b'src=\"/themes/ucm16/media/img/youtube.png\"': 1, b'/></a></li>': 2, b'id=\"link_tw\"': 1, b'href=\"https://twitter.com/informaticaucm\"': 1, b'alt=\"twitter\"': 1, b'src=\"/themes/ucm16/media/img/twitter.png\"': 1, b'<footer': 1, b'id=\"pie\">': 1, b'col-xs-12\">': 2, b'id=\"pie_1\">': 1, b'<ul>': 2, b'href=\"https://e-administracion.ucm.es/\"': 1, b'Electr\\xc3\\xb3nica\">Sede': 1, b'href=\"http://www.ucm.es/fundacion\"': 1, b'title=\"Fundaci\\xc3\\xb3n': 1, b'General\">Fundaci\\xc3\\xb3n': 1, b'General</a></li>': 1, b'href=\"http://www.ucm.es/ucm-en-linea\"': 1, b'title=\"Servicios': 1, b'UCM': 2, b'l\\xc3\\xadnea\">Servicios': 1, b'l\\xc3\\xadnea</a></li>': 1, b'id=\"1421\"><a': 1, b'href=\"https://informatica.ucm.es/profesores\"': 1, b'title=\"Informaci\\xc3\\xb3n': 1, b'Profesores\">Informaci\\xc3\\xb3n': 1, b'Profesores</a></li>': 1, b'id=\"pie_2\">': 1, b'id=\"242\"><a': 1, b'href=\"http://informatica.ucm.es/laboratorios-fdi\"': 1, b'title=\"Laboratorios': 1, b'FdI\">Laboratorios': 1, b'FdI</a></li>': 1, b'id=\"1393\"><a': 1, b'href=\"https://www.fdi.ucm.es/Account/\"': 1, b'title=\"Portal': 1, b'FDI\">Portal': 1, b'FDI</a></li>': 1, b'id=\"1303\"><a': 1, b'href=\"http://Informatica.ucm.es/buzon-de-sugerencias-y-quejas\"': 1, b'title=\"Sugerencias': 1, b'Quejas\">Sugerencias': 1, b'Quejas</a></li>': 1, b'col-xs-12': 1, b'cei\">': 1, b'href=\"http://www.campusmoncloa.es/\"': 1, b'target=\"_blank\"': 1, b'title=\"CAMPUS': 1, b'DE': 2, b'EXCELENCIA': 2, b'INTERNACIONAL\"><img': 1, b'src=\"/themes/ucm16/media/img/cei.jpg\"': 1, b'alt=\"CAMPUS': 1, b'INTERNACIONAL\"': 1, b'/></a>': 1, b'class=\"row\"': 1, b'id=\"pie_contacto\">': 1, b'class=\"col-sm-3': 4, b'col-xs-12\">&copy;': 1, b'Madrid</div>': 1, b'col-xs-12\"><a': 3, b'href=\"/contacto\"': 1, b'title=\"Localizaci\\xc3\\xb3n': 1, b'contacto\">Localizaci\\xc3\\xb3n': 1, b'contacto</a></div>': 1, b'href=\"/aviso-legal\"': 1, b'title=\"Aviso': 1, b'Legal\">Aviso': 1, b'Legal</a></div>': 1, b'href=\"http://informatica.ucm.es/rss/rss.php?weid=26\"': 1, b'title=\"RSS\">RSS</a></div>': 1, b'</footer>': 1, b'type=\"text/javascript\"': 3, b'src=\"/themes/ucm16/js/jquery.min.js\"></script>': 1, b'src=\"/themes/ucm16/js/bootstrap.js\"></script>': 1, b'src=\"/themes/ucm16/js/ucm.js\"></script>': 1, b'type=\"text/javascript\">': 1, b\"(function(i,s,o,g,r,a,m){i['GoogleAnalyticsObject']=r;i[r]=i[r]||function(){\": 1, b'(i[r].q=i[r].q||[]).push(arguments)},i[r].l=1*new': 1, b'Date();a=s.createElement(o),': 1, b'm=s.getElementsByTagName(o)[0];a.async=1;a.src=g;m.parentNode.insertBefore(a,m)': 1, b\"})(window,document,'script','//www.google-analytics.com/analytics.js','ga');\": 1, b\"ga('create',\": 2, b\"'UA-299350-23',\": 1, b\"'ucm.es');\": 1, b\"'UA-299350-1',\": 1, b\"'ucm.es',\": 1, b\"'ucmHistorico');\": 1, b\"ga('send',\": 1, b\"'pageview');\": 2, b\"ga('ucmHistorico.send',\": 1, b'setTimeout(\"ga(\\'send\\',\\'event\\',\\'NoBounce\\',\\'page': 1, b'visit': 1, b'over': 1, b'5': 1, b'seconds\\')\",5000);': 1, b'</script>': 1, b'</body>': 1, b'</html>': 1}\n"
     ]
    }
   ],
   "source": [
    "import urllib.request\n",
    "contadores=dict()\n",
    "manf = urllib.request.urlopen('http://informatica.ucm.es')\n",
    "for linea in manf:\n",
    "    palabras=linea.split()\n",
    "    for palabra in palabras:\n",
    "        contadores[palabra]=contadores.get(palabra,0)+1\n",
    "print (contadores)"
   ]
  },
  {
   "cell_type": "markdown",
   "metadata": {},
   "source": [
    "La librería urllib también se puede utilizar para recuperar ficheros que no son de texto  como un archivo de imagen o de video, y para los que se requiere hacer una copia de la URL en un archivo local.\n",
    "\n",
    "En estos casos se usa el método read para descargar el contenido completo del documento en una variable de tipo cadena y luego escribir la información a un archivo local."
   ]
  },
  {
   "cell_type": "code",
   "execution_count": 5,
   "metadata": {
    "collapsed": true
   },
   "outputs": [],
   "source": [
    "import urllib.request\n",
    "img = urllib.request.urlopen('https://www.vialibre-ffe.com/multimedia/galerias/trenesdeantes/03.jpg').read()\n",
    "manf=open(\"portada.jpg\",\"wb\")\n",
    "manf.write(img)\n",
    "manf.close()"
   ]
  },
  {
   "cell_type": "markdown",
   "metadata": {},
   "source": [
    "El programa lee todos los datos de una sola vez a través de la red y los almacena en la variable img en la memoria principal  y luego abre el fichero portada.jpg y escribe los datos en el disco. Esto funciona sólo si el tamaño del fichero es menor que el tamaño de la memoria del PC."
   ]
  },
  {
   "cell_type": "code",
   "execution_count": 6,
   "metadata": {
    "collapsed": false
   },
   "outputs": [
    {
     "data": {
      "image/jpeg": "[encoded data removed]",
      "text/plain": [
       "<IPython.core.display.Image object>"
      ]
     },
     "execution_count": 6,
     "metadata": {},
     "output_type": "execute_result"
    }
   ],
   "source": [
    "from IPython.display import Image\n",
    "Image(filename='portada.jpg')"
   ]
  },
  {
   "cell_type": "markdown",
   "metadata": {},
   "source": [
    "Pero si se trata de un fichero demasiado grande el programa puede fallar cuando el equipo se quede sin memoria. Para evitar agotar la memoria, se puede recuperar los datos en bloques, y luego escribir cada bloque en el disco antes de recuperar el siguiente. De este modo el programa puede leer archivos de cualquier tamaño sin usar toda la memoria del equipo.\n",
    "\n",
    "En este ejemplo, se leen 100.000 caracteres cada vez y luego se escriben esos caracteres en el archivo portada.jpg, antes de recuperar los 100.000 caracteres siguientes."
   ]
  },
  {
   "cell_type": "code",
   "execution_count": 9,
   "metadata": {
    "collapsed": false
   },
   "outputs": [
    {
     "name": "stdout",
     "output_type": "stream",
     "text": [
      "68100  caracteres copiados\n"
     ]
    }
   ],
   "source": [
    "import urllib.request\n",
    "img = urllib.request.urlopen('https://www.vialibre-ffe.com/multimedia/galerias/trenesdeantes/03.jpg')\n",
    "manf=open(\"portada.jpg\",\"wb\")\n",
    "tamano=0\n",
    "while True:\n",
    "    info=img.read(100000)\n",
    "    if len(info)<1:\n",
    "        break\n",
    "    tamano=tamano+len(info)\n",
    "    manf.write(info)\n",
    "print(tamano,\" caracteres copiados\")\n",
    "manf.close()"
   ]
  },
  {
   "cell_type": "markdown",
   "metadata": {},
   "source": [
    "Una versión más sofisticada sería:"
   ]
  },
  {
   "cell_type": "code",
   "execution_count": 11,
   "metadata": {
    "collapsed": false
   },
   "outputs": [
    {
     "name": "stdout",
     "output_type": "stream",
     "text": [
      "Entrar una url\n",
      "https://www.vialibre-ffe.com/multimedia/galerias/trenesdeantes/17.jpg\n",
      "¿Reemplazar archivo  S/n?S\n",
      "Reemplazando datos 17.jpg\n",
      "90044  caracteres copiados  17.jpg\n"
     ]
    }
   ],
   "source": [
    "import os\n",
    "import urllib.request\n",
    "print (\"Entrar una url\")\n",
    "urlstr=input().strip()\n",
    "img = urllib.request.urlopen(urlstr)\n",
    "words=urlstr.split('/')\n",
    "fname=words[-1]\n",
    "\n",
    "if os.path.exists(fname):\n",
    "    if input(\"¿Reemplazar archivo \"+\" S/n?\")!=\"S\":\n",
    "        print (\"Datos no copiados\")\n",
    "        exit()\n",
    "    print (\"Reemplazando datos\",fname)\n",
    "\n",
    "\n",
    "manf=open(fname,\"wb\")\n",
    "tamano=0\n",
    "while True:\n",
    "    info=img.read(100000)\n",
    "    if len(info)<1:\n",
    "        break\n",
    "    tamano=tamano+len(info)\n",
    "    manf.write(info)\n",
    "print(tamano,\" caracteres copiados \", fname)\n",
    "manf.close()"
   ]
  },
  {
   "cell_type": "markdown",
   "metadata": {},
   "source": [
    "__Recuperación con el módulo request__\n",
    "\n",
    "El módulo requests permite bajarse archivos de la red de una forma transparente. No se encuentra instalado por defecto con Python.\n",
    "\n",
    "La función get() del módulo requests toma una cadena que representa la url que se quiere descargar. El resultado de la llamada es un objeto de tipo Response que contiene la respuesta que el servidor web devuelve como respuesta a la petición."
   ]
  },
  {
   "cell_type": "raw",
   "metadata": {},
   "source": [
    "import request\n",
    "res=requests.get(\"http://informatica.ucm.es\")\n",
    "if res.status.code==request.codes.ok:\n",
    "    print(\"len(res.text)\")\n",
    "    print(res.text[:250])"
   ]
  },
  {
   "cell_type": "markdown",
   "metadata": {},
   "source": [
    "En el ejemplo además de recuperar la pagina descrita, se ha comprobado que la descarga se ha realizado con éxito chequeando el valor del atributo status_code del objeto Response. Si el valor que toma es requests.codes.ok significa que se ha realizado correctamente, y la descargada se ha almacenado como una cadena en la variable text del objeto Response.\n",
    "\n",
    "Otra forma de comprobar si una descarga se ha realizado con éxito consiste en utilizar el método raise_for_status() del objeto Response. Este método lanzará una excepción si se ha producido algún error en la descarga y no hará nada en caso de que la descarga se haya realizado con éxito. Es por ello que una buena práctica consiste en encerrar la llamada al método raise_for_status() entre un try/except con el objetivo de tratar los casos en que se produzca una descarga errónea."
   ]
  },
  {
   "cell_type": "raw",
   "metadata": {},
   "source": [
    "import request\n",
    "res=requests.get(\"http://informatica.ucm.es\")\n",
    "try:\n",
    "    res.raise_for_status()\n",
    "except:\n",
    "    print (\"Hubo un problema\")"
   ]
  },
  {
   "cell_type": "markdown",
   "metadata": {},
   "source": [
    "Observar que es la llamada al método __raise_for_status()__ hay que realizarlo siempre después de llamar al método __requests.get()__ dado que el objetivo es asegurarse que la descarga se realizó con éxito antes de que el programa continúe su ejecución.\n",
    "\n",
    "Una vez que ha realizado la descarga, lo que interesa es guardar el contenido en un archivo. Para ello se puede utilizar la función __open()__ y el método __write()__. En este sentido lo primero que hay que hacer es abrir un fichero en modo __“wb”__(escribir un modo binario), y a continuación escribir al fichero usando un bucle for que utilice el método __iter_content__ del objeto __Response__."
   ]
  },
  {
   "cell_type": "raw",
   "metadata": {},
   "source": [
    "import request\n",
    "res=requests.get(\"http://informatica.ucm.es\")\n",
    "try:\n",
    "    res.raise_for_status()\n",
    "    archivo=open(\"Archivo.txt\",\"wb\")\n",
    "    for bloque in res.iter_content(10000):\n",
    "       archivo.write(bloque)\n",
    "    archivo.close()\n",
    "except:\n",
    "    print (\"Hubo un problema\")"
   ]
  },
  {
   "cell_type": "markdown",
   "metadata": {},
   "source": [
    "Observar que el método iter_content recupera bloques de contenido en cada iteración a través del bucle. Cada bloque es un conjunto de bytes de datos en un tamaño igual al especificado. Así  mismo observar que el método __write()__ retorna el número de bytes escritos al fichero."
   ]
  },
  {
   "cell_type": "markdown",
   "metadata": {},
   "source": [
    "### Web Scraping"
   ]
  },
  {
   "cell_type": "markdown",
   "metadata": {},
   "source": [
    "El “web scraping” consiste en escribir un programa que finge ser un navegador web y recupera páginas, examinando luego los datos de esas páginas para encontrar ciertos patrones.\n",
    "\n",
    "Por ejemplo los buscadores:\n",
    "\n",
    "* Buscan en el código de una página web, extraen los enlaces a otras páginas y recuperan esas páginas, extrayendo los enlaces que haya en ellas y así sucesivamente. \n",
    "\n",
    "* Usan la frecuencia con que las páginas que encuentra enlazan hacia una página concreta para calcular la “importancia” de esa página, y la posición en la que debe aparecer dentro de sus resultados de búsqueda.\n",
    "\n",
    "Se van a estudiar dos formas de analizar páginas web:\n",
    "\n",
    "* Mediante expresiones regulares.\n",
    "\n",
    "* Mediante la librería BeautifulSoup.\n",
    "\n"
   ]
  },
  {
   "cell_type": "markdown",
   "metadata": {},
   "source": [
    "__Expresiones regulares__\n",
    "\n",
    "Un forma fácil de analizar HTML consiste en utilizar expresiones regulares para hacer búsquedas repetidas que extraigan subcadenas coincidentes con un modelo concreto.\n",
    "\n",
    "Considerar por ejemplo una página web que contiene enlaces y se quieren detectar dicho enlaces. Para ello se podría construir una expresión regular  que busque y extraiga los valores de los enlaces:\n",
    "\n",
    "                                  href=(\"http://.+?\")\n",
    "                  \n",
    "La expresión regular busca cadenas que comiencen por “href=”http://”, seguido de uno o más caracteres (“.+?”), seguidos por otra comilla doble. El signo de interrogación añadido a “.+?” indica que se busca la cadena coincidente más pequeña posible.  Por último se añaden paréntesis a la expresión regular para indicar qué parte de la cadena localizada se quiere extraer."
   ]
  },
  {
   "cell_type": "code",
   "execution_count": 16,
   "metadata": {
    "collapsed": false
   },
   "outputs": [
    {
     "name": "stdout",
     "output_type": "stream",
     "text": [
      "Introduzca -http://informatica.ucm.es\n",
      "http://informatica.ucm.es/\n",
      "http://biblioteca.ucm.es/fdi\n",
      "http://informatica.ucm.es/asistencia\n",
      "http://informatica.ucm.es/investigacion\n",
      "http://informatica.ucm.es/investigacion\n",
      "http://informatica.ucm.es/eventos-y-conferencias\n",
      "http://www.fdi.ucm.es/migs/\n",
      "http://www.ucm.es/BUCM/revcul/sci-fdi/\n",
      "http://www.ucm.es/csim\n",
      "http://www.fdi.ucm.es/cfi/\n",
      "http://www.ucm.es/fundacion\n",
      "http://www.ucm.es/ucm-en-linea\n",
      "http://informatica.ucm.es/laboratorios-fdi\n",
      "http://Informatica.ucm.es/buzon-de-sugerencias-y-quejas\n",
      "http://www.campusmoncloa.es/\n",
      "http://informatica.ucm.es/rss/rss.php?weid=26\n"
     ]
    }
   ],
   "source": [
    "import urllib.request\n",
    "import re\n",
    "url=input(\"Introduzca url: \")\n",
    "html=str(urllib.request.urlopen(url).read())\n",
    "enlaces=re.findall('href=\"(http://.+?)\"',html)\n",
    "for enlace in enlaces:\n",
    "    print(enlace)"
   ]
  },
  {
   "cell_type": "markdown",
   "metadata": {},
   "source": [
    "El método findall de las expresiones regulares proporciona una lista de todas las cadenas que coinciden con la expresión regular, devolviendo sólo el texto del enlace situado dentro de las comillas dobles.\n",
    "\n",
    "Las expresiones regulares funcionan bien cuando el HTML está bien formado y es predecible. Sin embargo si el HTML no está bien construido, se pueden perder parte de los enlaces correctos, o terminar obteniendo datos erróneos."
   ]
  },
  {
   "cell_type": "markdown",
   "metadata": {},
   "source": [
    "__BeautifulSoup__\n",
    "\n",
    "BeautifulSoup es un módulo para extraer información de un página web.\n",
    "\n",
    "Se puede descargar e “instalar” desde http://www.crummy.com/software/ o simplemente colocar el archivo BeautifulSoup.py en la misma carpeta que nuestra aplicación.\n",
    "\n",
    "En este ejemplo se va analizar una página web y se van a extraer todos sus enlaces. Para ello el programa solicita una dirección web, luego abre la página web usando urllib, se leen los datos y se los pasa al analizador BeautifulSoup, que recupera todas las etiquetas de anclas(a) e imprime en pantalla el atributo href de cada una de ellas."
   ]
  },
  {
   "cell_type": "code",
   "execution_count": 20,
   "metadata": {
    "collapsed": false,
    "scrolled": true
   },
   "outputs": [
    {
     "name": "stdout",
     "output_type": "stream",
     "text": [
      "Introduzca url: http://informatica.ucm.es\n",
      "https://www.ucm.es/login_sso/\n",
      "https://www.ucm.es/\n",
      "http://informatica.ucm.es/\n",
      "/facultad\n",
      "/presentacion\n",
      "/gobierno\n",
      "/departamentos_1\n",
      "/facultad\n",
      "/estudiar\n",
      "/grado\n",
      "/master\n",
      "/doctorado\n",
      "/titulos-propios\n",
      "/estudiar\n",
      "/estudiantes\n",
      "/programacion-docente\n",
      "/practicas-de-formacion\n",
      "/mentorias-academicas\n",
      "/secretaria\n",
      "/programas-de-movilidad\n",
      "/estudiantes\n",
      "/asistencia\n",
      "/infraestructuras\n",
      "http://biblioteca.ucm.es/fdi\n",
      "https://cv.ucm.es/CampusVirtual/jsp/index.jsp\n",
      "https://e-administracion.ucm.es/\n",
      "http://informatica.ucm.es/asistencia\n",
      "/asistencia\n",
      "/investigacion\n",
      "/grupos-y-lineas-de-investigacion\n",
      "/oai\n",
      "http://informatica.ucm.es/investigacion\n",
      "/investigacion\n",
      "/buzon-de-sugerencias-y-quejas\n",
      "/grupos-y-lineas-de-investigacion\n",
      "/oai\n",
      "http://informatica.ucm.es/investigacion\n",
      "/investigacion\n",
      "http://informatica.ucm.es/eventos-y-conferencias\n",
      "https://informatica.ucm.es/delegacion-y-asociaciones\n",
      "http://www.fdi.ucm.es/migs/\n",
      "http://www.ucm.es/BUCM/revcul/sci-fdi/\n",
      "https://informatica.ucm.es/estudios/grado-ingenieriainformatica\n",
      "https://informatica.ucm.es/estudios/grado-ingenieriadelsoftware\n",
      "https://informatica.ucm.es/estudios/grado-ingenieriadecomputadores\n",
      "https://informatica.ucm.es/estudios/grado-videojuegos\n",
      "https://informatica.ucm.es/estudios/grado-informaticaymatematicas\n",
      "https://informatica.ucm.es/estudios/grado-adeinginformatica\n",
      "https://informatica.ucm.es/futuros-estudiantes-1\n",
      "https://www.ucm.es/proceso-general-de-preinscripcion-y-admision\n",
      "https://informatica.ucm.es/estudios/master-ingenieriainformatica\n",
      "https://informatica.ucm.es/estudios/master-ingenieriadesistemas\n",
      "https://informatica.ucm.es/estudios/master-internetcosas\n",
      "https://informatica.ucm.es/titulos-propios#desarrolloJuegos\n",
      "https://informatica.ucm.es/titulos-propios#diseñoJuegos\n",
      "https://informatica.ucm.es/titulos-propios#arteDigital\n",
      "https://informatica.ucm.es/titulos-propios#seguridad\n",
      "https://informatica.ucm.es/master\n",
      "https://informatica.ucm.es/xxv-aniversario-de-la-facultad\n",
      "https://twitter.com/informaticaucm\n",
      "http://www.ucm.es/csim\n",
      "http://www.fdi.ucm.es/cfi/\n",
      "https://www.youtube.com/user/finformaticaucm\n",
      "https://twitter.com/informaticaucm\n",
      "https://e-administracion.ucm.es/\n",
      "http://www.ucm.es/fundacion\n",
      "http://www.ucm.es/ucm-en-linea\n",
      "https://informatica.ucm.es/profesores\n",
      "http://informatica.ucm.es/laboratorios-fdi\n",
      "https://www.fdi.ucm.es/Account/\n",
      "http://Informatica.ucm.es/buzon-de-sugerencias-y-quejas\n",
      "http://www.campusmoncloa.es/\n",
      "/contacto\n",
      "/aviso-legal\n",
      "http://informatica.ucm.es/rss/rss.php?weid=26\n"
     ]
    }
   ],
   "source": [
    "import urllib\n",
    "from bs4 import BeautifulSoup\n",
    "url=input(\"Introduzca url: \")\n",
    "html=urllib.request.urlopen(url).read()\n",
    "soup=BeautifulSoup(html, 'html.parser')\n",
    "etiquetas=soup(\"a\")\n",
    "for etiqueta in etiquetas:\n",
    "    print (etiqueta.get(\"href\",None))"
   ]
  },
  {
   "cell_type": "markdown",
   "metadata": {},
   "source": [
    "Observar que el método BeautifulSoup() también admite como entrada un archivo html que esté descargado en el disco duro local."
   ]
  },
  {
   "cell_type": "code",
   "execution_count": 21,
   "metadata": {
    "collapsed": false
   },
   "outputs": [
    {
     "name": "stdout",
     "output_type": "stream",
     "text": [
      "https://www.ucm.es/login_sso/\n",
      "https://www.ucm.es/\n",
      "http://informatica.ucm.es/\n",
      "http://informatica.ucm.es/facultad\n",
      "http://informatica.ucm.es/presentacion\n",
      "http://informatica.ucm.es/gobierno\n",
      "http://informatica.ucm.es/departamentos_1\n",
      "http://informatica.ucm.es/facultad\n",
      "http://informatica.ucm.es/estudiar\n",
      "http://informatica.ucm.es/grado\n",
      "http://informatica.ucm.es/master\n",
      "http://informatica.ucm.es/doctorado\n",
      "http://informatica.ucm.es/titulos-propios\n",
      "http://informatica.ucm.es/estudiar\n",
      "http://informatica.ucm.es/estudiantes\n",
      "http://informatica.ucm.es/programacion-docente\n",
      "http://informatica.ucm.es/practicas-de-formacion\n",
      "http://informatica.ucm.es/mentorias-academicas\n",
      "http://informatica.ucm.es/secretaria\n",
      "http://informatica.ucm.es/programas-de-movilidad\n",
      "http://informatica.ucm.es/estudiantes\n",
      "http://informatica.ucm.es/asistencia\n",
      "http://informatica.ucm.es/infraestructuras\n",
      "http://biblioteca.ucm.es/fdi\n",
      "https://cv.ucm.es/CampusVirtual/jsp/index.jsp\n",
      "https://e-administracion.ucm.es/\n",
      "http://informatica.ucm.es/asistencia\n",
      "http://informatica.ucm.es/asistencia\n",
      "http://informatica.ucm.es/investigacion\n",
      "http://informatica.ucm.es/grupos-y-lineas-de-investigacion\n",
      "http://informatica.ucm.es/oai\n",
      "http://informatica.ucm.es/investigacion\n",
      "http://informatica.ucm.es/investigacion\n",
      "http://informatica.ucm.es/buzon-de-sugerencias-y-quejas\n",
      "http://informatica.ucm.es/grupos-y-lineas-de-investigacion\n",
      "http://informatica.ucm.es/oai\n",
      "http://informatica.ucm.es/investigacion\n",
      "http://informatica.ucm.es/investigacion\n",
      "http://informatica.ucm.es/eventos-y-conferencias\n",
      "https://informatica.ucm.es/delegacion-y-asociaciones\n",
      "http://www.fdi.ucm.es/migs/\n",
      "http://www.ucm.es/BUCM/revcul/sci-fdi/\n",
      "https://informatica.ucm.es/estudios/grado-ingenieriainformatica\n",
      "https://informatica.ucm.es/estudios/grado-ingenieriadelsoftware\n",
      "https://informatica.ucm.es/estudios/grado-ingenieriadecomputadores\n",
      "https://informatica.ucm.es/estudios/grado-videojuegos\n",
      "https://informatica.ucm.es/estudios/grado-informaticaymatematicas\n",
      "https://informatica.ucm.es/estudios/grado-adeinginformatica\n",
      "https://informatica.ucm.es/futuros-estudiantes-1\n",
      "https://www.ucm.es/proceso-general-de-preinscripcion-y-admision\n",
      "https://informatica.ucm.es/estudios/master-ingenieriainformatica\n",
      "https://informatica.ucm.es/estudios/master-ingenieriadesistemas\n",
      "https://informatica.ucm.es/estudios/master-internetcosas\n",
      "https://informatica.ucm.es/titulos-propios#desarrolloJuegos\n",
      "https://informatica.ucm.es/titulos-propios#dise%C3%B1oJuegos\n",
      "https://informatica.ucm.es/titulos-propios#arteDigital\n",
      "https://informatica.ucm.es/titulos-propios#seguridad\n",
      "https://informatica.ucm.es/master\n",
      "https://informatica.ucm.es/xxv-aniversario-de-la-facultad\n",
      "http://www.ucm.es/csim\n",
      "http://www.fdi.ucm.es/cfi/\n",
      "https://www.youtube.com/user/finformaticaucm\n",
      "https://twitter.com/informaticaucm\n",
      "https://e-administracion.ucm.es/\n",
      "http://www.ucm.es/fundacion\n",
      "http://www.ucm.es/ucm-en-linea\n",
      "https://informatica.ucm.es/profesores\n",
      "http://informatica.ucm.es/laboratorios-fdi\n",
      "https://www.fdi.ucm.es/Account/\n",
      "http://informatica.ucm.es/buzon-de-sugerencias-y-quejas\n",
      "http://www.campusmoncloa.es/\n",
      "http://informatica.ucm.es/contacto\n",
      "http://informatica.ucm.es/aviso-legal\n",
      "http://informatica.ucm.es/rss/rss.php?weid=26\n"
     ]
    }
   ],
   "source": [
    "import urllib\n",
    "from bs4 import BeautifulSoup\n",
    "html=open(\"Facultad de Informática.html\")\n",
    "soup=BeautifulSoup(html, 'html.parser')\n",
    "etiquetas=soup(\"a\")\n",
    "for etiqueta in etiquetas:\n",
    "    print (etiqueta.get(\"href\",None))"
   ]
  },
  {
   "cell_type": "markdown",
   "metadata": {},
   "source": [
    "El método BeautifulSoup() genera un objeto de tipo BeautifulSoup que tiene un conjunto de métodos que se pueden utilizar para localizar partes específicas de un documento html.\n",
    "\n",
    "En el siguiente ejemplo se van a extraer varías partes de una etiqueta."
   ]
  },
  {
   "cell_type": "code",
   "execution_count": 22,
   "metadata": {
    "collapsed": false
   },
   "outputs": [
    {
     "name": "stdout",
     "output_type": "stream",
     "text": [
      "Introduzca url: http://informatica.ucm.es\n",
      "ETIQUETA:  <a href=\"https://www.ucm.es/login_sso/\" title=\"Navegar identificado\">Navegar identificado</a>\n",
      "URL: https://www.ucm.es/login_sso/\n",
      "Contenidos: Navegar identificado\n",
      "Atributos: {'href': 'https://www.ucm.es/login_sso/', 'title': 'Navegar identificado'}\n",
      "ETIQUETA:  <a href=\"https://www.ucm.es/\" title=\"Universidad Complutense de Madrid\">\n",
      "<img alt=\"ucm\" src=\"/themes/ucm16/media/img/logo.png\" title=\"Universidad Complutense de Madrid\"/>\n",
      "</a>\n",
      "URL: https://www.ucm.es/\n",
      "Contenidos: \n",
      "\n",
      "Atributos: {'href': 'https://www.ucm.es/', 'title': 'Universidad Complutense de Madrid'}\n",
      "ETIQUETA:  <a href=\"http://informatica.ucm.es/\" title=\"Portada - Facultad de Informática\">Facultad de Informática</a>\n",
      "URL: http://informatica.ucm.es/\n",
      "Contenidos: Facultad de Informática\n",
      "Atributos: {'href': 'http://informatica.ucm.es/', 'title': 'Portada - Facultad de Informática'}\n",
      "ETIQUETA:  <a class=\"dropdown-toggle\" data-toggle=\"dropdown\" href=\"/facultad\" title=\"Facultad\">Facultad</a>\n",
      "URL: /facultad\n",
      "Contenidos: Facultad\n",
      "Atributos: {'title': 'Facultad', 'href': '/facultad', 'class': ['dropdown-toggle'], 'data-toggle': 'dropdown'}\n",
      "ETIQUETA:  <a href=\"/presentacion\" title=\"Presentación\">Presentación</a>\n",
      "URL: /presentacion\n",
      "Contenidos: Presentación\n",
      "Atributos: {'title': 'Presentación', 'href': '/presentacion'}\n",
      "ETIQUETA:  <a href=\"/gobierno\" title=\"Gobierno\">Gobierno</a>\n",
      "URL: /gobierno\n",
      "Contenidos: Gobierno\n",
      "Atributos: {'title': 'Gobierno', 'href': '/gobierno'}\n",
      "ETIQUETA:  <a href=\"/departamentos_1\" title=\"Organización\">Organización</a>\n",
      "URL: /departamentos_1\n",
      "Contenidos: Organización\n",
      "Atributos: {'title': 'Organización', 'href': '/departamentos_1'}\n",
      "ETIQUETA:  <a aria-label=\"Facultad\" href=\"/facultad\" title=\"Facultad\"><span aria-hidden=\"true\" class=\"fa fa-plus-circle\" title=\"Facultad\"></span></a>\n",
      "URL: /facultad\n",
      "Contenidos: <span aria-hidden=\"true\" class=\"fa fa-plus-circle\" title=\"Facultad\"></span>\n",
      "Atributos: {'href': '/facultad', 'title': 'Facultad', 'aria-label': 'Facultad'}\n",
      "ETIQUETA:  <a class=\"dropdown-toggle\" data-toggle=\"dropdown\" href=\"/estudiar\" title=\"Titulaciones\">Titulaciones</a>\n",
      "URL: /estudiar\n",
      "Contenidos: Titulaciones\n",
      "Atributos: {'title': 'Titulaciones', 'href': '/estudiar', 'class': ['dropdown-toggle'], 'data-toggle': 'dropdown'}\n",
      "ETIQUETA:  <a href=\"/grado\" title=\"Grado\">Grado</a>\n",
      "URL: /grado\n",
      "Contenidos: Grado\n",
      "Atributos: {'title': 'Grado', 'href': '/grado'}\n",
      "ETIQUETA:  <a href=\"/master\" title=\"Máster\">Máster</a>\n",
      "URL: /master\n",
      "Contenidos: Máster\n",
      "Atributos: {'title': 'Máster', 'href': '/master'}\n",
      "ETIQUETA:  <a href=\"/doctorado\" title=\"Doctorado\">Doctorado</a>\n",
      "URL: /doctorado\n",
      "Contenidos: Doctorado\n",
      "Atributos: {'title': 'Doctorado', 'href': '/doctorado'}\n",
      "ETIQUETA:  <a href=\"/titulos-propios\" title=\"Títulos propios\">Títulos propios</a>\n",
      "URL: /titulos-propios\n",
      "Contenidos: Títulos propios\n",
      "Atributos: {'title': 'Títulos propios', 'href': '/titulos-propios'}\n",
      "ETIQUETA:  <a aria-label=\"Titulaciones\" href=\"/estudiar\" title=\"Titulaciones\"><span aria-hidden=\"true\" class=\"fa fa-plus-circle\" title=\"Titulaciones\"></span></a>\n",
      "URL: /estudiar\n",
      "Contenidos: <span aria-hidden=\"true\" class=\"fa fa-plus-circle\" title=\"Titulaciones\"></span>\n",
      "Atributos: {'href': '/estudiar', 'title': 'Titulaciones', 'aria-label': 'Titulaciones'}\n",
      "ETIQUETA:  <a class=\"dropdown-toggle\" data-toggle=\"dropdown\" href=\"/estudiantes\" title=\"Estudiantes\">Estudiantes</a>\n",
      "URL: /estudiantes\n",
      "Contenidos: Estudiantes\n",
      "Atributos: {'title': 'Estudiantes', 'href': '/estudiantes', 'class': ['dropdown-toggle'], 'data-toggle': 'dropdown'}\n",
      "ETIQUETA:  <a href=\"/programacion-docente\" title=\"Programacion docente\">Programacion docente</a>\n",
      "URL: /programacion-docente\n",
      "Contenidos: Programacion docente\n",
      "Atributos: {'title': 'Programacion docente', 'href': '/programacion-docente'}\n",
      "ETIQUETA:  <a href=\"/practicas-de-formacion\" title=\"Prácticas en empresas\">Prácticas en empresas</a>\n",
      "URL: /practicas-de-formacion\n",
      "Contenidos: Prácticas en empresas\n",
      "Atributos: {'title': 'Prácticas en empresas', 'href': '/practicas-de-formacion'}\n",
      "ETIQUETA:  <a href=\"/mentorias-academicas\" title=\"Mentorías académicas\">Mentorías académicas</a>\n",
      "URL: /mentorias-academicas\n",
      "Contenidos: Mentorías académicas\n",
      "Atributos: {'title': 'Mentorías académicas', 'href': '/mentorias-academicas'}\n",
      "ETIQUETA:  <a href=\"/secretaria\" title=\"Secretaría de Alumnos\">Secretaría de Alumnos</a>\n",
      "URL: /secretaria\n",
      "Contenidos: Secretaría de Alumnos\n",
      "Atributos: {'title': 'Secretaría de Alumnos', 'href': '/secretaria'}\n",
      "ETIQUETA:  <a href=\"/programas-de-movilidad\" title=\"Movilidad\">Movilidad</a>\n",
      "URL: /programas-de-movilidad\n",
      "Contenidos: Movilidad\n",
      "Atributos: {'title': 'Movilidad', 'href': '/programas-de-movilidad'}\n",
      "ETIQUETA:  <a aria-label=\"Estudiantes\" href=\"/estudiantes\" title=\"Estudiantes\"><span aria-hidden=\"true\" class=\"fa fa-plus-circle\" title=\"Estudiantes\"></span></a>\n",
      "URL: /estudiantes\n",
      "Contenidos: <span aria-hidden=\"true\" class=\"fa fa-plus-circle\" title=\"Estudiantes\"></span>\n",
      "Atributos: {'href': '/estudiantes', 'title': 'Estudiantes', 'aria-label': 'Estudiantes'}\n",
      "ETIQUETA:  <a class=\"dropdown-toggle\" data-toggle=\"dropdown\" href=\"/asistencia\" title=\"Servicios\">Servicios</a>\n",
      "URL: /asistencia\n",
      "Contenidos: Servicios\n",
      "Atributos: {'title': 'Servicios', 'href': '/asistencia', 'class': ['dropdown-toggle'], 'data-toggle': 'dropdown'}\n",
      "ETIQUETA:  <a href=\"/infraestructuras\" title=\"Infraestructuras\">Infraestructuras</a>\n",
      "URL: /infraestructuras\n",
      "Contenidos: Infraestructuras\n",
      "Atributos: {'title': 'Infraestructuras', 'href': '/infraestructuras'}\n",
      "ETIQUETA:  <a href=\"http://biblioteca.ucm.es/fdi\" title=\"Biblioteca\">Biblioteca</a>\n",
      "URL: http://biblioteca.ucm.es/fdi\n",
      "Contenidos: Biblioteca\n",
      "Atributos: {'title': 'Biblioteca', 'href': 'http://biblioteca.ucm.es/fdi'}\n",
      "ETIQUETA:  <a href=\"https://cv.ucm.es/CampusVirtual/jsp/index.jsp\" title=\"Campus Virtual\">Campus Virtual</a>\n",
      "URL: https://cv.ucm.es/CampusVirtual/jsp/index.jsp\n",
      "Contenidos: Campus Virtual\n",
      "Atributos: {'title': 'Campus Virtual', 'href': 'https://cv.ucm.es/CampusVirtual/jsp/index.jsp'}\n",
      "ETIQUETA:  <a href=\"https://e-administracion.ucm.es/\" title=\"Sede Electrónica\">Sede Electrónica</a>\n",
      "URL: https://e-administracion.ucm.es/\n",
      "Contenidos: Sede Electrónica\n",
      "Atributos: {'title': 'Sede Electrónica', 'href': 'https://e-administracion.ucm.es/'}\n",
      "ETIQUETA:  <a href=\"http://informatica.ucm.es/asistencia\" title=\"Más...\">Más...</a>\n",
      "URL: http://informatica.ucm.es/asistencia\n",
      "Contenidos: Más...\n",
      "Atributos: {'title': 'Más...', 'href': 'http://informatica.ucm.es/asistencia'}\n",
      "ETIQUETA:  <a aria-label=\"Servicios\" href=\"/asistencia\" title=\"Servicios\"><span aria-hidden=\"true\" class=\"fa fa-plus-circle\" title=\"Servicios\"></span></a>\n",
      "URL: /asistencia\n",
      "Contenidos: <span aria-hidden=\"true\" class=\"fa fa-plus-circle\" title=\"Servicios\"></span>\n",
      "Atributos: {'href': '/asistencia', 'title': 'Servicios', 'aria-label': 'Servicios'}\n",
      "ETIQUETA:  <a class=\"dropdown-toggle\" data-toggle=\"dropdown\" href=\"/investigacion\" title=\"Investigación\">Investigación</a>\n",
      "URL: /investigacion\n",
      "Contenidos: Investigación\n",
      "Atributos: {'title': 'Investigación', 'href': '/investigacion', 'class': ['dropdown-toggle'], 'data-toggle': 'dropdown'}\n",
      "ETIQUETA:  <a href=\"/grupos-y-lineas-de-investigacion\" title=\"Grupos y líneas de Investigación\">Grupos y líneas de Investigación</a>\n",
      "URL: /grupos-y-lineas-de-investigacion\n",
      "Contenidos: Grupos y líneas de Investigación\n",
      "Atributos: {'title': 'Grupos y líneas de Investigación', 'href': '/grupos-y-lineas-de-investigacion'}\n",
      "ETIQUETA:  <a href=\"/oai\" title=\"OAI\">OAI</a>\n",
      "URL: /oai\n",
      "Contenidos: OAI\n",
      "Atributos: {'title': 'OAI', 'href': '/oai'}\n",
      "ETIQUETA:  <a href=\"http://informatica.ucm.es/investigacion\" title=\"Más...\">Más...</a>\n",
      "URL: http://informatica.ucm.es/investigacion\n",
      "Contenidos: Más...\n",
      "Atributos: {'title': 'Más...', 'href': 'http://informatica.ucm.es/investigacion'}\n",
      "ETIQUETA:  <a aria-label=\"Investigación\" href=\"/investigacion\" title=\"Investigación\"><span aria-hidden=\"true\" class=\"fa fa-plus-circle\" title=\"Investigación\"></span></a>\n",
      "URL: /investigacion\n",
      "Contenidos: <span aria-hidden=\"true\" class=\"fa fa-plus-circle\" title=\"Investigación\"></span>\n",
      "Atributos: {'href': '/investigacion', 'title': 'Investigación', 'aria-label': 'Investigación'}\n",
      "ETIQUETA:  <a class=\"dropdown-toggle\" href=\"/buzon-de-sugerencias-y-quejas\" title=\"Sugerencias\">Sugerencias</a>\n",
      "URL: /buzon-de-sugerencias-y-quejas\n",
      "Contenidos: Sugerencias\n",
      "Atributos: {'title': 'Sugerencias', 'href': '/buzon-de-sugerencias-y-quejas', 'class': ['dropdown-toggle']}\n",
      "ETIQUETA:  <a href=\"/grupos-y-lineas-de-investigacion\" title=\"Grupos y líneas de Investigación\">Grupos y líneas de Investigación</a>\n",
      "URL: /grupos-y-lineas-de-investigacion\n",
      "Contenidos: Grupos y líneas de Investigación\n",
      "Atributos: {'title': 'Grupos y líneas de Investigación', 'href': '/grupos-y-lineas-de-investigacion'}\n",
      "ETIQUETA:  <a href=\"/oai\" title=\"OAI\">OAI</a>\n",
      "URL: /oai\n",
      "Contenidos: OAI\n",
      "Atributos: {'title': 'OAI', 'href': '/oai'}\n",
      "ETIQUETA:  <a href=\"http://informatica.ucm.es/investigacion\" title=\"Más...\">Más...</a>\n",
      "URL: http://informatica.ucm.es/investigacion\n",
      "Contenidos: Más...\n",
      "Atributos: {'title': 'Más...', 'href': 'http://informatica.ucm.es/investigacion'}\n",
      "ETIQUETA:  <a aria-label=\"Investigación\" href=\"/investigacion\" title=\"Investigación\"><span aria-hidden=\"true\" class=\"fa fa-plus-circle\" title=\"Investigación\"></span></a>\n",
      "URL: /investigacion\n",
      "Contenidos: <span aria-hidden=\"true\" class=\"fa fa-plus-circle\" title=\"Investigación\"></span>\n",
      "Atributos: {'href': '/investigacion', 'title': 'Investigación', 'aria-label': 'Investigación'}\n",
      "ETIQUETA:  <a href=\"http://informatica.ucm.es/eventos-y-conferencias\" style=\"color: #f8cd1e; padding-right: 10px;\" title=\"Eventos y conferencias en la Facultad de Informática\">Calendario de eventos y conferencias</a>\n",
      "URL: http://informatica.ucm.es/eventos-y-conferencias\n",
      "Contenidos: Calendario de eventos y conferencias\n",
      "Atributos: {'style': 'color: #f8cd1e; padding-right: 10px;', 'title': 'Eventos y conferencias en la Facultad de Informática', 'href': 'http://informatica.ucm.es/eventos-y-conferencias'}\n",
      "ETIQUETA:  <a href=\"https://informatica.ucm.es/delegacion-y-asociaciones\" style=\"color: #f8cd1e; padding-right: 10px;\" title=\"Delegación de alumnos y asociaciones en la Facultad de Informática\">Delegación y asociaciones</a>\n",
      "URL: https://informatica.ucm.es/delegacion-y-asociaciones\n",
      "Contenidos: Delegación y asociaciones\n",
      "Atributos: {'style': 'color: #f8cd1e; padding-right: 10px;', 'title': 'Delegación de alumnos y asociaciones en la Facultad de Informática', 'href': 'https://informatica.ucm.es/delegacion-y-asociaciones'}\n",
      "ETIQUETA:  <a href=\"http://www.fdi.ucm.es/migs/\" style=\"color: #f8cd1e; padding-right: 10px;\" target=\"_blank\" title=\"Museo de informática García Santesmases\">Museo </a>\n",
      "URL: http://www.fdi.ucm.es/migs/\n",
      "Contenidos: Museo \n",
      "Atributos: {'style': 'color: #f8cd1e; padding-right: 10px;', 'title': 'Museo de informática García Santesmases', 'href': 'http://www.fdi.ucm.es/migs/', 'target': '_blank'}\n",
      "ETIQUETA:  <a href=\"http://www.ucm.es/BUCM/revcul/sci-fdi/\" style=\"color: #f8cd1e; padding-right: 10px;\" target=\"_blank\" title=\"Revista de Ciencia Ficción de la Facultad de Informática\">Sci_Fdi</a>\n",
      "URL: http://www.ucm.es/BUCM/revcul/sci-fdi/\n",
      "Contenidos: Sci_Fdi\n",
      "Atributos: {'style': 'color: #f8cd1e; padding-right: 10px;', 'title': 'Revista de Ciencia Ficción de la Facultad de Informática', 'href': 'http://www.ucm.es/BUCM/revcul/sci-fdi/', 'target': '_blank'}\n",
      "ETIQUETA:  <a href=\"https://informatica.ucm.es/estudios/grado-ingenieriainformatica\" style=\"color: #ffffff;\">Ingeniería Informática<br/>(con grupo bilingüe)</a>\n",
      "URL: https://informatica.ucm.es/estudios/grado-ingenieriainformatica\n",
      "Contenidos: Ingeniería Informática\n",
      "Atributos: {'style': 'color: #ffffff;', 'href': 'https://informatica.ucm.es/estudios/grado-ingenieriainformatica'}\n",
      "ETIQUETA:  <a href=\"https://informatica.ucm.es/estudios/grado-ingenieriadelsoftware\" style=\"color: #ffffff;\">Ingeniería<br/>del Software</a>\n",
      "URL: https://informatica.ucm.es/estudios/grado-ingenieriadelsoftware\n",
      "Contenidos: Ingeniería\n",
      "Atributos: {'style': 'color: #ffffff;', 'href': 'https://informatica.ucm.es/estudios/grado-ingenieriadelsoftware'}\n",
      "ETIQUETA:  <a href=\"https://informatica.ucm.es/estudios/grado-ingenieriadecomputadores\" style=\"color: #ffffff;\">Ingeniería<br/>de Computadores</a>\n",
      "URL: https://informatica.ucm.es/estudios/grado-ingenieriadecomputadores\n",
      "Contenidos: Ingeniería\n",
      "Atributos: {'style': 'color: #ffffff;', 'href': 'https://informatica.ucm.es/estudios/grado-ingenieriadecomputadores'}\n",
      "ETIQUETA:  <a href=\"https://informatica.ucm.es/estudios/grado-videojuegos\" style=\"color: #ffffff;\">Desarrollo de<br/>Videojuegos</a>\n",
      "URL: https://informatica.ucm.es/estudios/grado-videojuegos\n",
      "Contenidos: Desarrollo de\n",
      "Atributos: {'style': 'color: #ffffff;', 'href': 'https://informatica.ucm.es/estudios/grado-videojuegos'}\n",
      "ETIQUETA:  <a href=\"https://informatica.ucm.es/estudios/grado-informaticaymatematicas\" style=\"color: #ffffff;\">Ingeniería Informática<br/>y Matemáticas</a>\n",
      "URL: https://informatica.ucm.es/estudios/grado-informaticaymatematicas\n",
      "Contenidos: Ingeniería Informática\n",
      "Atributos: {'style': 'color: #ffffff;', 'href': 'https://informatica.ucm.es/estudios/grado-informaticaymatematicas'}\n",
      "ETIQUETA:  <a href=\"https://informatica.ucm.es/estudios/grado-adeinginformatica\" style=\"color: #ffffff;\">Informática y Administración<br/>y Dirección de empresas</a>\n",
      "URL: https://informatica.ucm.es/estudios/grado-adeinginformatica\n",
      "Contenidos: Informática y Administración\n",
      "Atributos: {'style': 'color: #ffffff;', 'href': 'https://informatica.ucm.es/estudios/grado-adeinginformatica'}\n",
      "ETIQUETA:  <a href=\"https://informatica.ucm.es/futuros-estudiantes-1\" style=\"color: #ffffff;\">Información de interés para futuros estudiantes</a>\n",
      "URL: https://informatica.ucm.es/futuros-estudiantes-1\n",
      "Contenidos: Información de interés para futuros estudiantes\n",
      "Atributos: {'style': 'color: #ffffff;', 'href': 'https://informatica.ucm.es/futuros-estudiantes-1'}\n",
      "ETIQUETA:  <a href=\"https://www.ucm.es/proceso-general-de-preinscripcion-y-admision\" style=\"color: #ffffff;\">Tutoriales sobre el proceso de admisión y matrícula</a>\n",
      "URL: https://www.ucm.es/proceso-general-de-preinscripcion-y-admision\n",
      "Contenidos: Tutoriales sobre el proceso de admisión y matrícula\n",
      "Atributos: {'style': 'color: #ffffff;', 'href': 'https://www.ucm.es/proceso-general-de-preinscripcion-y-admision'}\n",
      "ETIQUETA:  <a href=\"https://informatica.ucm.es/estudios/master-ingenieriainformatica\" style=\"color: #ffffff;\">Ingeniería Informática</a>\n",
      "URL: https://informatica.ucm.es/estudios/master-ingenieriainformatica\n",
      "Contenidos: Ingeniería Informática\n",
      "Atributos: {'style': 'color: #ffffff;', 'href': 'https://informatica.ucm.es/estudios/master-ingenieriainformatica'}\n",
      "ETIQUETA:  <a href=\"https://informatica.ucm.es/estudios/master-ingenieriadesistemas\" style=\"color: #ffffff;\">Ingeniería de Sistemas<br/>y de Control </a>\n",
      "URL: https://informatica.ucm.es/estudios/master-ingenieriadesistemas\n",
      "Contenidos: Ingeniería de Sistemas\n",
      "Atributos: {'style': 'color: #ffffff;', 'href': 'https://informatica.ucm.es/estudios/master-ingenieriadesistemas'}\n",
      "ETIQUETA:  <a href=\"https://informatica.ucm.es/estudios/master-internetcosas\" style=\"color: #ffffff;\">Internet de las cosas</a>\n",
      "URL: https://informatica.ucm.es/estudios/master-internetcosas\n",
      "Contenidos: Internet de las cosas\n",
      "Atributos: {'style': 'color: #ffffff;', 'href': 'https://informatica.ucm.es/estudios/master-internetcosas'}\n",
      "ETIQUETA:  <a href=\"https://informatica.ucm.es/titulos-propios#desarrolloJuegos\" style=\"color: #ffffff;\">Desarrollo de <br/>Videojuegos</a>\n",
      "URL: https://informatica.ucm.es/titulos-propios#desarrolloJuegos\n",
      "Contenidos: Desarrollo de \n",
      "Atributos: {'style': 'color: #ffffff;', 'href': 'https://informatica.ucm.es/titulos-propios#desarrolloJuegos'}\n",
      "ETIQUETA:  <a href=\"https://informatica.ucm.es/titulos-propios#diseñoJuegos\" style=\"color: #ffffff;\">Diseño y Desarrollo<br/>de Videojuegos</a>\n",
      "URL: https://informatica.ucm.es/titulos-propios#diseñoJuegos\n",
      "Contenidos: Diseño y Desarrollo\n",
      "Atributos: {'style': 'color: #ffffff;', 'href': 'https://informatica.ucm.es/titulos-propios#diseñoJuegos'}\n",
      "ETIQUETA:  <a href=\"https://informatica.ucm.es/titulos-propios#arteDigital\" style=\"color: #ffffff;\">Arte digital<br/>para Videojuegos</a>\n",
      "URL: https://informatica.ucm.es/titulos-propios#arteDigital\n",
      "Contenidos: Arte digital\n",
      "Atributos: {'style': 'color: #ffffff;', 'href': 'https://informatica.ucm.es/titulos-propios#arteDigital'}\n",
      "ETIQUETA:  <a href=\"https://informatica.ucm.es/titulos-propios#seguridad\" style=\"color: #ffffff;\">Dirección de seguridad<br/>Informática</a>\n",
      "URL: https://informatica.ucm.es/titulos-propios#seguridad\n",
      "Contenidos: Dirección de seguridad\n",
      "Atributos: {'style': 'color: #ffffff;', 'href': 'https://informatica.ucm.es/titulos-propios#seguridad'}\n",
      "ETIQUETA:  <a href=\"https://informatica.ucm.es/master\" style=\"color: #ffffff;\">Ver todas las titulaciones de Máster</a>\n",
      "URL: https://informatica.ucm.es/master\n",
      "Contenidos: Ver todas las titulaciones de Máster\n",
      "Atributos: {'style': 'color: #ffffff;', 'href': 'https://informatica.ucm.es/master'}\n",
      "ETIQUETA:  <a href=\"https://informatica.ucm.es/xxv-aniversario-de-la-facultad\" onmouseout=\"this.style.color='white';\" onmouseover=\"this.style.color='red';\" style=\"color: white;\">Participa en los eventos que hemos preparado</a>\n",
      "URL: https://informatica.ucm.es/xxv-aniversario-de-la-facultad\n",
      "Contenidos: Participa en los eventos que hemos preparado\n",
      "Atributos: {'style': 'color: white;', 'onmouseover': \"this.style.color='red';\", 'onmouseout': \"this.style.color='white';\", 'href': 'https://informatica.ucm.es/xxv-aniversario-de-la-facultad'}\n",
      "ETIQUETA:  <a class=\"twitter-follow-button\" href=\"https://twitter.com/informaticaucm\" style=\"margin-left: auto; margin-right: auto;\">Follow @informaticaucm</a>\n",
      "URL: https://twitter.com/informaticaucm\n",
      "Contenidos: Follow @informaticaucm\n",
      "Atributos: {'class': ['twitter-follow-button'], 'style': 'margin-left: auto; margin-right: auto;', 'href': 'https://twitter.com/informaticaucm'}\n",
      "ETIQUETA:  <a href=\"http://www.ucm.es/csim\" target=\"_blank\"><img alt=\"Logo Centro Superior de Idiomas Modernos\" height=\"75\" src=\"/data/cont/media/www/pag-804/logo%20CSIM.jpg\" width=\"80\"/></a>\n",
      "URL: http://www.ucm.es/csim\n",
      "Contenidos: <img alt=\"Logo Centro Superior de Idiomas Modernos\" height=\"75\" src=\"/data/cont/media/www/pag-804/logo%20CSIM.jpg\" width=\"80\"/>\n",
      "Atributos: {'href': 'http://www.ucm.es/csim', 'target': '_blank'}\n",
      "ETIQUETA:  <a href=\"http://www.fdi.ucm.es/cfi/\" style=\"text-align: center;\" target=\"_blank\"><img alt=\"Logo Cursos de Formación en Informática\" height=\"79\" src=\"/data/cont/media/www/pag-804/logoCFI1.png\" width=\"80\"/></a>\n",
      "URL: http://www.fdi.ucm.es/cfi/\n",
      "Contenidos: <img alt=\"Logo Cursos de Formación en Informática\" height=\"79\" src=\"/data/cont/media/www/pag-804/logoCFI1.png\" width=\"80\"/>\n",
      "Atributos: {'style': 'text-align: center;', 'href': 'http://www.fdi.ucm.es/cfi/', 'target': '_blank'}\n",
      "ETIQUETA:  <a class=\"redsocial\" href=\"https://www.youtube.com/user/finformaticaucm\" id=\"link_yb\" target=\"_blank\"><img alt=\"youtube\" src=\"/themes/ucm16/media/img/youtube.png\"/></a>\n",
      "URL: https://www.youtube.com/user/finformaticaucm\n",
      "Contenidos: <img alt=\"youtube\" src=\"/themes/ucm16/media/img/youtube.png\"/>\n",
      "Atributos: {'id': 'link_yb', 'href': 'https://www.youtube.com/user/finformaticaucm', 'class': ['redsocial'], 'target': '_blank'}\n",
      "ETIQUETA:  <a class=\"redsocial\" href=\"https://twitter.com/informaticaucm\" id=\"link_tw\" target=\"_blank\"><img alt=\"twitter\" src=\"/themes/ucm16/media/img/twitter.png\"/></a>\n",
      "URL: https://twitter.com/informaticaucm\n",
      "Contenidos: <img alt=\"twitter\" src=\"/themes/ucm16/media/img/twitter.png\"/>\n",
      "Atributos: {'id': 'link_tw', 'href': 'https://twitter.com/informaticaucm', 'class': ['redsocial'], 'target': '_blank'}\n",
      "ETIQUETA:  <a href=\"https://e-administracion.ucm.es/\" title=\"Sede Electrónica\">Sede Electrónica</a>\n",
      "URL: https://e-administracion.ucm.es/\n",
      "Contenidos: Sede Electrónica\n",
      "Atributos: {'href': 'https://e-administracion.ucm.es/', 'title': 'Sede Electrónica'}\n",
      "ETIQUETA:  <a href=\"http://www.ucm.es/fundacion\" title=\"Fundación General\">Fundación General</a>\n",
      "URL: http://www.ucm.es/fundacion\n",
      "Contenidos: Fundación General\n",
      "Atributos: {'href': 'http://www.ucm.es/fundacion', 'title': 'Fundación General'}\n",
      "ETIQUETA:  <a href=\"http://www.ucm.es/ucm-en-linea\" title=\"Servicios UCM en línea\">Servicios UCM en línea</a>\n",
      "URL: http://www.ucm.es/ucm-en-linea\n",
      "Contenidos: Servicios UCM en línea\n",
      "Atributos: {'href': 'http://www.ucm.es/ucm-en-linea', 'title': 'Servicios UCM en línea'}\n",
      "ETIQUETA:  <a href=\"https://informatica.ucm.es/profesores\" title=\"Información a Profesores\">Información a Profesores</a>\n",
      "URL: https://informatica.ucm.es/profesores\n",
      "Contenidos: Información a Profesores\n",
      "Atributos: {'href': 'https://informatica.ucm.es/profesores', 'title': 'Información a Profesores'}\n",
      "ETIQUETA:  <a href=\"http://informatica.ucm.es/laboratorios-fdi\" title=\"Laboratorios FdI\">Laboratorios FdI</a>\n",
      "URL: http://informatica.ucm.es/laboratorios-fdi\n",
      "Contenidos: Laboratorios FdI\n",
      "Atributos: {'href': 'http://informatica.ucm.es/laboratorios-fdi', 'title': 'Laboratorios FdI'}\n",
      "ETIQUETA:  <a href=\"https://www.fdi.ucm.es/Account/\" title=\"Portal FDI\">Portal FDI</a>\n",
      "URL: https://www.fdi.ucm.es/Account/\n",
      "Contenidos: Portal FDI\n",
      "Atributos: {'href': 'https://www.fdi.ucm.es/Account/', 'title': 'Portal FDI'}\n",
      "ETIQUETA:  <a href=\"http://Informatica.ucm.es/buzon-de-sugerencias-y-quejas\" title=\"Sugerencias y Quejas\">Sugerencias y Quejas</a>\n",
      "URL: http://Informatica.ucm.es/buzon-de-sugerencias-y-quejas\n",
      "Contenidos: Sugerencias y Quejas\n",
      "Atributos: {'href': 'http://Informatica.ucm.es/buzon-de-sugerencias-y-quejas', 'title': 'Sugerencias y Quejas'}\n",
      "ETIQUETA:  <a href=\"http://www.campusmoncloa.es/\" target=\"_blank\" title=\"CAMPUS DE EXCELENCIA INTERNACIONAL\"><img alt=\"CAMPUS DE EXCELENCIA INTERNACIONAL\" src=\"/themes/ucm16/media/img/cei.jpg\"/></a>\n",
      "URL: http://www.campusmoncloa.es/\n",
      "Contenidos: <img alt=\"CAMPUS DE EXCELENCIA INTERNACIONAL\" src=\"/themes/ucm16/media/img/cei.jpg\"/>\n",
      "Atributos: {'href': 'http://www.campusmoncloa.es/', 'target': '_blank', 'title': 'CAMPUS DE EXCELENCIA INTERNACIONAL'}\n",
      "ETIQUETA:  <a href=\"/contacto\" title=\"Localización y contacto\">Localización y contacto</a>\n",
      "URL: /contacto\n",
      "Contenidos: Localización y contacto\n",
      "Atributos: {'href': '/contacto', 'title': 'Localización y contacto'}\n",
      "ETIQUETA:  <a href=\"/aviso-legal\" title=\"Aviso Legal\">Aviso Legal</a>\n",
      "URL: /aviso-legal\n",
      "Contenidos: Aviso Legal\n",
      "Atributos: {'href': '/aviso-legal', 'title': 'Aviso Legal'}\n",
      "ETIQUETA:  <a href=\"http://informatica.ucm.es/rss/rss.php?weid=26\" title=\"RSS\">RSS</a>\n",
      "URL: http://informatica.ucm.es/rss/rss.php?weid=26\n",
      "Contenidos: RSS\n",
      "Atributos: {'href': 'http://informatica.ucm.es/rss/rss.php?weid=26', 'title': 'RSS'}\n"
     ]
    }
   ],
   "source": [
    "import urllib\n",
    "from bs4 import BeautifulSoup\n",
    "url=input(\"Introduzca url: \")\n",
    "html=urllib.request.urlopen(url).read()\n",
    "soup=BeautifulSoup(html, 'html.parser')\n",
    "#Recupera todas las etiquetas de anclaje\n",
    "etiquetas=soup(\"a\")\n",
    "#Busca las partes de una etiqueta\n",
    "for etiqueta in etiquetas:\n",
    "    print(\"ETIQUETA: \", etiqueta)\n",
    "    print(\"URL:\",etiqueta.get(\"href\",None))\n",
    "    print(\"Contenidos:\",str(etiqueta.contents[0]))\n",
    "    print(\"Atributos:\",etiqueta.attrs)"
   ]
  },
  {
   "cell_type": "markdown",
   "metadata": {},
   "source": [
    "En general BeautifulSoup se puede usar para diferentes acciones:\n",
    "\n",
    "* Imprimir un documento\n",
    "\n",
    "* Parsear un documento html\n",
    "\n",
    "* Analizar un documento html\n"
   ]
  },
  {
   "cell_type": "markdown",
   "metadata": {},
   "source": [
    "__Imprimir un documento html__\n",
    "\n",
    "Existen varios métodos para imprimir un documento:\n",
    "\n",
    "* La función __str()__ muestra el documento como una cadena, pero no elimina nodos que solo tengan un espacio en blanco ni añade espacios en blanco entre los nodos.\n",
    "\n",
    "* La función __prettify()__ añade nuevas líneas y espacios para mostrar la estructura del documento html, y elimina nodos que solo contengan espacios en blanco.\n",
    "\n",
    "* La función __encode_contents__ muestra el documento como una cadena en la codificación dada, y si no se indica se muestra como una cadena unicode."
   ]
  },
  {
   "cell_type": "code",
   "execution_count": 29,
   "metadata": {
    "collapsed": false
   },
   "outputs": [
    {
     "name": "stdout",
     "output_type": "stream",
     "text": [
      "<html><h1>Cabecera</h1><p>Text</p></html>\n",
      "\n",
      "b'<html><h1>Cabecera</h1><p>Text</p></html>'\n",
      "\n",
      "<html><h1>Cabecera</h1><p>Text</p></html>\n",
      "\n",
      "<html>\n",
      " <h1>\n",
      "  Cabecera\n",
      " </h1>\n",
      " <p>\n",
      "  Text\n",
      " </p>\n",
      "</html>\n"
     ]
    }
   ],
   "source": [
    "from bs4 import BeautifulSoup\n",
    "doc=\"<html><h1>Cabecera</h1><p>Text\"\n",
    "soup=BeautifulSoup(doc, 'html.parser')\n",
    "print(str(soup))\n",
    "print()\n",
    "print(soup.encode_contents())\n",
    "print()\n",
    "print(soup.__str__())\n",
    "print()\n",
    "print(soup.prettify())"
   ]
  },
  {
   "cell_type": "markdown",
   "metadata": {},
   "source": [
    "Las funciones __str__ y __encode_contents__ no funcionan igual cuando se usa sobre una etiqueta dentro del documento. En el caso de __str__ se imprime la etiqueta y sus contenidos y en el caso de __encode_contents__ solo se imprimen los contenidos."
   ]
  },
  {
   "cell_type": "code",
   "execution_count": 37,
   "metadata": {
    "collapsed": false
   },
   "outputs": [
    {
     "name": "stdout",
     "output_type": "stream",
     "text": [
      "<h1>Cabecera</h1>\n",
      "\n",
      "b'Cabecera'\n"
     ]
    }
   ],
   "source": [
    "from bs4 import BeautifulSoup\n",
    "doc=\"<html><h1>Cabecera</h1><p>Text\"\n",
    "soup=BeautifulSoup(doc, 'html.parser')\n",
    "cabecera=soup.h1\n",
    "print (str(cabecera))\n",
    "print()\n",
    "print(cabecera.encode_contents())"
   ]
  },
  {
   "cell_type": "markdown",
   "metadata": {},
   "source": [
    "Cuando se llama a __str__, __prettify__ o __encode_contents__ se puede especifica la codificación de salida de la cadena. Por defecto es UTF-8"
   ]
  },
  {
   "cell_type": "code",
   "execution_count": 36,
   "metadata": {
    "collapsed": false
   },
   "outputs": [
    {
     "name": "stdout",
     "output_type": "stream",
     "text": [
      "Sacré bleu!\n",
      "b'Sacr\\xe9 bleu!\\n'\n",
      "b'\\xff\\xfeS\\x00a\\x00c\\x00r\\x00\\xe9\\x00 \\x00b\\x00l\\x00e\\x00u\\x00!\\x00\\n\\x00'\n",
      "b'Sacr\\x8f\\xab\\xb1 bleu!\\n'\n"
     ]
    }
   ],
   "source": [
    "from bs4 import BeautifulSoup\n",
    "doc=\"Sacr\\xe9 bleu!\"\n",
    "soup=BeautifulSoup(doc, 'html.parser')\n",
    "print(str(soup))\n",
    "print(soup.prettify(encoding=\"ISO-8859-1\"))\n",
    "print(soup.prettify(encoding=\"UTF-16\"))\n",
    "print(soup.prettify(encoding=\"EUC-JP\"))"
   ]
  },
  {
   "cell_type": "markdown",
   "metadata": {},
   "source": [
    "Si el documento original contenía una especificación de codificación entonces se reescribe cuando se convierte a cadena a UTF-8"
   ]
  },
  {
   "cell_type": "code",
   "execution_count": 39,
   "metadata": {
    "collapsed": false
   },
   "outputs": [
    {
     "name": "stdout",
     "output_type": "stream",
     "text": [
      "<html>\n",
      " <meta charset=\"utf-8\" content=\"test/html;\" http-equiv=\"Content-type\">\n",
      "  Sacré bleu!\n",
      " </meta>\n",
      "</html>\n"
     ]
    }
   ],
   "source": [
    "from bs4 import BeautifulSoup\n",
    "doc=\"\"\"<html>\n",
    "<meta http-equiv=\"Content-type\" content=test/html; charset=ISO-Latin-1\">\n",
    "Sacr\\xe9 bleu!\n",
    "</html>\"\"\"\n",
    "print (BeautifulSoup(doc, 'html.parser').prettify())"
   ]
  },
  {
   "cell_type": "markdown",
   "metadata": {},
   "source": [
    "__Parsear un documento html__\n",
    "\n",
    "BeautifulSoup toma un documento html y lo parsea a una estructura de datos en forma de árbol. Si el documento está bien formado el árbol se parece al documento original pero si no lo está entonces usa heurísticas para conseguir una estructura razonable. \n",
    "\n",
    "En este sentido se usa el siguiente conocimiento:\n",
    "\n",
    "* Hay etiquetas que pueden estar anidadas(&lt;BLOCKQUOTE/>) y otras no(&lt;P/>).\n",
    "\n",
    "* Las tablas y listas de etiquetas tienen un orden de anidamiento natural. Por ejemplo &lt;TD> está en el interior de &lt;TR>.\n",
    "\n",
    "* Los contenidos de una etiqueta &lt;SCRIPT> no deben ser parseados.\n",
    "\n",
    "* Una etiqueta &lt;META> puede especificar una codificación del documento.\n",
    "\n"
   ]
  },
  {
   "cell_type": "code",
   "execution_count": 41,
   "metadata": {
    "collapsed": false
   },
   "outputs": [
    {
     "name": "stdout",
     "output_type": "stream",
     "text": [
      "<html>\n",
      " <p>\n",
      "  Parra 1\n",
      "  <p>\n",
      "   Parra 2\n",
      "   <blockquote>\n",
      "    Quote 1\n",
      "    <blockquote>\n",
      "     Quote 2\n",
      "    </blockquote>\n",
      "   </blockquote>\n",
      "  </p>\n",
      " </p>\n",
      "</html>\n"
     ]
    }
   ],
   "source": [
    "from bs4 import BeautifulSoup\n",
    "html=\"<html><p>Parra 1<p> Parra 2<blockquote>Quote 1<blockquote>Quote 2\"\n",
    "soup=BeautifulSoup(html, 'html.parser')\n",
    "print (soup.prettify())"
   ]
  },
  {
   "cell_type": "code",
   "execution_count": 42,
   "metadata": {
    "collapsed": false
   },
   "outputs": [
    {
     "name": "stdout",
     "output_type": "stream",
     "text": [
      "<html>\n",
      " <form>\n",
      "  <table>\n",
      "   <td>\n",
      "    <input name=\"input1\">\n",
      "     Row 1 cell 1\n",
      "     <tr>\n",
      "      <td>\n",
      "       Row 2 cell 1\n",
      "      </td>\n",
      "     </tr>\n",
      "    </input>\n",
      "   </td>\n",
      "  </table>\n",
      " </form>\n",
      " <td>\n",
      "  Row 2 cell 2\n",
      "  <br>\n",
      "   This\n",
      "  </br>\n",
      "  sure is a long cell\n",
      " </td>\n",
      "</html>\n",
      "\n"
     ]
    }
   ],
   "source": [
    "from bs4 import BeautifulSoup\n",
    "html=\"\"\"\n",
    "<html>\n",
    "<form>\n",
    "<table>\n",
    "<td><input name=\"input1\"> Row 1 cell 1\n",
    "<tr> <td> Row 2 cell 1\n",
    "</form>\n",
    "<td> Row 2 cell 2 <br> This </br> sure is a long cell\n",
    "</body>\n",
    "</html>\"\"\"\n",
    "\n",
    "print(BeautifulSoup(html, 'html.parser').prettify())"
   ]
  },
  {
   "cell_type": "markdown",
   "metadata": {},
   "source": [
    "El objeto Beautifulsoup representa un árbol de procesamiento que contiene dos tipos de objetos:\n",
    "\n",
    "* Objetos de tipo tag que se corresponden con etiquetas o elementos del documento HTML\n",
    "\n",
    "* Objetos de tipo NavigableString que se corresponden con cadenas. Existen subclases de NavigableString que corresponden a construcciones especiales XML tales como CData, Comment, Declaration, and ProcessingInstruction.\n",
    "\n",
    "Los elementos representados por los objetos de tipo tag pueden tener asociados atributos y se puede acceder a ellos como si fuera un diccionario. Sin embargo los elementos representados por los objetos NavigableString no tienen asociados atributos.\n",
    "\n",
    "Considerar el siguiente ejemplo para las explicaciones siguientes:"
   ]
  },
  {
   "cell_type": "raw",
   "metadata": {},
   "source": [
    "<html>\n",
    " <head>\n",
    "  <title>\n",
    "  Título de la página\n",
    "  </title>\n",
    "  </head>\n",
    "  <body>\n",
    "  <p id=\"primerparrafo\" align=\"center\">\n",
    "  Esto es un parrafo\n",
    "  <b>\n",
    "  one\n",
    "  </b>\n",
    "  .\n",
    "  </p>\n",
    "  <p id=\"segundoparrafo\" align=\"blah\">\n",
    "  Esto es un parrafo\n",
    "  <b>\n",
    "  two\n",
    "  </b>\n",
    "  .\n",
    "  </p>\n",
    "  </body>\n",
    "</html>"
   ]
  },
  {
   "cell_type": "markdown",
   "metadata": {},
   "source": [
    "En el siguiente ejemplo se recuperan las etiquetas “p” y se accede a sus atributos como si fuera un diccionario."
   ]
  },
  {
   "cell_type": "code",
   "execution_count": 82,
   "metadata": {
    "collapsed": false
   },
   "outputs": [
    {
     "name": "stdout",
     "output_type": "stream",
     "text": [
      "primerparrafo\n",
      "segundoparrafo\n"
     ]
    }
   ],
   "source": [
    "from bs4 import BeautifulSoup\n",
    "html=open(\"prueba.html\")\n",
    "soup=BeautifulSoup(html.read(),'html.parser')\n",
    "Primero, Segundo=soup.find_all(\"p\")\n",
    "print (Primero['id'])\n",
    "print (Segundo['id'])"
   ]
  },
  {
   "cell_type": "markdown",
   "metadata": {},
   "source": [
    "Los valores tag pueden ser pasados a la función str() para mostrar las etiquetas que representan. Además los valores tag tienen un atributo llamado attrs que muestra todos los atributos HTML que tiene el elemento en forma de un diccionario.\n",
    "\n",
    "Los objetos Tag y NavigableString disponen de un conjunto de atributos y métodos:\n",
    "\n",
    "* __parent__: Permite acceder al objeto que representa la etiqueta padre del objeto que representa a  una etiqueta. Permite navegar por el árbol de procesamiento.\n"
   ]
  },
  {
   "cell_type": "code",
   "execution_count": 83,
   "metadata": {
    "collapsed": false
   },
   "outputs": [
    {
     "data": {
      "text/plain": [
       "'html'"
      ]
     },
     "execution_count": 83,
     "metadata": {},
     "output_type": "execute_result"
    }
   ],
   "source": [
    "soup.head.parent.name"
   ]
  },
  {
   "cell_type": "markdown",
   "metadata": {},
   "source": [
    "* __contents__: Representa una lista ordenada de los objetos Tags y NavigableString contenidos dentro de un elemento. Solo el objeto que representa al árbol y los objetos tags poseen este atributo. Los objetos NavigableString no tienen el atributo contents, pues sólo tienen cadenas.\n"
   ]
  },
  {
   "cell_type": "code",
   "execution_count": 96,
   "metadata": {
    "collapsed": false
   },
   "outputs": [
    {
     "data": {
      "text/plain": [
       "['Esto es un parrafo', <b>one</b>, '.']"
      ]
     },
     "execution_count": 96,
     "metadata": {},
     "output_type": "execute_result"
    }
   ],
   "source": [
    "etiquetasp=soup.p\n",
    "etiquetasp.contents"
   ]
  },
  {
   "cell_type": "code",
   "execution_count": 97,
   "metadata": {
    "collapsed": false
   },
   "outputs": [
    {
     "data": {
      "text/plain": [
       "['one']"
      ]
     },
     "execution_count": 97,
     "metadata": {},
     "output_type": "execute_result"
    }
   ],
   "source": [
    "etiquetasp.contents[1].contents"
   ]
  },
  {
   "cell_type": "code",
   "execution_count": 98,
   "metadata": {
    "collapsed": false
   },
   "outputs": [
    {
     "ename": "AttributeError",
     "evalue": "'NavigableString' object has no attribute 'contents'",
     "output_type": "error",
     "traceback": [
      "\u001b[0;31m---------------------------------------------------------------------------\u001b[0m",
      "\u001b[0;31mAttributeError\u001b[0m                            Traceback (most recent call last)",
      "\u001b[0;32m<ipython-input-98-853c80af9032>\u001b[0m in \u001b[0;36m<module>\u001b[0;34m()\u001b[0m\n\u001b[0;32m----> 1\u001b[0;31m \u001b[0metiquetasp\u001b[0m\u001b[1;33m.\u001b[0m\u001b[0mcontents\u001b[0m\u001b[1;33m[\u001b[0m\u001b[1;36m0\u001b[0m\u001b[1;33m]\u001b[0m\u001b[1;33m.\u001b[0m\u001b[0mcontents\u001b[0m\u001b[1;33m\u001b[0m\u001b[0m\n\u001b[0m",
      "\u001b[0;32mC:\\Users\\Antonio\\Anaconda3\\lib\\site-packages\\bs4\\element.py\u001b[0m in \u001b[0;36m__getattr__\u001b[0;34m(self, attr)\u001b[0m\n\u001b[1;32m    728\u001b[0m             raise AttributeError(\n\u001b[1;32m    729\u001b[0m                 \"'%s' object has no attribute '%s'\" % (\n\u001b[0;32m--> 730\u001b[0;31m                     self.__class__.__name__, attr))\n\u001b[0m\u001b[1;32m    731\u001b[0m \u001b[1;33m\u001b[0m\u001b[0m\n\u001b[1;32m    732\u001b[0m     \u001b[1;32mdef\u001b[0m \u001b[0moutput_ready\u001b[0m\u001b[1;33m(\u001b[0m\u001b[0mself\u001b[0m\u001b[1;33m,\u001b[0m \u001b[0mformatter\u001b[0m\u001b[1;33m=\u001b[0m\u001b[1;34m\"minimal\"\u001b[0m\u001b[1;33m)\u001b[0m\u001b[1;33m:\u001b[0m\u001b[1;33m\u001b[0m\u001b[0m\n",
      "\u001b[0;31mAttributeError\u001b[0m: 'NavigableString' object has no attribute 'contents'"
     ]
    }
   ],
   "source": [
    "etiquetasp.contents[0].contents"
   ]
  },
  {
   "cell_type": "markdown",
   "metadata": {},
   "source": [
    "* __string__: Si un tag solo tiene un nodo hijo y se trata de una cadena, entonces se puede acceder al mismo mediante tag.string o mediante tag.contents[0]. Cuando existen hijos, y se trata de acceder al atributo string, devuelve como resultado el valor None. Los objetos NavigableString no tienen este atributo.\n"
   ]
  },
  {
   "cell_type": "code",
   "execution_count": 99,
   "metadata": {
    "collapsed": false
   },
   "outputs": [
    {
     "data": {
      "text/plain": [
       "'one'"
      ]
     },
     "execution_count": 99,
     "metadata": {},
     "output_type": "execute_result"
    }
   ],
   "source": [
    "soup.b.string"
   ]
  },
  {
   "cell_type": "code",
   "execution_count": 100,
   "metadata": {
    "collapsed": false
   },
   "outputs": [
    {
     "data": {
      "text/plain": [
       "'one'"
      ]
     },
     "execution_count": 100,
     "metadata": {},
     "output_type": "execute_result"
    }
   ],
   "source": [
    "soup.b.contents[0]"
   ]
  },
  {
   "cell_type": "code",
   "execution_count": 101,
   "metadata": {
    "collapsed": false
   },
   "outputs": [
    {
     "data": {
      "text/plain": [
       "True"
      ]
     },
     "execution_count": 101,
     "metadata": {},
     "output_type": "execute_result"
    }
   ],
   "source": [
    "soup.p.string==None"
   ]
  },
  {
   "cell_type": "code",
   "execution_count": 102,
   "metadata": {
    "collapsed": false
   },
   "outputs": [
    {
     "data": {
      "text/plain": [
       "False"
      ]
     },
     "execution_count": 102,
     "metadata": {},
     "output_type": "execute_result"
    }
   ],
   "source": [
    "soup.head.string==None"
   ]
  },
  {
   "cell_type": "markdown",
   "metadata": {},
   "source": [
    "* __next_sibling__ y __previous_sibling__: Permite recuperar el objeto anterior o posterior que se encuentra al mismo nivel del objeto considerado. En el ejemplo anterior la etiqueta &lt;Body> está al mismo nivel que la etiqueta &lt;Head> pero esta última aparece antes.\n"
   ]
  },
  {
   "cell_type": "code",
   "execution_count": 93,
   "metadata": {
    "collapsed": false
   },
   "outputs": [
    {
     "data": {
      "text/plain": [
       "'body'"
      ]
     },
     "execution_count": 93,
     "metadata": {},
     "output_type": "execute_result"
    }
   ],
   "source": [
    "soup.head.next_sibling.name"
   ]
  },
  {
   "cell_type": "code",
   "execution_count": 95,
   "metadata": {
    "collapsed": false
   },
   "outputs": [
    {
     "data": {
      "text/plain": [
       "True"
      ]
     },
     "execution_count": 95,
     "metadata": {},
     "output_type": "execute_result"
    }
   ],
   "source": [
    "soup.head.previous_sibling==None"
   ]
  },
  {
   "cell_type": "markdown",
   "metadata": {},
   "source": [
    "* __next__ y __previous__: Permiten navegar en el árbol de procesamiento sobre los objetos en el orden en que fueron procesados en vez del orden dado por el árbol. En el ejemplo el objeto next al objeto que representa a &lt;HEAD> es el objeto que representa a &lt;TITLE> y no el objeto que representa a &lt;BODY>."
   ]
  },
  {
   "cell_type": "code",
   "execution_count": 103,
   "metadata": {
    "collapsed": false
   },
   "outputs": [
    {
     "data": {
      "text/plain": [
       "<title>TÃ­tulo de la pÃ¡gina</title>"
      ]
     },
     "execution_count": 103,
     "metadata": {},
     "output_type": "execute_result"
    }
   ],
   "source": [
    "soup.head.next"
   ]
  },
  {
   "cell_type": "code",
   "execution_count": 104,
   "metadata": {
    "collapsed": false
   },
   "outputs": [
    {
     "data": {
      "text/plain": [
       "'body'"
      ]
     },
     "execution_count": 104,
     "metadata": {},
     "output_type": "execute_result"
    }
   ],
   "source": [
    "soup.head.next_sibling.name"
   ]
  },
  {
   "cell_type": "code",
   "execution_count": 105,
   "metadata": {
    "collapsed": false
   },
   "outputs": [
    {
     "data": {
      "text/plain": [
       "'html'"
      ]
     },
     "execution_count": 105,
     "metadata": {},
     "output_type": "execute_result"
    }
   ],
   "source": [
    "soup.head.previous.name"
   ]
  },
  {
   "cell_type": "markdown",
   "metadata": {},
   "source": [
    "Observaciones:\n",
    "\n",
    "* Se puede iterar sobre el atributo contents de un objeto tag y tratarlo como una lista, y de forma similar se puede obtener el número de hijos mediante len(tag) o len(tag.contents)."
   ]
  },
  {
   "cell_type": "code",
   "execution_count": 106,
   "metadata": {
    "collapsed": false
   },
   "outputs": [
    {
     "name": "stdout",
     "output_type": "stream",
     "text": [
      "<p align=\"center\" id=\"primerparrafo\">Esto es un parrafo<b>one</b>.</p>\n",
      "<p align=\"blah\" id=\"segundoparrafo\">Esto es un parrafo<b>two</b>.</p>\n"
     ]
    }
   ],
   "source": [
    "for i in soup.body:\n",
    "    print (i)"
   ]
  },
  {
   "cell_type": "code",
   "execution_count": 107,
   "metadata": {
    "collapsed": false
   },
   "outputs": [
    {
     "data": {
      "text/plain": [
       "2"
      ]
     },
     "execution_count": 107,
     "metadata": {},
     "output_type": "execute_result"
    }
   ],
   "source": [
    "len(soup.body)"
   ]
  },
  {
   "cell_type": "code",
   "execution_count": 108,
   "metadata": {
    "collapsed": false
   },
   "outputs": [
    {
     "data": {
      "text/plain": [
       "2"
      ]
     },
     "execution_count": 108,
     "metadata": {},
     "output_type": "execute_result"
    }
   ],
   "source": [
    "len(soup.body.contents)"
   ]
  },
  {
   "cell_type": "markdown",
   "metadata": {},
   "source": [
    "* Se puede usar los nombres de un objeto tag como si fueran atributos del árbol de procesamiento o de un objeto tag. Siempre que se usa de esta forma, devuelve el primer nodo hijo cuyo nombre sea el considerado o bien retorna None si no existen hijos con ese nombre. En el ejemplo anterior para acceder a la etiqueta &lt;Title> se puede ir a partir de la etiqueta &lt;Head> o bien directamente.\n"
   ]
  },
  {
   "cell_type": "code",
   "execution_count": 109,
   "metadata": {
    "collapsed": false
   },
   "outputs": [
    {
     "data": {
      "text/plain": [
       "<title>TÃ­tulo de la pÃ¡gina</title>"
      ]
     },
     "execution_count": 109,
     "metadata": {},
     "output_type": "execute_result"
    }
   ],
   "source": [
    "soup.head.title"
   ]
  },
  {
   "cell_type": "code",
   "execution_count": 110,
   "metadata": {
    "collapsed": false
   },
   "outputs": [
    {
     "data": {
      "text/plain": [
       "<title>TÃ­tulo de la pÃ¡gina</title>"
      ]
     },
     "execution_count": 110,
     "metadata": {},
     "output_type": "execute_result"
    }
   ],
   "source": [
    "soup.title"
   ]
  },
  {
   "cell_type": "markdown",
   "metadata": {},
   "source": [
    "* Ahora se van a considerar los métodos que permiten buscar en el árbol de procesamiento: find_all y find.\n",
    "\n",
    "* Solo se encuentran disponibles para el objeto que representa el árbol de procesamiento y en los objetos de tipo tag pero no en los objetos de tipo NavigableString\n",
    "\n",
    "El método find_all busca todos los objetos tag y NavigableString  que coinciden con un criterio dado desde un punto dado. Sus principales argumentos son:\n",
    "\n",
    "               find_all(name, attrs, recursive, text, limit)\n",
    "\n",
    "donde:\n",
    "               \n",
    "* Un nombre que restringe el conjunto de búsqueda por el nombre de las etiquetas.\n",
    "\n",
    "* Pares atributo-valor que restringen el conjunto de búsqueda por los valores que toman los atributos de las etiquetas.\n",
    "\n",
    "* El argumento “text” permite buscar objetos NavigableString , y puede tomar como valores una cadena, una expresión regular, una lista o diccionario, True o None o bien una expresión booleana. Cuando se usa este argumento, las restricciones sobre nombre o atributo no se tienen en cuenta.\n",
    "\n",
    "* El argumento “recursive” que puede tomar los valores True o False que indica si busca por debajo del árbol o bien por los hijos inmediatos del árbol. Por defecto es True.\n",
    "\n",
    "* El argumento limit permite parar la búsqueda cuando se han conseguido un número de coincidencias dado. Por defecto no tienen límite.\n",
    "\n",
    "\n"
   ]
  },
  {
   "cell_type": "markdown",
   "metadata": {},
   "source": [
    "Algunos ejemplos de restricción por nombre:\n",
    "\n",
    "* Argumento con el nombre de una etiqueta."
   ]
  },
  {
   "cell_type": "code",
   "execution_count": 111,
   "metadata": {
    "collapsed": false
   },
   "outputs": [
    {
     "data": {
      "text/plain": [
       "[<b>one</b>, <b>two</b>]"
      ]
     },
     "execution_count": 111,
     "metadata": {},
     "output_type": "execute_result"
    }
   ],
   "source": [
    "soup.find_all('b')"
   ]
  },
  {
   "cell_type": "markdown",
   "metadata": {},
   "source": [
    "* Argumento con una expresión regular"
   ]
  },
  {
   "cell_type": "code",
   "execution_count": 112,
   "metadata": {
    "collapsed": false
   },
   "outputs": [
    {
     "name": "stdout",
     "output_type": "stream",
     "text": [
      "body\n",
      "b\n",
      "b\n"
     ]
    }
   ],
   "source": [
    "import re\n",
    "etiquetasconb=soup.find_all(re.compile('^b'))\n",
    "for tag in etiquetasconb:\n",
    "    print(tag.name)"
   ]
  },
  {
   "cell_type": "markdown",
   "metadata": {},
   "source": [
    "* Argumento con una lista o diccionario."
   ]
  },
  {
   "cell_type": "code",
   "execution_count": 113,
   "metadata": {
    "collapsed": false
   },
   "outputs": [
    {
     "data": {
      "text/plain": [
       "[<title>TÃ­tulo de la pÃ¡gina</title>,\n",
       " <p align=\"center\" id=\"primerparrafo\">Esto es un parrafo<b>one</b>.</p>,\n",
       " <p align=\"blah\" id=\"segundoparrafo\">Esto es un parrafo<b>two</b>.</p>]"
      ]
     },
     "execution_count": 113,
     "metadata": {},
     "output_type": "execute_result"
    }
   ],
   "source": [
    "soup.find_all(['title','p'])"
   ]
  },
  {
   "cell_type": "code",
   "execution_count": 114,
   "metadata": {
    "collapsed": false
   },
   "outputs": [
    {
     "data": {
      "text/plain": [
       "[<title>TÃ­tulo de la pÃ¡gina</title>,\n",
       " <p align=\"center\" id=\"primerparrafo\">Esto es un parrafo<b>one</b>.</p>,\n",
       " <p align=\"blah\" id=\"segundoparrafo\">Esto es un parrafo<b>two</b>.</p>]"
      ]
     },
     "execution_count": 114,
     "metadata": {},
     "output_type": "execute_result"
    }
   ],
   "source": [
    "soup.find_all({'title':True,'p':True})"
   ]
  },
  {
   "cell_type": "markdown",
   "metadata": {},
   "source": [
    "* Argumento con el valor True que produce una coincidencia con cada objeto tag."
   ]
  },
  {
   "cell_type": "code",
   "execution_count": 115,
   "metadata": {
    "collapsed": false
   },
   "outputs": [
    {
     "name": "stdout",
     "output_type": "stream",
     "text": [
      "html\n",
      "head\n",
      "title\n",
      "body\n",
      "p\n",
      "b\n",
      "p\n",
      "b\n"
     ]
    }
   ],
   "source": [
    "etiquetas=soup.find_all(True)\n",
    "for tag in etiquetas:\n",
    "    print(tag.name)"
   ]
  },
  {
   "cell_type": "markdown",
   "metadata": {},
   "source": [
    "* Argumento con una expresión que evalúa a cierto o falso."
   ]
  },
  {
   "cell_type": "code",
   "execution_count": 117,
   "metadata": {
    "collapsed": false
   },
   "outputs": [
    {
     "data": {
      "text/plain": [
       "[<p align=\"center\" id=\"primerparrafo\">Esto es un parrafo<b>one</b>.</p>,\n",
       " <p align=\"blah\" id=\"segundoparrafo\">Esto es un parrafo<b>two</b>.</p>]"
      ]
     },
     "execution_count": 117,
     "metadata": {},
     "output_type": "execute_result"
    }
   ],
   "source": [
    "soup.find_all(lambda tag: len(tag.attrs)==2)"
   ]
  },
  {
   "cell_type": "code",
   "execution_count": 119,
   "metadata": {
    "collapsed": false
   },
   "outputs": [
    {
     "data": {
      "text/plain": [
       "[<b>one</b>, <b>two</b>]"
      ]
     },
     "execution_count": 119,
     "metadata": {},
     "output_type": "execute_result"
    }
   ],
   "source": [
    "soup.find_all(lambda tag: len(tag.name)==1 and not tag.attrs)"
   ]
  },
  {
   "cell_type": "markdown",
   "metadata": {},
   "source": [
    "Algunos ejemplos de restricción por atributo:\n",
    "\n",
    "* Argumento que impone una condición al valor que toma un atributo."
   ]
  },
  {
   "cell_type": "code",
   "execution_count": 120,
   "metadata": {
    "collapsed": false
   },
   "outputs": [
    {
     "data": {
      "text/plain": [
       "[<p align=\"center\" id=\"primerparrafo\">Esto es un parrafo<b>one</b>.</p>]"
      ]
     },
     "execution_count": 120,
     "metadata": {},
     "output_type": "execute_result"
    }
   ],
   "source": [
    "soup.find_all(align=\"center\")"
   ]
  },
  {
   "cell_type": "markdown",
   "metadata": {},
   "source": [
    "* Argumento que impone una condición en forma de expresión regular al valor que toma un atributo."
   ]
  },
  {
   "cell_type": "code",
   "execution_count": 121,
   "metadata": {
    "collapsed": false
   },
   "outputs": [
    {
     "data": {
      "text/plain": [
       "[]"
      ]
     },
     "execution_count": 121,
     "metadata": {},
     "output_type": "execute_result"
    }
   ],
   "source": [
    "soup.find_all(id=re.compile(\"parra$\"))"
   ]
  },
  {
   "cell_type": "markdown",
   "metadata": {},
   "source": [
    "* Argumento que impone una condición en forma de lista al valor que toma un atributo."
   ]
  },
  {
   "cell_type": "code",
   "execution_count": 123,
   "metadata": {
    "collapsed": false
   },
   "outputs": [
    {
     "data": {
      "text/plain": [
       "[<p align=\"center\" id=\"primerparrafo\">Esto es un parrafo<b>one</b>.</p>,\n",
       " <p align=\"blah\" id=\"segundoparrafo\">Esto es un parrafo<b>two</b>.</p>]"
      ]
     },
     "execution_count": 123,
     "metadata": {},
     "output_type": "execute_result"
    }
   ],
   "source": [
    "soup.find_all(align=[\"center\",\"blah\"])"
   ]
  },
  {
   "cell_type": "markdown",
   "metadata": {},
   "source": [
    "* Argumento que impone una condición en forma de una expresión booleano al valor que toma un atributo."
   ]
  },
  {
   "cell_type": "code",
   "execution_count": 125,
   "metadata": {
    "collapsed": false
   },
   "outputs": [
    {
     "data": {
      "text/plain": [
       "[<p align=\"blah\" id=\"segundoparrafo\">Esto es un parrafo<b>two</b>.</p>]"
      ]
     },
     "execution_count": 125,
     "metadata": {},
     "output_type": "execute_result"
    }
   ],
   "source": [
    "soup.find_all(align=lambda value: value and len(value) <5)"
   ]
  },
  {
   "cell_type": "markdown",
   "metadata": {},
   "source": [
    "* Argumento que iguala a True o None el valor de un atributo. True encaja con etiquetas que toman cualquier valor para el atributo y None encaja con etiquetas que no tienen valor para ese atributo."
   ]
  },
  {
   "cell_type": "code",
   "execution_count": 126,
   "metadata": {
    "collapsed": false
   },
   "outputs": [
    {
     "data": {
      "text/plain": [
       "[<p align=\"center\" id=\"primerparrafo\">Esto es un parrafo<b>one</b>.</p>,\n",
       " <p align=\"blah\" id=\"segundoparrafo\">Esto es un parrafo<b>two</b>.</p>]"
      ]
     },
     "execution_count": 126,
     "metadata": {},
     "output_type": "execute_result"
    }
   ],
   "source": [
    "soup.find_all(align=True)"
   ]
  },
  {
   "cell_type": "code",
   "execution_count": 127,
   "metadata": {
    "collapsed": false
   },
   "outputs": [
    {
     "name": "stdout",
     "output_type": "stream",
     "text": [
      "html\n",
      "head\n",
      "title\n",
      "body\n",
      "b\n",
      "b\n"
     ]
    }
   ],
   "source": [
    "etiquetas=soup.find_all(align=None)\n",
    "for eti in etiquetas:\n",
    "    print(eti.name)"
   ]
  },
  {
   "cell_type": "markdown",
   "metadata": {},
   "source": [
    "Algunos ejemplos del argumento text:"
   ]
  },
  {
   "cell_type": "code",
   "execution_count": 130,
   "metadata": {
    "collapsed": false
   },
   "outputs": [
    {
     "data": {
      "text/plain": [
       "['one']"
      ]
     },
     "execution_count": 130,
     "metadata": {},
     "output_type": "execute_result"
    }
   ],
   "source": [
    "soup.find_all(text=\"one\")"
   ]
  },
  {
   "cell_type": "code",
   "execution_count": 131,
   "metadata": {
    "collapsed": false
   },
   "outputs": [
    {
     "data": {
      "text/plain": [
       "['one', 'two']"
      ]
     },
     "execution_count": 131,
     "metadata": {},
     "output_type": "execute_result"
    }
   ],
   "source": [
    "soup.find_all(text=[\"one\",\"two\"])"
   ]
  },
  {
   "cell_type": "code",
   "execution_count": 132,
   "metadata": {
    "collapsed": false
   },
   "outputs": [
    {
     "data": {
      "text/plain": [
       "['ï»¿',\n",
       " 'TÃ\\xadtulo de la pÃ¡gina',\n",
       " 'Esto es un parrafo',\n",
       " 'one',\n",
       " '.',\n",
       " 'Esto es un parrafo',\n",
       " 'two',\n",
       " '.']"
      ]
     },
     "execution_count": 132,
     "metadata": {},
     "output_type": "execute_result"
    }
   ],
   "source": [
    "soup.find_all(text=True)"
   ]
  },
  {
   "cell_type": "code",
   "execution_count": 133,
   "metadata": {
    "collapsed": false
   },
   "outputs": [
    {
     "data": {
      "text/plain": [
       "['ï»¿', 'one', '.', 'two', '.']"
      ]
     },
     "execution_count": 133,
     "metadata": {},
     "output_type": "execute_result"
    }
   ],
   "source": [
    "soup.find_all(text=lambda x: len(x)<12)"
   ]
  },
  {
   "cell_type": "code",
   "execution_count": 134,
   "metadata": {
    "collapsed": false
   },
   "outputs": [
    {
     "data": {
      "text/plain": [
       "['Esto es un parrafo', 'Esto es un parrafo']"
      ]
     },
     "execution_count": 134,
     "metadata": {},
     "output_type": "execute_result"
    }
   ],
   "source": [
    "soup.find_all(text=re.compile(\"parrafo\"))"
   ]
  },
  {
   "cell_type": "markdown",
   "metadata": {},
   "source": [
    "Algunos ejemplos del argumento recursive:"
   ]
  },
  {
   "cell_type": "code",
   "execution_count": 135,
   "metadata": {
    "collapsed": false
   },
   "outputs": [
    {
     "data": {
      "text/plain": [
       "['head', 'title', 'body', 'p', 'b', 'p', 'b']"
      ]
     },
     "execution_count": 135,
     "metadata": {},
     "output_type": "execute_result"
    }
   ],
   "source": [
    "[tag.name for tag in soup.html.find_all()]"
   ]
  },
  {
   "cell_type": "code",
   "execution_count": 136,
   "metadata": {
    "collapsed": false
   },
   "outputs": [
    {
     "data": {
      "text/plain": [
       "['head', 'body']"
      ]
     },
     "execution_count": 136,
     "metadata": {},
     "output_type": "execute_result"
    }
   ],
   "source": [
    "[tag.name for tag in soup.html.find_all(recursive=False)]"
   ]
  },
  {
   "cell_type": "markdown",
   "metadata": {},
   "source": [
    "Algunos ejemplos del argumento limit:"
   ]
  },
  {
   "cell_type": "code",
   "execution_count": 137,
   "metadata": {
    "collapsed": false
   },
   "outputs": [
    {
     "data": {
      "text/plain": [
       "[<p align=\"center\" id=\"primerparrafo\">Esto es un parrafo<b>one</b>.</p>]"
      ]
     },
     "execution_count": 137,
     "metadata": {},
     "output_type": "execute_result"
    }
   ],
   "source": [
    "soup.find_all('p',limit=1)"
   ]
  },
  {
   "cell_type": "code",
   "execution_count": 138,
   "metadata": {
    "collapsed": false
   },
   "outputs": [
    {
     "data": {
      "text/plain": [
       "[<p align=\"center\" id=\"primerparrafo\">Esto es un parrafo<b>one</b>.</p>,\n",
       " <p align=\"blah\" id=\"segundoparrafo\">Esto es un parrafo<b>two</b>.</p>]"
      ]
     },
     "execution_count": 138,
     "metadata": {},
     "output_type": "execute_result"
    }
   ],
   "source": [
    "soup.find_all('p',limit=100)"
   ]
  },
  {
   "cell_type": "markdown",
   "metadata": {},
   "source": [
    "El método find tiene una estructura similar a find_all:\n",
    "          \n",
    "           find(name, attrs, recursive, text)\n",
    "\n",
    "Es similar a find_all con la única diferencia de que en vez de recuperar todas las coincidencias, recupera sólo la primera. Tiene el mismo comportamiento que si el parámetro limit de find_all tomara el valor 1.\n"
   ]
  },
  {
   "cell_type": "code",
   "execution_count": 139,
   "metadata": {
    "collapsed": false
   },
   "outputs": [
    {
     "data": {
      "text/plain": [
       "[<p align=\"center\" id=\"primerparrafo\">Esto es un parrafo<b>one</b>.</p>]"
      ]
     },
     "execution_count": 139,
     "metadata": {},
     "output_type": "execute_result"
    }
   ],
   "source": [
    "soup.find_all('p', limit=1)"
   ]
  },
  {
   "cell_type": "code",
   "execution_count": 140,
   "metadata": {
    "collapsed": false
   },
   "outputs": [
    {
     "data": {
      "text/plain": [
       "<p align=\"center\" id=\"primerparrafo\">Esto es un parrafo<b>one</b>.</p>"
      ]
     },
     "execution_count": 140,
     "metadata": {},
     "output_type": "execute_result"
    }
   ],
   "source": [
    "soup.find('p')"
   ]
  },
  {
   "cell_type": "markdown",
   "metadata": {},
   "source": [
    "Observaciones:\n",
    "\n",
    "* Puede ocurrir que algún atributo de una etiqueta coincida con las palabras reservadas en BeautifulSoup. En estos casos no se puede hacer una referencia directa al atributo y es necesario usar un atributo que tienen las etiquetas denominado attrs que actúa como un diccionario que hace referencia a los atributos de una etiqueta."
   ]
  },
  {
   "cell_type": "code",
   "execution_count": 141,
   "metadata": {
    "collapsed": false
   },
   "outputs": [
    {
     "data": {
      "text/plain": [
       "[<p align=\"center\" id=\"primerparrafo\">Esto es un parrafo<b>one</b>.</p>]"
      ]
     },
     "execution_count": 141,
     "metadata": {},
     "output_type": "execute_result"
    }
   ],
   "source": [
    "soup.find_all(attrs={\"id\":\"primerparrafo\"})"
   ]
  },
  {
   "cell_type": "markdown",
   "metadata": {},
   "source": [
    "* Se pueden combinar búsqueda por nombre y por atributo:"
   ]
  },
  {
   "cell_type": "code",
   "execution_count": 142,
   "metadata": {
    "collapsed": false
   },
   "outputs": [
    {
     "data": {
      "text/plain": [
       "[<p align=\"center\" id=\"primerparrafo\">Esto es un parrafo<b>one</b>.</p>]"
      ]
     },
     "execution_count": 142,
     "metadata": {},
     "output_type": "execute_result"
    }
   ],
   "source": [
    "soup.find_all('p',{\"align\":\"center\"})"
   ]
  },
  {
   "cell_type": "markdown",
   "metadata": {},
   "source": [
    "* Cuando el objeto que representa al árbol de procesamiento o un objeto tag se usa como una función y se le pasan los mismos argumentos que a find_all, actúa como find_all."
   ]
  },
  {
   "cell_type": "code",
   "execution_count": 143,
   "metadata": {
    "collapsed": false
   },
   "outputs": [
    {
     "data": {
      "text/plain": [
       "['ï»¿', 'one', '.', 'two', '.']"
      ]
     },
     "execution_count": 143,
     "metadata": {},
     "output_type": "execute_result"
    }
   ],
   "source": [
    "soup(text=lambda x: len(x)<12)"
   ]
  },
  {
   "cell_type": "code",
   "execution_count": 144,
   "metadata": {
    "collapsed": false
   },
   "outputs": [
    {
     "data": {
      "text/plain": [
       "[<p align=\"center\" id=\"primerparrafo\">Esto es un parrafo<b>one</b>.</p>]"
      ]
     },
     "execution_count": 144,
     "metadata": {},
     "output_type": "execute_result"
    }
   ],
   "source": [
    "soup.body('p',limit=1)"
   ]
  },
  {
   "cell_type": "markdown",
   "metadata": {},
   "source": [
    "* Los métodos find_all y find empiezan en un cierto punto del árbol y lo recorren hacia abajo, iterando recursivamente sobre los elementos del atributo contents de los objetos tags. Es por ello que no se pueden usar sobre objetos de tipo NavigableString pues no tienen atributo contents.\n"
   ]
  },
  {
   "cell_type": "markdown",
   "metadata": {},
   "source": [
    "Existen otros métodos de navegación por el árbol de procesamiento:\n",
    "\n",
    "* find_next_siblings(name, attrs, text, limit) y find_next_sibling(name, attrs, text): Devuelve el nodo/s hermano/s más cercanos a la etiqueta dada que coincida con los criterios de búsqueda y que aparece después de la etiqueta considerada."
   ]
  },
  {
   "cell_type": "code",
   "execution_count": 145,
   "metadata": {
    "collapsed": false
   },
   "outputs": [
    {
     "data": {
      "text/plain": [
       "[<b>one</b>]"
      ]
     },
     "execution_count": 145,
     "metadata": {},
     "output_type": "execute_result"
    }
   ],
   "source": [
    "parrafo=soup.find(text=\"Esto es un parrafo\")\n",
    "parrafo.find_next_siblings('b')"
   ]
  },
  {
   "cell_type": "code",
   "execution_count": 146,
   "metadata": {
    "collapsed": false
   },
   "outputs": [
    {
     "data": {
      "text/plain": [
       "'.'"
      ]
     },
     "execution_count": 146,
     "metadata": {},
     "output_type": "execute_result"
    }
   ],
   "source": [
    "parrafo.find_next_sibling(text=lambda text:len(text)==1)"
   ]
  },
  {
   "cell_type": "markdown",
   "metadata": {},
   "source": [
    "* find_previous_siblings(name, attrs, text, limit) y find_previous_sibling(name, attrs, text): Devuelve el nodo/s hermano/s más cercanos a la etiqueta dada que coincida con los criterios de búsqueda y que aparece antes de la etiqueta considerada.\n"
   ]
  },
  {
   "cell_type": "code",
   "execution_count": 147,
   "metadata": {
    "collapsed": false
   },
   "outputs": [
    {
     "data": {
      "text/plain": [
       "[<b>one</b>]"
      ]
     },
     "execution_count": 147,
     "metadata": {},
     "output_type": "execute_result"
    }
   ],
   "source": [
    "parrafo=soup.find(text=\".\")\n",
    "parrafo.find_previous_siblings('b')"
   ]
  },
  {
   "cell_type": "code",
   "execution_count": 148,
   "metadata": {
    "collapsed": false
   },
   "outputs": [
    {
     "data": {
      "text/plain": [
       "'Esto es un parrafo'"
      ]
     },
     "execution_count": 148,
     "metadata": {},
     "output_type": "execute_result"
    }
   ],
   "source": [
    "parrafo.find_previous_sibling(text=True)"
   ]
  },
  {
   "cell_type": "markdown",
   "metadata": {},
   "source": [
    "* find_all_next(name, attrs, text, limit) y findNext(name, attrs, text):                                                Devuelve todos los elementos(el elemento) que coincida con los criterios de búsqueda y que aparece después de la etiqueta considerada.\n"
   ]
  },
  {
   "cell_type": "code",
   "execution_count": 149,
   "metadata": {
    "collapsed": false
   },
   "outputs": [
    {
     "data": {
      "text/plain": [
       "['Esto es un parrafo', 'one', '.', 'Esto es un parrafo', 'two', '.']"
      ]
     },
     "execution_count": 149,
     "metadata": {},
     "output_type": "execute_result"
    }
   ],
   "source": [
    "etiqueta=soup.find('p')\n",
    "etiqueta.find_all_next(text=True)"
   ]
  },
  {
   "cell_type": "code",
   "execution_count": 150,
   "metadata": {
    "collapsed": false
   },
   "outputs": [
    {
     "data": {
      "text/plain": [
       "<p align=\"blah\" id=\"segundoparrafo\">Esto es un parrafo<b>two</b>.</p>"
      ]
     },
     "execution_count": 150,
     "metadata": {},
     "output_type": "execute_result"
    }
   ],
   "source": [
    "etiqueta.find_next('p')"
   ]
  },
  {
   "cell_type": "code",
   "execution_count": 151,
   "metadata": {
    "collapsed": false
   },
   "outputs": [
    {
     "data": {
      "text/plain": [
       "<b>one</b>"
      ]
     },
     "execution_count": 151,
     "metadata": {},
     "output_type": "execute_result"
    }
   ],
   "source": [
    "etiqueta.find_next('b')"
   ]
  },
  {
   "cell_type": "markdown",
   "metadata": {},
   "source": [
    "* find_all_previous(name, attrs, text, limit) y find_previous(name, attrs, text):                            Devuelve todos los elementos(el elemento) que coincida con los criterios de búsqueda y que aparece antes de la etiqueta considerada.\n"
   ]
  },
  {
   "cell_type": "code",
   "execution_count": 152,
   "metadata": {
    "collapsed": false
   },
   "outputs": [
    {
     "data": {
      "text/plain": [
       "['.', 'one', 'Esto es un parrafo', 'TÃ\\xadtulo de la pÃ¡gina', 'ï»¿']"
      ]
     },
     "execution_count": 152,
     "metadata": {},
     "output_type": "execute_result"
    }
   ],
   "source": [
    "etiqueta=soup('p')[-1]\n",
    "etiqueta.find_all_previous(text=True)"
   ]
  },
  {
   "cell_type": "code",
   "execution_count": 153,
   "metadata": {
    "collapsed": false
   },
   "outputs": [
    {
     "data": {
      "text/plain": [
       "<p align=\"center\" id=\"primerparrafo\">Esto es un parrafo<b>one</b>.</p>"
      ]
     },
     "execution_count": 153,
     "metadata": {},
     "output_type": "execute_result"
    }
   ],
   "source": [
    "etiqueta.find_previous('p')"
   ]
  },
  {
   "cell_type": "code",
   "execution_count": 154,
   "metadata": {
    "collapsed": false
   },
   "outputs": [
    {
     "data": {
      "text/plain": [
       "<b>one</b>"
      ]
     },
     "execution_count": 154,
     "metadata": {},
     "output_type": "execute_result"
    }
   ],
   "source": [
    "etiqueta.find_previous('b')"
   ]
  },
  {
   "cell_type": "markdown",
   "metadata": {},
   "source": [
    "* find_parents(name, attrs, limit) y find_parent(name, attrs):                                                       Devuelve los padres de la etiqueta considerada que coinciden con los criterios de búsqueda."
   ]
  },
  {
   "cell_type": "code",
   "execution_count": 155,
   "metadata": {
    "collapsed": false
   },
   "outputs": [
    {
     "data": {
      "text/plain": [
       "['p', 'body', 'html', '[document]']"
      ]
     },
     "execution_count": 155,
     "metadata": {},
     "output_type": "execute_result"
    }
   ],
   "source": [
    "etiqueta=soup.find('b')\n",
    "[eti.name for eti in etiqueta.find_parents()]"
   ]
  },
  {
   "cell_type": "code",
   "execution_count": 156,
   "metadata": {
    "collapsed": false
   },
   "outputs": [
    {
     "data": {
      "text/plain": [
       "'body'"
      ]
     },
     "execution_count": 156,
     "metadata": {},
     "output_type": "execute_result"
    }
   ],
   "source": [
    "etiqueta.find_parent('body').name"
   ]
  },
  {
   "cell_type": "markdown",
   "metadata": {},
   "source": [
    "Otra utilidad que ofrece BeautifulSoup es la modificación del árbol de procesamiento:\n",
    "\n",
    "* Cambio de valores de atributos.\n",
    "\n",
    "* Eliminación de elementos.\n",
    "\n",
    "* Reemplazamiento de un elemento por otro.\n",
    "\n",
    "* Añadir una rama con un nuevo elemento.\n"
   ]
  },
  {
   "cell_type": "markdown",
   "metadata": {},
   "source": [
    "__Cambio de valores de atributos__\n",
    "\n",
    "* Se puede usar la asignación de diccionarios para modificar los valores de los atributos de un objeto tag."
   ]
  },
  {
   "cell_type": "code",
   "execution_count": 157,
   "metadata": {
    "collapsed": false
   },
   "outputs": [
    {
     "name": "stdout",
     "output_type": "stream",
     "text": [
      "<b id=\"2\"> Argh!</b>\n",
      "<b id=\"10\"> Argh!</b>\n",
      "<b id=\"diez\"> Argh!</b>\n",
      "<b id=\"un millón\"> Argh!</b>\n"
     ]
    }
   ],
   "source": [
    "from bs4 import BeautifulSoup\n",
    "soup=BeautifulSoup(\"<b id='2'> Argh!</b>\",\"html.parser\")\n",
    "print(soup)\n",
    "b=soup.b\n",
    "b['id']=10\n",
    "print(soup)\n",
    "b['id']=\"diez\"\n",
    "print(soup)\n",
    "b['id']=\"un millón\"\n",
    "print(soup)"
   ]
  },
  {
   "cell_type": "markdown",
   "metadata": {},
   "source": [
    "* Se pueden eliminar atributos y añadir otros nuevos.\n"
   ]
  },
  {
   "cell_type": "code",
   "execution_count": 159,
   "metadata": {
    "collapsed": false
   },
   "outputs": [
    {
     "name": "stdout",
     "output_type": "stream",
     "text": [
      "<b> Argh!</b>\n",
      "<b class=\"extra negro\"> Argh!</b>\n"
     ]
    }
   ],
   "source": [
    "from bs4 import BeautifulSoup\n",
    "soup=BeautifulSoup(\"<b id='2'> Argh!</b>\",\"html.parser\")\n",
    "b=soup.b\n",
    "del(b['id'])\n",
    "print(soup)\n",
    "b[\"class\"]=\"extra negro\"\n",
    "print(soup)"
   ]
  },
  {
   "cell_type": "markdown",
   "metadata": {},
   "source": [
    "__Eliminación de elementos__\n",
    "\n",
    "Cuando se sitúa sobre un elemento concreto, se puede eliminar del árbol de procesamiento con el método extract."
   ]
  },
  {
   "cell_type": "code",
   "execution_count": 161,
   "metadata": {
    "collapsed": false
   },
   "outputs": [
    {
     "name": "stdout",
     "output_type": "stream",
     "text": [
      "Eliminación de todos los comentarios del documento html\n",
      " 1\n",
      "<a>2<b>3</b></a>\n"
     ]
    }
   ],
   "source": [
    "#Se eliminan todos los comentarios del documento html\n",
    "from bs4 import BeautifulSoup,Comment\n",
    "soup=BeautifulSoup(\"\"\" 1<!--Comentario 1-->\n",
    "                        <a>2<!--Comentario 2--><b>3\"\"\", \"html.parser\")\n",
    "comentarios=soup.find_all(text=lambda text: isinstance(text,Comment))\n",
    "[comentario.extract() for comentario in comentarios]\n",
    "print (\"Eliminación de todos los comentarios del documento html\")\n",
    "print (soup)"
   ]
  },
  {
   "cell_type": "code",
   "execution_count": 163,
   "metadata": {
    "collapsed": false
   },
   "outputs": [
    {
     "name": "stdout",
     "output_type": "stream",
     "text": [
      "<a><b>Contenido de prueba<c><d></d></c></b></a>\n",
      "<a><b>Contenido de prueba<c><d></d></c></b></a>\n",
      "<a1></a1><a2></a2>\n",
      "<a2></a2>\n",
      "<a1></a1>\n",
      "True\n",
      "True\n"
     ]
    }
   ],
   "source": [
    "#Eliminación de un subárbol entero que da lugar a dos árboles disjuntos\n",
    "from bs4 import BeautifulSoup\n",
    "soup=BeautifulSoup(\"<a1></a1><a><b>Contenido de prueba<c><d></a><a2></a2>\", \"html.parser\")\n",
    "print (soup.a1.next_sibling)\n",
    "print (soup.a2.previous_sibling)\n",
    "subarbol=soup.a\n",
    "subarbol.extract()\n",
    "print (soup)\n",
    "print (soup.a1.next_sibling)\n",
    "print (soup.a2.previous_sibling)\n",
    "print (subarbol.previous_sibling==None)\n",
    "print (subarbol.parent==None)"
   ]
  },
  {
   "cell_type": "markdown",
   "metadata": {},
   "source": [
    "__Reemplazar un elemento por otro__\n",
    "\n",
    "El método replace_with extrae un elemento y lo reemplaza por otro que puede ser tanto un objeto de tipo tag o de tipo NavigableString. Si se pasa como argumento una cadena entonces lo considera un objeto de tipo NavigableString"
   ]
  },
  {
   "cell_type": "code",
   "execution_count": 164,
   "metadata": {
    "collapsed": false
   },
   "outputs": [
    {
     "name": "stdout",
     "output_type": "stream",
     "text": [
      "<b>Buff!</b>\n",
      "<b>Buff!</b>\n",
      "Buff!\n",
      "<b>Buff!</b>\n",
      "['Buff!']\n"
     ]
    }
   ],
   "source": [
    "#Ejemplo 1 de reemplazamiento del contenido de una etiqueta\n",
    "from bs4 import BeautifulSoup\n",
    "soup=BeautifulSoup(\"<b>Argh!</b>\", \"html.parser\")\n",
    "soup.find(text=\"Argh!\").replace_with(\"Buff!\")\n",
    "print(soup)\n",
    "nuevoText=soup.find(text=\"Buff!\")\n",
    "print (nuevoText.previous)\n",
    "s=nuevoText.previous.next\n",
    "print (str(s))\n",
    "print (nuevoText.parent)\n",
    "print (soup.b.contents)"
   ]
  },
  {
   "cell_type": "code",
   "execution_count": 170,
   "metadata": {
    "collapsed": false
   },
   "outputs": [
    {
     "name": "stdout",
     "output_type": "stream",
     "text": [
      "<b>Argh!<newTag>Noche</newTag></b><i>Adios</i>\n"
     ]
    }
   ],
   "source": [
    "#Ejemplo 2 de reemplazamiento de un elemento por otro nuevo\n",
    "from bs4 import BeautifulSoup\n",
    "soup=BeautifulSoup(\"<b>Argh!<a>Hola</a></b><i>Adios</i>\", \"html.parser\")\n",
    "tag=BeautifulSoup.new_tag(soup,\"newTag\",[('id','1')])\n",
    "tag.insert(0,\"Noche\")\n",
    "soup.a.replace_with(tag)\n",
    "print (soup)"
   ]
  },
  {
   "cell_type": "code",
   "execution_count": 171,
   "metadata": {
    "collapsed": false
   },
   "outputs": [
    {
     "name": "stdout",
     "output_type": "stream",
     "text": [
      "<html>Esto es  ejemplo de <b> un</b> html</html>\n"
     ]
    }
   ],
   "source": [
    "#Ejemplo 3 de reemplazamiento donde se elimina un elemento y se sustituye por\n",
    "#otro elemento del árbol de procesamiento\n",
    "from bs4 import BeautifulSoup\n",
    "soup=BeautifulSoup(\"<html>Esto es <b> un</b> ejemplo de <b> documento </b> html</html>\", \"html.parser\")\n",
    "uno,dos=soup.find_all('b')\n",
    "dos.replace_with(uno)\n",
    "print (soup)"
   ]
  },
  {
   "cell_type": "markdown",
   "metadata": {},
   "source": [
    "__Añadir una rama con un nuevo elemento.__\n",
    "\n",
    "* El método insert toma un índice sobre el atributo contents del objeto tag e inserta un nuevo elemento en dicha posición.\n"
   ]
  },
  {
   "cell_type": "code",
   "execution_count": 12,
   "metadata": {
    "collapsed": false
   },
   "outputs": [
    {
     "name": "stdout",
     "output_type": "stream",
     "text": [
      "<etiqueta1>\n",
      " <etiqueta2>\n",
      " </etiqueta2>\n",
      " <etiqueta3>\n",
      " </etiqueta3>\n",
      "</etiqueta1>\n",
      "<etiqueta1><etiqueta2></etiqueta2><etiqueta3>Hola</etiqueta3></etiqueta1>\n"
     ]
    },
    {
     "name": "stderr",
     "output_type": "stream",
     "text": [
      "C:\\Users\\Antonio\\Anaconda3\\lib\\site-packages\\bs4\\__init__.py:181: UserWarning: No parser was explicitly specified, so I'm using the best available HTML parser for this system (\"lxml\"). This usually isn't a problem, but if you run this code on another system, or in a different virtual environment, it may use a different parser and behave differently.\n",
      "\n",
      "The code that caused this warning is on line 193 of the file C:\\Users\\Antonio\\Anaconda3\\lib\\runpy.py. To get rid of this warning, change code that looks like this:\n",
      "\n",
      " BeautifulSoup([your markup])\n",
      "\n",
      "to this:\n",
      "\n",
      " BeautifulSoup([your markup], \"lxml\")\n",
      "\n",
      "  markup_type=markup_type))\n"
     ]
    }
   ],
   "source": [
    "#Ejemplo de creación de un árbol de procesamiento desde cero\n",
    "from bs4 import BeautifulSoup, NavigableString\n",
    "soup=BeautifulSoup()\n",
    "tag1= BeautifulSoup.new_tag(soup, \"etiqueta1\")\n",
    "tag2= BeautifulSoup.new_tag(soup, \"etiqueta2\")\n",
    "tag3= BeautifulSoup.new_tag(soup, \"etiqueta3\")\n",
    "soup.insert(0,tag1)\n",
    "tag1.insert(0,tag2)\n",
    "tag1.insert(1,tag3)\n",
    "print (soup.prettify())\n",
    "text=NavigableString(\"Hola\")\n",
    "tag3.insert(0,text)\n",
    "print(soup)"
   ]
  },
  {
   "cell_type": "markdown",
   "metadata": {},
   "source": [
    "* Un elemento sólo puede estar en un lugar del árbol de procesamiento. Si con el método insert se intenta insertar nuevamente un elemento, entonces es eliminado del lugar en el que estaba anteriormente.\n"
   ]
  },
  {
   "cell_type": "code",
   "execution_count": 13,
   "metadata": {
    "collapsed": false
   },
   "outputs": [
    {
     "name": "stdout",
     "output_type": "stream",
     "text": [
      "<etiqueta1>\n",
      " <etiqueta2>\n",
      " </etiqueta2>\n",
      " <etiqueta3>\n",
      " </etiqueta3>\n",
      "</etiqueta1>\n",
      "<etiqueta1><etiqueta2></etiqueta2><etiqueta3>Hola</etiqueta3></etiqueta1>\n",
      "<etiqueta1><etiqueta2>Hola</etiqueta2><etiqueta3></etiqueta3></etiqueta1>\n"
     ]
    },
    {
     "name": "stderr",
     "output_type": "stream",
     "text": [
      "C:\\Users\\Antonio\\Anaconda3\\lib\\site-packages\\bs4\\__init__.py:181: UserWarning: No parser was explicitly specified, so I'm using the best available HTML parser for this system (\"lxml\"). This usually isn't a problem, but if you run this code on another system, or in a different virtual environment, it may use a different parser and behave differently.\n",
      "\n",
      "The code that caused this warning is on line 193 of the file C:\\Users\\Antonio\\Anaconda3\\lib\\runpy.py. To get rid of this warning, change code that looks like this:\n",
      "\n",
      " BeautifulSoup([your markup])\n",
      "\n",
      "to this:\n",
      "\n",
      " BeautifulSoup([your markup], \"lxml\")\n",
      "\n",
      "  markup_type=markup_type))\n"
     ]
    }
   ],
   "source": [
    "#Ejemplo de intentar insertar un elemento dos veces\n",
    "from bs4 import BeautifulSoup, NavigableString\n",
    "soup=BeautifulSoup()\n",
    "tag1= BeautifulSoup.new_tag(soup, \"etiqueta1\")\n",
    "tag2= BeautifulSoup.new_tag(soup, \"etiqueta2\")\n",
    "tag3= BeautifulSoup.new_tag(soup, \"etiqueta3\")\n",
    "soup.insert(0,tag1)\n",
    "tag1.insert(0,tag2)\n",
    "tag1.insert(1,tag3)\n",
    "print (soup.prettify())\n",
    "text=NavigableString(\"Hola\")\n",
    "tag3.insert(0,text)\n",
    "print(soup)\n",
    "tag2.insert(0,text)\n",
    "print(soup)"
   ]
  },
  {
   "cell_type": "markdown",
   "metadata": {},
   "source": [
    "Se va a considerar el siguiente problema. Se quiere automatizar la bajada de imágenes de tren procedentes de un blog especializado.\n",
    "\n",
    "En primer lugar recuperamos la página principal del blog mediante urllib"
   ]
  },
  {
   "cell_type": "code",
   "execution_count": 14,
   "metadata": {
    "collapsed": true
   },
   "outputs": [],
   "source": [
    "import urllib.request\n",
    "from bs4 import *\n",
    "html=urllib.request.urlopen(\"http://trenesytiempos.blogspot.com.es/\").read()"
   ]
  },
  {
   "cell_type": "markdown",
   "metadata": {},
   "source": [
    "Vemos la estructura que tiene la página para ver dónde se encuentran las imágenes, y se observa que aparecen en etiquetas de anclaje que tienen entre sus atributos imageanchor=“1”.\n",
    "\n",
    "<a href=\"https://4.bp.blogspot.com/-jFeRNNxXIIk/WRbUurWfyHI/AAAAAAAAPFE/X8RtsF1f6p8RnC4ZMeMKJCDdP5d06pggACLcB/s1600/030-2569-70.jpg\n",
    "\n",
    "Se crea un árbol de procesamiento con BeautifulSoup y se recuperan todas las etiquetas con las características anteriores:"
   ]
  },
  {
   "cell_type": "code",
   "execution_count": 15,
   "metadata": {
    "collapsed": true
   },
   "outputs": [],
   "source": [
    "import urllib.request\n",
    "from bs4 import *\n",
    "html=urllib.request.urlopen(\"http://trenesytiempos.blogspot.com.es/\").read()\n",
    "soup=BeautifulSoup(html,\"html.parser\")\n",
    "etiquetas=soup('a',{\"imageanchor\":\"1\"})"
   ]
  },
  {
   "cell_type": "markdown",
   "metadata": {},
   "source": [
    "Recuperadas las direcciones se quieren almacenar las imágenes en el disco local, entonces para ello se usa un bucle for que recorre cada dirección, la abre y la almacena en un archivo distinto."
   ]
  },
  {
   "cell_type": "code",
   "execution_count": 17,
   "metadata": {
    "collapsed": false
   },
   "outputs": [],
   "source": [
    "j=0\n",
    "for i in etiquetas:\n",
    "    archivo=open(\"foto\"+str(j)+\".jpg\",\"wb\")\n",
    "    imagen=urllib.request.urlopen(i.get(\"href\",None))\n",
    "    while True:\n",
    "        info=imagen.read(100000)\n",
    "        if len(info)<1: \n",
    "            break\n",
    "        archivo.write(info)\n",
    "    archivo.close()\n",
    "    j=j+1"
   ]
  },
  {
   "cell_type": "markdown",
   "metadata": {},
   "source": [
    "El código completo sería:"
   ]
  },
  {
   "cell_type": "code",
   "execution_count": null,
   "metadata": {
    "collapsed": true
   },
   "outputs": [],
   "source": [
    "import urllib.request\n",
    "from bs4 import *\n",
    "html=urllib.request.urlopen(\"http://trenesytiempos.blogspot.com.es/\").read()\n",
    "soup=BeautifulSoup(html,\"html.parser\")\n",
    "etiquetas=soup('a',{\"imageanchor\":\"1\"})\n",
    "j=0\n",
    "for i in etiquetas:\n",
    "    archivo=open(\"foto\"+str(j)+\".jpg\",\"wb\")\n",
    "    imagen=urllib.request.urlopen(i.get(\"href\",None))\n",
    "    while True:\n",
    "        info=imagen.read(100000)\n",
    "        if len(info)<1: \n",
    "            break\n",
    "        archivo.write(info)\n",
    "    archivo.close()\n",
    "    j=j+1"
   ]
  },
  {
   "cell_type": "markdown",
   "metadata": {},
   "source": [
    "__Otras herramientas__\n",
    "\n",
    "La función open del módulo webbrowser de Python permite lanzar un navegador sobre una URL específica. Por ejemplo el siguiente trozo de código abriría un navegador con la página de la Facultad de Informática"
   ]
  },
  {
   "cell_type": "code",
   "execution_count": 19,
   "metadata": {
    "collapsed": false
   },
   "outputs": [
    {
     "data": {
      "text/plain": [
       "True"
      ]
     },
     "execution_count": 19,
     "metadata": {},
     "output_type": "execute_result"
    }
   ],
   "source": [
    "import webbrowser\n",
    "webbrowser.open(\"http://informatica.ucm.es\")"
   ]
  },
  {
   "cell_type": "markdown",
   "metadata": {},
   "source": [
    "Se va a considerar un programa que recupera del teclado una dirección y que permite buscar dicha dirección en Google Maps.Para ello en primer lugar observar que la url que se usa cuando se busca una dirección en Google Maps tiene la siguiente estructura:\n",
    "    https://www.google.com/maps/place/dirección-buscada\n",
    "    \n",
    "El programa debe recuperar de la línea de comandos la dirección . Para ello se usará el módulo sys que permite almacena en la variable sys.argv una lista con el nombre del programa y los argumentos pasados al programa en caso de tenerlos. Para saber si la lista incluye más elementos además del nombre del programa, se puede utilizar len(sys.argv) y comprobar que se evalúa a un número mayor que 1.\n",
    "\n",
    "Se tiene el siguiente código:"
   ]
  },
  {
   "cell_type": "raw",
   "metadata": {},
   "source": [
    "import sys\n",
    "if len(sys.argv)>1:\n",
    "    direccion=' '.join(sys.argv[1:])"
   ]
  },
  {
   "cell_type": "markdown",
   "metadata": {},
   "source": [
    "Observar que los argumentos en la línea de comandos en general se separan mediante espacios, sin embargo en este caso sería necesario interpretar todos los argumentos como una única cadena. Dado que sys.argv es una lista de cadenas, se puede utilizar el método join() que retorna una única cadena. Además como no interesa el nombre del programa, se puede eliminar el mismo si se selecciona la última parte de la lista con sys.argv[1:]\n",
    "\n",
    "Si en la línea de comandos no hay argumentos, se asumirá que la dirección se ha copiado. Para obtener el contenido de una copia se utiliza el método paste del módulo pyperclip"
   ]
  },
  {
   "cell_type": "raw",
   "metadata": {},
   "source": [
    "import sys, pyperclip\n",
    "if len(sys.argv)>1:\n",
    "    direccion=' '.join(sys.argv[1:])\n",
    "else:\n",
    "    direccion=pyperclip.paste()"
   ]
  },
  {
   "cell_type": "markdown",
   "metadata": {},
   "source": [
    "Por último para lanzar el navegador se utiliza el método open del módulo browser.\n"
   ]
  },
  {
   "cell_type": "raw",
   "metadata": {},
   "source": [
    "import sys, pyperclip, webbrowser\n",
    "if len(sys.argv)>1:\n",
    "    direccion=' '.join(sys.argv[1:])\n",
    "else:\n",
    "    direccion=pyperclip.paste()\n",
    "webbrowser.open(\"http://www.google.com/maps/place/\"+direccion)"
   ]
  },
  {
   "cell_type": "code",
   "execution_count": null,
   "metadata": {
    "collapsed": true
   },
   "outputs": [],
   "source": []
  }
 ],
 "metadata": {
  "kernelspec": {
   "display_name": "Python 3",
   "language": "python",
   "name": "python3"
  },
  "language_info": {
   "codemirror_mode": {
    "name": "ipython",
    "version": 3
   },
   "file_extension": ".py",
   "mimetype": "text/x-python",
   "name": "python",
   "nbconvert_exporter": "python",
   "pygments_lexer": "ipython3",
   "version": "3.6.0"
  }
 },
 "nbformat": 4,
 "nbformat_minor": 2
}
