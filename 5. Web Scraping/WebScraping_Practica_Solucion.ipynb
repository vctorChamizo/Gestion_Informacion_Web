{
 "cells": [
  {
   "cell_type": "code",
   "execution_count": 1,
   "metadata": {},
   "outputs": [],
   "source": [
    "import requests\n",
    "from IPython.display import clear_output\n",
    "import urllib.request\n",
    "import re\n",
    "import os\n",
    "import urllib\n",
    "from bs4 import BeautifulSoup\n",
    "import shutil"
   ]
  },
  {
   "cell_type": "code",
   "execution_count": 2,
   "metadata": {},
   "outputs": [],
   "source": [
    "class Cuadro:\n",
    "    def __init__(self, titulo, dimensiones, museo, fecha, pais, urlImagen):\n",
    "        self.titulo = titulo\n",
    "        self.dimensiones = dimensiones\n",
    "        self.museo = museo\n",
    "        self.fecha = fecha\n",
    "        self.pais = pais\n",
    "        self.urlImagen = urlImagen\n",
    "        \n",
    "    def __str__(self):\n",
    "        cadena = \"Titulo: \" + str(self.titulo) + \"\\n\"\n",
    "        cadena += \"Dimensiones: \" + str(self.dimensiones) + \"\\n\"\n",
    "        cadena += \"Museo: \" + str(self.museo) + \"\\n\"\n",
    "        cadena += \"Fecha: \" + str(self.fecha) + \"\\n\"\n",
    "        cadena += \"Pais: \" + str(self.pais) + \"\\n\"\n",
    "        cadena += \"----------------------------------\\n\"\n",
    "        \n",
    "        return cadena"
   ]
  },
  {
   "cell_type": "markdown",
   "metadata": {},
   "source": [
    "### Funciones para descargar y guardar las imágenes"
   ]
  },
  {
   "cell_type": "code",
   "execution_count": 3,
   "metadata": {},
   "outputs": [],
   "source": [
    "def guardarImagen(titulo, urlImagen):\n",
    "    archivo = open(\"imagenes/\" + titulo + \".jpg\",\"wb\")\n",
    "    imagen = urllib.request.urlopen(urlImagen)\n",
    "    while True:\n",
    "        info = imagen.read(100000)\n",
    "        if len(info) < 1: \n",
    "            break\n",
    "        archivo.write(info)\n",
    "    archivo.close()"
   ]
  },
  {
   "cell_type": "code",
   "execution_count": 4,
   "metadata": {},
   "outputs": [],
   "source": [
    "def crearCarpetaImagenes():\n",
    "    if os.path.exists(\"imagenes\"):\n",
    "        shutil.rmtree(\"imagenes\")\n",
    "    os.makedirs(\"imagenes\")"
   ]
  },
  {
   "cell_type": "markdown",
   "metadata": {},
   "source": [
    "### Funciones para parsear el html y para obtener los datos de todos los cuadros"
   ]
  },
  {
   "cell_type": "code",
   "execution_count": 5,
   "metadata": {},
   "outputs": [],
   "source": [
    "def leerHTML():\n",
    "    url = \"https://es.wikipedia.org/wiki/Anexo:Cuadros_de_Goya\"\n",
    "    html = urllib.request.urlopen(url).read()\n",
    "    soup = BeautifulSoup(html, 'html.parser')\n",
    "    \n",
    "    return soup"
   ]
  },
  {
   "cell_type": "code",
   "execution_count": 6,
   "metadata": {},
   "outputs": [],
   "source": [
    "def obtenerURLDeLaImagen(htmlImagen):\n",
    "    regex = 'src=\"(.*?)\"'\n",
    "    \n",
    "    resultado = re.search(regex, htmlImagen)\n",
    "    urlImagen = \"https:\" + resultado.groups()[0]\n",
    "    \n",
    "    return urlImagen"
   ]
  },
  {
   "cell_type": "code",
   "execution_count": 7,
   "metadata": {},
   "outputs": [],
   "source": [
    "def eliminarEtiquetaDeTitulo(titulo):\n",
    "    # Al capturar todos los titulos en algunos se quedan algunas etiquetas\n",
    "    # Este método la elimina\n",
    "    tituloSinEtiquetas = re.sub(\"<i>\", \"\", titulo)\n",
    "    tituloSinEtiquetas = re.sub(\"<\\/i>\", \"\", tituloSinEtiquetas)\n",
    "    tituloSinEtiquetas = re.sub(\"<br\\/>\", \"\", tituloSinEtiquetas)\n",
    "    tituloSinEtiquetas = re.sub(\"\\/\", \"\", tituloSinEtiquetas)\n",
    "    \n",
    "    return tituloSinEtiquetas"
   ]
  },
  {
   "cell_type": "code",
   "execution_count": 8,
   "metadata": {},
   "outputs": [],
   "source": [
    "def obtenerDatos(cuadro):\n",
    "    titulo = \"\"\n",
    "    fecha = \"\"\n",
    "    dimensiones = \"\"\n",
    "    museo = \"\"\n",
    "    pais = \"\"\n",
    "    urlImagen = \"\"\n",
    "    \n",
    "    regexImagen = \"<td>(.*)<\\/td>\\s?\"\n",
    "    regexTitulo = \"<td>(?:<i>)?(?: ?<a.*?>)?(.*?)(?:<a.*>)?(?:<\\/a>.*?)?(?:<\\/i>)?<\\/td>\\s?\"\n",
    "    regexFecha = \"<td>(?:.*?)?([0-9]{4}–?(?:[0-9]{4})?)(?:.*)?<\\/td>\\s?\"\n",
    "    regexDimensiones = \"<td>(?:<a .*?>)?(.*)<\\/td>\\s?\"\n",
    "    regexMuseo = \"<td>(?:<a.*?>)?(.*?)(?:<\\/a>.*?)?(?: ?\\(?<a.*?>\\))?(?:<br ?\\/>)?\\s?<\\/td>\\s?\"\n",
    "    regexPais = '(?:<td>(?:<span .*?>)?(?:<span .*?>)?(?:.*)?(?:title=\"(.*)\"))?'\n",
    "    \n",
    "    try:\n",
    "        resultado = re.search(regexImagen + regexTitulo + regexFecha + regexDimensiones + regexMuseo + regexPais, str(cuadro))\n",
    "        titulo = eliminarEtiquetaDeTitulo(resultado.groups()[1])\n",
    "        fecha = resultado.groups()[2]\n",
    "        dimensiones = resultado.groups()[3]\n",
    "        museo = resultado.groups()[4]\n",
    "        pais = resultado.groups()[5]\n",
    "        urlImagen = obtenerURLDeLaImagen(resultado.groups()[0])\n",
    "    except Exception as e:\n",
    "        pass\n",
    "    finally:\n",
    "        return titulo, dimensiones, museo, fecha, pais, urlImagen"
   ]
  },
  {
   "cell_type": "code",
   "execution_count": 9,
   "metadata": {},
   "outputs": [],
   "source": [
    "def agregarCuadroAlMapa(mapa, clave, valor):\n",
    "    if clave in mapa:\n",
    "        mapa[clave].append(valor)\n",
    "    else:\n",
    "        mapa[clave] = []\n",
    "        mapa[clave].append(valor)"
   ]
  },
  {
   "cell_type": "code",
   "execution_count": 10,
   "metadata": {},
   "outputs": [],
   "source": [
    "def obtenerTodosLosDatos(cuadrosDeLaTabla):\n",
    "    titulo = \"\"\n",
    "    fecha = \"\"\n",
    "    dimensiones = \"\"\n",
    "    museo = \"\"\n",
    "    pais = \"\"\n",
    "    \n",
    "    cuadros = []\n",
    "    paises = set()\n",
    "    museos = set()\n",
    "    cuadrosDeCadaMuseo = {}\n",
    "    cuadrosDeCadaPais = {}\n",
    "    \n",
    "    for cuadroDeLaTabla in cuadrosDeLaTabla:\n",
    "        titulo = \"\"\n",
    "        fecha = \"\"\n",
    "        dimensiones = \"\"\n",
    "        museo = \"\"\n",
    "        pais = \"\"\n",
    "        \n",
    "        titulo, dimensiones, museo, fecha, pais, urlImagen = obtenerDatos(cuadroDeLaTabla)\n",
    "        cuadro = Cuadro(titulo, dimensiones, museo, fecha, pais, urlImagen)\n",
    "        \n",
    "        cuadros.append(cuadro)\n",
    "        paises.add(pais)\n",
    "        museos.add(museo)\n",
    "        \n",
    "        agregarCuadroAlMapa(cuadrosDeCadaMuseo, museo, cuadro)\n",
    "        agregarCuadroAlMapa(cuadrosDeCadaPais, pais, cuadro)\n",
    "            \n",
    "    return cuadros, paises, museos, cuadrosDeCadaMuseo, cuadrosDeCadaPais"
   ]
  },
  {
   "cell_type": "code",
   "execution_count": 11,
   "metadata": {},
   "outputs": [],
   "source": [
    "def leerTodosLosCuadrosPaisesYMuseos():\n",
    "    soup = leerHTML()\n",
    "    \n",
    "    tablaDeCuadros = soup.find('table', {'class' : 'sortable wikitable'})\n",
    "    cuadrosDeLaTabla = tablaDeCuadros.findAll('tr')\n",
    "    return obtenerTodosLosDatos(cuadrosDeLaTabla)"
   ]
  },
  {
   "cell_type": "code",
   "execution_count": 12,
   "metadata": {},
   "outputs": [],
   "source": [
    "def eliminarPaisesMalLeidos(paises):\n",
    "    paises.remove(None)\n",
    "    paises.remove(\"Niemcy (aún no redactado)\")\n",
    "    paises.remove(\"Węgry (aún no redactado)\")\n",
    "    paises.remove(\"\")"
   ]
  },
  {
   "cell_type": "code",
   "execution_count": 13,
   "metadata": {},
   "outputs": [],
   "source": [
    "cuadros, paises, museos, cuadrosDeCadaMuseo, cuadrosDeCadaPais = leerTodosLosCuadrosPaisesYMuseos()\n",
    "eliminarPaisesMalLeidos(paises)\n",
    "museos.remove('')"
   ]
  },
  {
   "cell_type": "markdown",
   "metadata": {},
   "source": [
    "### Funciones de selección del tipo de búsqueda, del país y del museo"
   ]
  },
  {
   "cell_type": "code",
   "execution_count": 14,
   "metadata": {},
   "outputs": [],
   "source": [
    "def seleccionarTipoDeBusqueda():\n",
    "    print (\"1 - Búsqueda por país\")\n",
    "    print (\"2 - Búsqueda por museo\")\n",
    "\n",
    "    noValido = True\n",
    "\n",
    "    seleccion = input(\"\\nSeleccione una opción: \")\n",
    "\n",
    "    while noValido:\n",
    "        try:\n",
    "         \n",
    "            if int(seleccion) == 1 or int(seleccion) == 2:\n",
    "                noValido = False\n",
    "            else:\n",
    "                raise ValueError\n",
    "                \n",
    "        except ValueError:\n",
    "            seleccion = input(\"\\nERROR. No es un número, vuelva a introducir: \")\n",
    "        except IndexError:\n",
    "            seleccion = input(\"\\nERROR. Valor fuera de rango, vuelva a introducir: \")\n",
    "\n",
    "    print(\"\\nTipo de búsqueda seleccionada correctamente\")\n",
    "    return int(seleccion)"
   ]
  },
  {
   "cell_type": "code",
   "execution_count": 15,
   "metadata": {},
   "outputs": [],
   "source": [
    "def seleccionarPais(paises):\n",
    "    print (\"Lista de paises:\\n\")\n",
    "\n",
    "    indice = 1\n",
    "    for pais in paises:\n",
    "        print (\"%02d\" % (indice,) + \" - \" + str(pais))\n",
    "        indice += 1\n",
    "\n",
    "    noValido = True\n",
    "\n",
    "    seleccion = input(\"\\nSeleccione un pais: \")\n",
    "\n",
    "    while noValido:\n",
    "\n",
    "            try:\n",
    "                seleccion = int(seleccion)\n",
    "                paisSeleccionado = paises[seleccion - 1]\n",
    "                noValido = False\n",
    "\n",
    "            except ValueError:\n",
    "                seleccion = input(\"\\nERROR. No es un número, vuelva a introducir: \")\n",
    "            except IndexError:\n",
    "                seleccion = input(\"\\nERROR. Valor fuera de rango, vuelva a introducir: \")\n",
    "\n",
    "    print(\"\\nPais seleccionado correctamente\\n\")\n",
    "    return paisSeleccionado"
   ]
  },
  {
   "cell_type": "code",
   "execution_count": 16,
   "metadata": {},
   "outputs": [],
   "source": [
    "def seleccionarMuseo(museos):\n",
    "    print (\"Lista de museos:\\n\")\n",
    "\n",
    "    indice = 1\n",
    "    for museo in museos:\n",
    "        print (\"%02d\" % (indice,) + \" - \" + str(museo))\n",
    "        indice += 1\n",
    "\n",
    "    seleccion = input(\"\\nSeleccione un museo: \")\n",
    "    noValido = True\n",
    "\n",
    "    while noValido:\n",
    "\n",
    "            try:\n",
    "                seleccion = int(seleccion)\n",
    "                museoSeleccionado = museos[seleccion - 1]\n",
    "                noValido = False\n",
    "\n",
    "            except ValueError:\n",
    "                seleccion = input(\"\\nERROR. No es un número, vuelva a introducir: \")\n",
    "            except IndexError:\n",
    "                seleccion = input(\"\\nERROR. Valor fuera de rango, vuelva a introducir: \")\n",
    "\n",
    "    print(\"\\nMuseo seleccionado correctamente\\n\")\n",
    "    return museoSeleccionado"
   ]
  },
  {
   "cell_type": "markdown",
   "metadata": {},
   "source": [
    "### Selección del tipo de búsqueda, del país/museo y resultados"
   ]
  },
  {
   "cell_type": "code",
   "execution_count": 17,
   "metadata": {},
   "outputs": [],
   "source": [
    "def mostrarCuadros(cuadros):\n",
    "    clear_output()\n",
    "    crearCarpetaImagenes()\n",
    "    for cuadro in cuadros:\n",
    "        guardarImagen(cuadro.titulo, cuadro.urlImagen)\n",
    "        print (cuadro)"
   ]
  },
  {
   "cell_type": "code",
   "execution_count": 18,
   "metadata": {},
   "outputs": [
    {
     "name": "stdout",
     "output_type": "stream",
     "text": [
      "1 - Búsqueda por país\n",
      "2 - Búsqueda por museo\n",
      "\n",
      "Seleccione una opción: 1\n",
      "\n",
      "Tipo de búsqueda seleccionada correctamente\n"
     ]
    }
   ],
   "source": [
    "tipoDeBusquedaSeleccionada = seleccionarTipoDeBusqueda()"
   ]
  },
  {
   "cell_type": "code",
   "execution_count": 19,
   "metadata": {},
   "outputs": [
    {
     "name": "stdout",
     "output_type": "stream",
     "text": [
      "Titulo: María Teresa de Vallabriga\n",
      "Dimensiones: 151,2 x 97,8 cm\n",
      "Museo: Alte Pinakothek\n",
      "Fecha: 1783\n",
      "Pais: Alemania\n",
      "----------------------------------\n",
      "\n",
      "Titulo: Retrato de don José Queraltó\n",
      "Dimensiones: 102 × 76 cm\n",
      "Museo: Neue Pinakothek\n",
      "Fecha: 1802\n",
      "Pais: Alemania\n",
      "----------------------------------\n",
      "\n",
      "Titulo: Don Tomás Pérez de Estala\n",
      "Dimensiones: 102 × 79 cm\n",
      "Museo: Kunsthalle de Hamburgo\n",
      "Fecha: 1795\n",
      "Pais: Alemania\n",
      "----------------------------------\n",
      "\n",
      "Titulo: Pavo desplumado\n",
      "Dimensiones: 44,8 × 62,4 cm\n",
      "Museo: Neue Pinakothek\n",
      "Fecha: 1808\n",
      "Pais: Alemania\n",
      "----------------------------------\n",
      "\n",
      "Titulo: La Junta de Filipinas (boceto)\n",
      "Dimensiones: 54 × 70 cm\n",
      "Museo: Gemäldegalerie\n",
      "Fecha: 1815\n",
      "Pais: Alemania\n",
      "----------------------------------\n",
      "\n",
      "Titulo: Hombre comiendo puerros\n",
      "Dimensiones: 6,2 × 5,6 cm\n",
      "Museo: Gabinete de Grabados de Dresden\n",
      "Fecha: 1824–1825\n",
      "Pais: Alemania\n",
      "----------------------------------\n",
      "\n",
      "Titulo: Hombre espulgando a un pequeño perro\n",
      "Dimensiones: 8,9 × 8,5 cm\n",
      "Museo: Gabinete de Grabados de Dresden\n",
      "Fecha: 1824–1825\n",
      "Pais: Alemania\n",
      "----------------------------------\n",
      "\n"
     ]
    }
   ],
   "source": [
    "paisSeleccionado = \"\"\n",
    "museoSeleccionado = \"\"\n",
    "\n",
    "if tipoDeBusquedaSeleccionada == 1:\n",
    "    paisSeleccionado = seleccionarPais(list(paises))\n",
    "    mostrarCuadros(cuadrosDeCadaPais[paisSeleccionado])\n",
    "else:\n",
    "    museoSeleccionado = seleccionarMuseo(list(museos))\n",
    "    mostrarCuadros(cuadrosDeCadaMuseo[museoSeleccionado])"
   ]
  }
 ],
 "metadata": {
  "kernelspec": {
   "display_name": "Python 3",
   "language": "python",
   "name": "python3"
  },
  "language_info": {
   "codemirror_mode": {
    "name": "ipython",
    "version": 3
   },
   "file_extension": ".py",
   "mimetype": "text/x-python",
   "name": "python",
   "nbconvert_exporter": "python",
   "pygments_lexer": "ipython3",
   "version": "3.7.0"
  }
 },
 "nbformat": 4,
 "nbformat_minor": 2
}
