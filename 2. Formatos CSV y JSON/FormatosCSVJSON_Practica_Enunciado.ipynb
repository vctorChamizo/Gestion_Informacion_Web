{
 "cells": [
  {
   "cell_type": "markdown",
   "metadata": {},
   "source": [
    "### Práctica de Formatos de datos: CSV y JSON"
   ]
  },
  {
   "cell_type": "markdown",
   "metadata": {},
   "source": [
    "#### Ejercicio 1[5 puntos]\n",
    "Considerar el archivo __Agenda.csv__ que contiene una relación de actividades de carácter cultural y de ocio, que se van a celebrar en los próximos 100 días y que se están celebrando en centros Municipales. \n",
    "\n",
    "Se pide crear un programa que permita realizar búsquedas sobre los datos incluidos en el documento. Para ello, se le preguntarán al usuario diversas preguntas que configurarán la consulta a realizar:\n",
    "* Primera pregunta. Distrito. Debe listar el conjunto de distritos que contiene el documento __[Campo Distrito]__, y el usuario deberá elegir uno de ellos. Se puede asignar un número o letra a cada distrito de manera que el usuario introduzca únicamente el número o letra seleccionado.\n",
    "\n",
    "* Segunda pregunta. Actividad. Debe listar el conjunto de tipos de actividades __[Campo Tipo]__, y el usuario deberá elegir uno de ellos. Se puede asignar un número o letra a cada tipo de actividad de manera que el usuario introduzca únicamente el número o letra seleccionado. Observar que para mostrar el tipo de actividad, hay que tratar el valor que aparece en el campo, de manera que se elimine la parte inicial de la cadena \"/contenido/actividades/\"\n",
    "\n",
    "* Tercera pregunta. Audiencia. Debe listar el conjunto de tipos de audiencia __[Campo Audiencia]__, y el usuario deberá elegir uno de ellos. Se puede asignar un número o letra a cada tipo de audiencia de manera que el usuario introduzca únicamente el número o letra seleccionado. Observar que para mostrar el tipo de audiencia, hay que tratar el valor que aparece en el campo, de manera que se elimine las apariciones de \"/usuario/\". Así mismo, hay casos en los que no existe una audiencia. En esos casos, cuando se realice una búsqueda, no será un campo de restricción, es decir que podrá aparecer como respuesta en las consultas si cumple los dos primeros criterios.\n",
    "\n",
    "* Cuarta pregunta. Horario. Se listará un conjunto de horarios en forma de intervalos de una hora. Por ejemplo 00:00-01:00,01:00-02:00..., 23:00-23:59. Se puede asignar un número o letra a cada tipo de audiencia de manera que el usuario introduzca únicamente el número o letra seleccionado. Estos intervalos no se obtienen del documento.\n",
    "\n",
    "Como resultado el programa deberá mostrar por pantalla información de las actividades que cumplen las respuestas introducidas. Concretamente:\n",
    "\n",
    "* Si no existe ningún evento con las condiciones indicadas entonces se mostrará el mensaje: \"No existe ningún evento con las condiciones indicadas\".\n",
    "\n",
    "* Si existen eventos que coinciden con las condiciones dadas, entonces por cada evento se debe mostrar por pantalla.\n",
    "  \n",
    "  1. Título.\n",
    "  \n",
    "  2. Fecha de inicio-Fecha de finalización.\n",
    "  \n",
    "  3. Días de la semana.\n",
    "  \n",
    "  4. Días excluidos.\n",
    "  \n",
    "  5. Hora.\n",
    "  \n",
    "  6. Descripción.\n",
    "  \n",
    "  7. Nombre de instalación.\n",
    "  \n",
    "  8. Tipo de actividad.\n",
    "  \n",
    "  9. Audiencia.\n",
    "\n",
    "* Generar un documento salida.csv con los resultados obtenidos."
   ]
  },
  {
   "cell_type": "markdown",
   "metadata": {},
   "source": [
    "Para leer los archivos usa un código como el siguiente:"
   ]
  },
  {
   "cell_type": "code",
   "execution_count": null,
   "metadata": {},
   "outputs": [],
   "source": [
    "import csv\n",
    "csvarchivo = open('Agenda.csv',encoding=\"utf8\",errors='ignore')\n",
    "entrada = csv.reader(csvarchivo, delimiter=\";\")\n",
    "for i in entrada:\n",
    "    print(i)"
   ]
  },
  {
   "cell_type": "markdown",
   "metadata": {},
   "source": [
    "#### Ejercicio 2[3.5 puntos]\n",
    "Considerar el archivo __CentrosCulturas.json__ que incluye información sobre Centros Culturales, Socioculturales y Juveniles del Ayuntamiento de Madrid (incluídos aquellos en los que el Ayuntamiento es miembro del consorcio titular). También están incluidas las Salas de Estudio y Lectura. El fichero contiene los datos de localización (dirección, distrito y barrio), contacto, horario, servicios y actividades tipo que se pueden celebrar.\n",
    "\n",
    "El objetivo de este ejercicio es completar el ejercicio 1 para añadir información del centro cultural donde se realizan las actividades seleccionadas. Esta información se obtendrá del archivo __CentrosCulturales.json__.En este sentido, la modificación que se pide es añadir a la información que aparece en la pantalla sobre los eventos, información sobre el centro cultural: calle __[campo [address][street-address]]__, distrito postal __[campo [address][postal-code]]__,descripción del lugar __[ campo [organization][organization-desc]]__, accesibilidad __[ campo [organization][accesibility]]__ y servicios __[ campo [organization][services]]__."
   ]
  },
  {
   "cell_type": "markdown",
   "metadata": {},
   "source": [
    "Para leer los archivos usa un código como el siguiente:"
   ]
  },
  {
   "cell_type": "code",
   "execution_count": null,
   "metadata": {},
   "outputs": [],
   "source": [
    "import json\n",
    "leer = json.loads(open('CentrosCulturales.json',encoding=\"utf8\").read())"
   ]
  },
  {
   "cell_type": "markdown",
   "metadata": {},
   "source": [
    "#### Ejercicio 2[1.5 puntos]\n",
    "El objetivo de este ejercicio es completar el ejercicio 1 para mejorar la búsqueda realizada. En este sentido, habría que añadir una nueva pregunta:\n",
    "* Quinta pregunta. Distancia. Se preguntará al usuario que introduzca una longitud, una latitud y un número real que representa una distancia en kilometros. Así, el programa además de seleccionar por los criterios anteriores, tendrá en cuenta la distancia entre el lugar de realización del evento y la localización introducida, de manera que si esta distancia es mayor que la distancia introducida por el usuario, entonces el evento no se mostrará. \n",
    "\n",
    "Otro cambio que habrá que hacer es mostrar en los eventos resultantes un campo de información sobre la distancia cálculada.\n",
    "  \n",
    "La información sobre la localización en términos de latitud y longitud del centro cultural se puede obtener tanto en el archivo __CentrosCulturales.json__ o __Agenda.json__. Por otro lado para calcular la distancia entre dos puntos dadas sus coordenadas se utilizará la siguiente función en Python:"
   ]
  },
  {
   "cell_type": "raw",
   "metadata": {},
   "source": [
    "import math\n",
    "\n",
    "def haversine(lat1, lon1, lat2, lon2):\n",
    "    rad=math.pi/180\n",
    "    dlat=lat2-lat1\n",
    "    dlon=lon2-lon1\n",
    "    R=6372.795477598\n",
    "    a=(math.sin(rad*dlat/2))**2 + math.cos(rad*lat1)*math.cos(rad*lat2)*(math.sin(rad*dlon/2))**2\n",
    "    distancia=2*R*math.asin(math.sqrt(a))\n",
    "    return distancia"
   ]
  },
  {
   "cell_type": "markdown",
   "metadata": {},
   "source": [
    "#### Normas de entrega\n",
    "\n",
    "* Fecha tope de entrega: 11/10/2018\n",
    "* La entrega se realizará subiendo al campus virtual un notebook de Jupyter con la solución. El archivo tendrá como nombre FormatosI_GrupoX donde X será el número de grupo correspondiente."
   ]
  }
 ],
 "metadata": {
  "kernelspec": {
   "display_name": "Python 3",
   "language": "python",
   "name": "python3"
  },
  "language_info": {
   "codemirror_mode": {
    "name": "ipython",
    "version": 3
   },
   "file_extension": ".py",
   "mimetype": "text/x-python",
   "name": "python",
   "nbconvert_exporter": "python",
   "pygments_lexer": "ipython3",
   "version": "3.6.4"
  }
 },
 "nbformat": 4,
 "nbformat_minor": 2
}
