{
 "cells": [
  {
   "cell_type": "markdown",
   "metadata": {},
   "source": [
    "### Práctica de Formatos de datos: XML"
   ]
  },
  {
   "cell_type": "markdown",
   "metadata": {},
   "source": [
    "El objetivo de esta práctica es crear una aplicación simple para llegar determinados edificios monumentales de Madrid. Para ello se van a utilizar dos APIS diferentes ofrecidas por el portal de datos abiertos del ayuntamiento de Madrid.\n",
    "\n",
    "En primer lugar se va a usar el catálogo \"Edificios de carácter monumental\". Este catálogo ofrece una relación de edificios artísticos de la ciudad de Madrid, con datos de dirección y de localización para georeferenciarlos. No se trata de una relación exhaustiva, sino de aquellos monumentos y edificios de los cuales ya figura información en la web municipal. El siguiente trozo de código permite recuperar el archivo xml en cuestion, y lo almacena en disco."
   ]
  },
  {
   "cell_type": "code",
   "execution_count": 9,
   "metadata": {},
   "outputs": [],
   "source": [
    "import urllib.request\n",
    "x = urllib.request.urlopen('https://datos.madrid.es/egob/catalogo/208844-0-monumentos-edificios.xml')\n",
    "a=x.read()\n",
    "a=a.decode(\"utf-8\")\n",
    "prueba=open(\"catalogo.xml\",\"w\")\n",
    "prueba.write(str(a))\n",
    "prueba.close()"
   ]
  },
  {
   "cell_type": "markdown",
   "metadata": {},
   "source": [
    "__[Ejercicio 1 [3 puntos]]__\n",
    "\n",
    "Se pide mostrar al usuario un listado de los nombres de los monumentos que contiene el archivo con el objetivo de que elija uno de los monumentos. Para facilitar la selección del monumento se puede asignar a cada monumento un número. Fíjate que el nombre que se quiere recuperar es aquel que aparece dentro de las etiquetas <atributo nombre=\"NOMBRE\">. Por ejemplo en el caso del \"Banco de España\" sería:\n",
    "    \n",
    "    <contenido>\n",
    "        <tipo>EntidadesYOrganismos</tipo>\n",
    "        <atributos idioma=\"es\">\n",
    "            <atributo nombre=\"ID-ENTIDAD\">13947</atributo>\n",
    "            <atributo nombre=\"NOMBRE\">Banco de España</atributo>\n",
    "            \n",
    "A continuación se le mostrará por pantalla toda la información acerca del monumento de una manera amigable (es decir sin etiquetas)."
   ]
  },
  {
   "cell_type": "markdown",
   "metadata": {},
   "source": [
    "Para la segund parte se va a utilizar la API de la __EMT__. La __EMT__ dispone de un portal de datos abiertos que se puede encontrar en la página http://opendata.emtmadrid.es/Home. El objetivo del mismo es ofrecer diferentes tipos de datos sobre la actividad de los autobuses de la EMT. El acceso a los datos se realiza a través de una API de servicios web. \n",
    "\n",
    "Para poder utilizar la API de servicios, en primer lugar hay que registrarse, lo cual puede hacerse en la página http://opendata.emtmadrid.es/Formulario. El registro devuelve como resultado en un mensaje electrónico, dos valores:\n",
    "\n",
    "* Id de cliente: Identificador de cliente\n",
    "\n",
    "* Pass Key: Password\n",
    "\n",
    "A continuación, hay que elegir el servicio que se quiere utilizar. Hay 4 servicios definidos: BUS, GEO, MEDIA, INFOPARKING y BICIMAD. Cada servicio tiene asociado un conjunto de métodos que al invocarlos, devuelven un resultado. Por ejemplo, el servicio BUS dispone del servicio __\"GetRouteLines\"__ que obtiene el itinerario de una línea (o varias líneas separadas por el carácter pipe(|)), con los vértices para construir las rectas del recorrido y las coordenadas UTM de los ejes viales y los códigos de parada. Si se quiere invocar desde Python, se puede hacer usando el siguiente código:"
   ]
  },
  {
   "cell_type": "raw",
   "metadata": {},
   "source": [
    "import requests\n",
    "datos = {\n",
    "    'idClient':'Identificador de cliente',\n",
    "    'PassKey':'Password',\n",
    "    'SelectDate': '27/10/2017',\n",
    "    'Lines':'27'\n",
    "}\n",
    " \n",
    "url = 'https://servicios.emtmadrid.es:8443/bus/servicebus.asmx/GetRouteLines'\n",
    "response = requests.post(url, data=datos)\n",
    "print(response.text)"
   ]
  },
  {
   "cell_type": "markdown",
   "metadata": {},
   "source": [
    "En esta práctica se va a trabajar con varios métodos:\n",
    "\n",
    "* Método __'GetStreet'__ del servicio GEO. Este método obtiene una lista de emplazamientos EMT coincidentes con una localización. Cada emplazamiento está compuesto por una lista de paradas EMT situadas dentro de un radio predefinido con todos sus atributos, así como las líneas EMT que pasan por cada parada de la lista. En el documento __Servicios_GEO.pdf__ adjunto a esta práctica, se explica con detalle los parámetros de entrada y el resultado que devuelve este método. El método se puede invocar indicando al menos el nombre de la calle y el número:"
   ]
  },
  {
   "cell_type": "raw",
   "metadata": {},
   "source": [
    "import requests\n",
    "datos = {\n",
    "    'idClient':'Identificador de cliente',\n",
    "    'PassKey':'Password',\n",
    "    'description': 'Profesor José García Santesmases',\n",
    "    'streetNumber':'9',\n",
    "    'Radius':'',\n",
    "    'Stops':'',\n",
    "    'statistics':'',\n",
    "    'cultureInfo':''\n",
    "}\n",
    " \n",
    "url = 'https://servicios.emtmadrid.es:8443/geo/servicegeo.asmx/GetStreet'\n",
    "response = requests.post(url, data=datos)\n",
    "print(response.text)"
   ]
  },
  {
   "cell_type": "markdown",
   "metadata": {},
   "source": [
    "El método devuelve un documento XML. Entre los elementos del documento, se encuentran las coordenadas X e Y del lugar buscado. En la búsqueda del ejemplo, la calle búscada tiene como coordenadas UTM X e Y:"
   ]
  },
  {
   "cell_type": "raw",
   "metadata": {},
   "source": [
    "    <CoordinateX>-3.73379031085432</CoordinateX>\n",
    "    <CoordinateY>40.4530280706993</CoordinateY>"
   ]
  },
  {
   "cell_type": "markdown",
   "metadata": {},
   "source": [
    "* Método __'GetStreetRoute'__ del servicio MEDIA. Este método obtiene hasta tres rutas óptimas para ir de un sitio a otro a pie y en autobús. En el documento __Servicios_MEDIA.pdf__ adjunto a esta práctica, se explica con detalle los parámetros de entrada y el resultado que devuelve este método. El método se puede invocar indicando los siguientes parámetros\n",
    "\n",
    "  * idClient: Código de cliente autorizado para la operación y suministrado por EMT.\n",
    "\n",
    "  * passKey: Código de clave asociado al cliente.\n",
    "\n",
    "  * coordinateXFrom: Campo para identificar la posición \"x\" del origen de la ruta a consultar. \n",
    "  \n",
    "  * coordinateYFrom: Campo para identificar la posición \"y\" del origen de la ruta a consultar.\n",
    "\n",
    "  * coordinateXTo: Campo para identificar la posición \"x\" del destino de la ruta a consultar. \n",
    "  \n",
    "  * coordinateYTo: Campo para identificar la posición \"y\" del destino de la ruta a consultar. \n",
    "\n",
    "  * criteriaSelection: Campo que indica el criterio de la búsqueda. Los valores son:\n",
    "  \n",
    "       * 11 - Mínimo tiempo de trayecto\n",
    "    \n",
    "       * 13 - Mínimos trasbordos\n",
    "    \n",
    "       * 14 - Mínimo recorrido a pie"
   ]
  },
  {
   "cell_type": "raw",
   "metadata": {},
   "source": [
    "import requests\n",
    "datos = {\n",
    "    'idClient':'Identificador de cliente',\n",
    "    'PassKey':'Password',\n",
    "    'statistics':'',\n",
    "    'cultureInfo':'',\n",
    "    'coordinateXFrom': '-3,63271713087776',\n",
    "    'coordinateYFrom':'40,4543980802915',\n",
    "    'originName':'',\n",
    "    'coordinateXTo': '-3.7013019',\n",
    "    'coordinateYTo':'40.4176416',\n",
    "    'destinationName':'',\n",
    "    'criteriaSelection':'13',\n",
    "    'day':'',\n",
    "    'month':'',\n",
    "    'year':'',\n",
    "    'hour':'',\n",
    "    'minute':'',\n",
    "    'GenerarAudio':''\n",
    "}\n",
    " \n",
    "url = 'https://servicios.emtmadrid.es:8443/servicemedia/servicemedia.asmx/GetStreetRoute'\n",
    "response = requests.post(url, data=datos)\n",
    "print(response.text)"
   ]
  },
  {
   "cell_type": "markdown",
   "metadata": {},
   "source": [
    "El método devuelve un documento XML que contiene información sobre las rutas óptimas (se explica con detalle en el documento __Servicios_MEDIA.pdf__). En particular muestra la siguiente información:\n",
    "\n",
    "* El elemento __DescriptionRouteData__ donde aparece la siguiente información:\n",
    "\n",
    "  * DescriptionDate: Fecha de la ruta.\n",
    "  * DescriptionInitTime: Descripción de hora de inicio de la ruta.\n",
    "  * DescriptionEstimateTimeArrival: Descripción de la hora estimada de llegada.\n",
    "  * Transfers: Trasbordos.\n",
    "  * LongJourney: Duración del viaje.\n",
    "\n",
    "* El elemento __ListSectionRoute__ aparece una lista de subelementos __Section__.Cada uno de ellos, describe parcialmente una parte de la ruta. En un caso ideal, aparecerá un subelemento de __Section__ de tipo __WalkingLeg__  que describe el inicio de la ruta andando, a continuación un conjunto de subelementos de __Section__ de tipo __BusLeg__ que describen cada uno de ellos la ruta en una línea de autobus que forma parte de la ruta buscada, y por último otro subelemento de __Section__ de tipo __WalkingLeg__  que describe el final de la ruta andando.\n",
    "\n",
    "* El elemento __POI__ que muestra información sobre puntos de interés que se encuentran a lo largo de la ruta."
   ]
  },
  {
   "cell_type": "markdown",
   "metadata": {},
   "source": [
    "Se pide:\n",
    "\n",
    " __[Ejercicio 2 [2 puntos]]__\n",
    "\n",
    "Crear una función que dada una calle de Madrid, devuelva las coordenadas X e Y de la calle.\n",
    "\n",
    " __[Ejercicio 3 [5 puntos]]__\n",
    "\n",
    "Usando la función anterior completa el ejercicio 1. Para ello, se pide crear una función que solicite al usuario una calle de Madrid y obtenga la ruta más óptima para ir desde esa calle al monumento seleccionado por el usuario usando autobuses de la EMT. La función deberá imprimir por pantalla, la siguiente información:\n",
    "\n",
    " * Fecha de la ruta.\n",
    " \n",
    " * Hora de inicio de la ruta.\n",
    " \n",
    " * Hora estimada de llegada\n",
    " \n",
    " * Número de trasbordos.\n",
    " \n",
    " * Duración del viaje.\n",
    " \n",
    " * Descripción textual de la ruta.\n",
    " \n",
    " Usando el ejemplo de salida sería:\n",
    " \n",
    " * Fecha de la ruta: 26/10/2017\n",
    " \n",
    " * Hora de inicio de la ruta: 03:55\n",
    " \n",
    " * Hora estimada de llegada: 05:28\n",
    " \n",
    " * Número de trasbordos: 1\n",
    " \n",
    " * Duración del viaje: 93\n",
    " \n",
    " * Descripción textual de la ruta:\n",
    " \n",
    "     * Caminar 42' hasta parada 3125 - EMILIO VARGAS-ARTURO SORIA, linea N4\n",
    "     \n",
    "     * 28' en autobús (línea N4) hasta parada 449 - SERRANO-ORTEGA Y GASSET\n",
    "     \n",
    "     * Desde parada 449 caminar 5' hasta parada 61 - Castellana-Ministerio Interior, linea N25\n",
    " \n",
    "     * 15' en autobús (línea N25) hasta parada 3691 - SOL-SEVILLA\n",
    "\n",
    "     * Desde parada 3691 caminar 3'  \n",
    "\n",
    "#### Normas de entrega\n",
    "\n",
    "* Fecha tope de entrega: 18/10/2018\n",
    "* La entrega se realizará subiendo al campus virtual un notebook de Jupyter con la solución. El archivo tendrá como nombre FormatosII_GrupoX donde X será el número de grupo correspondiente."
   ]
  },
  {
   "cell_type": "code",
   "execution_count": null,
   "metadata": {
    "collapsed": true
   },
   "outputs": [],
   "source": []
  }
 ],
 "metadata": {
  "kernelspec": {
   "display_name": "Python 3",
   "language": "python",
   "name": "python3"
  },
  "language_info": {
   "codemirror_mode": {
    "name": "ipython",
    "version": 3
   },
   "file_extension": ".py",
   "mimetype": "text/x-python",
   "name": "python",
   "nbconvert_exporter": "python",
   "pygments_lexer": "ipython3",
   "version": "3.6.4"
  }
 },
 "nbformat": 4,
 "nbformat_minor": 2
}
